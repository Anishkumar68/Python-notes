{
  "cells": [
    {
      "cell_type": "code",
      "execution_count": null,
      "metadata": {
        "id": "important-resistance"
      },
      "outputs": [],
      "source": [
        "#control statement are statements which control or change the flow of execution \n",
        "#if statement, elif , else, while , for \n",
        "\n",
        "        "
      ],
      "id": "important-resistance"
    },
    {
      "cell_type": "code",
      "execution_count": null,
      "metadata": {
        "id": "DMBoP10PHbVh"
      },
      "outputs": [],
      "source": [
        "# if statement - it is a control that's changes the flow of execution. and it returns True/False. \n",
        "\n",
        "# if (condition1) ...:\n",
        "#    statement1\n",
        "#    statement2"
      ],
      "id": "DMBoP10PHbVh"
    },
    {
      "cell_type": "code",
      "source": [
        "num =10 \n",
        "\n",
        "if num > 0:\n",
        "  print(num,' is a Positive Number ')\n",
        "  print(\"This is our Python class\")\n",
        "  print(\"This is Part of if block \") \n",
        "\n",
        "  print(\"This is our classes\")\n",
        "\n",
        "else:\n",
        "  print(num, \" is Negative Number \")\n",
        "  print(\"This is the else\")  \n",
        "\n",
        "print(\"This is outside of if block \")  "
      ],
      "metadata": {
        "colab": {
          "base_uri": "https://localhost:8080/"
        },
        "id": "CgRZs1-zzTkn",
        "outputId": "3a2a232a-77e8-4dc6-9271-11927dcd25c7"
      },
      "id": "CgRZs1-zzTkn",
      "execution_count": null,
      "outputs": [
        {
          "output_type": "stream",
          "name": "stdout",
          "text": [
            "10  is a Positive Number \n",
            "This is our Python class\n",
            "This is Part of if block \n",
            "This is our classes\n",
            "This is outside of if block \n"
          ]
        }
      ]
    },
    {
      "cell_type": "code",
      "source": [
        "num = int(input(\"Enter a number to even-check:- \"))\n",
        "\n",
        "if num % 2 == 0:\n",
        "  print(num,\" is a Even Number \") \n",
        "\n",
        "else:\n",
        "  print(num,\" is a odd Number \")  "
      ],
      "metadata": {
        "colab": {
          "base_uri": "https://localhost:8080/"
        },
        "id": "jaT0_diYzTzA",
        "outputId": "578dadad-5a38-4f80-8f7f-5fefcf6aeba5"
      },
      "id": "jaT0_diYzTzA",
      "execution_count": null,
      "outputs": [
        {
          "output_type": "stream",
          "name": "stdout",
          "text": [
            "Enter a number to even-check:- 13\n",
            "13  is a odd Number \n"
          ]
        }
      ]
    },
    {
      "cell_type": "code",
      "source": [
        "num = int(input(\"Dear User Enter a number :- \"))\n",
        "\n",
        "if num < 0:\n",
        "  print(num,' is a Negative Number ')\n",
        "\n",
        "\n",
        "elif num >=0 and num <=10:\n",
        "  print('This Number lies between 0 to 10') \n",
        "\n",
        "elif num >10 and num <=20:\n",
        "  print(\"This number lies between 10 to 20\")\n",
        "\n",
        "else:\n",
        "  print(\"Greater than 20  \")    "
      ],
      "metadata": {
        "colab": {
          "base_uri": "https://localhost:8080/"
        },
        "id": "Bft2wrxQzUBi",
        "outputId": "d735c5a2-04f6-464c-c8a9-e545e202c296"
      },
      "id": "Bft2wrxQzUBi",
      "execution_count": null,
      "outputs": [
        {
          "output_type": "stream",
          "name": "stdout",
          "text": [
            "Dear User Enter a number :- 50\n",
            "Greater than 20  \n"
          ]
        }
      ]
    },
    {
      "cell_type": "code",
      "source": [
        "name = input(\"Dear user Enter your Name :- \")\n",
        "\n",
        "\n",
        "if len(name) == 3:\n",
        "  print(f\"Dear {name}, your name is really nice \")\n",
        "\n",
        "elif len(name)>3 and len(name)<=5:\n",
        "  print(f\"Dear {name}, your name is also good \")\n",
        "\n",
        "else:\n",
        "  print(f\"Dear {name}, your name is too much long \") "
      ],
      "metadata": {
        "colab": {
          "base_uri": "https://localhost:8080/"
        },
        "id": "ampXG_QEzRne",
        "outputId": "0556b0e4-ecec-41af-c5ad-6e76763f5d84"
      },
      "id": "ampXG_QEzRne",
      "execution_count": null,
      "outputs": [
        {
          "output_type": "stream",
          "name": "stdout",
          "text": [
            "Dear user Enter your Name :- john\n",
            "Dear john, your name is also good \n"
          ]
        }
      ]
    },
    {
      "cell_type": "code",
      "source": [
        "name = input(\"Dear user Enter your Name :- \")\n",
        "ch = input(f'Dear {name}, which character you want to search :-')\n",
        "\n",
        "if name.count(ch) == 1:\n",
        "  print(f\"Dear {name}, {ch} exists only one time in your Name \") \n",
        "\n",
        "elif name.count(ch) == 2:  \n",
        "  print(f\"Dear {name}, {ch} exists only tWO time in your Name \") \n",
        "\n",
        "elif name.count(ch) == 3:\n",
        "  print(f\"Dear {name}, {ch} exists Multiple time  in your Name \")\n",
        "  dec = input(f\"Dear {name}, if you want we recomend you name (y/n):-\")\n",
        "  if dec == 'y' or dec == 'Y':\n",
        "    print(\"What about Mohan sohan Rohan shyam \")\n",
        "  else:\n",
        "    print(\"Thanks for visit Again\")  "
      ],
      "metadata": {
        "id": "hmJgcdrfzR4e",
        "colab": {
          "base_uri": "https://localhost:8080/"
        },
        "outputId": "86571dd1-df33-4efb-a95b-9e8c2965d739"
      },
      "id": "hmJgcdrfzR4e",
      "execution_count": null,
      "outputs": [
        {
          "output_type": "stream",
          "name": "stdout",
          "text": [
            "Dear user Enter your Name :- johnsmith\n",
            "Dear johnsmith, which character you want to search :-h\n",
            "Dear johnsmith, h exists only tWO time in your Name \n"
          ]
        }
      ]
    },
    {
      "cell_type": "code",
      "source": [],
      "metadata": {
        "id": "0CemdjzG1Sjp"
      },
      "id": "0CemdjzG1Sjp",
      "execution_count": null,
      "outputs": []
    },
    {
      "cell_type": "code",
      "source": [],
      "metadata": {
        "id": "sxtXz0UK1SxX"
      },
      "id": "sxtXz0UK1SxX",
      "execution_count": null,
      "outputs": []
    },
    {
      "cell_type": "code",
      "source": [],
      "metadata": {
        "id": "0omF8nHh1TjJ"
      },
      "id": "0omF8nHh1TjJ",
      "execution_count": null,
      "outputs": []
    },
    {
      "cell_type": "code",
      "source": [],
      "metadata": {
        "id": "8YuRJJNd1Twz"
      },
      "id": "8YuRJJNd1Twz",
      "execution_count": null,
      "outputs": []
    },
    {
      "cell_type": "code",
      "source": [
        "name = input(\"Dear User, Please Enter your Name :- \")\n",
        "ch = input(f\"Dear {name}, Which character you want to search :- \")\n",
        "\n",
        "if name.count(ch) == 0:\n",
        "  print(f\"Dear {name}, {ch} does not Exists in your Name \") \n",
        "\n",
        "elif name.count(ch) == 1:\n",
        "  print(f\"Dear {name}, {ch} Exists only one time in your Name \") \n",
        "\n",
        "elif name.count(ch) == 2:\n",
        "  print(f\"Dear {name}, {ch} Exists only Two times in your Name \") \n",
        "\n",
        "else:\n",
        "  print(f\"Dear {name}, {ch} Exists Multiple time in your Name \")  \n",
        "  dec = input(f'Dear {name}, if you want then we recomend name (y/n):- ')\n",
        "  if dec == 'y' or 'Y':\n",
        "    print('What about rishabh, ajit, sachin ')\n",
        "  else:\n",
        "    print(\"Thanks for visiting \")\n"
      ],
      "metadata": {
        "colab": {
          "base_uri": "https://localhost:8080/"
        },
        "id": "v7BhKHwM1UDA",
        "outputId": "0c874e7e-fad2-4e7c-dbdb-60cb599fb8d9"
      },
      "id": "v7BhKHwM1UDA",
      "execution_count": null,
      "outputs": [
        {
          "output_type": "stream",
          "name": "stdout",
          "text": [
            "Dear User, Please Enter your Name :- john\n",
            "Dear john, Which character you want to search :- z\n",
            "Dear john, z does not Exists in your Name \n"
          ]
        }
      ]
    },
    {
      "cell_type": "code",
      "source": [
        "# while \n",
        "# while condition1......:\n",
        "    statement1\n",
        "    .....\n",
        "    ...."
      ],
      "metadata": {
        "id": "ujcuHQJu1USL"
      },
      "id": "ujcuHQJu1USL",
      "execution_count": null,
      "outputs": []
    },
    {
      "cell_type": "code",
      "source": [
        "num =1\n",
        "\n",
        "while num<=10:\n",
        "  print(num, \"Ram\")\n",
        "  num += 2"
      ],
      "metadata": {
        "colab": {
          "base_uri": "https://localhost:8080/"
        },
        "id": "irN3ChfB5fHF",
        "outputId": "a9ad5475-f4af-4a87-bbbf-b8b32b6d59e7"
      },
      "id": "irN3ChfB5fHF",
      "execution_count": null,
      "outputs": [
        {
          "output_type": "stream",
          "name": "stdout",
          "text": [
            "1 Ram\n",
            "3 Ram\n",
            "5 Ram\n",
            "7 Ram\n",
            "9 Ram\n"
          ]
        }
      ]
    },
    {
      "cell_type": "code",
      "source": [
        "num=10 \n",
        "\n",
        "while num <=50:\n",
        "  print(num)\n",
        "  num+=2"
      ],
      "metadata": {
        "colab": {
          "base_uri": "https://localhost:8080/"
        },
        "id": "qovTTqFA5fWL",
        "outputId": "97950b89-19be-4ff0-f3d8-f3c045d5526f"
      },
      "id": "qovTTqFA5fWL",
      "execution_count": null,
      "outputs": [
        {
          "output_type": "stream",
          "name": "stdout",
          "text": [
            "10\n",
            "12\n",
            "14\n",
            "16\n",
            "18\n",
            "20\n",
            "22\n",
            "24\n",
            "26\n",
            "28\n",
            "30\n",
            "32\n",
            "34\n",
            "36\n",
            "38\n",
            "40\n",
            "42\n",
            "44\n",
            "46\n",
            "48\n",
            "50\n"
          ]
        }
      ]
    },
    {
      "cell_type": "code",
      "source": [],
      "metadata": {
        "id": "-eUMk9615fl3"
      },
      "id": "-eUMk9615fl3",
      "execution_count": null,
      "outputs": []
    },
    {
      "cell_type": "code",
      "source": [
        "num = 11\n",
        "\n",
        "while num<=50:\n",
        "  print(num)\n",
        "  num+=2"
      ],
      "metadata": {
        "colab": {
          "base_uri": "https://localhost:8080/"
        },
        "id": "ZEWA5F3-5fzz",
        "outputId": "ab94ab98-6b3d-4fb2-93c5-f0355a89c08a"
      },
      "id": "ZEWA5F3-5fzz",
      "execution_count": null,
      "outputs": [
        {
          "output_type": "stream",
          "name": "stdout",
          "text": [
            "11\n",
            "13\n",
            "15\n",
            "17\n",
            "19\n",
            "21\n",
            "23\n",
            "25\n",
            "27\n",
            "29\n",
            "31\n",
            "33\n",
            "35\n",
            "37\n",
            "39\n",
            "41\n",
            "43\n",
            "45\n",
            "47\n",
            "49\n"
          ]
        }
      ]
    },
    {
      "cell_type": "code",
      "source": [
        "num=50\n",
        "\n",
        "while num>=10:\n",
        "  print(num)\n",
        "  num-=1"
      ],
      "metadata": {
        "colab": {
          "base_uri": "https://localhost:8080/"
        },
        "id": "9RQDh1y-5gAw",
        "outputId": "85b54dc1-e6e1-49e9-af2a-819c73eebb03"
      },
      "id": "9RQDh1y-5gAw",
      "execution_count": null,
      "outputs": [
        {
          "output_type": "stream",
          "name": "stdout",
          "text": [
            "50\n",
            "49\n",
            "48\n",
            "47\n",
            "46\n",
            "45\n",
            "44\n",
            "43\n",
            "42\n",
            "41\n",
            "40\n",
            "39\n",
            "38\n",
            "37\n",
            "36\n",
            "35\n",
            "34\n",
            "33\n",
            "32\n",
            "31\n",
            "30\n",
            "29\n",
            "28\n",
            "27\n",
            "26\n",
            "25\n",
            "24\n",
            "23\n",
            "22\n",
            "21\n",
            "20\n",
            "19\n",
            "18\n",
            "17\n",
            "16\n",
            "15\n",
            "14\n",
            "13\n",
            "12\n",
            "11\n",
            "10\n"
          ]
        }
      ]
    },
    {
      "cell_type": "code",
      "source": [
        "# 10 = 100\n",
        "# 11 = 121"
      ],
      "metadata": {
        "id": "6VxhYZku5gLU"
      },
      "id": "6VxhYZku5gLU",
      "execution_count": null,
      "outputs": []
    },
    {
      "cell_type": "code",
      "source": [
        "num1 = 11\n",
        "\n",
        "while num1<=20:\n",
        "  print(f\"{num1} = {num1**2}\")\n",
        "  num1+=2"
      ],
      "metadata": {
        "colab": {
          "base_uri": "https://localhost:8080/"
        },
        "id": "1VIr_Y-F5ghK",
        "outputId": "8d97f91b-bc66-4803-dd45-048009900c85"
      },
      "id": "1VIr_Y-F5ghK",
      "execution_count": null,
      "outputs": [
        {
          "output_type": "stream",
          "name": "stdout",
          "text": [
            "11 = 121\n",
            "13 = 169\n",
            "15 = 225\n",
            "17 = 289\n",
            "19 = 361\n"
          ]
        }
      ]
    },
    {
      "cell_type": "code",
      "source": [
        "i=10\n",
        "\n",
        "while i<=20:\n",
        "  j=1\n",
        "  while j <=10:\n",
        "    print(i*j,end=\"\\t\")\n",
        "    j+=1 \n",
        "  print(\"\\n\")\n",
        "  i+=1"
      ],
      "metadata": {
        "colab": {
          "base_uri": "https://localhost:8080/"
        },
        "id": "AvDDpECh1UdV",
        "outputId": "a3fa6fe4-956f-4d4c-a4bc-825673b17bfc"
      },
      "id": "AvDDpECh1UdV",
      "execution_count": null,
      "outputs": [
        {
          "output_type": "stream",
          "name": "stdout",
          "text": [
            "10\t20\t30\t40\t50\t60\t70\t80\t90\t100\t\n",
            "\n",
            "11\t22\t33\t44\t55\t66\t77\t88\t99\t110\t\n",
            "\n",
            "12\t24\t36\t48\t60\t72\t84\t96\t108\t120\t\n",
            "\n",
            "13\t26\t39\t52\t65\t78\t91\t104\t117\t130\t\n",
            "\n",
            "14\t28\t42\t56\t70\t84\t98\t112\t126\t140\t\n",
            "\n",
            "15\t30\t45\t60\t75\t90\t105\t120\t135\t150\t\n",
            "\n",
            "16\t32\t48\t64\t80\t96\t112\t128\t144\t160\t\n",
            "\n",
            "17\t34\t51\t68\t85\t102\t119\t136\t153\t170\t\n",
            "\n",
            "18\t36\t54\t72\t90\t108\t126\t144\t162\t180\t\n",
            "\n",
            "19\t38\t57\t76\t95\t114\t133\t152\t171\t190\t\n",
            "\n",
            "20\t40\t60\t80\t100\t120\t140\t160\t180\t200\t\n",
            "\n"
          ]
        }
      ]
    },
    {
      "cell_type": "code",
      "source": [
        "n1 = int(input(\"Dear User Enter a Number :- \"))\n",
        "\n",
        "if n1>1:\n",
        "  j=2\n",
        "  while j<n1:\n",
        "    if n1 % j ==0:\n",
        "      print(n1,\" is a Non-Prime Number \")\n",
        "      break \n",
        "    j+=1 \n",
        "\n",
        "  else:\n",
        "    print(n1,\" is Prime Number \")  \n",
        "  \n",
        "else:\n",
        "  print(\"Invalid Input ..\")\n",
        "  "
      ],
      "metadata": {
        "colab": {
          "base_uri": "https://localhost:8080/"
        },
        "id": "NrM1UMcPE30m",
        "outputId": "d0756e13-d787-472d-9712-05d4ecd41ef8"
      },
      "id": "NrM1UMcPE30m",
      "execution_count": null,
      "outputs": [
        {
          "output_type": "stream",
          "name": "stdout",
          "text": [
            "Dear User Enter a Number :- 1\n",
            "Invalid Input ..\n"
          ]
        }
      ]
    },
    {
      "cell_type": "code",
      "source": [
        "n1 = int(input(\"Dear User Enter a Number for findling fact :- \"))\n",
        "\n",
        "j=1 \n",
        "f=1\n",
        "while j<=n1:\n",
        "  f *= j\n",
        "  j+=1\n",
        "\n",
        "print(f\"factorial of {j-1} = {f}\")   \n",
        "\n"
      ],
      "metadata": {
        "colab": {
          "base_uri": "https://localhost:8080/"
        },
        "id": "82KDjFSeE4Cy",
        "outputId": "0813d026-ece5-46f2-baaa-9edca8225926"
      },
      "id": "82KDjFSeE4Cy",
      "execution_count": null,
      "outputs": [
        {
          "output_type": "stream",
          "name": "stdout",
          "text": [
            "Dear User Enter a Number for findling fact :- 6\n",
            "factorial of 6 = 720\n"
          ]
        }
      ]
    },
    {
      "cell_type": "code",
      "source": [
        "i=1\n",
        "while i<=10:\n",
        "  j=1\n",
        "  while j<=i:\n",
        "    print(\"*\", end=\" \")\n",
        "    j+=1 \n",
        "  print()\n",
        "  i+=1   "
      ],
      "metadata": {
        "colab": {
          "base_uri": "https://localhost:8080/"
        },
        "id": "9IdjkH3DE4L7",
        "outputId": "c9f7d47b-84ba-420c-8c75-a28b9f8496a8"
      },
      "id": "9IdjkH3DE4L7",
      "execution_count": null,
      "outputs": [
        {
          "output_type": "stream",
          "name": "stdout",
          "text": [
            "* \n",
            "* * \n",
            "* * * \n",
            "* * * * \n",
            "* * * * * \n",
            "* * * * * * \n",
            "* * * * * * * \n",
            "* * * * * * * * \n",
            "* * * * * * * * * \n",
            "* * * * * * * * * * \n"
          ]
        }
      ]
    },
    {
      "cell_type": "code",
      "source": [
        "\" ram\" * 4"
      ],
      "metadata": {
        "colab": {
          "base_uri": "https://localhost:8080/",
          "height": 36
        },
        "id": "nw6cGsPRE4U0",
        "outputId": "33c9b928-67fe-411e-f141-19d06cac2d94"
      },
      "id": "nw6cGsPRE4U0",
      "execution_count": null,
      "outputs": [
        {
          "output_type": "execute_result",
          "data": {
            "text/plain": [
              "' ram ram ram ram'"
            ],
            "application/vnd.google.colaboratory.intrinsic+json": {
              "type": "string"
            }
          },
          "metadata": {},
          "execution_count": 23
        }
      ]
    },
    {
      "cell_type": "code",
      "source": [
        "i=1\n",
        "\n",
        "while i<=4:\n",
        "  print(\" *\"*i)\n",
        "  i+=1 "
      ],
      "metadata": {
        "colab": {
          "base_uri": "https://localhost:8080/"
        },
        "id": "E2xZY-JbE4m5",
        "outputId": "8e43dc7d-dd71-4013-fe99-6ace4052ea41"
      },
      "id": "E2xZY-JbE4m5",
      "execution_count": null,
      "outputs": [
        {
          "output_type": "stream",
          "name": "stdout",
          "text": [
            " *\n",
            " * *\n",
            " * * *\n",
            " * * * *\n"
          ]
        }
      ]
    },
    {
      "cell_type": "code",
      "source": [
        "i = 4\n",
        "\n",
        "while i>=1:\n",
        "  print(\" *\"*i)\n",
        "  i-=1"
      ],
      "metadata": {
        "colab": {
          "base_uri": "https://localhost:8080/"
        },
        "id": "f0jiAyziE5Rs",
        "outputId": "8d5514b3-733a-45c0-d94d-121fee76cbb5"
      },
      "id": "f0jiAyziE5Rs",
      "execution_count": null,
      "outputs": [
        {
          "output_type": "stream",
          "name": "stdout",
          "text": [
            " * * * *\n",
            " * * *\n",
            " * *\n",
            " *\n"
          ]
        }
      ]
    },
    {
      "cell_type": "code",
      "source": [
        "i = 10\n",
        "n=1\n",
        "while i>=1:\n",
        "  j=1\n",
        "  while j<i:\n",
        "    print(\" \",end=\" \")\n",
        "    j+=1  \n",
        "\n",
        "  k=1\n",
        "  while k<=n:\n",
        "    print(\" * \",end=\" \")\n",
        "    k+=1 \n",
        "  print()\n",
        "  i-=1   \n",
        "  n+=1"
      ],
      "metadata": {
        "colab": {
          "base_uri": "https://localhost:8080/"
        },
        "id": "0ny_m4zME5nb",
        "outputId": "cbcd6e21-a85d-40b6-e054-301ee807e72e"
      },
      "id": "0ny_m4zME5nb",
      "execution_count": null,
      "outputs": [
        {
          "output_type": "stream",
          "name": "stdout",
          "text": [
            "                   *  \n",
            "                 *   *  \n",
            "               *   *   *  \n",
            "             *   *   *   *  \n",
            "           *   *   *   *   *  \n",
            "         *   *   *   *   *   *  \n",
            "       *   *   *   *   *   *   *  \n",
            "     *   *   *   *   *   *   *   *  \n",
            "   *   *   *   *   *   *   *   *   *  \n",
            " *   *   *   *   *   *   *   *   *   *  \n"
          ]
        }
      ]
    },
    {
      "cell_type": "code",
      "source": [],
      "metadata": {
        "id": "FdODPTbxO2vV"
      },
      "id": "FdODPTbxO2vV",
      "execution_count": null,
      "outputs": []
    },
    {
      "cell_type": "code",
      "source": [],
      "metadata": {
        "id": "kuKmo1r5O2_A"
      },
      "id": "kuKmo1r5O2_A",
      "execution_count": null,
      "outputs": []
    },
    {
      "cell_type": "code",
      "source": [],
      "metadata": {
        "id": "F8NpYgSVO3KX"
      },
      "id": "F8NpYgSVO3KX",
      "execution_count": null,
      "outputs": []
    },
    {
      "cell_type": "code",
      "source": [],
      "metadata": {
        "id": "cFHHb3J7O3iQ"
      },
      "id": "cFHHb3J7O3iQ",
      "execution_count": null,
      "outputs": []
    },
    {
      "cell_type": "code",
      "source": [],
      "metadata": {
        "id": "gQ-QCrfNE51J"
      },
      "id": "gQ-QCrfNE51J",
      "execution_count": null,
      "outputs": []
    },
    {
      "cell_type": "code",
      "source": [
        "n=13\n",
        "i=1\n",
        "while i<=10:\n",
        "  print(f\"{n} * {i} = {n*i}\")\n",
        "  i+=1 "
      ],
      "metadata": {
        "id": "QFqbVNEH_plx",
        "colab": {
          "base_uri": "https://localhost:8080/"
        },
        "outputId": "ba7bc5b9-dd73-4039-821c-26e5ac273f7e"
      },
      "id": "QFqbVNEH_plx",
      "execution_count": null,
      "outputs": [
        {
          "output_type": "stream",
          "name": "stdout",
          "text": [
            "13 * 1 = 13\n",
            "13 * 2 = 26\n",
            "13 * 3 = 39\n",
            "13 * 4 = 52\n",
            "13 * 5 = 65\n",
            "13 * 6 = 78\n",
            "13 * 7 = 91\n",
            "13 * 8 = 104\n",
            "13 * 9 = 117\n",
            "13 * 10 = 130\n"
          ]
        }
      ]
    },
    {
      "cell_type": "code",
      "source": [
        "i=1\n",
        "while i<=10:\n",
        "  j=1 \n",
        "  while j<=i:\n",
        "    print(\"*\",end=\" \")\n",
        "    j+=1 \n",
        "  print()\n",
        "  i+=1 \n"
      ],
      "metadata": {
        "colab": {
          "base_uri": "https://localhost:8080/"
        },
        "id": "sFYKuIG1mBhv",
        "outputId": "def1bb1d-0409-45a7-c0a7-193354590129"
      },
      "id": "sFYKuIG1mBhv",
      "execution_count": null,
      "outputs": [
        {
          "output_type": "stream",
          "name": "stdout",
          "text": [
            "* \n",
            "* * \n",
            "* * * \n",
            "* * * * \n",
            "* * * * * \n",
            "* * * * * * \n",
            "* * * * * * * \n",
            "* * * * * * * * \n",
            "* * * * * * * * * \n",
            "* * * * * * * * * * \n"
          ]
        }
      ]
    },
    {
      "cell_type": "code",
      "source": [
        "\n",
        "\n",
        "4 * \" RAM\""
      ],
      "metadata": {
        "colab": {
          "base_uri": "https://localhost:8080/",
          "height": 35
        },
        "id": "Ac7bzkMwmBwa",
        "outputId": "d54d102d-6273-4fe1-d080-dabb5420fe7d"
      },
      "id": "Ac7bzkMwmBwa",
      "execution_count": null,
      "outputs": [
        {
          "output_type": "execute_result",
          "data": {
            "text/plain": [
              "' RAM RAM RAM RAM'"
            ],
            "application/vnd.google.colaboratory.intrinsic+json": {
              "type": "string"
            }
          },
          "metadata": {},
          "execution_count": 8
        }
      ]
    },
    {
      "cell_type": "code",
      "source": [
        "i=1\n",
        "\n",
        "while i<=4:\n",
        "  print(\" *\"*i)\n",
        "  i+=1 "
      ],
      "metadata": {
        "colab": {
          "base_uri": "https://localhost:8080/"
        },
        "id": "InHPLp7LmCBw",
        "outputId": "b63139f0-ee9b-49bd-c910-edb31f917e3a"
      },
      "id": "InHPLp7LmCBw",
      "execution_count": null,
      "outputs": [
        {
          "output_type": "stream",
          "name": "stdout",
          "text": [
            " *\n",
            " * *\n",
            " * * *\n",
            " * * * *\n"
          ]
        }
      ]
    },
    {
      "cell_type": "code",
      "source": [
        "i=4\n",
        "\n",
        "while i>=1:\n",
        "  print(\" *\"*i)\n",
        "  i-=1 "
      ],
      "metadata": {
        "colab": {
          "base_uri": "https://localhost:8080/"
        },
        "id": "rYXK9lb8mC94",
        "outputId": "501dc660-d001-4886-cd0a-5dac9e2f62a4"
      },
      "id": "rYXK9lb8mC94",
      "execution_count": null,
      "outputs": [
        {
          "output_type": "stream",
          "name": "stdout",
          "text": [
            " * * * *\n",
            " * * *\n",
            " * *\n",
            " *\n"
          ]
        }
      ]
    },
    {
      "cell_type": "code",
      "source": [
        "i=4\n",
        "while i>=1:\n",
        "  j=1\n",
        "  while j<=i:\n",
        "    print(\"*\",end=\" \")\n",
        "    j+=1 \n",
        "  print()\n",
        "  i-=1   "
      ],
      "metadata": {
        "colab": {
          "base_uri": "https://localhost:8080/"
        },
        "id": "tHNNV9V2mDU1",
        "outputId": "493cd10a-a571-43e8-cc9b-b1b83ea5bc2f"
      },
      "id": "tHNNV9V2mDU1",
      "execution_count": null,
      "outputs": [
        {
          "output_type": "stream",
          "name": "stdout",
          "text": [
            "* * * * \n",
            "* * * \n",
            "* * \n",
            "* \n"
          ]
        }
      ]
    },
    {
      "cell_type": "code",
      "source": [
        "i=10\n",
        "n=1\n",
        "while i>=1:\n",
        "  j=1 \n",
        "  while j<=i-1:\n",
        "    print(\" \",end =\" \")\n",
        "    j+=1 \n",
        "  k=1 \n",
        "  while k<=n:\n",
        "    print(\" * \",end=\" \") \n",
        "    k+=1 \n",
        "\n",
        "  print()\n",
        "  i-=1\n",
        "  n+=1   \n"
      ],
      "metadata": {
        "colab": {
          "base_uri": "https://localhost:8080/"
        },
        "id": "TPULqtDPmDeV",
        "outputId": "8c870f76-535e-4327-b78e-c5bcb1f75c54"
      },
      "id": "TPULqtDPmDeV",
      "execution_count": null,
      "outputs": [
        {
          "output_type": "stream",
          "name": "stdout",
          "text": [
            "                   *  \n",
            "                 *   *  \n",
            "               *   *   *  \n",
            "             *   *   *   *  \n",
            "           *   *   *   *   *  \n",
            "         *   *   *   *   *   *  \n",
            "       *   *   *   *   *   *   *  \n",
            "     *   *   *   *   *   *   *   *  \n",
            "   *   *   *   *   *   *   *   *   *  \n",
            " *   *   *   *   *   *   *   *   *   *  \n"
          ]
        }
      ]
    },
    {
      "cell_type": "code",
      "source": [
        "# for loop --> \n",
        "\n",
        "for num in range(10,21,2):\n",
        "  print(num)"
      ],
      "metadata": {
        "colab": {
          "base_uri": "https://localhost:8080/"
        },
        "id": "af8Qgt2pPLtx",
        "outputId": "7d37d511-f160-42f1-fdc5-8d3c910adc51"
      },
      "id": "af8Qgt2pPLtx",
      "execution_count": null,
      "outputs": [
        {
          "output_type": "stream",
          "name": "stdout",
          "text": [
            "10\n",
            "12\n",
            "14\n",
            "16\n",
            "18\n",
            "20\n"
          ]
        }
      ]
    },
    {
      "cell_type": "code",
      "source": [
        "j=1\n",
        "for i in range(13,131,13):\n",
        "  print(f'13 * {j} = {i}')\n",
        "  j+=1"
      ],
      "metadata": {
        "colab": {
          "base_uri": "https://localhost:8080/"
        },
        "id": "5BYOS2SPQf9J",
        "outputId": "6d997085-1c92-434c-aa50-83407a48a456"
      },
      "id": "5BYOS2SPQf9J",
      "execution_count": null,
      "outputs": [
        {
          "output_type": "stream",
          "name": "stdout",
          "text": [
            "13 * 1 = 13\n",
            "13 * 2 = 26\n",
            "13 * 3 = 39\n",
            "13 * 4 = 52\n",
            "13 * 5 = 65\n",
            "13 * 6 = 78\n",
            "13 * 7 = 91\n",
            "13 * 8 = 104\n",
            "13 * 9 = 117\n",
            "13 * 10 = 130\n"
          ]
        }
      ]
    },
    {
      "cell_type": "code",
      "source": [],
      "metadata": {
        "id": "IxsBPppuQgbu"
      },
      "id": "IxsBPppuQgbu",
      "execution_count": null,
      "outputs": []
    },
    {
      "cell_type": "code",
      "source": [
        "list1 =(12,44,55,66,77,76,111,22,356,88,90)"
      ],
      "metadata": {
        "id": "ox7VAj5rPL6c"
      },
      "id": "ox7VAj5rPL6c",
      "execution_count": null,
      "outputs": []
    },
    {
      "cell_type": "code",
      "source": [
        "for i in list1:\n",
        "  if i % 2 == 0:\n",
        "    print(i,' is Even Number ')\n",
        "  else:\n",
        "    print(i,' is odd Number ')  "
      ],
      "metadata": {
        "colab": {
          "base_uri": "https://localhost:8080/"
        },
        "id": "EenyuzlOPMEF",
        "outputId": "16a18d3f-2d69-4a88-8359-d27775fba416"
      },
      "id": "EenyuzlOPMEF",
      "execution_count": null,
      "outputs": [
        {
          "output_type": "stream",
          "name": "stdout",
          "text": [
            "12  is Even Number \n",
            "44  is Even Number \n",
            "55  is odd Number \n",
            "66  is Even Number \n",
            "77  is odd Number \n",
            "76  is Even Number \n",
            "111  is odd Number \n",
            "22  is Even Number \n",
            "356  is Even Number \n",
            "88  is Even Number \n",
            "90  is Even Number \n"
          ]
        }
      ]
    },
    {
      "cell_type": "code",
      "source": [
        "list1"
      ],
      "metadata": {
        "colab": {
          "base_uri": "https://localhost:8080/"
        },
        "id": "x_Lmh0uJPMOm",
        "outputId": "95f3eaa3-a9b7-43e4-ea57-cd7d3e7ab740"
      },
      "id": "x_Lmh0uJPMOm",
      "execution_count": null,
      "outputs": [
        {
          "output_type": "execute_result",
          "data": {
            "text/plain": [
              "(12, 44, 55, 66, 77, 76, 111, 22, 356, 88, 90)"
            ]
          },
          "metadata": {},
          "execution_count": 10
        }
      ]
    },
    {
      "cell_type": "code",
      "source": [
        "df =\"JOHNSMITH\"\n",
        "\n",
        "for i in df:\n",
        "  print(i)"
      ],
      "metadata": {
        "colab": {
          "base_uri": "https://localhost:8080/"
        },
        "id": "nXGz3hsvPMYV",
        "outputId": "dac34f5b-665a-4bf5-d496-bed78db580db"
      },
      "id": "nXGz3hsvPMYV",
      "execution_count": null,
      "outputs": [
        {
          "output_type": "stream",
          "name": "stdout",
          "text": [
            "J\n",
            "O\n",
            "H\n",
            "N\n",
            "S\n",
            "M\n",
            "I\n",
            "T\n",
            "H\n"
          ]
        }
      ]
    },
    {
      "cell_type": "code",
      "source": [
        "dict1 = {1011:'John',1012:'Alka',1013:'Ambur',1014:'Shyam'} \n",
        "\n",
        "for j in dict1:\n",
        "  print(j,dict1[j])  "
      ],
      "metadata": {
        "colab": {
          "base_uri": "https://localhost:8080/"
        },
        "id": "C2rbrul8PMho",
        "outputId": "7e51193d-d4a0-4340-ace3-f4e603330c4a"
      },
      "id": "C2rbrul8PMho",
      "execution_count": null,
      "outputs": [
        {
          "output_type": "stream",
          "name": "stdout",
          "text": [
            "1011 John\n",
            "1012 Alka\n",
            "1013 Ambur\n",
            "1014 Shyam\n"
          ]
        }
      ]
    },
    {
      "cell_type": "code",
      "source": [
        "for index,value in dict1.items():\n",
        "  print(index,value)"
      ],
      "metadata": {
        "colab": {
          "base_uri": "https://localhost:8080/"
        },
        "id": "Y3O3jWWmPMrI",
        "outputId": "802652b6-1732-48b6-ea1d-f6a432e6d92b"
      },
      "id": "Y3O3jWWmPMrI",
      "execution_count": null,
      "outputs": [
        {
          "output_type": "stream",
          "name": "stdout",
          "text": [
            "1011 John\n",
            "1012 Alka\n",
            "1013 Ambur\n",
            "1014 Shyam\n"
          ]
        }
      ]
    },
    {
      "cell_type": "code",
      "source": [
        "set1 = {12,44,55,66,77,88}\n",
        "\n",
        "for i in set1:\n",
        "  print(i)"
      ],
      "metadata": {
        "colab": {
          "base_uri": "https://localhost:8080/"
        },
        "id": "DuM6del3PM0h",
        "outputId": "33c0ef6d-7d4e-4221-f0c8-a23d84ef3297"
      },
      "id": "DuM6del3PM0h",
      "execution_count": null,
      "outputs": [
        {
          "output_type": "stream",
          "name": "stdout",
          "text": [
            "66\n",
            "55\n",
            "88\n",
            "12\n",
            "77\n",
            "44\n"
          ]
        }
      ]
    },
    {
      "cell_type": "code",
      "source": [
        "list1"
      ],
      "metadata": {
        "colab": {
          "base_uri": "https://localhost:8080/"
        },
        "id": "XDi5TrL_PM9y",
        "outputId": "c99a824e-8499-46b5-8bfa-bcf915520b0d"
      },
      "id": "XDi5TrL_PM9y",
      "execution_count": null,
      "outputs": [
        {
          "output_type": "execute_result",
          "data": {
            "text/plain": [
              "(12, 44, 55, 66, 77, 76, 111, 22, 356, 88, 90)"
            ]
          },
          "metadata": {},
          "execution_count": 16
        }
      ]
    },
    {
      "cell_type": "code",
      "source": [
        "len(list1)"
      ],
      "metadata": {
        "colab": {
          "base_uri": "https://localhost:8080/"
        },
        "id": "a4_nUD6MTUfk",
        "outputId": "96969d20-c676-47d6-a438-6d5b7a70ecdd"
      },
      "id": "a4_nUD6MTUfk",
      "execution_count": null,
      "outputs": [
        {
          "output_type": "execute_result",
          "data": {
            "text/plain": [
              "11"
            ]
          },
          "metadata": {},
          "execution_count": 18
        }
      ]
    },
    {
      "cell_type": "code",
      "source": [
        "list1 = list(list1)"
      ],
      "metadata": {
        "id": "c24ElNHZTvvs"
      },
      "id": "c24ElNHZTvvs",
      "execution_count": null,
      "outputs": []
    },
    {
      "cell_type": "code",
      "source": [
        "list1"
      ],
      "metadata": {
        "colab": {
          "base_uri": "https://localhost:8080/"
        },
        "id": "S1ANrIE3T2GR",
        "outputId": "3f319c93-89f4-448b-c97d-78d984c609d5"
      },
      "id": "S1ANrIE3T2GR",
      "execution_count": null,
      "outputs": [
        {
          "output_type": "execute_result",
          "data": {
            "text/plain": [
              "[12, 44, 55, 66, 77, 76, 111, 22, 356, 88, 90]"
            ]
          },
          "metadata": {},
          "execution_count": 6
        }
      ]
    },
    {
      "cell_type": "code",
      "source": [
        "for k in range(len(list1)): \n",
        "  print(k,list1[k])"
      ],
      "metadata": {
        "id": "314TnL26PNJR"
      },
      "id": "314TnL26PNJR",
      "execution_count": null,
      "outputs": []
    },
    {
      "cell_type": "code",
      "source": [
        "for i in range(len(list1)):\n",
        "  if i % 2 == 0:\n",
        "    print('Index =',i)\n",
        "    list1[i] = input() \n",
        "\n",
        "list1    "
      ],
      "metadata": {
        "colab": {
          "base_uri": "https://localhost:8080/"
        },
        "id": "SAmmP5U6PNSn",
        "outputId": "cffec826-4a6d-4bfd-b593-65299f72a746"
      },
      "id": "SAmmP5U6PNSn",
      "execution_count": null,
      "outputs": [
        {
          "name": "stdout",
          "output_type": "stream",
          "text": [
            "Index = 0\n",
            "Mohan\n",
            "Index = 2\n",
            "Shyam\n",
            "Index = 4\n",
            "Krishna\n",
            "Index = 6\n",
            "john\n",
            "Index = 8\n",
            "Ram\n",
            "Index = 10\n",
            "shiv\n"
          ]
        },
        {
          "output_type": "execute_result",
          "data": {
            "text/plain": [
              "['Mohan', 44, 'Shyam', 66, 'Krishna', 76, 'john', 22, 'Ram', 88, 'shiv']"
            ]
          },
          "metadata": {},
          "execution_count": 7
        }
      ]
    },
    {
      "cell_type": "code",
      "source": [
        "list1"
      ],
      "metadata": {
        "colab": {
          "base_uri": "https://localhost:8080/"
        },
        "id": "tqo0kgjFPNgC",
        "outputId": "d5ac54d1-fe14-4ebc-983c-bcba3b40f3e7"
      },
      "id": "tqo0kgjFPNgC",
      "execution_count": null,
      "outputs": [
        {
          "output_type": "execute_result",
          "data": {
            "text/plain": [
              "['Mohan', 44, 'Shyam', 66, 'Krishna', 76, 'john', 22, 'Ram', 88, 'shiv']"
            ]
          },
          "metadata": {},
          "execution_count": 8
        }
      ]
    },
    {
      "cell_type": "code",
      "source": [
        "for i,v in enumerate(list1,start=1):\n",
        "  print(i,v)"
      ],
      "metadata": {
        "colab": {
          "base_uri": "https://localhost:8080/"
        },
        "id": "9fbbbD_sPNq7",
        "outputId": "db56e0df-df80-4063-e67b-501b816150a5"
      },
      "id": "9fbbbD_sPNq7",
      "execution_count": null,
      "outputs": [
        {
          "output_type": "stream",
          "name": "stdout",
          "text": [
            "1 Mohan\n",
            "2 44\n",
            "3 Shyam\n",
            "4 66\n",
            "5 Krishna\n",
            "6 76\n",
            "7 john\n",
            "8 22\n",
            "9 Ram\n",
            "10 88\n",
            "11 shiv\n"
          ]
        }
      ]
    },
    {
      "cell_type": "code",
      "source": [
        "list2 = [33,11,23,17,7,15,51,90,13] \n",
        "\n",
        "for i in list2:\n",
        "  if i>1:\n",
        "    for j in range(2,i):\n",
        "      if i % j == 0:\n",
        "        print(i, ' is Non-Prime Number ')\n",
        "        break \n",
        "\n",
        "    else:\n",
        "      print(i,' is Prime Number ')      "
      ],
      "metadata": {
        "colab": {
          "base_uri": "https://localhost:8080/"
        },
        "id": "4GIdyES7PN7W",
        "outputId": "bd914054-9870-4b04-ebbe-950de43ced2d"
      },
      "id": "4GIdyES7PN7W",
      "execution_count": null,
      "outputs": [
        {
          "output_type": "stream",
          "name": "stdout",
          "text": [
            "33  is Non-Prime Number \n",
            "11  is Prime Number \n",
            "23  is Prime Number \n",
            "17  is Prime Number \n",
            "7  is Prime Number \n",
            "15  is Non-Prime Number \n",
            "51  is Non-Prime Number \n",
            "90  is Non-Prime Number \n",
            "13  is Prime Number \n"
          ]
        }
      ]
    },
    {
      "cell_type": "code",
      "source": [],
      "metadata": {
        "id": "TcYFbyNUPOLi"
      },
      "id": "TcYFbyNUPOLi",
      "execution_count": null,
      "outputs": []
    },
    {
      "cell_type": "code",
      "source": [],
      "metadata": {
        "id": "Rk9N0NEqPObG"
      },
      "id": "Rk9N0NEqPObG",
      "execution_count": null,
      "outputs": []
    },
    {
      "cell_type": "code",
      "source": [],
      "metadata": {
        "id": "h3vRet6RPOpU"
      },
      "id": "h3vRet6RPOpU",
      "execution_count": null,
      "outputs": []
    },
    {
      "cell_type": "code",
      "source": [],
      "metadata": {
        "id": "QjyZbBsNPO2s"
      },
      "id": "QjyZbBsNPO2s",
      "execution_count": null,
      "outputs": []
    },
    {
      "cell_type": "code",
      "source": [],
      "metadata": {
        "id": "1ocBjVGrPPD0"
      },
      "id": "1ocBjVGrPPD0",
      "execution_count": null,
      "outputs": []
    },
    {
      "cell_type": "code",
      "source": [],
      "metadata": {
        "id": "h7zkzPhPPPQT"
      },
      "id": "h7zkzPhPPPQT",
      "execution_count": null,
      "outputs": []
    },
    {
      "cell_type": "code",
      "source": [],
      "metadata": {
        "id": "eUS6BxSJPPbL"
      },
      "id": "eUS6BxSJPPbL",
      "execution_count": null,
      "outputs": []
    },
    {
      "cell_type": "code",
      "source": [],
      "metadata": {
        "id": "DJj-UjFZPPmU"
      },
      "id": "DJj-UjFZPPmU",
      "execution_count": null,
      "outputs": []
    },
    {
      "cell_type": "code",
      "source": [],
      "metadata": {
        "id": "a_XsvH_DPPyh"
      },
      "id": "a_XsvH_DPPyh",
      "execution_count": null,
      "outputs": []
    },
    {
      "cell_type": "code",
      "source": [],
      "metadata": {
        "id": "WaY13m5dPQAG"
      },
      "id": "WaY13m5dPQAG",
      "execution_count": null,
      "outputs": []
    },
    {
      "cell_type": "code",
      "source": [
        "min = int(input(\"Dear user Enter Number where you want to Start :- \"))\n",
        "max = int(input(\"Dear user Enter Number where you want to Start :- \")) \n",
        "\n",
        "if min>1: \n",
        "  while min <= max :\n",
        "    j=2\n",
        "    while j<min:\n",
        "      if min % j == 0:\n",
        "        break \n",
        "      j+=1  \n",
        "    else:\n",
        "      print(min,\" is a Prime Number \")\n",
        "    min+=1 \n",
        "\n",
        "else:\n",
        "  print(\"Please Enter greater than one \")\n",
        "\n",
        "\n"
      ],
      "metadata": {
        "id": "TYXOfQRQ_p2b",
        "colab": {
          "base_uri": "https://localhost:8080/"
        },
        "outputId": "15a3395f-bb23-4cff-e5d5-3d9650aa8ecb"
      },
      "id": "TYXOfQRQ_p2b",
      "execution_count": null,
      "outputs": [
        {
          "output_type": "stream",
          "name": "stdout",
          "text": [
            "Dear user Enter Number where you want to Start :- 2\n",
            "Dear user Enter Number where you want to Start :- 13\n",
            "2  is a Prime Number \n",
            "3  is a Prime Number \n",
            "5  is a Prime Number \n",
            "7  is a Prime Number \n",
            "11  is a Prime Number \n",
            "13  is a Prime Number \n"
          ]
        }
      ]
    },
    {
      "cell_type": "code",
      "source": [
        "# for loop \n",
        "for i in range(10,21,2):\n",
        "  print(i)"
      ],
      "metadata": {
        "id": "1TJcrOm41Ut1",
        "colab": {
          "base_uri": "https://localhost:8080/"
        },
        "outputId": "affd7a1a-053e-4d73-c887-600a0d5e255c"
      },
      "id": "1TJcrOm41Ut1",
      "execution_count": null,
      "outputs": [
        {
          "output_type": "stream",
          "name": "stdout",
          "text": [
            "10\n",
            "12\n",
            "14\n",
            "16\n",
            "18\n",
            "20\n"
          ]
        }
      ]
    },
    {
      "cell_type": "code",
      "source": [
        "for i in range(20,10,-1):\n",
        "  print(i)"
      ],
      "metadata": {
        "id": "170DVrma1VE5",
        "colab": {
          "base_uri": "https://localhost:8080/"
        },
        "outputId": "b590dc52-ecef-4265-a7bf-9d5e5b9d2ba2"
      },
      "id": "170DVrma1VE5",
      "execution_count": null,
      "outputs": [
        {
          "output_type": "stream",
          "name": "stdout",
          "text": [
            "20\n",
            "19\n",
            "18\n",
            "17\n",
            "16\n",
            "15\n",
            "14\n",
            "13\n",
            "12\n",
            "11\n"
          ]
        }
      ]
    },
    {
      "cell_type": "code",
      "source": [
        "list1 =[31,33,44,55,66,726]\n",
        "\n",
        "for i in list1:\n",
        "  print(i)"
      ],
      "metadata": {
        "id": "p-dtXsGY1VOT",
        "colab": {
          "base_uri": "https://localhost:8080/"
        },
        "outputId": "af1fa2e5-e3e4-4418-b026-8775b37ee1c1"
      },
      "id": "p-dtXsGY1VOT",
      "execution_count": null,
      "outputs": [
        {
          "output_type": "stream",
          "name": "stdout",
          "text": [
            "31\n",
            "33\n",
            "44\n",
            "55\n",
            "66\n",
            "726\n"
          ]
        }
      ]
    },
    {
      "cell_type": "code",
      "source": [
        "# EOD ---18-05-2022"
      ],
      "metadata": {
        "id": "fE18XpU31VZg"
      },
      "id": "fE18XpU31VZg",
      "execution_count": null,
      "outputs": []
    },
    {
      "cell_type": "code",
      "source": [
        "dict1 = {1011:'ram',1012:'Mohan',1013:'john',1014:'Alka',1015:'Ambur'} "
      ],
      "metadata": {
        "id": "VqivZZ3zwQbX"
      },
      "id": "VqivZZ3zwQbX",
      "execution_count": null,
      "outputs": []
    },
    {
      "cell_type": "code",
      "source": [
        "for i in dict1:\n",
        "  print(i,dict1[i])  "
      ],
      "metadata": {
        "colab": {
          "base_uri": "https://localhost:8080/"
        },
        "id": "qBUtNtUvwQq_",
        "outputId": "018dbcbb-8777-4d7c-a9d3-d2d7bf1b1499"
      },
      "id": "qBUtNtUvwQq_",
      "execution_count": null,
      "outputs": [
        {
          "output_type": "stream",
          "name": "stdout",
          "text": [
            "1011 ram\n",
            "1012 Mohan\n",
            "1013 john\n",
            "1014 Alka\n",
            "1015 Ambur\n"
          ]
        }
      ]
    },
    {
      "cell_type": "code",
      "source": [
        "for index, val in dict1.items():\n",
        "  print(index,val)  "
      ],
      "metadata": {
        "colab": {
          "base_uri": "https://localhost:8080/"
        },
        "id": "BE_grd76wQ4o",
        "outputId": "dfb2b868-ef9d-471c-f527-5f94fdc86a2b"
      },
      "id": "BE_grd76wQ4o",
      "execution_count": null,
      "outputs": [
        {
          "output_type": "stream",
          "name": "stdout",
          "text": [
            "1011 ram\n",
            "1012 Mohan\n",
            "1013 john\n",
            "1014 Alka\n",
            "1015 Ambur\n"
          ]
        }
      ]
    },
    {
      "cell_type": "code",
      "source": [
        "set1 = {12,44,55,66,77,88}\n",
        "for i in set1:\n",
        "  print(i) "
      ],
      "metadata": {
        "colab": {
          "base_uri": "https://localhost:8080/"
        },
        "id": "84v1NM6LwREg",
        "outputId": "9f95c166-4d2b-4cc8-d1b3-5dcb4a2fe187"
      },
      "id": "84v1NM6LwREg",
      "execution_count": null,
      "outputs": [
        {
          "output_type": "stream",
          "name": "stdout",
          "text": [
            "66\n",
            "55\n",
            "88\n",
            "12\n",
            "77\n",
            "44\n"
          ]
        }
      ]
    },
    {
      "cell_type": "code",
      "source": [
        "df1 = [22,43,66,88,99,100]\n",
        "\n",
        "for num in df1:\n",
        "  if num % 2 == 0:\n",
        "    print(num,\" is Even Number\")\n",
        "\n",
        "  else:\n",
        "    print(num, \" is odd Number\")   "
      ],
      "metadata": {
        "colab": {
          "base_uri": "https://localhost:8080/"
        },
        "id": "bO8wfK1wx2bx",
        "outputId": "9ff27099-b13b-406d-ab9f-1ba8b1432a0d"
      },
      "id": "bO8wfK1wx2bx",
      "execution_count": null,
      "outputs": [
        {
          "output_type": "stream",
          "name": "stdout",
          "text": [
            "22  is Even Number\n",
            "43  is odd Number\n",
            "66  is Even Number\n",
            "88  is Even Number\n",
            "99  is odd Number\n",
            "100  is Even Number\n"
          ]
        }
      ]
    },
    {
      "cell_type": "code",
      "source": [
        "df1"
      ],
      "metadata": {
        "colab": {
          "base_uri": "https://localhost:8080/"
        },
        "id": "sogtw4URy-6g",
        "outputId": "444c67a0-8c81-4c6c-a816-a2382eab6487"
      },
      "id": "sogtw4URy-6g",
      "execution_count": null,
      "outputs": [
        {
          "output_type": "execute_result",
          "data": {
            "text/plain": [
              "[22, 43, 66, 88, 99, 100]"
            ]
          },
          "metadata": {},
          "execution_count": 16
        }
      ]
    },
    {
      "cell_type": "code",
      "source": [
        "for num in range(len(df1)):\n",
        "  if df1[num] % 2 == 0:\n",
        "    print(f\"Index = {num}, Value = {df1[num]} is Even Number \") \n",
        "  else:\n",
        "    print(f\"Index = {num}, Value = {df1[num]} is odd Number \")     \n"
      ],
      "metadata": {
        "colab": {
          "base_uri": "https://localhost:8080/"
        },
        "id": "Jqe1Jrudx2uk",
        "outputId": "0533640e-01f4-43ee-db1a-b6fd2ea847a0"
      },
      "id": "Jqe1Jrudx2uk",
      "execution_count": null,
      "outputs": [
        {
          "output_type": "stream",
          "name": "stdout",
          "text": [
            "Index = 0, Value = 22 is Even Number \n",
            "Index = 1, Value = 43 is odd Number \n",
            "Index = 2, Value = 66 is Even Number \n",
            "Index = 3, Value = 88 is Even Number \n",
            "Index = 4, Value = 99 is odd Number \n",
            "Index = 5, Value = 100 is Even Number \n"
          ]
        }
      ]
    },
    {
      "cell_type": "code",
      "source": [
        "for i in range(len(df1)):\n",
        "  if i % 2 == 0:\n",
        "    df1[i] = int(input())\n",
        "df1     "
      ],
      "metadata": {
        "colab": {
          "base_uri": "https://localhost:8080/"
        },
        "id": "4_nwZzjFx292",
        "outputId": "2c9e1fa0-2dce-48f8-d4f8-6424e2b1b9bc"
      },
      "id": "4_nwZzjFx292",
      "execution_count": null,
      "outputs": [
        {
          "name": "stdout",
          "output_type": "stream",
          "text": [
            "7888\n",
            "45555\n",
            "8999\n"
          ]
        },
        {
          "output_type": "execute_result",
          "data": {
            "text/plain": [
              "[7888, 43, 45555, 88, 8999, 100]"
            ]
          },
          "metadata": {},
          "execution_count": 19
        }
      ]
    },
    {
      "cell_type": "code",
      "source": [
        "df2 = ['john','Shyam','Smith','Mohan','CKU'] \n",
        "\n",
        "for v,i in enumerate(df2,start=10):\n",
        "  print(v,i)"
      ],
      "metadata": {
        "colab": {
          "base_uri": "https://localhost:8080/"
        },
        "id": "zT33Bi5b06GW",
        "outputId": "f6c0b7b1-6930-44c9-977f-48c0054852e8"
      },
      "id": "zT33Bi5b06GW",
      "execution_count": null,
      "outputs": [
        {
          "output_type": "stream",
          "name": "stdout",
          "text": [
            "10 john\n",
            "11 Shyam\n",
            "12 Smith\n",
            "13 Mohan\n",
            "14 CKU\n"
          ]
        }
      ]
    },
    {
      "cell_type": "code",
      "source": [
        "str1 = \"JOHNSMITH\"\n",
        "\n",
        "for i,v in enumerate(str1,start=3):\n",
        "  print(i,v)"
      ],
      "metadata": {
        "colab": {
          "base_uri": "https://localhost:8080/"
        },
        "id": "9CBiLWSN06cP",
        "outputId": "fe0a2372-d18e-4fdc-8934-15c0dea7b6e2"
      },
      "id": "9CBiLWSN06cP",
      "execution_count": null,
      "outputs": [
        {
          "output_type": "stream",
          "name": "stdout",
          "text": [
            "3 J\n",
            "4 O\n",
            "5 H\n",
            "6 N\n",
            "7 S\n",
            "8 M\n",
            "9 I\n",
            "10 T\n",
            "11 H\n"
          ]
        }
      ]
    },
    {
      "cell_type": "code",
      "source": [
        "df2 = ('john','Shyam','Smith','Mohan','CKU','ktu','pk') "
      ],
      "metadata": {
        "id": "MOk4Hngax3N7"
      },
      "id": "MOk4Hngax3N7",
      "execution_count": null,
      "outputs": []
    },
    {
      "cell_type": "code",
      "source": [
        "for i in df2:\n",
        "  if i.count('a') > 0:\n",
        "    print(i)"
      ],
      "metadata": {
        "colab": {
          "base_uri": "https://localhost:8080/"
        },
        "id": "lOfgVXWtwRZs",
        "outputId": "1b32b1ab-45b5-48fd-9183-dd46e1ddc805"
      },
      "id": "lOfgVXWtwRZs",
      "execution_count": null,
      "outputs": [
        {
          "output_type": "stream",
          "name": "stdout",
          "text": [
            "Shyam\n",
            "Mohan\n"
          ]
        }
      ]
    },
    {
      "cell_type": "code",
      "source": [
        "13// 2"
      ],
      "metadata": {
        "colab": {
          "base_uri": "https://localhost:8080/"
        },
        "id": "9uuyV7gW7kj6",
        "outputId": "4e3c7b6b-3540-4f66-b801-b0bc2e35d466"
      },
      "id": "9uuyV7gW7kj6",
      "execution_count": null,
      "outputs": [
        {
          "output_type": "execute_result",
          "data": {
            "text/plain": [
              "6"
            ]
          },
          "metadata": {},
          "execution_count": 43
        }
      ]
    },
    {
      "cell_type": "code",
      "source": [],
      "metadata": {
        "id": "yvaDvq4v7k74"
      },
      "id": "yvaDvq4v7k74",
      "execution_count": null,
      "outputs": []
    },
    {
      "cell_type": "code",
      "source": [
        "df4 = [12,7,13,77,17,23,45] \n",
        "\n",
        "for i in df4:\n",
        "  if i>1:\n",
        "    for j in range(2,i//2+1): \n",
        "      if i % j == 0:\n",
        "        print(i,\" Non- Prime Number \")\n",
        "        break \n",
        "    else:\n",
        "      print(i,\" is a Prime Number\")     \n",
        "\n",
        "\n"
      ],
      "metadata": {
        "colab": {
          "base_uri": "https://localhost:8080/"
        },
        "id": "PiDqPM_m2qdD",
        "outputId": "54b1aac8-4842-4cc9-f907-400e30940679"
      },
      "id": "PiDqPM_m2qdD",
      "execution_count": null,
      "outputs": [
        {
          "output_type": "stream",
          "name": "stdout",
          "text": [
            "12  Non- Prime Number \n",
            "7  is a Prime Number\n",
            "13  is a Prime Number\n",
            "77  Non- Prime Number \n",
            "17  is a Prime Number\n",
            "23  is a Prime Number\n",
            "45  Non- Prime Number \n"
          ]
        }
      ]
    },
    {
      "cell_type": "code",
      "source": [
        "df4 =[2,3,4,5,6]\n",
        "df4"
      ],
      "metadata": {
        "colab": {
          "base_uri": "https://localhost:8080/"
        },
        "id": "qKmCPlD92q3-",
        "outputId": "b61a012a-1a8a-4170-a05b-6b40b3d373b9"
      },
      "id": "qKmCPlD92q3-",
      "execution_count": null,
      "outputs": [
        {
          "output_type": "execute_result",
          "data": {
            "text/plain": [
              "[2, 3, 4, 5, 6]"
            ]
          },
          "metadata": {},
          "execution_count": 39
        }
      ]
    },
    {
      "cell_type": "code",
      "source": [
        "for i in df4:\n",
        "  f=1\n",
        "  for j in range(1,i+1):\n",
        "    f = f*j  \n",
        "  print(f\" Factorial of {i} = {f}\")   "
      ],
      "metadata": {
        "id": "g2q17xjL1VmJ",
        "colab": {
          "base_uri": "https://localhost:8080/"
        },
        "outputId": "e1f6c2bb-f142-450c-e0e6-71a1f33a48dc"
      },
      "id": "g2q17xjL1VmJ",
      "execution_count": null,
      "outputs": [
        {
          "output_type": "stream",
          "name": "stdout",
          "text": [
            " Factorial of 2 = 2\n",
            " Factorial of 3 = 6\n",
            " Factorial of 4 = 24\n",
            " Factorial of 5 = 120\n",
            " Factorial of 6 = 720\n"
          ]
        }
      ]
    },
    {
      "cell_type": "code",
      "source": [],
      "metadata": {
        "id": "V-gr-Tta6dEJ"
      },
      "id": "V-gr-Tta6dEJ",
      "execution_count": null,
      "outputs": []
    },
    {
      "cell_type": "code",
      "source": [
        "# EOD 19-05-2023"
      ],
      "metadata": {
        "id": "GC3tLJ7M6dV1"
      },
      "id": "GC3tLJ7M6dV1",
      "execution_count": null,
      "outputs": []
    },
    {
      "cell_type": "code",
      "source": [],
      "metadata": {
        "id": "n-dVYYkc6diQ"
      },
      "id": "n-dVYYkc6diQ",
      "execution_count": null,
      "outputs": []
    },
    {
      "cell_type": "code",
      "source": [],
      "metadata": {
        "id": "_kXHArzk6bzw"
      },
      "id": "_kXHArzk6bzw",
      "execution_count": null,
      "outputs": []
    },
    {
      "cell_type": "code",
      "source": [],
      "metadata": {
        "id": "ux4rwD9S6cIe"
      },
      "id": "ux4rwD9S6cIe",
      "execution_count": null,
      "outputs": []
    },
    {
      "cell_type": "code",
      "source": [
        "num =1 \n",
        "\n",
        "# while condition1 .....:\n",
        "    statement1\n",
        "    statememt2 \n",
        "    "
      ],
      "metadata": {
        "id": "yR2ovOivbb3c"
      },
      "id": "yR2ovOivbb3c",
      "execution_count": null,
      "outputs": []
    },
    {
      "cell_type": "code",
      "source": [
        "num = 1 \n",
        "\n",
        "while num<=10:\n",
        "  print(num,\"Ram\")\n",
        "  num +=1 \n"
      ],
      "metadata": {
        "colab": {
          "base_uri": "https://localhost:8080/"
        },
        "id": "x3oIOO5GdixT",
        "outputId": "f0e4aee9-ecd2-4047-fb23-d2009a4d5fe4"
      },
      "id": "x3oIOO5GdixT",
      "execution_count": null,
      "outputs": [
        {
          "output_type": "stream",
          "name": "stdout",
          "text": [
            "1 Ram\n",
            "2 Ram\n",
            "3 Ram\n",
            "4 Ram\n",
            "5 Ram\n",
            "6 Ram\n",
            "7 Ram\n",
            "8 Ram\n",
            "9 Ram\n",
            "10 Ram\n"
          ]
        }
      ]
    },
    {
      "cell_type": "code",
      "source": [
        "num1 = 10 \n",
        "while num1 <= 50:\n",
        "  print(num1)\n",
        "  num1+=2"
      ],
      "metadata": {
        "colab": {
          "base_uri": "https://localhost:8080/"
        },
        "id": "QFqTkebrdi7b",
        "outputId": "1bff9601-9d2e-4341-f397-8f78592670ce"
      },
      "id": "QFqTkebrdi7b",
      "execution_count": null,
      "outputs": [
        {
          "output_type": "stream",
          "name": "stdout",
          "text": [
            "10\n",
            "12\n",
            "14\n",
            "16\n",
            "18\n",
            "20\n",
            "22\n",
            "24\n",
            "26\n",
            "28\n",
            "30\n",
            "32\n",
            "34\n",
            "36\n",
            "38\n",
            "40\n",
            "42\n",
            "44\n",
            "46\n",
            "48\n",
            "50\n"
          ]
        }
      ]
    },
    {
      "cell_type": "code",
      "source": [
        "num2 =11 \n",
        "\n",
        "while num2 <=50:\n",
        "  print(num2,end=\"\\t\")\n",
        "  num2+=2"
      ],
      "metadata": {
        "colab": {
          "base_uri": "https://localhost:8080/"
        },
        "id": "LvhtYLtSdjFF",
        "outputId": "160f65e6-81ab-4e6b-cdd4-b7d24a7a3a62"
      },
      "id": "LvhtYLtSdjFF",
      "execution_count": null,
      "outputs": [
        {
          "output_type": "stream",
          "name": "stdout",
          "text": [
            "11\t13\t15\t17\t19\t21\t23\t25\t27\t29\t31\t33\t35\t37\t39\t41\t43\t45\t47\t49\t"
          ]
        }
      ]
    },
    {
      "cell_type": "code",
      "source": [
        "df = 50 \n",
        "\n",
        "while df >= 10:\n",
        "  print(df,end =\" \")\n",
        "  df -= 2 "
      ],
      "metadata": {
        "colab": {
          "base_uri": "https://localhost:8080/"
        },
        "id": "QoaxeCUFdjQK",
        "outputId": "9da9ec84-ddeb-4cf1-9cbb-d398714cb6c5"
      },
      "id": "QoaxeCUFdjQK",
      "execution_count": null,
      "outputs": [
        {
          "output_type": "stream",
          "name": "stdout",
          "text": [
            "50 48 46 44 42 40 38 36 34 32 30 28 26 24 22 20 18 16 14 12 10 "
          ]
        }
      ]
    },
    {
      "cell_type": "code",
      "source": [
        "num = 49\n",
        "\n",
        "while num >= 10:\n",
        "  print(num, end =\"\\t\")\n",
        "  num-=2 "
      ],
      "metadata": {
        "colab": {
          "base_uri": "https://localhost:8080/"
        },
        "id": "oHmnNOcGdjZ9",
        "outputId": "4cc5b1ec-e430-45d2-d13a-8256ff01c130"
      },
      "id": "oHmnNOcGdjZ9",
      "execution_count": null,
      "outputs": [
        {
          "output_type": "stream",
          "name": "stdout",
          "text": [
            "49\t47\t45\t43\t41\t39\t37\t35\t33\t31\t29\t27\t25\t23\t21\t19\t17\t15\t13\t11\t"
          ]
        }
      ]
    },
    {
      "cell_type": "code",
      "source": [
        "i = 10 \n",
        "\n",
        "while i <=22:\n",
        "  j=1\n",
        "  while j<=10:\n",
        "    print(i*j,end=\"\\t\") \n",
        "    j+=1\n",
        "  print()  \n",
        "  i+=1   \n"
      ],
      "metadata": {
        "colab": {
          "base_uri": "https://localhost:8080/"
        },
        "id": "LsPG1lozdjjx",
        "outputId": "9a35b8f7-3bb3-43fc-e840-8fe149fa8d7c"
      },
      "id": "LsPG1lozdjjx",
      "execution_count": null,
      "outputs": [
        {
          "output_type": "stream",
          "name": "stdout",
          "text": [
            "10\t20\t30\t40\t50\t60\t70\t80\t90\t100\t\n",
            "11\t22\t33\t44\t55\t66\t77\t88\t99\t110\t\n",
            "12\t24\t36\t48\t60\t72\t84\t96\t108\t120\t\n",
            "13\t26\t39\t52\t65\t78\t91\t104\t117\t130\t\n",
            "14\t28\t42\t56\t70\t84\t98\t112\t126\t140\t\n",
            "15\t30\t45\t60\t75\t90\t105\t120\t135\t150\t\n",
            "16\t32\t48\t64\t80\t96\t112\t128\t144\t160\t\n",
            "17\t34\t51\t68\t85\t102\t119\t136\t153\t170\t\n",
            "18\t36\t54\t72\t90\t108\t126\t144\t162\t180\t\n",
            "19\t38\t57\t76\t95\t114\t133\t152\t171\t190\t\n",
            "20\t40\t60\t80\t100\t120\t140\t160\t180\t200\t\n",
            "21\t42\t63\t84\t105\t126\t147\t168\t189\t210\t\n",
            "22\t44\t66\t88\t110\t132\t154\t176\t198\t220\t\n"
          ]
        }
      ]
    },
    {
      "cell_type": "code",
      "source": [
        "num = int(input(\"Dear User ENter a number for find the factorial \"))\n",
        "\n",
        "df=1 \n",
        "i=1 \n",
        "while i<=num:\n",
        "  df*=i\n",
        "  i+=1 \n",
        "\n",
        "print(\"Factorial = \",df)  "
      ],
      "metadata": {
        "colab": {
          "base_uri": "https://localhost:8080/"
        },
        "id": "7f69Ahv3djs-",
        "outputId": "86e1a39d-f094-459a-81b7-ad380fe74b9e"
      },
      "id": "7f69Ahv3djs-",
      "execution_count": null,
      "outputs": [
        {
          "output_type": "stream",
          "name": "stdout",
          "text": [
            "Dear User ENter a number for find the factorial 6\n",
            "Factorial =  720\n"
          ]
        }
      ]
    },
    {
      "cell_type": "code",
      "source": [
        "num = int(input(\"Dear User ENter a number to check prime or not  \")) \n",
        "i=2\n",
        "if num>1:\n",
        "  while  i<num:\n",
        "    if num % i == 0:\n",
        "      print(num,\" is Non-Prime Number \")\n",
        "      break \n",
        "    i+=1   \n",
        "  else:\n",
        "    print(num, ' is Prime Number ') \n",
        "       \n",
        "      \n"
      ],
      "metadata": {
        "colab": {
          "base_uri": "https://localhost:8080/"
        },
        "id": "Pcjm2vpcdj1g",
        "outputId": "f52a500b-0f7e-4a7c-f7f3-319582669eb3"
      },
      "id": "Pcjm2vpcdj1g",
      "execution_count": null,
      "outputs": [
        {
          "output_type": "stream",
          "name": "stdout",
          "text": [
            "Dear User ENter a number to check prime or not  7\n",
            "7  is Prime Number \n"
          ]
        }
      ]
    },
    {
      "cell_type": "code",
      "source": [],
      "metadata": {
        "id": "vOtscRTmbcE1"
      },
      "id": "vOtscRTmbcE1",
      "execution_count": null,
      "outputs": []
    },
    {
      "cell_type": "code",
      "source": [],
      "metadata": {
        "id": "JqeVPvJkzSE9"
      },
      "id": "JqeVPvJkzSE9",
      "execution_count": null,
      "outputs": []
    },
    {
      "cell_type": "code",
      "source": [],
      "metadata": {
        "id": "NDEnDqw7zSTT"
      },
      "id": "NDEnDqw7zSTT",
      "execution_count": null,
      "outputs": []
    },
    {
      "cell_type": "code",
      "source": [],
      "metadata": {
        "id": "rDMrw5bxzSbf"
      },
      "id": "rDMrw5bxzSbf",
      "execution_count": null,
      "outputs": []
    },
    {
      "cell_type": "code",
      "source": [],
      "metadata": {
        "id": "Gqg1-XbpzSl_"
      },
      "id": "Gqg1-XbpzSl_",
      "execution_count": null,
      "outputs": []
    },
    {
      "cell_type": "code",
      "source": [
        "num = -20\n",
        "\n",
        "if num >= 0:\n",
        "  print(num, ' is a Positive Number ') \n",
        "  print(\"This is Our Python \")\n",
        "  print(\"This is if bolock \")\n",
        "\n",
        "  print(\"This is also depend on if condition \")\n",
        "\n",
        "else:\n",
        "  print(num,\" is Negative Number \")\n",
        "  print(\"This is else block\") \n",
        "\n",
        "\n"
      ],
      "metadata": {
        "colab": {
          "base_uri": "https://localhost:8080/"
        },
        "id": "gCPcm_wOS9bU",
        "outputId": "fcd35fc1-e6f6-44e3-9e57-4e197d535adc"
      },
      "id": "gCPcm_wOS9bU",
      "execution_count": null,
      "outputs": [
        {
          "output_type": "stream",
          "name": "stdout",
          "text": [
            "-20  is Negative Number \n",
            "This is else block\n"
          ]
        }
      ]
    },
    {
      "cell_type": "code",
      "source": [
        "num1 = int(input(\"Enter a Number to Even Check :- \"))\n",
        "\n",
        "if num1 % 2 == 0:\n",
        "  print(num1,\" is Even Number \") \n",
        "\n",
        "else:\n",
        "  print(num1,' is Odd Number ')  "
      ],
      "metadata": {
        "colab": {
          "base_uri": "https://localhost:8080/"
        },
        "id": "RdnTuSPzS9s_",
        "outputId": "f58e102c-2d1d-4754-bf12-04a1978bdf80"
      },
      "id": "RdnTuSPzS9s_",
      "execution_count": null,
      "outputs": [
        {
          "output_type": "stream",
          "name": "stdout",
          "text": [
            "Enter a Number to Even Check :- 13\n",
            "13  is Odd Number \n"
          ]
        }
      ]
    },
    {
      "cell_type": "code",
      "source": [
        "num1 = int(input(\"Enter a Number  :- \")) \n",
        "\n",
        "if num1< 0:\n",
        "  print(num1, ' is Negative number ')\n",
        "\n",
        "elif num1 >=0  and num1<=10:\n",
        "  print(num1,' is lie between 0 to 10') \n",
        "\n",
        "elif num1>10  and num1<=20:\n",
        "  print(num1,\" is lie between 10 to 20 \")\n",
        "\n",
        "else:\n",
        "  print(num1, ' is greater than 20 ')    "
      ],
      "metadata": {
        "colab": {
          "base_uri": "https://localhost:8080/"
        },
        "id": "SC8dE9VgS96Z",
        "outputId": "34d60cdf-7ea2-452c-c143-a2cfeb9a1e43"
      },
      "id": "SC8dE9VgS96Z",
      "execution_count": null,
      "outputs": [
        {
          "output_type": "stream",
          "name": "stdout",
          "text": [
            "Enter a Number  :- 6\n",
            "6  is lie between 0 to 10\n"
          ]
        }
      ]
    },
    {
      "cell_type": "code",
      "source": [
        "name = input(\"Dear User Enter your Name :- \")\n",
        "\n",
        "if len(name) == 3:\n",
        "  print(f\"Dear {name}, your Name is really Good \")\n",
        "\n",
        "elif len(name) >3 and len(name) <= 5:\n",
        "  print(f\"Dear {name}, your Name is also Good \")  \n",
        "\n",
        "else:\n",
        "  print(f\"Dear {name}, your Name is too much long \")  \n",
        "  dec = input(f\"Dear {name}, if you want we recomend you Name (y/n):- \")\n",
        "\n",
        "  if dec == 'y' or dec == 'Y':\n",
        "    print('what about Aryan Shashank Ansh Santosh ') \n",
        "\n",
        "    ch = input(\"Dear , are you satisfying with above name or not (y/n)\") \n",
        "    if ch=='y' or ch=='Y':\n",
        "      print(\"Thanks for considering \")\n",
        "    else:\n",
        "      print(\"what about sohan mohan rohan shyam krishna\")  \n",
        "      df = input(\"Dear , are you satisfying with above name or not (y/n)\") \n",
        "      if df=='n' or df =='N':\n",
        "        print(f'Dear {name} , we have no more option ,Better Luck Next attempt ')\n",
        "      else:\n",
        "        print('Thanks for visiting ')   \n",
        "        \n",
        "\n",
        "\n",
        "  else:\n",
        "    print(f\"Dear {name} ,Thanks for visit \")  "
      ],
      "metadata": {
        "colab": {
          "base_uri": "https://localhost:8080/"
        },
        "id": "RmGfLp90S-Ho",
        "outputId": "42b56aac-8f51-44f2-a412-f2537e59e34a"
      },
      "id": "RmGfLp90S-Ho",
      "execution_count": null,
      "outputs": [
        {
          "output_type": "stream",
          "name": "stdout",
          "text": [
            "Dear User Enter your Name :- DAYANAND \n",
            "Dear DAYANAND , your Name is too much long \n",
            "Dear DAYANAND , if you want we recomend you Name (y/n):- y\n",
            "what about Aryan Shashank Ansh Santosh \n",
            "Dear , are you satisfying with above name or not (y/n)n\n",
            "what about sohan mohan rohan shyam krishna\n",
            "Dear , are you satisfying with above name or not (y/n)n\n",
            "Dear DAYANAND  , we have no more option ,Better Luck Next attempt \n"
          ]
        }
      ]
    },
    {
      "cell_type": "code",
      "source": [],
      "metadata": {
        "id": "4bpqUzLvS-Tl"
      },
      "id": "4bpqUzLvS-Tl",
      "execution_count": null,
      "outputs": []
    },
    {
      "cell_type": "code",
      "source": [],
      "metadata": {
        "id": "e3fTPR-OS-gD"
      },
      "id": "e3fTPR-OS-gD",
      "execution_count": null,
      "outputs": []
    },
    {
      "cell_type": "code",
      "source": [],
      "metadata": {
        "id": "6tBklNVES-sW"
      },
      "id": "6tBklNVES-sW",
      "execution_count": null,
      "outputs": []
    },
    {
      "cell_type": "code",
      "source": [],
      "metadata": {
        "id": "ucrc4b5US-4q"
      },
      "id": "ucrc4b5US-4q",
      "execution_count": null,
      "outputs": []
    },
    {
      "cell_type": "code",
      "source": [],
      "metadata": {
        "id": "tByogWK1S_Eo"
      },
      "id": "tByogWK1S_Eo",
      "execution_count": null,
      "outputs": []
    },
    {
      "cell_type": "code",
      "source": [],
      "metadata": {
        "id": "5iHXD-VxS_QX"
      },
      "id": "5iHXD-VxS_QX",
      "execution_count": null,
      "outputs": []
    },
    {
      "cell_type": "code",
      "source": [],
      "metadata": {
        "id": "Gmq-Uib7S_dx"
      },
      "id": "Gmq-Uib7S_dx",
      "execution_count": null,
      "outputs": []
    },
    {
      "cell_type": "code",
      "source": [
        "num = int(input('Enter a Numner ')) \n",
        "\n",
        "if num > 10:\n",
        "  print(num ,\" is Greater than 10\")\n",
        "  print('This is our Python Class')\n",
        "  print('Today is Friday ')\n",
        " \n",
        "print(\"This is not of if block\") \n"
      ],
      "metadata": {
        "colab": {
          "base_uri": "https://localhost:8080/"
        },
        "id": "wIocaV9OKwgV",
        "outputId": "1ddefa20-3274-4121-a39b-d1237b29ec59"
      },
      "id": "wIocaV9OKwgV",
      "execution_count": null,
      "outputs": [
        {
          "output_type": "stream",
          "name": "stdout",
          "text": [
            "Enter a Numner 6\n",
            "This is not of if block\n"
          ]
        }
      ]
    },
    {
      "cell_type": "code",
      "source": [
        "num = int(input('Enter a Numner ')) \n",
        "\n",
        "if num > 10:\n",
        "  print(num ,\" is Greater than 10\") \n",
        "\n",
        "else: \n",
        "  print(num,' is less than 10')  "
      ],
      "metadata": {
        "colab": {
          "base_uri": "https://localhost:8080/"
        },
        "id": "QUzN5WKYKwmt",
        "outputId": "e8712f86-ff92-4141-d146-473f642e7ec8"
      },
      "id": "QUzN5WKYKwmt",
      "execution_count": null,
      "outputs": [
        {
          "output_type": "stream",
          "name": "stdout",
          "text": [
            "Enter a Numner 7 \n",
            "7  is less than 10\n"
          ]
        }
      ]
    },
    {
      "cell_type": "code",
      "source": [
        "df = int(input(\" Dear User , Enter a Number for Even Check :- \")) \n",
        "\n",
        "if df %2==0:\n",
        "  print(df,' is Even Number ')\n",
        "else:\n",
        "  print(df, ' is odd Number ')   "
      ],
      "metadata": {
        "colab": {
          "base_uri": "https://localhost:8080/"
        },
        "id": "6GaY63ceKwsY",
        "outputId": "42112a13-fb36-4437-81d1-107692922c37"
      },
      "id": "6GaY63ceKwsY",
      "execution_count": null,
      "outputs": [
        {
          "output_type": "stream",
          "name": "stdout",
          "text": [
            " Dear User , Enter a Number for Even Check :- 34\n",
            "34  is Even Number \n"
          ]
        }
      ]
    },
    {
      "cell_type": "code",
      "source": [
        "nm = input(\"Enter your Name :- \")\n",
        "\n",
        "if len(nm) <5:\n",
        "  print(f'Dear {nm}, your Name is Good ') \n",
        "else:\n",
        "  print(f'Dear {nm}, your Name too much Long')   "
      ],
      "metadata": {
        "colab": {
          "base_uri": "https://localhost:8080/"
        },
        "id": "p0TzyfPIKw1T",
        "outputId": "ca89673f-86ec-4f23-b101-a0de582ebecd"
      },
      "id": "p0TzyfPIKw1T",
      "execution_count": null,
      "outputs": [
        {
          "output_type": "stream",
          "name": "stdout",
          "text": [
            "Enter your Name :- DYANANAND\n",
            "Dear DYANANAND, your Name too much Long\n"
          ]
        }
      ]
    },
    {
      "cell_type": "code",
      "source": [
        "nm = input(\"Enter your Name :- \")\n",
        "df = input('Enter Character that you want to search:- ')\n",
        "\n",
        "if nm.count(df) < 3:\n",
        "  print(f'Dear {nm}, {df} comes only {nm.count(df)} times in your Name ') \n",
        "else:\n",
        "  print(f'Dear {nm}, {df} comes Multiple time in Your Name ')  "
      ],
      "metadata": {
        "colab": {
          "base_uri": "https://localhost:8080/"
        },
        "id": "m80biIgsKw-U",
        "outputId": "65ea29a5-59e3-41e4-d56a-1fdb536ce61d"
      },
      "id": "m80biIgsKw-U",
      "execution_count": null,
      "outputs": [
        {
          "output_type": "stream",
          "name": "stdout",
          "text": [
            "Enter your Name :- Chirag\n",
            "Enter Character that you want to search:- r\n",
            "Dear Chirag, r comes only 1 times in your Name \n"
          ]
        }
      ]
    },
    {
      "cell_type": "code",
      "source": [
        "nm < = 3:- Good Name \n",
        "nm > 3 and nm <=5: - also Good\n",
        "nm > 5 :- is too much long "
      ],
      "metadata": {
        "id": "7oAbhqWjKxEO"
      },
      "id": "7oAbhqWjKxEO",
      "execution_count": null,
      "outputs": []
    },
    {
      "cell_type": "code",
      "source": [
        "nm = input('Dear User, Enter your Name :- ')\n",
        "\n",
        "if len(nm) <= 3:\n",
        "  print(nm, ' your Name is Good ')\n",
        "elif len(nm) > 3 and len(nm)<=5:\n",
        "  print(nm, ' your Name is also good')\n",
        "else:\n",
        "  print(nm, ' your Name is too much long ')  \n",
        "  dec = input('Dear User if you want then we recomend you name :- y/n')\n",
        "\n",
        "  if dec == 'y':\n",
        "    print('what about Kitu, Bitu, situ, Chiku , Vijay ') \n",
        "    fd = input('Are you statisfied with these above Name - y/n')\n",
        "    if fd == 'y':\n",
        "      print('Thanks for consider our recomended Name ,GOOD Luck ') \n",
        "    elif fd =='n':\n",
        "      print('What about divansh,mohan, sohan ,shyam ') \n",
        "    else:\n",
        "      print('Invlid Input, Better Luck Next Attempt ')   \n",
        "  else:\n",
        "    print('Thanks for visit ')     "
      ],
      "metadata": {
        "colab": {
          "base_uri": "https://localhost:8080/"
        },
        "id": "_7t0QfyYKxKc",
        "outputId": "946a912c-34d6-4ee2-b794-87a22fa4a6d3"
      },
      "id": "_7t0QfyYKxKc",
      "execution_count": null,
      "outputs": [
        {
          "output_type": "stream",
          "name": "stdout",
          "text": [
            "Dear User, Enter your Name :- MANJUlika\n",
            "MANJUlika  your Name is too much long \n",
            "Dear User if you want then we recomend you name :- y/ny\n",
            "what about Kitu, Bitu, situ, Chiku , Vijay \n",
            "Are you statisfied with these above Name - y/nn\n",
            "What about divansh,mohan, sohan ,shyam \n"
          ]
        }
      ]
    },
    {
      "cell_type": "code",
      "source": [
        "n1 = int(input('Enter a Number = '))\n",
        "\n",
        "if n1 < 0:\n",
        "  print(n1, ' is a Negative Number ')\n",
        "else: \n",
        "  print(n1,' is Positive Number ')   "
      ],
      "metadata": {
        "id": "x2ARLfXSKxQQ",
        "colab": {
          "base_uri": "https://localhost:8080/"
        },
        "outputId": "09244e33-5d46-42d1-bbbf-6b05aed2d8cb"
      },
      "id": "x2ARLfXSKxQQ",
      "execution_count": null,
      "outputs": [
        {
          "output_type": "stream",
          "name": "stdout",
          "text": [
            "Enter a Number = -1\n",
            "-1  is a Negative Number \n"
          ]
        }
      ]
    },
    {
      "cell_type": "code",
      "source": [
        "# while loop \n",
        "# for loop \n",
        "ram\n",
        "ram\n",
        "ram\n",
        "ram \n",
        "ram"
      ],
      "metadata": {
        "id": "l0uzObn-zSGW"
      },
      "id": "l0uzObn-zSGW",
      "execution_count": null,
      "outputs": []
    },
    {
      "cell_type": "code",
      "source": [
        "# while loop:- \n",
        "# while condition1:\n",
        "#     statement "
      ],
      "metadata": {
        "id": "kmFlY6aizSP2"
      },
      "id": "kmFlY6aizSP2",
      "execution_count": null,
      "outputs": []
    },
    {
      "cell_type": "code",
      "source": [
        "n=1 \n",
        "\n",
        "while n<=5:\n",
        "  print('Ram')\n",
        "  n=n+1\n"
      ],
      "metadata": {
        "colab": {
          "base_uri": "https://localhost:8080/"
        },
        "id": "3tCy9s7TzSYL",
        "outputId": "fa628b7e-ecfe-4750-c050-014e7a6ee3c9"
      },
      "id": "3tCy9s7TzSYL",
      "execution_count": null,
      "outputs": [
        {
          "output_type": "stream",
          "name": "stdout",
          "text": [
            "Ram\n",
            "Ram\n",
            "Ram\n",
            "Ram\n",
            "Ram\n"
          ]
        }
      ]
    },
    {
      "cell_type": "code",
      "source": [
        "n1=1 \n",
        "while n1<=10:\n",
        "  print(n1)\n",
        "  n1=n1+1  \n"
      ],
      "metadata": {
        "colab": {
          "base_uri": "https://localhost:8080/"
        },
        "id": "XbaWos3pzShN",
        "outputId": "e4fd0a1e-115f-4d17-8efd-d16a3324bc96"
      },
      "id": "XbaWos3pzShN",
      "execution_count": null,
      "outputs": [
        {
          "output_type": "stream",
          "name": "stdout",
          "text": [
            "1\n",
            "2\n",
            "3\n",
            "4\n",
            "5\n",
            "6\n",
            "7\n",
            "8\n",
            "9\n",
            "10\n"
          ]
        }
      ]
    },
    {
      "cell_type": "code",
      "source": [
        "n1=10 \n",
        "\n",
        "while n1>=1:\n",
        "  print(n1)\n",
        "  n1=n1-1\n",
        " "
      ],
      "metadata": {
        "colab": {
          "base_uri": "https://localhost:8080/"
        },
        "id": "AJAMr0nVzSpL",
        "outputId": "3c1afad8-707a-498e-f020-bc1c1b9ab5c8"
      },
      "id": "AJAMr0nVzSpL",
      "execution_count": null,
      "outputs": [
        {
          "output_type": "stream",
          "name": "stdout",
          "text": [
            "10\n",
            "9\n",
            "8\n",
            "7\n",
            "6\n",
            "5\n",
            "4\n",
            "3\n",
            "2\n",
            "1\n"
          ]
        }
      ]
    },
    {
      "cell_type": "code",
      "source": [
        "n1=1 \n",
        "while n1<=10:\n",
        "  print(n1)\n",
        "  n1=n1+2 "
      ],
      "metadata": {
        "colab": {
          "base_uri": "https://localhost:8080/"
        },
        "id": "0k2S4xgEzSxF",
        "outputId": "fe490bb5-2192-4750-cbe6-0f99474ee184"
      },
      "id": "0k2S4xgEzSxF",
      "execution_count": null,
      "outputs": [
        {
          "output_type": "stream",
          "name": "stdout",
          "text": [
            "1\n",
            "3\n",
            "5\n",
            "7\n",
            "9\n"
          ]
        }
      ]
    },
    {
      "cell_type": "code",
      "source": [
        "n1=13\n",
        "while n1 <= 131:\n",
        "  print(n1) \n",
        "  n1 = n1+13  "
      ],
      "metadata": {
        "colab": {
          "base_uri": "https://localhost:8080/"
        },
        "id": "FIu0tdDXzS4u",
        "outputId": "a3be8fea-df6b-481d-d865-b6d300f8558e"
      },
      "id": "FIu0tdDXzS4u",
      "execution_count": null,
      "outputs": [
        {
          "output_type": "stream",
          "name": "stdout",
          "text": [
            "13\n",
            "26\n",
            "39\n",
            "52\n",
            "65\n",
            "78\n",
            "91\n",
            "104\n",
            "117\n",
            "130\n"
          ]
        }
      ]
    },
    {
      "cell_type": "code",
      "source": [
        "n1=2 \n",
        "while n1 <=100:\n",
        "  print(n1)\n",
        "  n1=n1+2"
      ],
      "metadata": {
        "colab": {
          "base_uri": "https://localhost:8080/"
        },
        "id": "_avLIl80zTCV",
        "outputId": "a8fa5fb1-b25f-4033-a90f-41692b77a48b"
      },
      "id": "_avLIl80zTCV",
      "execution_count": null,
      "outputs": [
        {
          "output_type": "stream",
          "name": "stdout",
          "text": [
            "2\n",
            "4\n",
            "6\n",
            "8\n",
            "10\n",
            "12\n",
            "14\n",
            "16\n",
            "18\n",
            "20\n",
            "22\n",
            "24\n",
            "26\n",
            "28\n",
            "30\n",
            "32\n",
            "34\n",
            "36\n",
            "38\n",
            "40\n",
            "42\n",
            "44\n",
            "46\n",
            "48\n",
            "50\n",
            "52\n",
            "54\n",
            "56\n",
            "58\n",
            "60\n",
            "62\n",
            "64\n",
            "66\n",
            "68\n",
            "70\n",
            "72\n",
            "74\n",
            "76\n",
            "78\n",
            "80\n",
            "82\n",
            "84\n",
            "86\n",
            "88\n",
            "90\n",
            "92\n",
            "94\n",
            "96\n",
            "98\n",
            "100\n"
          ]
        }
      ]
    },
    {
      "cell_type": "code",
      "source": [
        "n1=100 \n",
        "\n",
        "while n1>=1:\n",
        "  print(n1)\n",
        "  n1=n1-2"
      ],
      "metadata": {
        "colab": {
          "base_uri": "https://localhost:8080/"
        },
        "id": "uWdgc-H36F1J",
        "outputId": "abb8cb73-07de-420e-8e0c-c98097d9cd4f"
      },
      "id": "uWdgc-H36F1J",
      "execution_count": null,
      "outputs": [
        {
          "output_type": "stream",
          "name": "stdout",
          "text": [
            "100\n",
            "98\n",
            "96\n",
            "94\n",
            "92\n",
            "90\n",
            "88\n",
            "86\n",
            "84\n",
            "82\n",
            "80\n",
            "78\n",
            "76\n",
            "74\n",
            "72\n",
            "70\n",
            "68\n",
            "66\n",
            "64\n",
            "62\n",
            "60\n",
            "58\n",
            "56\n",
            "54\n",
            "52\n",
            "50\n",
            "48\n",
            "46\n",
            "44\n",
            "42\n",
            "40\n",
            "38\n",
            "36\n",
            "34\n",
            "32\n",
            "30\n",
            "28\n",
            "26\n",
            "24\n",
            "22\n",
            "20\n",
            "18\n",
            "16\n",
            "14\n",
            "12\n",
            "10\n",
            "8\n",
            "6\n",
            "4\n",
            "2\n"
          ]
        }
      ]
    },
    {
      "cell_type": "code",
      "source": [
        "i=2\n",
        "while i<=10:\n",
        "  j=1\n",
        "  while j<=10: \n",
        "    print(i*j,end=\"\\t\")\n",
        "    j=j+1 \n",
        "  print ()\n",
        "  i=i+1  "
      ],
      "metadata": {
        "colab": {
          "base_uri": "https://localhost:8080/"
        },
        "id": "J2BNK2R26F-j",
        "outputId": "979f3a8d-8655-467e-9001-e794b3d75f63"
      },
      "id": "J2BNK2R26F-j",
      "execution_count": null,
      "outputs": [
        {
          "output_type": "stream",
          "name": "stdout",
          "text": [
            "2\t4\t6\t8\t10\t12\t14\t16\t18\t20\t\n",
            "3\t6\t9\t12\t15\t18\t21\t24\t27\t30\t\n",
            "4\t8\t12\t16\t20\t24\t28\t32\t36\t40\t\n",
            "5\t10\t15\t20\t25\t30\t35\t40\t45\t50\t\n",
            "6\t12\t18\t24\t30\t36\t42\t48\t54\t60\t\n",
            "7\t14\t21\t28\t35\t42\t49\t56\t63\t70\t\n",
            "8\t16\t24\t32\t40\t48\t56\t64\t72\t80\t\n",
            "9\t18\t27\t36\t45\t54\t63\t72\t81\t90\t\n",
            "10\t20\t30\t40\t50\t60\t70\t80\t90\t100\t\n"
          ]
        }
      ]
    },
    {
      "cell_type": "code",
      "source": [
        "## EOD - 21-03-2023"
      ],
      "metadata": {
        "id": "sjvxPFQq6GJ5"
      },
      "id": "sjvxPFQq6GJ5",
      "execution_count": null,
      "outputs": []
    },
    {
      "cell_type": "code",
      "source": [
        "n1 = int(input('Dear User, Enter a Number for Prime Check:- '))\n",
        "\n",
        "i=2\n",
        "if n1>1:\n",
        "  while i<n1:\n",
        "    if n1 % i == 0:\n",
        "      print(n1,' Non-Prime Number ')\n",
        "      break \n",
        "    i+=1   \n",
        "  else:\n",
        "    print(n1,' is Prime Number ')\n",
        "   "
      ],
      "metadata": {
        "id": "NeQvR-yq6GZL",
        "colab": {
          "base_uri": "https://localhost:8080/"
        },
        "outputId": "226f743a-4696-4f41-dd21-746763a32a55"
      },
      "id": "NeQvR-yq6GZL",
      "execution_count": null,
      "outputs": [
        {
          "output_type": "stream",
          "name": "stdout",
          "text": [
            "Dear User, Enter a Number for Prime Check:- 51\n",
            "51  Non-Prime Number \n"
          ]
        }
      ]
    },
    {
      "cell_type": "code",
      "source": [
        "# write a program to find factorial \n",
        "n1 = int(input('Dear User, Enter a Number for find factorial :- '))\n",
        "f=1\n",
        "if n1>=0:\n",
        "  while n1>=1:\n",
        "    f=f*n1 \n",
        "    n1=n1-1  \n",
        "\n",
        "  print('Factorial =',f)    \n",
        "else:\n",
        "  print('Invalid Input')  "
      ],
      "metadata": {
        "colab": {
          "base_uri": "https://localhost:8080/"
        },
        "id": "vF979cNY7VTc",
        "outputId": "6335e618-6343-4abe-bd63-d4adcbbb8e61"
      },
      "id": "vF979cNY7VTc",
      "execution_count": null,
      "outputs": [
        {
          "output_type": "stream",
          "name": "stdout",
          "text": [
            "Dear User, Enter a Number for find factorial :- 0\n",
            "Factorial = 1\n"
          ]
        }
      ]
    },
    {
      "cell_type": "code",
      "source": [
        "i=1 \n",
        "while i<=4:\n",
        "  j=1 \n",
        "  while j<=i:\n",
        "    print(\"*\",end=\" \")\n",
        "    j=j+1 \n",
        "  print()   \n",
        "  i+=1  \n"
      ],
      "metadata": {
        "colab": {
          "base_uri": "https://localhost:8080/"
        },
        "id": "qNb0pEye7VYJ",
        "outputId": "570d66c2-a6d5-4343-c04e-1eebe7e6f1a7"
      },
      "id": "qNb0pEye7VYJ",
      "execution_count": null,
      "outputs": [
        {
          "output_type": "stream",
          "name": "stdout",
          "text": [
            "* \n",
            "* * \n",
            "* * * \n",
            "* * * * \n"
          ]
        }
      ]
    },
    {
      "cell_type": "code",
      "source": [
        "\"*\" * 3"
      ],
      "metadata": {
        "colab": {
          "base_uri": "https://localhost:8080/",
          "height": 35
        },
        "id": "srGNdSoE7Vdw",
        "outputId": "f10506f8-9255-4088-eb8d-4286f273852f"
      },
      "id": "srGNdSoE7Vdw",
      "execution_count": null,
      "outputs": [
        {
          "output_type": "execute_result",
          "data": {
            "text/plain": [
              "'***'"
            ],
            "application/vnd.google.colaboratory.intrinsic+json": {
              "type": "string"
            }
          },
          "metadata": {},
          "execution_count": 14
        }
      ]
    },
    {
      "cell_type": "code",
      "source": [
        "i=1 \n",
        "while i<=4:\n",
        "  print(\" * \"*i)\n",
        "  i+=1"
      ],
      "metadata": {
        "colab": {
          "base_uri": "https://localhost:8080/"
        },
        "id": "P9zhfRrC7Viq",
        "outputId": "8c5a3939-6756-4aa4-d5cb-2f3fcef12cfe"
      },
      "id": "P9zhfRrC7Viq",
      "execution_count": null,
      "outputs": [
        {
          "output_type": "stream",
          "name": "stdout",
          "text": [
            " * \n",
            " *  * \n",
            " *  *  * \n",
            " *  *  *  * \n"
          ]
        }
      ]
    },
    {
      "cell_type": "code",
      "source": [
        "i=4 \n",
        "while i>=1:\n",
        "  j=1\n",
        "  while j<=i:\n",
        "    print(\"*\",end=\" \")\n",
        "    j+=1 \n",
        "  print()  \n",
        "  i-=1   "
      ],
      "metadata": {
        "id": "lPRs7rF76Glj",
        "colab": {
          "base_uri": "https://localhost:8080/"
        },
        "outputId": "63793c2b-3681-4429-972a-ed6ff15f9273"
      },
      "id": "lPRs7rF76Glj",
      "execution_count": null,
      "outputs": [
        {
          "output_type": "stream",
          "name": "stdout",
          "text": [
            "* * * * \n",
            "* * * \n",
            "* * \n",
            "* \n"
          ]
        }
      ]
    },
    {
      "cell_type": "code",
      "source": [
        "i=4 \n",
        "while i>=1:\n",
        "  print(\" * \"*i)\n",
        "  i-=1 "
      ],
      "metadata": {
        "colab": {
          "base_uri": "https://localhost:8080/"
        },
        "id": "LfMBp3cqGVit",
        "outputId": "b50d0a34-1b51-458c-e4b1-7b82a5646ab6"
      },
      "id": "LfMBp3cqGVit",
      "execution_count": null,
      "outputs": [
        {
          "output_type": "stream",
          "name": "stdout",
          "text": [
            " *  *  *  * \n",
            " *  *  * \n",
            " *  * \n",
            " * \n"
          ]
        }
      ]
    },
    {
      "cell_type": "code",
      "source": [
        "i=10\n",
        "s=1\n",
        "while i>=1:\n",
        "  j=1\n",
        "  k=1\n",
        "  while j<i:\n",
        "    print(\" \",end=\" \")\n",
        "    j+=1 \n",
        "  while k<=s:  \n",
        "    print(\" * \",end=\" \")\n",
        "    k=k+1\n",
        "  print()\n",
        "\n",
        "  s+=1  \n",
        "  i-=1   "
      ],
      "metadata": {
        "colab": {
          "base_uri": "https://localhost:8080/"
        },
        "id": "mUKVO69xGVq8",
        "outputId": "92fb65eb-857d-4006-82a2-9bb8eb425afd"
      },
      "id": "mUKVO69xGVq8",
      "execution_count": null,
      "outputs": [
        {
          "output_type": "stream",
          "name": "stdout",
          "text": [
            "                   *  \n",
            "                 *   *  \n",
            "               *   *   *  \n",
            "             *   *   *   *  \n",
            "           *   *   *   *   *  \n",
            "         *   *   *   *   *   *  \n",
            "       *   *   *   *   *   *   *  \n",
            "     *   *   *   *   *   *   *   *  \n",
            "   *   *   *   *   *   *   *   *   *  \n",
            " *   *   *   *   *   *   *   *   *   *  \n"
          ]
        }
      ]
    },
    {
      "cell_type": "code",
      "source": [
        "# for loop :- \n",
        "for i in range(10,21,2):\n",
        "  print(i) "
      ],
      "metadata": {
        "colab": {
          "base_uri": "https://localhost:8080/"
        },
        "id": "y_pzdf9lGVxM",
        "outputId": "c3e7adad-d02f-47ac-ad87-cd16bb938206"
      },
      "id": "y_pzdf9lGVxM",
      "execution_count": null,
      "outputs": [
        {
          "output_type": "stream",
          "name": "stdout",
          "text": [
            "10\n",
            "12\n",
            "14\n",
            "16\n",
            "18\n",
            "20\n"
          ]
        }
      ]
    },
    {
      "cell_type": "code",
      "source": [
        "for i in range(13,131,13):\n",
        "  print(i) "
      ],
      "metadata": {
        "colab": {
          "base_uri": "https://localhost:8080/"
        },
        "id": "y40ZWPp7OkM_",
        "outputId": "5f9038c9-d6c2-4a44-a8d3-56a38bfc9d55"
      },
      "id": "y40ZWPp7OkM_",
      "execution_count": null,
      "outputs": [
        {
          "output_type": "stream",
          "name": "stdout",
          "text": [
            "13\n",
            "26\n",
            "39\n",
            "52\n",
            "65\n",
            "78\n",
            "91\n",
            "104\n",
            "117\n",
            "130\n"
          ]
        }
      ]
    },
    {
      "cell_type": "code",
      "source": [
        "l2 = [11,22,44,55,77]\n",
        "\n",
        "for i in l2:\n",
        "  print(i) "
      ],
      "metadata": {
        "colab": {
          "base_uri": "https://localhost:8080/"
        },
        "id": "UAt121aRGV2z",
        "outputId": "319190a8-f81f-4be4-836d-3328a4bc10be"
      },
      "id": "UAt121aRGV2z",
      "execution_count": null,
      "outputs": [
        {
          "output_type": "stream",
          "name": "stdout",
          "text": [
            "11\n",
            "22\n",
            "44\n",
            "55\n",
            "77\n"
          ]
        }
      ]
    },
    {
      "cell_type": "code",
      "source": [
        "n=4\n",
        "m=9\n",
        "if n<m:\n",
        "  while n<=m:\n",
        "    i=2\n",
        "    while i <= (n//2)+1:\n",
        "      if n % i ==0:\n",
        "        break \n",
        "      i+=1 \n",
        "  else:\n",
        "\n",
        "\n",
        "\n",
        "    \n",
        "    print(n)     \n",
        "  n+=1\n"
      ],
      "metadata": {
        "id": "lhpzwMf8GV_D"
      },
      "id": "lhpzwMf8GV_D",
      "execution_count": null,
      "outputs": []
    },
    {
      "cell_type": "code",
      "source": [],
      "metadata": {
        "id": "y4FSubZwPoQ6"
      },
      "id": "y4FSubZwPoQ6",
      "execution_count": null,
      "outputs": []
    },
    {
      "cell_type": "code",
      "source": [
        "print(\"Dear User, Enter Five Number :- \")\n",
        "even =[]\n",
        "odd =[]\n",
        "for i in range(5):\n",
        "  num = int(input())\n",
        "  if num % 2==0:\n",
        "    even.append(num)\n",
        "  else:\n",
        "    odd.append(num)  \n",
        "print(f'Even Number :- {even} \\nodd Number :- {odd}')"
      ],
      "metadata": {
        "colab": {
          "base_uri": "https://localhost:8080/"
        },
        "id": "dB61whXF08Ez",
        "outputId": "fc350b6b-b413-4572-bfe8-3a46279dd484"
      },
      "id": "dB61whXF08Ez",
      "execution_count": null,
      "outputs": [
        {
          "output_type": "stream",
          "name": "stdout",
          "text": [
            "Dear User, Enter Five Number :- \n",
            "2\n",
            "3\n",
            "4\n",
            "6\n",
            "7\n",
            "Even Number :- [2, 4, 6] \n",
            "odd Number :- [3, 7]\n"
          ]
        }
      ]
    },
    {
      "cell_type": "code",
      "source": [
        "sqr = []\n",
        "\n",
        "for i in range(10,21):\n",
        "  sqr.append(i**2)\n",
        "\n",
        "print(sqr)   \n",
        "\n"
      ],
      "metadata": {
        "colab": {
          "base_uri": "https://localhost:8080/"
        },
        "id": "Lo7znmTY08NZ",
        "outputId": "f1a1afde-74ce-40cf-a945-8929a3e86417"
      },
      "id": "Lo7znmTY08NZ",
      "execution_count": null,
      "outputs": [
        {
          "output_type": "stream",
          "name": "stdout",
          "text": [
            "[100, 121, 144, 169, 196, 225, 256, 289, 324, 361, 400]\n"
          ]
        }
      ]
    },
    {
      "cell_type": "code",
      "source": [
        "sqr = [i  for i in range(10,21) if i%2==0] "
      ],
      "metadata": {
        "id": "q3mLO2h208Vp"
      },
      "id": "q3mLO2h208Vp",
      "execution_count": null,
      "outputs": []
    },
    {
      "cell_type": "code",
      "source": [
        "sqr"
      ],
      "metadata": {
        "id": "yANLo28fPoXv",
        "colab": {
          "base_uri": "https://localhost:8080/"
        },
        "outputId": "2497ffe8-2c43-40fa-8e6f-2c2891c1f1e2"
      },
      "id": "yANLo28fPoXv",
      "execution_count": null,
      "outputs": [
        {
          "output_type": "execute_result",
          "data": {
            "text/plain": [
              "[10, 12, 14, 16, 18, 20]"
            ]
          },
          "metadata": {},
          "execution_count": 9
        }
      ]
    },
    {
      "cell_type": "code",
      "source": [
        "x,y = [int(i)  for i in input('Dear User Enter Two Number:- ').split(',')] "
      ],
      "metadata": {
        "id": "1at6g-ERPofe",
        "colab": {
          "base_uri": "https://localhost:8080/"
        },
        "outputId": "650a7624-b492-441c-f83b-126e6c431829"
      },
      "id": "1at6g-ERPofe",
      "execution_count": null,
      "outputs": [
        {
          "name": "stdout",
          "output_type": "stream",
          "text": [
            "Dear User Enter Two Number:- 12,45\n"
          ]
        }
      ]
    },
    {
      "cell_type": "code",
      "source": [
        "x"
      ],
      "metadata": {
        "id": "lFEM2ZTJ6GwI",
        "colab": {
          "base_uri": "https://localhost:8080/"
        },
        "outputId": "e2b895b6-97fd-4eee-a765-28cf7b0051ea"
      },
      "id": "lFEM2ZTJ6GwI",
      "execution_count": null,
      "outputs": [
        {
          "output_type": "execute_result",
          "data": {
            "text/plain": [
              "12"
            ]
          },
          "metadata": {},
          "execution_count": 20
        }
      ]
    },
    {
      "cell_type": "code",
      "source": [
        "y"
      ],
      "metadata": {
        "id": "20F8UECVKxWf",
        "colab": {
          "base_uri": "https://localhost:8080/"
        },
        "outputId": "a28782eb-7008-416e-97cf-96caf8b98321"
      },
      "id": "20F8UECVKxWf",
      "execution_count": null,
      "outputs": [
        {
          "output_type": "execute_result",
          "data": {
            "text/plain": [
              "45"
            ]
          },
          "metadata": {},
          "execution_count": 21
        }
      ]
    },
    {
      "cell_type": "code",
      "source": [
        "l2 = ['aman','mohan','krishna','ram']\n",
        "# l2 =['Aman','Mohan','Krishna','Ram']\n",
        "\n",
        "l2 = [i.capitalize() for i in l2] "
      ],
      "metadata": {
        "id": "V7b4XF6HKxcM"
      },
      "id": "V7b4XF6HKxcM",
      "execution_count": null,
      "outputs": []
    },
    {
      "cell_type": "code",
      "source": [
        "l2"
      ],
      "metadata": {
        "colab": {
          "base_uri": "https://localhost:8080/"
        },
        "id": "ZWWWMBHj8RKS",
        "outputId": "02d759a5-8cc2-4bc7-e33d-b1149a680bfa"
      },
      "id": "ZWWWMBHj8RKS",
      "execution_count": null,
      "outputs": [
        {
          "output_type": "execute_result",
          "data": {
            "text/plain": [
              "['Aman', 'Mohan', 'Krishna', 'Ram']"
            ]
          },
          "metadata": {},
          "execution_count": 25
        }
      ]
    },
    {
      "cell_type": "code",
      "source": [],
      "metadata": {
        "id": "mM1qHVs08RVR"
      },
      "id": "mM1qHVs08RVR",
      "execution_count": null,
      "outputs": []
    },
    {
      "cell_type": "code",
      "source": [
        "df = [(i,i**2) for i in range(5,11)]"
      ],
      "metadata": {
        "id": "h3oPmJ5F6sjX"
      },
      "id": "h3oPmJ5F6sjX",
      "execution_count": null,
      "outputs": []
    },
    {
      "cell_type": "code",
      "source": [
        "df"
      ],
      "metadata": {
        "colab": {
          "base_uri": "https://localhost:8080/"
        },
        "id": "Gs0DV4io6su0",
        "outputId": "34a34945-d564-4517-8f28-126b2a45307d"
      },
      "id": "Gs0DV4io6su0",
      "execution_count": null,
      "outputs": [
        {
          "output_type": "execute_result",
          "data": {
            "text/plain": [
              "[(5, 25), (6, 36), (7, 49), (8, 64), (9, 81), (10, 100)]"
            ]
          },
          "metadata": {},
          "execution_count": 29
        }
      ]
    },
    {
      "cell_type": "code",
      "source": [
        "df ={ i:i**2 for i in range(10,21) if i % 2 == 0}"
      ],
      "metadata": {
        "id": "Kp9J5n0a6s2H"
      },
      "id": "Kp9J5n0a6s2H",
      "execution_count": null,
      "outputs": []
    },
    {
      "cell_type": "code",
      "source": [
        "df"
      ],
      "metadata": {
        "colab": {
          "base_uri": "https://localhost:8080/"
        },
        "id": "lbvu4-sV6tDb",
        "outputId": "c714c69c-d8c9-4465-b794-4d8a6bcb6d0f"
      },
      "id": "lbvu4-sV6tDb",
      "execution_count": null,
      "outputs": [
        {
          "output_type": "execute_result",
          "data": {
            "text/plain": [
              "{10: 100, 12: 144, 14: 196, 16: 256, 18: 324, 20: 400}"
            ]
          },
          "metadata": {},
          "execution_count": 33
        }
      ]
    },
    {
      "cell_type": "code",
      "source": [
        "l2 = ['John','Mohit','Chirag','Aman','Anni','John','Mohit'] "
      ],
      "metadata": {
        "id": "V5sn13Uv9l_C"
      },
      "id": "V5sn13Uv9l_C",
      "execution_count": null,
      "outputs": []
    },
    {
      "cell_type": "code",
      "source": [
        "d1 = {i:(len(i),l2.index(i),l2.count(i)) for i in l2}\n",
        "d1"
      ],
      "metadata": {
        "colab": {
          "base_uri": "https://localhost:8080/"
        },
        "id": "DtvFHK2b-WVI",
        "outputId": "d6dfcf8b-2e6c-431f-9656-af47a7357899"
      },
      "id": "DtvFHK2b-WVI",
      "execution_count": null,
      "outputs": [
        {
          "output_type": "execute_result",
          "data": {
            "text/plain": [
              "{'John': (4, 0, 2),\n",
              " 'Mohit': (5, 1, 2),\n",
              " 'Chirag': (6, 2, 1),\n",
              " 'Aman': (4, 3, 1),\n",
              " 'Anni': (4, 4, 1)}"
            ]
          },
          "metadata": {},
          "execution_count": 45
        }
      ]
    },
    {
      "cell_type": "code",
      "source": [
        "df1 = ['ram','mohan','chirag','mohit']\n",
        "df2 =[10,20,30,40]"
      ],
      "metadata": {
        "id": "Ep3SBLEw-Wiw"
      },
      "id": "Ep3SBLEw-Wiw",
      "execution_count": null,
      "outputs": []
    },
    {
      "cell_type": "code",
      "source": [
        "df3 = {k:v for k,v in zip(df1,df2)}"
      ],
      "metadata": {
        "id": "d--5NMlm-WqT"
      },
      "id": "d--5NMlm-WqT",
      "execution_count": null,
      "outputs": []
    },
    {
      "cell_type": "code",
      "source": [
        "df3"
      ],
      "metadata": {
        "colab": {
          "base_uri": "https://localhost:8080/"
        },
        "id": "yfD6w39a-BBK",
        "outputId": "84d72b9a-acf1-40fc-f505-51c01a6d8696"
      },
      "id": "yfD6w39a-BBK",
      "execution_count": null,
      "outputs": [
        {
          "output_type": "execute_result",
          "data": {
            "text/plain": [
              "{'ram': 10, 'mohan': 20, 'chirag': 30, 'mohit': 40}"
            ]
          },
          "metadata": {},
          "execution_count": 55
        }
      ]
    },
    {
      "cell_type": "code",
      "source": [
        "# EOD ---> "
      ],
      "metadata": {
        "id": "5LVakazM-BN2"
      },
      "id": "5LVakazM-BN2",
      "execution_count": null,
      "outputs": []
    },
    {
      "cell_type": "code",
      "source": [],
      "metadata": {
        "id": "gGdpeLz5-Bbm"
      },
      "id": "gGdpeLz5-Bbm",
      "execution_count": null,
      "outputs": []
    },
    {
      "cell_type": "code",
      "source": [],
      "metadata": {
        "id": "Cu7-Jqeh9mS3"
      },
      "id": "Cu7-Jqeh9mS3",
      "execution_count": null,
      "outputs": []
    },
    {
      "cell_type": "code",
      "source": [],
      "metadata": {
        "id": "vTj15oVD9mei"
      },
      "id": "vTj15oVD9mei",
      "execution_count": null,
      "outputs": []
    },
    {
      "cell_type": "code",
      "source": [],
      "metadata": {
        "id": "f_kWbOe66tOl"
      },
      "id": "f_kWbOe66tOl",
      "execution_count": null,
      "outputs": []
    },
    {
      "cell_type": "code",
      "source": [
        "n1 = 22 \n",
        "\n",
        "if n1<20:\n",
        "  print(\"This is less than 20 \")\n",
        "  print(\"This is our python class \")\n",
        "  print(\"here you want to imporove your skill\") \n",
        "print(\"this is out of if block\")  "
      ],
      "metadata": {
        "colab": {
          "base_uri": "https://localhost:8080/"
        },
        "id": "EUHIUkXMrZeJ",
        "outputId": "2c29945a-aaa6-43fc-a1f5-caf062c0891f"
      },
      "id": "EUHIUkXMrZeJ",
      "execution_count": null,
      "outputs": [
        {
          "output_type": "stream",
          "name": "stdout",
          "text": [
            "this is out of if block\n"
          ]
        }
      ]
    },
    {
      "cell_type": "code",
      "source": [
        "n1 = int(input(\"Enter 1st Number :- \")) \n",
        "\n",
        "if n1<0:\n",
        "  print(n1,' is a Negative Number ') \n",
        "else:\n",
        "  print(n1,' is Positive Number ')  "
      ],
      "metadata": {
        "colab": {
          "base_uri": "https://localhost:8080/"
        },
        "id": "ropIG1lDreVk",
        "outputId": "cae34c29-ae08-4ede-a1f8-bf67dc2b16f2"
      },
      "id": "ropIG1lDreVk",
      "execution_count": null,
      "outputs": [
        {
          "output_type": "stream",
          "name": "stdout",
          "text": [
            "Enter 1st Number :- 0 \n",
            "0  is Positive Number \n"
          ]
        }
      ]
    },
    {
      "cell_type": "code",
      "source": [
        "n1 = int(input(\"Enter 1st Number :- \"))  \n",
        "\n",
        "if n1 % 2 == 0:\n",
        "  print(n1, ' is an Even Number')\n",
        "else:\n",
        "  print(n1, ' is an odd Number')  \n"
      ],
      "metadata": {
        "colab": {
          "base_uri": "https://localhost:8080/"
        },
        "id": "5hch_cMsrecc",
        "outputId": "99357b82-e3d2-45bd-b9cf-8f602c47ca79"
      },
      "id": "5hch_cMsrecc",
      "execution_count": null,
      "outputs": [
        {
          "output_type": "stream",
          "name": "stdout",
          "text": [
            "Enter 1st Number :- 15\n",
            "15  is an odd Number\n"
          ]
        }
      ]
    },
    {
      "cell_type": "code",
      "source": [
        "# Palindromic number \n"
      ],
      "metadata": {
        "id": "SDwhSrmNvkkp"
      },
      "id": "SDwhSrmNvkkp",
      "execution_count": null,
      "outputs": []
    },
    {
      "cell_type": "code",
      "source": [
        "n1 = \"NITIN\" "
      ],
      "metadata": {
        "id": "lcEPrn-OvkuD"
      },
      "id": "lcEPrn-OvkuD",
      "execution_count": null,
      "outputs": []
    },
    {
      "cell_type": "code",
      "source": [
        "n2 = n1[::-1] "
      ],
      "metadata": {
        "id": "g0DVW2xUrekF"
      },
      "id": "g0DVW2xUrekF",
      "execution_count": null,
      "outputs": []
    },
    {
      "cell_type": "code",
      "source": [
        "n1 == n2  "
      ],
      "metadata": {
        "colab": {
          "base_uri": "https://localhost:8080/"
        },
        "id": "7npXNYj4retG",
        "outputId": "faafdb3f-8767-489b-eda4-9a8838a42ff7"
      },
      "id": "7npXNYj4retG",
      "execution_count": null,
      "outputs": [
        {
          "output_type": "execute_result",
          "data": {
            "text/plain": [
              "True"
            ]
          },
          "metadata": {},
          "execution_count": 15
        }
      ]
    },
    {
      "cell_type": "code",
      "source": [
        "df = input(\"Dear user , Enter your Name for checking Palindromic number:- \") \n",
        "\n",
        "if df == df[::-1]:\n",
        "  print(f'Dear {df}, your Name is Palindromic String ')\n",
        "else:\n",
        "  print(f'Dear {df}, your Name is not Palindromic String ')\n"
      ],
      "metadata": {
        "colab": {
          "base_uri": "https://localhost:8080/"
        },
        "id": "FE6gEv4LrZmL",
        "outputId": "6ebf62ca-40e3-483d-8b19-a0548efe6666"
      },
      "id": "FE6gEv4LrZmL",
      "execution_count": null,
      "outputs": [
        {
          "output_type": "stream",
          "name": "stdout",
          "text": [
            "Dear user , Enter your Name for checking Palindromic number:- NAMAN\n",
            "Dear NAMAN, your Name is Palindromic String \n"
          ]
        }
      ]
    },
    {
      "cell_type": "code",
      "source": [
        "# 1. WAP to check length of your name and check if len of name is exist b/w  1 to 5, then it return good Name other wise \n",
        "# it return too much long.  \n",
        "\n",
        "# 2. WAP to check a character how  many time exits in your name. and take name and character from user as a input."
      ],
      "metadata": {
        "id": "5VTvHOgQyUvZ"
      },
      "id": "5VTvHOgQyUvZ",
      "execution_count": null,
      "outputs": []
    },
    {
      "cell_type": "code",
      "source": [
        "### EOD - 23-02-2023"
      ],
      "metadata": {
        "id": "ehdZIjyAyU4Z"
      },
      "id": "ehdZIjyAyU4Z",
      "execution_count": null,
      "outputs": []
    },
    {
      "cell_type": "code",
      "source": [
        "n1 = int(input(\"Enter a number :- \"))\n",
        "\n",
        "if n1< 0:\n",
        "  print(n1, \" is -ve Number \")\n",
        "\n",
        "elif n1>=0 and n1<10:\n",
        "  print(n1,\" exists between 0 to 10\") \n",
        "\n",
        "elif n1>=10 and n1<20:\n",
        "  print(n1, \" is exits b/w 10 to 20\")\n",
        "else:\n",
        "  print(n1, \" is Greater than 20\") \n"
      ],
      "metadata": {
        "id": "AX_GVATsyU_q",
        "colab": {
          "base_uri": "https://localhost:8080/"
        },
        "outputId": "1ea1d9db-1d0d-4fa4-eaa5-852bf76114d3"
      },
      "id": "AX_GVATsyU_q",
      "execution_count": null,
      "outputs": [
        {
          "output_type": "stream",
          "name": "stdout",
          "text": [
            "Enter a number :- 12\n",
            "12  is exits b/w 10 to 20\n"
          ]
        }
      ]
    },
    {
      "cell_type": "code",
      "source": [
        "nm= input(\"Enter your name:- \")\n",
        "\n",
        "if len(nm)>0 and len(nm)<=3:\n",
        "  print(f'Dear {nm}, your name is Nice')\n",
        "elif len(nm)>3 and len(nm) <=5:\n",
        "  print(f'Dear {nm}, your name is Good') \n",
        "elif len(nm)>5 and len(nm)<=8:\n",
        "  print(f'Dear {nm}, your name is too much good')\n",
        "else:\n",
        "  print(f'Dear {nm}, your name is too much long')      \n",
        "  d = input(\"if you want change the Name then Enter -y/n: \")\n",
        "  if d=='y':\n",
        "    print(\"what about vicky ,sohan, rohan and john \")\n",
        "    d1 = input(\"Are you stisfied with above name - y/n : \")\n",
        "    if d1=='y':\n",
        "      print(\"Better Luck\")\n",
        "    elif d1=='n':\n",
        "      print('what about kitu Bitu Situ and vicky') \n",
        "    else:\n",
        "      print(\"you have Entered Invalid Input \")    \n",
        "  else:\n",
        "    print(\"Thanks to visit \")  "
      ],
      "metadata": {
        "id": "TSd17sv7yVGh",
        "colab": {
          "base_uri": "https://localhost:8080/"
        },
        "outputId": "eef8f6d6-e42d-47a7-c55f-142fa5200cb5"
      },
      "id": "TSd17sv7yVGh",
      "execution_count": null,
      "outputs": [
        {
          "output_type": "stream",
          "name": "stdout",
          "text": [
            "Enter your name:- johnsmith\n",
            "Dear johnsmith, your name is too much long\n",
            "if you want change the Name then Enter -y/n: n\n",
            "Thanks to visit \n"
          ]
        }
      ]
    },
    {
      "cell_type": "code",
      "source": [
        "nm= input(\"Enter your name:- \")\n",
        "c1= input(\"Enter charater  that you want to search :- \")\n",
        "\n",
        "if nm.count(c1)<1:\n",
        "  print(f'Dear {nm} {c1} N/A')\n",
        "elif nm.count(c1)==1:\n",
        "  print(f'Dear {nm} {c1} only one time in your Name ')  \n",
        "\n",
        "elif nm.count(c1)==2:\n",
        "  print(f'Dear {nm} {c1} only two time in your Name ')\n",
        "elif nm.count(c1) >2:\n",
        "  print(f'Dear {nm} {c1} , more than two time in your Name ')\n",
        "\n",
        "else:\n",
        "   print(f'Dear {nm} {c1} , multipe tim/ time in your Name ')"
      ],
      "metadata": {
        "colab": {
          "base_uri": "https://localhost:8080/"
        },
        "id": "Dzp7VMMduqxR",
        "outputId": "ed371ebc-3075-45cc-a0a3-43a3b8be2388"
      },
      "id": "Dzp7VMMduqxR",
      "execution_count": null,
      "outputs": [
        {
          "output_type": "stream",
          "name": "stdout",
          "text": [
            "Enter your name:- DAYANAND\n",
            "Enter charater  that you want to search :- A\n",
            "Dear DAYANAND A , more than two time in your Name \n"
          ]
        }
      ]
    },
    {
      "cell_type": "code",
      "source": [
        "# while loop :- \n",
        "n=1 \n",
        "\n",
        "while n<=10:\n",
        "  print(n)\n",
        "  n=n+1\n",
        "  \n",
        "print(\"Succesfully completed\") "
      ],
      "metadata": {
        "id": "VKngqvu-uq4m",
        "colab": {
          "base_uri": "https://localhost:8080/"
        },
        "outputId": "7317c10c-f4cb-47c4-db95-448d59919baa"
      },
      "id": "VKngqvu-uq4m",
      "execution_count": null,
      "outputs": [
        {
          "output_type": "stream",
          "name": "stdout",
          "text": [
            "1\n",
            "2\n",
            "3\n",
            "4\n",
            "5\n",
            "6\n",
            "7\n",
            "8\n",
            "9\n",
            "10\n",
            "Succesfully completed\n"
          ]
        }
      ]
    },
    {
      "cell_type": "code",
      "source": [
        "n=10 \n",
        "\n",
        "while n>=1:\n",
        "  print(n) \n",
        "  n-=1"
      ],
      "metadata": {
        "colab": {
          "base_uri": "https://localhost:8080/"
        },
        "id": "NJFRhdsZLVfM",
        "outputId": "975a9669-e8a5-4bbc-d227-1e4fc3afbb51"
      },
      "id": "NJFRhdsZLVfM",
      "execution_count": null,
      "outputs": [
        {
          "output_type": "stream",
          "name": "stdout",
          "text": [
            "10\n",
            "9\n",
            "8\n",
            "7\n",
            "6\n",
            "5\n",
            "4\n",
            "3\n",
            "2\n",
            "1\n"
          ]
        }
      ]
    },
    {
      "cell_type": "code",
      "source": [
        "# write table of 13 \n",
        "n=13\n",
        "while n<=130: # n<131\n",
        "  print(n) \n",
        "  n+=13"
      ],
      "metadata": {
        "colab": {
          "base_uri": "https://localhost:8080/"
        },
        "id": "pUdMglQONQgM",
        "outputId": "aef08163-56f9-4b70-bfeb-3d4aff6a6eaf"
      },
      "id": "pUdMglQONQgM",
      "execution_count": null,
      "outputs": [
        {
          "output_type": "stream",
          "name": "stdout",
          "text": [
            "13\n",
            "26\n",
            "39\n",
            "52\n",
            "65\n",
            "78\n",
            "91\n",
            "104\n",
            "117\n",
            "130\n"
          ]
        }
      ]
    },
    {
      "cell_type": "code",
      "source": [
        "n=50 \n",
        "\n",
        "while n<=100:\n",
        "  print(n,end=\"\\t\")\n",
        "  n+=2 "
      ],
      "metadata": {
        "colab": {
          "base_uri": "https://localhost:8080/"
        },
        "id": "i9b9QO71PGjf",
        "outputId": "28d8634a-1b2d-49c9-8e9d-20125c876610"
      },
      "id": "i9b9QO71PGjf",
      "execution_count": null,
      "outputs": [
        {
          "output_type": "stream",
          "name": "stdout",
          "text": [
            "50\t52\t54\t56\t58\t60\t62\t64\t66\t68\t70\t72\t74\t76\t78\t80\t82\t84\t86\t88\t90\t92\t94\t96\t98\t100\t"
          ]
        }
      ]
    },
    {
      "cell_type": "code",
      "source": [],
      "metadata": {
        "id": "r1-qSrTyPI9I"
      },
      "id": "r1-qSrTyPI9I",
      "execution_count": null,
      "outputs": []
    },
    {
      "cell_type": "code",
      "source": [],
      "metadata": {
        "id": "NKhSoojhPJEM"
      },
      "id": "NKhSoojhPJEM",
      "execution_count": null,
      "outputs": []
    },
    {
      "cell_type": "code",
      "source": [],
      "metadata": {
        "id": "s6ABdX3kPHUJ"
      },
      "id": "s6ABdX3kPHUJ",
      "execution_count": null,
      "outputs": []
    },
    {
      "cell_type": "code",
      "source": [
        "13 * 1 = 13\n",
        "13 * 2 = 26 \n",
        "13 * 3 = 39 \n",
        ".\n",
        ".\n",
        ".\n",
        ".\n",
        "13 * 10 = 130 "
      ],
      "metadata": {
        "id": "VJmXW1CSOA7H"
      },
      "id": "VJmXW1CSOA7H",
      "execution_count": null,
      "outputs": []
    },
    {
      "cell_type": "code",
      "source": [
        "n=13\n",
        "i=1\n",
        "while i<=10:\n",
        "  print(f'{n} * {i} = {n*i}')\n",
        "  i+=1 "
      ],
      "metadata": {
        "colab": {
          "base_uri": "https://localhost:8080/"
        },
        "id": "V8EFf-xgOBDT",
        "outputId": "d66b5422-2e24-40f0-afaa-86821fe1fce6"
      },
      "id": "V8EFf-xgOBDT",
      "execution_count": null,
      "outputs": [
        {
          "output_type": "stream",
          "name": "stdout",
          "text": [
            "13 * 1 = 13\n",
            "13 * 2 = 26\n",
            "13 * 3 = 39\n",
            "13 * 4 = 52\n",
            "13 * 5 = 65\n",
            "13 * 6 = 78\n",
            "13 * 7 = 91\n",
            "13 * 8 = 104\n",
            "13 * 9 = 117\n",
            "13 * 10 = 130\n"
          ]
        }
      ]
    },
    {
      "cell_type": "code",
      "source": [
        "n=10 \n",
        "\n",
        "\n",
        "while n<=20:\n",
        "  i=1 \n",
        "  while i<=10:\n",
        "    print(n*i,end=\"\\t\")  \n",
        "    i+=1  \n",
        "  print()     \n",
        "  n+=1    \n",
        " "
      ],
      "metadata": {
        "colab": {
          "base_uri": "https://localhost:8080/"
        },
        "id": "3VXaAvR-OBKJ",
        "outputId": "30a90f4c-2512-4909-e0ba-6fbbd2a6d9c6"
      },
      "id": "3VXaAvR-OBKJ",
      "execution_count": null,
      "outputs": [
        {
          "output_type": "stream",
          "name": "stdout",
          "text": [
            "10\t20\t30\t40\t50\t60\t70\t80\t90\t100\t\n",
            "11\t22\t33\t44\t55\t66\t77\t88\t99\t110\t\n",
            "12\t24\t36\t48\t60\t72\t84\t96\t108\t120\t\n",
            "13\t26\t39\t52\t65\t78\t91\t104\t117\t130\t\n",
            "14\t28\t42\t56\t70\t84\t98\t112\t126\t140\t\n",
            "15\t30\t45\t60\t75\t90\t105\t120\t135\t150\t\n",
            "16\t32\t48\t64\t80\t96\t112\t128\t144\t160\t\n",
            "17\t34\t51\t68\t85\t102\t119\t136\t153\t170\t\n",
            "18\t36\t54\t72\t90\t108\t126\t144\t162\t180\t\n",
            "19\t38\t57\t76\t95\t114\t133\t152\t171\t190\t\n",
            "20\t40\t60\t80\t100\t120\t140\t160\t180\t200\t\n"
          ]
        }
      ]
    },
    {
      "cell_type": "code",
      "source": [
        "n=10 \n",
        "while n<=20:\n",
        "  i=1 \n",
        "  while i<=10:\n",
        "    print(n*i,end=\"\\t\")  \n",
        "    i+=1  \n",
        "  print()     \n",
        "  n+=2   \n",
        " "
      ],
      "metadata": {
        "colab": {
          "base_uri": "https://localhost:8080/"
        },
        "id": "0Jr94e4lN_4U",
        "outputId": "4a1129e4-97ee-4391-b82e-716310f0aa0a"
      },
      "id": "0Jr94e4lN_4U",
      "execution_count": null,
      "outputs": [
        {
          "output_type": "stream",
          "name": "stdout",
          "text": [
            "10\t20\t30\t40\t50\t60\t70\t80\t90\t100\t\n",
            "12\t24\t36\t48\t60\t72\t84\t96\t108\t120\t\n",
            "14\t28\t42\t56\t70\t84\t98\t112\t126\t140\t\n",
            "16\t32\t48\t64\t80\t96\t112\t128\t144\t160\t\n",
            "18\t36\t54\t72\t90\t108\t126\t144\t162\t180\t\n",
            "20\t40\t60\t80\t100\t120\t140\t160\t180\t200\t\n"
          ]
        }
      ]
    },
    {
      "cell_type": "code",
      "source": [
        "n1 = int(input(\"Enter Number where you want to start Table = \"))\n",
        "n2=  int(input(\"Enter Number where you want to end Table  = \"))\n",
        " \n",
        "while n1<=n2:\n",
        "  i=1 \n",
        "  while i<=10:\n",
        "    print(n1*i,end=\"\\t\")  \n",
        "    i+=1  \n",
        "  print()     \n",
        "  n1+=1   \n",
        " "
      ],
      "metadata": {
        "colab": {
          "base_uri": "https://localhost:8080/"
        },
        "id": "S4-XkwQoN__K",
        "outputId": "53d67eb7-af3b-40be-c240-db2f189d6b6b"
      },
      "id": "S4-XkwQoN__K",
      "execution_count": null,
      "outputs": [
        {
          "output_type": "stream",
          "name": "stdout",
          "text": [
            "Enter Number where you want to start Table = 12\n",
            "Enter Number where you want to end Table  = 15\n",
            "12\t24\t36\t48\t60\t72\t84\t96\t108\t120\t\n",
            "13\t26\t39\t52\t65\t78\t91\t104\t117\t130\t\n",
            "14\t28\t42\t56\t70\t84\t98\t112\t126\t140\t\n",
            "15\t30\t45\t60\t75\t90\t105\t120\t135\t150\t\n"
          ]
        }
      ]
    },
    {
      "cell_type": "code",
      "source": [
        "n1 = int(input(\"Enter Number for finding the factorial = \"))\n",
        "i=1\n",
        "t=n1\n",
        "while n1>=1:\n",
        "  i*=n1\n",
        "  n1-=1 \n",
        "print(f'Factorial of {t} is {i}')   "
      ],
      "metadata": {
        "colab": {
          "base_uri": "https://localhost:8080/"
        },
        "id": "feCnawrNNQoS",
        "outputId": "1ea20e6e-05f8-4526-daa2-5e7e579b18b6"
      },
      "id": "feCnawrNNQoS",
      "execution_count": null,
      "outputs": [
        {
          "output_type": "stream",
          "name": "stdout",
          "text": [
            "Enter Number for finding the factorial = 10\n",
            "Factorial of 10 is 3628800\n"
          ]
        }
      ]
    },
    {
      "cell_type": "code",
      "source": [],
      "metadata": {
        "id": "Esh-bODONQ7O"
      },
      "id": "Esh-bODONQ7O",
      "execution_count": null,
      "outputs": []
    },
    {
      "cell_type": "markdown",
      "source": [
        "**Pattern Print** \n",
        "\n",
        " # * \n",
        " # ** \n",
        " # ***\n",
        " # ****\n",
        " # *****"
      ],
      "metadata": {
        "id": "aBZZbaQNXT7U"
      },
      "id": "aBZZbaQNXT7U"
    },
    {
      "cell_type": "code",
      "source": [
        "i=1 \n",
        "\n",
        "while i<=8:\n",
        "  j=1 \n",
        "  while j <=i:\n",
        "    print(\"*\",end=\" \")\n",
        "    j+=1 \n",
        "  print() \n",
        "  i+=1    \n",
        "\n"
      ],
      "metadata": {
        "colab": {
          "base_uri": "https://localhost:8080/"
        },
        "id": "0oW0y1z8NREH",
        "outputId": "c6b23879-b1b8-46e1-a29e-6fc3b7cddfcb"
      },
      "id": "0oW0y1z8NREH",
      "execution_count": null,
      "outputs": [
        {
          "output_type": "stream",
          "name": "stdout",
          "text": [
            "* \n",
            "* * \n",
            "* * * \n",
            "* * * * \n",
            "* * * * * \n",
            "* * * * * * \n",
            "* * * * * * * \n",
            "* * * * * * * * \n"
          ]
        }
      ]
    },
    {
      "cell_type": "code",
      "source": [
        "i=1\n",
        "while i<=4:\n",
        "  print('*'*i,end=\" \")\n",
        "  print()\n",
        "  i+=1"
      ],
      "metadata": {
        "colab": {
          "base_uri": "https://localhost:8080/"
        },
        "id": "U8aJRyYcNRJn",
        "outputId": "3d12cb18-f36a-4c08-f0e5-4110094660ba"
      },
      "id": "U8aJRyYcNRJn",
      "execution_count": null,
      "outputs": [
        {
          "output_type": "stream",
          "name": "stdout",
          "text": [
            "* \n",
            "** \n",
            "*** \n",
            "**** \n"
          ]
        }
      ]
    },
    {
      "cell_type": "code",
      "source": [
        "i=4\n",
        "while i>=1:\n",
        "  print('*'*i,end=\" \")\n",
        "  print()\n",
        "  i-=1"
      ],
      "metadata": {
        "colab": {
          "base_uri": "https://localhost:8080/"
        },
        "id": "wslIiWvJNRQn",
        "outputId": "4676c77f-0573-4979-d4cb-04473469cecd"
      },
      "id": "wslIiWvJNRQn",
      "execution_count": null,
      "outputs": [
        {
          "output_type": "stream",
          "name": "stdout",
          "text": [
            "**** \n",
            "*** \n",
            "** \n",
            "* \n"
          ]
        }
      ]
    },
    {
      "cell_type": "code",
      "source": [
        "i=4 \n",
        " \n",
        "while i>=1:\n",
        "  j=1\n",
        "  while j<=i:\n",
        "    print(\"*\",end=\" \")\n",
        "    j+=1 \n",
        "  print()   \n",
        "  i-=1 "
      ],
      "metadata": {
        "colab": {
          "base_uri": "https://localhost:8080/"
        },
        "id": "GO2Cs8V0LVlT",
        "outputId": "03d9b242-00d0-4dde-8167-64382dc4d52d"
      },
      "id": "GO2Cs8V0LVlT",
      "execution_count": null,
      "outputs": [
        {
          "output_type": "stream",
          "name": "stdout",
          "text": [
            "* * * * \n",
            "* * * \n",
            "* * \n",
            "* \n"
          ]
        }
      ]
    },
    {
      "cell_type": "code",
      "source": [
        "df = \" # \" "
      ],
      "metadata": {
        "id": "MPEdb3uqcFg5"
      },
      "id": "MPEdb3uqcFg5",
      "execution_count": null,
      "outputs": []
    },
    {
      "cell_type": "code",
      "source": [
        "type(df)"
      ],
      "metadata": {
        "colab": {
          "base_uri": "https://localhost:8080/"
        },
        "id": "miBqlX2BcFpZ",
        "outputId": "6c510795-8b4f-456d-8851-a8161069b96a"
      },
      "id": "miBqlX2BcFpZ",
      "execution_count": null,
      "outputs": [
        {
          "output_type": "execute_result",
          "data": {
            "text/plain": [
              "str"
            ]
          },
          "metadata": {},
          "execution_count": 2
        }
      ]
    },
    {
      "cell_type": "code",
      "source": [
        "5 * df "
      ],
      "metadata": {
        "colab": {
          "base_uri": "https://localhost:8080/",
          "height": 35
        },
        "id": "8ect0C_bcFwK",
        "outputId": "f3310355-97bd-42bf-e10e-8ac29432bfa6"
      },
      "id": "8ect0C_bcFwK",
      "execution_count": null,
      "outputs": [
        {
          "output_type": "execute_result",
          "data": {
            "text/plain": [
              "' #  #  #  #  # '"
            ],
            "application/vnd.google.colaboratory.intrinsic+json": {
              "type": "string"
            }
          },
          "metadata": {},
          "execution_count": 4
        }
      ]
    },
    {
      "cell_type": "code",
      "source": [
        "#* \n",
        "#** \n",
        "#*** \n",
        "#**** "
      ],
      "metadata": {
        "id": "HTsV8tkVcF4K"
      },
      "id": "HTsV8tkVcF4K",
      "execution_count": null,
      "outputs": []
    },
    {
      "cell_type": "code",
      "source": [
        "n=1\n",
        "while n<=4:\n",
        "  print(\" * \"*n)\n",
        "  n+=1 \n"
      ],
      "metadata": {
        "colab": {
          "base_uri": "https://localhost:8080/"
        },
        "id": "x1gC2DTRcF9e",
        "outputId": "8d92385b-41de-4b4d-8a9b-011fee38dd49"
      },
      "id": "x1gC2DTRcF9e",
      "execution_count": null,
      "outputs": [
        {
          "output_type": "stream",
          "name": "stdout",
          "text": [
            " * \n",
            " *  * \n",
            " *  *  * \n",
            " *  *  *  * \n"
          ]
        }
      ]
    },
    {
      "cell_type": "code",
      "source": [],
      "metadata": {
        "id": "o11zYhP5cGE1"
      },
      "id": "o11zYhP5cGE1",
      "execution_count": null,
      "outputs": []
    },
    {
      "cell_type": "code",
      "source": [
        "i=1 \n",
        "while i<=4:\n",
        "  j=1 \n",
        "  while j<=i:\n",
        "    print(\"*\",end=\" \")\n",
        "    j+=1\n",
        "  print()  \n",
        "  i+=1  "
      ],
      "metadata": {
        "colab": {
          "base_uri": "https://localhost:8080/"
        },
        "id": "5JM2DaAfe38f",
        "outputId": "ffb53e6e-8b35-4c38-b190-fea3215764aa"
      },
      "id": "5JM2DaAfe38f",
      "execution_count": null,
      "outputs": [
        {
          "output_type": "stream",
          "name": "stdout",
          "text": [
            "* \n",
            "* * \n",
            "* * * \n",
            "* * * * \n"
          ]
        }
      ]
    },
    {
      "cell_type": "code",
      "source": [
        "i=int(input(\"Enter a total Number Row number to print opposite right angle- \"))\n",
        "df = input('Enter which you want to Print:- ')\n",
        "\n",
        "while i>=1:\n",
        "  j=1 \n",
        "  while j<=i:\n",
        "    print(df,end=\" \")\n",
        "    j+=1 \n",
        "  print()\n",
        "  i-=1  "
      ],
      "metadata": {
        "id": "aae1iVNoe4G0",
        "colab": {
          "base_uri": "https://localhost:8080/"
        },
        "outputId": "2bd66e5f-2fa5-4500-b36a-3166ad06ebf8"
      },
      "id": "aae1iVNoe4G0",
      "execution_count": null,
      "outputs": [
        {
          "output_type": "stream",
          "name": "stdout",
          "text": [
            "Enter a total Number Row number to print opposite right angle- 6\n",
            "Enter which you want to Print:- #\n",
            "# # # # # # \n",
            "# # # # # \n",
            "# # # # \n",
            "# # # \n",
            "# # \n",
            "# \n"
          ]
        }
      ]
    },
    {
      "cell_type": "code",
      "source": [
        "# string concept \n",
        "df = input(\"Enter a Special Character which you want to print - \")\n",
        "n = int(input('Enter Number of row where you want to print : -'))\n",
        "\n",
        "while n>=1:\n",
        "  print( df*n )\n",
        "  n-=1 "
      ],
      "metadata": {
        "id": "rc_jtuqje4NT",
        "colab": {
          "base_uri": "https://localhost:8080/"
        },
        "outputId": "9a3ca58e-1adf-466e-f4a3-4474a581d6b8"
      },
      "id": "rc_jtuqje4NT",
      "execution_count": null,
      "outputs": [
        {
          "output_type": "stream",
          "name": "stdout",
          "text": [
            "Enter a Special Character which you want to print - #@\n",
            "Enter Number of row where you want to print : -6\n",
            "#@#@#@#@#@#@\n",
            "#@#@#@#@#@\n",
            "#@#@#@#@\n",
            "#@#@#@\n",
            "#@#@\n",
            "#@\n"
          ]
        }
      ]
    },
    {
      "cell_type": "code",
      "source": [
        "i=int(input('Enter how many rows:- '))\n",
        "df = input(\"Enter What you want to Print \")\n",
        "n=1\n",
        "while i>=1:\n",
        "  j=1 \n",
        "  while j<i:\n",
        "    print(\" \",end=\" \")\n",
        "    j=j+1\n",
        "  k=1 \n",
        "\n",
        "  while k<=n:\n",
        "    print(\" \" + df + \" \",end=\" \")\n",
        "    k+=1  \n",
        "  n+=1  \n",
        "  print()  \n",
        "  i-=1"
      ],
      "metadata": {
        "id": "NMljCemoe4UX",
        "colab": {
          "base_uri": "https://localhost:8080/"
        },
        "outputId": "19f1e60a-e3cb-43bc-9e73-ded2f997abd6"
      },
      "id": "NMljCemoe4UX",
      "execution_count": null,
      "outputs": [
        {
          "output_type": "stream",
          "name": "stdout",
          "text": [
            "Enter how many rows:- 8\n",
            "Enter What you want to Print @#\n",
            "               @#  \n",
            "             @#   @#  \n",
            "           @#   @#   @#  \n",
            "         @#   @#   @#   @#  \n",
            "       @#   @#   @#   @#   @#  \n",
            "     @#   @#   @#   @#   @#   @#  \n",
            "   @#   @#   @#   @#   @#   @#   @#  \n",
            " @#   @#   @#   @#   @#   @#   @#   @#  \n"
          ]
        }
      ]
    },
    {
      "cell_type": "code",
      "source": [
        "df = \"#\"\n",
        "\" \" + df + \" \" "
      ],
      "metadata": {
        "id": "RfZ9aagFcGKo",
        "colab": {
          "base_uri": "https://localhost:8080/",
          "height": 35
        },
        "outputId": "46b32b98-1030-41b0-fa2b-4d5b85eae61d"
      },
      "id": "RfZ9aagFcGKo",
      "execution_count": null,
      "outputs": [
        {
          "output_type": "execute_result",
          "data": {
            "text/plain": [
              "' # '"
            ],
            "application/vnd.google.colaboratory.intrinsic+json": {
              "type": "string"
            }
          },
          "metadata": {},
          "execution_count": 4
        }
      ]
    },
    {
      "cell_type": "code",
      "source": [
        "*\n",
        "**\n",
        "***\n",
        "**** "
      ],
      "metadata": {
        "id": "rwRDNZXkcGPZ"
      },
      "id": "rwRDNZXkcGPZ",
      "execution_count": null,
      "outputs": []
    },
    {
      "cell_type": "code",
      "source": [
        "i = 1\n",
        "while i<=10:\n",
        "  j=1 \n",
        "  while j<=i:\n",
        "    print(\"*\",end=\" \")\n",
        "    j+=1 \n",
        "  print()  \n",
        "  i+=1 "
      ],
      "metadata": {
        "colab": {
          "base_uri": "https://localhost:8080/"
        },
        "id": "aWHB5u8ZnDMJ",
        "outputId": "e609af86-201e-4aec-efe6-ca035dd9e0fa"
      },
      "id": "aWHB5u8ZnDMJ",
      "execution_count": null,
      "outputs": [
        {
          "output_type": "stream",
          "name": "stdout",
          "text": [
            "* \n",
            "* * \n",
            "* * * \n",
            "* * * * \n",
            "* * * * * \n",
            "* * * * * * \n",
            "* * * * * * * \n",
            "* * * * * * * * \n",
            "* * * * * * * * * \n",
            "* * * * * * * * * * \n"
          ]
        }
      ]
    },
    {
      "cell_type": "code",
      "source": [
        "i=1 \n",
        "s=10\n",
        "while i<=10:\n",
        "  j=1 \n",
        "  while j<i:\n",
        "    print(\" \",end=\" \")\n",
        "    j+=1 \n",
        "  n=1 \n",
        "  while n<=s:\n",
        "    print(\" * \",end=\" \")\n",
        "    n+=1\n",
        "  print()\n",
        "  i+=1 \n",
        "  s-=1   \n"
      ],
      "metadata": {
        "id": "xIy7khB7cGUf",
        "colab": {
          "base_uri": "https://localhost:8080/"
        },
        "outputId": "4f5e22e7-ed52-4640-a12d-68c17c4ed31b"
      },
      "id": "xIy7khB7cGUf",
      "execution_count": null,
      "outputs": [
        {
          "output_type": "stream",
          "name": "stdout",
          "text": [
            " *   *   *   *   *   *   *   *   *   *  \n",
            "   *   *   *   *   *   *   *   *   *  \n",
            "     *   *   *   *   *   *   *   *  \n",
            "       *   *   *   *   *   *   *  \n",
            "         *   *   *   *   *   *  \n",
            "           *   *   *   *   *  \n",
            "             *   *   *   *  \n",
            "               *   *   *  \n",
            "                 *   *  \n",
            "                   *  \n"
          ]
        }
      ]
    },
    {
      "cell_type": "code",
      "source": [
        "# for loop:-- \n",
        "for i in range(1,21,2):\n",
        "  print(i)"
      ],
      "metadata": {
        "id": "LNwhNykPcGaH",
        "colab": {
          "base_uri": "https://localhost:8080/"
        },
        "outputId": "d169f077-ff44-4fc9-d101-837f031a00b7"
      },
      "id": "LNwhNykPcGaH",
      "execution_count": null,
      "outputs": [
        {
          "output_type": "stream",
          "name": "stdout",
          "text": [
            "1\n",
            "3\n",
            "5\n",
            "7\n",
            "9\n",
            "11\n",
            "13\n",
            "15\n",
            "17\n",
            "19\n"
          ]
        }
      ]
    },
    {
      "cell_type": "code",
      "source": [
        "# range(start, stop, step) \n",
        "for n in range(2,21,2):\n",
        "  print(n)\n"
      ],
      "metadata": {
        "colab": {
          "base_uri": "https://localhost:8080/"
        },
        "id": "7sN_dn4lpDWl",
        "outputId": "86fdc9e8-5e2a-4167-a47f-95f6cacc777b"
      },
      "id": "7sN_dn4lpDWl",
      "execution_count": null,
      "outputs": [
        {
          "output_type": "stream",
          "name": "stdout",
          "text": [
            "2\n",
            "4\n",
            "6\n",
            "8\n",
            "10\n",
            "12\n",
            "14\n",
            "16\n",
            "18\n",
            "20\n"
          ]
        }
      ]
    },
    {
      "cell_type": "code",
      "source": [
        "for j in range(2,51,2):\n",
        "  print(j) "
      ],
      "metadata": {
        "id": "n4qwhUXAcGfH",
        "colab": {
          "base_uri": "https://localhost:8080/"
        },
        "outputId": "2fbe92d6-d826-4251-f733-6fd7379feb09"
      },
      "id": "n4qwhUXAcGfH",
      "execution_count": null,
      "outputs": [
        {
          "output_type": "stream",
          "name": "stdout",
          "text": [
            "2\n",
            "4\n",
            "6\n",
            "8\n",
            "10\n",
            "12\n",
            "14\n",
            "16\n",
            "18\n",
            "20\n",
            "22\n",
            "24\n",
            "26\n",
            "28\n",
            "30\n",
            "32\n",
            "34\n",
            "36\n",
            "38\n",
            "40\n",
            "42\n",
            "44\n",
            "46\n",
            "48\n",
            "50\n"
          ]
        }
      ]
    },
    {
      "cell_type": "code",
      "source": [
        "n=int(input('Enter Number where you want to start Table:- '))\n",
        "m=int(input('Enter Number where you want to End Table:- '))\n",
        "\n",
        "\n",
        "for i in range(n,m+1):\n",
        "  for j in range(1,11):\n",
        "    print(i*j,end='\\t')\n",
        "  print()   "
      ],
      "metadata": {
        "id": "xT-2-SfXcGkd",
        "colab": {
          "base_uri": "https://localhost:8080/"
        },
        "outputId": "5a3ef34b-f53a-4cfe-a6be-5617541b0888"
      },
      "id": "xT-2-SfXcGkd",
      "execution_count": null,
      "outputs": [
        {
          "output_type": "stream",
          "name": "stdout",
          "text": [
            "Enter Number where you want to start Table:- 10\n",
            "Enter Number where you want to End Table:- 20\n",
            "10\t20\t30\t40\t50\t60\t70\t80\t90\t100\t\n",
            "11\t22\t33\t44\t55\t66\t77\t88\t99\t110\t\n",
            "12\t24\t36\t48\t60\t72\t84\t96\t108\t120\t\n",
            "13\t26\t39\t52\t65\t78\t91\t104\t117\t130\t\n",
            "14\t28\t42\t56\t70\t84\t98\t112\t126\t140\t\n",
            "15\t30\t45\t60\t75\t90\t105\t120\t135\t150\t\n",
            "16\t32\t48\t64\t80\t96\t112\t128\t144\t160\t\n",
            "17\t34\t51\t68\t85\t102\t119\t136\t153\t170\t\n",
            "18\t36\t54\t72\t90\t108\t126\t144\t162\t180\t\n",
            "19\t38\t57\t76\t95\t114\t133\t152\t171\t190\t\n",
            "20\t40\t60\t80\t100\t120\t140\t160\t180\t200\t\n"
          ]
        }
      ]
    },
    {
      "cell_type": "code",
      "source": [
        "# 24-03-2022 "
      ],
      "metadata": {
        "id": "HbHTBJw-tn1i"
      },
      "id": "HbHTBJw-tn1i",
      "execution_count": null,
      "outputs": []
    },
    {
      "cell_type": "code",
      "source": [
        "l3= [44,12,56,77,56] \n",
        "# string \n",
        "# byte\n",
        "# bytearray\n",
        "# list \n",
        "# tuple\n",
        "# range \n",
        "\n",
        "# map \n",
        "# dic"
      ],
      "metadata": {
        "id": "ze9XdaqsQUl9"
      },
      "id": "ze9XdaqsQUl9",
      "execution_count": null,
      "outputs": []
    },
    {
      "cell_type": "code",
      "source": [
        "l3= [44,12,56,77,56] \n",
        "for i in l3:\n",
        "  print(i,end=\" \") "
      ],
      "metadata": {
        "colab": {
          "base_uri": "https://localhost:8080/"
        },
        "id": "i5l-8RLMQUsB",
        "outputId": "58980291-78c6-45e4-a61b-8c7babe03250"
      },
      "id": "i5l-8RLMQUsB",
      "execution_count": null,
      "outputs": [
        {
          "output_type": "stream",
          "name": "stdout",
          "text": [
            "44 12 56 77 56 "
          ]
        }
      ]
    },
    {
      "cell_type": "code",
      "source": [
        "st1 = 'DAYANAND' \n",
        "\n",
        "for i in st1:\n",
        "  print(i) "
      ],
      "metadata": {
        "colab": {
          "base_uri": "https://localhost:8080/"
        },
        "id": "XArsAlqbQU0R",
        "outputId": "162a6e2e-d881-4731-a3e2-8165ba4c5f05"
      },
      "id": "XArsAlqbQU0R",
      "execution_count": null,
      "outputs": [
        {
          "output_type": "stream",
          "name": "stdout",
          "text": [
            "D\n",
            "A\n",
            "Y\n",
            "A\n",
            "N\n",
            "A\n",
            "N\n",
            "D\n"
          ]
        }
      ]
    },
    {
      "cell_type": "code",
      "source": [
        "df1 = [23,45,66,78,11,56] \n",
        "for j in df1:\n",
        "  if j % 2==0:\n",
        "    print(j,' Even Number')\n",
        "    \n"
      ],
      "metadata": {
        "colab": {
          "base_uri": "https://localhost:8080/"
        },
        "id": "QnAL0t7OQU60",
        "outputId": "c36c2f2e-68bb-4e09-a10f-b3f53e8f8b45"
      },
      "id": "QnAL0t7OQU60",
      "execution_count": null,
      "outputs": [
        {
          "output_type": "stream",
          "name": "stdout",
          "text": [
            "66  Even Number\n",
            "78  Even Number\n",
            "56  Even Number\n"
          ]
        }
      ]
    },
    {
      "cell_type": "code",
      "source": [
        "df1 = [23,45,66,78,11,56] \n",
        "for j in df1:\n",
        "  if j % 2 != 0:\n",
        "    print(j,' odd Number')\n",
        "    \n"
      ],
      "metadata": {
        "colab": {
          "base_uri": "https://localhost:8080/"
        },
        "id": "7lSl6fCSQVBM",
        "outputId": "6d4bde0f-afad-40ab-b71b-ba7f55625029"
      },
      "id": "7lSl6fCSQVBM",
      "execution_count": null,
      "outputs": [
        {
          "output_type": "stream",
          "name": "stdout",
          "text": [
            "23  odd Number\n",
            "45  odd Number\n",
            "11  odd Number\n"
          ]
        }
      ]
    },
    {
      "cell_type": "code",
      "source": [
        "df3= ('Ram','John','Mohan','Shyam','Cku','Monu') \n"
      ],
      "metadata": {
        "id": "__uXWn2SQTqO"
      },
      "id": "__uXWn2SQTqO",
      "execution_count": null,
      "outputs": []
    },
    {
      "cell_type": "code",
      "source": [
        "for i in df3:\n",
        "  if len(i) > 3:\n",
        "    print(i)"
      ],
      "metadata": {
        "colab": {
          "base_uri": "https://localhost:8080/"
        },
        "id": "Nla-FEpDQTwd",
        "outputId": "7de1ad4e-a1a6-4f51-e092-bd97f56e159c"
      },
      "id": "Nla-FEpDQTwd",
      "execution_count": null,
      "outputs": [
        {
          "output_type": "stream",
          "name": "stdout",
          "text": [
            "John\n",
            "Mohan\n",
            "Shyam\n",
            "Monu\n"
          ]
        }
      ]
    },
    {
      "cell_type": "code",
      "source": [
        "for n in df3:\n",
        "  if n.count('A')>0:\n",
        "    print(n)"
      ],
      "metadata": {
        "colab": {
          "base_uri": "https://localhost:8080/"
        },
        "id": "cp7SELXATE3T",
        "outputId": "9e86e9fc-f917-4aec-ccd8-33af79d4d545"
      },
      "id": "cp7SELXATE3T",
      "execution_count": null,
      "outputs": [
        {
          "output_type": "stream",
          "name": "stdout",
          "text": [
            "Ram\n",
            "Mohan\n",
            "Shyam\n"
          ]
        }
      ]
    },
    {
      "cell_type": "code",
      "source": [
        "for i in range(4,11,2):\n",
        "  print(i)"
      ],
      "metadata": {
        "colab": {
          "base_uri": "https://localhost:8080/"
        },
        "id": "KUvDTJlETE9h",
        "outputId": "aea107e4-d2cf-4f02-90a2-34f82d278a44"
      },
      "id": "KUvDTJlETE9h",
      "execution_count": null,
      "outputs": [
        {
          "output_type": "stream",
          "name": "stdout",
          "text": [
            "4\n",
            "6\n",
            "8\n",
            "10\n"
          ]
        }
      ]
    },
    {
      "cell_type": "code",
      "source": [
        "n=4 \n",
        "f=1\n",
        "for i in range(1,n+1):\n",
        "  f*=i \n",
        "print('Factorial =',f)  \n"
      ],
      "metadata": {
        "colab": {
          "base_uri": "https://localhost:8080/"
        },
        "id": "1ymwfPVMVMFm",
        "outputId": "0763e7ba-87f4-4044-bbcd-83416201779e"
      },
      "id": "1ymwfPVMVMFm",
      "execution_count": null,
      "outputs": [
        {
          "output_type": "stream",
          "name": "stdout",
          "text": [
            "Factorial = 24\n"
          ]
        }
      ]
    },
    {
      "cell_type": "code",
      "source": [
        "for i in range(4,11):\n",
        "  f=1\n",
        "  for j in range(1,i+1):\n",
        "    f=f*j\n",
        "  print(f\"factorial of {j} = {f}\")  \n"
      ],
      "metadata": {
        "colab": {
          "base_uri": "https://localhost:8080/"
        },
        "id": "jH5CMfp7VMS1",
        "outputId": "38849e7b-552e-4553-d5b4-1526b72aa2fa"
      },
      "id": "jH5CMfp7VMS1",
      "execution_count": null,
      "outputs": [
        {
          "output_type": "stream",
          "name": "stdout",
          "text": [
            "factorial of 4 = 24\n",
            "factorial of 5 = 120\n",
            "factorial of 6 = 720\n",
            "factorial of 7 = 5040\n",
            "factorial of 8 = 40320\n",
            "factorial of 9 = 362880\n",
            "factorial of 10 = 3628800\n"
          ]
        }
      ]
    },
    {
      "cell_type": "code",
      "source": [],
      "metadata": {
        "id": "R0-kaBr6VJpD"
      },
      "id": "R0-kaBr6VJpD",
      "execution_count": null,
      "outputs": []
    },
    {
      "cell_type": "code",
      "source": [],
      "metadata": {
        "id": "Hc6yngK1VJ1F"
      },
      "id": "Hc6yngK1VJ1F",
      "execution_count": null,
      "outputs": []
    },
    {
      "cell_type": "code",
      "source": [],
      "metadata": {
        "id": "WuIevk27VKAf"
      },
      "id": "WuIevk27VKAf",
      "execution_count": null,
      "outputs": []
    },
    {
      "cell_type": "code",
      "source": [],
      "metadata": {
        "id": "C_FCuVOVVKPj"
      },
      "id": "C_FCuVOVVKPj",
      "execution_count": null,
      "outputs": []
    },
    {
      "cell_type": "code",
      "source": [],
      "metadata": {
        "id": "Ti3-bfCRTFFB"
      },
      "id": "Ti3-bfCRTFFB",
      "execution_count": null,
      "outputs": []
    },
    {
      "cell_type": "code",
      "source": [],
      "metadata": {
        "id": "mdONYI4LTFMK"
      },
      "id": "mdONYI4LTFMK",
      "execution_count": null,
      "outputs": []
    },
    {
      "cell_type": "code",
      "source": [],
      "metadata": {
        "id": "S9VYvKeoTFUz"
      },
      "id": "S9VYvKeoTFUz",
      "execution_count": null,
      "outputs": []
    },
    {
      "cell_type": "code",
      "source": [],
      "metadata": {
        "id": "TgyEK4MJTFdF"
      },
      "id": "TgyEK4MJTFdF",
      "execution_count": null,
      "outputs": []
    },
    {
      "cell_type": "code",
      "source": [],
      "metadata": {
        "id": "Ie48iStWQT5g"
      },
      "id": "Ie48iStWQT5g",
      "execution_count": null,
      "outputs": []
    },
    {
      "cell_type": "code",
      "source": [],
      "metadata": {
        "id": "NokpOHUmQUAY"
      },
      "id": "NokpOHUmQUAY",
      "execution_count": null,
      "outputs": []
    },
    {
      "cell_type": "code",
      "source": [
        "for i in range(10,21):\n",
        "  print(f'{i} = {i**3}')"
      ],
      "metadata": {
        "colab": {
          "base_uri": "https://localhost:8080/"
        },
        "id": "pqyBrGeLtn7A",
        "outputId": "cd079984-123b-40a9-cccc-d178d10da953"
      },
      "id": "pqyBrGeLtn7A",
      "execution_count": null,
      "outputs": [
        {
          "output_type": "stream",
          "name": "stdout",
          "text": [
            "10 = 1000\n",
            "11 = 1331\n",
            "12 = 1728\n",
            "13 = 2197\n",
            "14 = 2744\n",
            "15 = 3375\n",
            "16 = 4096\n",
            "17 = 4913\n",
            "18 = 5832\n",
            "19 = 6859\n",
            "20 = 8000\n"
          ]
        }
      ]
    },
    {
      "cell_type": "code",
      "source": [
        "n=100\n",
        "m=50 \n",
        "for i in range(99,49,-2):\n",
        "  print(i)"
      ],
      "metadata": {
        "colab": {
          "base_uri": "https://localhost:8080/"
        },
        "id": "7TbwZSrTtoCm",
        "outputId": "5301a544-7a5e-4878-9303-d070c31a34ef"
      },
      "id": "7TbwZSrTtoCm",
      "execution_count": null,
      "outputs": [
        {
          "output_type": "stream",
          "name": "stdout",
          "text": [
            "99\n",
            "97\n",
            "95\n",
            "93\n",
            "91\n",
            "89\n",
            "87\n",
            "85\n",
            "83\n",
            "81\n",
            "79\n",
            "77\n",
            "75\n",
            "73\n",
            "71\n",
            "69\n",
            "67\n",
            "65\n",
            "63\n",
            "61\n",
            "59\n",
            "57\n",
            "55\n",
            "53\n",
            "51\n"
          ]
        }
      ]
    },
    {
      "cell_type": "code",
      "source": [
        "l=[2,4,6,8,10,13,45,66,110] \n",
        "even = []\n",
        "odd = []\n",
        "for i in l:\n",
        "  if i %2 ==0:\n",
        "    even.append(i) \n",
        "  else:\n",
        "    odd.append(i)  "
      ],
      "metadata": {
        "id": "2rEvjfRNtoJA"
      },
      "id": "2rEvjfRNtoJA",
      "execution_count": null,
      "outputs": []
    },
    {
      "cell_type": "code",
      "source": [
        "even"
      ],
      "metadata": {
        "colab": {
          "base_uri": "https://localhost:8080/"
        },
        "id": "JxsUT5KutoPg",
        "outputId": "114ffa6b-1ca4-42e5-e8a5-d565f75daa3c"
      },
      "id": "JxsUT5KutoPg",
      "execution_count": null,
      "outputs": [
        {
          "output_type": "execute_result",
          "data": {
            "text/plain": [
              "[2, 4, 6, 8, 10, 66, 110]"
            ]
          },
          "metadata": {},
          "execution_count": 15
        }
      ]
    },
    {
      "cell_type": "code",
      "source": [
        "odd"
      ],
      "metadata": {
        "colab": {
          "base_uri": "https://localhost:8080/"
        },
        "id": "e3GDATPltoWj",
        "outputId": "b9219432-ab8a-420b-febb-70b710ecd65e"
      },
      "id": "e3GDATPltoWj",
      "execution_count": null,
      "outputs": [
        {
          "output_type": "execute_result",
          "data": {
            "text/plain": [
              "[13, 45]"
            ]
          },
          "metadata": {},
          "execution_count": 16
        }
      ]
    },
    {
      "cell_type": "code",
      "source": [
        "l1 =[2,4,6,8,10,13,45,66,110] \n",
        "for i in l1:\n",
        "  print(i**2)"
      ],
      "metadata": {
        "id": "yGmaVJ5vcGrF",
        "colab": {
          "base_uri": "https://localhost:8080/"
        },
        "outputId": "ad6e499d-934d-4a53-ea2d-6d4b8ecaa85a"
      },
      "id": "yGmaVJ5vcGrF",
      "execution_count": null,
      "outputs": [
        {
          "output_type": "stream",
          "name": "stdout",
          "text": [
            "4\n",
            "16\n",
            "36\n",
            "64\n",
            "100\n",
            "169\n",
            "2025\n",
            "4356\n",
            "12100\n"
          ]
        }
      ]
    },
    {
      "cell_type": "code",
      "source": [
        "# list comprehension \n",
        "[i**2 for i in l1] "
      ],
      "metadata": {
        "colab": {
          "base_uri": "https://localhost:8080/"
        },
        "id": "GOT6rYj2yxoO",
        "outputId": "eb847bdb-5212-468b-a07f-dd9d0ee35c6e"
      },
      "id": "GOT6rYj2yxoO",
      "execution_count": null,
      "outputs": [
        {
          "output_type": "execute_result",
          "data": {
            "text/plain": [
              "[4, 16, 36, 64, 100, 169, 2025, 4356, 12100]"
            ]
          },
          "metadata": {},
          "execution_count": 18
        }
      ]
    },
    {
      "cell_type": "code",
      "source": [
        "[i**2 for i in l1 if i %2 ==0 ] "
      ],
      "metadata": {
        "colab": {
          "base_uri": "https://localhost:8080/"
        },
        "id": "fecrQ3U-yxu1",
        "outputId": "8c4c36af-eb2f-4d87-d1d4-38a537cfe9ea"
      },
      "id": "fecrQ3U-yxu1",
      "execution_count": null,
      "outputs": [
        {
          "output_type": "execute_result",
          "data": {
            "text/plain": [
              "[4, 16, 36, 64, 100, 4356, 12100]"
            ]
          },
          "metadata": {},
          "execution_count": 19
        }
      ]
    },
    {
      "cell_type": "code",
      "source": [
        "l2=[2,4,6,8] \n",
        "d1 = {}\n",
        "for i in l2:\n",
        "  d1[i] = i**2\n",
        "d1 "
      ],
      "metadata": {
        "id": "O6f5CPVccGxK",
        "colab": {
          "base_uri": "https://localhost:8080/"
        },
        "outputId": "7fee722a-30f2-444d-fa9e-4bdebd3bfd83"
      },
      "id": "O6f5CPVccGxK",
      "execution_count": null,
      "outputs": [
        {
          "output_type": "execute_result",
          "data": {
            "text/plain": [
              "{2: 4, 4: 16, 6: 36, 8: 64}"
            ]
          },
          "metadata": {},
          "execution_count": 20
        }
      ]
    },
    {
      "cell_type": "code",
      "source": [
        "{i : i**2  for i in l2 if i%2==0 } "
      ],
      "metadata": {
        "colab": {
          "base_uri": "https://localhost:8080/"
        },
        "id": "2RQ3MQZZ0Ihi",
        "outputId": "9a70eae8-417a-4975-d78d-07bfa87e4cb1"
      },
      "id": "2RQ3MQZZ0Ihi",
      "execution_count": null,
      "outputs": [
        {
          "output_type": "execute_result",
          "data": {
            "text/plain": [
              "{2: 4, 4: 16, 6: 36, 8: 64}"
            ]
          },
          "metadata": {},
          "execution_count": 25
        }
      ]
    },
    {
      "cell_type": "code",
      "source": [
        "l1=('a','b','s','v','p')"
      ],
      "metadata": {
        "id": "PXLgMRbx0Inc"
      },
      "id": "PXLgMRbx0Inc",
      "execution_count": null,
      "outputs": []
    },
    {
      "cell_type": "code",
      "source": [
        "{i:ord(i) for i in l1}  "
      ],
      "metadata": {
        "colab": {
          "base_uri": "https://localhost:8080/"
        },
        "id": "70W_U1dI2lER",
        "outputId": "4400951f-fbd1-4f7e-9fc6-5acf146c9bf3"
      },
      "id": "70W_U1dI2lER",
      "execution_count": null,
      "outputs": [
        {
          "output_type": "execute_result",
          "data": {
            "text/plain": [
              "{'A': 65, 'b': 98, 's': 115, 'v': 118, 'p': 112}"
            ]
          },
          "metadata": {},
          "execution_count": 34
        }
      ]
    },
    {
      "cell_type": "code",
      "source": [
        "square = {i:i**2 for i in range(1,11)}"
      ],
      "metadata": {
        "id": "24MYRKRS2lKb"
      },
      "id": "24MYRKRS2lKb",
      "execution_count": null,
      "outputs": []
    },
    {
      "cell_type": "code",
      "source": [
        "square"
      ],
      "metadata": {
        "colab": {
          "base_uri": "https://localhost:8080/"
        },
        "id": "f5VQn5pYVlns",
        "outputId": "6a52ae1a-eab8-4b55-ff24-aa9b859607b4"
      },
      "id": "f5VQn5pYVlns",
      "execution_count": null,
      "outputs": [
        {
          "output_type": "execute_result",
          "data": {
            "text/plain": [
              "{1: 1, 2: 4, 3: 9, 4: 16, 5: 25, 6: 36, 7: 49, 8: 64, 9: 81, 10: 100}"
            ]
          },
          "metadata": {},
          "execution_count": 2
        }
      ]
    },
    {
      "cell_type": "code",
      "source": [
        "square = {f'Square of {i}':i**2 for i in range(1,11)} "
      ],
      "metadata": {
        "id": "ev08V-r0Vlrt"
      },
      "id": "ev08V-r0Vlrt",
      "execution_count": null,
      "outputs": []
    },
    {
      "cell_type": "code",
      "source": [
        "square"
      ],
      "metadata": {
        "colab": {
          "base_uri": "https://localhost:8080/"
        },
        "id": "NxAemFHlVlwN",
        "outputId": "93ff4da1-6cc1-4e3e-89a9-2bcb40a08dc5"
      },
      "id": "NxAemFHlVlwN",
      "execution_count": null,
      "outputs": [
        {
          "output_type": "execute_result",
          "data": {
            "text/plain": [
              "{'Square of 1': 1,\n",
              " 'Square of 2': 4,\n",
              " 'Square of 3': 9,\n",
              " 'Square of 4': 16,\n",
              " 'Square of 5': 25,\n",
              " 'Square of 6': 36,\n",
              " 'Square of 7': 49,\n",
              " 'Square of 8': 64,\n",
              " 'Square of 9': 81,\n",
              " 'Square of 10': 100}"
            ]
          },
          "metadata": {},
          "execution_count": 4
        }
      ]
    },
    {
      "cell_type": "code",
      "source": [
        "for i,v in square.items():\n",
        "  print(f'{i} : {v} ') "
      ],
      "metadata": {
        "colab": {
          "base_uri": "https://localhost:8080/"
        },
        "id": "lt6BkslwW3fm",
        "outputId": "da352acc-024a-47db-e7ac-ac77c49d8432"
      },
      "id": "lt6BkslwW3fm",
      "execution_count": null,
      "outputs": [
        {
          "output_type": "stream",
          "name": "stdout",
          "text": [
            "Square of 1 : 1 \n",
            "Square of 2 : 4 \n",
            "Square of 3 : 9 \n",
            "Square of 4 : 16 \n",
            "Square of 5 : 25 \n",
            "Square of 6 : 36 \n",
            "Square of 7 : 49 \n",
            "Square of 8 : 64 \n",
            "Square of 9 : 81 \n",
            "Square of 10 : 100 \n"
          ]
        }
      ]
    },
    {
      "cell_type": "code",
      "source": [],
      "metadata": {
        "id": "k5HwZ-ouW7yU"
      },
      "id": "k5HwZ-ouW7yU",
      "execution_count": null,
      "outputs": []
    },
    {
      "cell_type": "code",
      "source": [],
      "metadata": {
        "id": "5YWa8Lk0W72K"
      },
      "id": "5YWa8Lk0W72K",
      "execution_count": null,
      "outputs": []
    },
    {
      "cell_type": "code",
      "source": [
        "{i**2 for i in l2} "
      ],
      "metadata": {
        "id": "2BKReLbjcG1v",
        "colab": {
          "base_uri": "https://localhost:8080/"
        },
        "outputId": "de7dafbc-6b10-4890-c425-73c1b585f274"
      },
      "id": "2BKReLbjcG1v",
      "execution_count": null,
      "outputs": [
        {
          "output_type": "execute_result",
          "data": {
            "text/plain": [
              "{4, 16, 36, 64}"
            ]
          },
          "metadata": {},
          "execution_count": 21
        }
      ]
    },
    {
      "cell_type": "code",
      "source": [
        "l1=[2,3,4,2,5] \n",
        "\n",
        "{i**2 for i in  l1 }"
      ],
      "metadata": {
        "colab": {
          "base_uri": "https://localhost:8080/"
        },
        "id": "q1JorikC0Cfw",
        "outputId": "e0ae82a8-1349-4030-cba0-d081e2cefa56"
      },
      "id": "q1JorikC0Cfw",
      "execution_count": null,
      "outputs": [
        {
          "output_type": "execute_result",
          "data": {
            "text/plain": [
              "{4, 9, 16, 25}"
            ]
          },
          "metadata": {},
          "execution_count": 26
        }
      ]
    },
    {
      "cell_type": "code",
      "source": [
        "l=['A','b','s','v','p'] "
      ],
      "metadata": {
        "id": "bdPPSwPR1XHw"
      },
      "id": "bdPPSwPR1XHw",
      "execution_count": null,
      "outputs": []
    },
    {
      "cell_type": "code",
      "source": [],
      "metadata": {
        "id": "XOXhOEPA2emG"
      },
      "id": "XOXhOEPA2emG",
      "execution_count": null,
      "outputs": []
    },
    {
      "cell_type": "markdown",
      "source": [
        "**EOD 02-03-2023**"
      ],
      "metadata": {
        "id": "-eJjQAwz3YXU"
      },
      "id": "-eJjQAwz3YXU"
    },
    {
      "cell_type": "code",
      "source": [
        "# Dictionay Comprehension \n",
        "\n",
        "# {Square of 1:1, square of  2:4, 3:9-------------10}"
      ],
      "metadata": {
        "id": "QoVRM0jd3W_s"
      },
      "id": "QoVRM0jd3W_s",
      "execution_count": null,
      "outputs": []
    },
    {
      "cell_type": "code",
      "source": [
        "square = {i:i**2 for i in range(1,11) if i%2==0} "
      ],
      "metadata": {
        "id": "VW4iA7zsyEyg"
      },
      "id": "VW4iA7zsyEyg",
      "execution_count": null,
      "outputs": []
    },
    {
      "cell_type": "code",
      "source": [
        "square"
      ],
      "metadata": {
        "id": "NX1_zEyB3XGh",
        "colab": {
          "base_uri": "https://localhost:8080/"
        },
        "outputId": "35cfb3ee-ace0-41ec-c27e-5a9f4d4243a0"
      },
      "id": "NX1_zEyB3XGh",
      "execution_count": null,
      "outputs": [
        {
          "output_type": "execute_result",
          "data": {
            "text/plain": [
              "{2: 4, 4: 16, 6: 36, 8: 64, 10: 100}"
            ]
          },
          "metadata": {},
          "execution_count": 4
        }
      ]
    },
    {
      "cell_type": "code",
      "source": [
        "square = {f\"Square of {i}\":i**2 for i in range(1,11)} "
      ],
      "metadata": {
        "id": "7v8cTRctynFX"
      },
      "id": "7v8cTRctynFX",
      "execution_count": null,
      "outputs": []
    },
    {
      "cell_type": "code",
      "source": [
        "square"
      ],
      "metadata": {
        "colab": {
          "base_uri": "https://localhost:8080/"
        },
        "id": "PO8cRPhly3Ed",
        "outputId": "e73d07fd-4863-4179-c6e8-46d93fa2eadb"
      },
      "id": "PO8cRPhly3Ed",
      "execution_count": null,
      "outputs": [
        {
          "output_type": "execute_result",
          "data": {
            "text/plain": [
              "{'Square of 1': 1,\n",
              " 'Square of 2': 4,\n",
              " 'Square of 3': 9,\n",
              " 'Square of 4': 16,\n",
              " 'Square of 5': 25,\n",
              " 'Square of 6': 36,\n",
              " 'Square of 7': 49,\n",
              " 'Square of 8': 64,\n",
              " 'Square of 9': 81,\n",
              " 'Square of 10': 100}"
            ]
          },
          "metadata": {},
          "execution_count": 7
        }
      ]
    },
    {
      "cell_type": "code",
      "source": [
        "for k,v in square.items():\n",
        "  print(f'{k} = {v}')  "
      ],
      "metadata": {
        "colab": {
          "base_uri": "https://localhost:8080/"
        },
        "id": "9mckKcJTy3NH",
        "outputId": "a89954be-ed55-4ace-8df7-2adb0430db04"
      },
      "id": "9mckKcJTy3NH",
      "execution_count": null,
      "outputs": [
        {
          "output_type": "stream",
          "name": "stdout",
          "text": [
            "Square of 1 = 1\n",
            "Square of 2 = 4\n",
            "Square of 3 = 9\n",
            "Square of 4 = 16\n",
            "Square of 5 = 25\n",
            "Square of 6 = 36\n",
            "Square of 7 = 49\n",
            "Square of 8 = 64\n",
            "Square of 9 = 81\n",
            "Square of 10 = 100\n"
          ]
        }
      ]
    },
    {
      "cell_type": "code",
      "source": [
        "l1,l2,l3,l4 = [int(i) for i in input('Dear User, Seperate all Number by comma(,)=').split(',')]  "
      ],
      "metadata": {
        "colab": {
          "base_uri": "https://localhost:8080/"
        },
        "id": "bMiaWmwry3UY",
        "outputId": "77082ebd-0e05-45b9-860e-68f5db3c0938"
      },
      "id": "bMiaWmwry3UY",
      "execution_count": null,
      "outputs": [
        {
          "name": "stdout",
          "output_type": "stream",
          "text": [
            "Dear User, Seperate all Number by comma(,)=12,14,56,70\n"
          ]
        }
      ]
    },
    {
      "cell_type": "code",
      "source": [
        "l1"
      ],
      "metadata": {
        "colab": {
          "base_uri": "https://localhost:8080/"
        },
        "id": "XSaCjlpj1_Gx",
        "outputId": "49c36b34-3a92-442a-986e-20e302dd9d5c"
      },
      "id": "XSaCjlpj1_Gx",
      "execution_count": null,
      "outputs": [
        {
          "output_type": "execute_result",
          "data": {
            "text/plain": [
              "12"
            ]
          },
          "metadata": {},
          "execution_count": 32
        }
      ]
    },
    {
      "cell_type": "code",
      "source": [
        "x,y = [int(i) for i in input('Dear User Enter Number, seperate with (,)').split(',')]\n",
        "print(f'Operation on {x} and {y}\\nAddition = {x+y} \\nSubtration = {x-y} \\nMultiplication ={x*y}')"
      ],
      "metadata": {
        "id": "OwrH1e2z3swq"
      },
      "id": "OwrH1e2z3swq",
      "execution_count": null,
      "outputs": []
    },
    {
      "cell_type": "code",
      "source": [
        "df = [int(i) for i in input('Enter Number for finding factorial seperate with comma = ').split(',')] \n",
        "\n",
        "for i in df:\n",
        "  f=1\n",
        "  for j in range(1,i+1):\n",
        "    f=f*j  \n",
        "  print(f'Factorial {i} = ',f)   \n"
      ],
      "metadata": {
        "colab": {
          "base_uri": "https://localhost:8080/"
        },
        "id": "89PjXCg85A7p",
        "outputId": "7ca61497-a18c-4a3c-c3ae-e0a9597c40f5"
      },
      "id": "89PjXCg85A7p",
      "execution_count": null,
      "outputs": [
        {
          "output_type": "stream",
          "name": "stdout",
          "text": [
            "Enter Number for finding factorial seperate with comma = 10,20,30,40\n",
            "Factorial 10 =  3628800\n",
            "Factorial 20 =  2432902008176640000\n",
            "Factorial 30 =  265252859812191058636308480000000\n",
            "Factorial 40 =  815915283247897734345611269596115894272000000000\n"
          ]
        }
      ]
    },
    {
      "cell_type": "code",
      "source": [
        "c = 'a' \n",
        "c.swapcase()"
      ],
      "metadata": {
        "colab": {
          "base_uri": "https://localhost:8080/",
          "height": 35
        },
        "id": "YHFAlKHd8Qjb",
        "outputId": "e2373d79-5b5d-4d8b-cefe-06bf7394a416"
      },
      "id": "YHFAlKHd8Qjb",
      "execution_count": null,
      "outputs": [
        {
          "output_type": "execute_result",
          "data": {
            "text/plain": [
              "'A'"
            ],
            "application/vnd.google.colaboratory.intrinsic+json": {
              "type": "string"
            }
          },
          "metadata": {},
          "execution_count": 42
        }
      ]
    },
    {
      "cell_type": "code",
      "source": [
        "{a:(56,65),b:(57,89)-----}"
      ],
      "metadata": {
        "id": "3T3evqIu-yc1"
      },
      "id": "3T3evqIu-yc1",
      "execution_count": null,
      "outputs": []
    },
    {
      "cell_type": "code",
      "source": [
        "dict1 = {i: (bin(ord(i)),bin(ord(i.swapcase()))) for i in input('Dear Use Enter alphabate -').split(',')} \n",
        "dict1 "
      ],
      "metadata": {
        "colab": {
          "base_uri": "https://localhost:8080/"
        },
        "id": "jencvyRr-yjG",
        "outputId": "354eb8cc-4c98-40dd-e8b9-ec853909bbc8"
      },
      "id": "jencvyRr-yjG",
      "execution_count": null,
      "outputs": [
        {
          "name": "stdout",
          "output_type": "stream",
          "text": [
            "Dear Use Enter alphabate -a,b,c,d,e\n"
          ]
        },
        {
          "output_type": "execute_result",
          "data": {
            "text/plain": [
              "{'a': ('0b1100001', '0b1000001'),\n",
              " 'b': ('0b1100010', '0b1000010'),\n",
              " 'c': ('0b1100011', '0b1000011'),\n",
              " 'd': ('0b1100100', '0b1000100'),\n",
              " 'e': ('0b1100101', '0b1000101')}"
            ]
          },
          "metadata": {},
          "execution_count": 44
        }
      ]
    },
    {
      "cell_type": "code",
      "source": [],
      "metadata": {
        "id": "I84uShP_8QdU"
      },
      "id": "I84uShP_8QdU",
      "execution_count": null,
      "outputs": []
    },
    {
      "cell_type": "code",
      "source": [
        "# EOD (3-4-2022) "
      ],
      "metadata": {
        "id": "yaXXkBxv5BC7"
      },
      "id": "yaXXkBxv5BC7",
      "execution_count": null,
      "outputs": []
    },
    {
      "cell_type": "code",
      "source": [],
      "metadata": {
        "id": "lyMbu1gt5BLF"
      },
      "id": "lyMbu1gt5BLF",
      "execution_count": null,
      "outputs": []
    },
    {
      "cell_type": "code",
      "source": [],
      "metadata": {
        "id": "lUIFlN12CPFY"
      },
      "id": "lUIFlN12CPFY",
      "execution_count": null,
      "outputs": []
    },
    {
      "cell_type": "code",
      "source": [],
      "metadata": {
        "id": "6sWG5zXvCPPf"
      },
      "id": "6sWG5zXvCPPf",
      "execution_count": null,
      "outputs": []
    },
    {
      "cell_type": "code",
      "source": [],
      "metadata": {
        "id": "2HIAOPCbCPX2"
      },
      "id": "2HIAOPCbCPX2",
      "execution_count": null,
      "outputs": []
    },
    {
      "cell_type": "code",
      "source": [],
      "metadata": {
        "id": "AtdXciVVCPeN"
      },
      "id": "AtdXciVVCPeN",
      "execution_count": null,
      "outputs": []
    },
    {
      "cell_type": "code",
      "source": [],
      "metadata": {
        "id": "TXH8Um-PCPnJ"
      },
      "id": "TXH8Um-PCPnJ",
      "execution_count": null,
      "outputs": []
    },
    {
      "cell_type": "code",
      "source": [],
      "metadata": {
        "id": "C3W_wFF1CPuu"
      },
      "id": "C3W_wFF1CPuu",
      "execution_count": null,
      "outputs": []
    },
    {
      "cell_type": "code",
      "source": [],
      "metadata": {
        "id": "iuyiB6Rc3s2z"
      },
      "id": "iuyiB6Rc3s2z",
      "execution_count": null,
      "outputs": []
    },
    {
      "cell_type": "code",
      "source": [
        "d.split('-') "
      ],
      "metadata": {
        "colab": {
          "base_uri": "https://localhost:8080/"
        },
        "id": "pBPEydvz1_OH",
        "outputId": "fd28b829-33ff-47c6-e599-1f0dc2896be0"
      },
      "id": "pBPEydvz1_OH",
      "execution_count": null,
      "outputs": [
        {
          "output_type": "execute_result",
          "data": {
            "text/plain": [
              "['d', 'y', 'a', 'n', 'nd']"
            ]
          },
          "metadata": {},
          "execution_count": 23
        }
      ]
    },
    {
      "cell_type": "code",
      "source": [
        "12 14 56"
      ],
      "metadata": {
        "id": "Ul2CwwvW2MCM"
      },
      "id": "Ul2CwwvW2MCM",
      "execution_count": null,
      "outputs": []
    },
    {
      "cell_type": "code",
      "source": [
        "list1"
      ],
      "metadata": {
        "colab": {
          "base_uri": "https://localhost:8080/"
        },
        "id": "zJpxIUbxy3dW",
        "outputId": "8367345a-b855-4d60-ca8b-0a4f93bcfa4e"
      },
      "id": "zJpxIUbxy3dW",
      "execution_count": null,
      "outputs": [
        {
          "output_type": "execute_result",
          "data": {
            "text/plain": [
              "['1']"
            ]
          },
          "metadata": {},
          "execution_count": 20
        }
      ]
    },
    {
      "cell_type": "code",
      "source": [],
      "metadata": {
        "id": "2BMew0YpynLy"
      },
      "id": "2BMew0YpynLy",
      "execution_count": null,
      "outputs": []
    },
    {
      "cell_type": "code",
      "source": [
        "type(square)"
      ],
      "metadata": {
        "id": "MUjwPyCO3XP2",
        "colab": {
          "base_uri": "https://localhost:8080/"
        },
        "outputId": "11dc95b8-ca59-481b-d760-7d292c59f0ca"
      },
      "id": "MUjwPyCO3XP2",
      "execution_count": null,
      "outputs": [
        {
          "output_type": "execute_result",
          "data": {
            "text/plain": [
              "dict"
            ]
          },
          "metadata": {},
          "execution_count": 5
        }
      ]
    },
    {
      "cell_type": "code",
      "source": [],
      "metadata": {
        "id": "W7_HEKAL3XYO"
      },
      "id": "W7_HEKAL3XYO",
      "execution_count": null,
      "outputs": []
    },
    {
      "cell_type": "code",
      "source": [],
      "metadata": {
        "id": "FDQajVsy3Xd0"
      },
      "id": "FDQajVsy3Xd0",
      "execution_count": null,
      "outputs": []
    },
    {
      "cell_type": "code",
      "source": [
        "for i in l: \n",
        "  print(ord(i)) "
      ],
      "metadata": {
        "colab": {
          "base_uri": "https://localhost:8080/"
        },
        "id": "EkuRtuRC1XNb",
        "outputId": "0ea7c363-e284-479a-9cec-47db3bc9cf81"
      },
      "id": "EkuRtuRC1XNb",
      "execution_count": null,
      "outputs": [
        {
          "output_type": "stream",
          "name": "stdout",
          "text": [
            "65\n",
            "98\n",
            "115\n",
            "118\n",
            "112\n"
          ]
        }
      ]
    },
    {
      "cell_type": "code",
      "source": [],
      "metadata": {
        "id": "yPDuIqAC1XT5"
      },
      "id": "yPDuIqAC1XT5",
      "execution_count": null,
      "outputs": []
    },
    {
      "cell_type": "code",
      "source": [],
      "metadata": {
        "id": "ZkFj64ZM1XdV"
      },
      "id": "ZkFj64ZM1XdV",
      "execution_count": null,
      "outputs": []
    },
    {
      "cell_type": "code",
      "source": [],
      "metadata": {
        "id": "kT-qvoog0Cly"
      },
      "id": "kT-qvoog0Cly",
      "execution_count": null,
      "outputs": []
    },
    {
      "cell_type": "code",
      "source": [
        "i=10\n",
        "k=1\n",
        "while i >=1:\n",
        "  j =1\n",
        "  n =1\n",
        "  while j<=i-1:\n",
        "    print(\" \",end=\" \")\n",
        "    j+=1 \n",
        "  while n<=k:\n",
        "    print(\" * \",end=\" \") \n",
        "    n+=1  \n",
        "  k+=1   \n",
        "  print()        \n",
        "  i-=1 "
      ],
      "metadata": {
        "id": "hkkfcVCqLVr0",
        "colab": {
          "base_uri": "https://localhost:8080/"
        },
        "outputId": "6ed8c9ab-4f48-4c87-964c-45db6875cc62"
      },
      "id": "hkkfcVCqLVr0",
      "execution_count": null,
      "outputs": [
        {
          "output_type": "stream",
          "name": "stdout",
          "text": [
            "                   *  \n",
            "                 *   *  \n",
            "               *   *   *  \n",
            "             *   *   *   *  \n",
            "           *   *   *   *   *  \n",
            "         *   *   *   *   *   *  \n",
            "       *   *   *   *   *   *   *  \n",
            "     *   *   *   *   *   *   *   *  \n",
            "   *   *   *   *   *   *   *   *   *  \n",
            " *   *   *   *   *   *   *   *   *   *  \n"
          ]
        }
      ]
    },
    {
      "cell_type": "code",
      "source": [
        "# for loop:- it specialy work on sequence data. \n",
        "#list \n",
        "# tuple\n",
        "# range\n",
        "# string \n",
        "# dictionary \n"
      ],
      "metadata": {
        "id": "py6rTJ99LVw9"
      },
      "id": "py6rTJ99LVw9",
      "execution_count": null,
      "outputs": []
    },
    {
      "cell_type": "code",
      "source": [
        "# range(start,stop,step) \n",
        "\n",
        "for i in range(10,20):\n",
        "  print(\"Ram\")  "
      ],
      "metadata": {
        "colab": {
          "base_uri": "https://localhost:8080/"
        },
        "id": "HHlNhz84Z0eA",
        "outputId": "7d996873-108e-4d6a-baee-d07671779e8f"
      },
      "id": "HHlNhz84Z0eA",
      "execution_count": null,
      "outputs": [
        {
          "output_type": "stream",
          "name": "stdout",
          "text": [
            "Ram\n",
            "Ram\n",
            "Ram\n",
            "Ram\n",
            "Ram\n",
            "Ram\n",
            "Ram\n",
            "Ram\n",
            "Ram\n",
            "Ram\n"
          ]
        }
      ]
    },
    {
      "cell_type": "code",
      "source": [
        "for i in range(2,21,2):\n",
        "  print(i) "
      ],
      "metadata": {
        "colab": {
          "base_uri": "https://localhost:8080/"
        },
        "id": "jVH9uRxrZ0jz",
        "outputId": "cfab0d9d-48e4-4d1c-ce8a-ea9cbaeb10f0"
      },
      "id": "jVH9uRxrZ0jz",
      "execution_count": null,
      "outputs": [
        {
          "output_type": "stream",
          "name": "stdout",
          "text": [
            "2\n",
            "4\n",
            "6\n",
            "8\n",
            "10\n",
            "12\n",
            "14\n",
            "16\n",
            "18\n",
            "20\n"
          ]
        }
      ]
    },
    {
      "cell_type": "code",
      "source": [
        "for i in range(13,131,13):\n",
        "  print(i) "
      ],
      "metadata": {
        "id": "HfbrvO-PLT4Q",
        "colab": {
          "base_uri": "https://localhost:8080/"
        },
        "outputId": "cb77fc47-043d-4db0-cae2-c0d459d34441"
      },
      "id": "HfbrvO-PLT4Q",
      "execution_count": null,
      "outputs": [
        {
          "output_type": "stream",
          "name": "stdout",
          "text": [
            "13\n",
            "26\n",
            "39\n",
            "52\n",
            "65\n",
            "78\n",
            "91\n",
            "104\n",
            "117\n",
            "130\n"
          ]
        }
      ]
    },
    {
      "cell_type": "code",
      "source": [
        "for i in range(50,19,-2):\n",
        "  print(i) "
      ],
      "metadata": {
        "id": "2xlfub9QLT_k",
        "colab": {
          "base_uri": "https://localhost:8080/"
        },
        "outputId": "60f8d43e-aa17-41f8-ded1-6306aaa16312"
      },
      "id": "2xlfub9QLT_k",
      "execution_count": null,
      "outputs": [
        {
          "output_type": "stream",
          "name": "stdout",
          "text": [
            "50\n",
            "48\n",
            "46\n",
            "44\n",
            "42\n",
            "40\n",
            "38\n",
            "36\n",
            "34\n",
            "32\n",
            "30\n",
            "28\n",
            "26\n",
            "24\n",
            "22\n",
            "20\n"
          ]
        }
      ]
    },
    {
      "cell_type": "code",
      "source": [
        "for i in range(4,11):\n",
        "  j=1\n",
        "  for j in range(1,11):\n",
        "    print(i*j,end=\"\\t\") \n",
        "  print()   "
      ],
      "metadata": {
        "colab": {
          "base_uri": "https://localhost:8080/"
        },
        "id": "h_PY06kCavmD",
        "outputId": "8bb974b0-d338-4c3e-b95d-1d0acf80da36"
      },
      "id": "h_PY06kCavmD",
      "execution_count": null,
      "outputs": [
        {
          "output_type": "stream",
          "name": "stdout",
          "text": [
            "4\t8\t12\t16\t20\t24\t28\t32\t36\t40\t\n",
            "5\t10\t15\t20\t25\t30\t35\t40\t45\t50\t\n",
            "6\t12\t18\t24\t30\t36\t42\t48\t54\t60\t\n",
            "7\t14\t21\t28\t35\t42\t49\t56\t63\t70\t\n",
            "8\t16\t24\t32\t40\t48\t56\t64\t72\t80\t\n",
            "9\t18\t27\t36\t45\t54\t63\t72\t81\t90\t\n",
            "10\t20\t30\t40\t50\t60\t70\t80\t90\t100\t\n"
          ]
        }
      ]
    },
    {
      "cell_type": "code",
      "source": [
        "list1 = [12,13,45,67,89,90,34,56,99,13] \n",
        "\n",
        "for i in list1:\n",
        "  print(i) "
      ],
      "metadata": {
        "colab": {
          "base_uri": "https://localhost:8080/"
        },
        "id": "FCwpp4Uobbn2",
        "outputId": "c200abd9-bcfb-40b6-866b-b7a25dd73943"
      },
      "id": "FCwpp4Uobbn2",
      "execution_count": null,
      "outputs": [
        {
          "output_type": "stream",
          "name": "stdout",
          "text": [
            "12\n",
            "13\n",
            "45\n",
            "67\n",
            "89\n",
            "90\n",
            "34\n",
            "56\n",
            "99\n",
            "13\n"
          ]
        }
      ]
    },
    {
      "cell_type": "code",
      "source": [
        "for i in list1:\n",
        "  if i % 2 != 0:\n",
        "    print(i) "
      ],
      "metadata": {
        "colab": {
          "base_uri": "https://localhost:8080/"
        },
        "id": "5aM9y0wQbbvk",
        "outputId": "50955b03-8e29-4c7f-fe6c-59110243803d"
      },
      "id": "5aM9y0wQbbvk",
      "execution_count": null,
      "outputs": [
        {
          "output_type": "stream",
          "name": "stdout",
          "text": [
            "13\n",
            "45\n",
            "67\n",
            "89\n",
            "99\n",
            "13\n"
          ]
        }
      ]
    },
    {
      "cell_type": "code",
      "source": [
        "n= int(input(\"Enter a Number to  check Prime or non prime:- \"))\n",
        "\n",
        "if n>1:\n",
        "  for i in range(2,n):\n",
        "    if n % i ==0:\n",
        "      print(n,' Non-Prime Number')\n",
        "      break     \n",
        "  else:\n",
        "    print(n,' Prime Number ') \n",
        "      \n",
        "else:\n",
        "  print(n,' is Prime Number ')       \n"
      ],
      "metadata": {
        "colab": {
          "base_uri": "https://localhost:8080/"
        },
        "id": "Igdd1Uavbb4c",
        "outputId": "62c5c801-16a9-4f0e-b283-a327c23f657f"
      },
      "id": "Igdd1Uavbb4c",
      "execution_count": null,
      "outputs": [
        {
          "output_type": "stream",
          "name": "stdout",
          "text": [
            "Enter a Number to  check Prime or non prime:- 51\n",
            "51  Non-Prime Number\n"
          ]
        }
      ]
    },
    {
      "cell_type": "code",
      "source": [
        "str1=\"RAMAYAN\" \n",
        "\n",
        "for i in str1:\n",
        "  print(i) "
      ],
      "metadata": {
        "colab": {
          "base_uri": "https://localhost:8080/"
        },
        "id": "AzKg7HRvbcGF",
        "outputId": "5e7dbaae-d40d-446e-fa41-479cfd1aec25"
      },
      "id": "AzKg7HRvbcGF",
      "execution_count": null,
      "outputs": [
        {
          "output_type": "stream",
          "name": "stdout",
          "text": [
            "R\n",
            "A\n",
            "M\n",
            "A\n",
            "Y\n",
            "A\n",
            "N\n"
          ]
        }
      ]
    },
    {
      "cell_type": "code",
      "source": [
        "t1 = [12,44,55,66,77,12] \n",
        "# t[0]\n",
        "for i in range(0,len(t1)):\n",
        "  t1[i]=t1[i]+10 \n",
        "  \n"
      ],
      "metadata": {
        "id": "Rzb1MYTkbcLE"
      },
      "id": "Rzb1MYTkbcLE",
      "execution_count": null,
      "outputs": []
    },
    {
      "cell_type": "code",
      "source": [
        "t1"
      ],
      "metadata": {
        "colab": {
          "base_uri": "https://localhost:8080/"
        },
        "id": "87jUuHrSbcQN",
        "outputId": "8e4fd58e-b81f-4d8f-93d9-3d41126254ce"
      },
      "id": "87jUuHrSbcQN",
      "execution_count": null,
      "outputs": [
        {
          "output_type": "execute_result",
          "data": {
            "text/plain": [
              "[22, 54, 65, 76, 87, 22]"
            ]
          },
          "metadata": {},
          "execution_count": 51
        }
      ]
    },
    {
      "cell_type": "code",
      "source": [
        "for i in range(0,len(t1),2):\n",
        "  print(t1[i]) "
      ],
      "metadata": {
        "colab": {
          "base_uri": "https://localhost:8080/"
        },
        "id": "nIe_qaudavr1",
        "outputId": "af4b7b90-bcfd-402d-f9cf-0eaa8d875a35"
      },
      "id": "nIe_qaudavr1",
      "execution_count": null,
      "outputs": [
        {
          "output_type": "stream",
          "name": "stdout",
          "text": [
            "22\n",
            "65\n",
            "87\n"
          ]
        }
      ]
    },
    {
      "cell_type": "code",
      "source": [
        "for i in range(len(t1)):\n",
        "  print(i,t1[i]) "
      ],
      "metadata": {
        "colab": {
          "base_uri": "https://localhost:8080/"
        },
        "id": "nw2kZNZnavx7",
        "outputId": "155a9245-dc05-4789-e852-a16adc4d4f7d"
      },
      "id": "nw2kZNZnavx7",
      "execution_count": null,
      "outputs": [
        {
          "output_type": "stream",
          "name": "stdout",
          "text": [
            "0 22\n",
            "1 54\n",
            "2 65\n",
            "3 76\n",
            "4 87\n",
            "5 22\n"
          ]
        }
      ]
    },
    {
      "cell_type": "code",
      "source": [
        "# enumerate() \n",
        "\n",
        "for i,v in enumerate(t1):\n",
        "  print(i,v) "
      ],
      "metadata": {
        "colab": {
          "base_uri": "https://localhost:8080/"
        },
        "id": "7avCLPPBjKk9",
        "outputId": "457b733f-23bf-456e-da58-2b0db7cda44f"
      },
      "id": "7avCLPPBjKk9",
      "execution_count": null,
      "outputs": [
        {
          "output_type": "stream",
          "name": "stdout",
          "text": [
            "0 22\n",
            "1 54\n",
            "2 65\n",
            "3 76\n",
            "4 87\n",
            "5 22\n"
          ]
        }
      ]
    },
    {
      "cell_type": "code",
      "source": [
        "\n",
        "for i,v in enumerate(t1,start=2):\n",
        "  print(i,v) "
      ],
      "metadata": {
        "colab": {
          "base_uri": "https://localhost:8080/"
        },
        "id": "qKpv_khHjKsM",
        "outputId": "d85a2b4e-7c3a-41ea-bc4b-1d411097da8c"
      },
      "id": "qKpv_khHjKsM",
      "execution_count": null,
      "outputs": [
        {
          "output_type": "stream",
          "name": "stdout",
          "text": [
            "2 22\n",
            "3 54\n",
            "4 65\n",
            "5 76\n",
            "6 87\n",
            "7 22\n"
          ]
        }
      ]
    },
    {
      "cell_type": "code",
      "source": [
        "df1=['ram','mohan','sohan','john','smith']  \n",
        "l1=[]\n",
        "for i in df1:\n",
        "  if i.count('a') >=1:\n",
        "    l1.append(i) "
      ],
      "metadata": {
        "id": "A_Va4knvjKyI"
      },
      "id": "A_Va4knvjKyI",
      "execution_count": null,
      "outputs": []
    },
    {
      "cell_type": "code",
      "source": [
        "l1"
      ],
      "metadata": {
        "colab": {
          "base_uri": "https://localhost:8080/"
        },
        "id": "Qn-dFV0kjzz0",
        "outputId": "c32e52d5-97e7-487f-9449-1e3d29498395"
      },
      "id": "Qn-dFV0kjzz0",
      "execution_count": null,
      "outputs": [
        {
          "output_type": "execute_result",
          "data": {
            "text/plain": [
              "['ram', 'mohan', 'sohan']"
            ]
          },
          "metadata": {},
          "execution_count": 62
        }
      ]
    },
    {
      "cell_type": "code",
      "source": [],
      "metadata": {
        "id": "QUajCFWPjz6r"
      },
      "id": "QUajCFWPjz6r",
      "execution_count": null,
      "outputs": []
    },
    {
      "cell_type": "code",
      "source": [],
      "metadata": {
        "id": "j2QB8uNTj0Do"
      },
      "id": "j2QB8uNTj0Do",
      "execution_count": null,
      "outputs": []
    },
    {
      "cell_type": "code",
      "source": [],
      "metadata": {
        "id": "H3rsK12zLUMl"
      },
      "id": "H3rsK12zLUMl",
      "execution_count": null,
      "outputs": []
    },
    {
      "cell_type": "code",
      "source": [],
      "metadata": {
        "id": "Ia0IviriLUWI"
      },
      "id": "Ia0IviriLUWI",
      "execution_count": null,
      "outputs": []
    },
    {
      "cell_type": "code",
      "source": [
        "# while loop \n",
        "n=1\n",
        "\n",
        "while n<=10:\n",
        "  print(n)  \n",
        "  n=n+1"
      ],
      "metadata": {
        "id": "ll3gwq39sC7j"
      },
      "id": "ll3gwq39sC7j",
      "execution_count": null,
      "outputs": []
    },
    {
      "cell_type": "code",
      "source": [
        "n=10\n",
        "while n>0:\n",
        "  print(n) \n",
        "  n-=1"
      ],
      "metadata": {
        "colab": {
          "base_uri": "https://localhost:8080/"
        },
        "id": "5zMFGARFsDCo",
        "outputId": "c654facb-1162-4baa-dd31-514018ebf012"
      },
      "id": "5zMFGARFsDCo",
      "execution_count": null,
      "outputs": [
        {
          "output_type": "stream",
          "name": "stdout",
          "text": [
            "10\n",
            "9\n",
            "8\n",
            "7\n",
            "6\n",
            "5\n",
            "4\n",
            "3\n",
            "2\n",
            "1\n"
          ]
        }
      ]
    },
    {
      "cell_type": "code",
      "source": [
        "n=2\n",
        "i=1\n",
        "while i<=10:\n",
        "  print(f\"{n} * {i} = {n*i}\")\n",
        "  i+=1"
      ],
      "metadata": {
        "colab": {
          "base_uri": "https://localhost:8080/"
        },
        "id": "2ywR2rihsDQv",
        "outputId": "0fd49c10-870f-4161-82a2-896856119e1b"
      },
      "id": "2ywR2rihsDQv",
      "execution_count": null,
      "outputs": [
        {
          "output_type": "stream",
          "name": "stdout",
          "text": [
            "2 * 1 = 2\n",
            "2 * 2 = 4\n",
            "2 * 3 = 6\n",
            "2 * 4 = 8\n",
            "2 * 5 = 10\n",
            "2 * 6 = 12\n",
            "2 * 7 = 14\n",
            "2 * 8 = 16\n",
            "2 * 9 = 18\n",
            "2 * 10 = 20\n"
          ]
        }
      ]
    },
    {
      "cell_type": "code",
      "source": [
        "n=50\n",
        "while n<=100:\n",
        "  print(n,end=\"\\t\") \n",
        "  n+=2"
      ],
      "metadata": {
        "colab": {
          "base_uri": "https://localhost:8080/"
        },
        "id": "Ij234QyusDV_",
        "outputId": "f9331aa8-9993-49cf-bb21-3e0604d380d2"
      },
      "id": "Ij234QyusDV_",
      "execution_count": null,
      "outputs": [
        {
          "output_type": "stream",
          "name": "stdout",
          "text": [
            "50\t52\t54\t56\t58\t60\t62\t64\t66\t68\t70\t72\t74\t76\t78\t80\t82\t84\t86\t88\t90\t92\t94\t96\t98\t100\t"
          ]
        }
      ]
    },
    {
      "cell_type": "code",
      "source": [],
      "metadata": {
        "id": "CBsOYgxcrZ7Q"
      },
      "id": "CBsOYgxcrZ7Q",
      "execution_count": null,
      "outputs": []
    },
    {
      "cell_type": "code",
      "source": [
        "n = input(\"Enter your Name :-\")  \n",
        "\n",
        "if n == n[::-1]:\n",
        "  print(f' Dear {n}, your Name is Polindrome String') \n",
        "else:\n",
        "  print(f' Dear {n}, your Name is Non-Polindrome String') \n"
      ],
      "metadata": {
        "colab": {
          "base_uri": "https://localhost:8080/"
        },
        "id": "ZX94nhjYYdye",
        "outputId": "514ffd64-31fc-4258-b0f7-6be86c26a8d8"
      },
      "id": "ZX94nhjYYdye",
      "execution_count": null,
      "outputs": [
        {
          "output_type": "stream",
          "name": "stdout",
          "text": [
            "Enter your Name :-NITIN\n",
            " Dear NITIN, your Name is Polindrome String\n"
          ]
        }
      ]
    },
    {
      "cell_type": "code",
      "source": [
        "n = input(\"Enter your Name :-\")\n",
        "\n",
        "\n",
        "if n == n[::-1]:\n",
        "  print(f'{n}  is Polindrome Number') \n",
        "else:\n",
        "  print(f\" {n}  Non-Polindrome Number \") "
      ],
      "metadata": {
        "colab": {
          "base_uri": "https://localhost:8080/"
        },
        "id": "iHh_5SUyg5Xj",
        "outputId": "3a943259-c303-4766-bed2-61de4ca37c6c"
      },
      "id": "iHh_5SUyg5Xj",
      "execution_count": null,
      "outputs": [
        {
          "output_type": "stream",
          "name": "stdout",
          "text": [
            "Enter your Name :-121\n",
            "121  is Polindrome Number\n"
          ]
        }
      ]
    },
    {
      "cell_type": "code",
      "source": [
        "x=20\n",
        "y=10 \n",
        "\n",
        "print(f' {x} {y} ')"
      ],
      "metadata": {
        "id": "Q65Tk-xNg5d_"
      },
      "id": "Q65Tk-xNg5d_",
      "execution_count": null,
      "outputs": []
    },
    {
      "cell_type": "code",
      "source": [],
      "metadata": {
        "id": "MawPRKzfWBzS"
      },
      "id": "MawPRKzfWBzS",
      "execution_count": null,
      "outputs": []
    },
    {
      "cell_type": "code",
      "source": [
        "# check a name,if the length of the name exits beween 0 to 5 'good name' otherwise 'too much long'\n",
        "# chack a number even /odd \n"
      ],
      "metadata": {
        "id": "9wQwYODHH-1p"
      },
      "id": "9wQwYODHH-1p",
      "execution_count": null,
      "outputs": []
    },
    {
      "cell_type": "code",
      "source": [
        "num = int(input(\"Enter a number = \"))\n",
        "\n",
        "if num%2 == 0:\n",
        "  print(num,' is Even Number')\n",
        "else:\n",
        "  print(num,' is odd Number')"
      ],
      "metadata": {
        "id": "MBXISpwyH-5c",
        "colab": {
          "base_uri": "https://localhost:8080/"
        },
        "outputId": "57f7c359-7cb0-40d6-8ed8-a3f2440973a8"
      },
      "id": "MBXISpwyH-5c",
      "execution_count": null,
      "outputs": [
        {
          "output_type": "stream",
          "name": "stdout",
          "text": [
            "Enter a number = 13\n",
            "13  is odd Number\n"
          ]
        }
      ]
    },
    {
      "cell_type": "code",
      "source": [
        "name = input(\"Enter your name =\")\n",
        "\n",
        "if len(name)>0 and len(name)<5:\n",
        "  print(\"Good name \")\n",
        "else:\n",
        "  print(\"Too much long \")  "
      ],
      "metadata": {
        "colab": {
          "base_uri": "https://localhost:8080/"
        },
        "id": "3zWjSoZzMwGM",
        "outputId": "a8576a0a-ee81-4c71-c471-feb2aba4a864"
      },
      "id": "3zWjSoZzMwGM",
      "execution_count": null,
      "outputs": [
        {
          "output_type": "stream",
          "name": "stdout",
          "text": [
            "Enter your name =raghav\n",
            "Too much long \n"
          ]
        }
      ]
    },
    {
      "cell_type": "code",
      "source": [
        "num=int(input(\"Enter a Number =\"))\n",
        "\n",
        "if num<0:\n",
        "  print(num ,\" is Negative Number \")\n",
        "\n",
        "elif num>0 and num<10:\n",
        "  print(num,\" is a digit\")\n",
        "else:\n",
        "  print(num, \" is a Number not a digit\")     "
      ],
      "metadata": {
        "colab": {
          "base_uri": "https://localhost:8080/"
        },
        "id": "9s7ptmTnMwN8",
        "outputId": "4fb1fb3c-67b8-449a-f561-ead51481d7f3"
      },
      "id": "9s7ptmTnMwN8",
      "execution_count": null,
      "outputs": [
        {
          "output_type": "stream",
          "name": "stdout",
          "text": [
            "Enter a Number =99\n",
            "99  is a Number not a digit\n"
          ]
        }
      ]
    },
    {
      "cell_type": "code",
      "source": [
        "name = input(\"Enter your name =\") \n",
        "ch = input('Which character you want to search in your Name - ') \n",
        "num=name.count(ch) \n",
        "\n",
        "if num==1:\n",
        "  print(ch ,' comes only one time in your name')\n",
        "elif num ==2:\n",
        "  print(ch,' comes two times in your name')\n",
        "elif num ==3:\n",
        "  print(ch ,'comes multiples times in your name') \n",
        "  d = input(\"If you want we recomend you Name y/n \")\n",
        "  \n",
        "  if d=='y':\n",
        "    print('what about niku chiku papu sipu')\n",
        "    s=input(\"Are you stisfied with these Number - y/n\")\n",
        "    if s=='y':\n",
        "      print(\"Thanks And visit again \")\n",
        "    elif s=='n':\n",
        "      print(\"What about Raghav,Anuj ,Gaurav,salim, Abhishek\")  \n",
        "  else:\n",
        "    print(\"Thanks for visiting\")  \n",
        "else:\n",
        "  print(ch,' does not exists in your name ')      "
      ],
      "metadata": {
        "colab": {
          "base_uri": "https://localhost:8080/"
        },
        "id": "5hAO9mCzPEZ3",
        "outputId": "96b35d3c-a4ea-4584-c8ee-956d041493aa"
      },
      "id": "5hAO9mCzPEZ3",
      "execution_count": null,
      "outputs": [
        {
          "output_type": "stream",
          "name": "stdout",
          "text": [
            "Enter your name =DAYANAND\n",
            "Which character you want to search in your Name - A\n",
            "A comes multiples times in your name\n",
            "If you want we recomend you Name y/n y\n",
            "what about niku chiku papu sipu\n",
            "Are you stisfied with these Number - y/nn\n",
            "What about Raghav,Anuj ,Gaurav,salim, Abhishek\n"
          ]
        }
      ]
    },
    {
      "cell_type": "code",
      "source": [],
      "metadata": {
        "id": "RqaIJfNQPEd3"
      },
      "id": "RqaIJfNQPEd3",
      "execution_count": null,
      "outputs": []
    },
    {
      "cell_type": "code",
      "source": [
        "n=1 \n",
        "\n",
        "while n<=5:\n",
        "  print(n)\n",
        "  n +=1\n",
        "  "
      ],
      "metadata": {
        "colab": {
          "base_uri": "https://localhost:8080/"
        },
        "id": "ANuqUFkoUrdp",
        "outputId": "13e5516a-53a1-4552-e125-1dc9077270f3"
      },
      "id": "ANuqUFkoUrdp",
      "execution_count": null,
      "outputs": [
        {
          "output_type": "stream",
          "name": "stdout",
          "text": [
            "1\n",
            "2\n",
            "3\n",
            "4\n",
            "5\n"
          ]
        }
      ]
    },
    {
      "cell_type": "code",
      "source": [
        "n=1 \n",
        "while n<=10:\n",
        "  print(n)\n",
        "  n+=1"
      ],
      "metadata": {
        "colab": {
          "base_uri": "https://localhost:8080/"
        },
        "id": "RNftNEb8Urlw",
        "outputId": "36ab9cba-ff80-4633-dc46-d510a9544e8b"
      },
      "id": "RNftNEb8Urlw",
      "execution_count": null,
      "outputs": [
        {
          "output_type": "stream",
          "name": "stdout",
          "text": [
            "1\n",
            "2\n",
            "3\n",
            "4\n",
            "5\n",
            "6\n",
            "7\n",
            "8\n",
            "9\n",
            "10\n"
          ]
        }
      ]
    },
    {
      "cell_type": "code",
      "source": [
        "n=13 \n",
        "while n<=130:\n",
        "  print(n)\n",
        "  n+=13"
      ],
      "metadata": {
        "colab": {
          "base_uri": "https://localhost:8080/"
        },
        "id": "HxGTnDUAUrvM",
        "outputId": "85fd7b19-850f-414a-c438-bc4a8b2ffbae"
      },
      "id": "HxGTnDUAUrvM",
      "execution_count": null,
      "outputs": [
        {
          "output_type": "stream",
          "name": "stdout",
          "text": [
            "13\n",
            "26\n",
            "39\n",
            "52\n",
            "65\n",
            "78\n",
            "91\n",
            "104\n",
            "117\n",
            "130\n"
          ]
        }
      ]
    },
    {
      "cell_type": "code",
      "source": [
        "n=2\n",
        "while n<=50:\n",
        "  print(n)\n",
        "  n+=2"
      ],
      "metadata": {
        "colab": {
          "base_uri": "https://localhost:8080/"
        },
        "id": "AHb8hB7FUr6N",
        "outputId": "0a954893-766f-4723-f98a-cc86895b05ed"
      },
      "id": "AHb8hB7FUr6N",
      "execution_count": null,
      "outputs": [
        {
          "output_type": "stream",
          "name": "stdout",
          "text": [
            "2\n",
            "4\n",
            "6\n",
            "8\n",
            "10\n",
            "12\n",
            "14\n",
            "16\n",
            "18\n",
            "20\n",
            "22\n",
            "24\n",
            "26\n",
            "28\n",
            "30\n",
            "32\n",
            "34\n",
            "36\n",
            "38\n",
            "40\n",
            "42\n",
            "44\n",
            "46\n",
            "48\n",
            "50\n"
          ]
        }
      ]
    },
    {
      "cell_type": "code",
      "source": [
        "num=50 \n",
        "\n",
        "while num>=1:\n",
        "  print(num,end=\"  \") \n",
        "  num -=1"
      ],
      "metadata": {
        "colab": {
          "base_uri": "https://localhost:8080/"
        },
        "id": "twTotV4jPEis",
        "outputId": "e581a48b-f07d-4a9f-be60-8e9fc72a897d"
      },
      "id": "twTotV4jPEis",
      "execution_count": null,
      "outputs": [
        {
          "output_type": "stream",
          "name": "stdout",
          "text": [
            "50  49  48  47  46  45  44  43  42  41  40  39  38  37  36  35  34  33  32  31  30  29  28  27  26  25  24  23  22  21  20  19  18  17  16  15  14  13  12  11  10  9  8  7  6  5  4  3  2  1  "
          ]
        }
      ]
    },
    {
      "cell_type": "code",
      "source": [
        "n=1 \n",
        "while n<=20:\n",
        "  j=1\n",
        "  while j<=10:\n",
        "    print(n*j,end=\"\\t\")\n",
        "    j+=1\n",
        "  print()  \n",
        "  n+=1    "
      ],
      "metadata": {
        "id": "rCawbnBAIFtL",
        "colab": {
          "base_uri": "https://localhost:8080/"
        },
        "outputId": "82622506-7a6f-4564-df58-c761f3a7898b"
      },
      "id": "rCawbnBAIFtL",
      "execution_count": null,
      "outputs": [
        {
          "output_type": "stream",
          "name": "stdout",
          "text": [
            "1\t2\t3\t4\t5\t6\t7\t8\t9\t10\t\n",
            "2\t4\t6\t8\t10\t12\t14\t16\t18\t20\t\n",
            "3\t6\t9\t12\t15\t18\t21\t24\t27\t30\t\n",
            "4\t8\t12\t16\t20\t24\t28\t32\t36\t40\t\n",
            "5\t10\t15\t20\t25\t30\t35\t40\t45\t50\t\n",
            "6\t12\t18\t24\t30\t36\t42\t48\t54\t60\t\n",
            "7\t14\t21\t28\t35\t42\t49\t56\t63\t70\t\n",
            "8\t16\t24\t32\t40\t48\t56\t64\t72\t80\t\n",
            "9\t18\t27\t36\t45\t54\t63\t72\t81\t90\t\n",
            "10\t20\t30\t40\t50\t60\t70\t80\t90\t100\t\n",
            "11\t22\t33\t44\t55\t66\t77\t88\t99\t110\t\n",
            "12\t24\t36\t48\t60\t72\t84\t96\t108\t120\t\n",
            "13\t26\t39\t52\t65\t78\t91\t104\t117\t130\t\n",
            "14\t28\t42\t56\t70\t84\t98\t112\t126\t140\t\n",
            "15\t30\t45\t60\t75\t90\t105\t120\t135\t150\t\n",
            "16\t32\t48\t64\t80\t96\t112\t128\t144\t160\t\n",
            "17\t34\t51\t68\t85\t102\t119\t136\t153\t170\t\n",
            "18\t36\t54\t72\t90\t108\t126\t144\t162\t180\t\n",
            "19\t38\t57\t76\t95\t114\t133\t152\t171\t190\t\n",
            "20\t40\t60\t80\t100\t120\t140\t160\t180\t200\t\n"
          ]
        }
      ]
    },
    {
      "cell_type": "code",
      "source": [
        "i=1 \n",
        "while i<=10:\n",
        "  j=1 \n",
        "  while j<=i:\n",
        "    print(\"*\",end=\" \")\n",
        "    j+=1 \n",
        "  print()  \n",
        "  i+=1   \n"
      ],
      "metadata": {
        "id": "OqOrsxrfGQlE",
        "colab": {
          "base_uri": "https://localhost:8080/"
        },
        "outputId": "1baf0721-7476-4163-9c0e-68576f536b24"
      },
      "id": "OqOrsxrfGQlE",
      "execution_count": null,
      "outputs": [
        {
          "output_type": "stream",
          "name": "stdout",
          "text": [
            "* \n",
            "* * \n",
            "* * * \n",
            "* * * * \n",
            "* * * * * \n",
            "* * * * * * \n",
            "* * * * * * * \n",
            "* * * * * * * * \n",
            "* * * * * * * * * \n",
            "* * * * * * * * * * \n"
          ]
        }
      ]
    },
    {
      "cell_type": "code",
      "source": [
        "i=10\n",
        "while i>=1:\n",
        "  j=1 \n",
        "  while j<=i:\n",
        "    print(\"*\",end=\" \")\n",
        "    j+=1 \n",
        "  print()  \n",
        "  i-=1   \n"
      ],
      "metadata": {
        "colab": {
          "base_uri": "https://localhost:8080/"
        },
        "id": "FCHZnHHma4jU",
        "outputId": "e1a1d09a-9c4f-4acf-bc67-231f96def1a2"
      },
      "id": "FCHZnHHma4jU",
      "execution_count": null,
      "outputs": [
        {
          "output_type": "stream",
          "name": "stdout",
          "text": [
            "* * * * * * * * * * \n",
            "* * * * * * * * * \n",
            "* * * * * * * * \n",
            "* * * * * * * \n",
            "* * * * * * \n",
            "* * * * * \n",
            "* * * * \n",
            "* * * \n",
            "* * \n",
            "* \n"
          ]
        }
      ]
    },
    {
      "cell_type": "code",
      "source": [
        "i=1 \n",
        "while i<=10:\n",
        "  j=1\n",
        "  while j<=i:\n",
        "    print(\"*\",end=\" \")\n",
        "    j+=1 \n",
        "  print()  \n",
        "  i+=1  "
      ],
      "metadata": {
        "id": "5fMbVVp-a4pW",
        "colab": {
          "base_uri": "https://localhost:8080/"
        },
        "outputId": "fa98394b-9258-48d4-9698-d54c4e0bb8f7"
      },
      "id": "5fMbVVp-a4pW",
      "execution_count": null,
      "outputs": [
        {
          "output_type": "stream",
          "name": "stdout",
          "text": [
            "* \n",
            "* * \n",
            "* * * \n",
            "* * * * \n",
            "* * * * * \n",
            "* * * * * * \n",
            "* * * * * * * \n",
            "* * * * * * * * \n",
            "* * * * * * * * * \n",
            "* * * * * * * * * * \n"
          ]
        }
      ]
    },
    {
      "cell_type": "code",
      "source": [
        "i=10\n",
        "while i>=1:\n",
        "  j=1\n",
        "  while j<=i:\n",
        "    print(\"*\",end=\" \")\n",
        "    j+=1 \n",
        "  print()  \n",
        "  i-=1  "
      ],
      "metadata": {
        "colab": {
          "base_uri": "https://localhost:8080/"
        },
        "id": "6DWUGZjRvMsE",
        "outputId": "a223c41c-3ad6-4613-94d6-66cab889a832"
      },
      "id": "6DWUGZjRvMsE",
      "execution_count": null,
      "outputs": [
        {
          "output_type": "stream",
          "name": "stdout",
          "text": [
            "* * * * * * * * * * \n",
            "* * * * * * * * * \n",
            "* * * * * * * * \n",
            "* * * * * * * \n",
            "* * * * * * \n",
            "* * * * * \n",
            "* * * * \n",
            "* * * \n",
            "* * \n",
            "* \n"
          ]
        }
      ]
    },
    {
      "cell_type": "code",
      "source": [
        "i=4\n",
        "m=1\n",
        "while i>=1:\n",
        "  j=1\n",
        "  k=1\n",
        "  while j<=i-1:\n",
        "    print(\" \",end=\" \")\n",
        "    j+=1 \n",
        "  while k<=m:\n",
        "    print(\" * \",end=\" \")\n",
        "    k+=1\n",
        "  print()  \n",
        "  m+=1\n",
        "  i-=1   "
      ],
      "metadata": {
        "colab": {
          "base_uri": "https://localhost:8080/"
        },
        "id": "WXVWChuPvMzU",
        "outputId": "bb071c61-0fc2-4d9d-f4fa-56bd06312bc1"
      },
      "id": "WXVWChuPvMzU",
      "execution_count": null,
      "outputs": [
        {
          "output_type": "stream",
          "name": "stdout",
          "text": [
            "                   *  \n",
            "                 *   *  \n",
            "               *   *   *  \n",
            "             *   *   *   *  \n",
            "           *   *   *   *   *  \n",
            "         *   *   *   *   *   *  \n",
            "       *   *   *   *   *   *   *  \n",
            "     *   *   *   *   *   *   *   *  \n",
            "   *   *   *   *   *   *   *   *   *  \n",
            " *   *   *   *   *   *   *   *   *   *  \n"
          ]
        }
      ]
    },
    {
      "cell_type": "code",
      "source": [],
      "metadata": {
        "id": "SRNmcwRjG8iD"
      },
      "id": "SRNmcwRjG8iD",
      "execution_count": null,
      "outputs": []
    },
    {
      "cell_type": "code",
      "source": [
        "i=10\n",
        "m=1\n",
        "while i>=1:\n",
        "  j=1\n",
        "  k=1\n",
        "  while j<=i-1:\n",
        "    print(\" \",end=\" \")\n",
        "    j+=1\n",
        "  while k<=m:\n",
        "    print(\" * \",end=\" \") \n",
        "    k+=1      \n",
        "  print() \n",
        "  m+=1 \n",
        "  i-=1 \n",
        "    \n"
      ],
      "metadata": {
        "colab": {
          "base_uri": "https://localhost:8080/"
        },
        "id": "fWiPpyfKJ3XQ",
        "outputId": "ea8261b8-4808-4e1e-f7eb-053a290a8188"
      },
      "id": "fWiPpyfKJ3XQ",
      "execution_count": null,
      "outputs": [
        {
          "output_type": "stream",
          "name": "stdout",
          "text": [
            "                   *  \n",
            "                 *   *  \n",
            "               *   *   *  \n",
            "             *   *   *   *  \n",
            "           *   *   *   *   *  \n",
            "         *   *   *   *   *   *  \n",
            "       *   *   *   *   *   *   *  \n",
            "     *   *   *   *   *   *   *   *  \n",
            "   *   *   *   *   *   *   *   *   *  \n",
            " *   *   *   *   *   *   *   *   *   *  \n"
          ]
        }
      ]
    },
    {
      "cell_type": "code",
      "source": [
        "i=1\n",
        "m=10\n",
        "while i<=10:\n",
        "  j=1 \n",
        "  k=1\n",
        "  while j <=i-1:\n",
        "    print(\" \",end=\" \")\n",
        "    j+=1\n",
        "  while k<=m:\n",
        "    print(\" * \",end =\" \")\n",
        "    k+=1 \n",
        "  m-=1   \n",
        "  print()   \n",
        "  i+=1  "
      ],
      "metadata": {
        "colab": {
          "base_uri": "https://localhost:8080/"
        },
        "id": "YQjO_QvhJ3dg",
        "outputId": "0fe891b3-ec80-4d7a-d9df-c3c3ca9a68c4"
      },
      "id": "YQjO_QvhJ3dg",
      "execution_count": null,
      "outputs": [
        {
          "output_type": "stream",
          "name": "stdout",
          "text": [
            " *   *   *   *   *   *   *   *   *   *  \n",
            "   *   *   *   *   *   *   *   *   *  \n",
            "     *   *   *   *   *   *   *   *  \n",
            "       *   *   *   *   *   *   *  \n",
            "         *   *   *   *   *   *  \n",
            "           *   *   *   *   *  \n",
            "             *   *   *   *  \n",
            "               *   *   *  \n",
            "                 *   *  \n",
            "                   *  \n"
          ]
        }
      ]
    },
    {
      "cell_type": "code",
      "source": [
        "i=1\n",
        "while i<=4:\n",
        "  j=1 \n",
        "  while j <=i-1:\n",
        "    print(\" \",end=\" \")\n",
        "    j+=1\n",
        "  print(\" * \")\n",
        "  i+=1   \n"
      ],
      "metadata": {
        "colab": {
          "base_uri": "https://localhost:8080/"
        },
        "id": "AHrWo7HLJ3iy",
        "outputId": "2d9ca884-8f2a-4fca-a172-1284eef5e7a6"
      },
      "id": "AHrWo7HLJ3iy",
      "execution_count": null,
      "outputs": [
        {
          "output_type": "stream",
          "name": "stdout",
          "text": [
            " * \n",
            "   * \n",
            "     * \n",
            "       * \n"
          ]
        }
      ]
    },
    {
      "cell_type": "code",
      "source": [
        "for i in range(1,11):\n",
        "  print(i) "
      ],
      "metadata": {
        "colab": {
          "base_uri": "https://localhost:8080/"
        },
        "id": "heuH43Q4J3p3",
        "outputId": "60a037de-d692-4ce0-92db-c36c1a6e0280"
      },
      "id": "heuH43Q4J3p3",
      "execution_count": null,
      "outputs": [
        {
          "output_type": "stream",
          "name": "stdout",
          "text": [
            "1\n",
            "2\n",
            "3\n",
            "4\n",
            "5\n",
            "6\n",
            "7\n",
            "8\n",
            "9\n",
            "10\n"
          ]
        }
      ]
    },
    {
      "cell_type": "code",
      "source": [
        "for i in range(10,0,-1):\n",
        "  print(i) "
      ],
      "metadata": {
        "colab": {
          "base_uri": "https://localhost:8080/"
        },
        "id": "S29KaK3EWFuC",
        "outputId": "f7691954-3ba1-4160-b39b-e63cbbb01fa0"
      },
      "id": "S29KaK3EWFuC",
      "execution_count": null,
      "outputs": [
        {
          "output_type": "stream",
          "name": "stdout",
          "text": [
            "10\n",
            "9\n",
            "8\n",
            "7\n",
            "6\n",
            "5\n",
            "4\n",
            "3\n",
            "2\n",
            "1\n"
          ]
        }
      ]
    },
    {
      "cell_type": "code",
      "source": [
        "for i in range(2,21,2):\n",
        "  print(i) "
      ],
      "metadata": {
        "colab": {
          "base_uri": "https://localhost:8080/"
        },
        "id": "PoEA37P4WF_b",
        "outputId": "195dc9d0-b9a1-49e5-85a8-02fffd580d00"
      },
      "id": "PoEA37P4WF_b",
      "execution_count": null,
      "outputs": [
        {
          "output_type": "stream",
          "name": "stdout",
          "text": [
            "2\n",
            "4\n",
            "6\n",
            "8\n",
            "10\n",
            "12\n",
            "14\n",
            "16\n",
            "18\n",
            "20\n"
          ]
        }
      ]
    },
    {
      "cell_type": "code",
      "source": [
        "l2=[22,44,55,66,77,88,99,9]\n",
        "\n",
        "for i in l2:\n",
        "  if i%2==0:\n",
        "    print(i,' is  a Even Number ')\n",
        "  else:\n",
        "    print(i, ' is odd Number')  "
      ],
      "metadata": {
        "colab": {
          "base_uri": "https://localhost:8080/"
        },
        "id": "1vx74SF8WGEj",
        "outputId": "ea5872eb-1fbd-46ae-addd-fdb280cbb6e4"
      },
      "id": "1vx74SF8WGEj",
      "execution_count": null,
      "outputs": [
        {
          "output_type": "stream",
          "name": "stdout",
          "text": [
            "22  is  a Even Number \n",
            "44  is  a Even Number \n",
            "55  is odd Number\n",
            "66  is  a Even Number \n",
            "77  is odd Number\n",
            "88  is  a Even Number \n",
            "99  is odd Number\n",
            "9  is odd Number\n"
          ]
        }
      ]
    },
    {
      "cell_type": "code",
      "source": [],
      "metadata": {
        "id": "DjYYK4HDIBAI"
      },
      "id": "DjYYK4HDIBAI",
      "execution_count": null,
      "outputs": []
    },
    {
      "cell_type": "code",
      "source": [
        "# polyndrome number \n",
        "np = input(\"Enter your Name to check a polidrome or not = \")\n",
        "\n",
        "if np == np[::-1]:\n",
        "  print(np,' is a polindrome String ')\n",
        "else:\n",
        "  print(np, ' is not Polindrone ')  \n"
      ],
      "metadata": {
        "id": "WW7nv4UJIBF8",
        "colab": {
          "base_uri": "https://localhost:8080/"
        },
        "outputId": "6153577a-7dcf-4296-d2e9-dd0e5924f3a2"
      },
      "id": "WW7nv4UJIBF8",
      "execution_count": null,
      "outputs": [
        {
          "output_type": "stream",
          "name": "stdout",
          "text": [
            "Enter your Name to check a polidrome or not = ANUJ\n",
            "ANUJ  is not Polindrone \n"
          ]
        }
      ]
    },
    {
      "cell_type": "code",
      "source": [
        "d1={1011:'ram',1012:'mohan',1013:'shayam'}"
      ],
      "metadata": {
        "id": "BbZ7cOonIBO2"
      },
      "id": "BbZ7cOonIBO2",
      "execution_count": null,
      "outputs": []
    },
    {
      "cell_type": "code",
      "source": [
        "frozenset(d1)"
      ],
      "metadata": {
        "id": "xhIVaUZ3H-2e",
        "colab": {
          "base_uri": "https://localhost:8080/"
        },
        "outputId": "3518c6f7-6ef5-48da-b87c-14c14d9f10c4"
      },
      "id": "xhIVaUZ3H-2e",
      "execution_count": null,
      "outputs": [
        {
          "output_type": "execute_result",
          "data": {
            "text/plain": [
              "frozenset({1011, 1012, 1013})"
            ]
          },
          "metadata": {},
          "execution_count": 10
        }
      ]
    },
    {
      "cell_type": "code",
      "source": [
        "num = input(\"Enter your Name to check a polidrome or not = \") \n",
        "\n",
        "if num == num[::-1]:\n",
        "  print(num, \"  is Polindrome Number\")\n",
        "else:\n",
        "  print(num, '  is not polindrome Number')  "
      ],
      "metadata": {
        "id": "Uts3Mkb6H-8X",
        "colab": {
          "base_uri": "https://localhost:8080/"
        },
        "outputId": "bb1bdc89-86ec-4878-ec9d-98e38ad9e259"
      },
      "id": "Uts3Mkb6H-8X",
      "execution_count": null,
      "outputs": [
        {
          "output_type": "stream",
          "name": "stdout",
          "text": [
            "Enter your Name to check a polidrome or not = 121\n",
            "121   is Polindrome Number\n"
          ]
        }
      ]
    },
    {
      "cell_type": "code",
      "source": [],
      "metadata": {
        "id": "-krMZoSfH_Do"
      },
      "id": "-krMZoSfH_Do",
      "execution_count": null,
      "outputs": []
    },
    {
      "cell_type": "code",
      "source": [
        "num = int(input(\"Enter your Name to check a polidrome or not = \"))  \n",
        "df=num\n",
        "n=0\n",
        "while num>0:\n",
        "  temp = num%10 \n",
        "  n=n*10+temp \n",
        "  num = num//10 \n",
        "\n",
        "if n==df:\n",
        "  print(df,' is Polindrome NUMBER')\n",
        "else:\n",
        "  print(df,' is not Polindrome NUMBER')  \n"
      ],
      "metadata": {
        "id": "l6ffZA7eH_JA",
        "colab": {
          "base_uri": "https://localhost:8080/"
        },
        "outputId": "e8891cb2-21ca-42f4-a938-bd09cbbb76be"
      },
      "id": "l6ffZA7eH_JA",
      "execution_count": null,
      "outputs": [
        {
          "output_type": "stream",
          "name": "stdout",
          "text": [
            "Enter your Name to check a polidrome or not = 121\n",
            "121  is Polindrome NUMBER\n"
          ]
        }
      ]
    },
    {
      "cell_type": "code",
      "source": [
        "list1 = [12,33,44,55,66,89,19] "
      ],
      "metadata": {
        "id": "PmzjjWPTH_QW"
      },
      "id": "PmzjjWPTH_QW",
      "execution_count": null,
      "outputs": []
    },
    {
      "cell_type": "code",
      "source": [
        "for i in list1:\n",
        "  print(i)"
      ],
      "metadata": {
        "id": "X2YEuys7H_WT",
        "colab": {
          "base_uri": "https://localhost:8080/"
        },
        "outputId": "e7150179-3faa-4f07-a2db-23810387ea0a"
      },
      "id": "X2YEuys7H_WT",
      "execution_count": null,
      "outputs": [
        {
          "output_type": "stream",
          "name": "stdout",
          "text": [
            "12\n",
            "33\n",
            "44\n",
            "55\n",
            "66\n",
            "89\n",
            "19\n"
          ]
        }
      ]
    },
    {
      "cell_type": "code",
      "source": [
        "for i in range(len(list1)):\n",
        "  print(i,list1[i])    "
      ],
      "metadata": {
        "id": "a-1pw2guH_b0",
        "colab": {
          "base_uri": "https://localhost:8080/"
        },
        "outputId": "9125e863-1263-4b24-8af3-0e2ecf3aa4b8"
      },
      "id": "a-1pw2guH_b0",
      "execution_count": null,
      "outputs": [
        {
          "output_type": "stream",
          "name": "stdout",
          "text": [
            "0 12\n",
            "1 33\n",
            "2 44\n",
            "3 55\n",
            "4 66\n",
            "5 89\n",
            "6 19\n"
          ]
        }
      ]
    },
    {
      "cell_type": "code",
      "source": [
        "for i in range(len(list1)):\n",
        "  if i%2==0:\n",
        "    list1[i]=\"Ram\" "
      ],
      "metadata": {
        "id": "GnyrP7AeHZVR"
      },
      "id": "GnyrP7AeHZVR",
      "execution_count": null,
      "outputs": []
    },
    {
      "cell_type": "code",
      "source": [
        "list1 "
      ],
      "metadata": {
        "id": "yZemTH05HZa6",
        "colab": {
          "base_uri": "https://localhost:8080/"
        },
        "outputId": "a6587635-f204-4fdb-ed18-f63b42bea493"
      },
      "id": "yZemTH05HZa6",
      "execution_count": null,
      "outputs": [
        {
          "output_type": "execute_result",
          "data": {
            "text/plain": [
              "['Ram', 33, 'Ram', 55, 'Ram', 89, 'Ram']"
            ]
          },
          "metadata": {},
          "execution_count": 27
        }
      ]
    },
    {
      "cell_type": "code",
      "source": [
        "for i in range(len(list1)):\n",
        "  if i%2==0:\n",
        "    list1[i]=int(input('Enter a Number= '))\n",
        "\n",
        "list1"
      ],
      "metadata": {
        "id": "31w-Gx0mHZua",
        "colab": {
          "base_uri": "https://localhost:8080/"
        },
        "outputId": "2b28401c-fd9c-4a49-ae97-ae74bb0d9a9b"
      },
      "id": "31w-Gx0mHZua",
      "execution_count": null,
      "outputs": [
        {
          "name": "stdout",
          "output_type": "stream",
          "text": [
            "Enter a Number= 888\n",
            "Enter a Number= 999\n",
            "Enter a Number= 123\n",
            "Enter a Number= 9000\n"
          ]
        },
        {
          "output_type": "execute_result",
          "data": {
            "text/plain": [
              "[888, 33, 999, 55, 123, 89, 9000]"
            ]
          },
          "metadata": {},
          "execution_count": 28
        }
      ]
    },
    {
      "cell_type": "code",
      "source": [
        "list1"
      ],
      "metadata": {
        "id": "LJCZ6Jx_HZy2",
        "colab": {
          "base_uri": "https://localhost:8080/"
        },
        "outputId": "9b1eee13-9bc0-4814-eb54-17d47305faec"
      },
      "id": "LJCZ6Jx_HZy2",
      "execution_count": null,
      "outputs": [
        {
          "output_type": "execute_result",
          "data": {
            "text/plain": [
              "[888, 33, 999, 55, 123, 89, 9000]"
            ]
          },
          "metadata": {},
          "execution_count": 29
        }
      ]
    },
    {
      "cell_type": "code",
      "source": [
        "# enumerte() \n",
        "for index,value in enumerate(list1,start=2): \n",
        "  print(index,value) "
      ],
      "metadata": {
        "id": "tSHnqGCGHZ3Y",
        "colab": {
          "base_uri": "https://localhost:8080/"
        },
        "outputId": "c418c82e-3d48-44ee-f10d-6404a2404654"
      },
      "id": "tSHnqGCGHZ3Y",
      "execution_count": null,
      "outputs": [
        {
          "output_type": "stream",
          "name": "stdout",
          "text": [
            "2 888\n",
            "3 33\n",
            "4 999\n",
            "5 55\n",
            "6 123\n",
            "7 89\n",
            "8 9000\n"
          ]
        }
      ]
    },
    {
      "cell_type": "code",
      "source": [
        "str1 = \"DAYANANAD\"\n",
        "for index,value in enumerate(str1): \n",
        "  print(index,value) "
      ],
      "metadata": {
        "id": "o-nYSVQBG8m9",
        "colab": {
          "base_uri": "https://localhost:8080/"
        },
        "outputId": "931cda17-0bed-43c7-f9a7-8648228125ef"
      },
      "id": "o-nYSVQBG8m9",
      "execution_count": null,
      "outputs": [
        {
          "output_type": "stream",
          "name": "stdout",
          "text": [
            "0 D\n",
            "1 A\n",
            "2 Y\n",
            "3 A\n",
            "4 N\n",
            "5 A\n",
            "6 N\n",
            "7 A\n",
            "8 D\n"
          ]
        }
      ]
    },
    {
      "cell_type": "code",
      "source": [],
      "metadata": {
        "id": "9phIqkIYG8s9"
      },
      "id": "9phIqkIYG8s9",
      "execution_count": null,
      "outputs": []
    },
    {
      "cell_type": "code",
      "source": [],
      "metadata": {
        "id": "tJJhKKsDe6Hi"
      },
      "id": "tJJhKKsDe6Hi",
      "execution_count": null,
      "outputs": []
    },
    {
      "cell_type": "code",
      "source": [],
      "metadata": {
        "id": "S0TcWElCe6Ol"
      },
      "id": "S0TcWElCe6Ol",
      "execution_count": null,
      "outputs": []
    },
    {
      "cell_type": "code",
      "source": [],
      "metadata": {
        "id": "pZRrongMe6iM"
      },
      "id": "pZRrongMe6iM",
      "execution_count": null,
      "outputs": []
    },
    {
      "cell_type": "code",
      "source": [],
      "metadata": {
        "id": "_nRLv8dUe6sp"
      },
      "id": "_nRLv8dUe6sp",
      "execution_count": null,
      "outputs": []
    },
    {
      "cell_type": "code",
      "source": [],
      "metadata": {
        "id": "uYgnCZ0OG8yu"
      },
      "id": "uYgnCZ0OG8yu",
      "execution_count": null,
      "outputs": []
    },
    {
      "cell_type": "code",
      "source": [],
      "metadata": {
        "id": "IE1fjvbKG828"
      },
      "id": "IE1fjvbKG828",
      "execution_count": null,
      "outputs": []
    },
    {
      "cell_type": "code",
      "source": [],
      "metadata": {
        "id": "iNVHJF-OG87P"
      },
      "id": "iNVHJF-OG87P",
      "execution_count": null,
      "outputs": []
    },
    {
      "cell_type": "code",
      "source": [],
      "metadata": {
        "id": "Y_n5PKiCG9Am"
      },
      "id": "Y_n5PKiCG9Am",
      "execution_count": null,
      "outputs": []
    },
    {
      "cell_type": "code",
      "source": [
        "for i in range(1,11,2):\n",
        "  print(i)"
      ],
      "metadata": {
        "colab": {
          "base_uri": "https://localhost:8080/"
        },
        "id": "cxyVMIAWvNAA",
        "outputId": "ec7284fe-3c71-4712-c1db-0181d7634b4a"
      },
      "id": "cxyVMIAWvNAA",
      "execution_count": null,
      "outputs": [
        {
          "output_type": "stream",
          "name": "stdout",
          "text": [
            "1\n",
            "3\n",
            "5\n",
            "7\n",
            "9\n"
          ]
        }
      ]
    },
    {
      "cell_type": "code",
      "source": [
        "l1=[10,20,40,60,70]\n",
        "\n",
        "for i in l1:\n",
        "  print(i)"
      ],
      "metadata": {
        "colab": {
          "base_uri": "https://localhost:8080/"
        },
        "id": "0DvB0ws5vISE",
        "outputId": "e3608960-3b91-42f5-c624-7e2587492e05"
      },
      "id": "0DvB0ws5vISE",
      "execution_count": null,
      "outputs": [
        {
          "output_type": "stream",
          "name": "stdout",
          "text": [
            "10\n",
            "20\n",
            "40\n",
            "60\n",
            "70\n"
          ]
        }
      ]
    },
    {
      "cell_type": "code",
      "source": [
        "for i in range(2,51,2):\n",
        "  print(i,end=\" \")"
      ],
      "metadata": {
        "colab": {
          "base_uri": "https://localhost:8080/"
        },
        "id": "n9i-1BbMvIZB",
        "outputId": "ccbd55d6-73d8-4eb0-95c5-80ca2290931d"
      },
      "id": "n9i-1BbMvIZB",
      "execution_count": null,
      "outputs": [
        {
          "output_type": "stream",
          "name": "stdout",
          "text": [
            "2 4 6 8 10 12 14 16 18 20 22 24 26 28 30 32 34 36 38 40 42 44 46 48 50 "
          ]
        }
      ]
    },
    {
      "cell_type": "code",
      "source": [
        "for i in range(1,51,2):\n",
        "  print(i,end=\" \")"
      ],
      "metadata": {
        "colab": {
          "base_uri": "https://localhost:8080/"
        },
        "id": "Npin_mz6vIfc",
        "outputId": "e7120e38-1b39-4957-96f9-f3fc2255fca9"
      },
      "id": "Npin_mz6vIfc",
      "execution_count": null,
      "outputs": [
        {
          "output_type": "stream",
          "name": "stdout",
          "text": [
            "1 3 5 7 9 11 13 15 17 19 21 23 25 27 29 31 33 35 37 39 41 43 45 47 49 "
          ]
        }
      ]
    },
    {
      "cell_type": "code",
      "source": [
        "for i in range(13,131,13):\n",
        "  print(i)"
      ],
      "metadata": {
        "colab": {
          "base_uri": "https://localhost:8080/"
        },
        "id": "ti8q-bVUvIlD",
        "outputId": "fa756503-33b0-4e4f-addc-4754a5d07a65"
      },
      "id": "ti8q-bVUvIlD",
      "execution_count": null,
      "outputs": [
        {
          "output_type": "stream",
          "name": "stdout",
          "text": [
            "13\n",
            "26\n",
            "39\n",
            "52\n",
            "65\n",
            "78\n",
            "91\n",
            "104\n",
            "117\n",
            "130\n"
          ]
        }
      ]
    },
    {
      "cell_type": "code",
      "source": [
        "for i in range(1,11):\n",
        "  for j in range(1,11):\n",
        "    print(i*j,end=\"\\t\") \n",
        "  print()  "
      ],
      "metadata": {
        "colab": {
          "base_uri": "https://localhost:8080/"
        },
        "id": "aCMPHol3vIv-",
        "outputId": "d03f47f4-e64c-4e69-c0d6-bb65e4ca2cc2"
      },
      "id": "aCMPHol3vIv-",
      "execution_count": null,
      "outputs": [
        {
          "output_type": "stream",
          "name": "stdout",
          "text": [
            "1\t2\t3\t4\t5\t6\t7\t8\t9\t10\t\n",
            "2\t4\t6\t8\t10\t12\t14\t16\t18\t20\t\n",
            "3\t6\t9\t12\t15\t18\t21\t24\t27\t30\t\n",
            "4\t8\t12\t16\t20\t24\t28\t32\t36\t40\t\n",
            "5\t10\t15\t20\t25\t30\t35\t40\t45\t50\t\n",
            "6\t12\t18\t24\t30\t36\t42\t48\t54\t60\t\n",
            "7\t14\t21\t28\t35\t42\t49\t56\t63\t70\t\n",
            "8\t16\t24\t32\t40\t48\t56\t64\t72\t80\t\n",
            "9\t18\t27\t36\t45\t54\t63\t72\t81\t90\t\n",
            "10\t20\t30\t40\t50\t60\t70\t80\t90\t100\t\n"
          ]
        }
      ]
    },
    {
      "cell_type": "code",
      "source": [
        "for i in range(10,51,2):\n",
        "  for j in range(1,11):\n",
        "    print(i*j,end=\"\\t\") \n",
        "  print()  "
      ],
      "metadata": {
        "id": "iXgm_Hhca4w0",
        "colab": {
          "base_uri": "https://localhost:8080/"
        },
        "outputId": "d79834b8-8630-4cde-d04e-a24830d18943"
      },
      "id": "iXgm_Hhca4w0",
      "execution_count": null,
      "outputs": [
        {
          "output_type": "stream",
          "name": "stdout",
          "text": [
            "10\t20\t30\t40\t50\t60\t70\t80\t90\t100\t\n",
            "12\t24\t36\t48\t60\t72\t84\t96\t108\t120\t\n",
            "14\t28\t42\t56\t70\t84\t98\t112\t126\t140\t\n",
            "16\t32\t48\t64\t80\t96\t112\t128\t144\t160\t\n",
            "18\t36\t54\t72\t90\t108\t126\t144\t162\t180\t\n",
            "20\t40\t60\t80\t100\t120\t140\t160\t180\t200\t\n",
            "22\t44\t66\t88\t110\t132\t154\t176\t198\t220\t\n",
            "24\t48\t72\t96\t120\t144\t168\t192\t216\t240\t\n",
            "26\t52\t78\t104\t130\t156\t182\t208\t234\t260\t\n",
            "28\t56\t84\t112\t140\t168\t196\t224\t252\t280\t\n",
            "30\t60\t90\t120\t150\t180\t210\t240\t270\t300\t\n",
            "32\t64\t96\t128\t160\t192\t224\t256\t288\t320\t\n",
            "34\t68\t102\t136\t170\t204\t238\t272\t306\t340\t\n",
            "36\t72\t108\t144\t180\t216\t252\t288\t324\t360\t\n",
            "38\t76\t114\t152\t190\t228\t266\t304\t342\t380\t\n",
            "40\t80\t120\t160\t200\t240\t280\t320\t360\t400\t\n",
            "42\t84\t126\t168\t210\t252\t294\t336\t378\t420\t\n",
            "44\t88\t132\t176\t220\t264\t308\t352\t396\t440\t\n",
            "46\t92\t138\t184\t230\t276\t322\t368\t414\t460\t\n",
            "48\t96\t144\t192\t240\t288\t336\t384\t432\t480\t\n",
            "50\t100\t150\t200\t250\t300\t350\t400\t450\t500\t\n"
          ]
        }
      ]
    },
    {
      "cell_type": "code",
      "source": [
        "for i in range(11,51,2):\n",
        "  for j in range(1,11):\n",
        "    print(i*j,end=\"\\t\") \n",
        "  print()  \n",
        "\n",
        "\n"
      ],
      "metadata": {
        "colab": {
          "base_uri": "https://localhost:8080/"
        },
        "id": "0g7rP0mX56Lx",
        "outputId": "72d9c794-7d29-407f-efc1-22cf777593ef"
      },
      "id": "0g7rP0mX56Lx",
      "execution_count": null,
      "outputs": [
        {
          "output_type": "stream",
          "name": "stdout",
          "text": [
            "11\t22\t33\t44\t55\t66\t77\t88\t99\t110\t\n",
            "13\t26\t39\t52\t65\t78\t91\t104\t117\t130\t\n",
            "15\t30\t45\t60\t75\t90\t105\t120\t135\t150\t\n",
            "17\t34\t51\t68\t85\t102\t119\t136\t153\t170\t\n",
            "19\t38\t57\t76\t95\t114\t133\t152\t171\t190\t\n",
            "21\t42\t63\t84\t105\t126\t147\t168\t189\t210\t\n",
            "23\t46\t69\t92\t115\t138\t161\t184\t207\t230\t\n",
            "25\t50\t75\t100\t125\t150\t175\t200\t225\t250\t\n",
            "27\t54\t81\t108\t135\t162\t189\t216\t243\t270\t\n",
            "29\t58\t87\t116\t145\t174\t203\t232\t261\t290\t\n",
            "31\t62\t93\t124\t155\t186\t217\t248\t279\t310\t\n",
            "33\t66\t99\t132\t165\t198\t231\t264\t297\t330\t\n",
            "35\t70\t105\t140\t175\t210\t245\t280\t315\t350\t\n",
            "37\t74\t111\t148\t185\t222\t259\t296\t333\t370\t\n",
            "39\t78\t117\t156\t195\t234\t273\t312\t351\t390\t\n",
            "41\t82\t123\t164\t205\t246\t287\t328\t369\t410\t\n",
            "43\t86\t129\t172\t215\t258\t301\t344\t387\t430\t\n",
            "45\t90\t135\t180\t225\t270\t315\t360\t405\t450\t\n",
            "47\t94\t141\t188\t235\t282\t329\t376\t423\t470\t\n",
            "49\t98\t147\t196\t245\t294\t343\t392\t441\t490\t\n"
          ]
        }
      ]
    },
    {
      "cell_type": "code",
      "source": [
        "for i in range(1,11):\n",
        "  for j in range(1,i+1):\n",
        "    print(\"*\",end=\" \")\n",
        "  print()  "
      ],
      "metadata": {
        "colab": {
          "base_uri": "https://localhost:8080/"
        },
        "id": "n6vFPOha56TF",
        "outputId": "ee6d7f6d-5272-4605-9139-18fbd4d351c1"
      },
      "id": "n6vFPOha56TF",
      "execution_count": null,
      "outputs": [
        {
          "output_type": "stream",
          "name": "stdout",
          "text": [
            "* \n",
            "* * \n",
            "* * * \n",
            "* * * * \n",
            "* * * * * \n",
            "* * * * * * \n",
            "* * * * * * * \n",
            "* * * * * * * * \n",
            "* * * * * * * * * \n",
            "* * * * * * * * * * \n"
          ]
        }
      ]
    },
    {
      "cell_type": "code",
      "source": [
        "for i in range(10,1,-1):\n",
        "  for j in range(1,i+1):\n",
        "    print(\"*\",end=\" \")\n",
        "  print()  "
      ],
      "metadata": {
        "colab": {
          "base_uri": "https://localhost:8080/"
        },
        "id": "NNMtn1mu56cn",
        "outputId": "0445034e-89b4-4685-e804-fa082dce4b8d"
      },
      "id": "NNMtn1mu56cn",
      "execution_count": null,
      "outputs": [
        {
          "output_type": "stream",
          "name": "stdout",
          "text": [
            "* * * * * * * * * * \n",
            "* * * * * * * * * \n",
            "* * * * * * * * \n",
            "* * * * * * * \n",
            "* * * * * * \n",
            "* * * * * \n",
            "* * * * \n",
            "* * * \n",
            "* * \n"
          ]
        }
      ]
    },
    {
      "cell_type": "code",
      "source": [
        "for i in range(100,0,-2):\n",
        "  print(i,end=\" \")"
      ],
      "metadata": {
        "colab": {
          "base_uri": "https://localhost:8080/"
        },
        "id": "4CS2gGpq56nv",
        "outputId": "328011a3-c7e6-4deb-cab2-0c669b21f084"
      },
      "id": "4CS2gGpq56nv",
      "execution_count": null,
      "outputs": [
        {
          "output_type": "stream",
          "name": "stdout",
          "text": [
            "100 98 96 94 92 90 88 86 84 82 80 78 76 74 72 70 68 66 64 62 60 58 56 54 52 50 48 46 44 42 40 38 36 34 32 30 28 26 24 22 20 18 16 14 12 10 8 6 4 2 "
          ]
        }
      ]
    },
    {
      "cell_type": "code",
      "source": [
        "for i in range(99,0,-2):\n",
        "  print(i,end=\" \")"
      ],
      "metadata": {
        "colab": {
          "base_uri": "https://localhost:8080/"
        },
        "id": "FjK0d4oE56vo",
        "outputId": "46949ece-03c4-4105-adb0-6f804d5e5e8a"
      },
      "id": "FjK0d4oE56vo",
      "execution_count": null,
      "outputs": [
        {
          "output_type": "stream",
          "name": "stdout",
          "text": [
            "99 97 95 93 91 89 87 85 83 81 79 77 75 73 71 69 67 65 63 61 59 57 55 53 51 49 47 45 43 41 39 37 35 33 31 29 27 25 23 21 19 17 15 13 11 9 7 5 3 1 "
          ]
        }
      ]
    },
    {
      "cell_type": "code",
      "source": [
        "l1=[10,13,15,67,80,20] \n"
      ],
      "metadata": {
        "id": "vO8-163na43Q"
      },
      "id": "vO8-163na43Q",
      "execution_count": null,
      "outputs": []
    },
    {
      "cell_type": "code",
      "source": [
        "num = int(input(\"Enter a number = \")) \n",
        "\n",
        "\n",
        "if num>1:\n",
        "  for i in range(2,num):\n",
        "    if num % i == 0:\n",
        "      print(num, ' is Not Prime Numner')\n",
        "      break\n",
        "  else:\n",
        "    print(num,' is Prime Number') \n",
        "    \n",
        "\n",
        "else:\n",
        "  print('Invalid Input Please Try again')\n"
      ],
      "metadata": {
        "id": "cmKQst-p7dsl",
        "colab": {
          "base_uri": "https://localhost:8080/"
        },
        "outputId": "f9ff9bcd-431c-4f17-d66f-94a989959c05"
      },
      "id": "cmKQst-p7dsl",
      "execution_count": null,
      "outputs": [
        {
          "output_type": "stream",
          "name": "stdout",
          "text": [
            "Enter a number = 7\n",
            "7  is Prime Number\n"
          ]
        }
      ]
    },
    {
      "cell_type": "code",
      "source": [
        "num = int(input(\"Enter a number = \"))  \n",
        "s=1\n",
        "if num>1:\n",
        "  for i in range(num,0,-1):\n",
        "    s=s*i  \n",
        "\n",
        "  print(\"Factorial of {} = {}\".format(num,s)) \n",
        "elif num==1:\n",
        "  print(\"Factorial of {} = {}\".format(num,num))   \n",
        "\n",
        "else:\n",
        "  print(\"Invalid Input , please try again\")\n"
      ],
      "metadata": {
        "id": "-e0_q2kO7dxz",
        "colab": {
          "base_uri": "https://localhost:8080/"
        },
        "outputId": "cdca706d-c105-449f-fcb6-f4ee9a1e22de"
      },
      "id": "-e0_q2kO7dxz",
      "execution_count": null,
      "outputs": [
        {
          "output_type": "stream",
          "name": "stdout",
          "text": [
            "Enter a number = -10\n",
            "Invalid Input , please try again\n"
          ]
        }
      ]
    },
    {
      "cell_type": "code",
      "source": [
        "num = input(\"Enter a number = \")\n",
        "\n",
        "if num == num[::-1]:\n",
        "  print(int(num),\" is Palidrome Number\")\n",
        "else:\n",
        "  print(int(num),\" is not Palidrome  Number\")  "
      ],
      "metadata": {
        "colab": {
          "base_uri": "https://localhost:8080/"
        },
        "id": "VSHbsw229Vra",
        "outputId": "88fca75f-6b25-4764-f790-b52324df72f5"
      },
      "id": "VSHbsw229Vra",
      "execution_count": null,
      "outputs": [
        {
          "output_type": "stream",
          "name": "stdout",
          "text": [
            "Enter a number = 123\n",
            "123  is not Polydrom Number\n"
          ]
        }
      ]
    },
    {
      "cell_type": "code",
      "source": [
        "num = input(\"Enter a number = \")\n",
        "\n",
        "if num == num[::-1]:\n",
        "  print(num,\" is Palidrome  String\")\n",
        "else:\n",
        "  print(num,\" is not Palidrome  String\")"
      ],
      "metadata": {
        "colab": {
          "base_uri": "https://localhost:8080/"
        },
        "id": "iYKd01rA9VyT",
        "outputId": "8337fdef-caf5-4d2d-d599-3057298b373f"
      },
      "id": "iYKd01rA9VyT",
      "execution_count": null,
      "outputs": [
        {
          "output_type": "stream",
          "name": "stdout",
          "text": [
            "Enter a number = GAUTAM\n",
            "GAUTAM  is not Polydrom String\n"
          ]
        }
      ]
    },
    {
      "cell_type": "code",
      "source": [
        "num = int(input(\"Enter a number = \")) \n",
        "r=num\n",
        "n=0\n",
        "while(num>0):\n",
        "  temp = num%10 \n",
        "  n=n*10+temp \n",
        "  num=num // 10 \n",
        "  \n",
        "if n==r:\n",
        "  print(\"This Number is a Polydrom Number\")  \n",
        "\n",
        "else:\n",
        "  print(\"This Number is not a Polydrom Number\")\n",
        "\n",
        "\n",
        "\n"
      ],
      "metadata": {
        "id": "yWqF5rfR9V3T",
        "colab": {
          "base_uri": "https://localhost:8080/"
        },
        "outputId": "69c0b68a-08b9-4882-c46a-4e9f570a3601"
      },
      "id": "yWqF5rfR9V3T",
      "execution_count": null,
      "outputs": [
        {
          "output_type": "stream",
          "name": "stdout",
          "text": [
            "Enter a number = 121\n",
            "This Number is a Polydrom Number\n"
          ]
        }
      ]
    },
    {
      "cell_type": "code",
      "source": [],
      "metadata": {
        "id": "KCjvBTBSZnth"
      },
      "id": "KCjvBTBSZnth",
      "execution_count": null,
      "outputs": []
    },
    {
      "cell_type": "code",
      "source": [],
      "metadata": {
        "id": "D4zaZecm0p9d"
      },
      "id": "D4zaZecm0p9d",
      "execution_count": null,
      "outputs": []
    },
    {
      "cell_type": "code",
      "source": [],
      "metadata": {
        "id": "10NypIXc0qBq"
      },
      "id": "10NypIXc0qBq",
      "execution_count": null,
      "outputs": []
    },
    {
      "cell_type": "code",
      "source": [
        "# Python Program to find GCD of Two Numbers a temp variable\n",
        "num1 = int(input())\n",
        "num2 = int(input())\n",
        "a = num1\n",
        "b = num2\n",
        "while(num2 != 0):\n",
        "# swap using temp variable\n",
        "  temp = num2\n",
        "  num2 = num1 % num2\n",
        "  num1 = temp\n",
        "gcd = num1\n",
        "print(gcd)"
      ],
      "metadata": {
        "colab": {
          "base_uri": "https://localhost:8080/"
        },
        "id": "B7PUqTqL0qFr",
        "outputId": "7321d2b0-bd5e-4f33-d075-cc00cd002f70"
      },
      "id": "B7PUqTqL0qFr",
      "execution_count": null,
      "outputs": [
        {
          "output_type": "stream",
          "name": "stdout",
          "text": [
            "29\n",
            "6\n",
            "1\n"
          ]
        }
      ]
    },
    {
      "cell_type": "code",
      "source": [],
      "metadata": {
        "id": "AemdLtg30qK2"
      },
      "id": "AemdLtg30qK2",
      "execution_count": null,
      "outputs": []
    },
    {
      "cell_type": "code",
      "source": [],
      "metadata": {
        "id": "yDwYXl7e0qO5"
      },
      "id": "yDwYXl7e0qO5",
      "execution_count": null,
      "outputs": []
    },
    {
      "cell_type": "code",
      "source": [],
      "metadata": {
        "id": "HZck7ZS90qSy"
      },
      "id": "HZck7ZS90qSy",
      "execution_count": null,
      "outputs": []
    },
    {
      "cell_type": "code",
      "source": [
        "l2"
      ],
      "metadata": {
        "id": "eaf46DN8ZnxS"
      },
      "id": "eaf46DN8ZnxS",
      "execution_count": null,
      "outputs": []
    },
    {
      "cell_type": "code",
      "source": [
        "l3"
      ],
      "metadata": {
        "id": "_H2Vyb5_ZzFu"
      },
      "id": "_H2Vyb5_ZzFu",
      "execution_count": null,
      "outputs": []
    },
    {
      "cell_type": "code",
      "source": [
        "num=int(input(\"Enter a number:\"))\n",
        "temp=num\n",
        "rev=0\n",
        "while(num>0):\n",
        "    dig=num%10\n",
        "    rev=rev*10+dig\n",
        "    num=num//10\n",
        "if(temp==rev):\n",
        "    print(\"The number is palindrome!\")\n",
        "else:\n",
        "    print(\"Not a palindrome!\")\n"
      ],
      "metadata": {
        "id": "4th8WIGH7d5e",
        "colab": {
          "base_uri": "https://localhost:8080/"
        },
        "outputId": "89c026d0-32ea-4332-acff-a420b8b984b2"
      },
      "id": "4th8WIGH7d5e",
      "execution_count": null,
      "outputs": [
        {
          "output_type": "stream",
          "name": "stdout",
          "text": [
            "Enter a number:121\n",
            "The number is palindrome!\n"
          ]
        }
      ]
    },
    {
      "cell_type": "code",
      "source": [],
      "metadata": {
        "id": "Mg5IyQBfG2iV"
      },
      "id": "Mg5IyQBfG2iV",
      "execution_count": null,
      "outputs": []
    },
    {
      "cell_type": "code",
      "source": [],
      "metadata": {
        "id": "42csGVCnG2mt"
      },
      "id": "42csGVCnG2mt",
      "execution_count": null,
      "outputs": []
    },
    {
      "cell_type": "code",
      "source": [],
      "metadata": {
        "id": "Y9IXARlcG2qx"
      },
      "id": "Y9IXARlcG2qx",
      "execution_count": null,
      "outputs": []
    },
    {
      "cell_type": "code",
      "source": [],
      "metadata": {
        "id": "n694P6K0G2yG"
      },
      "id": "n694P6K0G2yG",
      "execution_count": null,
      "outputs": []
    },
    {
      "cell_type": "code",
      "source": [],
      "metadata": {
        "id": "km2PrV0LG24c"
      },
      "id": "km2PrV0LG24c",
      "execution_count": null,
      "outputs": []
    },
    {
      "cell_type": "code",
      "source": [],
      "metadata": {
        "id": "YUi3V2EDG3Bb"
      },
      "id": "YUi3V2EDG3Bb",
      "execution_count": null,
      "outputs": []
    },
    {
      "cell_type": "code",
      "source": [],
      "metadata": {
        "id": "QBEGU6L2GQoy"
      },
      "id": "QBEGU6L2GQoy",
      "execution_count": null,
      "outputs": []
    },
    {
      "cell_type": "code",
      "source": [],
      "metadata": {
        "id": "7xu-Y_G7GQtF"
      },
      "id": "7xu-Y_G7GQtF",
      "execution_count": null,
      "outputs": []
    },
    {
      "cell_type": "code",
      "execution_count": null,
      "metadata": {
        "colab": {
          "base_uri": "https://localhost:8080/"
        },
        "id": "z4-QhwtT4wPX",
        "outputId": "ffbc5b4d-42e6-43c1-e1fa-f949de4753a2"
      },
      "outputs": [
        {
          "name": "stdout",
          "output_type": "stream",
          "text": [
            "This is not python class\n"
          ]
        }
      ],
      "source": [
        "x=13\n",
        "\n",
        "if x>10 and x%2==0:\n",
        "  print(\"This is our python class\")\n",
        "  print(\"this python book\")\n",
        "\n",
        "print(\"This is not python class\")  "
      ],
      "id": "z4-QhwtT4wPX"
    },
    {
      "cell_type": "code",
      "execution_count": null,
      "metadata": {
        "colab": {
          "base_uri": "https://localhost:8080/"
        },
        "id": "uG9hcZhN4wUP",
        "outputId": "4e95dda1-a7e5-4d6b-c47e-49523d431a9a"
      },
      "outputs": [
        {
          "name": "stdout",
          "output_type": "stream",
          "text": [
            "This number is Greater tham 25\n"
          ]
        }
      ],
      "source": [
        "n=90\n",
        "if n<25:\n",
        "  print(\"This Number is Less than 25\")\n",
        "else:\n",
        "  print('This number is Greater tham 25')  \n"
      ],
      "id": "uG9hcZhN4wUP"
    },
    {
      "cell_type": "code",
      "execution_count": null,
      "metadata": {
        "colab": {
          "base_uri": "https://localhost:8080/"
        },
        "id": "qL0hyVAA4vRf",
        "outputId": "878083e7-3fd7-4fea-c690-9ca26206bf05"
      },
      "outputs": [
        {
          "name": "stdout",
          "output_type": "stream",
          "text": [
            "Enter a number = 12\n",
            "This Number exist beyween 10 to 20\n"
          ]
        }
      ],
      "source": [
        "n1= int(input(\"Enter a number = \"))\n",
        "\n",
        "if n1 >10 and n1<20:\n",
        "  print('This Number exist beyween 10 to 20')\n",
        "\n",
        "else:\n",
        "  print('This Number doesnt exist between 10 to 20 ')\n"
      ],
      "id": "qL0hyVAA4vRf"
    },
    {
      "cell_type": "code",
      "execution_count": null,
      "metadata": {
        "colab": {
          "base_uri": "https://localhost:8080/"
        },
        "id": "gBYho0127Jvc",
        "outputId": "795d5458-9fd0-40b5-80ff-baf9ef4583a9"
      },
      "outputs": [
        {
          "name": "stdout",
          "output_type": "stream",
          "text": [
            "Enter a number = 13\n",
            "13  is odd Number\n"
          ]
        }
      ],
      "source": [
        "n = int(input(\"Enter a number = \"))\n",
        "\n",
        "if n % 2 ==0:\n",
        "  print(n,\" is Even Number\")\n",
        "else:\n",
        "  print(n,\" is odd Number\")  "
      ],
      "id": "gBYho0127Jvc"
    },
    {
      "cell_type": "code",
      "execution_count": null,
      "metadata": {
        "id": "Oih4_pnY7J3Q"
      },
      "outputs": [],
      "source": [],
      "id": "Oih4_pnY7J3Q"
    },
    {
      "cell_type": "code",
      "execution_count": null,
      "metadata": {
        "colab": {
          "base_uri": "https://localhost:8080/"
        },
        "id": "BMxGsS2q9Rpv",
        "outputId": "324ad1a2-fdd9-4013-df53-85b8844ee839"
      },
      "outputs": [
        {
          "name": "stdout",
          "output_type": "stream",
          "text": [
            "Enter a Number = 35\n",
            "35  is greater than 30\n"
          ]
        }
      ],
      "source": [
        "num = int(input(\"Enter a Number = \"))\n",
        "\n",
        "if num>0 and num<10:\n",
        "  print(num,' lize between 0 to 10')\n",
        "elif num>10 and num<20:\n",
        "  print(num,\" lize between 10 to 20\")\n",
        "elif num>20 and num<30:\n",
        "  print(num,\" lize between 20 to 30\") \n",
        "else:\n",
        "  print(num,\" is greater than 30\")    "
      ],
      "id": "BMxGsS2q9Rpv"
    },
    {
      "cell_type": "code",
      "execution_count": null,
      "metadata": {
        "id": "ZWwCkru59Ru1"
      },
      "outputs": [],
      "source": [],
      "id": "ZWwCkru59Ru1"
    },
    {
      "cell_type": "code",
      "execution_count": null,
      "metadata": {
        "colab": {
          "base_uri": "https://localhost:8080/"
        },
        "id": "ZF01Rhej9SQ9",
        "outputId": "ca7a58d2-cdf0-4b0d-cedf-b04c19b59c3a"
      },
      "outputs": [
        {
          "name": "stdout",
          "output_type": "stream",
          "text": [
            "Enter you name =DAYANAND\n",
            "Your Name is too much long\n"
          ]
        }
      ],
      "source": [
        "num = input(\"Enter you name =\")\n",
        "\n",
        "if len(num) <=3:\n",
        "  print(\"your Name is Nice\")\n",
        "elif len(num) >3 and len(num)<=5:\n",
        "  print(\"Your name is good \")\n",
        "elif len(num)>5 and len(num)<8:\n",
        "  print(\"you name is too good\")\n",
        "else:\n",
        "  print(\"Your Name is too much long\")       \n"
      ],
      "id": "ZF01Rhej9SQ9"
    },
    {
      "cell_type": "code",
      "execution_count": null,
      "metadata": {
        "colab": {
          "base_uri": "https://localhost:8080/"
        },
        "id": "Y9c_JHtO9SYg",
        "outputId": "3dab61c7-6c65-495b-87a7-daa50aa7f78d"
      },
      "outputs": [
        {
          "name": "stdout",
          "output_type": "stream",
          "text": [
            "Enter you name =DAYANAND\n",
            "Your Name is too much long\n",
            "if you we recomend GOOD NAME y/nm\n",
            "Thanks to visiting\n"
          ]
        }
      ],
      "source": [
        "num = input(\"Enter you name =\")\n",
        "if len(num) <=3:\n",
        "  print(\"your Name is Nice\")\n",
        "elif len(num) >3 and len(num)<=5:\n",
        "  print(\"Your name is good \")\n",
        "elif len(num)>5 and len(num)<8:\n",
        "  print(\"you name is too good\")\n",
        " \n",
        "else:\n",
        "  print(\"Your Name is too much long\")   \n",
        "  d = input(\"if you we recomend GOOD NAME y/n\")\n",
        "  if d=='y':\n",
        "    print('what about aryan situ sachin deepak john')\n",
        "  else:\n",
        "    print(\"Thanks to visiting\") "
      ],
      "id": "Y9c_JHtO9SYg"
    },
    {
      "cell_type": "code",
      "execution_count": null,
      "metadata": {
        "id": "_n5g5Q1X9Sdm"
      },
      "outputs": [],
      "source": [
        "s1='dayananad'"
      ],
      "id": "_n5g5Q1X9Sdm"
    },
    {
      "cell_type": "code",
      "execution_count": null,
      "metadata": {
        "colab": {
          "base_uri": "https://localhost:8080/"
        },
        "id": "Jp66Ak72AEgO",
        "outputId": "d9fcac0f-a666-4378-9ac9-99a2a6ea52fe"
      },
      "outputs": [
        {
          "data": {
            "text/plain": [
              "4"
            ]
          },
          "execution_count": 3,
          "metadata": {},
          "output_type": "execute_result"
        }
      ],
      "source": [
        "s1.count('a')"
      ],
      "id": "Jp66Ak72AEgO"
    },
    {
      "cell_type": "code",
      "execution_count": null,
      "metadata": {
        "colab": {
          "base_uri": "https://localhost:8080/"
        },
        "id": "O0dsMbuZAEmh",
        "outputId": "081d2a7f-1cdd-4a7b-c284-ea5fb7333e09"
      },
      "outputs": [
        {
          "name": "stdout",
          "output_type": "stream",
          "text": [
            "Enter your Name =DAYANANAD\n",
            "Enter character which you want to search =A\n",
            "A  Exists multiple time in your name, so if you we recomend name \n",
            "Enter your choice y/ny\n",
            "what about john krishn mohan ayush\n"
          ]
        }
      ],
      "source": [
        "nm = input(\"Enter your Name =\")\n",
        "ch1 = input(\"Enter character which you want to search =\") \n",
        "print(\"Lenght of your Name = \",len(nm))\n",
        "num = nm.count(ch1)\n",
        "if num == 0:\n",
        "  print(ch1,' Not Exists in your Name ')\n",
        "elif num == 1:\n",
        "  print(ch1,' Exists only one time in your name') \n",
        "elif num == 2:  \n",
        "  print(ch1,' Exists only two time in your name')  \n",
        "\n",
        "elif num==3:\n",
        "  print(ch1,' Exists only three time in your name')   \n",
        "\n",
        "elif num>3:\n",
        "  print(ch1,\" Exists multiple time in your name, so if you we recomend name \")\n",
        "  n1=input('Enter your choice y/n = ')\n",
        "  if n1=='y':\n",
        "    print('what about john krishn mohan ayush')\n",
        "    n2=input(' are you happy with these above Name -y/n')\n",
        "    \n",
        "    if n2=='y':\n",
        "      print('Thanks again ')\n",
        "    elif n2=='n':\n",
        "      print('what about Rahul,sohan ,shivam,joy') \n",
        "\n",
        "  elif n1=='n':\n",
        "    print('Thanks for visiting ') \n"
      ],
      "id": "O0dsMbuZAEmh"
    },
    {
      "cell_type": "code",
      "execution_count": null,
      "metadata": {
        "id": "AbdmmK3fAEtF"
      },
      "outputs": [],
      "source": [
        "# while condition1:\n",
        "#     statement1\n",
        "#     statement2\n",
        "#      increment"
      ],
      "id": "AbdmmK3fAEtF"
    },
    {
      "cell_type": "code",
      "execution_count": null,
      "metadata": {
        "colab": {
          "background_save": true
        },
        "id": "fC5GfRQ4AE2s",
        "outputId": "0013b91a-3be9-471e-975e-58ad7f300ee3"
      },
      "outputs": [
        {
          "name": "stdout",
          "output_type": "stream",
          "text": [
            "\u001b[1;30;43mStreaming output truncated to the last 5000 lines.\u001b[0m\n",
            "Ram is good boy\n",
            "Ram is good boy\n",
            "Ram is good boy\n",
            "Ram is good boy\n",
            "Ram is good boy\n",
            "Ram is good boy\n",
            "Ram is good boy\n",
            "Ram is good boy\n",
            "Ram is good boy\n",
            "Ram is good boy\n",
            "Ram is good boy\n",
            "Ram is good boy\n",
            "Ram is good boy\n",
            "Ram is good boy\n",
            "Ram is good boy\n",
            "Ram is good boy\n",
            "Ram is good boy\n",
            "Ram is good boy\n",
            "Ram is good boy\n",
            "Ram is good boy\n",
            "Ram is good boy\n",
            "Ram is good boy\n",
            "Ram is good boy\n",
            "Ram is good boy\n",
            "Ram is good boy\n",
            "Ram is good boy\n",
            "Ram is good boy\n",
            "Ram is good boy\n",
            "Ram is good boy\n",
            "Ram is good boy\n",
            "Ram is good boy\n",
            "Ram is good boy\n",
            "Ram is good boy\n",
            "Ram is good boy\n",
            "Ram is good boy\n",
            "Ram is good boy\n",
            "Ram is good boy\n",
            "Ram is good boy\n",
            "Ram is good boy\n",
            "Ram is good boy\n",
            "Ram is good boy\n",
            "Ram is good boy\n",
            "Ram is good boy\n",
            "Ram is good boy\n",
            "Ram is good boy\n",
            "Ram is good boy\n",
            "Ram is good boy\n",
            "Ram is good boy\n",
            "Ram is good boy\n",
            "Ram is good boy\n",
            "Ram is good boy\n",
            "Ram is good boy\n",
            "Ram is good boy\n",
            "Ram is good boy\n",
            "Ram is good boy\n",
            "Ram is good boy\n",
            "Ram is good boy\n",
            "Ram is good boy\n",
            "Ram is good boy\n",
            "Ram is good boy\n",
            "Ram is good boy\n",
            "Ram is good boy\n",
            "Ram is good boy\n",
            "Ram is good boy\n",
            "Ram is good boy\n",
            "Ram is good boy\n",
            "Ram is good boy\n",
            "Ram is good boy\n",
            "Ram is good boy\n",
            "Ram is good boy\n",
            "Ram is good boy\n",
            "Ram is good boy\n",
            "Ram is good boy\n",
            "Ram is good boy\n",
            "Ram is good boy\n",
            "Ram is good boy\n",
            "Ram is good boy\n",
            "Ram is good boy\n",
            "Ram is good boy\n",
            "Ram is good boy\n",
            "Ram is good boy\n",
            "Ram is good boy\n",
            "Ram is good boy\n",
            "Ram is good boy\n",
            "Ram is good boy\n",
            "Ram is good boy\n",
            "Ram is good boy\n",
            "Ram is good boy\n",
            "Ram is good boy\n",
            "Ram is good boy\n",
            "Ram is good boy\n",
            "Ram is good boy\n",
            "Ram is good boy\n",
            "Ram is good boy\n",
            "Ram is good boy\n",
            "Ram is good boy\n",
            "Ram is good boy\n",
            "Ram is good boy\n",
            "Ram is good boy\n",
            "Ram is good boy\n",
            "Ram is good boy\n",
            "Ram is good boy\n",
            "Ram is good boy\n",
            "Ram is good boy\n",
            "Ram is good boy\n",
            "Ram is good boy\n",
            "Ram is good boy\n",
            "Ram is good boy\n",
            "Ram is good boy\n",
            "Ram is good boy\n",
            "Ram is good boy\n",
            "Ram is good boy\n",
            "Ram is good boy\n",
            "Ram is good boy\n",
            "Ram is good boy\n",
            "Ram is good boy\n",
            "Ram is good boy\n",
            "Ram is good boy\n",
            "Ram is good boy\n",
            "Ram is good boy\n",
            "Ram is good boy\n",
            "Ram is good boy\n",
            "Ram is good boy\n",
            "Ram is good boy\n",
            "Ram is good boy\n",
            "Ram is good boy\n",
            "Ram is good boy\n",
            "Ram is good boy\n",
            "Ram is good boy\n",
            "Ram is good boy\n",
            "Ram is good boy\n",
            "Ram is good boy\n",
            "Ram is good boy\n",
            "Ram is good boy\n",
            "Ram is good boy\n",
            "Ram is good boy\n",
            "Ram is good boy\n",
            "Ram is good boy\n",
            "Ram is good boy\n",
            "Ram is good boy\n",
            "Ram is good boy\n",
            "Ram is good boy\n",
            "Ram is good boy\n",
            "Ram is good boy\n",
            "Ram is good boy\n",
            "Ram is good boy\n",
            "Ram is good boy\n",
            "Ram is good boy\n",
            "Ram is good boy\n",
            "Ram is good boy\n",
            "Ram is good boy\n",
            "Ram is good boy\n",
            "Ram is good boy\n",
            "Ram is good boy\n",
            "Ram is good boy\n",
            "Ram is good boy\n",
            "Ram is good boy\n",
            "Ram is good boy\n",
            "Ram is good boy\n",
            "Ram is good boy\n",
            "Ram is good boy\n",
            "Ram is good boy\n",
            "Ram is good boy\n",
            "Ram is good boy\n",
            "Ram is good boy\n",
            "Ram is good boy\n",
            "Ram is good boy\n",
            "Ram is good boy\n",
            "Ram is good boy\n",
            "Ram is good boy\n",
            "Ram is good boy\n",
            "Ram is good boy\n",
            "Ram is good boy\n",
            "Ram is good boy\n",
            "Ram is good boy\n",
            "Ram is good boy\n",
            "Ram is good boy\n",
            "Ram is good boy\n",
            "Ram is good boy\n",
            "Ram is good boy\n",
            "Ram is good boy\n",
            "Ram is good boy\n",
            "Ram is good boy\n",
            "Ram is good boy\n",
            "Ram is good boy\n",
            "Ram is good boy\n",
            "Ram is good boy\n",
            "Ram is good boy\n",
            "Ram is good boy\n",
            "Ram is good boy\n",
            "Ram is good boy\n",
            "Ram is good boy\n",
            "Ram is good boy\n",
            "Ram is good boy\n",
            "Ram is good boy\n",
            "Ram is good boy\n",
            "Ram is good boy\n",
            "Ram is good boy\n",
            "Ram is good boy\n",
            "Ram is good boy\n",
            "Ram is good boy\n",
            "Ram is good boy\n",
            "Ram is good boy\n",
            "Ram is good boy\n",
            "Ram is good boy\n",
            "Ram is good boy\n",
            "Ram is good boy\n",
            "Ram is good boy\n",
            "Ram is good boy\n",
            "Ram is good boy\n",
            "Ram is good boy\n",
            "Ram is good boy\n",
            "Ram is good boy\n",
            "Ram is good boy\n",
            "Ram is good boy\n",
            "Ram is good boy\n",
            "Ram is good boy\n",
            "Ram is good boy\n",
            "Ram is good boy\n",
            "Ram is good boy\n",
            "Ram is good boy\n",
            "Ram is good boy\n",
            "Ram is good boy\n",
            "Ram is good boy\n",
            "Ram is good boy\n",
            "Ram is good boy\n",
            "Ram is good boy\n",
            "Ram is good boy\n",
            "Ram is good boy\n",
            "Ram is good boy\n",
            "Ram is good boy\n",
            "Ram is good boy\n",
            "Ram is good boy\n",
            "Ram is good boy\n",
            "Ram is good boy\n",
            "Ram is good boy\n",
            "Ram is good boy\n",
            "Ram is good boy\n",
            "Ram is good boy\n",
            "Ram is good boy\n",
            "Ram is good boy\n",
            "Ram is good boy\n",
            "Ram is good boy\n",
            "Ram is good boy\n",
            "Ram is good boy\n",
            "Ram is good boy\n",
            "Ram is good boy\n",
            "Ram is good boy\n",
            "Ram is good boy\n",
            "Ram is good boy\n",
            "Ram is good boy\n",
            "Ram is good boy\n",
            "Ram is good boy\n",
            "Ram is good boy\n",
            "Ram is good boy\n",
            "Ram is good boy\n",
            "Ram is good boy\n",
            "Ram is good boy\n",
            "Ram is good boy\n",
            "Ram is good boy\n",
            "Ram is good boy\n",
            "Ram is good boy\n",
            "Ram is good boy\n",
            "Ram is good boy\n",
            "Ram is good boy\n",
            "Ram is good boy\n",
            "Ram is good boy\n",
            "Ram is good boy\n",
            "Ram is good boy\n",
            "Ram is good boy\n",
            "Ram is good boy\n",
            "Ram is good boy\n",
            "Ram is good boy\n",
            "Ram is good boy\n",
            "Ram is good boy\n",
            "Ram is good boy\n",
            "Ram is good boy\n",
            "Ram is good boy\n",
            "Ram is good boy\n",
            "Ram is good boy\n",
            "Ram is good boy\n",
            "Ram is good boy\n",
            "Ram is good boy\n",
            "Ram is good boy\n",
            "Ram is good boy\n",
            "Ram is good boy\n",
            "Ram is good boy\n",
            "Ram is good boy\n",
            "Ram is good boy\n",
            "Ram is good boy\n",
            "Ram is good boy\n",
            "Ram is good boy\n",
            "Ram is good boy\n",
            "Ram is good boy\n",
            "Ram is good boy\n",
            "Ram is good boy\n",
            "Ram is good boy\n",
            "Ram is good boy\n",
            "Ram is good boy\n",
            "Ram is good boy\n",
            "Ram is good boy\n",
            "Ram is good boy\n",
            "Ram is good boy\n",
            "Ram is good boy\n",
            "Ram is good boy\n",
            "Ram is good boy\n",
            "Ram is good boy\n",
            "Ram is good boy\n",
            "Ram is good boy\n",
            "Ram is good boy\n",
            "Ram is good boy\n",
            "Ram is good boy\n",
            "Ram is good boy\n",
            "Ram is good boy\n",
            "Ram is good boy\n",
            "Ram is good boy\n",
            "Ram is good boy\n",
            "Ram is good boy\n",
            "Ram is good boy\n",
            "Ram is good boy\n",
            "Ram is good boy\n",
            "Ram is good boy\n",
            "Ram is good boy\n",
            "Ram is good boy\n",
            "Ram is good boy\n",
            "Ram is good boy\n",
            "Ram is good boy\n",
            "Ram is good boy\n",
            "Ram is good boy\n",
            "Ram is good boy\n",
            "Ram is good boy\n",
            "Ram is good boy\n",
            "Ram is good boy\n",
            "Ram is good boy\n",
            "Ram is good boy\n",
            "Ram is good boy\n",
            "Ram is good boy\n",
            "Ram is good boy\n",
            "Ram is good boy\n",
            "Ram is good boy\n",
            "Ram is good boy\n",
            "Ram is good boy\n",
            "Ram is good boy\n",
            "Ram is good boy\n",
            "Ram is good boy\n",
            "Ram is good boy\n",
            "Ram is good boy\n",
            "Ram is good boy\n",
            "Ram is good boy\n",
            "Ram is good boy\n",
            "Ram is good boy\n",
            "Ram is good boy\n",
            "Ram is good boy\n",
            "Ram is good boy\n",
            "Ram is good boy\n",
            "Ram is good boy\n",
            "Ram is good boy\n",
            "Ram is good boy\n",
            "Ram is good boy\n",
            "Ram is good boy\n",
            "Ram is good boy\n",
            "Ram is good boy\n",
            "Ram is good boy\n",
            "Ram is good boy\n",
            "Ram is good boy\n",
            "Ram is good boy\n",
            "Ram is good boy\n",
            "Ram is good boy\n",
            "Ram is good boy\n",
            "Ram is good boy\n",
            "Ram is good boy\n",
            "Ram is good boy\n",
            "Ram is good boy\n",
            "Ram is good boy\n",
            "Ram is good boy\n",
            "Ram is good boy\n",
            "Ram is good boy\n",
            "Ram is good boy\n",
            "Ram is good boy\n",
            "Ram is good boy\n",
            "Ram is good boy\n",
            "Ram is good boy\n",
            "Ram is good boy\n",
            "Ram is good boy\n",
            "Ram is good boy\n",
            "Ram is good boy\n",
            "Ram is good boy\n",
            "Ram is good boy\n",
            "Ram is good boy\n",
            "Ram is good boy\n",
            "Ram is good boy\n",
            "Ram is good boy\n",
            "Ram is good boy\n",
            "Ram is good boy\n",
            "Ram is good boy\n",
            "Ram is good boy\n",
            "Ram is good boy\n",
            "Ram is good boy\n",
            "Ram is good boy\n",
            "Ram is good boy\n",
            "Ram is good boy\n",
            "Ram is good boy\n",
            "Ram is good boy\n",
            "Ram is good boy\n",
            "Ram is good boy\n",
            "Ram is good boy\n",
            "Ram is good boy\n",
            "Ram is good boy\n",
            "Ram is good boy\n",
            "Ram is good boy\n",
            "Ram is good boy\n",
            "Ram is good boy\n",
            "Ram is good boy\n",
            "Ram is good boy\n",
            "Ram is good boy\n",
            "Ram is good boy\n",
            "Ram is good boy\n",
            "Ram is good boy\n",
            "Ram is good boy\n",
            "Ram is good boy\n",
            "Ram is good boy\n",
            "Ram is good boy\n",
            "Ram is good boy\n",
            "Ram is good boy\n",
            "Ram is good boy\n",
            "Ram is good boy\n",
            "Ram is good boy\n",
            "Ram is good boy\n",
            "Ram is good boy\n",
            "Ram is good boy\n",
            "Ram is good boy\n",
            "Ram is good boy\n",
            "Ram is good boy\n",
            "Ram is good boy\n",
            "Ram is good boy\n",
            "Ram is good boy\n",
            "Ram is good boy\n",
            "Ram is good boy\n",
            "Ram is good boy\n",
            "Ram is good boy\n",
            "Ram is good boy\n",
            "Ram is good boy\n",
            "Ram is good boy\n",
            "Ram is good boy\n",
            "Ram is good boy\n",
            "Ram is good boy\n",
            "Ram is good boy\n",
            "Ram is good boy\n",
            "Ram is good boy\n",
            "Ram is good boy\n",
            "Ram is good boy\n",
            "Ram is good boy\n",
            "Ram is good boy\n",
            "Ram is good boy\n",
            "Ram is good boy\n",
            "Ram is good boy\n",
            "Ram is good boy\n",
            "Ram is good boy\n",
            "Ram is good boy\n",
            "Ram is good boy\n",
            "Ram is good boy\n",
            "Ram is good boy\n",
            "Ram is good boy\n",
            "Ram is good boy\n",
            "Ram is good boy\n",
            "Ram is good boy\n",
            "Ram is good boy\n",
            "Ram is good boy\n",
            "Ram is good boy\n",
            "Ram is good boy\n",
            "Ram is good boy\n",
            "Ram is good boy\n",
            "Ram is good boy\n",
            "Ram is good boy\n",
            "Ram is good boy\n",
            "Ram is good boy\n",
            "Ram is good boy\n",
            "Ram is good boy\n",
            "Ram is good boy\n",
            "Ram is good boy\n",
            "Ram is good boy\n",
            "Ram is good boy\n",
            "Ram is good boy\n",
            "Ram is good boy\n",
            "Ram is good boy\n",
            "Ram is good boy\n",
            "Ram is good boy\n",
            "Ram is good boy\n",
            "Ram is good boy\n",
            "Ram is good boy\n",
            "Ram is good boy\n",
            "Ram is good boy\n",
            "Ram is good boy\n",
            "Ram is good boy\n",
            "Ram is good boy\n",
            "Ram is good boy\n",
            "Ram is good boy\n",
            "Ram is good boy\n",
            "Ram is good boy\n",
            "Ram is good boy\n",
            "Ram is good boy\n",
            "Ram is good boy\n",
            "Ram is good boy\n",
            "Ram is good boy\n",
            "Ram is good boy\n",
            "Ram is good boy\n",
            "Ram is good boy\n",
            "Ram is good boy\n",
            "Ram is good boy\n",
            "Ram is good boy\n",
            "Ram is good boy\n",
            "Ram is good boy\n",
            "Ram is good boy\n",
            "Ram is good boy\n",
            "Ram is good boy\n",
            "Ram is good boy\n",
            "Ram is good boy\n",
            "Ram is good boy\n",
            "Ram is good boy\n",
            "Ram is good boy\n",
            "Ram is good boy\n",
            "Ram is good boy\n",
            "Ram is good boy\n",
            "Ram is good boy\n",
            "Ram is good boy\n",
            "Ram is good boy\n",
            "Ram is good boy\n",
            "Ram is good boy\n",
            "Ram is good boy\n",
            "Ram is good boy\n",
            "Ram is good boy\n",
            "Ram is good boy\n",
            "Ram is good boy\n",
            "Ram is good boy\n",
            "Ram is good boy\n",
            "Ram is good boy\n",
            "Ram is good boy\n",
            "Ram is good boy\n",
            "Ram is good boy\n",
            "Ram is good boy\n",
            "Ram is good boy\n",
            "Ram is good boy\n",
            "Ram is good boy\n",
            "Ram is good boy\n",
            "Ram is good boy\n",
            "Ram is good boy\n",
            "Ram is good boy\n",
            "Ram is good boy\n",
            "Ram is good boy\n",
            "Ram is good boy\n",
            "Ram is good boy\n",
            "Ram is good boy\n",
            "Ram is good boy\n",
            "Ram is good boy\n",
            "Ram is good boy\n",
            "Ram is good boy\n",
            "Ram is good boy\n",
            "Ram is good boy\n",
            "Ram is good boy\n",
            "Ram is good boy\n",
            "Ram is good boy\n",
            "Ram is good boy\n",
            "Ram is good boy\n",
            "Ram is good boy\n",
            "Ram is good boy\n",
            "Ram is good boy\n",
            "Ram is good boy\n",
            "Ram is good boy\n",
            "Ram is good boy\n",
            "Ram is good boy\n",
            "Ram is good boy\n",
            "Ram is good boy\n",
            "Ram is good boy\n",
            "Ram is good boy\n",
            "Ram is good boy\n",
            "Ram is good boy\n",
            "Ram is good boy\n",
            "Ram is good boy\n",
            "Ram is good boy\n",
            "Ram is good boy\n",
            "Ram is good boy\n",
            "Ram is good boy\n",
            "Ram is good boy\n",
            "Ram is good boy\n",
            "Ram is good boy\n",
            "Ram is good boy\n",
            "Ram is good boy\n",
            "Ram is good boy\n",
            "Ram is good boy\n",
            "Ram is good boy\n",
            "Ram is good boy\n",
            "Ram is good boy\n",
            "Ram is good boy\n",
            "Ram is good boy\n",
            "Ram is good boy\n",
            "Ram is good boy\n",
            "Ram is good boy\n",
            "Ram is good boy\n",
            "Ram is good boy\n",
            "Ram is good boy\n",
            "Ram is good boy\n",
            "Ram is good boy\n",
            "Ram is good boy\n",
            "Ram is good boy\n",
            "Ram is good boy\n",
            "Ram is good boy\n",
            "Ram is good boy\n",
            "Ram is good boy\n",
            "Ram is good boy\n",
            "Ram is good boy\n",
            "Ram is good boy\n",
            "Ram is good boy\n",
            "Ram is good boy\n",
            "Ram is good boy\n",
            "Ram is good boy\n",
            "Ram is good boy\n",
            "Ram is good boy\n",
            "Ram is good boy\n",
            "Ram is good boy\n",
            "Ram is good boy\n",
            "Ram is good boy\n",
            "Ram is good boy\n",
            "Ram is good boy\n",
            "Ram is good boy\n",
            "Ram is good boy\n",
            "Ram is good boy\n",
            "Ram is good boy\n",
            "Ram is good boy\n",
            "Ram is good boy\n",
            "Ram is good boy\n",
            "Ram is good boy\n",
            "Ram is good boy\n",
            "Ram is good boy\n",
            "Ram is good boy\n",
            "Ram is good boy\n",
            "Ram is good boy\n",
            "Ram is good boy\n",
            "Ram is good boy\n",
            "Ram is good boy\n",
            "Ram is good boy\n",
            "Ram is good boy\n",
            "Ram is good boy\n",
            "Ram is good boy\n",
            "Ram is good boy\n",
            "Ram is good boy\n",
            "Ram is good boy\n",
            "Ram is good boy\n",
            "Ram is good boy\n",
            "Ram is good boy\n",
            "Ram is good boy\n",
            "Ram is good boy\n",
            "Ram is good boy\n",
            "Ram is good boy\n",
            "Ram is good boy\n",
            "Ram is good boy\n",
            "Ram is good boy\n",
            "Ram is good boy\n",
            "Ram is good boy\n",
            "Ram is good boy\n",
            "Ram is good boy\n",
            "Ram is good boy\n",
            "Ram is good boy\n",
            "Ram is good boy\n",
            "Ram is good boy\n",
            "Ram is good boy\n",
            "Ram is good boy\n",
            "Ram is good boy\n",
            "Ram is good boy\n",
            "Ram is good boy\n",
            "Ram is good boy\n",
            "Ram is good boy\n",
            "Ram is good boy\n",
            "Ram is good boy\n",
            "Ram is good boy\n",
            "Ram is good boy\n",
            "Ram is good boy\n",
            "Ram is good boy\n",
            "Ram is good boy\n",
            "Ram is good boy\n",
            "Ram is good boy\n",
            "Ram is good boy\n",
            "Ram is good boy\n",
            "Ram is good boy\n",
            "Ram is good boy\n",
            "Ram is good boy\n",
            "Ram is good boy\n",
            "Ram is good boy\n",
            "Ram is good boy\n",
            "Ram is good boy\n",
            "Ram is good boy\n",
            "Ram is good boy\n",
            "Ram is good boy\n",
            "Ram is good boy\n",
            "Ram is good boy\n",
            "Ram is good boy\n",
            "Ram is good boy\n",
            "Ram is good boy\n",
            "Ram is good boy\n",
            "Ram is good boy\n",
            "Ram is good boy\n",
            "Ram is good boy\n",
            "Ram is good boy\n",
            "Ram is good boy\n",
            "Ram is good boy\n",
            "Ram is good boy\n",
            "Ram is good boy\n",
            "Ram is good boy\n",
            "Ram is good boy\n",
            "Ram is good boy\n",
            "Ram is good boy\n",
            "Ram is good boy\n",
            "Ram is good boy\n",
            "Ram is good boy\n",
            "Ram is good boy\n",
            "Ram is good boy\n",
            "Ram is good boy\n",
            "Ram is good boy\n",
            "Ram is good boy\n",
            "Ram is good boy\n",
            "Ram is good boy\n",
            "Ram is good boy\n",
            "Ram is good boy\n",
            "Ram is good boy\n",
            "Ram is good boy\n",
            "Ram is good boy\n",
            "Ram is good boy\n",
            "Ram is good boy\n",
            "Ram is good boy\n",
            "Ram is good boy\n",
            "Ram is good boy\n",
            "Ram is good boy\n",
            "Ram is good boy\n",
            "Ram is good boy\n",
            "Ram is good boy\n",
            "Ram is good boy\n",
            "Ram is good boy\n",
            "Ram is good boy\n",
            "Ram is good boy\n",
            "Ram is good boy\n",
            "Ram is good boy\n",
            "Ram is good boy\n",
            "Ram is good boy\n",
            "Ram is good boy\n",
            "Ram is good boy\n",
            "Ram is good boy\n",
            "Ram is good boy\n",
            "Ram is good boy\n",
            "Ram is good boy\n",
            "Ram is good boy\n",
            "Ram is good boy\n",
            "Ram is good boy\n",
            "Ram is good boy\n",
            "Ram is good boy\n",
            "Ram is good boy\n",
            "Ram is good boy\n",
            "Ram is good boy\n",
            "Ram is good boy\n",
            "Ram is good boy\n",
            "Ram is good boy\n",
            "Ram is good boy\n",
            "Ram is good boy\n",
            "Ram is good boy\n",
            "Ram is good boy\n",
            "Ram is good boy\n",
            "Ram is good boy\n",
            "Ram is good boy\n",
            "Ram is good boy\n",
            "Ram is good boy\n",
            "Ram is good boy\n",
            "Ram is good boy\n",
            "Ram is good boy\n",
            "Ram is good boy\n",
            "Ram is good boy\n",
            "Ram is good boy\n",
            "Ram is good boy\n",
            "Ram is good boy\n",
            "Ram is good boy\n",
            "Ram is good boy\n",
            "Ram is good boy\n",
            "Ram is good boy\n",
            "Ram is good boy\n",
            "Ram is good boy\n",
            "Ram is good boy\n",
            "Ram is good boy\n",
            "Ram is good boy\n",
            "Ram is good boy\n",
            "Ram is good boy\n",
            "Ram is good boy\n",
            "Ram is good boy\n",
            "Ram is good boy\n",
            "Ram is good boy\n",
            "Ram is good boy\n",
            "Ram is good boy\n",
            "Ram is good boy\n",
            "Ram is good boy\n",
            "Ram is good boy\n",
            "Ram is good boy\n",
            "Ram is good boy\n",
            "Ram is good boy\n",
            "Ram is good boy\n",
            "Ram is good boy\n",
            "Ram is good boy\n",
            "Ram is good boy\n",
            "Ram is good boy\n",
            "Ram is good boy\n",
            "Ram is good boy\n",
            "Ram is good boy\n",
            "Ram is good boy\n",
            "Ram is good boy\n",
            "Ram is good boy\n",
            "Ram is good boy\n",
            "Ram is good boy\n",
            "Ram is good boy\n",
            "Ram is good boy\n",
            "Ram is good boy\n",
            "Ram is good boy\n",
            "Ram is good boy\n",
            "Ram is good boy\n",
            "Ram is good boy\n",
            "Ram is good boy\n",
            "Ram is good boy\n",
            "Ram is good boy\n",
            "Ram is good boy\n",
            "Ram is good boy\n",
            "Ram is good boy\n",
            "Ram is good boy\n",
            "Ram is good boy\n",
            "Ram is good boy\n",
            "Ram is good boy\n",
            "Ram is good boy\n",
            "Ram is good boy\n",
            "Ram is good boy\n",
            "Ram is good boy\n",
            "Ram is good boy\n",
            "Ram is good boy\n",
            "Ram is good boy\n",
            "Ram is good boy\n",
            "Ram is good boy\n",
            "Ram is good boy\n",
            "Ram is good boy\n",
            "Ram is good boy\n",
            "Ram is good boy\n",
            "Ram is good boy\n",
            "Ram is good boy\n",
            "Ram is good boy\n",
            "Ram is good boy\n",
            "Ram is good boy\n",
            "Ram is good boy\n",
            "Ram is good boy\n",
            "Ram is good boy\n",
            "Ram is good boy\n",
            "Ram is good boy\n",
            "Ram is good boy\n",
            "Ram is good boy\n",
            "Ram is good boy\n",
            "Ram is good boy\n",
            "Ram is good boy\n",
            "Ram is good boy\n",
            "Ram is good boy\n",
            "Ram is good boy\n",
            "Ram is good boy\n",
            "Ram is good boy\n",
            "Ram is good boy\n",
            "Ram is good boy\n",
            "Ram is good boy\n",
            "Ram is good boy\n",
            "Ram is good boy\n",
            "Ram is good boy\n",
            "Ram is good boy\n",
            "Ram is good boy\n",
            "Ram is good boy\n",
            "Ram is good boy\n",
            "Ram is good boy\n",
            "Ram is good boy\n",
            "Ram is good boy\n",
            "Ram is good boy\n",
            "Ram is good boy\n",
            "Ram is good boy\n",
            "Ram is good boy\n",
            "Ram is good boy\n",
            "Ram is good boy\n",
            "Ram is good boy\n",
            "Ram is good boy\n",
            "Ram is good boy\n",
            "Ram is good boy\n",
            "Ram is good boy\n",
            "Ram is good boy\n",
            "Ram is good boy\n",
            "Ram is good boy\n",
            "Ram is good boy\n",
            "Ram is good boy\n",
            "Ram is good boy\n",
            "Ram is good boy\n",
            "Ram is good boy\n",
            "Ram is good boy\n",
            "Ram is good boy\n",
            "Ram is good boy\n",
            "Ram is good boy\n",
            "Ram is good boy\n",
            "Ram is good boy\n",
            "Ram is good boy\n",
            "Ram is good boy\n",
            "Ram is good boy\n",
            "Ram is good boy\n",
            "Ram is good boy\n",
            "Ram is good boy\n",
            "Ram is good boy\n",
            "Ram is good boy\n",
            "Ram is good boy\n",
            "Ram is good boy\n",
            "Ram is good boy\n",
            "Ram is good boy\n",
            "Ram is good boy\n",
            "Ram is good boy\n",
            "Ram is good boy\n",
            "Ram is good boy\n",
            "Ram is good boy\n",
            "Ram is good boy\n",
            "Ram is good boy\n",
            "Ram is good boy\n",
            "Ram is good boy\n",
            "Ram is good boy\n",
            "Ram is good boy\n",
            "Ram is good boy\n",
            "Ram is good boy\n",
            "Ram is good boy\n",
            "Ram is good boy\n",
            "Ram is good boy\n",
            "Ram is good boy\n",
            "Ram is good boy\n",
            "Ram is good boy\n",
            "Ram is good boy\n",
            "Ram is good boy\n",
            "Ram is good boy\n",
            "Ram is good boy\n",
            "Ram is good boy\n",
            "Ram is good boy\n",
            "Ram is good boy\n",
            "Ram is good boy\n",
            "Ram is good boy\n",
            "Ram is good boy\n",
            "Ram is good boy\n",
            "Ram is good boy\n",
            "Ram is good boy\n",
            "Ram is good boy\n",
            "Ram is good boy\n",
            "Ram is good boy\n",
            "Ram is good boy\n",
            "Ram is good boy\n",
            "Ram is good boy\n",
            "Ram is good boy\n",
            "Ram is good boy\n",
            "Ram is good boy\n",
            "Ram is good boy\n",
            "Ram is good boy\n",
            "Ram is good boy\n",
            "Ram is good boy\n",
            "Ram is good boy\n",
            "Ram is good boy\n",
            "Ram is good boy\n",
            "Ram is good boy\n",
            "Ram is good boy\n",
            "Ram is good boy\n",
            "Ram is good boy\n",
            "Ram is good boy\n",
            "Ram is good boy\n",
            "Ram is good boy\n",
            "Ram is good boy\n",
            "Ram is good boy\n",
            "Ram is good boy\n",
            "Ram is good boy\n",
            "Ram is good boy\n",
            "Ram is good boy\n",
            "Ram is good boy\n",
            "Ram is good boy\n",
            "Ram is good boy\n",
            "Ram is good boy\n",
            "Ram is good boy\n",
            "Ram is good boy\n",
            "Ram is good boy\n",
            "Ram is good boy\n",
            "Ram is good boy\n",
            "Ram is good boy\n",
            "Ram is good boy\n",
            "Ram is good boy\n",
            "Ram is good boy\n",
            "Ram is good boy\n",
            "Ram is good boy\n",
            "Ram is good boy\n",
            "Ram is good boy\n",
            "Ram is good boy\n",
            "Ram is good boy\n",
            "Ram is good boy\n",
            "Ram is good boy\n",
            "Ram is good boy\n",
            "Ram is good boy\n",
            "Ram is good boy\n",
            "Ram is good boy\n",
            "Ram is good boy\n",
            "Ram is good boy\n",
            "Ram is good boy\n",
            "Ram is good boy\n",
            "Ram is good boy\n",
            "Ram is good boy\n",
            "Ram is good boy\n",
            "Ram is good boy\n",
            "Ram is good boy\n",
            "Ram is good boy\n",
            "Ram is good boy\n",
            "Ram is good boy\n",
            "Ram is good boy\n",
            "Ram is good boy\n",
            "Ram is good boy\n",
            "Ram is good boy\n",
            "Ram is good boy\n",
            "Ram is good boy\n",
            "Ram is good boy\n",
            "Ram is good boy\n",
            "Ram is good boy\n",
            "Ram is good boy\n",
            "Ram is good boy\n",
            "Ram is good boy\n",
            "Ram is good boy\n",
            "Ram is good boy\n",
            "Ram is good boy\n",
            "Ram is good boy\n",
            "Ram is good boy\n",
            "Ram is good boy\n",
            "Ram is good boy\n",
            "Ram is good boy\n",
            "Ram is good boy\n",
            "Ram is good boy\n",
            "Ram is good boy\n",
            "Ram is good boy\n",
            "Ram is good boy\n",
            "Ram is good boy\n",
            "Ram is good boy\n",
            "Ram is good boy\n",
            "Ram is good boy\n",
            "Ram is good boy\n",
            "Ram is good boy\n",
            "Ram is good boy\n",
            "Ram is good boy\n",
            "Ram is good boy\n",
            "Ram is good boy\n",
            "Ram is good boy\n",
            "Ram is good boy\n",
            "Ram is good boy\n",
            "Ram is good boy\n",
            "Ram is good boy\n",
            "Ram is good boy\n",
            "Ram is good boy\n",
            "Ram is good boy\n",
            "Ram is good boy\n",
            "Ram is good boy\n",
            "Ram is good boy\n",
            "Ram is good boy\n",
            "Ram is good boy\n",
            "Ram is good boy\n",
            "Ram is good boy\n",
            "Ram is good boy\n",
            "Ram is good boy\n",
            "Ram is good boy\n",
            "Ram is good boy\n",
            "Ram is good boy\n",
            "Ram is good boy\n",
            "Ram is good boy\n",
            "Ram is good boy\n",
            "Ram is good boy\n",
            "Ram is good boy\n",
            "Ram is good boy\n",
            "Ram is good boy\n",
            "Ram is good boy\n",
            "Ram is good boy\n",
            "Ram is good boy\n",
            "Ram is good boy\n",
            "Ram is good boy\n",
            "Ram is good boy\n",
            "Ram is good boy\n",
            "Ram is good boy\n",
            "Ram is good boy\n",
            "Ram is good boy\n",
            "Ram is good boy\n",
            "Ram is good boy\n",
            "Ram is good boy\n",
            "Ram is good boy\n",
            "Ram is good boy\n",
            "Ram is good boy\n",
            "Ram is good boy\n",
            "Ram is good boy\n",
            "Ram is good boy\n",
            "Ram is good boy\n",
            "Ram is good boy\n",
            "Ram is good boy\n",
            "Ram is good boy\n",
            "Ram is good boy\n",
            "Ram is good boy\n",
            "Ram is good boy\n",
            "Ram is good boy\n",
            "Ram is good boy\n",
            "Ram is good boy\n",
            "Ram is good boy\n",
            "Ram is good boy\n",
            "Ram is good boy\n",
            "Ram is good boy\n",
            "Ram is good boy\n",
            "Ram is good boy\n",
            "Ram is good boy\n",
            "Ram is good boy\n",
            "Ram is good boy\n",
            "Ram is good boy\n",
            "Ram is good boy\n",
            "Ram is good boy\n",
            "Ram is good boy\n",
            "Ram is good boy\n",
            "Ram is good boy\n",
            "Ram is good boy\n",
            "Ram is good boy\n",
            "Ram is good boy\n",
            "Ram is good boy\n",
            "Ram is good boy\n",
            "Ram is good boy\n",
            "Ram is good boy\n",
            "Ram is good boy\n",
            "Ram is good boy\n",
            "Ram is good boy\n",
            "Ram is good boy\n",
            "Ram is good boy\n",
            "Ram is good boy\n",
            "Ram is good boy\n",
            "Ram is good boy\n",
            "Ram is good boy\n",
            "Ram is good boy\n",
            "Ram is good boy\n",
            "Ram is good boy\n",
            "Ram is good boy\n",
            "Ram is good boy\n",
            "Ram is good boy\n",
            "Ram is good boy\n",
            "Ram is good boy\n",
            "Ram is good boy\n",
            "Ram is good boy\n",
            "Ram is good boy\n",
            "Ram is good boy\n",
            "Ram is good boy\n",
            "Ram is good boy\n",
            "Ram is good boy\n",
            "Ram is good boy\n",
            "Ram is good boy\n",
            "Ram is good boy\n",
            "Ram is good boy\n",
            "Ram is good boy\n",
            "Ram is good boy\n",
            "Ram is good boy\n",
            "Ram is good boy\n",
            "Ram is good boy\n",
            "Ram is good boy\n",
            "Ram is good boy\n",
            "Ram is good boy\n",
            "Ram is good boy\n",
            "Ram is good boy\n",
            "Ram is good boy\n",
            "Ram is good boy\n",
            "Ram is good boy\n",
            "Ram is good boy\n",
            "Ram is good boy\n",
            "Ram is good boy\n",
            "Ram is good boy\n",
            "Ram is good boy\n",
            "Ram is good boy\n",
            "Ram is good boy\n",
            "Ram is good boy\n",
            "Ram is good boy\n",
            "Ram is good boy\n",
            "Ram is good boy\n",
            "Ram is good boy\n",
            "Ram is good boy\n",
            "Ram is good boy\n",
            "Ram is good boy\n",
            "Ram is good boy\n",
            "Ram is good boy\n",
            "Ram is good boy\n",
            "Ram is good boy\n",
            "Ram is good boy\n",
            "Ram is good boy\n",
            "Ram is good boy\n",
            "Ram is good boy\n",
            "Ram is good boy\n",
            "Ram is good boy\n",
            "Ram is good boy\n",
            "Ram is good boy\n",
            "Ram is good boy\n",
            "Ram is good boy\n",
            "Ram is good boy\n",
            "Ram is good boy\n",
            "Ram is good boy\n",
            "Ram is good boy\n",
            "Ram is good boy\n",
            "Ram is good boy\n",
            "Ram is good boy\n",
            "Ram is good boy\n",
            "Ram is good boy\n",
            "Ram is good boy\n",
            "Ram is good boy\n",
            "Ram is good boy\n",
            "Ram is good boy\n",
            "Ram is good boy\n",
            "Ram is good boy\n",
            "Ram is good boy\n",
            "Ram is good boy\n",
            "Ram is good boy\n",
            "Ram is good boy\n",
            "Ram is good boy\n",
            "Ram is good boy\n",
            "Ram is good boy\n",
            "Ram is good boy\n",
            "Ram is good boy\n",
            "Ram is good boy\n",
            "Ram is good boy\n",
            "Ram is good boy\n",
            "Ram is good boy\n",
            "Ram is good boy\n",
            "Ram is good boy\n",
            "Ram is good boy\n",
            "Ram is good boy\n",
            "Ram is good boy\n",
            "Ram is good boy\n",
            "Ram is good boy\n",
            "Ram is good boy\n",
            "Ram is good boy\n",
            "Ram is good boy\n",
            "Ram is good boy\n",
            "Ram is good boy\n",
            "Ram is good boy\n",
            "Ram is good boy\n",
            "Ram is good boy\n",
            "Ram is good boy\n",
            "Ram is good boy\n",
            "Ram is good boy\n",
            "Ram is good boy\n",
            "Ram is good boy\n",
            "Ram is good boy\n",
            "Ram is good boy\n",
            "Ram is good boy\n",
            "Ram is good boy\n",
            "Ram is good boy\n",
            "Ram is good boy\n",
            "Ram is good boy\n",
            "Ram is good boy\n",
            "Ram is good boy\n",
            "Ram is good boy\n",
            "Ram is good boy\n",
            "Ram is good boy\n",
            "Ram is good boy\n",
            "Ram is good boy\n",
            "Ram is good boy\n",
            "Ram is good boy\n",
            "Ram is good boy\n",
            "Ram is good boy\n",
            "Ram is good boy\n",
            "Ram is good boy\n",
            "Ram is good boy\n",
            "Ram is good boy\n",
            "Ram is good boy\n",
            "Ram is good boy\n",
            "Ram is good boy\n",
            "Ram is good boy\n",
            "Ram is good boy\n",
            "Ram is good boy\n",
            "Ram is good boy\n",
            "Ram is good boy\n",
            "Ram is good boy\n",
            "Ram is good boy\n",
            "Ram is good boy\n",
            "Ram is good boy\n",
            "Ram is good boy\n",
            "Ram is good boy\n",
            "Ram is good boy\n",
            "Ram is good boy\n",
            "Ram is good boy\n",
            "Ram is good boy\n",
            "Ram is good boy\n",
            "Ram is good boy\n",
            "Ram is good boy\n",
            "Ram is good boy\n",
            "Ram is good boy\n",
            "Ram is good boy\n",
            "Ram is good boy\n",
            "Ram is good boy\n",
            "Ram is good boy\n",
            "Ram is good boy\n",
            "Ram is good boy\n",
            "Ram is good boy\n",
            "Ram is good boy\n",
            "Ram is good boy\n",
            "Ram is good boy\n",
            "Ram is good boy\n",
            "Ram is good boy\n",
            "Ram is good boy\n",
            "Ram is good boy\n",
            "Ram is good boy\n",
            "Ram is good boy\n",
            "Ram is good boy\n",
            "Ram is good boy\n",
            "Ram is good boy\n",
            "Ram is good boy\n",
            "Ram is good boy\n",
            "Ram is good boy\n",
            "Ram is good boy\n",
            "Ram is good boy\n",
            "Ram is good boy\n",
            "Ram is good boy\n",
            "Ram is good boy\n",
            "Ram is good boy\n",
            "Ram is good boy\n",
            "Ram is good boy\n",
            "Ram is good boy\n",
            "Ram is good boy\n",
            "Ram is good boy\n",
            "Ram is good boy\n",
            "Ram is good boy\n",
            "Ram is good boy\n",
            "Ram is good boy\n",
            "Ram is good boy\n",
            "Ram is good boy\n",
            "Ram is good boy\n",
            "Ram is good boy\n",
            "Ram is good boy\n",
            "Ram is good boy\n",
            "Ram is good boy\n",
            "Ram is good boy\n",
            "Ram is good boy\n",
            "Ram is good boy\n",
            "Ram is good boy\n",
            "Ram is good boy\n",
            "Ram is good boy\n",
            "Ram is good boy\n",
            "Ram is good boy\n",
            "Ram is good boy\n",
            "Ram is good boy\n",
            "Ram is good boy\n",
            "Ram is good boy\n",
            "Ram is good boy\n",
            "Ram is good boy\n",
            "Ram is good boy\n",
            "Ram is good boy\n",
            "Ram is good boy\n",
            "Ram is good boy\n",
            "Ram is good boy\n",
            "Ram is good boy\n",
            "Ram is good boy\n",
            "Ram is good boy\n",
            "Ram is good boy\n",
            "Ram is good boy\n",
            "Ram is good boy\n",
            "Ram is good boy\n",
            "Ram is good boy\n",
            "Ram is good boy\n",
            "Ram is good boy\n",
            "Ram is good boy\n",
            "Ram is good boy\n",
            "Ram is good boy\n",
            "Ram is good boy\n",
            "Ram is good boy\n",
            "Ram is good boy\n",
            "Ram is good boy\n",
            "Ram is good boy\n",
            "Ram is good boy\n",
            "Ram is good boy\n",
            "Ram is good boy\n",
            "Ram is good boy\n",
            "Ram is good boy\n",
            "Ram is good boy\n",
            "Ram is good boy\n",
            "Ram is good boy\n",
            "Ram is good boy\n",
            "Ram is good boy\n",
            "Ram is good boy\n",
            "Ram is good boy\n",
            "Ram is good boy\n",
            "Ram is good boy\n",
            "Ram is good boy\n",
            "Ram is good boy\n",
            "Ram is good boy\n",
            "Ram is good boy\n",
            "Ram is good boy\n",
            "Ram is good boy\n",
            "Ram is good boy\n",
            "Ram is good boy\n",
            "Ram is good boy\n",
            "Ram is good boy\n",
            "Ram is good boy\n",
            "Ram is good boy\n",
            "Ram is good boy\n",
            "Ram is good boy\n",
            "Ram is good boy\n",
            "Ram is good boy\n",
            "Ram is good boy\n",
            "Ram is good boy\n",
            "Ram is good boy\n",
            "Ram is good boy\n",
            "Ram is good boy\n",
            "Ram is good boy\n",
            "Ram is good boy\n",
            "Ram is good boy\n",
            "Ram is good boy\n",
            "Ram is good boy\n",
            "Ram is good boy\n",
            "Ram is good boy\n",
            "Ram is good boy\n",
            "Ram is good boy\n",
            "Ram is good boy\n",
            "Ram is good boy\n",
            "Ram is good boy\n",
            "Ram is good boy\n",
            "Ram is good boy\n",
            "Ram is good boy\n",
            "Ram is good boy\n",
            "Ram is good boy\n",
            "Ram is good boy\n",
            "Ram is good boy\n",
            "Ram is good boy\n",
            "Ram is good boy\n",
            "Ram is good boy\n",
            "Ram is good boy\n",
            "Ram is good boy\n",
            "Ram is good boy\n",
            "Ram is good boy\n",
            "Ram is good boy\n",
            "Ram is good boy\n",
            "Ram is good boy\n",
            "Ram is good boy\n",
            "Ram is good boy\n",
            "Ram is good boy\n",
            "Ram is good boy\n",
            "Ram is good boy\n",
            "Ram is good boy\n",
            "Ram is good boy\n",
            "Ram is good boy\n",
            "Ram is good boy\n",
            "Ram is good boy\n",
            "Ram is good boy\n",
            "Ram is good boy\n",
            "Ram is good boy\n",
            "Ram is good boy\n",
            "Ram is good boy\n",
            "Ram is good boy\n",
            "Ram is good boy\n",
            "Ram is good boy\n",
            "Ram is good boy\n",
            "Ram is good boy\n",
            "Ram is good boy\n",
            "Ram is good boy\n",
            "Ram is good boy\n",
            "Ram is good boy\n",
            "Ram is good boy\n",
            "Ram is good boy\n",
            "Ram is good boy\n",
            "Ram is good boy\n",
            "Ram is good boy\n",
            "Ram is good boy\n",
            "Ram is good boy\n",
            "Ram is good boy\n",
            "Ram is good boy\n",
            "Ram is good boy\n",
            "Ram is good boy\n",
            "Ram is good boy\n",
            "Ram is good boy\n",
            "Ram is good boy\n",
            "Ram is good boy\n",
            "Ram is good boy\n",
            "Ram is good boy\n",
            "Ram is good boy\n",
            "Ram is good boy\n",
            "Ram is good boy\n",
            "Ram is good boy\n",
            "Ram is good boy\n",
            "Ram is good boy\n",
            "Ram is good boy\n",
            "Ram is good boy\n",
            "Ram is good boy\n",
            "Ram is good boy\n",
            "Ram is good boy\n",
            "Ram is good boy\n",
            "Ram is good boy\n",
            "Ram is good boy\n",
            "Ram is good boy\n",
            "Ram is good boy\n",
            "Ram is good boy\n",
            "Ram is good boy\n",
            "Ram is good boy\n",
            "Ram is good boy\n",
            "Ram is good boy\n",
            "Ram is good boy\n",
            "Ram is good boy\n",
            "Ram is good boy\n",
            "Ram is good boy\n",
            "Ram is good boy\n",
            "Ram is good boy\n",
            "Ram is good boy\n",
            "Ram is good boy\n",
            "Ram is good boy\n",
            "Ram is good boy\n",
            "Ram is good boy\n",
            "Ram is good boy\n",
            "Ram is good boy\n",
            "Ram is good boy\n",
            "Ram is good boy\n",
            "Ram is good boy\n",
            "Ram is good boy\n",
            "Ram is good boy\n",
            "Ram is good boy\n",
            "Ram is good boy\n",
            "Ram is good boy\n",
            "Ram is good boy\n",
            "Ram is good boy\n",
            "Ram is good boy\n",
            "Ram is good boy\n",
            "Ram is good boy\n",
            "Ram is good boy\n",
            "Ram is good boy\n",
            "Ram is good boy\n",
            "Ram is good boy\n",
            "Ram is good boy\n",
            "Ram is good boy\n",
            "Ram is good boy\n",
            "Ram is good boy\n",
            "Ram is good boy\n",
            "Ram is good boy\n",
            "Ram is good boy\n",
            "Ram is good boy\n",
            "Ram is good boy\n",
            "Ram is good boy\n",
            "Ram is good boy\n",
            "Ram is good boy\n",
            "Ram is good boy\n",
            "Ram is good boy\n",
            "Ram is good boy\n",
            "Ram is good boy\n",
            "Ram is good boy\n",
            "Ram is good boy\n",
            "Ram is good boy\n",
            "Ram is good boy\n",
            "Ram is good boy\n",
            "Ram is good boy\n",
            "Ram is good boy\n",
            "Ram is good boy\n",
            "Ram is good boy\n",
            "Ram is good boy\n",
            "Ram is good boy\n",
            "Ram is good boy\n",
            "Ram is good boy\n",
            "Ram is good boy\n",
            "Ram is good boy\n",
            "Ram is good boy\n",
            "Ram is good boy\n",
            "Ram is good boy\n",
            "Ram is good boy\n",
            "Ram is good boy\n",
            "Ram is good boy\n",
            "Ram is good boy\n",
            "Ram is good boy\n",
            "Ram is good boy\n",
            "Ram is good boy\n",
            "Ram is good boy\n",
            "Ram is good boy\n",
            "Ram is good boy\n",
            "Ram is good boy\n",
            "Ram is good boy\n",
            "Ram is good boy\n",
            "Ram is good boy\n",
            "Ram is good boy\n",
            "Ram is good boy\n",
            "Ram is good boy\n",
            "Ram is good boy\n",
            "Ram is good boy\n",
            "Ram is good boy\n",
            "Ram is good boy\n",
            "Ram is good boy\n",
            "Ram is good boy\n",
            "Ram is good boy\n",
            "Ram is good boy\n",
            "Ram is good boy\n",
            "Ram is good boy\n",
            "Ram is good boy\n",
            "Ram is good boy\n",
            "Ram is good boy\n",
            "Ram is good boy\n",
            "Ram is good boy\n",
            "Ram is good boy\n",
            "Ram is good boy\n",
            "Ram is good boy\n",
            "Ram is good boy\n",
            "Ram is good boy\n",
            "Ram is good boy\n",
            "Ram is good boy\n",
            "Ram is good boy\n",
            "Ram is good boy\n",
            "Ram is good boy\n",
            "Ram is good boy\n",
            "Ram is good boy\n",
            "Ram is good boy\n",
            "Ram is good boy\n",
            "Ram is good boy\n",
            "Ram is good boy\n",
            "Ram is good boy\n",
            "Ram is good boy\n",
            "Ram is good boy\n",
            "Ram is good boy\n",
            "Ram is good boy\n",
            "Ram is good boy\n",
            "Ram is good boy\n",
            "Ram is good boy\n",
            "Ram is good boy\n",
            "Ram is good boy\n",
            "Ram is good boy\n",
            "Ram is good boy\n",
            "Ram is good boy\n",
            "Ram is good boy\n",
            "Ram is good boy\n",
            "Ram is good boy\n",
            "Ram is good boy\n",
            "Ram is good boy\n",
            "Ram is good boy\n",
            "Ram is good boy\n",
            "Ram is good boy\n",
            "Ram is good boy\n",
            "Ram is good boy\n",
            "Ram is good boy\n",
            "Ram is good boy\n",
            "Ram is good boy\n",
            "Ram is good boy\n",
            "Ram is good boy\n",
            "Ram is good boy\n",
            "Ram is good boy\n",
            "Ram is good boy\n",
            "Ram is good boy\n",
            "Ram is good boy\n",
            "Ram is good boy\n",
            "Ram is good boy\n",
            "Ram is good boy\n",
            "Ram is good boy\n",
            "Ram is good boy\n",
            "Ram is good boy\n",
            "Ram is good boy\n",
            "Ram is good boy\n",
            "Ram is good boy\n",
            "Ram is good boy\n",
            "Ram is good boy\n",
            "Ram is good boy\n",
            "Ram is good boy\n",
            "Ram is good boy\n",
            "Ram is good boy\n",
            "Ram is good boy\n",
            "Ram is good boy\n",
            "Ram is good boy\n",
            "Ram is good boy\n",
            "Ram is good boy\n",
            "Ram is good boy\n",
            "Ram is good boy\n",
            "Ram is good boy\n",
            "Ram is good boy\n",
            "Ram is good boy\n",
            "Ram is good boy\n",
            "Ram is good boy\n",
            "Ram is good boy\n",
            "Ram is good boy\n",
            "Ram is good boy\n",
            "Ram is good boy\n",
            "Ram is good boy\n",
            "Ram is good boy\n",
            "Ram is good boy\n",
            "Ram is good boy\n",
            "Ram is good boy\n",
            "Ram is good boy\n",
            "Ram is good boy\n",
            "Ram is good boy\n",
            "Ram is good boy\n",
            "Ram is good boy\n",
            "Ram is good boy\n",
            "Ram is good boy\n",
            "Ram is good boy\n",
            "Ram is good boy\n",
            "Ram is good boy\n",
            "Ram is good boy\n",
            "Ram is good boy\n",
            "Ram is good boy\n",
            "Ram is good boy\n",
            "Ram is good boy\n",
            "Ram is good boy\n",
            "Ram is good boy\n",
            "Ram is good boy\n",
            "Ram is good boy\n",
            "Ram is good boy\n",
            "Ram is good boy\n",
            "Ram is good boy\n",
            "Ram is good boy\n",
            "Ram is good boy\n",
            "Ram is good boy\n",
            "Ram is good boy\n",
            "Ram is good boy\n",
            "Ram is good boy\n",
            "Ram is good boy\n",
            "Ram is good boy\n",
            "Ram is good boy\n",
            "Ram is good boy\n",
            "Ram is good boy\n",
            "Ram is good boy\n",
            "Ram is good boy\n",
            "Ram is good boy\n",
            "Ram is good boy\n",
            "Ram is good boy\n",
            "Ram is good boy\n",
            "Ram is good boy\n",
            "Ram is good boy\n",
            "Ram is good boy\n",
            "Ram is good boy\n",
            "Ram is good boy\n",
            "Ram is good boy\n",
            "Ram is good boy\n",
            "Ram is good boy\n",
            "Ram is good boy\n",
            "Ram is good boy\n",
            "Ram is good boy\n",
            "Ram is good boy\n",
            "Ram is good boy\n",
            "Ram is good boy\n",
            "Ram is good boy\n",
            "Ram is good boy\n",
            "Ram is good boy\n",
            "Ram is good boy\n",
            "Ram is good boy\n",
            "Ram is good boy\n",
            "Ram is good boy\n",
            "Ram is good boy\n",
            "Ram is good boy\n",
            "Ram is good boy\n",
            "Ram is good boy\n",
            "Ram is good boy\n",
            "Ram is good boy\n",
            "Ram is good boy\n",
            "Ram is good boy\n",
            "Ram is good boy\n",
            "Ram is good boy\n",
            "Ram is good boy\n",
            "Ram is good boy\n",
            "Ram is good boy\n",
            "Ram is good boy\n",
            "Ram is good boy\n",
            "Ram is good boy\n",
            "Ram is good boy\n",
            "Ram is good boy\n",
            "Ram is good boy\n",
            "Ram is good boy\n",
            "Ram is good boy\n",
            "Ram is good boy\n",
            "Ram is good boy\n",
            "Ram is good boy\n",
            "Ram is good boy\n",
            "Ram is good boy\n",
            "Ram is good boy\n",
            "Ram is good boy\n",
            "Ram is good boy\n",
            "Ram is good boy\n",
            "Ram is good boy\n",
            "Ram is good boy\n",
            "Ram is good boy\n",
            "Ram is good boy\n",
            "Ram is good boy\n",
            "Ram is good boy\n",
            "Ram is good boy\n",
            "Ram is good boy\n",
            "Ram is good boy\n",
            "Ram is good boy\n",
            "Ram is good boy\n",
            "Ram is good boy\n",
            "Ram is good boy\n",
            "Ram is good boy\n",
            "Ram is good boy\n",
            "Ram is good boy\n",
            "Ram is good boy\n",
            "Ram is good boy\n",
            "Ram is good boy\n",
            "Ram is good boy\n",
            "Ram is good boy\n",
            "Ram is good boy\n",
            "Ram is good boy\n",
            "Ram is good boy\n",
            "Ram is good boy\n",
            "Ram is good boy\n",
            "Ram is good boy\n",
            "Ram is good boy\n",
            "Ram is good boy\n",
            "Ram is good boy\n",
            "Ram is good boy\n",
            "Ram is good boy\n",
            "Ram is good boy\n",
            "Ram is good boy\n",
            "Ram is good boy\n",
            "Ram is good boy\n",
            "Ram is good boy\n",
            "Ram is good boy\n",
            "Ram is good boy\n",
            "Ram is good boy\n",
            "Ram is good boy\n",
            "Ram is good boy\n",
            "Ram is good boy\n",
            "Ram is good boy\n",
            "Ram is good boy\n",
            "Ram is good boy\n",
            "Ram is good boy\n",
            "Ram is good boy\n",
            "Ram is good boy\n",
            "Ram is good boy\n",
            "Ram is good boy\n",
            "Ram is good boy\n",
            "Ram is good boy\n",
            "Ram is good boy\n",
            "Ram is good boy\n",
            "Ram is good boy\n",
            "Ram is good boy\n",
            "Ram is good boy\n",
            "Ram is good boy\n",
            "Ram is good boy\n",
            "Ram is good boy\n",
            "Ram is good boy\n",
            "Ram is good boy\n",
            "Ram is good boy\n",
            "Ram is good boy\n",
            "Ram is good boy\n",
            "Ram is good boy\n",
            "Ram is good boy\n",
            "Ram is good boy\n",
            "Ram is good boy\n",
            "Ram is good boy\n",
            "Ram is good boy\n",
            "Ram is good boy\n",
            "Ram is good boy\n",
            "Ram is good boy\n",
            "Ram is good boy\n",
            "Ram is good boy\n",
            "Ram is good boy\n",
            "Ram is good boy\n",
            "Ram is good boy\n",
            "Ram is good boy\n",
            "Ram is good boy\n",
            "Ram is good boy\n",
            "Ram is good boy\n",
            "Ram is good boy\n",
            "Ram is good boy\n",
            "Ram is good boy\n",
            "Ram is good boy\n",
            "Ram is good boy\n",
            "Ram is good boy\n",
            "Ram is good boy\n",
            "Ram is good boy\n",
            "Ram is good boy\n",
            "Ram is good boy\n",
            "Ram is good boy\n",
            "Ram is good boy\n",
            "Ram is good boy\n",
            "Ram is good boy\n",
            "Ram is good boy\n",
            "Ram is good boy\n",
            "Ram is good boy\n",
            "Ram is good boy\n",
            "Ram is good boy\n",
            "Ram is good boy\n",
            "Ram is good boy\n",
            "Ram is good boy\n",
            "Ram is good boy\n",
            "Ram is good boy\n",
            "Ram is good boy\n",
            "Ram is good boy\n",
            "Ram is good boy\n",
            "Ram is good boy\n",
            "Ram is good boy\n",
            "Ram is good boy\n",
            "Ram is good boy\n",
            "Ram is good boy\n",
            "Ram is good boy\n",
            "Ram is good boy\n",
            "Ram is good boy\n",
            "Ram is good boy\n",
            "Ram is good boy\n",
            "Ram is good boy\n",
            "Ram is good boy\n",
            "Ram is good boy\n",
            "Ram is good boy\n",
            "Ram is good boy\n",
            "Ram is good boy\n",
            "Ram is good boy\n",
            "Ram is good boy\n",
            "Ram is good boy\n",
            "Ram is good boy\n",
            "Ram is good boy\n",
            "Ram is good boy\n",
            "Ram is good boy\n",
            "Ram is good boy\n",
            "Ram is good boy\n",
            "Ram is good boy\n",
            "Ram is good boy\n",
            "Ram is good boy\n",
            "Ram is good boy\n",
            "Ram is good boy\n",
            "Ram is good boy\n",
            "Ram is good boy\n",
            "Ram is good boy\n",
            "Ram is good boy\n",
            "Ram is good boy\n",
            "Ram is good boy\n",
            "Ram is good boy\n",
            "Ram is good boy\n",
            "Ram is good boy\n",
            "Ram is good boy\n",
            "Ram is good boy\n",
            "Ram is good boy\n",
            "Ram is good boy\n",
            "Ram is good boy\n",
            "Ram is good boy\n",
            "Ram is good boy\n",
            "Ram is good boy\n",
            "Ram is good boy\n",
            "Ram is good boy\n",
            "Ram is good boy\n",
            "Ram is good boy\n",
            "Ram is good boy\n",
            "Ram is good boy\n",
            "Ram is good boy\n",
            "Ram is good boy\n",
            "Ram is good boy\n",
            "Ram is good boy\n",
            "Ram is good boy\n",
            "Ram is good boy\n",
            "Ram is good boy\n",
            "Ram is good boy\n",
            "Ram is good boy\n",
            "Ram is good boy\n",
            "Ram is good boy\n",
            "Ram is good boy\n",
            "Ram is good boy\n",
            "Ram is good boy\n",
            "Ram is good boy\n",
            "Ram is good boy\n",
            "Ram is good boy\n",
            "Ram is good boy\n",
            "Ram is good boy\n",
            "Ram is good boy\n",
            "Ram is good boy\n",
            "Ram is good boy\n",
            "Ram is good boy\n",
            "Ram is good boy\n",
            "Ram is good boy\n",
            "Ram is good boy\n",
            "Ram is good boy\n",
            "Ram is good boy\n",
            "Ram is good boy\n",
            "Ram is good boy\n",
            "Ram is good boy\n",
            "Ram is good boy\n",
            "Ram is good boy\n",
            "Ram is good boy\n",
            "Ram is good boy\n",
            "Ram is good boy\n",
            "Ram is good boy\n",
            "Ram is good boy\n",
            "Ram is good boy\n",
            "Ram is good boy\n",
            "Ram is good boy\n",
            "Ram is good boy\n",
            "Ram is good boy\n",
            "Ram is good boy\n",
            "Ram is good boy\n",
            "Ram is good boy\n",
            "Ram is good boy\n",
            "Ram is good boy\n",
            "Ram is good boy\n",
            "Ram is good boy\n",
            "Ram is good boy\n",
            "Ram is good boy\n",
            "Ram is good boy\n",
            "Ram is good boy\n",
            "Ram is good boy\n",
            "Ram is good boy\n",
            "Ram is good boy\n",
            "Ram is good boy\n",
            "Ram is good boy\n",
            "Ram is good boy\n",
            "Ram is good boy\n",
            "Ram is good boy\n",
            "Ram is good boy\n",
            "Ram is good boy\n",
            "Ram is good boy\n",
            "Ram is good boy\n",
            "Ram is good boy\n",
            "Ram is good boy\n",
            "Ram is good boy\n",
            "Ram is good boy\n",
            "Ram is good boy\n",
            "Ram is good boy\n",
            "Ram is good boy\n",
            "Ram is good boy\n",
            "Ram is good boy\n",
            "Ram is good boy\n",
            "Ram is good boy\n",
            "Ram is good boy\n",
            "Ram is good boy\n",
            "Ram is good boy\n",
            "Ram is good boy\n",
            "Ram is good boy\n",
            "Ram is good boy\n",
            "Ram is good boy\n",
            "Ram is good boy\n",
            "Ram is good boy\n",
            "Ram is good boy\n",
            "Ram is good boy\n",
            "Ram is good boy\n",
            "Ram is good boy\n",
            "Ram is good boy\n",
            "Ram is good boy\n",
            "Ram is good boy\n",
            "Ram is good boy\n",
            "Ram is good boy\n",
            "Ram is good boy\n",
            "Ram is good boy\n",
            "Ram is good boy\n",
            "Ram is good boy\n",
            "Ram is good boy\n",
            "Ram is good boy\n",
            "Ram is good boy\n",
            "Ram is good boy\n",
            "Ram is good boy\n",
            "Ram is good boy\n",
            "Ram is good boy\n",
            "Ram is good boy\n",
            "Ram is good boy\n",
            "Ram is good boy\n",
            "Ram is good boy\n",
            "Ram is good boy\n",
            "Ram is good boy\n",
            "Ram is good boy\n",
            "Ram is good boy\n",
            "Ram is good boy\n",
            "Ram is good boy\n",
            "Ram is good boy\n",
            "Ram is good boy\n",
            "Ram is good boy\n",
            "Ram is good boy\n",
            "Ram is good boy\n",
            "Ram is good boy\n",
            "Ram is good boy\n",
            "Ram is good boy\n",
            "Ram is good boy\n",
            "Ram is good boy\n",
            "Ram is good boy\n",
            "Ram is good boy\n",
            "Ram is good boy\n",
            "Ram is good boy\n",
            "Ram is good boy\n",
            "Ram is good boy\n",
            "Ram is good boy\n",
            "Ram is good boy\n",
            "Ram is good boy\n",
            "Ram is good boy\n",
            "Ram is good boy\n",
            "Ram is good boy\n",
            "Ram is good boy\n",
            "Ram is good boy\n",
            "Ram is good boy\n",
            "Ram is good boy\n",
            "Ram is good boy\n",
            "Ram is good boy\n",
            "Ram is good boy\n",
            "Ram is good boy\n",
            "Ram is good boy\n",
            "Ram is good boy\n",
            "Ram is good boy\n",
            "Ram is good boy\n",
            "Ram is good boy\n",
            "Ram is good boy\n",
            "Ram is good boy\n",
            "Ram is good boy\n",
            "Ram is good boy\n",
            "Ram is good boy\n",
            "Ram is good boy\n",
            "Ram is good boy\n",
            "Ram is good boy\n",
            "Ram is good boy\n",
            "Ram is good boy\n",
            "Ram is good boy\n",
            "Ram is good boy\n",
            "Ram is good boy\n",
            "Ram is good boy\n",
            "Ram is good boy\n",
            "Ram is good boy\n",
            "Ram is good boy\n",
            "Ram is good boy\n",
            "Ram is good boy\n",
            "Ram is good boy\n",
            "Ram is good boy\n",
            "Ram is good boy\n",
            "Ram is good boy\n",
            "Ram is good boy\n",
            "Ram is good boy\n",
            "Ram is good boy\n",
            "Ram is good boy\n",
            "Ram is good boy\n",
            "Ram is good boy\n",
            "Ram is good boy\n",
            "Ram is good boy\n",
            "Ram is good boy\n",
            "Ram is good boy\n",
            "Ram is good boy\n",
            "Ram is good boy\n",
            "Ram is good boy\n",
            "Ram is good boy\n",
            "Ram is good boy\n",
            "Ram is good boy\n",
            "Ram is good boy\n",
            "Ram is good boy\n",
            "Ram is good boy\n",
            "Ram is good boy\n",
            "Ram is good boy\n",
            "Ram is good boy\n",
            "Ram is good boy\n",
            "Ram is good boy\n",
            "Ram is good boy\n",
            "Ram is good boy\n",
            "Ram is good boy\n",
            "Ram is good boy\n",
            "Ram is good boy\n",
            "Ram is good boy\n",
            "Ram is good boy\n",
            "Ram is good boy\n",
            "Ram is good boy\n",
            "Ram is good boy\n",
            "Ram is good boy\n",
            "Ram is good boy\n",
            "Ram is good boy\n",
            "Ram is good boy\n",
            "Ram is good boy\n",
            "Ram is good boy\n",
            "Ram is good boy\n",
            "Ram is good boy\n",
            "Ram is good boy\n",
            "Ram is good boy\n",
            "Ram is good boy\n",
            "Ram is good boy\n",
            "Ram is good boy\n",
            "Ram is good boy\n",
            "Ram is good boy\n",
            "Ram is good boy\n",
            "Ram is good boy\n",
            "Ram is good boy\n",
            "Ram is good boy\n",
            "Ram is good boy\n",
            "Ram is good boy\n",
            "Ram is good boy\n",
            "Ram is good boy\n",
            "Ram is good boy\n",
            "Ram is good boy\n",
            "Ram is good boy\n",
            "Ram is good boy\n",
            "Ram is good boy\n",
            "Ram is good boy\n",
            "Ram is good boy\n",
            "Ram is good boy\n",
            "Ram is good boy\n",
            "Ram is good boy\n",
            "Ram is good boy\n",
            "Ram is good boy\n",
            "Ram is good boy\n",
            "Ram is good boy\n",
            "Ram is good boy\n",
            "Ram is good boy\n",
            "Ram is good boy\n",
            "Ram is good boy\n",
            "Ram is good boy\n",
            "Ram is good boy\n",
            "Ram is good boy\n",
            "Ram is good boy\n",
            "Ram is good boy\n",
            "Ram is good boy\n",
            "Ram is good boy\n",
            "Ram is good boy\n",
            "Ram is good boy\n",
            "Ram is good boy\n",
            "Ram is good boy\n",
            "Ram is good boy\n",
            "Ram is good boy\n",
            "Ram is good boy\n",
            "Ram is good boy\n",
            "Ram is good boy\n",
            "Ram is good boy\n",
            "Ram is good boy\n",
            "Ram is good boy\n",
            "Ram is good boy\n",
            "Ram is good boy\n",
            "Ram is good boy\n",
            "Ram is good boy\n",
            "Ram is good boy\n",
            "Ram is good boy\n",
            "Ram is good boy\n",
            "Ram is good boy\n",
            "Ram is good boy\n",
            "Ram is good boy\n",
            "Ram is good boy\n",
            "Ram is good boy\n",
            "Ram is good boy\n",
            "Ram is good boy\n",
            "Ram is good boy\n",
            "Ram is good boy\n",
            "Ram is good boy\n",
            "Ram is good boy\n",
            "Ram is good boy\n",
            "Ram is good boy\n",
            "Ram is good boy\n",
            "Ram is good boy\n",
            "Ram is good boy\n",
            "Ram is good boy\n",
            "Ram is good boy\n",
            "Ram is good boy\n",
            "Ram is good boy\n",
            "Ram is good boy\n",
            "Ram is good boy\n",
            "Ram is good boy\n",
            "Ram is good boy\n",
            "Ram is good boy\n",
            "Ram is good boy\n",
            "Ram is good boy\n",
            "Ram is good boy\n",
            "Ram is good boy\n",
            "Ram is good boy\n",
            "Ram is good boy\n",
            "Ram is good boy\n",
            "Ram is good boy\n",
            "Ram is good boy\n",
            "Ram is good boy\n",
            "Ram is good boy\n",
            "Ram is good boy\n",
            "Ram is good boy\n",
            "Ram is good boy\n",
            "Ram is good boy\n",
            "Ram is good boy\n",
            "Ram is good boy\n",
            "Ram is good boy\n",
            "Ram is good boy\n",
            "Ram is good boy\n",
            "Ram is good boy\n",
            "Ram is good boy\n",
            "Ram is good boy\n",
            "Ram is good boy\n",
            "Ram is good boy\n",
            "Ram is good boy\n",
            "Ram is good boy\n",
            "Ram is good boy\n",
            "Ram is good boy\n",
            "Ram is good boy\n",
            "Ram is good boy\n",
            "Ram is good boy\n",
            "Ram is good boy\n",
            "Ram is good boy\n",
            "Ram is good boy\n",
            "Ram is good boy\n",
            "Ram is good boy\n",
            "Ram is good boy\n",
            "Ram is good boy\n",
            "Ram is good boy\n",
            "Ram is good boy\n",
            "Ram is good boy\n",
            "Ram is good boy\n",
            "Ram is good boy\n",
            "Ram is good boy\n",
            "Ram is good boy\n",
            "Ram is good boy\n",
            "Ram is good boy\n",
            "Ram is good boy\n",
            "Ram is good boy\n",
            "Ram is good boy\n",
            "Ram is good boy\n",
            "Ram is good boy\n",
            "Ram is good boy\n",
            "Ram is good boy\n",
            "Ram is good boy\n",
            "Ram is good boy\n",
            "Ram is good boy\n",
            "Ram is good boy\n",
            "Ram is good boy\n",
            "Ram is good boy\n",
            "Ram is good boy\n",
            "Ram is good boy\n",
            "Ram is good boy\n",
            "Ram is good boy\n",
            "Ram is good boy\n",
            "Ram is good boy\n",
            "Ram is good boy\n",
            "Ram is good boy\n",
            "Ram is good boy\n",
            "Ram is good boy\n",
            "Ram is good boy\n",
            "Ram is good boy\n",
            "Ram is good boy\n",
            "Ram is good boy\n",
            "Ram is good boy\n",
            "Ram is good boy\n",
            "Ram is good boy\n",
            "Ram is good boy\n",
            "Ram is good boy\n",
            "Ram is good boy\n",
            "Ram is good boy\n",
            "Ram is good boy\n",
            "Ram is good boy\n",
            "Ram is good boy\n",
            "Ram is good boy\n",
            "Ram is good boy\n",
            "Ram is good boy\n",
            "Ram is good boy\n",
            "Ram is good boy\n",
            "Ram is good boy\n",
            "Ram is good boy\n",
            "Ram is good boy\n",
            "Ram is good boy\n",
            "Ram is good boy\n",
            "Ram is good boy\n",
            "Ram is good boy\n",
            "Ram is good boy\n",
            "Ram is good boy\n",
            "Ram is good boy\n",
            "Ram is good boy\n",
            "Ram is good boy\n",
            "Ram is good boy\n",
            "Ram is good boy\n",
            "Ram is good boy\n",
            "Ram is good boy\n",
            "Ram is good boy\n",
            "Ram is good boy\n",
            "Ram is good boy\n",
            "Ram is good boy\n",
            "Ram is good boy\n",
            "Ram is good boy\n",
            "Ram is good boy\n",
            "Ram is good boy\n",
            "Ram is good boy\n",
            "Ram is good boy\n",
            "Ram is good boy\n",
            "Ram is good boy\n",
            "Ram is good boy\n",
            "Ram is good boy\n",
            "Ram is good boy\n",
            "Ram is good boy\n",
            "Ram is good boy\n",
            "Ram is good boy\n",
            "Ram is good boy\n",
            "Ram is good boy\n",
            "Ram is good boy\n",
            "Ram is good boy\n",
            "Ram is good boy\n",
            "Ram is good boy\n",
            "Ram is good boy\n",
            "Ram is good boy\n",
            "Ram is good boy\n",
            "Ram is good boy\n",
            "Ram is good boy\n",
            "Ram is good boy\n",
            "Ram is good boy\n",
            "Ram is good boy\n",
            "Ram is good boy\n",
            "Ram is good boy\n",
            "Ram is good boy\n",
            "Ram is good boy\n",
            "Ram is good boy\n",
            "Ram is good boy\n",
            "Ram is good boy\n",
            "Ram is good boy\n",
            "Ram is good boy\n",
            "Ram is good boy\n",
            "Ram is good boy\n",
            "Ram is good boy\n",
            "Ram is good boy\n",
            "Ram is good boy\n",
            "Ram is good boy\n",
            "Ram is good boy\n",
            "Ram is good boy\n",
            "Ram is good boy\n",
            "Ram is good boy\n",
            "Ram is good boy\n",
            "Ram is good boy\n",
            "Ram is good boy\n",
            "Ram is good boy\n",
            "Ram is good boy\n",
            "Ram is good boy\n",
            "Ram is good boy\n",
            "Ram is good boy\n",
            "Ram is good boy\n",
            "Ram is good boy\n",
            "Ram is good boy\n",
            "Ram is good boy\n",
            "Ram is good boy\n",
            "Ram is good boy\n",
            "Ram is good boy\n",
            "Ram is good boy\n",
            "Ram is good boy\n",
            "Ram is good boy\n",
            "Ram is good boy\n",
            "Ram is good boy\n",
            "Ram is good boy\n",
            "Ram is good boy\n",
            "Ram is good boy\n",
            "Ram is good boy\n",
            "Ram is good boy\n",
            "Ram is good boy\n",
            "Ram is good boy\n",
            "Ram is good boy\n",
            "Ram is good boy\n",
            "Ram is good boy\n",
            "Ram is good boy\n",
            "Ram is good boy\n",
            "Ram is good boy\n",
            "Ram is good boy\n",
            "Ram is good boy\n",
            "Ram is good boy\n",
            "Ram is good boy\n",
            "Ram is good boy\n",
            "Ram is good boy\n",
            "Ram is good boy\n",
            "Ram is good boy\n",
            "Ram is good boy\n",
            "Ram is good boy\n",
            "Ram is good boy\n",
            "Ram is good boy\n",
            "Ram is good boy\n",
            "Ram is good boy\n",
            "Ram is good boy\n",
            "Ram is good boy\n",
            "Ram is good boy\n",
            "Ram is good boy\n",
            "Ram is good boy\n",
            "Ram is good boy\n",
            "Ram is good boy\n",
            "Ram is good boy\n",
            "Ram is good boy\n",
            "Ram is good boy\n",
            "Ram is good boy\n",
            "Ram is good boy\n",
            "Ram is good boy\n",
            "Ram is good boy\n",
            "Ram is good boy\n",
            "Ram is good boy\n",
            "Ram is good boy\n",
            "Ram is good boy\n",
            "Ram is good boy\n",
            "Ram is good boy\n",
            "Ram is good boy\n",
            "Ram is good boy\n",
            "Ram is good boy\n",
            "Ram is good boy\n",
            "Ram is good boy\n",
            "Ram is good boy\n",
            "Ram is good boy\n",
            "Ram is good boy\n",
            "Ram is good boy\n",
            "Ram is good boy\n",
            "Ram is good boy\n",
            "Ram is good boy\n",
            "Ram is good boy\n",
            "Ram is good boy\n",
            "Ram is good boy\n",
            "Ram is good boy\n",
            "Ram is good boy\n",
            "Ram is good boy\n",
            "Ram is good boy\n",
            "Ram is good boy\n",
            "Ram is good boy\n",
            "Ram is good boy\n",
            "Ram is good boy\n",
            "Ram is good boy\n",
            "Ram is good boy\n",
            "Ram is good boy\n",
            "Ram is good boy\n",
            "Ram is good boy\n",
            "Ram is good boy\n",
            "Ram is good boy\n",
            "Ram is good boy\n",
            "Ram is good boy\n",
            "Ram is good boy\n",
            "Ram is good boy\n",
            "Ram is good boy\n",
            "Ram is good boy\n",
            "Ram is good boy\n",
            "Ram is good boy\n",
            "Ram is good boy\n",
            "Ram is good boy\n",
            "Ram is good boy\n",
            "Ram is good boy\n",
            "Ram is good boy\n",
            "Ram is good boy\n",
            "Ram is good boy\n",
            "Ram is good boy\n",
            "Ram is good boy\n",
            "Ram is good boy\n",
            "Ram is good boy\n",
            "Ram is good boy\n",
            "Ram is good boy\n",
            "Ram is good boy\n",
            "Ram is good boy\n",
            "Ram is good boy\n",
            "Ram is good boy\n",
            "Ram is good boy\n",
            "Ram is good boy\n",
            "Ram is good boy\n",
            "Ram is good boy\n",
            "Ram is good boy\n",
            "Ram is good boy\n",
            "Ram is good boy\n",
            "Ram is good boy\n",
            "Ram is good boy\n",
            "Ram is good boy\n",
            "Ram is good boy\n",
            "Ram is good boy\n",
            "Ram is good boy\n",
            "Ram is good boy\n",
            "Ram is good boy\n",
            "Ram is good boy\n",
            "Ram is good boy\n",
            "Ram is good boy\n",
            "Ram is good boy\n",
            "Ram is good boy\n",
            "Ram is good boy\n",
            "Ram is good boy\n",
            "Ram is good boy\n",
            "Ram is good boy\n",
            "Ram is good boy\n",
            "Ram is good boy\n",
            "Ram is good boy\n",
            "Ram is good boy\n",
            "Ram is good boy\n",
            "Ram is good boy\n",
            "Ram is good boy\n",
            "Ram is good boy\n",
            "Ram is good boy\n",
            "Ram is good boy\n",
            "Ram is good boy\n",
            "Ram is good boy\n",
            "Ram is good boy\n",
            "Ram is good boy\n",
            "Ram is good boy\n",
            "Ram is good boy\n",
            "Ram is good boy\n",
            "Ram is good boy\n",
            "Ram is good boy\n",
            "Ram is good boy\n",
            "Ram is good boy\n",
            "Ram is good boy\n",
            "Ram is good boy\n",
            "Ram is good boy\n",
            "Ram is good boy\n",
            "Ram is good boy\n",
            "Ram is good boy\n",
            "Ram is good boy\n",
            "Ram is good boy\n",
            "Ram is good boy\n",
            "Ram is good boy\n",
            "Ram is good boy\n",
            "Ram is good boy\n",
            "Ram is good boy\n",
            "Ram is good boy\n",
            "Ram is good boy\n",
            "Ram is good boy\n",
            "Ram is good boy\n",
            "Ram is good boy\n",
            "Ram is good boy\n",
            "Ram is good boy\n",
            "Ram is good boy\n",
            "Ram is good boy\n",
            "Ram is good boy\n",
            "Ram is good boy\n",
            "Ram is good boy\n",
            "Ram is good boy\n",
            "Ram is good boy\n",
            "Ram is good boy\n",
            "Ram is good boy\n",
            "Ram is good boy\n",
            "Ram is good boy\n",
            "Ram is good boy\n",
            "Ram is good boy\n",
            "Ram is good boy\n",
            "Ram is good boy\n",
            "Ram is good boy\n",
            "Ram is good boy\n",
            "Ram is good boy\n",
            "Ram is good boy\n",
            "Ram is good boy\n",
            "Ram is good boy\n",
            "Ram is good boy\n",
            "Ram is good boy\n",
            "Ram is good boy\n",
            "Ram is good boy\n",
            "Ram is good boy\n",
            "Ram is good boy\n",
            "Ram is good boy\n",
            "Ram is good boy\n",
            "Ram is good boy\n",
            "Ram is good boy\n",
            "Ram is good boy\n",
            "Ram is good boy\n",
            "Ram is good boy\n",
            "Ram is good boy\n",
            "Ram is good boy\n",
            "Ram is good boy\n",
            "Ram is good boy\n",
            "Ram is good boy\n",
            "Ram is good boy\n",
            "Ram is good boy\n",
            "Ram is good boy\n",
            "Ram is good boy\n",
            "Ram is good boy\n",
            "Ram is good boy\n",
            "Ram is good boy\n",
            "Ram is good boy\n",
            "Ram is good boy\n",
            "Ram is good boy\n",
            "Ram is good boy\n",
            "Ram is good boy\n",
            "Ram is good boy\n",
            "Ram is good boy\n",
            "Ram is good boy\n",
            "Ram is good boy\n",
            "Ram is good boy\n",
            "Ram is good boy\n",
            "Ram is good boy\n",
            "Ram is good boy\n",
            "Ram is good boy\n",
            "Ram is good boy\n",
            "Ram is good boy\n",
            "Ram is good boy\n",
            "Ram is good boy\n",
            "Ram is good boy\n",
            "Ram is good boy\n",
            "Ram is good boy\n",
            "Ram is good boy\n",
            "Ram is good boy\n",
            "Ram is good boy\n",
            "Ram is good boy\n",
            "Ram is good boy\n",
            "Ram is good boy\n",
            "Ram is good boy\n",
            "Ram is good boy\n",
            "Ram is good boy\n",
            "Ram is good boy\n",
            "Ram is good boy\n",
            "Ram is good boy\n",
            "Ram is good boy\n",
            "Ram is good boy\n",
            "Ram is good boy\n",
            "Ram is good boy\n",
            "Ram is good boy\n",
            "Ram is good boy\n",
            "Ram is good boy\n",
            "Ram is good boy\n",
            "Ram is good boy\n",
            "Ram is good boy\n",
            "Ram is good boy\n",
            "Ram is good boy\n",
            "Ram is good boy\n",
            "Ram is good boy\n",
            "Ram is good boy\n",
            "Ram is good boy\n",
            "Ram is good boy\n",
            "Ram is good boy\n",
            "Ram is good boy\n",
            "Ram is good boy\n",
            "Ram is good boy\n",
            "Ram is good boy\n",
            "Ram is good boy\n",
            "Ram is good boy\n",
            "Ram is good boy\n",
            "Ram is good boy\n",
            "Ram is good boy\n",
            "Ram is good boy\n",
            "Ram is good boy\n",
            "Ram is good boy\n",
            "Ram is good boy\n",
            "Ram is good boy\n",
            "Ram is good boy\n",
            "Ram is good boy\n",
            "Ram is good boy\n",
            "Ram is good boy\n",
            "Ram is good boy\n",
            "Ram is good boy\n",
            "Ram is good boy\n",
            "Ram is good boy\n",
            "Ram is good boy\n",
            "Ram is good boy\n",
            "Ram is good boy\n",
            "Ram is good boy\n",
            "Ram is good boy\n",
            "Ram is good boy\n",
            "Ram is good boy\n",
            "Ram is good boy\n",
            "Ram is good boy\n",
            "Ram is good boy\n",
            "Ram is good boy\n",
            "Ram is good boy\n",
            "Ram is good boy\n",
            "Ram is good boy\n",
            "Ram is good boy\n",
            "Ram is good boy\n",
            "Ram is good boy\n",
            "Ram is good boy\n",
            "Ram is good boy\n",
            "Ram is good boy\n",
            "Ram is good boy\n",
            "Ram is good boy\n",
            "Ram is good boy\n",
            "Ram is good boy\n",
            "Ram is good boy\n",
            "Ram is good boy\n",
            "Ram is good boy\n",
            "Ram is good boy\n",
            "Ram is good boy\n",
            "Ram is good boy\n",
            "Ram is good boy\n",
            "Ram is good boy\n",
            "Ram is good boy\n",
            "Ram is good boy\n",
            "Ram is good boy\n",
            "Ram is good boy\n",
            "Ram is good boy\n",
            "Ram is good boy\n",
            "Ram is good boy\n",
            "Ram is good boy\n",
            "Ram is good boy\n",
            "Ram is good boy\n",
            "Ram is good boy\n",
            "Ram is good boy\n",
            "Ram is good boy\n",
            "Ram is good boy\n",
            "Ram is good boy\n",
            "Ram is good boy\n",
            "Ram is good boy\n",
            "Ram is good boy\n",
            "Ram is good boy\n",
            "Ram is good boy\n",
            "Ram is good boy\n",
            "Ram is good boy\n",
            "Ram is good boy\n",
            "Ram is good boy\n",
            "Ram is good boy\n",
            "Ram is good boy\n",
            "Ram is good boy\n",
            "Ram is good boy\n",
            "Ram is good boy\n",
            "Ram is good boy\n",
            "Ram is good boy\n",
            "Ram is good boy\n",
            "Ram is good boy\n",
            "Ram is good boy\n",
            "Ram is good boy\n",
            "Ram is good boy\n",
            "Ram is good boy\n",
            "Ram is good boy\n",
            "Ram is good boy\n",
            "Ram is good boy\n",
            "Ram is good boy\n",
            "Ram is good boy\n",
            "Ram is good boy\n",
            "Ram is good boy\n",
            "Ram is good boy\n",
            "Ram is good boy\n",
            "Ram is good boy\n",
            "Ram is good boy\n",
            "Ram is good boy\n",
            "Ram is good boy\n",
            "Ram is good boy\n",
            "Ram is good boy\n",
            "Ram is good boy\n",
            "Ram is good boy\n",
            "Ram is good boy\n",
            "Ram is good boy\n",
            "Ram is good boy\n",
            "Ram is good boy\n",
            "Ram is good boy\n",
            "Ram is good boy\n",
            "Ram is good boy\n",
            "Ram is good boy\n",
            "Ram is good boy\n",
            "Ram is good boy\n",
            "Ram is good boy\n",
            "Ram is good boy\n",
            "Ram is good boy\n",
            "Ram is good boy\n",
            "Ram is good boy\n",
            "Ram is good boy\n",
            "Ram is good boy\n",
            "Ram is good boy\n",
            "Ram is good boy\n",
            "Ram is good boy\n",
            "Ram is good boy\n",
            "Ram is good boy\n",
            "Ram is good boy\n",
            "Ram is good boy\n",
            "Ram is good boy\n",
            "Ram is good boy\n",
            "Ram is good boy\n",
            "Ram is good boy\n",
            "Ram is good boy\n",
            "Ram is good boy\n",
            "Ram is good boy\n",
            "Ram is good boy\n",
            "Ram is good boy\n",
            "Ram is good boy\n",
            "Ram is good boy\n",
            "Ram is good boy\n",
            "Ram is good boy\n",
            "Ram is good boy\n",
            "Ram is good boy\n",
            "Ram is good boy\n",
            "Ram is good boy\n",
            "Ram is good boy\n",
            "Ram is good boy\n",
            "Ram is good boy\n",
            "Ram is good boy\n",
            "Ram is good boy\n",
            "Ram is good boy\n",
            "Ram is good boy\n",
            "Ram is good boy\n",
            "Ram is good boy\n",
            "Ram is good boy\n",
            "Ram is good boy\n",
            "Ram is good boy\n",
            "Ram is good boy\n",
            "Ram is good boy\n",
            "Ram is good boy\n",
            "Ram is good boy\n",
            "Ram is good boy\n",
            "Ram is good boy\n",
            "Ram is good boy\n",
            "Ram is good boy\n",
            "Ram is good boy\n",
            "Ram is good boy\n",
            "Ram is good boy\n",
            "Ram is good boy\n",
            "Ram is good boy\n",
            "Ram is good boy\n",
            "Ram is good boy\n",
            "Ram is good boy\n",
            "Ram is good boy\n",
            "Ram is good boy\n",
            "Ram is good boy\n",
            "Ram is good boy\n",
            "Ram is good boy\n",
            "Ram is good boy\n",
            "Ram is good boy\n",
            "Ram is good boy\n",
            "Ram is good boy\n",
            "Ram is good boy\n",
            "Ram is good boy\n",
            "Ram is good boy\n",
            "Ram is good boy\n",
            "Ram is good boy\n",
            "Ram is good boy\n",
            "Ram is good boy\n",
            "Ram is good boy\n",
            "Ram is good boy\n",
            "Ram is good boy\n",
            "Ram is good boy\n",
            "Ram is good boy\n",
            "Ram is good boy\n",
            "Ram is good boy\n",
            "Ram is good boy\n",
            "Ram is good boy\n",
            "Ram is good boy\n",
            "Ram is good boy\n",
            "Ram is good boy\n",
            "Ram is good boy\n",
            "Ram is good boy\n",
            "Ram is good boy\n",
            "Ram is good boy\n",
            "Ram is good boy\n",
            "Ram is good boy\n",
            "Ram is good boy\n",
            "Ram is good boy\n",
            "Ram is good boy\n",
            "Ram is good boy\n",
            "Ram is good boy\n",
            "Ram is good boy\n",
            "Ram is good boy\n",
            "Ram is good boy\n",
            "Ram is good boy\n",
            "Ram is good boy\n",
            "Ram is good boy\n",
            "Ram is good boy\n",
            "Ram is good boy\n",
            "Ram is good boy\n",
            "Ram is good boy\n",
            "Ram is good boy\n",
            "Ram is good boy\n",
            "Ram is good boy\n",
            "Ram is good boy\n",
            "Ram is good boy\n",
            "Ram is good boy\n",
            "Ram is good boy\n",
            "Ram is good boy\n",
            "Ram is good boy\n",
            "Ram is good boy\n",
            "Ram is good boy\n",
            "Ram is good boy\n",
            "Ram is good boy\n",
            "Ram is good boy\n",
            "Ram is good boy\n",
            "Ram is good boy\n",
            "Ram is good boy\n",
            "Ram is good boy\n",
            "Ram is good boy\n",
            "Ram is good boy\n",
            "Ram is good boy\n",
            "Ram is good boy\n",
            "Ram is good boy\n",
            "Ram is good boy\n",
            "Ram is good boy\n",
            "Ram is good boy\n",
            "Ram is good boy\n",
            "Ram is good boy\n",
            "Ram is good boy\n",
            "Ram is good boy\n",
            "Ram is good boy\n",
            "Ram is good boy\n",
            "Ram is good boy\n",
            "Ram is good boy\n",
            "Ram is good boy\n",
            "Ram is good boy\n",
            "Ram is good boy\n",
            "Ram is good boy\n",
            "Ram is good boy\n",
            "Ram is good boy\n",
            "Ram is good boy\n",
            "Ram is good boy\n",
            "Ram is good boy\n",
            "Ram is good boy\n",
            "Ram is good boy\n",
            "Ram is good boy\n",
            "Ram is good boy\n",
            "Ram is good boy\n",
            "Ram is good boy\n",
            "Ram is good boy\n",
            "Ram is good boy\n",
            "Ram is good boy\n",
            "Ram is good boy\n",
            "Ram is good boy\n",
            "Ram is good boy\n",
            "Ram is good boy\n",
            "Ram is good boy\n",
            "Ram is good boy\n",
            "Ram is good boy\n",
            "Ram is good boy\n",
            "Ram is good boy\n",
            "Ram is good boy\n",
            "Ram is good boy\n",
            "Ram is good boy\n",
            "Ram is good boy\n",
            "Ram is good boy\n",
            "Ram is good boy\n",
            "Ram is good boy\n",
            "Ram is good boy\n",
            "Ram is good boy\n",
            "Ram is good boy\n",
            "Ram is good boy\n",
            "Ram is good boy\n",
            "Ram is good boy\n",
            "Ram is good boy\n",
            "Ram is good boy\n",
            "Ram is good boy\n",
            "Ram is good boy\n",
            "Ram is good boy\n",
            "Ram is good boy\n",
            "Ram is good boy\n",
            "Ram is good boy\n",
            "Ram is good boy\n",
            "Ram is good boy\n",
            "Ram is good boy\n",
            "Ram is good boy\n",
            "Ram is good boy\n",
            "Ram is good boy\n",
            "Ram is good boy\n",
            "Ram is good boy\n",
            "Ram is good boy\n",
            "Ram is good boy\n",
            "Ram is good boy\n",
            "Ram is good boy\n",
            "Ram is good boy\n",
            "Ram is good boy\n",
            "Ram is good boy\n",
            "Ram is good boy\n",
            "Ram is good boy\n",
            "Ram is good boy\n",
            "Ram is good boy\n",
            "Ram is good boy\n",
            "Ram is good boy\n",
            "Ram is good boy\n",
            "Ram is good boy\n",
            "Ram is good boy\n",
            "Ram is good boy\n",
            "Ram is good boy\n",
            "Ram is good boy\n",
            "Ram is good boy\n",
            "Ram is good boy\n",
            "Ram is good boy\n",
            "Ram is good boy\n",
            "Ram is good boy\n",
            "Ram is good boy\n",
            "Ram is good boy\n",
            "Ram is good boy\n",
            "Ram is good boy\n",
            "Ram is good boy\n",
            "Ram is good boy\n",
            "Ram is good boy\n",
            "Ram is good boy\n",
            "Ram is good boy\n",
            "Ram is good boy\n",
            "Ram is good boy\n",
            "Ram is good boy\n",
            "Ram is good boy\n",
            "Ram is good boy\n",
            "Ram is good boy\n",
            "Ram is good boy\n",
            "Ram is good boy\n",
            "Ram is good boy\n",
            "Ram is good boy\n",
            "Ram is good boy\n",
            "Ram is good boy\n",
            "Ram is good boy\n",
            "Ram is good boy\n",
            "Ram is good boy\n",
            "Ram is good boy\n",
            "Ram is good boy\n",
            "Ram is good boy\n",
            "Ram is good boy\n",
            "Ram is good boy\n",
            "Ram is good boy\n",
            "Ram is good boy\n",
            "Ram is good boy\n",
            "Ram is good boy\n",
            "Ram is good boy\n",
            "Ram is good boy\n",
            "Ram is good boy\n",
            "Ram is good boy\n",
            "Ram is good boy\n",
            "Ram is good boy\n",
            "Ram is good boy\n",
            "Ram is good boy\n",
            "Ram is good boy\n",
            "Ram is good boy\n",
            "Ram is good boy\n",
            "Ram is good boy\n",
            "Ram is good boy\n",
            "Ram is good boy\n",
            "Ram is good boy\n",
            "Ram is good boy\n",
            "Ram is good boy\n",
            "Ram is good boy\n",
            "Ram is good boy\n",
            "Ram is good boy\n",
            "Ram is good boy\n",
            "Ram is good boy\n",
            "Ram is good boy\n",
            "Ram is good boy\n",
            "Ram is good boy\n",
            "Ram is good boy\n",
            "Ram is good boy\n",
            "Ram is good boy\n",
            "Ram is good boy\n",
            "Ram is good boy\n",
            "Ram is good boy\n",
            "Ram is good boy\n",
            "Ram is good boy\n",
            "Ram is good boy\n",
            "Ram is good boy\n",
            "Ram is good boy\n",
            "Ram is good boy\n",
            "Ram is good boy\n",
            "Ram is good boy\n",
            "Ram is good boy\n",
            "Ram is good boy\n",
            "Ram is good boy\n",
            "Ram is good boy\n",
            "Ram is good boy\n",
            "Ram is good boy\n",
            "Ram is good boy\n",
            "Ram is good boy\n",
            "Ram is good boy\n",
            "Ram is good boy\n",
            "Ram is good boy\n",
            "Ram is good boy\n",
            "Ram is good boy\n",
            "Ram is good boy\n",
            "Ram is good boy\n",
            "Ram is good boy\n",
            "Ram is good boy\n",
            "Ram is good boy\n",
            "Ram is good boy\n",
            "Ram is good boy\n",
            "Ram is good boy\n",
            "Ram is good boy\n",
            "Ram is good boy\n",
            "Ram is good boy\n",
            "Ram is good boy\n",
            "Ram is good boy\n",
            "Ram is good boy\n",
            "Ram is good boy\n",
            "Ram is good boy\n",
            "Ram is good boy\n",
            "Ram is good boy\n",
            "Ram is good boy\n",
            "Ram is good boy\n",
            "Ram is good boy\n",
            "Ram is good boy\n",
            "Ram is good boy\n",
            "Ram is good boy\n",
            "Ram is good boy\n",
            "Ram is good boy\n",
            "Ram is good boy\n",
            "Ram is good boy\n",
            "Ram is good boy\n",
            "Ram is good boy\n",
            "Ram is good boy\n",
            "Ram is good boy\n",
            "Ram is good boy\n",
            "Ram is good boy\n",
            "Ram is good boy\n",
            "Ram is good boy\n",
            "Ram is good boy\n",
            "Ram is good boy\n",
            "Ram is good boy\n",
            "Ram is good boy\n",
            "Ram is good boy\n",
            "Ram is good boy\n",
            "Ram is good boy\n",
            "Ram is good boy\n",
            "Ram is good boy\n",
            "Ram is good boy\n",
            "Ram is good boy\n",
            "Ram is good boy\n",
            "Ram is good boy\n",
            "Ram is good boy\n",
            "Ram is good boy\n",
            "Ram is good boy\n",
            "Ram is good boy\n",
            "Ram is good boy\n",
            "Ram is good boy\n",
            "Ram is good boy\n",
            "Ram is good boy\n",
            "Ram is good boy\n",
            "Ram is good boy\n",
            "Ram is good boy\n",
            "Ram is good boy\n",
            "Ram is good boy\n",
            "Ram is good boy\n",
            "Ram is good boy\n",
            "Ram is good boy\n",
            "Ram is good boy\n",
            "Ram is good boy\n",
            "Ram is good boy\n",
            "Ram is good boy\n",
            "Ram is good boy\n",
            "Ram is good boy\n",
            "Ram is good boy\n",
            "Ram is good boy\n",
            "Ram is good boy\n",
            "Ram is good boy\n",
            "Ram is good boy\n",
            "Ram is good boy\n",
            "Ram is good boy\n",
            "Ram is good boy\n",
            "Ram is good boy\n",
            "Ram is good boy\n",
            "Ram is good boy\n",
            "Ram is good boy\n",
            "Ram is good boy\n",
            "Ram is good boy\n",
            "Ram is good boy\n",
            "Ram is good boy\n",
            "Ram is good boy\n",
            "Ram is good boy\n",
            "Ram is good boy\n",
            "Ram is good boy\n",
            "Ram is good boy\n",
            "Ram is good boy\n",
            "Ram is good boy\n",
            "Ram is good boy\n",
            "Ram is good boy\n",
            "Ram is good boy\n",
            "Ram is good boy\n",
            "Ram is good boy\n",
            "Ram is good boy\n",
            "Ram is good boy\n",
            "Ram is good boy\n",
            "Ram is good boy\n",
            "Ram is good boy\n",
            "Ram is good boy\n",
            "Ram is good boy\n",
            "Ram is good boy\n",
            "Ram is good boy\n",
            "Ram is good boy\n",
            "Ram is good boy\n",
            "Ram is good boy\n",
            "Ram is good boy\n",
            "Ram is good boy\n",
            "Ram is good boy\n",
            "Ram is good boy\n",
            "Ram is good boy\n",
            "Ram is good boy\n",
            "Ram is good boy\n",
            "Ram is good boy\n",
            "Ram is good boy\n",
            "Ram is good boy\n",
            "Ram is good boy\n",
            "Ram is good boy\n",
            "Ram is good boy\n",
            "Ram is good boy\n",
            "Ram is good boy\n",
            "Ram is good boy\n",
            "Ram is good boy\n",
            "Ram is good boy\n",
            "Ram is good boy\n",
            "Ram is good boy\n",
            "Ram is good boy\n",
            "Ram is good boy\n",
            "Ram is good boy\n",
            "Ram is good boy\n",
            "Ram is good boy\n",
            "Ram is good boy\n",
            "Ram is good boy\n",
            "Ram is good boy\n",
            "Ram is good boy\n",
            "Ram is good boy\n",
            "Ram is good boy\n",
            "Ram is good boy\n",
            "Ram is good boy\n",
            "Ram is good boy\n",
            "Ram is good boy\n",
            "Ram is good boy\n",
            "Ram is good boy\n",
            "Ram is good boy\n",
            "Ram is good boy\n",
            "Ram is good boy\n",
            "Ram is good boy\n",
            "Ram is good boy\n",
            "Ram is good boy\n",
            "Ram is good boy\n",
            "Ram is good boy\n",
            "Ram is good boy\n",
            "Ram is good boy\n",
            "Ram is good boy\n",
            "Ram is good boy\n",
            "Ram is good boy\n",
            "Ram is good boy\n",
            "Ram is good boy\n",
            "Ram is good boy\n",
            "Ram is good boy\n",
            "Ram is good boy\n",
            "Ram is good boy\n",
            "Ram is good boy\n",
            "Ram is good boy\n",
            "Ram is good boy\n",
            "Ram is good boy\n",
            "Ram is good boy\n",
            "Ram is good boy\n",
            "Ram is good boy\n",
            "Ram is good boy\n",
            "Ram is good boy\n",
            "Ram is good boy\n",
            "Ram is good boy\n",
            "Ram is good boy\n",
            "Ram is good boy\n",
            "Ram is good boy\n",
            "Ram is good boy\n",
            "Ram is good boy\n",
            "Ram is good boy\n",
            "Ram is good boy\n",
            "Ram is good boy\n",
            "Ram is good boy\n",
            "Ram is good boy\n",
            "Ram is good boy\n",
            "Ram is good boy\n",
            "Ram is good boy\n",
            "Ram is good boy\n",
            "Ram is good boy\n",
            "Ram is good boy\n",
            "Ram is good boy\n",
            "Ram is good boy\n",
            "Ram is good boy\n",
            "Ram is good boy\n",
            "Ram is good boy\n",
            "Ram is good boy\n",
            "Ram is good boy\n",
            "Ram is good boy\n",
            "Ram is good boy\n",
            "Ram is good boy\n",
            "Ram is good boy\n",
            "Ram is good boy\n",
            "Ram is good boy\n",
            "Ram is good boy\n",
            "Ram is good boy\n",
            "Ram is good boy\n",
            "Ram is good boy\n",
            "Ram is good boy\n",
            "Ram is good boy\n",
            "Ram is good boy\n",
            "Ram is good boy\n",
            "Ram is good boy\n",
            "Ram is good boy\n",
            "Ram is good boy\n",
            "Ram is good boy\n",
            "Ram is good boy\n",
            "Ram is good boy\n",
            "Ram is good boy\n",
            "Ram is good boy\n",
            "Ram is good boy\n",
            "Ram is good boy\n",
            "Ram is good boy\n",
            "Ram is good boy\n",
            "Ram is good boy\n",
            "Ram is good boy\n",
            "Ram is good boy\n",
            "Ram is good boy\n",
            "Ram is good boy\n",
            "Ram is good boy\n",
            "Ram is good boy\n",
            "Ram is good boy\n",
            "Ram is good boy\n",
            "Ram is good boy\n",
            "Ram is good boy\n",
            "Ram is good boy\n",
            "Ram is good boy\n",
            "Ram is good boy\n",
            "Ram is good boy\n",
            "Ram is good boy\n",
            "Ram is good boy\n",
            "Ram is good boy\n",
            "Ram is good boy\n",
            "Ram is good boy\n",
            "Ram is good boy\n",
            "Ram is good boy\n",
            "Ram is good boy\n",
            "Ram is good boy\n",
            "Ram is good boy\n",
            "Ram is good boy\n",
            "Ram is good boy\n",
            "Ram is good boy\n",
            "Ram is good boy\n",
            "Ram is good boy\n",
            "Ram is good boy\n",
            "Ram is good boy\n",
            "Ram is good boy\n",
            "Ram is good boy\n",
            "Ram is good boy\n",
            "Ram is good boy\n",
            "Ram is good boy\n",
            "Ram is good boy\n",
            "Ram is good boy\n",
            "Ram is good boy\n",
            "Ram is good boy\n",
            "Ram is good boy\n",
            "Ram is good boy\n",
            "Ram is good boy\n",
            "Ram is good boy\n",
            "Ram is good boy\n",
            "Ram is good boy\n",
            "Ram is good boy\n",
            "Ram is good boy\n",
            "Ram is good boy\n",
            "Ram is good boy\n",
            "Ram is good boy\n",
            "Ram is good boy\n",
            "Ram is good boy\n",
            "Ram is good boy\n",
            "Ram is good boy\n",
            "Ram is good boy\n",
            "Ram is good boy\n",
            "Ram is good boy\n",
            "Ram is good boy\n",
            "Ram is good boy\n",
            "Ram is good boy\n",
            "Ram is good boy\n",
            "Ram is good boy\n",
            "Ram is good boy\n",
            "Ram is good boy\n",
            "Ram is good boy\n",
            "Ram is good boy\n",
            "Ram is good boy\n",
            "Ram is good boy\n",
            "Ram is good boy\n",
            "Ram is good boy\n",
            "Ram is good boy\n",
            "Ram is good boy\n",
            "Ram is good boy\n",
            "Ram is good boy\n",
            "Ram is good boy\n",
            "Ram is good boy\n",
            "Ram is good boy\n",
            "Ram is good boy\n",
            "Ram is good boy\n",
            "Ram is good boy\n",
            "Ram is good boy\n",
            "Ram is good boy\n",
            "Ram is good boy\n",
            "Ram is good boy\n",
            "Ram is good boy\n",
            "Ram is good boy\n",
            "Ram is good boy\n",
            "Ram is good boy\n",
            "Ram is good boy\n",
            "Ram is good boy\n",
            "Ram is good boy\n",
            "Ram is good boy\n",
            "Ram is good boy\n",
            "Ram is good boy\n",
            "Ram is good boy\n",
            "Ram is good boy\n",
            "Ram is good boy\n",
            "Ram is good boy\n",
            "Ram is good boy\n",
            "Ram is good boy\n",
            "Ram is good boy\n",
            "Ram is good boy\n",
            "Ram is good boy\n",
            "Ram is good boy\n",
            "Ram is good boy\n",
            "Ram is good boy\n",
            "Ram is good boy\n",
            "Ram is good boy\n",
            "Ram is good boy\n",
            "Ram is good boy\n",
            "Ram is good boy\n",
            "Ram is good boy\n",
            "Ram is good boy\n",
            "Ram is good boy\n",
            "Ram is good boy\n",
            "Ram is good boy\n",
            "Ram is good boy\n",
            "Ram is good boy\n",
            "Ram is good boy\n",
            "Ram is good boy\n",
            "Ram is good boy\n",
            "Ram is good boy\n",
            "Ram is good boy\n",
            "Ram is good boy\n",
            "Ram is good boy\n",
            "Ram is good boy\n",
            "Ram is good boy\n",
            "Ram is good boy\n",
            "Ram is good boy\n",
            "Ram is good boy\n",
            "Ram is good boy\n",
            "Ram is good boy\n",
            "Ram is good boy\n",
            "Ram is good boy\n",
            "Ram is good boy\n",
            "Ram is good boy\n",
            "Ram is good boy\n",
            "Ram is good boy\n",
            "Ram is good boy\n",
            "Ram is good boy\n",
            "Ram is good boy\n",
            "Ram is good boy\n",
            "Ram is good boy\n",
            "Ram is good boy\n",
            "Ram is good boy\n",
            "Ram is good boy\n",
            "Ram is good boy\n",
            "Ram is good boy\n",
            "Ram is good boy\n",
            "Ram is good boy\n",
            "Ram is good boy\n",
            "Ram is good boy\n",
            "Ram is good boy\n",
            "Ram is good boy\n",
            "Ram is good boy\n",
            "Ram is good boy\n",
            "Ram is good boy\n",
            "Ram is good boy\n",
            "Ram is good boy\n",
            "Ram is good boy\n",
            "Ram is good boy\n",
            "Ram is good boy\n",
            "Ram is good boy\n",
            "Ram is good boy\n",
            "Ram is good boy\n",
            "Ram is good boy\n",
            "Ram is good boy\n",
            "Ram is good boy\n",
            "Ram is good boy\n",
            "Ram is good boy\n",
            "Ram is good boy\n",
            "Ram is good boy\n",
            "Ram is good boy\n",
            "Ram is good boy\n",
            "Ram is good boy\n",
            "Ram is good boy\n",
            "Ram is good boy\n",
            "Ram is good boy\n",
            "Ram is good boy\n",
            "Ram is good boy\n",
            "Ram is good boy\n",
            "Ram is good boy\n",
            "Ram is good boy\n",
            "Ram is good boy\n",
            "Ram is good boy\n",
            "Ram is good boy\n",
            "Ram is good boy\n",
            "Ram is good boy\n",
            "Ram is good boy\n",
            "Ram is good boy\n",
            "Ram is good boy\n",
            "Ram is good boy\n",
            "Ram is good boy\n",
            "Ram is good boy\n",
            "Ram is good boy\n",
            "Ram is good boy\n",
            "Ram is good boy\n",
            "Ram is good boy\n",
            "Ram is good boy\n",
            "Ram is good boy\n",
            "Ram is good boy\n",
            "Ram is good boy\n",
            "Ram is good boy\n",
            "Ram is good boy\n",
            "Ram is good boy\n",
            "Ram is good boy\n",
            "Ram is good boy\n",
            "Ram is good boy\n",
            "Ram is good boy\n",
            "Ram is good boy\n",
            "Ram is good boy\n",
            "Ram is good boy\n",
            "Ram is good boy\n",
            "Ram is good boy\n",
            "Ram is good boy\n",
            "Ram is good boy\n",
            "Ram is good boy\n",
            "Ram is good boy\n",
            "Ram is good boy\n",
            "Ram is good boy\n",
            "Ram is good boy\n",
            "Ram is good boy\n",
            "Ram is good boy\n",
            "Ram is good boy\n",
            "Ram is good boy\n",
            "Ram is good boy\n",
            "Ram is good boy\n",
            "Ram is good boy\n",
            "Ram is good boy\n",
            "Ram is good boy\n",
            "Ram is good boy\n",
            "Ram is good boy\n",
            "Ram is good boy\n",
            "Ram is good boy\n",
            "Ram is good boy\n",
            "Ram is good boy\n",
            "Ram is good boy\n",
            "Ram is good boy\n",
            "Ram is good boy\n",
            "Ram is good boy\n",
            "Ram is good boy\n",
            "Ram is good boy\n",
            "Ram is good boy\n",
            "Ram is good boy\n",
            "Ram is good boy\n",
            "Ram is good boy\n",
            "Ram is good boy\n",
            "Ram is good boy\n",
            "Ram is good boy\n",
            "Ram is good boy\n",
            "Ram is good boy\n",
            "Ram is good boy\n",
            "Ram is good boy\n",
            "Ram is good boy\n",
            "Ram is good boy\n",
            "Ram is good boy\n",
            "Ram is good boy\n",
            "Ram is good boy\n",
            "Ram is good boy\n",
            "Ram is good boy\n",
            "Ram is good boy\n",
            "Ram is good boy\n",
            "Ram is good boy\n",
            "Ram is good boy\n",
            "Ram is good boy\n",
            "Ram is good boy\n",
            "Ram is good boy\n",
            "Ram is good boy\n",
            "Ram is good boy\n",
            "Ram is good boy\n",
            "Ram is good boy\n",
            "Ram is good boy\n",
            "Ram is good boy\n",
            "Ram is good boy\n",
            "Ram is good boy\n",
            "Ram is good boy\n",
            "Ram is good boy\n",
            "Ram is good boy\n",
            "Ram is good boy\n",
            "Ram is good boy\n",
            "Ram is good boy\n",
            "Ram is good boy\n",
            "Ram is good boy\n",
            "Ram is good boy\n",
            "Ram is good boy\n",
            "Ram is good boy\n",
            "Ram is good boy\n",
            "Ram is good boy\n",
            "Ram is good boy\n",
            "Ram is good boy\n",
            "Ram is good boy\n",
            "Ram is good boy\n",
            "Ram is good boy\n",
            "Ram is good boy\n",
            "Ram is good boy\n",
            "Ram is good boy\n",
            "Ram is good boy\n",
            "Ram is good boy\n",
            "Ram is good boy\n",
            "Ram is good boy\n",
            "Ram is good boy\n",
            "Ram is good boy\n",
            "Ram is good boy\n",
            "Ram is good boy\n",
            "Ram is good boy\n",
            "Ram is good boy\n",
            "Ram is good boy\n",
            "Ram is good boy\n",
            "Ram is good boy\n",
            "Ram is good boy\n",
            "Ram is good boy\n",
            "Ram is good boy\n",
            "Ram is good boy\n",
            "Ram is good boy\n",
            "Ram is good boy\n",
            "Ram is good boy\n",
            "Ram is good boy\n",
            "Ram is good boy\n",
            "Ram is good boy\n",
            "Ram is good boy\n",
            "Ram is good boy\n",
            "Ram is good boy\n",
            "Ram is good boy\n",
            "Ram is good boy\n",
            "Ram is good boy\n",
            "Ram is good boy\n",
            "Ram is good boy\n",
            "Ram is good boy\n",
            "Ram is good boy\n",
            "Ram is good boy\n",
            "Ram is good boy\n",
            "Ram is good boy\n",
            "Ram is good boy\n",
            "Ram is good boy\n",
            "Ram is good boy\n",
            "Ram is good boy\n",
            "Ram is good boy\n",
            "Ram is good boy\n",
            "Ram is good boy\n",
            "Ram is good boy\n",
            "Ram is good boy\n",
            "Ram is good boy\n",
            "Ram is good boy\n",
            "Ram is good boy\n",
            "Ram is good boy\n",
            "Ram is good boy\n",
            "Ram is good boy\n",
            "Ram is good boy\n",
            "Ram is good boy\n",
            "Ram is good boy\n",
            "Ram is good boy\n",
            "Ram is good boy\n",
            "Ram is good boy\n",
            "Ram is good boy\n",
            "Ram is good boy\n",
            "Ram is good boy\n",
            "Ram is good boy\n",
            "Ram is good boy\n",
            "Ram is good boy\n",
            "Ram is good boy\n",
            "Ram is good boy\n",
            "Ram is good boy\n",
            "Ram is good boy\n",
            "Ram is good boy\n",
            "Ram is good boy\n",
            "Ram is good boy\n",
            "Ram is good boy\n",
            "Ram is good boy\n",
            "Ram is good boy\n",
            "Ram is good boy\n",
            "Ram is good boy\n",
            "Ram is good boy\n",
            "Ram is good boy\n",
            "Ram is good boy\n",
            "Ram is good boy\n",
            "Ram is good boy\n",
            "Ram is good boy\n",
            "Ram is good boy\n",
            "Ram is good boy\n",
            "Ram is good boy\n",
            "Ram is good boy\n",
            "Ram is good boy\n",
            "Ram is good boy\n",
            "Ram is good boy\n",
            "Ram is good boy\n",
            "Ram is good boy\n",
            "Ram is good boy\n",
            "Ram is good boy\n",
            "Ram is good boy\n",
            "Ram is good boy\n",
            "Ram is good boy\n",
            "Ram is good boy\n",
            "Ram is good boy\n",
            "Ram is good boy\n",
            "Ram is good boy\n",
            "Ram is good boy\n",
            "Ram is good boy\n",
            "Ram is good boy\n",
            "Ram is good boy\n",
            "Ram is good boy\n",
            "Ram is good boy\n",
            "Ram is good boy\n",
            "Ram is good boy\n",
            "Ram is good boy\n",
            "Ram is good boy\n",
            "Ram is good boy\n",
            "Ram is good boy\n",
            "Ram is good boy\n",
            "Ram is good boy\n",
            "Ram is good boy\n",
            "Ram is good boy\n",
            "Ram is good boy\n",
            "Ram is good boy\n",
            "Ram is good boy\n",
            "Ram is good boy\n",
            "Ram is good boy\n",
            "Ram is good boy\n",
            "Ram is good boy\n",
            "Ram is good boy\n",
            "Ram is good boy\n",
            "Ram is good boy\n",
            "Ram is good boy\n",
            "Ram is good boy\n",
            "Ram is good boy\n",
            "Ram is good boy\n",
            "Ram is good boy\n",
            "Ram is good boy\n",
            "Ram is good boy\n",
            "Ram is good boy\n",
            "Ram is good boy\n",
            "Ram is good boy\n",
            "Ram is good boy\n",
            "Ram is good boy\n",
            "Ram is good boy\n",
            "Ram is good boy\n",
            "Ram is good boy\n",
            "Ram is good boy\n",
            "Ram is good boy\n",
            "Ram is good boy\n",
            "Ram is good boy\n",
            "Ram is good boy\n",
            "Ram is good boy\n",
            "Ram is good boy\n",
            "Ram is good boy\n",
            "Ram is good boy\n",
            "Ram is good boy\n",
            "Ram is good boy\n",
            "Ram is good boy\n",
            "Ram is good boy\n",
            "Ram is good boy\n",
            "Ram is good boy\n",
            "Ram is good boy\n",
            "Ram is good boy\n",
            "Ram is good boy\n",
            "Ram is good boy\n",
            "Ram is good boy\n",
            "Ram is good boy\n",
            "Ram is good boy\n",
            "Ram is good boy\n",
            "Ram is good boy\n",
            "Ram is good boy\n",
            "Ram is good boy\n",
            "Ram is good boy\n",
            "Ram is good boy\n",
            "Ram is good boy\n",
            "Ram is good boy\n",
            "Ram is good boy\n",
            "Ram is good boy\n",
            "Ram is good boy\n",
            "Ram is good boy\n",
            "Ram is good boy\n",
            "Ram is good boy\n",
            "Ram is good boy\n",
            "Ram is good boy\n",
            "Ram is good boy\n",
            "Ram is good boy\n",
            "Ram is good boy\n",
            "Ram is good boy\n",
            "Ram is good boy\n",
            "Ram is good boy\n",
            "Ram is good boy\n",
            "Ram is good boy\n",
            "Ram is good boy\n",
            "Ram is good boy\n",
            "Ram is good boy\n",
            "Ram is good boy\n",
            "Ram is good boy\n",
            "Ram is good boy\n",
            "Ram is good boy\n",
            "Ram is good boy\n",
            "Ram is good boy\n",
            "Ram is good boy\n",
            "Ram is good boy\n",
            "Ram is good boy\n",
            "Ram is good boy\n",
            "Ram is good boy\n",
            "Ram is good boy\n",
            "Ram is good boy\n",
            "Ram is good boy\n",
            "Ram is good boy\n",
            "Ram is good boy\n",
            "Ram is good boy\n",
            "Ram is good boy\n",
            "Ram is good boy\n",
            "Ram is good boy\n",
            "Ram is good boy\n",
            "Ram is good boy\n",
            "Ram is good boy\n",
            "Ram is good boy\n",
            "Ram is good boy\n",
            "Ram is good boy\n",
            "Ram is good boy\n",
            "Ram is good boy\n",
            "Ram is good boy\n",
            "Ram is good boy\n",
            "Ram is good boy\n",
            "Ram is good boy\n",
            "Ram is good boy\n",
            "Ram is good boy\n",
            "Ram is good boy\n",
            "Ram is good boy\n",
            "Ram is good boy\n",
            "Ram is good boy\n",
            "Ram is good boy\n",
            "Ram is good boy\n",
            "Ram is good boy\n",
            "Ram is good boy\n",
            "Ram is good boy\n",
            "Ram is good boy\n",
            "Ram is good boy\n",
            "Ram is good boy\n",
            "Ram is good boy\n",
            "Ram is good boy\n",
            "Ram is good boy\n",
            "Ram is good boy\n",
            "Ram is good boy\n",
            "Ram is good boy\n",
            "Ram is good boy\n",
            "Ram is good boy\n",
            "Ram is good boy\n",
            "Ram is good boy\n",
            "Ram is good boy\n",
            "Ram is good boy\n",
            "Ram is good boy\n",
            "Ram is good boy\n",
            "Ram is good boy\n",
            "Ram is good boy\n",
            "Ram is good boy\n",
            "Ram is good boy\n",
            "Ram is good boy\n",
            "Ram is good boy\n",
            "Ram is good boy\n",
            "Ram is good boy\n",
            "Ram is good boy\n",
            "Ram is good boy\n",
            "Ram is good boy\n",
            "Ram is good boy\n",
            "Ram is good boy\n",
            "Ram is good boy\n",
            "Ram is good boy\n",
            "Ram is good boy\n",
            "Ram is good boy\n",
            "Ram is good boy\n",
            "Ram is good boy\n",
            "Ram is good boy\n",
            "Ram is good boy\n",
            "Ram is good boy\n",
            "Ram is good boy\n",
            "Ram is good boy\n",
            "Ram is good boy\n",
            "Ram is good boy\n",
            "Ram is good boy\n",
            "Ram is good boy\n",
            "Ram is good boy\n",
            "Ram is good boy\n",
            "Ram is good boy\n",
            "Ram is good boy\n",
            "Ram is good boy\n",
            "Ram is good boy\n",
            "Ram is good boy\n",
            "Ram is good boy\n",
            "Ram is good boy\n",
            "Ram is good boy\n",
            "Ram is good boy\n",
            "Ram is good boy\n",
            "Ram is good boy\n",
            "Ram is good boy\n",
            "Ram is good boy\n",
            "Ram is good boy\n",
            "Ram is good boy\n",
            "Ram is good boy\n",
            "Ram is good boy\n",
            "Ram is good boy\n",
            "Ram is good boy\n",
            "Ram is good boy\n",
            "Ram is good boy\n",
            "Ram is good boy\n",
            "Ram is good boy\n",
            "Ram is good boy\n",
            "Ram is good boy\n",
            "Ram is good boy\n",
            "Ram is good boy\n",
            "Ram is good boy\n",
            "Ram is good boy\n",
            "Ram is good boy\n",
            "Ram is good boy\n",
            "Ram is good boy\n",
            "Ram is good boy\n",
            "Ram is good boy\n",
            "Ram is good boy\n",
            "Ram is good boy\n",
            "Ram is good boy\n",
            "Ram is good boy\n",
            "Ram is good boy\n",
            "Ram is good boy\n",
            "Ram is good boy\n",
            "Ram is good boy\n",
            "Ram is good boy\n",
            "Ram is good boy\n",
            "Ram is good boy\n",
            "Ram is good boy\n",
            "Ram is good boy\n",
            "Ram is good boy\n",
            "Ram is good boy\n",
            "Ram is good boy\n",
            "Ram is good boy\n",
            "Ram is good boy\n",
            "Ram is good boy\n",
            "Ram is good boy\n",
            "Ram is good boy\n",
            "Ram is good boy\n",
            "Ram is good boy\n",
            "Ram is good boy\n",
            "Ram is good boy\n",
            "Ram is good boy\n",
            "Ram is good boy\n",
            "Ram is good boy\n",
            "Ram is good boy\n",
            "Ram is good boy\n",
            "Ram is good boy\n",
            "Ram is good boy\n",
            "Ram is good boy\n",
            "Ram is good boy\n",
            "Ram is good boy\n",
            "Ram is good boy\n",
            "Ram is good boy\n",
            "Ram is good boy\n",
            "Ram is good boy\n",
            "Ram is good boy\n",
            "Ram is good boy\n",
            "Ram is good boy\n",
            "Ram is good boy\n",
            "Ram is good boy\n",
            "Ram is good boy\n",
            "Ram is good boy\n",
            "Ram is good boy\n",
            "Ram is good boy\n",
            "Ram is good boy\n",
            "Ram is good boy\n",
            "Ram is good boy\n",
            "Ram is good boy\n",
            "Ram is good boy\n",
            "Ram is good boy\n",
            "Ram is good boy\n",
            "Ram is good boy\n",
            "Ram is good boy\n",
            "Ram is good boy\n",
            "Ram is good boy\n",
            "Ram is good boy\n",
            "Ram is good boy\n",
            "Ram is good boy\n",
            "Ram is good boy\n",
            "Ram is good boy\n",
            "Ram is good boy\n",
            "Ram is good boy\n",
            "Ram is good boy\n",
            "Ram is good boy\n",
            "Ram is good boy\n",
            "Ram is good boy\n",
            "Ram is good boy\n",
            "Ram is good boy\n",
            "Ram is good boy\n",
            "Ram is good boy\n",
            "Ram is good boy\n",
            "Ram is good boy\n",
            "Ram is good boy\n",
            "Ram is good boy\n",
            "Ram is good boy\n",
            "Ram is good boy\n",
            "Ram is good boy\n",
            "Ram is good boy\n",
            "Ram is good boy\n",
            "Ram is good boy\n",
            "Ram is good boy\n",
            "Ram is good boy\n",
            "Ram is good boy\n",
            "Ram is good boy\n",
            "Ram is good boy\n",
            "Ram is good boy\n",
            "Ram is good boy\n",
            "Ram is good boy\n",
            "Ram is good boy\n",
            "Ram is good boy\n",
            "Ram is good boy\n",
            "Ram is good boy\n",
            "Ram is good boy\n",
            "Ram is good boy\n",
            "Ram is good boy\n",
            "Ram is good boy\n",
            "Ram is good boy\n",
            "Ram is good boy\n",
            "Ram is good boy\n",
            "Ram is good boy\n",
            "Ram is good boy\n",
            "Ram is good boy\n",
            "Ram is good boy\n",
            "Ram is good boy\n",
            "Ram is good boy\n",
            "Ram is good boy\n",
            "Ram is good boy\n",
            "Ram is good boy\n",
            "Ram is good boy\n",
            "Ram is good boy\n",
            "Ram is good boy\n",
            "Ram is good boy\n",
            "Ram is good boy\n",
            "Ram is good boy\n",
            "Ram is good boy\n",
            "Ram is good boy\n",
            "Ram is good boy\n",
            "Ram is good boy\n",
            "Ram is good boy\n",
            "Ram is good boy\n",
            "Ram is good boy\n",
            "Ram is good boy\n",
            "Ram is good boy\n",
            "Ram is good boy\n",
            "Ram is good boy\n",
            "Ram is good boy\n",
            "Ram is good boy\n",
            "Ram is good boy\n",
            "Ram is good boy\n",
            "Ram is good boy\n",
            "Ram is good boy\n",
            "Ram is good boy\n",
            "Ram is good boy\n",
            "Ram is good boy\n",
            "Ram is good boy\n",
            "Ram is good boy\n",
            "Ram is good boy\n",
            "Ram is good boy\n",
            "Ram is good boy\n",
            "Ram is good boy\n",
            "Ram is good boy\n",
            "Ram is good boy\n",
            "Ram is good boy\n",
            "Ram is good boy\n",
            "Ram is good boy\n",
            "Ram is good boy\n",
            "Ram is good boy\n",
            "Ram is good boy\n",
            "Ram is good boy\n",
            "Ram is good boy\n",
            "Ram is good boy\n",
            "Ram is good boy\n",
            "Ram is good boy\n",
            "Ram is good boy\n",
            "Ram is good boy\n",
            "Ram is good boy\n",
            "Ram is good boy\n",
            "Ram is good boy\n",
            "Ram is good boy\n",
            "Ram is good boy\n",
            "Ram is good boy\n",
            "Ram is good boy\n",
            "Ram is good boy\n",
            "Ram is good boy\n",
            "Ram is good boy\n",
            "Ram is good boy\n",
            "Ram is good boy\n",
            "Ram is good boy\n",
            "Ram is good boy\n",
            "Ram is good boy\n",
            "Ram is good boy\n",
            "Ram is good boy\n",
            "Ram is good boy\n",
            "Ram is good boy\n",
            "Ram is good boy\n",
            "Ram is good boy\n",
            "Ram is good boy\n",
            "Ram is good boy\n",
            "Ram is good boy\n",
            "Ram is good boy\n",
            "Ram is good boy\n",
            "Ram is good boy\n",
            "Ram is good boy\n",
            "Ram is good boy\n",
            "Ram is good boy\n",
            "Ram is good boy\n",
            "Ram is good boy\n",
            "Ram is good boy\n",
            "Ram is good boy\n",
            "Ram is good boy\n",
            "Ram is good boy\n",
            "Ram is good boy\n",
            "Ram is good boy\n",
            "Ram is good boy\n",
            "Ram is good boy\n",
            "Ram is good boy\n",
            "Ram is good boy\n",
            "Ram is good boy\n",
            "Ram is good boy\n",
            "Ram is good boy\n",
            "Ram is good boy\n",
            "Ram is good boy\n",
            "Ram is good boy\n",
            "Ram is good boy\n",
            "Ram is good boy\n",
            "Ram is good boy\n",
            "Ram is good boy\n",
            "Ram is good boy\n",
            "Ram is good boy\n",
            "Ram is good boy\n",
            "Ram is good boy\n",
            "Ram is good boy\n",
            "Ram is good boy\n",
            "Ram is good boy\n",
            "Ram is good boy\n",
            "Ram is good boy\n",
            "Ram is good boy\n",
            "Ram is good boy\n",
            "Ram is good boy\n",
            "Ram is good boy\n",
            "Ram is good boy\n",
            "Ram is good boy\n",
            "Ram is good boy\n",
            "Ram is good boy\n",
            "Ram is good boy\n",
            "Ram is good boy\n",
            "Ram is good boy\n",
            "Ram is good boy\n",
            "Ram is good boy\n",
            "Ram is good boy\n",
            "Ram is good boy\n",
            "Ram is good boy\n",
            "Ram is good boy\n",
            "Ram is good boy\n",
            "Ram is good boy\n",
            "Ram is good boy\n",
            "Ram is good boy\n",
            "Ram is good boy\n",
            "Ram is good boy\n",
            "Ram is good boy\n",
            "Ram is good boy\n",
            "Ram is good boy\n",
            "Ram is good boy\n",
            "Ram is good boy\n",
            "Ram is good boy\n",
            "Ram is good boy\n",
            "Ram is good boy\n",
            "Ram is good boy\n",
            "Ram is good boy\n",
            "Ram is good boy\n",
            "Ram is good boy\n",
            "Ram is good boy\n",
            "Ram is good boy\n",
            "Ram is good boy\n",
            "Ram is good boy\n",
            "Ram is good boy\n",
            "Ram is good boy\n",
            "Ram is good boy\n",
            "Ram is good boy\n",
            "Ram is good boy\n",
            "Ram is good boy\n",
            "Ram is good boy\n",
            "Ram is good boy\n",
            "Ram is good boy\n",
            "Ram is good boy\n",
            "Ram is good boy\n",
            "Ram is good boy\n",
            "Ram is good boy\n",
            "Ram is good boy\n",
            "Ram is good boy\n",
            "Ram is good boy\n",
            "Ram is good boy\n",
            "Ram is good boy\n",
            "Ram is good boy\n",
            "Ram is good boy\n",
            "Ram is good boy\n",
            "Ram is good boy\n",
            "Ram is good boy\n",
            "Ram is good boy\n",
            "Ram is good boy\n",
            "Ram is good boy\n",
            "Ram is good boy\n",
            "Ram is good boy\n",
            "Ram is good boy\n",
            "Ram is good boy\n",
            "Ram is good boy\n",
            "Ram is good boy\n",
            "Ram is good boy\n",
            "Ram is good boy\n",
            "Ram is good boy\n",
            "Ram is good boy\n",
            "Ram is good boy\n",
            "Ram is good boy\n",
            "Ram is good boy\n",
            "Ram is good boy\n",
            "Ram is good boy\n",
            "Ram is good boy\n",
            "Ram is good boy\n",
            "Ram is good boy\n",
            "Ram is good boy\n",
            "Ram is good boy\n",
            "Ram is good boy\n",
            "Ram is good boy\n",
            "Ram is good boy\n",
            "Ram is good boy\n",
            "Ram is good boy\n",
            "Ram is good boy\n",
            "Ram is good boy\n",
            "Ram is good boy\n",
            "Ram is good boy\n",
            "Ram is good boy\n",
            "Ram is good boy\n",
            "Ram is good boy\n",
            "Ram is good boy\n",
            "Ram is good boy\n",
            "Ram is good boy\n",
            "Ram is good boy\n",
            "Ram is good boy\n",
            "Ram is good boy\n",
            "Ram is good boy\n",
            "Ram is good boy\n",
            "Ram is good boy\n",
            "Ram is good boy\n",
            "Ram is good boy\n",
            "Ram is good boy\n",
            "Ram is good boy\n",
            "Ram is good boy\n",
            "Ram is good boy\n",
            "Ram is good boy\n",
            "Ram is good boy\n",
            "Ram is good boy\n",
            "Ram is good boy\n",
            "Ram is good boy\n",
            "Ram is good boy\n",
            "Ram is good boy\n",
            "Ram is good boy\n",
            "Ram is good boy\n",
            "Ram is good boy\n",
            "Ram is good boy\n",
            "Ram is good boy\n",
            "Ram is good boy\n",
            "Ram is good boy\n",
            "Ram is good boy\n",
            "Ram is good boy\n",
            "Ram is good boy\n",
            "Ram is good boy\n",
            "Ram is good boy\n",
            "Ram is good boy\n",
            "Ram is good boy\n",
            "Ram is good boy\n",
            "Ram is good boy\n",
            "Ram is good boy\n",
            "Ram is good boy\n",
            "Ram is good boy\n",
            "Ram is good boy\n",
            "Ram is good boy\n",
            "Ram is good boy\n",
            "Ram is good boy\n",
            "Ram is good boy\n",
            "Ram is good boy\n",
            "Ram is good boy\n",
            "Ram is good boy\n",
            "Ram is good boy\n",
            "Ram is good boy\n",
            "Ram is good boy\n",
            "Ram is good boy\n",
            "Ram is good boy\n",
            "Ram is good boy\n",
            "Ram is good boy\n",
            "Ram is good boy\n",
            "Ram is good boy\n",
            "Ram is good boy\n",
            "Ram is good boy\n",
            "Ram is good boy\n",
            "Ram is good boy\n",
            "Ram is good boy\n",
            "Ram is good boy\n",
            "Ram is good boy\n",
            "Ram is good boy\n",
            "Ram is good boy\n",
            "Ram is good boy\n",
            "Ram is good boy\n",
            "Ram is good boy\n",
            "Ram is good boy\n",
            "Ram is good boy\n",
            "Ram is good boy\n",
            "Ram is good boy\n",
            "Ram is good boy\n",
            "Ram is good boy\n",
            "Ram is good boy\n",
            "Ram is good boy\n",
            "Ram is good boy\n",
            "Ram is good boy\n",
            "Ram is good boy\n",
            "Ram is good boy\n",
            "Ram is good boy\n",
            "Ram is good boy\n",
            "Ram is good boy\n",
            "Ram is good boy\n",
            "Ram is good boy\n",
            "Ram is good boy\n",
            "Ram is good boy\n",
            "Ram is good boy\n",
            "Ram is good boy\n",
            "Ram is good boy\n",
            "Ram is good boy\n",
            "Ram is good boy\n",
            "Ram is good boy\n",
            "Ram is good boy\n",
            "Ram is good boy\n",
            "Ram is good boy\n",
            "Ram is good boy\n",
            "Ram is good boy\n",
            "Ram is good boy\n",
            "Ram is good boy\n",
            "Ram is good boy\n",
            "Ram is good boy\n",
            "Ram is good boy\n",
            "Ram is good boy\n",
            "Ram is good boy\n",
            "Ram is good boy\n",
            "Ram is good boy\n",
            "Ram is good boy\n",
            "Ram is good boy\n",
            "Ram is good boy\n",
            "Ram is good boy\n",
            "Ram is good boy\n",
            "Ram is good boy\n",
            "Ram is good boy\n",
            "Ram is good boy\n",
            "Ram is good boy\n",
            "Ram is good boy\n",
            "Ram is good boy\n",
            "Ram is good boy\n",
            "Ram is good boy\n",
            "Ram is good boy\n",
            "Ram is good boy\n",
            "Ram is good boy\n",
            "Ram is good boy\n",
            "Ram is good boy\n",
            "Ram is good boy\n",
            "Ram is good boy\n",
            "Ram is good boy\n",
            "Ram is good boy\n",
            "Ram is good boy\n",
            "Ram is good boy\n",
            "Ram is good boy\n",
            "Ram is good boy\n",
            "Ram is good boy\n",
            "Ram is good boy\n",
            "Ram is good boy\n",
            "Ram is good boy\n",
            "Ram is good boy\n",
            "Ram is good boy\n",
            "Ram is good boy\n",
            "Ram is good boy\n",
            "Ram is good boy\n",
            "Ram is good boy\n",
            "Ram is good boy\n",
            "Ram is good boy\n",
            "Ram is good boy\n",
            "Ram is good boy\n",
            "Ram is good boy\n",
            "Ram is good boy\n",
            "Ram is good boy\n",
            "Ram is good boy\n",
            "Ram is good boy\n",
            "Ram is good boy\n",
            "Ram is good boy\n",
            "Ram is good boy\n",
            "Ram is good boy\n",
            "Ram is good boy\n",
            "Ram is good boy\n",
            "Ram is good boy\n",
            "Ram is good boy\n",
            "Ram is good boy\n",
            "Ram is good boy\n",
            "Ram is good boy\n",
            "Ram is good boy\n",
            "Ram is good boy\n",
            "Ram is good boy\n",
            "Ram is good boy\n",
            "Ram is good boy\n",
            "Ram is good boy\n",
            "Ram is good boy\n",
            "Ram is good boy\n",
            "Ram is good boy\n",
            "Ram is good boy\n",
            "Ram is good boy\n",
            "Ram is good boy\n",
            "Ram is good boy\n",
            "Ram is good boy\n",
            "Ram is good boy\n",
            "Ram is good boy\n",
            "Ram is good boy\n",
            "Ram is good boy\n",
            "Ram is good boy\n",
            "Ram is good boy\n",
            "Ram is good boy\n",
            "Ram is good boy\n",
            "Ram is good boy\n",
            "Ram is good boy\n",
            "Ram is good boy\n",
            "Ram is good boy\n",
            "Ram is good boy\n",
            "Ram is good boy\n",
            "Ram is good boy\n",
            "Ram is good boy\n",
            "Ram is good boy\n",
            "Ram is good boy\n",
            "Ram is good boy\n",
            "Ram is good boy\n",
            "Ram is good boy\n",
            "Ram is good boy\n",
            "Ram is good boy\n",
            "Ram is good boy\n",
            "Ram is good boy\n",
            "Ram is good boy\n",
            "Ram is good boy\n",
            "Ram is good boy\n",
            "Ram is good boy\n",
            "Ram is good boy\n",
            "Ram is good boy\n",
            "Ram is good boy\n",
            "Ram is good boy\n",
            "Ram is good boy\n",
            "Ram is good boy\n",
            "Ram is good boy\n",
            "Ram is good boy\n",
            "Ram is good boy\n",
            "Ram is good boy\n",
            "Ram is good boy\n",
            "Ram is good boy\n",
            "Ram is good boy\n",
            "Ram is good boy\n",
            "Ram is good boy\n",
            "Ram is good boy\n",
            "Ram is good boy\n",
            "Ram is good boy\n",
            "Ram is good boy\n",
            "Ram is good boy\n",
            "Ram is good boy\n",
            "Ram is good boy\n",
            "Ram is good boy\n",
            "Ram is good boy\n",
            "Ram is good boy\n",
            "Ram is good boy\n",
            "Ram is good boy\n",
            "Ram is good boy\n",
            "Ram is good boy\n",
            "Ram is good boy\n",
            "Ram is good boy\n",
            "Ram is good boy\n",
            "Ram is good boy\n",
            "Ram is good boy\n",
            "Ram is good boy\n",
            "Ram is good boy\n",
            "Ram is good boy\n",
            "Ram is good boy\n",
            "Ram is good boy\n",
            "Ram is good boy\n",
            "Ram is good boy\n",
            "Ram is good boy\n",
            "Ram is good boy\n",
            "Ram is good boy\n",
            "Ram is good boy\n",
            "Ram is good boy\n",
            "Ram is good boy\n",
            "Ram is good boy\n",
            "Ram is good boy\n",
            "Ram is good boy\n",
            "Ram is good boy\n",
            "Ram is good boy\n",
            "Ram is good boy\n",
            "Ram is good boy\n",
            "Ram is good boy\n",
            "Ram is good boy\n",
            "Ram is good boy\n",
            "Ram is good boy\n",
            "Ram is good boy\n",
            "Ram is good boy\n",
            "Ram is good boy\n",
            "Ram is good boy\n",
            "Ram is good boy\n",
            "Ram is good boy\n",
            "Ram is good boy\n",
            "Ram is good boy\n",
            "Ram is good boy\n",
            "Ram is good boy\n",
            "Ram is good boy\n",
            "Ram is good boy\n",
            "Ram is good boy\n",
            "Ram is good boy\n",
            "Ram is good boy\n",
            "Ram is good boy\n",
            "Ram is good boy\n",
            "Ram is good boy\n",
            "Ram is good boy\n",
            "Ram is good boy\n",
            "Ram is good boy\n",
            "Ram is good boy\n",
            "Ram is good boy\n",
            "Ram is good boy\n",
            "Ram is good boy\n",
            "Ram is good boy\n",
            "Ram is good boy\n",
            "Ram is good boy\n",
            "Ram is good boy\n",
            "Ram is good boy\n",
            "Ram is good boy\n",
            "Ram is good boy\n",
            "Ram is good boy\n",
            "Ram is good boy\n",
            "Ram is good boy\n",
            "Ram is good boy\n",
            "Ram is good boy\n",
            "Ram is good boy\n",
            "Ram is good boy\n",
            "Ram is good boy\n",
            "Ram is good boy\n",
            "Ram is good boy\n",
            "Ram is good boy\n",
            "Ram is good boy\n",
            "Ram is good boy\n",
            "Ram is good boy\n",
            "Ram is good boy\n",
            "Ram is good boy\n",
            "Ram is good boy\n",
            "Ram is good boy\n",
            "Ram is good boy\n",
            "Ram is good boy\n",
            "Ram is good boy\n",
            "Ram is good boy\n",
            "Ram is good boy\n",
            "Ram is good boy\n",
            "Ram is good boy\n",
            "Ram is good boy\n",
            "Ram is good boy\n",
            "Ram is good boy\n",
            "Ram is good boy\n",
            "Ram is good boy\n",
            "Ram is good boy\n",
            "Ram is good boy\n",
            "Ram is good boy\n",
            "Ram is good boy\n",
            "Ram is good boy\n",
            "Ram is good boy\n",
            "Ram is good boy\n",
            "Ram is good boy\n",
            "Ram is good boy\n",
            "Ram is good boy\n",
            "Ram is good boy\n",
            "Ram is good boy\n",
            "Ram is good boy\n",
            "Ram is good boy\n",
            "Ram is good boy\n",
            "Ram is good boy\n",
            "Ram is good boy\n",
            "Ram is good boy\n",
            "Ram is good boy\n",
            "Ram is good boy\n",
            "Ram is good boy\n",
            "Ram is good boy\n",
            "Ram is good boy\n",
            "Ram is good boy\n",
            "Ram is good boy\n",
            "Ram is good boy\n",
            "Ram is good boy\n",
            "Ram is good boy\n",
            "Ram is good boy\n",
            "Ram is good boy\n",
            "Ram is good boy\n",
            "Ram is good boy\n",
            "Ram is good boy\n",
            "Ram is good boy\n",
            "Ram is good boy\n",
            "Ram is good boy\n",
            "Ram is good boy\n",
            "Ram is good boy\n",
            "Ram is good boy\n",
            "Ram is good boy\n",
            "Ram is good boy\n",
            "Ram is good boy\n",
            "Ram is good boy\n",
            "Ram is good boy\n",
            "Ram is good boy\n",
            "Ram is good boy\n",
            "Ram is good boy\n",
            "Ram is good boy\n",
            "Ram is good boy\n",
            "Ram is good boy\n",
            "Ram is good boy\n",
            "Ram is good boy\n",
            "Ram is good boy\n",
            "Ram is good boy\n",
            "Ram is good boy\n",
            "Ram is good boy\n",
            "Ram is good boy\n",
            "Ram is good boy\n",
            "Ram is good boy\n",
            "Ram is good boy\n",
            "Ram is good boy\n",
            "Ram is good boy\n",
            "Ram is good boy\n",
            "Ram is good boy\n",
            "Ram is good boy\n",
            "Ram is good boy\n",
            "Ram is good boy\n",
            "Ram is good boy\n",
            "Ram is good boy\n",
            "Ram is good boy\n",
            "Ram is good boy\n",
            "Ram is good boy\n",
            "Ram is good boy\n",
            "Ram is good boy\n",
            "Ram is good boy\n",
            "Ram is good boy\n",
            "Ram is good boy\n",
            "Ram is good boy\n",
            "Ram is good boy\n",
            "Ram is good boy\n",
            "Ram is good boy\n",
            "Ram is good boy\n",
            "Ram is good boy\n",
            "Ram is good boy\n",
            "Ram is good boy\n",
            "Ram is good boy\n",
            "Ram is good boy\n",
            "Ram is good boy\n",
            "Ram is good boy\n",
            "Ram is good boy\n",
            "Ram is good boy\n",
            "Ram is good boy\n",
            "Ram is good boy\n",
            "Ram is good boy\n",
            "Ram is good boy\n",
            "Ram is good boy\n",
            "Ram is good boy\n",
            "Ram is good boy\n",
            "Ram is good boy\n",
            "Ram is good boy\n",
            "Ram is good boy\n",
            "Ram is good boy\n",
            "Ram is good boy\n",
            "Ram is good boy\n",
            "Ram is good boy\n",
            "Ram is good boy\n",
            "Ram is good boy\n",
            "Ram is good boy\n",
            "Ram is good boy\n",
            "Ram is good boy\n",
            "Ram is good boy\n",
            "Ram is good boy\n",
            "Ram is good boy\n",
            "Ram is good boy\n",
            "Ram is good boy\n",
            "Ram is good boy\n",
            "Ram is good boy\n",
            "Ram is good boy\n",
            "Ram is good boy\n",
            "Ram is good boy\n",
            "Ram is good boy\n",
            "Ram is good boy\n",
            "Ram is good boy\n",
            "Ram is good boy\n",
            "Ram is good boy\n",
            "Ram is good boy\n",
            "Ram is good boy\n",
            "Ram is good boy\n",
            "Ram is good boy\n",
            "Ram is good boy\n",
            "Ram is good boy\n",
            "Ram is good boy\n",
            "Ram is good boy\n",
            "Ram is good boy\n",
            "Ram is good boy\n",
            "Ram is good boy\n",
            "Ram is good boy\n",
            "Ram is good boy\n",
            "Ram is good boy\n",
            "Ram is good boy\n",
            "Ram is good boy\n",
            "Ram is good boy\n",
            "Ram is good boy\n",
            "Ram is good boy\n",
            "Ram is good boy\n",
            "Ram is good boy\n",
            "Ram is good boy\n",
            "Ram is good boy\n",
            "Ram is good boy\n",
            "Ram is good boy\n",
            "Ram is good boy\n",
            "Ram is good boy\n",
            "Ram is good boy\n",
            "Ram is good boy\n",
            "Ram is good boy\n",
            "Ram is good boy\n",
            "Ram is good boy\n",
            "Ram is good boy\n",
            "Ram is good boy\n",
            "Ram is good boy\n",
            "Ram is good boy\n",
            "Ram is good boy\n",
            "Ram is good boy\n",
            "Ram is good boy\n",
            "Ram is good boy\n",
            "Ram is good boy\n",
            "Ram is good boy\n",
            "Ram is good boy\n",
            "Ram is good boy\n",
            "Ram is good boy\n",
            "Ram is good boy\n",
            "Ram is good boy\n",
            "Ram is good boy\n",
            "Ram is good boy\n",
            "Ram is good boy\n",
            "Ram is good boy\n",
            "Ram is good boy\n",
            "Ram is good boy\n",
            "Ram is good boy\n",
            "Ram is good boy\n",
            "Ram is good boy\n",
            "Ram is good boy\n",
            "Ram is good boy\n",
            "Ram is good boy\n",
            "Ram is good boy\n",
            "Ram is good boy\n",
            "Ram is good boy\n",
            "Ram is good boy\n",
            "Ram is good boy\n",
            "Ram is good boy\n",
            "Ram is good boy\n",
            "Ram is good boy\n",
            "Ram is good boy\n",
            "Ram is good boy\n",
            "Ram is good boy\n",
            "Ram is good boy\n",
            "Ram is good boy\n",
            "Ram is good boy\n",
            "Ram is good boy\n",
            "Ram is good boy\n",
            "Ram is good boy\n",
            "Ram is good boy\n",
            "Ram is good boy\n",
            "Ram is good boy\n",
            "Ram is good boy\n",
            "Ram is good boy\n",
            "Ram is good boy\n",
            "Ram is good boy\n",
            "Ram is good boy\n",
            "Ram is good boy\n",
            "Ram is good boy\n",
            "Ram is good boy\n",
            "Ram is good boy\n",
            "Ram is good boy\n",
            "Ram is good boy\n",
            "Ram is good boy\n",
            "Ram is good boy\n",
            "Ram is good boy\n",
            "Ram is good boy\n",
            "Ram is good boy\n",
            "Ram is good boy\n",
            "Ram is good boy\n",
            "Ram is good boy\n",
            "Ram is good boy\n",
            "Ram is good boy\n",
            "Ram is good boy\n",
            "Ram is good boy\n",
            "Ram is good boy\n",
            "Ram is good boy\n",
            "Ram is good boy\n",
            "Ram is good boy\n",
            "Ram is good boy\n",
            "Ram is good boy\n",
            "Ram is good boy\n",
            "Ram is good boy\n",
            "Ram is good boy\n",
            "Ram is good boy\n",
            "Ram is good boy\n",
            "Ram is good boy\n",
            "Ram is good boy\n",
            "Ram is good boy\n",
            "Ram is good boy\n",
            "Ram is good boy\n",
            "Ram is good boy\n",
            "Ram is good boy\n",
            "Ram is good boy\n",
            "Ram is good boy\n",
            "Ram is good boy\n",
            "Ram is good boy\n",
            "Ram is good boy\n",
            "Ram is good boy\n",
            "Ram is good boy\n",
            "Ram is good boy\n",
            "Ram is good boy\n",
            "Ram is good boy\n",
            "Ram is good boy\n",
            "Ram is good boy\n",
            "Ram is good boy\n",
            "Ram is good boy\n",
            "Ram is good boy\n",
            "Ram is good boy\n",
            "Ram is good boy\n",
            "Ram is good boy\n",
            "Ram is good boy\n",
            "Ram is good boy\n",
            "Ram is good boy\n",
            "Ram is good boy\n",
            "Ram is good boy\n",
            "Ram is good boy\n",
            "Ram is good boy\n",
            "Ram is good boy\n",
            "Ram is good boy\n",
            "Ram is good boy\n",
            "Ram is good boy\n",
            "Ram is good boy\n",
            "Ram is good boy\n",
            "Ram is good boy\n",
            "Ram is good boy\n",
            "Ram is good boy\n",
            "Ram is good boy\n",
            "Ram is good boy\n",
            "Ram is good boy\n",
            "Ram is good boy\n",
            "Ram is good boy\n",
            "Ram is good boy\n",
            "Ram is good boy\n",
            "Ram is good boy\n",
            "Ram is good boy\n",
            "Ram is good boy\n",
            "Ram is good boy\n",
            "Ram is good boy\n",
            "Ram is good boy\n",
            "Ram is good boy\n",
            "Ram is good boy\n",
            "Ram is good boy\n",
            "Ram is good boy\n",
            "Ram is good boy\n",
            "Ram is good boy\n",
            "Ram is good boy\n",
            "Ram is good boy\n",
            "Ram is good boy\n",
            "Ram is good boy\n",
            "Ram is good boy\n",
            "Ram is good boy\n",
            "Ram is good boy\n",
            "Ram is good boy\n",
            "Ram is good boy\n",
            "Ram is good boy\n",
            "Ram is good boy\n",
            "Ram is good boy\n",
            "Ram is good boy\n",
            "Ram is good boy\n",
            "Ram is good boy\n",
            "Ram is good boy\n",
            "Ram is good boy\n",
            "Ram is good boy\n",
            "Ram is good boy\n",
            "Ram is good boy\n",
            "Ram is good boy\n",
            "Ram is good boy\n",
            "Ram is good boy\n",
            "Ram is good boy\n",
            "Ram is good boy\n",
            "Ram is good boy\n",
            "Ram is good boy\n",
            "Ram is good boy\n",
            "Ram is good boy\n",
            "Ram is good boy\n",
            "Ram is good boy\n",
            "Ram is good boy\n",
            "Ram is good boy\n",
            "Ram is good boy\n",
            "Ram is good boy\n",
            "Ram is good boy\n",
            "Ram is good boy\n",
            "Ram is good boy\n",
            "Ram is good boy\n",
            "Ram is good boy\n",
            "Ram is good boy\n",
            "Ram is good boy\n",
            "Ram is good boy\n",
            "Ram is good boy\n",
            "Ram is good boy\n",
            "Ram is good boy\n",
            "Ram is good boy\n",
            "Ram is good boy\n",
            "Ram is good boy\n",
            "Ram is good boy\n",
            "Ram is good boy\n",
            "Ram is good boy\n",
            "Ram is good boy\n",
            "Ram is good boy\n",
            "Ram is good boy\n",
            "Ram is good boy\n",
            "Ram is good boy\n",
            "Ram is good boy\n",
            "Ram is good boy\n",
            "Ram is good boy\n",
            "Ram is good boy\n",
            "Ram is good boy\n",
            "Ram is good boy\n",
            "Ram is good boy\n",
            "Ram is good boy\n",
            "Ram is good boy\n",
            "Ram is good boy\n",
            "Ram is good boy\n",
            "Ram is good boy\n",
            "Ram is good boy\n",
            "Ram is good boy\n",
            "Ram is good boy\n",
            "Ram is good boy\n",
            "Ram is good boy\n",
            "Ram is good boy\n",
            "Ram is good boy\n",
            "Ram is good boy\n",
            "Ram is good boy\n",
            "Ram is good boy\n",
            "Ram is good boy\n",
            "Ram is good boy\n",
            "Ram is good boy\n",
            "Ram is good boy\n",
            "Ram is good boy\n",
            "Ram is good boy\n",
            "Ram is good boy\n",
            "Ram is good boy\n",
            "Ram is good boy\n",
            "Ram is good boy\n",
            "Ram is good boy\n",
            "Ram is good boy\n",
            "Ram is good boy\n",
            "Ram is good boy\n",
            "Ram is good boy\n",
            "Ram is good boy\n",
            "Ram is good boy\n",
            "Ram is good boy\n",
            "Ram is good boy\n",
            "Ram is good boy\n",
            "Ram is good boy\n",
            "Ram is good boy\n",
            "Ram is good boy\n",
            "Ram is good boy\n",
            "Ram is good boy\n",
            "Ram is good boy\n",
            "Ram is good boy\n",
            "Ram is good boy\n",
            "Ram is good boy\n",
            "Ram is good boy\n",
            "Ram is good boy\n",
            "Ram is good boy\n",
            "Ram is good boy\n",
            "Ram is good boy\n",
            "Ram is good boy\n",
            "Ram is good boy\n",
            "Ram is good boy\n",
            "Ram is good boy\n",
            "Ram is good boy\n",
            "Ram is good boy\n",
            "Ram is good boy\n",
            "Ram is good boy\n",
            "Ram is good boy\n",
            "Ram is good boy\n",
            "Ram is good boy\n",
            "Ram is good boy\n"
          ]
        },
        {
          "ename": "KeyboardInterrupt",
          "evalue": "ignored",
          "output_type": "error",
          "traceback": [
            "\u001b[0;31m---------------------------------------------------------------------------\u001b[0m",
            "\u001b[0;31mKeyboardInterrupt\u001b[0m                         Traceback (most recent call last)",
            "\u001b[0;32m<ipython-input-7-111f0db3e49a>\u001b[0m in \u001b[0;36m<module>\u001b[0;34m\u001b[0m\n\u001b[1;32m      1\u001b[0m \u001b[0mnum\u001b[0m\u001b[0;34m=\u001b[0m\u001b[0;36m1\u001b[0m\u001b[0;34m\u001b[0m\u001b[0;34m\u001b[0m\u001b[0m\n\u001b[1;32m      2\u001b[0m \u001b[0;32mwhile\u001b[0m \u001b[0mnum\u001b[0m\u001b[0;34m<=\u001b[0m\u001b[0;36m10\u001b[0m\u001b[0;34m:\u001b[0m\u001b[0;34m\u001b[0m\u001b[0;34m\u001b[0m\u001b[0m\n\u001b[0;32m----> 3\u001b[0;31m   \u001b[0mprint\u001b[0m\u001b[0;34m(\u001b[0m\u001b[0;34m'Ram is good boy'\u001b[0m\u001b[0;34m)\u001b[0m\u001b[0;34m\u001b[0m\u001b[0;34m\u001b[0m\u001b[0m\n\u001b[0m\u001b[1;32m      4\u001b[0m \u001b[0;34m\u001b[0m\u001b[0m\n",
            "\u001b[0;32m/usr/local/lib/python3.8/dist-packages/ipykernel/iostream.py\u001b[0m in \u001b[0;36mwrite\u001b[0;34m(self, string)\u001b[0m\n\u001b[1;32m    402\u001b[0m             \u001b[0mis_child\u001b[0m \u001b[0;34m=\u001b[0m \u001b[0;34m(\u001b[0m\u001b[0;32mnot\u001b[0m \u001b[0mself\u001b[0m\u001b[0;34m.\u001b[0m\u001b[0m_is_master_process\u001b[0m\u001b[0;34m(\u001b[0m\u001b[0;34m)\u001b[0m\u001b[0;34m)\u001b[0m\u001b[0;34m\u001b[0m\u001b[0;34m\u001b[0m\u001b[0m\n\u001b[1;32m    403\u001b[0m             \u001b[0;31m# only touch the buffer in the IO thread to avoid races\u001b[0m\u001b[0;34m\u001b[0m\u001b[0;34m\u001b[0m\u001b[0;34m\u001b[0m\u001b[0m\n\u001b[0;32m--> 404\u001b[0;31m             \u001b[0mself\u001b[0m\u001b[0;34m.\u001b[0m\u001b[0mpub_thread\u001b[0m\u001b[0;34m.\u001b[0m\u001b[0mschedule\u001b[0m\u001b[0;34m(\u001b[0m\u001b[0;32mlambda\u001b[0m \u001b[0;34m:\u001b[0m \u001b[0mself\u001b[0m\u001b[0;34m.\u001b[0m\u001b[0m_buffer\u001b[0m\u001b[0;34m.\u001b[0m\u001b[0mwrite\u001b[0m\u001b[0;34m(\u001b[0m\u001b[0mstring\u001b[0m\u001b[0;34m)\u001b[0m\u001b[0;34m)\u001b[0m\u001b[0;34m\u001b[0m\u001b[0;34m\u001b[0m\u001b[0m\n\u001b[0m\u001b[1;32m    405\u001b[0m             \u001b[0;32mif\u001b[0m \u001b[0mis_child\u001b[0m\u001b[0;34m:\u001b[0m\u001b[0;34m\u001b[0m\u001b[0;34m\u001b[0m\u001b[0m\n\u001b[1;32m    406\u001b[0m                 \u001b[0;31m# mp.Pool cannot be trusted to flush promptly (or ever),\u001b[0m\u001b[0;34m\u001b[0m\u001b[0;34m\u001b[0m\u001b[0;34m\u001b[0m\u001b[0m\n",
            "\u001b[0;32m/usr/local/lib/python3.8/dist-packages/ipykernel/iostream.py\u001b[0m in \u001b[0;36mschedule\u001b[0;34m(self, f)\u001b[0m\n\u001b[1;32m    203\u001b[0m             \u001b[0mself\u001b[0m\u001b[0;34m.\u001b[0m\u001b[0m_events\u001b[0m\u001b[0;34m.\u001b[0m\u001b[0mappend\u001b[0m\u001b[0;34m(\u001b[0m\u001b[0mf\u001b[0m\u001b[0;34m)\u001b[0m\u001b[0;34m\u001b[0m\u001b[0;34m\u001b[0m\u001b[0m\n\u001b[1;32m    204\u001b[0m             \u001b[0;31m# wake event thread (message content is ignored)\u001b[0m\u001b[0;34m\u001b[0m\u001b[0;34m\u001b[0m\u001b[0;34m\u001b[0m\u001b[0m\n\u001b[0;32m--> 205\u001b[0;31m             \u001b[0mself\u001b[0m\u001b[0;34m.\u001b[0m\u001b[0m_event_pipe\u001b[0m\u001b[0;34m.\u001b[0m\u001b[0msend\u001b[0m\u001b[0;34m(\u001b[0m\u001b[0;34mb''\u001b[0m\u001b[0;34m)\u001b[0m\u001b[0;34m\u001b[0m\u001b[0;34m\u001b[0m\u001b[0m\n\u001b[0m\u001b[1;32m    206\u001b[0m         \u001b[0;32melse\u001b[0m\u001b[0;34m:\u001b[0m\u001b[0;34m\u001b[0m\u001b[0;34m\u001b[0m\u001b[0m\n\u001b[1;32m    207\u001b[0m             \u001b[0mf\u001b[0m\u001b[0;34m(\u001b[0m\u001b[0;34m)\u001b[0m\u001b[0;34m\u001b[0m\u001b[0;34m\u001b[0m\u001b[0m\n",
            "\u001b[0;32m/usr/local/lib/python3.8/dist-packages/zmq/sugar/socket.py\u001b[0m in \u001b[0;36msend\u001b[0;34m(self, data, flags, copy, track, routing_id, group)\u001b[0m\n\u001b[1;32m    616\u001b[0m                 )\n\u001b[1;32m    617\u001b[0m             \u001b[0mdata\u001b[0m\u001b[0;34m.\u001b[0m\u001b[0mgroup\u001b[0m \u001b[0;34m=\u001b[0m \u001b[0mgroup\u001b[0m\u001b[0;34m\u001b[0m\u001b[0;34m\u001b[0m\u001b[0m\n\u001b[0;32m--> 618\u001b[0;31m         \u001b[0;32mreturn\u001b[0m \u001b[0msuper\u001b[0m\u001b[0;34m(\u001b[0m\u001b[0;34m)\u001b[0m\u001b[0;34m.\u001b[0m\u001b[0msend\u001b[0m\u001b[0;34m(\u001b[0m\u001b[0mdata\u001b[0m\u001b[0;34m,\u001b[0m \u001b[0mflags\u001b[0m\u001b[0;34m=\u001b[0m\u001b[0mflags\u001b[0m\u001b[0;34m,\u001b[0m \u001b[0mcopy\u001b[0m\u001b[0;34m=\u001b[0m\u001b[0mcopy\u001b[0m\u001b[0;34m,\u001b[0m \u001b[0mtrack\u001b[0m\u001b[0;34m=\u001b[0m\u001b[0mtrack\u001b[0m\u001b[0;34m)\u001b[0m\u001b[0;34m\u001b[0m\u001b[0;34m\u001b[0m\u001b[0m\n\u001b[0m\u001b[1;32m    619\u001b[0m \u001b[0;34m\u001b[0m\u001b[0m\n\u001b[1;32m    620\u001b[0m     def send_multipart(\n",
            "\u001b[0;32mzmq/backend/cython/socket.pyx\u001b[0m in \u001b[0;36mzmq.backend.cython.socket.Socket.send\u001b[0;34m()\u001b[0m\n",
            "\u001b[0;32mzmq/backend/cython/socket.pyx\u001b[0m in \u001b[0;36mzmq.backend.cython.socket.Socket.send\u001b[0;34m()\u001b[0m\n",
            "\u001b[0;32mzmq/backend/cython/socket.pyx\u001b[0m in \u001b[0;36mzmq.backend.cython.socket._send_copy\u001b[0;34m()\u001b[0m\n",
            "\u001b[0;32m/usr/local/lib/python3.8/dist-packages/zmq/backend/cython/checkrc.pxd\u001b[0m in \u001b[0;36mzmq.backend.cython.checkrc._check_rc\u001b[0;34m()\u001b[0m\n",
            "\u001b[0;31mKeyboardInterrupt\u001b[0m: "
          ]
        }
      ],
      "source": [
        "num=1\n",
        "while num<=10:\n",
        "  print('Ram is good boy')\n",
        "  "
      ],
      "id": "fC5GfRQ4AE2s"
    },
    {
      "cell_type": "code",
      "execution_count": null,
      "metadata": {
        "id": "Y29j_DjYAFAx"
      },
      "outputs": [],
      "source": [],
      "id": "Y29j_DjYAFAx"
    },
    {
      "cell_type": "code",
      "execution_count": null,
      "metadata": {
        "id": "ole_rNbq7KKk"
      },
      "outputs": [],
      "source": [],
      "id": "ole_rNbq7KKk"
    },
    {
      "cell_type": "code",
      "execution_count": null,
      "metadata": {
        "id": "u14OsfHj7KR3"
      },
      "outputs": [],
      "source": [],
      "id": "u14OsfHj7KR3"
    },
    {
      "cell_type": "code",
      "execution_count": null,
      "metadata": {
        "id": "iF781-iW4vYC"
      },
      "outputs": [],
      "source": [],
      "id": "iF781-iW4vYC"
    },
    {
      "cell_type": "code",
      "execution_count": null,
      "metadata": {
        "colab": {
          "base_uri": "https://localhost:8080/"
        },
        "id": "3iNZCRQtLQNR",
        "outputId": "3aca1424-a802-4a38-837f-e060badaa3ab"
      },
      "outputs": [
        {
          "name": "stdout",
          "output_type": "stream",
          "text": [
            "This is Less than 20\n",
            "This is Good\n",
            "This is our Python Class\n",
            "this is out of if block\n"
          ]
        }
      ],
      "source": [
        "n=15\n",
        "\n",
        "if n < 20:\n",
        "  print(\"This is Less than 20\")\n",
        "  print('This is Good')\n",
        "  print('This is our Python Class')\n",
        "\n",
        "print('this is out of if block')  "
      ],
      "id": "3iNZCRQtLQNR"
    },
    {
      "cell_type": "code",
      "execution_count": null,
      "metadata": {
        "colab": {
          "base_uri": "https://localhost:8080/"
        },
        "id": "3hRDIou7LQeo",
        "outputId": "1869b9a2-2219-414a-b002-f5234d03be01"
      },
      "outputs": [
        {
          "name": "stdout",
          "output_type": "stream",
          "text": [
            "This else block\n",
            "Done\n"
          ]
        }
      ],
      "source": [
        "n=5\n",
        "\n",
        "if n>10:\n",
        "  print('This is if Block ')\n",
        "  print('Good')\n",
        "else:\n",
        "  print('This else block')\n",
        "  print('Done')  \n"
      ],
      "id": "3hRDIou7LQeo"
    },
    {
      "cell_type": "code",
      "execution_count": null,
      "metadata": {
        "colab": {
          "base_uri": "https://localhost:8080/"
        },
        "id": "8vbUmWkMLQil",
        "outputId": "19fba4b8-14fd-4b5d-ea0c-c3556efbf24a"
      },
      "outputs": [
        {
          "name": "stdout",
          "output_type": "stream",
          "text": [
            "This is not Even Number\n"
          ]
        }
      ],
      "source": [
        "n=13\n",
        "\n",
        "if n % 2 == 0:\n",
        "  print('This is Even Number')\n",
        "\n",
        "else:\n",
        "  print('This is not Even Number')"
      ],
      "id": "8vbUmWkMLQil"
    },
    {
      "cell_type": "code",
      "execution_count": null,
      "metadata": {
        "colab": {
          "base_uri": "https://localhost:8080/"
        },
        "id": "ODbaNZj8KpHT",
        "outputId": "4cccdab3-7a66-4404-ce1e-d4cf50ac469e"
      },
      "outputs": [
        {
          "name": "stdout",
          "output_type": "stream",
          "text": [
            "Enter a number 12\n",
            "This number is not exists between 0 to 10\n"
          ]
        }
      ],
      "source": [
        "n = int(input('Enter a number '))\n",
        "\n",
        "if n >= 0 and n <=10:\n",
        "  print('This number is exists between 0 to 10') \n",
        "\n",
        "else:\n",
        "  print('This number is not exists between 0 to 10')  \n"
      ],
      "id": "ODbaNZj8KpHT"
    },
    {
      "cell_type": "code",
      "execution_count": null,
      "metadata": {
        "colab": {
          "base_uri": "https://localhost:8080/"
        },
        "id": "AJjn6sy4S-xK",
        "outputId": "77124985-526e-4505-efde-7dfb532b3f04"
      },
      "outputs": [
        {
          "name": "stdout",
          "output_type": "stream",
          "text": [
            "Enter you name = KRISH\n",
            "Your Name is Good \n"
          ]
        }
      ],
      "source": [
        "name = input('Enter you name = ')\n",
        "\n",
        "if len(name) >= 3 or len(name)==5:\n",
        "  print('Your Name is Good ')\n",
        "\n",
        "else:\n",
        "  print('your name too good ')   "
      ],
      "id": "AJjn6sy4S-xK"
    },
    {
      "cell_type": "code",
      "execution_count": null,
      "metadata": {
        "colab": {
          "base_uri": "https://localhost:8080/"
        },
        "id": "qKCuBCJPKpMk",
        "outputId": "70be9ad6-847b-4ef9-f8ce-e9c517852dc2"
      },
      "outputs": [
        {
          "name": "stdout",
          "output_type": "stream",
          "text": [
            "Enter your age =85\n",
            "Please Take rest\n"
          ]
        }
      ],
      "source": [
        "\n",
        "n = int(input('Enter your age ='))\n",
        "\n",
        "if n<18:\n",
        "  print('you are not eligible for voting')  \n",
        "\n",
        "elif n >= 18 and n<=60:\n",
        "  print('Congrats you are eligible for voting')   \n",
        "\n",
        "elif n>60 and n<=80:\n",
        "  print('Dear Sir/Maam,Thanks for voting')\n",
        "\n",
        "else:\n",
        "  print('Please Take rest')  \n"
      ],
      "id": "qKCuBCJPKpMk"
    },
    {
      "cell_type": "code",
      "execution_count": null,
      "metadata": {
        "id": "XYL21w4mKpTW"
      },
      "outputs": [],
      "source": [],
      "id": "XYL21w4mKpTW"
    },
    {
      "cell_type": "code",
      "execution_count": null,
      "metadata": {
        "colab": {
          "base_uri": "https://localhost:8080/"
        },
        "id": "acughrOZ0TAJ",
        "outputId": "797edab1-035c-485a-9b28-09bb22986572"
      },
      "outputs": [
        {
          "name": "stdout",
          "output_type": "stream",
          "text": [
            "Enter a Number =30\n",
            "30  is Factor of either 3 or 7\n"
          ]
        }
      ],
      "source": [
        "n= int(input('Enter a Number =')) \n",
        "\n",
        "if n % 3 ==0 or n % 7 ==0: \n",
        "  print(n,\" is Factor of either 3 or 7\")\n",
        "\n",
        "else:\n",
        "  print(n,' is not Factor of either 3 or 7')"
      ],
      "id": "acughrOZ0TAJ"
    },
    {
      "cell_type": "code",
      "execution_count": null,
      "metadata": {
        "colab": {
          "base_uri": "https://localhost:8080/"
        },
        "id": "YktC6LFQ0TEe",
        "outputId": "27264ac7-f08d-4675-c3ef-c1f68304340c"
      },
      "outputs": [
        {
          "name": "stdout",
          "output_type": "stream",
          "text": [
            "Enter your name -mhava\n",
            "your Name is good\n"
          ]
        }
      ],
      "source": [
        "n = input('Enter your name -')\n",
        "\n",
        "if len(n)>0 and len(n) <=5:\n",
        "  print('your Name is good')\n",
        " \n",
        "elif len(n)> 5 and len(n)<=8:\n",
        "  print('Your Name is too good') \n",
        "\n",
        "else:\n",
        "  print('Your Name is too long , if you want we recomend Name')   \n",
        "  d = input('Enter yes/no ')\n",
        "  if d=='yes':\n",
        "    print('what about Krish,Mohit ,Lokesh, krishna,Mohin ')\n",
        "    s = input('Are you happy with Above these Name -y/n ')\n",
        "    if s=='n':\n",
        "      print('what about cku kitu ,mitu ,situ ')\n",
        "    elif s=='y':\n",
        "      print('Okay Thank you ')  \n",
        "  else:\n",
        "    print('Thanks for visiting ')  \n",
        "\n"
      ],
      "id": "YktC6LFQ0TEe"
    },
    {
      "cell_type": "code",
      "execution_count": null,
      "metadata": {
        "id": "AiLB0bdyVPF-"
      },
      "outputs": [],
      "source": [
        "len(nam)"
      ],
      "id": "AiLB0bdyVPF-"
    },
    {
      "cell_type": "code",
      "execution_count": null,
      "metadata": {
        "colab": {
          "base_uri": "https://localhost:8080/"
        },
        "id": "zF_aSfyeVPK9",
        "outputId": "8229f7ac-1dfd-4d99-e76b-7cbfb696d365"
      },
      "outputs": [
        {
          "name": "stdout",
          "output_type": "stream",
          "text": [
            "Enter your name =JOHNSMITH\n",
            "Enter character which you to search in your Name = H\n",
            "H  come two times\n"
          ]
        }
      ],
      "source": [
        "n = input('Enter your name =') \n",
        "\n",
        "s1= input('Enter character which you to search in your Name = ')\n",
        "\n",
        "c=n.count(s1)\n",
        "\n",
        "if c==1:\n",
        "  print(s1,' comes only once')\n",
        "elif c==2:\n",
        "  print(s1,' come two times')\n",
        "\n",
        "elif c==3:\n",
        "  print(s1,' come Three times')     \n",
        "\n",
        "elif c > 3:\n",
        "  print(s1,'comes Muliple times, if you want we recomend you a good Name ')\n",
        "  d=input('Emter Y/N ')\n",
        "  if d =='Y':\n",
        "    print('What about kitu situ mitu ')\n",
        "  elif d =='N':\n",
        "    print('Thanks you, Visit again')    \n",
        "\n",
        "  else:\n",
        "    print('Invlid Input,Better Luck Try again')  "
      ],
      "id": "zF_aSfyeVPK9"
    },
    {
      "cell_type": "code",
      "execution_count": null,
      "metadata": {
        "id": "At_cLb3l6qOZ"
      },
      "outputs": [],
      "source": [],
      "id": "At_cLb3l6qOZ"
    },
    {
      "cell_type": "code",
      "execution_count": null,
      "metadata": {
        "id": "u-lYRYKm6qUH"
      },
      "outputs": [],
      "source": [],
      "id": "u-lYRYKm6qUH"
    },
    {
      "cell_type": "markdown",
      "metadata": {
        "id": "3mohVAq7-Dq5"
      },
      "source": [
        "**Till The End- 27-12-2022**"
      ],
      "id": "3mohVAq7-Dq5"
    },
    {
      "cell_type": "code",
      "execution_count": null,
      "metadata": {
        "colab": {
          "base_uri": "https://localhost:8080/"
        },
        "id": "veCyH3Hj6qjv",
        "outputId": "f8f784f2-8be3-4014-f2b8-2e1f56b6f05d"
      },
      "outputs": [
        {
          "name": "stdout",
          "output_type": "stream",
          "text": [
            "10\n"
          ]
        }
      ],
      "source": [
        "# while loop \n",
        "\n",
        "n=10\n",
        "while n > 10:\n",
        "  print(n)\n",
        "  n=n+1\n"
      ],
      "id": "veCyH3Hj6qjv"
    },
    {
      "cell_type": "code",
      "execution_count": null,
      "metadata": {
        "id": "0R2gQQeW_vbe"
      },
      "outputs": [],
      "source": [
        "n="
      ],
      "id": "0R2gQQeW_vbe"
    },
    {
      "cell_type": "code",
      "execution_count": null,
      "metadata": {
        "colab": {
          "base_uri": "https://localhost:8080/"
        },
        "id": "WxE7u9WL_vmE",
        "outputId": "c3e352ac-614c-4425-c46d-13e69c5f9bf5"
      },
      "outputs": [
        {
          "name": "stdout",
          "output_type": "stream",
          "text": [
            "2\n",
            "4\n",
            "6\n",
            "8\n",
            "10\n",
            "12\n",
            "14\n",
            "16\n",
            "18\n",
            "20\n"
          ]
        }
      ],
      "source": [
        "n=2 \n",
        "\n",
        "while n < 21:\n",
        "  print(n)\n",
        "  n=n+2\n"
      ],
      "id": "WxE7u9WL_vmE"
    },
    {
      "cell_type": "code",
      "execution_count": null,
      "metadata": {
        "colab": {
          "base_uri": "https://localhost:8080/"
        },
        "id": "41M6fgsF-baY",
        "outputId": "fce0d92c-d1bc-4375-bfb7-49f3297093d5"
      },
      "outputs": [
        {
          "name": "stdout",
          "output_type": "stream",
          "text": [
            "13\n",
            "26\n",
            "39\n",
            "52\n",
            "65\n",
            "78\n",
            "91\n",
            "104\n",
            "117\n",
            "130\n"
          ]
        }
      ],
      "source": [
        "n=13\n",
        "\n",
        "while n<=130:\n",
        "  print(n)\n",
        "  n+=13\n"
      ],
      "id": "41M6fgsF-baY"
    },
    {
      "cell_type": "code",
      "execution_count": null,
      "metadata": {
        "id": "PnUWxKOz-bik"
      },
      "outputs": [],
      "source": [],
      "id": "PnUWxKOz-bik"
    },
    {
      "cell_type": "code",
      "execution_count": null,
      "metadata": {
        "colab": {
          "base_uri": "https://localhost:8080/"
        },
        "id": "Nbnh5JREBm-I",
        "outputId": "1c8d6386-ed83-43d6-dbe5-1fabb7ae7cfd"
      },
      "outputs": [
        {
          "name": "stdout",
          "output_type": "stream",
          "text": [
            "10\n",
            "9\n",
            "8\n",
            "7\n",
            "6\n",
            "5\n",
            "4\n",
            "3\n",
            "2\n",
            "1\n"
          ]
        }
      ],
      "source": [
        "n=10\n",
        "\n",
        "while n > 0:\n",
        "  print(n) \n",
        "  n=n-1  "
      ],
      "id": "Nbnh5JREBm-I"
    },
    {
      "cell_type": "code",
      "execution_count": null,
      "metadata": {
        "colab": {
          "base_uri": "https://localhost:8080/"
        },
        "id": "FvPxGtB_BnMW",
        "outputId": "f8dc571b-8aea-42f8-d5ff-c853178b7d4d"
      },
      "outputs": [
        {
          "name": "stdout",
          "output_type": "stream",
          "text": [
            "10\n",
            "12\n",
            "14\n",
            "16\n",
            "18\n",
            "20\n",
            "22\n",
            "24\n",
            "26\n",
            "28\n",
            "30\n",
            "32\n",
            "34\n",
            "36\n",
            "38\n",
            "40\n",
            "42\n",
            "44\n",
            "46\n",
            "48\n",
            "50\n"
          ]
        }
      ],
      "source": [
        "x=10 \n",
        "\n",
        "while x<=50:\n",
        "  print(x)\n",
        "  x+=2"
      ],
      "id": "FvPxGtB_BnMW"
    },
    {
      "cell_type": "code",
      "execution_count": null,
      "metadata": {
        "colab": {
          "base_uri": "https://localhost:8080/"
        },
        "id": "p2Yjx0ab-bqe",
        "outputId": "1bfd679b-8670-4933-eafe-6efa90e11440"
      },
      "outputs": [
        {
          "name": "stdout",
          "output_type": "stream",
          "text": [
            "21 23 25 27 29 31 33 35 37 39 41 43 45 47 49 "
          ]
        }
      ],
      "source": [
        "x=21\n",
        "\n",
        "while x <=50:\n",
        "  print(x,end=' ') \n",
        "  x+=2"
      ],
      "id": "p2Yjx0ab-bqe"
    },
    {
      "cell_type": "code",
      "execution_count": null,
      "metadata": {
        "colab": {
          "base_uri": "https://localhost:8080/"
        },
        "id": "I06kFi7w-b1W",
        "outputId": "434600f6-217e-4f25-c481-6836766d10e9"
      },
      "outputs": [
        {
          "name": "stdout",
          "output_type": "stream",
          "text": [
            "2\t4\t6\t8\t10\t12\t14\t16\t18\t20\t\n",
            "3\t6\t9\t12\t15\t18\t21\t24\t27\t30\t\n",
            "4\t8\t12\t16\t20\t24\t28\t32\t36\t40\t\n",
            "5\t10\t15\t20\t25\t30\t35\t40\t45\t50\t\n",
            "6\t12\t18\t24\t30\t36\t42\t48\t54\t60\t\n",
            "7\t14\t21\t28\t35\t42\t49\t56\t63\t70\t\n",
            "8\t16\t24\t32\t40\t48\t56\t64\t72\t80\t\n",
            "9\t18\t27\t36\t45\t54\t63\t72\t81\t90\t\n",
            "10\t20\t30\t40\t50\t60\t70\t80\t90\t100\t\n",
            "11\t22\t33\t44\t55\t66\t77\t88\t99\t110\t\n",
            "12\t24\t36\t48\t60\t72\t84\t96\t108\t120\t\n",
            "13\t26\t39\t52\t65\t78\t91\t104\t117\t130\t\n",
            "14\t28\t42\t56\t70\t84\t98\t112\t126\t140\t\n",
            "15\t30\t45\t60\t75\t90\t105\t120\t135\t150\t\n",
            "16\t32\t48\t64\t80\t96\t112\t128\t144\t160\t\n",
            "17\t34\t51\t68\t85\t102\t119\t136\t153\t170\t\n",
            "18\t36\t54\t72\t90\t108\t126\t144\t162\t180\t\n",
            "19\t38\t57\t76\t95\t114\t133\t152\t171\t190\t\n",
            "20\t40\t60\t80\t100\t120\t140\t160\t180\t200\t\n"
          ]
        }
      ],
      "source": [
        "i=2\n",
        "\n",
        "while i<=20:\n",
        "  j=1\n",
        "  while j<=10:\n",
        "    print(i*j,end=\"\\t\")\n",
        "    j+=1 \n",
        "  print()   \n",
        "  i+=1  \n"
      ],
      "id": "I06kFi7w-b1W"
    },
    {
      "cell_type": "code",
      "execution_count": null,
      "metadata": {
        "colab": {
          "base_uri": "https://localhost:8080/"
        },
        "id": "AtpKvyOx-b-e",
        "outputId": "de146cec-58e3-4dfd-ea58-63641a8cf34c"
      },
      "outputs": [
        {
          "name": "stdout",
          "output_type": "stream",
          "text": [
            "10\t20\t30\t40\t50\t60\t70\t80\t90\t100\t\n",
            "12\t24\t36\t48\t60\t72\t84\t96\t108\t120\t\n",
            "14\t28\t42\t56\t70\t84\t98\t112\t126\t140\t\n",
            "16\t32\t48\t64\t80\t96\t112\t128\t144\t160\t\n",
            "18\t36\t54\t72\t90\t108\t126\t144\t162\t180\t\n",
            "20\t40\t60\t80\t100\t120\t140\t160\t180\t200\t\n"
          ]
        }
      ],
      "source": [
        "n=10 \n",
        "\n",
        "while n<=21:\n",
        "  m=1 \n",
        "  while m<=10:\n",
        "    print(m*n,end='\\t') \n",
        "    m+=1\n",
        "  print()   \n",
        "  n+=2  "
      ],
      "id": "AtpKvyOx-b-e"
    },
    {
      "cell_type": "code",
      "execution_count": null,
      "metadata": {
        "id": "IOrZHg9d-cHE"
      },
      "outputs": [],
      "source": [],
      "id": "IOrZHg9d-cHE"
    },
    {
      "cell_type": "code",
      "execution_count": null,
      "metadata": {
        "id": "FvjLHFHr6qnM"
      },
      "outputs": [],
      "source": [],
      "id": "FvjLHFHr6qnM"
    },
    {
      "cell_type": "code",
      "execution_count": null,
      "metadata": {
        "id": "DiXq-IyNVPRL"
      },
      "outputs": [],
      "source": [],
      "id": "DiXq-IyNVPRL"
    },
    {
      "cell_type": "code",
      "execution_count": null,
      "metadata": {
        "id": "EuLbRQXyVPWP"
      },
      "outputs": [],
      "source": [],
      "id": "EuLbRQXyVPWP"
    },
    {
      "cell_type": "code",
      "execution_count": null,
      "metadata": {
        "id": "8i88mAAkVPZ2"
      },
      "outputs": [],
      "source": [],
      "id": "8i88mAAkVPZ2"
    },
    {
      "cell_type": "code",
      "execution_count": null,
      "metadata": {
        "id": "SErBgIj2VPjt"
      },
      "outputs": [],
      "source": [],
      "id": "SErBgIj2VPjt"
    },
    {
      "cell_type": "code",
      "execution_count": null,
      "metadata": {
        "id": "8BJHn1xsKpYv"
      },
      "outputs": [],
      "source": [],
      "id": "8BJHn1xsKpYv"
    },
    {
      "cell_type": "code",
      "execution_count": null,
      "metadata": {
        "id": "ojqYSwjPKpcy"
      },
      "outputs": [],
      "source": [],
      "id": "ojqYSwjPKpcy"
    },
    {
      "cell_type": "code",
      "execution_count": null,
      "metadata": {
        "colab": {
          "base_uri": "https://localhost:8080/"
        },
        "id": "2bWJ_bXlZ2iV",
        "outputId": "b03c3d5f-97ab-4a26-a3e2-dd95d6339bfe"
      },
      "outputs": [
        {
          "name": "stdout",
          "output_type": "stream",
          "text": [
            "This is if block \n",
            "This is python class\n"
          ]
        }
      ],
      "source": [
        "n1 = 28\n",
        "\n",
        "if n1 > 20:\n",
        "  print('This is if block ')\n",
        "  print('This is python class') \n",
        "else:\n",
        "  print('this is not good ')\n",
        " "
      ],
      "id": "2bWJ_bXlZ2iV"
    },
    {
      "cell_type": "code",
      "execution_count": null,
      "metadata": {
        "colab": {
          "base_uri": "https://localhost:8080/"
        },
        "id": "iyAiOMq5bFc6",
        "outputId": "766e656e-80e0-4d30-d429-3a161182f835"
      },
      "outputs": [
        {
          "name": "stdout",
          "output_type": "stream",
          "text": [
            "Enter a number - 39\n",
            "39  is not even number\n"
          ]
        }
      ],
      "source": [
        "n1 = int(input('Enter a number - '))\n",
        "\n",
        "if n1 % 2 == 0:\n",
        "  print(n1, ' is a even number')\n",
        "else:\n",
        "  print(n1, ' is not even number')  "
      ],
      "id": "iyAiOMq5bFc6"
    },
    {
      "cell_type": "code",
      "execution_count": null,
      "metadata": {
        "colab": {
          "base_uri": "https://localhost:8080/"
        },
        "id": "j0-b3doDbFiD",
        "outputId": "f0b0c35c-4ef6-41a4-f443-1ae1e6da12ba"
      },
      "outputs": [
        {
          "name": "stdout",
          "output_type": "stream",
          "text": [
            "Enter a number - -9\n",
            "this is greater number\n"
          ]
        }
      ],
      "source": [
        "n1 = int(input('Enter a number - ')) \n",
        "\n",
        "if n1 >= 0 and n1 <= 10:\n",
        "  print('this number lies between 1 to 10')\n",
        "else:\n",
        "  print('this is greater number')  "
      ],
      "id": "j0-b3doDbFiD"
    },
    {
      "cell_type": "code",
      "execution_count": null,
      "metadata": {
        "colab": {
          "base_uri": "https://localhost:8080/"
        },
        "id": "U2jr0iuSdcsT",
        "outputId": "0cd1d1d6-3bb6-46c1-b105-e4cfc8cf7983"
      },
      "outputs": [
        {
          "name": "stdout",
          "output_type": "stream",
          "text": [
            "Enter a number = 22\n",
            "this is greater than 10\n"
          ]
        }
      ],
      "source": [
        "n1 = int(input('Enter a number = ')) \n",
        "\n",
        "if n1 >= 0 and n1 <= 10:\n",
        "  print(n1,' this number lies between 1 to 10')\n",
        "\n",
        "elif n1 < 0:\n",
        "  print(n1 ,' is negative number')\n",
        "\n",
        "else:\n",
        "  print('this is greater than 10') "
      ],
      "id": "U2jr0iuSdcsT"
    },
    {
      "cell_type": "code",
      "execution_count": null,
      "metadata": {
        "colab": {
          "base_uri": "https://localhost:8080/"
        },
        "id": "BqVfJgwvenLn",
        "outputId": "9f2f61ff-9249-4f26-a6a0-d3532d528c93"
      },
      "outputs": [
        {
          "name": "stdout",
          "output_type": "stream",
          "text": [
            "Enter a number = DAYANAANAD\n",
            "DAYANAANAD  you is too much long \n",
            "if you want then we recomend you- yes/noyes\n",
            "what about banty, kitu, bitu, situ,chetan\n"
          ]
        }
      ],
      "source": [
        "n1 = input('Enter a number = ') \n",
        "\n",
        "if len(n1) <=3:\n",
        "  print(n1 ,' your name is good ')\n",
        "elif len(n1) >3 and len(n1)<=6:\n",
        "  print(n1, ' your name is also good') \n",
        "else:\n",
        "  print(n1 ,' you is too much long ')  \n",
        "  c1 = input('if you want then we recomend you- yes/no')\n",
        "  if c1 == 'yes':\n",
        "    print('what about banty, kitu, bitu, situ,chetan')\n",
        "  elif c1 =='no':\n",
        "    print(n1, 'enjoy your name is good')\n",
        "  else:\n",
        "    print('Thanks to you, Visit again ')    \n"
      ],
      "id": "BqVfJgwvenLn"
    },
    {
      "cell_type": "code",
      "execution_count": null,
      "metadata": {
        "colab": {
          "base_uri": "https://localhost:8080/"
        },
        "id": "PjJO0Y6oenQX",
        "outputId": "e908a261-c091-41f2-8b0d-c9748995da41"
      },
      "outputs": [
        {
          "name": "stdout",
          "output_type": "stream",
          "text": [
            "Please Enter your Good Name = DAYANAND\n",
            "which character you want to serch = a\n",
            "a  N/A in you name \n"
          ]
        }
      ],
      "source": [
        "name = input('Please Enter your Good Name = ')\n",
        "\n",
        "c1 = input(\"which character you want to serch = \")\n",
        "\n",
        "str1 = name.count(c1)\n",
        "\n",
        "if str1== 1:\n",
        "  print(c1,' comes only one times in your name ') \n",
        "\n",
        "elif str1 == 2:\n",
        "  print(c1,' comes only two times in your name ') \n",
        "\n",
        "elif str1== 3:\n",
        "  print(c1,' comes three times in your name ') \n",
        "\n",
        "elif str1 > 3:\n",
        "  print(c1,' comes multiple times in your name ') \n",
        "  n = input('if you want we recomend you name -yes/no')\n",
        "  if n =='yes':\n",
        "    print('what about Nitin,chetan, tituchhu, shashank ...')\n",
        "  else:\n",
        "    print('Thank you ....')\n",
        "\n",
        "else:\n",
        "  print(c1, ' N/A in you name ')"
      ],
      "id": "PjJO0Y6oenQX"
    },
    {
      "cell_type": "code",
      "execution_count": null,
      "metadata": {
        "id": "7CTfYEXIdcwb"
      },
      "outputs": [],
      "source": [],
      "id": "7CTfYEXIdcwb"
    },
    {
      "cell_type": "code",
      "execution_count": null,
      "metadata": {
        "colab": {
          "base_uri": "https://localhost:8080/"
        },
        "id": "XT7Nw1oKbGHK",
        "outputId": "220db0f7-68f2-4ce8-fd6e-89e09d421713"
      },
      "outputs": [
        {
          "name": "stdout",
          "output_type": "stream",
          "text": [
            "Enter 1st number = 80\n",
            "Enter 2nd number = 92\n",
            "Enter 3rd number = 10\n",
            "92  is gretest Number\n"
          ]
        }
      ],
      "source": [
        "n1 = int(input('Enter 1st number = ')) \n",
        "n2 = int(input('Enter 2nd number = ')) \n",
        "n3 = int(input('Enter 3rd number = ')) \n",
        "\n",
        "if n1 > n2 and n1 > n3:\n",
        "  print(n1 ,' Gretest Number ')\n",
        "else:\n",
        "  if n2 > n1 and n2 > n3:\n",
        "     print(n2, ' is gretest Number')\n",
        "  else:\n",
        "    print(n3 ,' is gratest')\n",
        "\n"
      ],
      "id": "XT7Nw1oKbGHK"
    },
    {
      "cell_type": "code",
      "execution_count": null,
      "metadata": {
        "id": "5EAoazINbGQY"
      },
      "outputs": [],
      "source": [],
      "id": "5EAoazINbGQY"
    },
    {
      "cell_type": "code",
      "execution_count": null,
      "metadata": {
        "id": "-wCxBJ4uZ2oP"
      },
      "outputs": [],
      "source": [],
      "id": "-wCxBJ4uZ2oP"
    },
    {
      "cell_type": "code",
      "execution_count": null,
      "metadata": {
        "id": "q_sQyI--Z2tJ"
      },
      "outputs": [],
      "source": [],
      "id": "q_sQyI--Z2tJ"
    },
    {
      "cell_type": "code",
      "execution_count": null,
      "metadata": {
        "id": "1lLUMcIKZ2w-"
      },
      "outputs": [],
      "source": [],
      "id": "1lLUMcIKZ2w-"
    },
    {
      "cell_type": "code",
      "execution_count": null,
      "metadata": {
        "id": "2gW_ht_oZ238"
      },
      "outputs": [],
      "source": [],
      "id": "2gW_ht_oZ238"
    },
    {
      "cell_type": "code",
      "execution_count": null,
      "metadata": {
        "id": "zX6hLo3CZ28j"
      },
      "outputs": [],
      "source": [],
      "id": "zX6hLo3CZ28j"
    },
    {
      "cell_type": "code",
      "execution_count": null,
      "metadata": {
        "id": "GF5JPkQPZ3B6"
      },
      "outputs": [],
      "source": [],
      "id": "GF5JPkQPZ3B6"
    },
    {
      "cell_type": "code",
      "execution_count": null,
      "metadata": {
        "id": "LekEgMPIZ3H9"
      },
      "outputs": [],
      "source": [],
      "id": "LekEgMPIZ3H9"
    },
    {
      "cell_type": "code",
      "execution_count": null,
      "metadata": {
        "colab": {
          "base_uri": "https://localhost:8080/"
        },
        "id": "l7HjqF1QHbYr",
        "outputId": "7d6c9922-7565-4603-abf1-90b2e243be3a"
      },
      "outputs": [
        {
          "name": "stdout",
          "output_type": "stream",
          "text": [
            "This is if-block\n",
            "This is in same block\n",
            "this is out of if-block\n"
          ]
        }
      ],
      "source": [
        "num = 40 \n",
        "\n",
        "if num > 20:\n",
        "  print('This is if-block')\n",
        "  print('This is in same block')\n",
        "\n",
        "print('this is out of if-block')"
      ],
      "id": "l7HjqF1QHbYr"
    },
    {
      "cell_type": "code",
      "execution_count": null,
      "metadata": {
        "colab": {
          "base_uri": "https://localhost:8080/"
        },
        "id": "PmKNFWpjHbcW",
        "outputId": "e3164960-bf7e-4acf-fcca-4a540837afc5"
      },
      "outputs": [
        {
          "name": "stdout",
          "output_type": "stream",
          "text": [
            "This is if-block\n",
            "This is in same block\n"
          ]
        }
      ],
      "source": [
        "num1 = 20\n",
        "num2 = 10 \n",
        "\n",
        "if num1 > num2 and num1 >= num2: \n",
        "  print('This is if-block')\n",
        "  print('This is in same block')"
      ],
      "id": "PmKNFWpjHbcW"
    },
    {
      "cell_type": "code",
      "execution_count": null,
      "metadata": {
        "colab": {
          "base_uri": "https://localhost:8080/"
        },
        "id": "qeIh14-oHbfe",
        "outputId": "45adc6cd-aae9-4114-8bee-7ca70451ff1d"
      },
      "outputs": [
        {
          "name": "stdout",
          "output_type": "stream",
          "text": [
            "this is our python class \n",
            "Happy Journey\n"
          ]
        }
      ],
      "source": [
        "x = True\n",
        "y = False \n",
        "\n",
        "if x:\n",
        "  print('this is our python class ')\n",
        "else:\n",
        "  print('this is not our python class ')\n",
        "  print('this is your python class ')\n",
        "  \n",
        "print('Happy Journey')  \n"
      ],
      "id": "qeIh14-oHbfe"
    },
    {
      "cell_type": "code",
      "execution_count": null,
      "metadata": {
        "colab": {
          "base_uri": "https://localhost:8080/"
        },
        "id": "bat5W58sHbpP",
        "outputId": "730d4023-543e-4b8f-ba95-1ce5a740d755"
      },
      "outputs": [
        {
          "name": "stdout",
          "output_type": "stream",
          "text": [
            "Please Enter number between 1-10 =-10\n",
            "It is out of range, please renter the number\n"
          ]
        }
      ],
      "source": [
        "num1 = int(input('Please Enter number between 1-10 =')) \n",
        "\n",
        "if num1 >=0 and num1<=10:\n",
        "  print(num1, 'Exists between 0 to 10')\n",
        "  print('Good Job') \n",
        "\n",
        "else:\n",
        "  print('It is out of range, please renter the number')  "
      ],
      "id": "bat5W58sHbpP"
    },
    {
      "cell_type": "code",
      "execution_count": null,
      "metadata": {
        "colab": {
          "base_uri": "https://localhost:8080/"
        },
        "id": "OeerE5LaLaLi",
        "outputId": "7a5cb2dd-3851-404b-fb73-159b690e312d"
      },
      "outputs": [
        {
          "name": "stdout",
          "output_type": "stream",
          "text": [
            "Please Enter a number =11\n",
            "11 is not a even umber\n"
          ]
        }
      ],
      "source": [
        "from os import pathconf\n",
        "num1 = int(input('Please Enter a number =')) \n",
        "\n",
        "if num1%2 ==0:\n",
        "  print(num1,'is a even umber')\n",
        "  \n",
        "else:\n",
        "  print(num1,'is not a even umber') \n",
        "\n"
      ],
      "id": "OeerE5LaLaLi"
    },
    {
      "cell_type": "code",
      "execution_count": null,
      "metadata": {
        "colab": {
          "base_uri": "https://localhost:8080/"
        },
        "id": "f-njd_U6LaQ1",
        "outputId": "435fd259-d3d7-42e6-86d6-4f3065333e2d"
      },
      "outputs": [
        {
          "name": "stdout",
          "output_type": "stream",
          "text": [
            "Please Enter number between 1-10 =12\n",
            "12  is greater than 10\n"
          ]
        }
      ],
      "source": [
        "num1 = int(input('Please Enter number between 1-10 =')) \n",
        "\n",
        "if num1 >=0 and num1<=10:\n",
        "  print(num1, 'Exists between 0 to 10')\n",
        "  print('Good Job') \n",
        "\n",
        "elif num1 < 0:\n",
        "  print('it is -ve Number')  \n",
        "\n",
        "elif num1 > 10:\n",
        "  print(num1, ' is greater than 10')\n",
        "else:\n",
        "  print('It is out of range, please renter the number')  "
      ],
      "id": "f-njd_U6LaQ1"
    },
    {
      "cell_type": "code",
      "execution_count": null,
      "metadata": {
        "colab": {
          "base_uri": "https://localhost:8080/"
        },
        "id": "kQ-d_SHBLaVt",
        "outputId": "38baac81-69bf-426f-9433-b158288fd67f"
      },
      "outputs": [
        {
          "name": "stdout",
          "output_type": "stream",
          "text": [
            "Please Enter your Name - DAYANAND\n",
            "I think your name is too much long\n",
            "If you want then we recomend you diffrent name \n",
            "Enter - yes/noyes\n",
            "what about Kitu ,situ, Banty, Bitu \n",
            "If your stisfied then press - y/nn\n",
            "what about mohan,sohan,yash ---\n"
          ]
        }
      ],
      "source": [
        "str1 = input('Please Enter your Name - ')\n",
        "\n",
        "if len(str1) <=3:\n",
        "  print(' Good Name ')\n",
        "elif len(str1) >3 and len(str1) <= 6:\n",
        "  print('it is also Good Name ')\n",
        "elif len(str1) > 6:\n",
        "  print('I think your name is too much long')  \n",
        "  print('If you want then we recomend you diffrent name ') \n",
        "  str2= input('Enter - yes/no')\n",
        "  if str2 == 'yes':\n",
        "    print('what about Kitu ,situ, Banty, Bitu ')\n",
        "    str3 = input('If your stisfied then press - y/n')\n",
        "\n",
        "    if str3 == 'n':\n",
        "      print('what about mohan,sohan,yash ---')\n",
        "    else:\n",
        "      print('Thanks a-lot')\n",
        "  else:\n",
        "    print('Thanks enjoy with your name')  \n"
      ],
      "id": "kQ-d_SHBLaVt"
    },
    {
      "cell_type": "code",
      "execution_count": null,
      "metadata": {
        "colab": {
          "base_uri": "https://localhost:8080/"
        },
        "id": "e3UVY82uT6gn",
        "outputId": "040abda1-01e6-4652-ce9f-a5f9ca0e22d4"
      },
      "outputs": [
        {
          "name": "stdout",
          "output_type": "stream",
          "text": [
            "Please Enter your Name - DAYANANAD\n",
            "Which character you want to serech-A\n",
            "A comes multiple time in your name \n",
            "if you want then we suggest you a nameyes\n",
            "what about TITICHHU \n"
          ]
        }
      ],
      "source": [
        "str1 = input('Please Enter your Name - ') \n",
        "\n",
        "c1 = input('Which character you want to serech-')\n",
        "\n",
        "num = str1.count(c1) \n",
        "\n",
        "if num == 1:\n",
        "  print(c1, 'comes only one time in your name ')\n",
        "elif num ==2:\n",
        "  print(c1, 'comes only Two time in your name ')\n",
        "elif num ==3:\n",
        "  print(c1, 'comes only three time in your name ')  \n",
        "\n",
        "elif num > 3:\n",
        "  print(c1, 'comes multiple time in your name ')  \n",
        "  str2 = input('if you want then we suggest you a name - yes/no')\n",
        "  if str2  == 'yes':\n",
        "    print('what about TITICHHU ')\n",
        "  else:\n",
        "    print('Thanks')  \n",
        "    \n"
      ],
      "id": "e3UVY82uT6gn"
    },
    {
      "cell_type": "code",
      "execution_count": null,
      "metadata": {
        "id": "1xziszKXWFaR"
      },
      "outputs": [],
      "source": [
        "nw = ['shyam', 'mohan','kanha','johnsmith']\n"
      ],
      "id": "1xziszKXWFaR"
    },
    {
      "cell_type": "code",
      "execution_count": null,
      "metadata": {
        "colab": {
          "base_uri": "https://localhost:8080/"
        },
        "id": "UTZ6F6__WFfC",
        "outputId": "3e69da7a-b039-47b8-c64a-65762b110f92"
      },
      "outputs": [
        {
          "name": "stdout",
          "output_type": "stream",
          "text": [
            "Eneter your name =aman\n",
            "Your name is not Palindrom \n"
          ]
        }
      ],
      "source": [
        "# Palindrom  \n",
        "\n",
        "name = input('Eneter your name =')\n",
        "\n",
        "if name == name[::-1]:\n",
        "  print(' Your name is  Palindrom ')\n",
        "\n",
        "else:\n",
        " print('Your name is not Palindrom ')\n"
      ],
      "id": "UTZ6F6__WFfC"
    },
    {
      "cell_type": "code",
      "execution_count": null,
      "metadata": {
        "id": "LKuKyc7QUYZG"
      },
      "outputs": [],
      "source": [],
      "id": "LKuKyc7QUYZG"
    },
    {
      "cell_type": "code",
      "execution_count": null,
      "metadata": {
        "colab": {
          "base_uri": "https://localhost:8080/"
        },
        "id": "9oqrKaZJWFmp",
        "outputId": "3bbd4eed-c82f-48d3-ec0e-23ad89c22e50"
      },
      "outputs": [
        {
          "name": "stdout",
          "output_type": "stream",
          "text": [
            "Eneter a number =123\n",
            "123  is not Palindrom Number \n"
          ]
        }
      ],
      "source": [
        "name = input('Enter a number =') \n",
        "\n",
        "\n",
        "if name == name[::-1]:\n",
        "  print(name ,' is a Palindrom Number')\n",
        "\n",
        "else:\n",
        " print(name , ' is not Palindrom Number ')\n"
      ],
      "id": "9oqrKaZJWFmp"
    },
    {
      "cell_type": "code",
      "execution_count": null,
      "metadata": {
        "colab": {
          "base_uri": "https://localhost:8080/"
        },
        "id": "0KVwRY-nWFr1",
        "outputId": "38b1c57e-e9ee-40b2-9975-99439270637a"
      },
      "outputs": [
        {
          "name": "stdout",
          "output_type": "stream",
          "text": [
            "Enter a number =johnsmith\n",
            "your name is too long \n",
            "if you want i recomend you a name = yes/noyes\n",
            "i have no any recomendation for you \n"
          ]
        }
      ],
      "source": [
        "nw = ['shyam', 'mohan','kanha','johnsmith'] \n",
        "\n",
        "\n",
        "str1 = input('Enter a number =') \n",
        "\n",
        "if len(str1) <=3:\n",
        "  print(' Good Name ')\n",
        "elif len(str1) >3 and len(str1) <= 6:\n",
        "  print('it is also Good Name ')\n",
        "elif len(str1) > 6:\n",
        "  print('your name is too long ')\n",
        "  str2 = input('if you want i recomend you a name = yes/no')\n",
        "  if str2 == 'yes':\n",
        "    if str1 in nw:\n",
        "      print('i have no any recomendation for you ')\n",
        "    else:\n",
        "      print('what about henry,arien,smeer,rupesh ')  \n",
        "  else:\n",
        "    print('Thanks a-lot')    \n",
        "\n"
      ],
      "id": "0KVwRY-nWFr1"
    },
    {
      "cell_type": "code",
      "execution_count": null,
      "metadata": {
        "id": "J3PZLmKjWFvt"
      },
      "outputs": [],
      "source": [
        "str2 = 'JOHN SMITH HARRY'\n"
      ],
      "id": "J3PZLmKjWFvt"
    },
    {
      "cell_type": "code",
      "execution_count": null,
      "metadata": {
        "colab": {
          "base_uri": "https://localhost:8080/"
        },
        "id": "e2cUTlb0W9BJ",
        "outputId": "d6948aff-2405-4b27-b774-ef3a43c7f113"
      },
      "outputs": [
        {
          "name": "stdout",
          "output_type": "stream",
          "text": [
            "Enter a number =JOHN\n",
            "Enter a number =smith\n",
            "Enter a number =harry\n",
            "Name =  JOHN htims harry\n"
          ]
        }
      ],
      "source": [
        "fn = input('Enter a number =') \n",
        "mn = input('Enter a number =') \n",
        "ln = input('Enter a number =') \n",
        "\n",
        "print('Name = ', fn+\" \"+mn[::-1]+ \" \"+ln)"
      ],
      "id": "e2cUTlb0W9BJ"
    },
    {
      "cell_type": "code",
      "execution_count": null,
      "metadata": {
        "colab": {
          "base_uri": "https://localhost:8080/"
        },
        "id": "4GxqNbrmEmaf",
        "outputId": "2eb1297f-a4b7-4bf8-beef-a70317cfb05d"
      },
      "outputs": [
        {
          "name": "stdout",
          "output_type": "stream",
          "text": [
            "Enter your Good Name = MOHAN\n",
            "MOHAN  is not amstrong string\n"
          ]
        }
      ],
      "source": [
        "fn = input('Enter your Good Name = ') \n",
        "\n",
        "str1 = fn[::-1]\n",
        "\n",
        "if fn == str1:\n",
        "  print(fn ,' is a amstrong string ')\n",
        "\n",
        "else:\n",
        "  print(fn, ' is not amstrong string')"
      ],
      "id": "4GxqNbrmEmaf"
    },
    {
      "cell_type": "code",
      "execution_count": null,
      "metadata": {
        "id": "0fTGfhdFEoZa"
      },
      "outputs": [],
      "source": [
        "st1 = 'RAHUL'"
      ],
      "id": "0fTGfhdFEoZa"
    },
    {
      "cell_type": "code",
      "execution_count": null,
      "metadata": {
        "id": "NpWDhtF9FsJg"
      },
      "outputs": [],
      "source": [
        "121 \n",
        "191\n"
      ],
      "id": "NpWDhtF9FsJg"
    },
    {
      "cell_type": "code",
      "execution_count": null,
      "metadata": {
        "colab": {
          "base_uri": "https://localhost:8080/"
        },
        "id": "SjQqV5aHFsNi",
        "outputId": "e8db0e8e-87e2-4bf9-c276-b04e8935a33f"
      },
      "outputs": [
        {
          "name": "stdout",
          "output_type": "stream",
          "text": [
            "Enter your Good Name = 191\n",
            "191  is a amstrong integer \n"
          ]
        }
      ],
      "source": [
        "fn = input('Enter your Good Name = ') \n",
        "\n",
        "str1 = fn[::-1]\n",
        "\n",
        "if fn == str1:\n",
        "  print(int(fn) ,' is a amstrong integer ')\n",
        "\n",
        "else:\n",
        "  print(int(fn), ' is not amstrong integer ')"
      ],
      "id": "SjQqV5aHFsNi"
    },
    {
      "cell_type": "code",
      "execution_count": null,
      "metadata": {
        "id": "5UKLw2BFF2L0"
      },
      "outputs": [],
      "source": [],
      "id": "5UKLw2BFF2L0"
    },
    {
      "cell_type": "code",
      "execution_count": null,
      "metadata": {
        "id": "YcgnsDq3F2Ql"
      },
      "outputs": [],
      "source": [],
      "id": "YcgnsDq3F2Ql"
    },
    {
      "cell_type": "markdown",
      "metadata": {
        "id": "KWQoSUvkS4p8"
      },
      "source": [
        "# Loop Concept"
      ],
      "id": "KWQoSUvkS4p8"
    },
    {
      "cell_type": "code",
      "execution_count": null,
      "metadata": {
        "id": "VxMFIv4GEodt"
      },
      "outputs": [],
      "source": [
        "#str1[intial_point:end point : gaping]"
      ],
      "id": "VxMFIv4GEodt"
    },
    {
      "cell_type": "code",
      "execution_count": null,
      "metadata": {
        "id": "jcRjC8DdEmfr"
      },
      "outputs": [],
      "source": [],
      "id": "jcRjC8DdEmfr"
    },
    {
      "cell_type": "code",
      "execution_count": null,
      "metadata": {
        "id": "OG1TTzdXW9FC"
      },
      "outputs": [],
      "source": [
        "# for loop & while loop  \n",
        "\n",
        "# while condition1 ....:\n",
        "#   statement1\n",
        "#    statement1"
      ],
      "id": "OG1TTzdXW9FC"
    },
    {
      "cell_type": "code",
      "execution_count": null,
      "metadata": {
        "colab": {
          "base_uri": "https://localhost:8080/"
        },
        "id": "4-LNPwHAGFAO",
        "outputId": "8ef7a8f2-6f23-4110-ab36-03032f52dd7f"
      },
      "outputs": [
        {
          "name": "stdout",
          "output_type": "stream",
          "text": [
            "1\n",
            "2\n",
            "3\n",
            "4\n",
            "5\n"
          ]
        }
      ],
      "source": [
        "num=1 \n",
        "\n",
        "while num <= 5:\n",
        "  print(num) \n",
        "\n",
        "  num = num+1\n",
        "\n"
      ],
      "id": "4-LNPwHAGFAO"
    },
    {
      "cell_type": "code",
      "execution_count": null,
      "metadata": {
        "colab": {
          "base_uri": "https://localhost:8080/"
        },
        "id": "T8orWqVnGFGo",
        "outputId": "9e6341fa-26a2-4db3-8ee1-6f6fd0f4a1ca"
      },
      "outputs": [
        {
          "name": "stdout",
          "output_type": "stream",
          "text": [
            "13\n",
            "26\n",
            "39\n",
            "52\n",
            "65\n",
            "78\n",
            "91\n",
            "104\n",
            "117\n",
            "130\n"
          ]
        }
      ],
      "source": [
        "n=13 \n",
        "\n",
        "while n <=130:\n",
        "  print(n) \n",
        "\n",
        "  n+=13"
      ],
      "id": "T8orWqVnGFGo"
    },
    {
      "cell_type": "code",
      "execution_count": null,
      "metadata": {
        "colab": {
          "base_uri": "https://localhost:8080/"
        },
        "id": "59VAjJY2LF39",
        "outputId": "9ea18a88-9b64-4a04-ce53-049b758c4643"
      },
      "outputs": [
        {
          "name": "stdout",
          "output_type": "stream",
          "text": [
            "India\tJai hind\n"
          ]
        }
      ],
      "source": [
        "print('India',end='\\t')\n",
        "print('Jai hind')"
      ],
      "id": "59VAjJY2LF39"
    },
    {
      "cell_type": "code",
      "execution_count": null,
      "metadata": {
        "colab": {
          "base_uri": "https://localhost:8080/"
        },
        "id": "XBVk6EOEGFMy",
        "outputId": "907fb401-f4c9-40ce-bad5-f4be60af767d"
      },
      "outputs": [
        {
          "output_type": "stream",
          "name": "stdout",
          "text": [
            "Enter Number where you want to start table =10\n",
            "Enter Number where you want to End table =20\n",
            "10\t20\t30\t40\t50\t60\t70\t80\t90\t100\t\n",
            "\n",
            "11\t22\t33\t44\t55\t66\t77\t88\t99\t110\t\n",
            "\n",
            "12\t24\t36\t48\t60\t72\t84\t96\t108\t120\t\n",
            "\n",
            "13\t26\t39\t52\t65\t78\t91\t104\t117\t130\t\n",
            "\n",
            "14\t28\t42\t56\t70\t84\t98\t112\t126\t140\t\n",
            "\n",
            "15\t30\t45\t60\t75\t90\t105\t120\t135\t150\t\n",
            "\n",
            "16\t32\t48\t64\t80\t96\t112\t128\t144\t160\t\n",
            "\n",
            "17\t34\t51\t68\t85\t102\t119\t136\t153\t170\t\n",
            "\n",
            "18\t36\t54\t72\t90\t108\t126\t144\t162\t180\t\n",
            "\n",
            "19\t38\t57\t76\t95\t114\t133\t152\t171\t190\t\n",
            "\n",
            "20\t40\t60\t80\t100\t120\t140\t160\t180\t200\t\n",
            "\n"
          ]
        }
      ],
      "source": [
        "n1=int(input('Enter Number where you want to start table ='))\n",
        "n2=int(input('Enter Number where you want to End table ='))\n",
        "\n",
        "while n1 <=n2:\n",
        "  i=1\n",
        "  while i<=10:\n",
        "    print(n1*i,end ='\\t') \n",
        "    i+=1  \n",
        "\n",
        "  print('\\n')\n",
        "  n1+=1 \n"
      ],
      "id": "XBVk6EOEGFMy"
    },
    {
      "cell_type": "code",
      "source": [
        "n=10 \n",
        "\n",
        "while n<=20:\n",
        "  i=1\n",
        "  while i<=10:\n",
        "    print(n*i,end=\"\\t\")\n",
        "    i=i+1\n",
        "  print()\n",
        "  n=n+1"
      ],
      "metadata": {
        "colab": {
          "base_uri": "https://localhost:8080/"
        },
        "id": "PYZ0Sx7gKI1s",
        "outputId": "0a87ce06-75b0-43ed-a3d3-29b8fbc3047a"
      },
      "id": "PYZ0Sx7gKI1s",
      "execution_count": null,
      "outputs": [
        {
          "output_type": "stream",
          "name": "stdout",
          "text": [
            "10\t20\t30\t40\t50\t60\t70\t80\t90\t100\t\n",
            "11\t22\t33\t44\t55\t66\t77\t88\t99\t110\t\n",
            "12\t24\t36\t48\t60\t72\t84\t96\t108\t120\t\n",
            "13\t26\t39\t52\t65\t78\t91\t104\t117\t130\t\n",
            "14\t28\t42\t56\t70\t84\t98\t112\t126\t140\t\n",
            "15\t30\t45\t60\t75\t90\t105\t120\t135\t150\t\n",
            "16\t32\t48\t64\t80\t96\t112\t128\t144\t160\t\n",
            "17\t34\t51\t68\t85\t102\t119\t136\t153\t170\t\n",
            "18\t36\t54\t72\t90\t108\t126\t144\t162\t180\t\n",
            "19\t38\t57\t76\t95\t114\t133\t152\t171\t190\t\n",
            "20\t40\t60\t80\t100\t120\t140\t160\t180\t200\t\n"
          ]
        }
      ]
    },
    {
      "cell_type": "code",
      "source": [
        "n=11\n",
        "while n<=50:\n",
        "  i=1\n",
        "  while i<=10:\n",
        "    print(n*i,end=\"\\t\")\n",
        "    i+=1 \n",
        "  print()\n",
        "  n+=2\n"
      ],
      "metadata": {
        "colab": {
          "base_uri": "https://localhost:8080/"
        },
        "id": "MlNSkT5vKI6h",
        "outputId": "e84ba5c0-9597-48cb-cd38-994a9cfeb1af"
      },
      "id": "MlNSkT5vKI6h",
      "execution_count": null,
      "outputs": [
        {
          "output_type": "stream",
          "name": "stdout",
          "text": [
            "11\t22\t33\t44\t55\t66\t77\t88\t99\t110\t\n",
            "13\t26\t39\t52\t65\t78\t91\t104\t117\t130\t\n",
            "15\t30\t45\t60\t75\t90\t105\t120\t135\t150\t\n",
            "17\t34\t51\t68\t85\t102\t119\t136\t153\t170\t\n",
            "19\t38\t57\t76\t95\t114\t133\t152\t171\t190\t\n",
            "21\t42\t63\t84\t105\t126\t147\t168\t189\t210\t\n",
            "23\t46\t69\t92\t115\t138\t161\t184\t207\t230\t\n",
            "25\t50\t75\t100\t125\t150\t175\t200\t225\t250\t\n",
            "27\t54\t81\t108\t135\t162\t189\t216\t243\t270\t\n",
            "29\t58\t87\t116\t145\t174\t203\t232\t261\t290\t\n",
            "31\t62\t93\t124\t155\t186\t217\t248\t279\t310\t\n",
            "33\t66\t99\t132\t165\t198\t231\t264\t297\t330\t\n",
            "35\t70\t105\t140\t175\t210\t245\t280\t315\t350\t\n",
            "37\t74\t111\t148\t185\t222\t259\t296\t333\t370\t\n",
            "39\t78\t117\t156\t195\t234\t273\t312\t351\t390\t\n",
            "41\t82\t123\t164\t205\t246\t287\t328\t369\t410\t\n",
            "43\t86\t129\t172\t215\t258\t301\t344\t387\t430\t\n",
            "45\t90\t135\t180\t225\t270\t315\t360\t405\t450\t\n",
            "47\t94\t141\t188\t235\t282\t329\t376\t423\t470\t\n",
            "49\t98\t147\t196\t245\t294\t343\t392\t441\t490\t\n"
          ]
        }
      ]
    },
    {
      "cell_type": "code",
      "source": [
        "num = int(input('Enter a Number for prime check = '))\n",
        "i=2\n",
        "\n",
        "if  num>1:\n",
        "  while i<num:\n",
        "    if num%i ==0:\n",
        "      print(num, \" is a  not  Prime number\")\n",
        "      break \n",
        "    i+=1 \n",
        "  else:\n",
        "    print(num, ' is  prime Number')  \n",
        "else:\n",
        "  print('You have entered invalid input ')      \n"
      ],
      "metadata": {
        "colab": {
          "base_uri": "https://localhost:8080/"
        },
        "id": "r5-LnfqtKJB6",
        "outputId": "18b51ce8-1ddc-41ff-9d21-ad882e1dff14"
      },
      "id": "r5-LnfqtKJB6",
      "execution_count": null,
      "outputs": [
        {
          "output_type": "stream",
          "name": "stdout",
          "text": [
            "Enter a Number for prime check = 51\n",
            "51  is a  not  Prime number\n"
          ]
        }
      ]
    },
    {
      "cell_type": "code",
      "source": [
        "n=10\n",
        "while n>=1:\n",
        "  print(n)\n",
        "  n-=1 "
      ],
      "metadata": {
        "colab": {
          "base_uri": "https://localhost:8080/"
        },
        "id": "_Oi5lTPLQX3u",
        "outputId": "a8d71d31-c7d9-45c0-a4af-aefb7de8bbfd"
      },
      "id": "_Oi5lTPLQX3u",
      "execution_count": null,
      "outputs": [
        {
          "output_type": "stream",
          "name": "stdout",
          "text": [
            "10\n",
            "9\n",
            "8\n",
            "7\n",
            "6\n",
            "5\n",
            "4\n",
            "3\n",
            "2\n",
            "1\n"
          ]
        }
      ]
    },
    {
      "cell_type": "code",
      "source": [],
      "metadata": {
        "id": "DfNix2uIQX74"
      },
      "id": "DfNix2uIQX74",
      "execution_count": null,
      "outputs": []
    },
    {
      "cell_type": "code",
      "source": [],
      "metadata": {
        "id": "OwJJChlZKJGO"
      },
      "id": "OwJJChlZKJGO",
      "execution_count": null,
      "outputs": []
    },
    {
      "cell_type": "code",
      "source": [],
      "metadata": {
        "id": "mvgyvGYOKJLb"
      },
      "id": "mvgyvGYOKJLb",
      "execution_count": null,
      "outputs": []
    },
    {
      "cell_type": "code",
      "source": [],
      "metadata": {
        "id": "a-BcAIQZKJRM"
      },
      "id": "a-BcAIQZKJRM",
      "execution_count": null,
      "outputs": []
    },
    {
      "cell_type": "code",
      "source": [],
      "metadata": {
        "id": "Q0LpmBcAKJVG"
      },
      "id": "Q0LpmBcAKJVG",
      "execution_count": null,
      "outputs": []
    },
    {
      "cell_type": "code",
      "execution_count": null,
      "metadata": {
        "colab": {
          "base_uri": "https://localhost:8080/"
        },
        "id": "2HMMXspZGFSq",
        "outputId": "f2230733-c7b4-4755-9526-556b2c0f03d3"
      },
      "outputs": [
        {
          "name": "stdout",
          "output_type": "stream",
          "text": [
            "11\t22\t33\t44\t55\t66\t77\t88\t99\t110\t\n",
            "\n",
            "13\t26\t39\t52\t65\t78\t91\t104\t117\t130\t\n",
            "\n",
            "15\t30\t45\t60\t75\t90\t105\t120\t135\t150\t\n",
            "\n",
            "17\t34\t51\t68\t85\t102\t119\t136\t153\t170\t\n",
            "\n",
            "19\t38\t57\t76\t95\t114\t133\t152\t171\t190\t\n",
            "\n"
          ]
        }
      ],
      "source": [
        "\n",
        "n = 11\n",
        "while n<=20:\n",
        "    n2 = 1\n",
        "    while n2<=10:\n",
        "        print(n*n2, end= \"\\t\")    \n",
        "        n2+=1\n",
        "    n+=2\n",
        "    print('\\n')\n"
      ],
      "id": "2HMMXspZGFSq"
    },
    {
      "cell_type": "code",
      "execution_count": null,
      "metadata": {
        "id": "dA7J6fbSgFl5"
      },
      "outputs": [],
      "source": [],
      "id": "dA7J6fbSgFl5"
    },
    {
      "cell_type": "markdown",
      "metadata": {
        "id": "AwdwtknygILq"
      },
      "source": [
        "# Start - 7-12-022"
      ],
      "id": "AwdwtknygILq"
    },
    {
      "cell_type": "code",
      "execution_count": null,
      "metadata": {
        "colab": {
          "base_uri": "https://localhost:8080/"
        },
        "id": "j2flB1DKDmRC",
        "outputId": "336fbd0b-2763-4011-9e1a-427b81877332"
      },
      "outputs": [
        {
          "name": "stdout",
          "output_type": "stream",
          "text": [
            "11\t33\t55\t77\t99\t\n",
            "\n",
            "13\t39\t65\t91\t117\t\n",
            "\n",
            "15\t45\t75\t105\t135\t\n",
            "\n",
            "17\t51\t85\t119\t153\t\n",
            "\n",
            "19\t57\t95\t133\t171\t\n",
            "\n"
          ]
        }
      ],
      "source": [
        "n = 11\n",
        "while n<=20:\n",
        "    n2 = 1\n",
        "    while n2<=10:\n",
        "        s=n*n2\n",
        "        if s%2 !=0:\n",
        "          print(s,end='\\t')   \n",
        "        \n",
        "        n2+=1\n",
        "    n+=2\n",
        "    print('\\n')"
      ],
      "id": "j2flB1DKDmRC"
    },
    {
      "cell_type": "code",
      "execution_count": null,
      "metadata": {
        "colab": {
          "base_uri": "https://localhost:8080/"
        },
        "id": "cA92hxyADoxT",
        "outputId": "26fb8783-782a-4adb-d909-676310780b3d"
      },
      "outputs": [
        {
          "name": "stdout",
          "output_type": "stream",
          "text": [
            "enter a number for check prime number =51\n",
            "51  is non-prime number\n"
          ]
        }
      ],
      "source": [
        "num = int(input('enter a number for check prime number ='))\n",
        "\n",
        "\n",
        "if num >1:\n",
        "  n2 = 2 \n",
        "  while n2 < num:\n",
        "    if num % n2 ==0:\n",
        "      print(num, ' is non-prime number') \n",
        "      break \n",
        "         \n",
        "    n2+=1    \n",
        "  else:\n",
        "    print(num,' is a prime number') \n",
        "    \n",
        "     \n",
        "\n",
        "else:\n",
        "  print('Dear User please enter a valid number')     "
      ],
      "id": "cA92hxyADoxT"
    },
    {
      "cell_type": "code",
      "execution_count": null,
      "metadata": {
        "id": "_JWBnSg5Do1z"
      },
      "outputs": [],
      "source": [],
      "id": "_JWBnSg5Do1z"
    },
    {
      "cell_type": "code",
      "execution_count": null,
      "metadata": {
        "colab": {
          "base_uri": "https://localhost:8080/"
        },
        "id": "vDeQo2uBJ089",
        "outputId": "026964b2-f7da-4651-e7bd-ab884da83920"
      },
      "outputs": [
        {
          "name": "stdout",
          "output_type": "stream",
          "text": [
            "Enter number for even/odd check :-\n",
            "20\n",
            "20  is a even Number\n",
            "30\n",
            "30  is a even Number\n",
            "40\n",
            "40  is a even Number\n",
            "30\n",
            "30  is a even Number\n",
            "10\n",
            "10  is a even Number\n"
          ]
        }
      ],
      "source": [
        "n1 = 0 \n",
        "\n",
        "print('Enter number for even/odd check :-')\n",
        "while n1<5:\n",
        "  num = int(input())\n",
        "  if num % 2 == 0:\n",
        "    print(num ,' is a even Number') \n",
        "  else:\n",
        "    print(num ,' is not a even Number') \n",
        "\n",
        "  n1+=1 \n"
      ],
      "id": "vDeQo2uBJ089"
    },
    {
      "cell_type": "code",
      "execution_count": null,
      "metadata": {
        "id": "xHmNWtzZJ1KS"
      },
      "outputs": [],
      "source": [
        "n1 = 0 \n",
        "\n",
        "print('Enter number for even/odd check :-')\n",
        "while n1<5:\n",
        "  num = int(input())\n",
        "  if num % 2 == 0:\n",
        "    print(num ,' is a even Number') \n",
        "  else:\n",
        "    print(num ,' is not a even Number') \n",
        "\n",
        "  n1+=1 "
      ],
      "id": "xHmNWtzZJ1KS"
    },
    {
      "cell_type": "code",
      "execution_count": null,
      "metadata": {
        "colab": {
          "base_uri": "https://localhost:8080/"
        },
        "id": "_u8QjZfUJ1Ol",
        "outputId": "ff74852c-9cad-4721-c8b6-e57922f9811f"
      },
      "outputs": [
        {
          "name": "stdout",
          "output_type": "stream",
          "text": [
            "Enter number for even/odd check :-\n",
            "20\n",
            "30\n",
            "45\n",
            "19\n",
            "20\n",
            "Even number = [20, 30, 20] \n",
            " Odd number =[45, 19] \n"
          ]
        }
      ],
      "source": [
        "n1 = 0 \n",
        "odd =[]\n",
        "even=[]\n",
        "print('Enter number for even/odd check :-')\n",
        "while n1<5:\n",
        "  num = int(input())\n",
        "  if num % 2 == 0:\n",
        "    even.append(num) \n",
        "  else:\n",
        "    odd.append(num)\n",
        "\n",
        "  n1+=1 \n",
        "\n",
        "print('Even number = {} \\n Odd number ={} '.format(even,odd))   \n",
        "\n"
      ],
      "id": "_u8QjZfUJ1Ol"
    },
    {
      "cell_type": "code",
      "execution_count": null,
      "metadata": {
        "id": "jj4tsj2bJ1dC"
      },
      "outputs": [],
      "source": [
        "n1 = 0 \n",
        "odd =[]\n",
        "even=[]\n",
        "print('Enter number for even/odd check :-')\n",
        "while True:\n",
        "  n = int(input())\n",
        "  if n  % 2 == 0:\n",
        "    even.append(num) \n",
        "  else:\n",
        "     \n",
        "\n",
        "  n1+=1 \n",
        "\n",
        "print('Even number = {} \\n Odd number ={} '.format(even,odd))   "
      ],
      "id": "jj4tsj2bJ1dC"
    },
    {
      "cell_type": "code",
      "execution_count": null,
      "metadata": {
        "colab": {
          "base_uri": "https://localhost:8080/"
        },
        "id": "NVZym5lJJzup",
        "outputId": "7bc5a2d4-da19-497a-980c-5b9258b5a286"
      },
      "outputs": [
        {
          "name": "stdout",
          "output_type": "stream",
          "text": [
            "0\n",
            "1\n",
            "2\n",
            "3\n"
          ]
        }
      ],
      "source": [
        "# for loop \n",
        "\n",
        "for i in range(4):\n",
        "  print(i)\n",
        "\n"
      ],
      "id": "NVZym5lJJzup"
    },
    {
      "cell_type": "code",
      "execution_count": null,
      "metadata": {
        "colab": {
          "base_uri": "https://localhost:8080/"
        },
        "id": "q05YucDEDo6t",
        "outputId": "20feb703-7a86-4c14-d4cf-87680ff98ba1"
      },
      "outputs": [
        {
          "name": "stdout",
          "output_type": "stream",
          "text": [
            "2\n",
            "4\n",
            "6\n",
            "8\n",
            "10\n",
            "12\n",
            "14\n",
            "16\n",
            "18\n",
            "20\n"
          ]
        }
      ],
      "source": [
        "for i in range(2,21,2):\n",
        "  print(i) "
      ],
      "id": "q05YucDEDo6t"
    },
    {
      "cell_type": "code",
      "execution_count": null,
      "metadata": {
        "colab": {
          "base_uri": "https://localhost:8080/"
        },
        "id": "VT5VusGtDmV9",
        "outputId": "f2767f54-1fb4-4894-9d8b-3b8fa5d7a599"
      },
      "outputs": [
        {
          "name": "stdout",
          "output_type": "stream",
          "text": [
            "13\n",
            "26\n",
            "39\n",
            "52\n",
            "65\n",
            "78\n",
            "91\n",
            "104\n",
            "117\n",
            "130\n"
          ]
        }
      ],
      "source": [
        "for i in range(13,131,13):\n",
        "  print(i)"
      ],
      "id": "VT5VusGtDmV9"
    },
    {
      "cell_type": "code",
      "execution_count": null,
      "metadata": {
        "colab": {
          "base_uri": "https://localhost:8080/"
        },
        "id": "PZvn8GTdDmcn",
        "outputId": "d44e00b9-1d20-4035-8049-8e0ae41ca07c"
      },
      "outputs": [
        {
          "name": "stdout",
          "output_type": "stream",
          "text": [
            "20  is a even number\n",
            "30  is a even number\n",
            "50  is a even number\n",
            "70  is a even number\n",
            "89  is odd number\n",
            "29  is odd number\n",
            "55  is odd number\n",
            "40  is a even number\n",
            "20  is a even number\n"
          ]
        }
      ],
      "source": [
        "l = [20,30,50,70,89,29,55,40,20] \n",
        "\n",
        "\n",
        "for i in l:\n",
        "  if i%2==0:\n",
        "    print(i, ' is a even number')\n",
        "  else:\n",
        "    print(i, ' is odd number')  "
      ],
      "id": "PZvn8GTdDmcn"
    },
    {
      "cell_type": "code",
      "execution_count": null,
      "metadata": {
        "colab": {
          "base_uri": "https://localhost:8080/"
        },
        "id": "lMfAHZhiTBGy",
        "outputId": "008d52e4-efc3-40ae-9521-ce745285745b"
      },
      "outputs": [
        {
          "name": "stdout",
          "output_type": "stream",
          "text": [
            "11\t22\t33\t44\t55\t66\t77\t88\t99\t110\t\n",
            "13\t26\t39\t52\t65\t78\t91\t104\t117\t130\t\n",
            "15\t30\t45\t60\t75\t90\t105\t120\t135\t150\t\n",
            "17\t34\t51\t68\t85\t102\t119\t136\t153\t170\t\n",
            "19\t38\t57\t76\t95\t114\t133\t152\t171\t190\t\n"
          ]
        }
      ],
      "source": [
        "for i in range(11,21,2):\n",
        "  for j in range(1,11):\n",
        "    print(i*j,end=\"\\t\")\n",
        "  print()  \n",
        "\n"
      ],
      "id": "lMfAHZhiTBGy"
    },
    {
      "cell_type": "code",
      "execution_count": null,
      "metadata": {
        "id": "wbRZ29A2TBN0"
      },
      "outputs": [],
      "source": [],
      "id": "wbRZ29A2TBN0"
    },
    {
      "cell_type": "code",
      "execution_count": null,
      "metadata": {
        "colab": {
          "base_uri": "https://localhost:8080/"
        },
        "id": "LCRgz2dTTBaX",
        "outputId": "3c3009ac-146d-4c8d-d003-45974e0b177b"
      },
      "outputs": [
        {
          "name": "stdout",
          "output_type": "stream",
          "text": [
            "Enter a number to check prime or not = 1\n",
            "Invalid input , please reneter the number\n"
          ]
        }
      ],
      "source": [
        "n = int(input('Enter a number to check prime or not = '))\n",
        "\n",
        "if n > 1:\n",
        "  for i in range(2,n):\n",
        "    if n % i ==0:\n",
        "      print(n,' is a non-prime number ')\n",
        "      break\n",
        "  else:\n",
        "    print(n,' is prime number')\n",
        "       \n",
        "else:\n",
        "  print('Invalid input , please reneter the number')"
      ],
      "id": "LCRgz2dTTBaX"
    },
    {
      "cell_type": "code",
      "execution_count": null,
      "metadata": {
        "id": "j_qWV-u1TBiY"
      },
      "outputs": [],
      "source": [],
      "id": "j_qWV-u1TBiY"
    },
    {
      "cell_type": "code",
      "execution_count": null,
      "metadata": {
        "colab": {
          "base_uri": "https://localhost:8080/"
        },
        "id": "PBUC3dyTTBmw",
        "outputId": "54867d78-0731-4e1e-fbbb-1ef6719c33c5"
      },
      "outputs": [
        {
          "name": "stdout",
          "output_type": "stream",
          "text": [
            "****\n",
            "***\n",
            "**\n",
            "*\n"
          ]
        }
      ],
      "source": [
        "for i in range(1,5):\n",
        "  for j in range(5,i,-1):\n",
        "    print('*',end='')\n",
        "  print()  "
      ],
      "id": "PBUC3dyTTBmw"
    },
    {
      "cell_type": "code",
      "execution_count": null,
      "metadata": {
        "id": "xliNnMNsTBqf"
      },
      "outputs": [],
      "source": [
        "l = [12,13,45,68,90]"
      ],
      "id": "xliNnMNsTBqf"
    },
    {
      "cell_type": "code",
      "execution_count": null,
      "metadata": {
        "colab": {
          "base_uri": "https://localhost:8080/"
        },
        "id": "yF7WgOjhcnCw",
        "outputId": "60a2d6cf-d507-4d79-a7ed-b368be79e8eb"
      },
      "outputs": [
        {
          "name": "stdout",
          "output_type": "stream",
          "text": [
            "0 Smith\n",
            "s\n",
            "['s', 13, 'Smith', 68, 'Smith']\n",
            "1 13\n",
            "2 Smith\n",
            "r\n",
            "['s', 13, 'r', 68, 'Smith']\n",
            "3 68\n",
            "4 Smith\n",
            "m\n",
            "['s', 13, 'r', 68, 'm']\n"
          ]
        }
      ],
      "source": [
        "for i in range(len(l)):\n",
        "  print(i,l[i]) \n",
        "  if i%2==0:\n",
        "    l[i]=input() \n",
        "    print(l)   "
      ],
      "id": "yF7WgOjhcnCw"
    },
    {
      "cell_type": "code",
      "execution_count": null,
      "metadata": {
        "id": "zyIlUzeDcnUm"
      },
      "outputs": [],
      "source": [
        "str1 = ['john','mohan','shyam','smith','ramayan']"
      ],
      "id": "zyIlUzeDcnUm"
    },
    {
      "cell_type": "code",
      "execution_count": null,
      "metadata": {
        "id": "Sc1Zf4AlcnjD"
      },
      "outputs": [],
      "source": [
        "for i in "
      ],
      "id": "Sc1Zf4AlcnjD"
    },
    {
      "cell_type": "code",
      "execution_count": null,
      "metadata": {
        "colab": {
          "base_uri": "https://localhost:8080/"
        },
        "id": "2SuK_d8BfK1B",
        "outputId": "ae11422a-6534-49cf-bb0c-cd5b511e1501"
      },
      "outputs": [
        {
          "name": "stdout",
          "output_type": "stream",
          "text": [
            "2 12\n",
            "3 13\n",
            "4 45\n",
            "5 68\n",
            "6 90\n"
          ]
        }
      ],
      "source": [
        "l = [12,13,45,68,90] \n",
        "\n",
        "for index,value in enumerate(l,start=2):\n",
        "  print(index,value)"
      ],
      "id": "2SuK_d8BfK1B"
    },
    {
      "cell_type": "code",
      "execution_count": null,
      "metadata": {
        "id": "--v3l1mpfK7H"
      },
      "outputs": [],
      "source": [],
      "id": "--v3l1mpfK7H"
    },
    {
      "cell_type": "code",
      "execution_count": null,
      "metadata": {
        "id": "Lp3E_bZ2cnq8"
      },
      "outputs": [],
      "source": [],
      "id": "Lp3E_bZ2cnq8"
    },
    {
      "cell_type": "markdown",
      "metadata": {
        "id": "tzQk1u8Bf1gr"
      },
      "source": [
        "# For loop Complete"
      ],
      "id": "tzQk1u8Bf1gr"
    },
    {
      "cell_type": "code",
      "execution_count": null,
      "metadata": {
        "id": "Urx3N6o4TBuk"
      },
      "outputs": [],
      "source": [],
      "id": "Urx3N6o4TBuk"
    },
    {
      "cell_type": "code",
      "execution_count": null,
      "metadata": {
        "id": "BgNfTs9TDmsD"
      },
      "outputs": [],
      "source": [],
      "id": "BgNfTs9TDmsD"
    },
    {
      "cell_type": "code",
      "execution_count": null,
      "metadata": {
        "colab": {
          "base_uri": "https://localhost:8080/"
        },
        "id": "hx71n65sW9Mm",
        "outputId": "65d147ed-6039-45a0-d7ac-b6a33fa643ea"
      },
      "outputs": [
        {
          "name": "stdout",
          "output_type": "stream",
          "text": [
            "1\n",
            "2\n",
            "3\n",
            "4\n",
            "5\n",
            "6\n",
            "7\n",
            "8\n",
            "9\n",
            "10\n",
            "End\n"
          ]
        }
      ],
      "source": [
        "\n",
        "num1 = 1\n",
        "\n",
        "while num1 <= 10:\n",
        "  print(num1) \n",
        "  num1 += 1 \n",
        "\n",
        "print('End')  "
      ],
      "id": "hx71n65sW9Mm"
    },
    {
      "cell_type": "code",
      "execution_count": null,
      "metadata": {
        "colab": {
          "base_uri": "https://localhost:8080/"
        },
        "id": "sWnL6a-VW9S6",
        "outputId": "5db9846d-51fe-4686-ecf7-2446423c5366"
      },
      "outputs": [
        {
          "name": "stdout",
          "output_type": "stream",
          "text": [
            "2\n",
            "4\n",
            "6\n",
            "8\n",
            "10\n",
            "12\n",
            "14\n",
            "16\n",
            "18\n",
            "20\n",
            "End\n"
          ]
        }
      ],
      "source": [
        "num=13\n",
        "\n",
        "while num<=130:\n",
        "  print(num)\n",
        "  num +=2\n",
        "\n",
        "print('End')"
      ],
      "id": "sWnL6a-VW9S6"
    },
    {
      "cell_type": "code",
      "execution_count": null,
      "metadata": {
        "colab": {
          "base_uri": "https://localhost:8080/"
        },
        "id": "uEmWn-uGW9W4",
        "outputId": "cec4910c-f8fd-4c6b-af68-92ad02eb1c39"
      },
      "outputs": [
        {
          "name": "stdout",
          "output_type": "stream",
          "text": [
            "1\t2\t3\t4\t5\t6\t7\t8\t9\t10\t\n",
            "2\t4\t6\t8\t10\t12\t14\t16\t18\t20\t\n",
            "3\t6\t9\t12\t15\t18\t21\t24\t27\t30\t\n",
            "4\t8\t12\t16\t20\t24\t28\t32\t36\t40\t\n",
            "5\t10\t15\t20\t25\t30\t35\t40\t45\t50\t\n",
            "6\t12\t18\t24\t30\t36\t42\t48\t54\t60\t\n",
            "7\t14\t21\t28\t35\t42\t49\t56\t63\t70\t\n",
            "8\t16\t24\t32\t40\t48\t56\t64\t72\t80\t\n",
            "9\t18\t27\t36\t45\t54\t63\t72\t81\t90\t\n",
            "10\t20\t30\t40\t50\t60\t70\t80\t90\t100\t\n"
          ]
        }
      ],
      "source": [
        "n = 1\n",
        "while n<=10:\n",
        "  j=1\n",
        "#  print('Table of ',n)\n",
        "  while j<=10:\n",
        "    print(n*j,end='\\t') \n",
        "    j+=1 \n",
        "  print()  \n",
        "      \n",
        "  n+=1  "
      ],
      "id": "uEmWn-uGW9W4"
    },
    {
      "cell_type": "code",
      "execution_count": null,
      "metadata": {
        "colab": {
          "base_uri": "https://localhost:8080/"
        },
        "id": "C8IeSB1vWF0C",
        "outputId": "43e65e1e-f5b1-4e65-fb38-e5b1ba1ec0da"
      },
      "outputs": [
        {
          "name": "stdout",
          "output_type": "stream",
          "text": [
            "2\t4\t6\t8\t10\t12\t14\t16\t18\t20\t\n",
            "4\t8\t12\t16\t20\t24\t28\t32\t36\t40\t\n",
            "6\t12\t18\t24\t30\t36\t42\t48\t54\t60\t\n",
            "8\t16\t24\t32\t40\t48\t56\t64\t72\t80\t\n",
            "10\t20\t30\t40\t50\t60\t70\t80\t90\t100\t\n"
          ]
        }
      ],
      "source": [
        "n = 2\n",
        "while n<=10:\n",
        "  j=1\n",
        "#  print('Table of ',n)\n",
        "  while j<=10:\n",
        "    print(n*j,end='\\t') \n",
        "    j+=1 \n",
        "  print()  \n",
        "      \n",
        "  n+=2"
      ],
      "id": "C8IeSB1vWF0C"
    },
    {
      "cell_type": "code",
      "execution_count": null,
      "metadata": {
        "id": "DPpOvimyWF4l"
      },
      "outputs": [],
      "source": [],
      "id": "DPpOvimyWF4l"
    },
    {
      "cell_type": "markdown",
      "metadata": {
        "id": "6OkkZY7rTBKg"
      },
      "source": [
        "**Take a moment**"
      ],
      "id": "6OkkZY7rTBKg"
    },
    {
      "cell_type": "code",
      "execution_count": null,
      "metadata": {
        "colab": {
          "base_uri": "https://localhost:8080/"
        },
        "id": "UIwcoZC2T6ky",
        "outputId": "4368aba7-2d3c-4c44-f82c-555c5da6de0f"
      },
      "outputs": [
        {
          "name": "stdout",
          "output_type": "stream",
          "text": [
            "1\t2\t3\t4\t5\t6\t7\t8\t9\t10\t\n",
            "2\t4\t6\t8\t10\t12\t14\t16\t18\t20\t\n",
            "3\t6\t9\t12\t15\t18\t21\t24\t27\t30\t\n",
            "4\t8\t12\t16\t20\t24\t28\t32\t36\t40\t\n",
            "5\t10\t15\t20\t25\t30\t35\t40\t45\t50\t\n",
            "6\t12\t18\t24\t30\t36\t42\t48\t54\t60\t\n",
            "7\t14\t21\t28\t35\t42\t49\t56\t63\t70\t\n",
            "8\t16\t24\t32\t40\t48\t56\t64\t72\t80\t\n",
            "9\t18\t27\t36\t45\t54\t63\t72\t81\t90\t\n",
            "10\t20\t30\t40\t50\t60\t70\t80\t90\t100\t\n"
          ]
        }
      ],
      "source": [
        "# for loop \n",
        "for i in range(1,11):\n",
        "  for j in range(1,11):\n",
        "    print(i*j,end=\"\\t\")\n",
        "  print()  "
      ],
      "id": "UIwcoZC2T6ky"
    },
    {
      "cell_type": "code",
      "execution_count": null,
      "metadata": {
        "id": "A9aVfycUT6pz"
      },
      "outputs": [],
      "source": [],
      "id": "A9aVfycUT6pz"
    },
    {
      "cell_type": "code",
      "execution_count": null,
      "metadata": {
        "id": "WJClHlpCjq3w"
      },
      "outputs": [],
      "source": [],
      "id": "WJClHlpCjq3w"
    },
    {
      "cell_type": "code",
      "execution_count": null,
      "metadata": {
        "id": "rTMhc4NUjq7q"
      },
      "outputs": [],
      "source": [],
      "id": "rTMhc4NUjq7q"
    },
    {
      "cell_type": "code",
      "execution_count": null,
      "metadata": {
        "id": "fScgkVXpjrAm"
      },
      "outputs": [],
      "source": [],
      "id": "fScgkVXpjrAm"
    },
    {
      "cell_type": "code",
      "execution_count": null,
      "metadata": {
        "id": "wTJwpMV8T6yh"
      },
      "outputs": [],
      "source": [],
      "id": "wTJwpMV8T6yh"
    },
    {
      "cell_type": "code",
      "execution_count": null,
      "metadata": {
        "id": "Ho0jHNhRPmyB"
      },
      "outputs": [],
      "source": [],
      "id": "Ho0jHNhRPmyB"
    },
    {
      "cell_type": "code",
      "execution_count": null,
      "metadata": {
        "id": "nJiVzAwMPm2W"
      },
      "outputs": [],
      "source": [],
      "id": "nJiVzAwMPm2W"
    },
    {
      "cell_type": "code",
      "execution_count": null,
      "metadata": {
        "id": "snl1_7FCPm-c"
      },
      "outputs": [],
      "source": [],
      "id": "snl1_7FCPm-c"
    },
    {
      "cell_type": "code",
      "execution_count": null,
      "metadata": {
        "id": "OK9pNS1bPXf1"
      },
      "outputs": [],
      "source": [
        "st = input('Please enter your name = ')\n",
        "if len(st) < 4:\n",
        "    print(st, \" this is good Name \")\n",
        "elif len(st)= 5:\n",
        "    print(st, \" this is not good Name\")\n",
        "else:\n",
        "    print(\" i can recomend a name\")\n"
      ],
      "id": "OK9pNS1bPXf1"
    },
    {
      "cell_type": "code",
      "execution_count": null,
      "metadata": {
        "id": "OM7efwflPXj0"
      },
      "outputs": [],
      "source": [],
      "id": "OM7efwflPXj0"
    },
    {
      "cell_type": "code",
      "execution_count": null,
      "metadata": {
        "id": "pD_TcnwLPXpN"
      },
      "outputs": [],
      "source": [],
      "id": "pD_TcnwLPXpN"
    },
    {
      "cell_type": "code",
      "execution_count": null,
      "metadata": {
        "id": "JUbMg2tvPXtt"
      },
      "outputs": [],
      "source": [],
      "id": "JUbMg2tvPXtt"
    },
    {
      "cell_type": "code",
      "execution_count": null,
      "metadata": {
        "id": "0Bc-iBcoPXxw"
      },
      "outputs": [],
      "source": [],
      "id": "0Bc-iBcoPXxw"
    },
    {
      "cell_type": "code",
      "execution_count": null,
      "metadata": {
        "id": "kXqyh7HKLava"
      },
      "outputs": [],
      "source": [],
      "id": "kXqyh7HKLava"
    },
    {
      "cell_type": "code",
      "execution_count": null,
      "metadata": {
        "id": "fVSxD-I8Lay2"
      },
      "outputs": [],
      "source": [],
      "id": "fVSxD-I8Lay2"
    },
    {
      "cell_type": "code",
      "execution_count": null,
      "metadata": {
        "id": "Nm0EzWh2Hbsg"
      },
      "outputs": [],
      "source": [],
      "id": "Nm0EzWh2Hbsg"
    },
    {
      "cell_type": "code",
      "execution_count": null,
      "metadata": {
        "id": "CpKXK440Hbvu"
      },
      "outputs": [],
      "source": [],
      "id": "CpKXK440Hbvu"
    },
    {
      "cell_type": "code",
      "execution_count": null,
      "metadata": {
        "id": "Ssg0X8BcHbyo"
      },
      "outputs": [],
      "source": [],
      "id": "Ssg0X8BcHbyo"
    },
    {
      "cell_type": "code",
      "execution_count": null,
      "metadata": {
        "id": "NdFEpsV_Hb1v"
      },
      "outputs": [],
      "source": [],
      "id": "NdFEpsV_Hb1v"
    },
    {
      "cell_type": "code",
      "execution_count": null,
      "metadata": {
        "id": "ZGHVyrJ9Hb40"
      },
      "outputs": [],
      "source": [],
      "id": "ZGHVyrJ9Hb40"
    },
    {
      "cell_type": "code",
      "execution_count": null,
      "metadata": {
        "colab": {
          "base_uri": "https://localhost:8080/"
        },
        "id": "x9vtzw3jzpTa",
        "outputId": "ef1e7641-81da-4afc-b42a-120d3caccb76"
      },
      "outputs": [
        {
          "name": "stdout",
          "output_type": "stream",
          "text": [
            "This is your python class\n",
            "This is your python book\n",
            "This is not your python class\n"
          ]
        }
      ],
      "source": [
        "num = 2\n",
        "\n",
        "if num == 2:\n",
        "  print(\"This is your python class\")\n",
        "  print(\"This is your python book\")\n",
        "\n",
        "print(\"This is not your python class\")\n"
      ],
      "id": "x9vtzw3jzpTa"
    },
    {
      "cell_type": "code",
      "execution_count": null,
      "metadata": {
        "colab": {
          "base_uri": "https://localhost:8080/"
        },
        "id": "Jfz3mFU_0VDC",
        "outputId": "2d0d145a-4317-42bc-f495-d8077cae19de"
      },
      "outputs": [
        {
          "name": "stdout",
          "output_type": "stream",
          "text": [
            "This is true condition\n"
          ]
        }
      ],
      "source": [
        "num = 1\n",
        "\n",
        "if num == 1:\n",
        "  print(\"This is true condition\")\n",
        "else:\n",
        "  print(\"THis false condition\")\n"
      ],
      "id": "Jfz3mFU_0VDC"
    },
    {
      "cell_type": "code",
      "execution_count": null,
      "metadata": {
        "id": "YTWEcgp40VGP"
      },
      "outputs": [],
      "source": [],
      "id": "YTWEcgp40VGP"
    },
    {
      "cell_type": "code",
      "execution_count": null,
      "metadata": {
        "colab": {
          "base_uri": "https://localhost:8080/"
        },
        "id": "8MSaFFgx0VKb",
        "outputId": "61736e46-0c2f-4630-f201-857857928645"
      },
      "outputs": [
        {
          "data": {
            "text/plain": [
              "bool"
            ]
          },
          "execution_count": 20,
          "metadata": {},
          "output_type": "execute_result"
        }
      ],
      "source": [
        "type(flag)"
      ],
      "id": "8MSaFFgx0VKb"
    },
    {
      "cell_type": "code",
      "execution_count": null,
      "metadata": {
        "id": "SekEUd0qzpYu"
      },
      "outputs": [],
      "source": [
        "flag = 0\n",
        "\n",
        "num1 = True \n",
        "num2 = True\n",
        "if num1 == num2:\n",
        "  flag = 1\n",
        "else:\n",
        "  flag = 0   "
      ],
      "id": "SekEUd0qzpYu"
    },
    {
      "cell_type": "code",
      "execution_count": null,
      "metadata": {
        "id": "p1Zq1fjJ40IB"
      },
      "outputs": [],
      "source": [
        "num = 13 \n",
        "\n",
        "num % 2 == 0 \n"
      ],
      "id": "p1Zq1fjJ40IB"
    },
    {
      "cell_type": "code",
      "execution_count": null,
      "metadata": {
        "colab": {
          "base_uri": "https://localhost:8080/"
        },
        "id": "dmA5b5-9zpcT",
        "outputId": "9ff81b29-da79-4643-8990-1943db3161fb"
      },
      "outputs": [
        {
          "name": "stdout",
          "output_type": "stream",
          "text": [
            "Enter a Number =49\n",
            "49  is odd number\n"
          ]
        }
      ],
      "source": [
        "num = int(input(\"Enter a Number =\"))\n",
        "\n",
        "if num % 2 == 0:\n",
        "  print(num,' is Even Number')\n",
        "else:\n",
        "  print(num,' is odd number')  "
      ],
      "id": "dmA5b5-9zpcT"
    },
    {
      "cell_type": "code",
      "execution_count": null,
      "metadata": {
        "id": "CV1LnS9u783n"
      },
      "outputs": [],
      "source": [
        "22 \n",
        "-22"
      ],
      "id": "CV1LnS9u783n"
    },
    {
      "cell_type": "code",
      "execution_count": null,
      "metadata": {
        "colab": {
          "base_uri": "https://localhost:8080/"
        },
        "id": "SUokVXeezpfY",
        "outputId": "7a27f796-ff31-42b3-be1b-ea1372e12295"
      },
      "outputs": [
        {
          "name": "stdout",
          "output_type": "stream",
          "text": [
            "Enter a Number = 0 \n",
            "0  is a positive Number\n"
          ]
        }
      ],
      "source": [
        "num = int(input(\"Enter a Number = \"))\n",
        "\n",
        "if num < 0:\n",
        "  print(num,'is Negative Number')\n",
        "else:\n",
        "  print(num,' is a positive Number')  "
      ],
      "id": "SUokVXeezpfY"
    },
    {
      "cell_type": "code",
      "execution_count": null,
      "metadata": {
        "colab": {
          "base_uri": "https://localhost:8080/"
        },
        "id": "IsibfOr_zpig",
        "outputId": "218ee379-3c96-4a13-e34e-fce4ccba985a"
      },
      "outputs": [
        {
          "name": "stdout",
          "output_type": "stream",
          "text": [
            "Enter a Number = 99\n",
            "99  is a number\n"
          ]
        }
      ],
      "source": [
        "num = int(input(\"Enter a Number = \"))\n",
        "\n",
        "if num < 0:\n",
        "  print(num,'is Negative Number')\n",
        "elif num >= 0 and num <=9:\n",
        "  print(num,' is digit')\n",
        "else:\n",
        "  print(num,' is a number')    \n"
      ],
      "id": "IsibfOr_zpig"
    },
    {
      "cell_type": "code",
      "execution_count": null,
      "metadata": {
        "colab": {
          "base_uri": "https://localhost:8080/"
        },
        "id": "diQwW4Z5-i3U",
        "outputId": "7f3393b5-dc0d-4b4f-ca17-e4617c826716"
      },
      "outputs": [
        {
          "name": "stdout",
          "output_type": "stream",
          "text": [
            "Enter your Name =HIMALYANAGAGDDAAHAFHA\n",
            "your name is too much long\n",
            "If you want then i recomnd yo a name yes-1 no- 0 1\n",
            "what about Shiv,kitu,pintu,john ..\n"
          ]
        }
      ],
      "source": [
        "str1 = input('Enter your Name =')\n",
        "\n",
        "\n",
        "if len(str1) <=3:\n",
        "  print(\"Your name is nice\")\n",
        "elif len(str1) > 3 and len(str1) <= 8:\n",
        "  print('your name is too long')\n",
        "elif len(str1) > 8:\n",
        "  print('your name is too much long')\n",
        "  n = input('If you want then i recomend yo a name yes/no ')\n",
        "  if n == 'yes':\n",
        "    print('what about Shiv,kitu,pintu,john ..')\n",
        "  else:\n",
        "    print('Thank you, Enjoy with your name')   \n",
        "\n",
        "\n"
      ],
      "id": "diQwW4Z5-i3U"
    },
    {
      "cell_type": "code",
      "execution_count": null,
      "metadata": {
        "id": "Lezkxi3QBj2-"
      },
      "outputs": [],
      "source": [
        "# AKASH "
      ],
      "id": "Lezkxi3QBj2-"
    },
    {
      "cell_type": "code",
      "execution_count": null,
      "metadata": {
        "id": "wn2UAHHABj67"
      },
      "outputs": [],
      "source": [
        "# NITIN"
      ],
      "id": "wn2UAHHABj67"
    },
    {
      "cell_type": "code",
      "execution_count": null,
      "metadata": {
        "colab": {
          "base_uri": "https://localhost:8080/"
        },
        "id": "XsYbh7FDBj_I",
        "outputId": "4317e0cb-e909-4843-a5c7-bd9675149706"
      },
      "outputs": [
        {
          "name": "stdout",
          "output_type": "stream",
          "text": [
            "Enter your Name =NITIN\n",
            "NITIN  is a amstrong string\n"
          ]
        }
      ],
      "source": [
        "str1 = input('Enter your Name = ')\n",
        "\n",
        "str2 = str1[::-1]\n",
        "\n",
        "if str1 == str2:\n",
        "  print(str1, ' is a amstrong string')\n",
        "else:\n",
        "  print(str1, ' is not amstrong string')  \n"
      ],
      "id": "XsYbh7FDBj_I"
    },
    {
      "cell_type": "code",
      "execution_count": null,
      "metadata": {
        "colab": {
          "base_uri": "https://localhost:8080/",
          "height": 36
        },
        "id": "PlidgV93BkDS",
        "outputId": "e03f1827-6c3b-4c6e-e1a6-99ff476eb24f"
      },
      "outputs": [
        {
          "data": {
            "application/vnd.google.colaboratory.intrinsic+json": {
              "type": "string"
            },
            "text/plain": [
              "'TIHSRAH'"
            ]
          },
          "execution_count": 8,
          "metadata": {},
          "output_type": "execute_result"
        }
      ],
      "source": [
        "str2\n"
      ],
      "id": "PlidgV93BkDS"
    },
    {
      "cell_type": "code",
      "execution_count": null,
      "metadata": {
        "id": "DsFA9Hs095AE"
      },
      "outputs": [],
      "source": [
        "str1=input(\"Enter your name=\")\n",
        "n=len(str1)\n",
        "\n",
        "if n<3:\n",
        "  print('Your name is too short')\n",
        "elif n>3 and n<=8:\n",
        "  print('Your name is good')\n",
        "elif n>8:\n",
        "  print('Your name is to long')\n",
        "  n = input('If you want suggestion for name yes/no=')\n",
        "  if n=='yes':\n",
        "    print(input('choose alphabet From A to Z='))\n",
        "  if 'A':\n",
        "    print('Aakash,abhay,ajay,amit')\n",
        "  if 'B':\n",
        "    print('Bobby,bablu,bulbul')\n",
        "  if 'D':\n",
        "    print('Deepak,deepanshu,deepika')\n",
        "else:\n",
        "  print('we appriciate your concern to not change your name')    \n",
        "\n"
      ],
      "id": "DsFA9Hs095AE"
    },
    {
      "cell_type": "code",
      "execution_count": null,
      "metadata": {
        "id": "WVJgNqCZ95G-"
      },
      "outputs": [],
      "source": [],
      "id": "WVJgNqCZ95G-"
    },
    {
      "cell_type": "code",
      "execution_count": null,
      "metadata": {
        "id": "7UU0vjbu95MC"
      },
      "outputs": [],
      "source": [],
      "id": "7UU0vjbu95MC"
    },
    {
      "cell_type": "code",
      "execution_count": null,
      "metadata": {
        "colab": {
          "base_uri": "https://localhost:8080/"
        },
        "id": "gQZmvEsyBkLe",
        "outputId": "b8415a46-cfd7-400f-faa7-d884cff75f04"
      },
      "outputs": [
        {
          "name": "stdout",
          "output_type": "stream",
          "text": [
            "1\n",
            "2\n",
            "3\n",
            "4\n",
            "5\n"
          ]
        }
      ],
      "source": [
        "#  While loop \n",
        "num = 1\n",
        "\n",
        "while num <=5:\n",
        "  print(num)\n",
        "  num = num + 1\n",
        "\n",
        "  "
      ],
      "id": "gQZmvEsyBkLe"
    },
    {
      "cell_type": "code",
      "execution_count": null,
      "metadata": {
        "colab": {
          "base_uri": "https://localhost:8080/"
        },
        "id": "yGr4XC688eqI",
        "outputId": "59500bf4-ae3f-4e6d-cfe7-e19d0222e949"
      },
      "outputs": [
        {
          "name": "stdout",
          "output_type": "stream",
          "text": [
            "2\n",
            "4\n",
            "6\n",
            "8\n",
            "10\n",
            "12\n",
            "14\n",
            "16\n",
            "18\n",
            "20\n"
          ]
        }
      ],
      "source": [
        "num=2\n",
        "\n",
        "while num <= 21:\n",
        "  print(num)  \n",
        "  num +=2 \n"
      ],
      "id": "yGr4XC688eqI"
    },
    {
      "cell_type": "code",
      "execution_count": null,
      "metadata": {
        "colab": {
          "base_uri": "https://localhost:8080/"
        },
        "id": "I2Gnyeh89WPw",
        "outputId": "5b4d1d8e-c2d2-4ed7-bf31-cbd5c1afff32"
      },
      "outputs": [
        {
          "name": "stdout",
          "output_type": "stream",
          "text": [
            "13\n",
            "26\n",
            "39\n",
            "52\n",
            "65\n",
            "78\n",
            "91\n",
            "104\n",
            "117\n",
            "130\n"
          ]
        }
      ],
      "source": [
        "num = 13\n",
        "\n",
        "while num<=130:\n",
        "  print(num)\n",
        "  num+=13"
      ],
      "id": "I2Gnyeh89WPw"
    },
    {
      "cell_type": "code",
      "execution_count": null,
      "metadata": {
        "colab": {
          "base_uri": "https://localhost:8080/"
        },
        "id": "LQfJnna98et2",
        "outputId": "0de11ab2-516d-4c75-b0d0-df7487b6640c"
      },
      "outputs": [
        {
          "name": "stdout",
          "output_type": "stream",
          "text": [
            "2\n",
            "4\n",
            "6\n",
            "8\n",
            "10\n",
            "12\n",
            "14\n",
            "16\n",
            "18\n",
            "20\n"
          ]
        }
      ],
      "source": [
        "for i in range(2,21,2):\n",
        "  print(i)\n"
      ],
      "id": "LQfJnna98et2"
    },
    {
      "cell_type": "code",
      "execution_count": null,
      "metadata": {
        "colab": {
          "base_uri": "https://localhost:8080/"
        },
        "id": "aQsx71tf8exi",
        "outputId": "3e945dd3-4e4c-45f6-ea8d-dcd0e48d0777"
      },
      "outputs": [
        {
          "name": "stdout",
          "output_type": "stream",
          "text": [
            "Even list =  [22, 44, 66, 88, 110]\n",
            "odd List =  [33, 77, 99]\n"
          ]
        }
      ],
      "source": [
        "list1 = [22,33,44,66,77,88,99,110]\n",
        "even_list = []\n",
        "odd_list = []\n",
        "\n",
        "for i in list1:\n",
        "  if i % 2==0:\n",
        "    even_list.append(i)\n",
        "  else:\n",
        "    odd_list.append(i)  \n",
        "\n",
        "print('Even list = ',even_list) \n",
        "print('odd List = ',odd_list)     \n"
      ],
      "id": "aQsx71tf8exi"
    },
    {
      "cell_type": "code",
      "execution_count": null,
      "metadata": {
        "colab": {
          "base_uri": "https://localhost:8080/"
        },
        "id": "vuaDearINT2U",
        "outputId": "66b62e6c-b645-471c-d5a6-a9c27eb0e655"
      },
      "outputs": [
        {
          "name": "stdout",
          "output_type": "stream",
          "text": [
            "13 is a prime number\n",
            "13 is a prime number\n",
            "13 is a prime number\n",
            "13 is a prime number\n",
            "13 is a prime number\n",
            "13 is a prime number\n",
            "13 is a prime number\n",
            "13 is a prime number\n",
            "13 is a prime number\n",
            "13 is a prime number\n",
            "13 is a prime number\n"
          ]
        }
      ],
      "source": [
        "num = 13\n",
        "flag=0\n",
        "for i in range(2,num):\n",
        "  if num%i==0:\n",
        "    print(num,'is not a prime number')\n",
        "    break \n",
        "  else:\n",
        "    print(num,'is a prime number')\n",
        "\n",
        "\n",
        "  "
      ],
      "id": "vuaDearINT2U"
    },
    {
      "cell_type": "code",
      "execution_count": null,
      "metadata": {
        "colab": {
          "base_uri": "https://localhost:8080/"
        },
        "id": "x6CbniCaNT8f",
        "outputId": "2459ce08-3f07-4863-ff03-ff153d527377"
      },
      "outputs": [
        {
          "data": {
            "text/plain": [
              "0"
            ]
          },
          "execution_count": 22,
          "metadata": {},
          "output_type": "execute_result"
        }
      ],
      "source": [],
      "id": "x6CbniCaNT8f"
    },
    {
      "cell_type": "code",
      "execution_count": null,
      "metadata": {
        "id": "zwoesz-pNUBZ"
      },
      "outputs": [],
      "source": [
        "list1 = ['ram','nitin','mohan','harshit']"
      ],
      "id": "zwoesz-pNUBZ"
    },
    {
      "cell_type": "code",
      "execution_count": null,
      "metadata": {
        "id": "9P92bRmYNUFv"
      },
      "outputs": [],
      "source": [
        "list2 = [121,134,455,77,88,212]"
      ],
      "id": "9P92bRmYNUFv"
    },
    {
      "cell_type": "code",
      "execution_count": null,
      "metadata": {
        "id": "5-I7H3jsNUab"
      },
      "outputs": [],
      "source": [],
      "id": "5-I7H3jsNUab"
    },
    {
      "cell_type": "code",
      "execution_count": null,
      "metadata": {
        "colab": {
          "base_uri": "https://localhost:8080/"
        },
        "id": "6qbd9ouYQPmb",
        "outputId": "43a019c0-8708-4954-ec5a-22a10046c279"
      },
      "outputs": [
        {
          "name": "stdout",
          "output_type": "stream",
          "text": [
            "1\t2\t3\t4\t5\t6\t7\t8\t9\t10\t\n",
            "2\t4\t6\t8\t10\t12\t14\t16\t18\t20\t\n",
            "3\t6\t9\t12\t15\t18\t21\t24\t27\t30\t\n",
            "4\t8\t12\t16\t20\t24\t28\t32\t36\t40\t\n",
            "5\t10\t15\t20\t25\t30\t35\t40\t45\t50\t\n",
            "6\t12\t18\t24\t30\t36\t42\t48\t54\t60\t\n",
            "7\t14\t21\t28\t35\t42\t49\t56\t63\t70\t\n",
            "8\t16\t24\t32\t40\t48\t56\t64\t72\t80\t\n",
            "9\t18\t27\t36\t45\t54\t63\t72\t81\t90\t\n",
            "10\t20\t30\t40\t50\t60\t70\t80\t90\t100\t\n",
            "11\t22\t33\t44\t55\t66\t77\t88\t99\t110\t\n",
            "12\t24\t36\t48\t60\t72\t84\t96\t108\t120\t\n",
            "13\t26\t39\t52\t65\t78\t91\t104\t117\t130\t\n",
            "14\t28\t42\t56\t70\t84\t98\t112\t126\t140\t\n",
            "15\t30\t45\t60\t75\t90\t105\t120\t135\t150\t\n",
            "16\t32\t48\t64\t80\t96\t112\t128\t144\t160\t\n",
            "17\t34\t51\t68\t85\t102\t119\t136\t153\t170\t\n",
            "18\t36\t54\t72\t90\t108\t126\t144\t162\t180\t\n",
            "19\t38\t57\t76\t95\t114\t133\t152\t171\t190\t\n",
            "20\t40\t60\t80\t100\t120\t140\t160\t180\t200\t\n"
          ]
        }
      ],
      "source": [
        "for i in range(1,21):\n",
        "  for j in range(1,11):\n",
        "    print(i*j,end='\\t') \n",
        "  print()   "
      ],
      "id": "6qbd9ouYQPmb"
    },
    {
      "cell_type": "code",
      "execution_count": null,
      "metadata": {
        "id": "ZgWSzL2mNUgL"
      },
      "outputs": [],
      "source": [],
      "id": "ZgWSzL2mNUgL"
    },
    {
      "cell_type": "code",
      "execution_count": null,
      "metadata": {
        "id": "NPT7P4c0NUmc"
      },
      "outputs": [],
      "source": [],
      "id": "NPT7P4c0NUmc"
    },
    {
      "cell_type": "code",
      "execution_count": null,
      "metadata": {
        "colab": {
          "base_uri": "https://localhost:8080/"
        },
        "id": "Git0zIuXMNIE",
        "outputId": "7f5fd7e7-a773-45af-fd15-b38104b44677"
      },
      "outputs": [
        {
          "name": "stdout",
          "output_type": "stream",
          "text": [
            "22\n",
            "44\n",
            "66\n",
            "77\n"
          ]
        }
      ],
      "source": [
        "b=[22,33,44,55,66,66,77]\n",
        "for i in b[::2]:\n",
        "  print(i)\n"
      ],
      "id": "Git0zIuXMNIE"
    },
    {
      "cell_type": "code",
      "execution_count": null,
      "metadata": {
        "colab": {
          "base_uri": "https://localhost:8080/"
        },
        "id": "Qa66hHff8e2Y",
        "outputId": "eca881b5-92df-4508-83aa-31dbcdfc94c8"
      },
      "outputs": [
        {
          "name": "stdout",
          "output_type": "stream",
          "text": [
            "1\n",
            "3\n",
            "5\n",
            "7\n",
            "9\n",
            "11\n",
            "13\n",
            "15\n",
            "17\n",
            "19\n",
            "21\n",
            "23\n",
            "25\n",
            "27\n",
            "29\n",
            "31\n",
            "33\n",
            "35\n",
            "37\n",
            "39\n",
            "41\n",
            "43\n",
            "45\n",
            "47\n",
            "49\n"
          ]
        }
      ],
      "source": [
        "for i in range(1,51,2):\n",
        "  print(i)"
      ],
      "id": "Qa66hHff8e2Y"
    },
    {
      "cell_type": "code",
      "execution_count": null,
      "metadata": {
        "colab": {
          "base_uri": "https://localhost:8080/"
        },
        "id": "eJti-8ga8e60",
        "outputId": "96b5e2f4-b423-4be5-90c1-849cd6a7c831"
      },
      "outputs": [
        {
          "name": "stdout",
          "output_type": "stream",
          "text": [
            "1\n",
            "3\n",
            "5\n",
            "7\n",
            "9\n",
            "11\n",
            "13\n",
            "15\n",
            "17\n",
            "19\n",
            "21\n",
            "23\n",
            "25\n",
            "27\n",
            "29\n",
            "31\n",
            "33\n",
            "35\n",
            "37\n",
            "39\n",
            "41\n",
            "43\n",
            "45\n",
            "47\n",
            "49\n"
          ]
        }
      ],
      "source": [
        "num = 1 \n",
        "\n",
        "while num <=50:\n",
        "  print(num)\n",
        "  num +=2"
      ],
      "id": "eJti-8ga8e60"
    },
    {
      "cell_type": "code",
      "execution_count": null,
      "metadata": {
        "id": "TjvwctfL8fBW"
      },
      "outputs": [],
      "source": [],
      "id": "TjvwctfL8fBW"
    },
    {
      "cell_type": "code",
      "execution_count": null,
      "metadata": {
        "id": "Wcxln9698fGd"
      },
      "outputs": [],
      "source": [],
      "id": "Wcxln9698fGd"
    },
    {
      "cell_type": "code",
      "execution_count": null,
      "metadata": {
        "id": "AKTXwE1O8fLI"
      },
      "outputs": [],
      "source": [],
      "id": "AKTXwE1O8fLI"
    },
    {
      "cell_type": "code",
      "execution_count": null,
      "metadata": {
        "colab": {
          "base_uri": "https://localhost:8080/",
          "height": 36
        },
        "id": "6lNKOox3-i6n",
        "outputId": "00963f55-e184-41b9-e178-da73a7b2a379"
      },
      "outputs": [
        {
          "data": {
            "application/vnd.google.colaboratory.intrinsic+json": {
              "type": "string"
            },
            "text/plain": [
              "'HARSHIT'"
            ]
          },
          "execution_count": 62,
          "metadata": {},
          "output_type": "execute_result"
        }
      ],
      "source": [
        "str1"
      ],
      "id": "6lNKOox3-i6n"
    },
    {
      "cell_type": "code",
      "execution_count": null,
      "metadata": {
        "colab": {
          "base_uri": "https://localhost:8080/"
        },
        "id": "rL5wfHWw-i-B",
        "outputId": "b0e49992-b8b0-4f3b-9e86-a7998196972c"
      },
      "outputs": [
        {
          "data": {
            "text/plain": [
              "7"
            ]
          },
          "execution_count": 63,
          "metadata": {},
          "output_type": "execute_result"
        }
      ],
      "source": [
        "len(str1)"
      ],
      "id": "rL5wfHWw-i-B"
    },
    {
      "cell_type": "code",
      "execution_count": null,
      "metadata": {
        "id": "x7xq2Ly8-jBD"
      },
      "outputs": [],
      "source": [],
      "id": "x7xq2Ly8-jBD"
    },
    {
      "cell_type": "code",
      "execution_count": null,
      "metadata": {
        "id": "MdoXlEwx-jEG"
      },
      "outputs": [],
      "source": [],
      "id": "MdoXlEwx-jEG"
    },
    {
      "cell_type": "code",
      "execution_count": null,
      "metadata": {
        "id": "ILRNkxjB-jKz"
      },
      "outputs": [],
      "source": [],
      "id": "ILRNkxjB-jKz"
    },
    {
      "cell_type": "code",
      "execution_count": null,
      "metadata": {
        "id": "P-WaA8WE-jNw"
      },
      "outputs": [],
      "source": [],
      "id": "P-WaA8WE-jNw"
    },
    {
      "cell_type": "code",
      "execution_count": null,
      "metadata": {
        "colab": {
          "base_uri": "https://localhost:8080/"
        },
        "id": "rLEhZjtTzpmG",
        "outputId": "919b9287-5242-4aa4-d410-0f4b24318224"
      },
      "outputs": [
        {
          "data": {
            "text/plain": [
              "int"
            ]
          },
          "execution_count": 54,
          "metadata": {},
          "output_type": "execute_result"
        }
      ],
      "source": [
        "type(num)"
      ],
      "id": "rLEhZjtTzpmG"
    },
    {
      "cell_type": "code",
      "execution_count": null,
      "metadata": {
        "colab": {
          "base_uri": "https://localhost:8080/"
        },
        "id": "f9jT5KygzppQ",
        "outputId": "189060cf-4ccf-4eba-fae3-785e299fdba1"
      },
      "outputs": [
        {
          "data": {
            "text/plain": [
              "88"
            ]
          },
          "execution_count": 51,
          "metadata": {},
          "output_type": "execute_result"
        }
      ],
      "source": [
        "int(num)"
      ],
      "id": "f9jT5KygzppQ"
    },
    {
      "cell_type": "code",
      "execution_count": null,
      "metadata": {
        "id": "3pY6QkKZ9vEm"
      },
      "outputs": [],
      "source": [],
      "id": "3pY6QkKZ9vEm"
    },
    {
      "cell_type": "code",
      "execution_count": null,
      "metadata": {
        "id": "EGre4Ou29vHm"
      },
      "outputs": [],
      "source": [],
      "id": "EGre4Ou29vHm"
    },
    {
      "cell_type": "code",
      "execution_count": null,
      "metadata": {
        "id": "8OyLqqKtznoy"
      },
      "outputs": [],
      "source": [
        "num=2\n",
        "if num == 1:\n",
        "    print(\"This is True Condition\") \n",
        "    print('Who is best ')\n",
        "    print('Ram is good')\n",
        "\n",
        "print(\"That's true\")"
      ],
      "id": "8OyLqqKtznoy"
    },
    {
      "cell_type": "code",
      "execution_count": null,
      "metadata": {
        "id": "itMKt74qOL6S"
      },
      "outputs": [],
      "source": [],
      "id": "itMKt74qOL6S"
    },
    {
      "cell_type": "code",
      "execution_count": null,
      "metadata": {
        "id": "zZNMD8EcOL9Z"
      },
      "outputs": [],
      "source": [
        "# if,elif,else , while , loop "
      ],
      "id": "zZNMD8EcOL9Z"
    },
    {
      "cell_type": "code",
      "execution_count": null,
      "metadata": {
        "id": "9WngQ7AXOMAh"
      },
      "outputs": [],
      "source": [
        "num =2 \n",
        "\n",
        "# if condition 1 & .... :\n",
        "#    statment 1\n",
        "#    statment 2\n",
        "\n",
        "\n"
      ],
      "id": "9WngQ7AXOMAh"
    },
    {
      "cell_type": "code",
      "execution_count": null,
      "metadata": {
        "colab": {
          "base_uri": "https://localhost:8080/"
        },
        "id": "oMa6Q1UvOzKH",
        "outputId": "545d0030-28c1-4d83-f2e3-3e88bdf108bb"
      },
      "outputs": [
        {
          "name": "stdout",
          "output_type": "stream",
          "text": [
            "This is our Python Class\n",
            "This is our Python book\n",
            "This is our Python editor\n",
            "This is not our Python Class\n"
          ]
        }
      ],
      "source": [
        "num = 1\n",
        "\n",
        "if num == 1:\n",
        "  print('This is our Python Class')\n",
        "  print('This is our Python book')\n",
        "  print('This is our Python editor')\n",
        "\n",
        "print('This is not our Python Class')  "
      ],
      "id": "oMa6Q1UvOzKH"
    },
    {
      "cell_type": "code",
      "execution_count": null,
      "metadata": {
        "colab": {
          "base_uri": "https://localhost:8080/"
        },
        "id": "4dUeFfMKOMDp",
        "outputId": "f399f5fa-df15-43d2-9719-365f1b8d27c0"
      },
      "outputs": [
        {
          "name": "stdout",
          "output_type": "stream",
          "text": [
            "This is not dividable by 2\n"
          ]
        }
      ],
      "source": [
        "num  = 21 \n",
        "\n",
        "if num % 2==0:\n",
        "  print(\"This is dividable by 2\")\n",
        "else:\n",
        "  print(\"This is not dividable by 2\")\n",
        "\n",
        "\n"
      ],
      "id": "4dUeFfMKOMDp"
    },
    {
      "cell_type": "code",
      "execution_count": null,
      "metadata": {
        "colab": {
          "base_uri": "https://localhost:8080/"
        },
        "id": "bDNz1ckcPhzH",
        "outputId": "6a545bcc-52a2-4246-b977-b0c470a0a278"
      },
      "outputs": [
        {
          "name": "stdout",
          "output_type": "stream",
          "text": [
            "Enter a number = -12\n",
            "-12 is -ve Number\n"
          ]
        }
      ],
      "source": [
        "num = int(input(\"Enter a number = \"))\n",
        "\n",
        "if num < 0:\n",
        "  print(num, \"is -ve Number\")\n",
        "elif num > 0 and num < 10:\n",
        "  print(num, ' is a digit  ') \n",
        "elif num > 10 :\n",
        "  print(num,' is a number')   \n",
        "\n",
        "else:\n",
        "  print(\" This is invalid input \")  "
      ],
      "id": "bDNz1ckcPhzH"
    },
    {
      "cell_type": "code",
      "execution_count": null,
      "metadata": {
        "colab": {
          "base_uri": "https://localhost:8080/"
        },
        "id": "4APXO1KePh1-",
        "outputId": "c01a93fe-f20f-4bf2-8466-9fa41dcdc5ed"
      },
      "outputs": [
        {
          "name": "stdout",
          "output_type": "stream",
          "text": [
            "Please Enter a Number = 12\n",
            "12 is a even number\n"
          ]
        }
      ],
      "source": [
        "n = int(input(\"Please Enter a Number = \"))\n",
        "\n",
        "if n < 0:\n",
        "  print(\"Please Enter a valid Number \")\n",
        "elif n > 0:\n",
        "  if n%2 == 0:\n",
        "    print(n, \"is a even number\")\n",
        "  else:\n",
        "    print(n,\"  is odd even number\")  \n"
      ],
      "id": "4APXO1KePh1-"
    },
    {
      "cell_type": "code",
      "execution_count": null,
      "metadata": {
        "colab": {
          "base_uri": "https://localhost:8080/"
        },
        "id": "tXN0Gn7vRAC_",
        "outputId": "0d6bf208-779d-493e-8103-395d6e93f968"
      },
      "outputs": [
        {
          "name": "stdout",
          "output_type": "stream",
          "text": [
            "Please Enter a Number = 466\n",
            "466  is a even number\n"
          ]
        }
      ],
      "source": [
        "n = int(input(\"Please Enter a Number = \"))\n",
        "\n",
        "if n < 0:\n",
        "  print(\"Please Enter a valid Number \")\n",
        "if n%2==0:\n",
        "  print(n, \" is a even number\")  \n",
        "else:\n",
        "  print(n, \" is not even number\")  \n"
      ],
      "id": "tXN0Gn7vRAC_"
    },
    {
      "cell_type": "code",
      "execution_count": null,
      "metadata": {
        "colab": {
          "base_uri": "https://localhost:8080/"
        },
        "id": "3s1tyDFrPh5c",
        "outputId": "24e2e9aa-765c-4079-d504-ec9d59de984b"
      },
      "outputs": [
        {
          "data": {
            "text/plain": [
              "8"
            ]
          },
          "execution_count": 12,
          "metadata": {},
          "output_type": "execute_result"
        }
      ],
      "source": [
        "st = \"WELOCOME\" \n",
        "n= len(st) "
      ],
      "id": "3s1tyDFrPh5c"
    },
    {
      "cell_type": "code",
      "execution_count": null,
      "metadata": {
        "colab": {
          "base_uri": "https://localhost:8080/"
        },
        "id": "Tl7wem_LOMGO",
        "outputId": "d429497e-8c9f-4568-dc3d-4eb528ae2b38"
      },
      "outputs": [
        {
          "name": "stdout",
          "output_type": "stream",
          "text": [
            "Please Enter your Name :- ajaymay\n",
            "you name is not too much good \n",
            "If you want to we recomend you a name then press 1 otherwise 00\n",
            "Thanks to you enjoy with your name\n"
          ]
        }
      ],
      "source": [
        "st1 = input(\"Please Enter your Name :- \")\n",
        "\n",
        "n = len(st1) \n",
        "\n",
        "if n <= 3:\n",
        "  print(\"Your name is nice \")\n",
        "elif n > 3 and n <=5:\n",
        "  print(\"your name is good\") \n",
        "else:\n",
        "  print(\"you name is not too much good \")  \n",
        "  n = int(input(\"If you want to we recomend you a name then press 1 otherwise 0\"))\n",
        "  if n == 1:\n",
        "    print(\"what about kitu, harsh, ajay, vikash ...\")\n",
        "  else:\n",
        "    print(\"Thanks to you enjoy with your name\")  \n"
      ],
      "id": "Tl7wem_LOMGO"
    },
    {
      "cell_type": "code",
      "execution_count": null,
      "metadata": {
        "id": "Tix7Eb3SOMIt"
      },
      "outputs": [],
      "source": [
        "st = \"RAMAYAN\""
      ],
      "id": "Tix7Eb3SOMIt"
    },
    {
      "cell_type": "code",
      "execution_count": null,
      "metadata": {
        "colab": {
          "base_uri": "https://localhost:8080/"
        },
        "id": "msTNg1U4OMMt",
        "outputId": "f7cb876f-c163-4d99-cb69-b7c9f2e7ddb0"
      },
      "outputs": [
        {
          "data": {
            "text/plain": [
              "3"
            ]
          },
          "execution_count": 17,
          "metadata": {},
          "output_type": "execute_result"
        }
      ],
      "source": [
        "st.count('A')"
      ],
      "id": "msTNg1U4OMMt"
    },
    {
      "cell_type": "code",
      "execution_count": null,
      "metadata": {
        "id": "qOCUAXSQOMR8"
      },
      "outputs": [],
      "source": [],
      "id": "qOCUAXSQOMR8"
    },
    {
      "cell_type": "code",
      "execution_count": null,
      "metadata": {
        "id": "4yh3_JrYOMZu"
      },
      "outputs": [],
      "source": [],
      "id": "4yh3_JrYOMZu"
    },
    {
      "cell_type": "code",
      "execution_count": null,
      "metadata": {
        "id": "vlZkYDP0OM2X"
      },
      "outputs": [],
      "source": [],
      "id": "vlZkYDP0OM2X"
    },
    {
      "cell_type": "code",
      "execution_count": null,
      "metadata": {
        "id": "Bzav43ocOM6F"
      },
      "outputs": [],
      "source": [],
      "id": "Bzav43ocOM6F"
    },
    {
      "cell_type": "code",
      "execution_count": null,
      "metadata": {
        "id": "autv94NPOM8p"
      },
      "outputs": [],
      "source": [],
      "id": "autv94NPOM8p"
    },
    {
      "cell_type": "code",
      "execution_count": null,
      "metadata": {
        "id": "51WXJJseOM_A"
      },
      "outputs": [],
      "source": [],
      "id": "51WXJJseOM_A"
    },
    {
      "cell_type": "code",
      "execution_count": null,
      "metadata": {
        "id": "XUQz9BDZONBR"
      },
      "outputs": [],
      "source": [],
      "id": "XUQz9BDZONBR"
    },
    {
      "cell_type": "code",
      "execution_count": null,
      "metadata": {
        "colab": {
          "base_uri": "https://localhost:8080/"
        },
        "id": "TSjKK67_epy2",
        "outputId": "0a5cc356-8ade-4dde-fae7-8dfc8ea0a158"
      },
      "outputs": [
        {
          "name": "stdout",
          "output_type": "stream",
          "text": [
            "I am python Learner\n"
          ]
        }
      ],
      "source": [
        "# if statement \n",
        "\n",
        "\n",
        "num = 2\n",
        "\n",
        "if num == 1:\n",
        "  print(\"This is python class\")\n",
        "  print('Hlw How are you ')\n",
        "  print('Hlw How are you ????? ')\n",
        "else: \n",
        "  print('I am python Learner')\n"
      ],
      "id": "TSjKK67_epy2"
    },
    {
      "cell_type": "code",
      "execution_count": null,
      "metadata": {
        "colab": {
          "base_uri": "https://localhost:8080/"
        },
        "id": "ecAZfW1VfmNg",
        "outputId": "44647196-caf8-4b79-faed-5adfc7a69f09"
      },
      "outputs": [
        {
          "name": "stdout",
          "output_type": "stream",
          "text": [
            "Please Enter a number = 8\n"
          ]
        }
      ],
      "source": [
        "num1 = int(input(\"Please Enter a number = \")) "
      ],
      "id": "ecAZfW1VfmNg"
    },
    {
      "cell_type": "code",
      "execution_count": null,
      "metadata": {
        "colab": {
          "base_uri": "https://localhost:8080/"
        },
        "id": "G5MyI6sVfmP9",
        "outputId": "90103fba-2179-4a05-9e03-77f4bbe4bc2e"
      },
      "outputs": [
        {
          "data": {
            "text/plain": [
              "8"
            ]
          },
          "execution_count": 10,
          "metadata": {},
          "output_type": "execute_result"
        }
      ],
      "source": [
        "num1"
      ],
      "id": "G5MyI6sVfmP9"
    },
    {
      "cell_type": "code",
      "execution_count": null,
      "metadata": {
        "colab": {
          "base_uri": "https://localhost:8080/"
        },
        "id": "Qzx72bdNfmVm",
        "outputId": "20f7945d-ee12-422e-a114-38a701149766"
      },
      "outputs": [
        {
          "data": {
            "text/plain": [
              "int"
            ]
          },
          "execution_count": 12,
          "metadata": {},
          "output_type": "execute_result"
        }
      ],
      "source": [
        "type(num1)"
      ],
      "id": "Qzx72bdNfmVm"
    },
    {
      "cell_type": "code",
      "execution_count": null,
      "metadata": {
        "colab": {
          "base_uri": "https://localhost:8080/"
        },
        "id": "I68N-xcNfmZE",
        "outputId": "03e80fd4-3d5b-41b5-d506-eb8c356b9d90"
      },
      "outputs": [
        {
          "name": "stdout",
          "output_type": "stream",
          "text": [
            "Please Enter a number = -4\n",
            "Invalid Number please enter +ve Number\n"
          ]
        }
      ],
      "source": [
        "# write a program that's check even/odd \n",
        "\n",
        "\n",
        "num1 = int(input(\"Please Enter a number = \")) \n",
        "\n",
        "if num1 < 0:\n",
        "  print('Invalid Number please enter +ve Number')\n",
        "elif num1 % 2 == 0:\n",
        "  print(num1 , \" is Eevn Number \")\n",
        "else:\n",
        "  print(num1,\" is not even number\")\n",
        "\n",
        "\n"
      ],
      "id": "I68N-xcNfmZE"
    },
    {
      "cell_type": "code",
      "execution_count": null,
      "metadata": {
        "colab": {
          "base_uri": "https://localhost:8080/"
        },
        "id": "Xh3ixGSegvXj",
        "outputId": "9914a95d-7356-4ce2-fcd7-f521f4354b48"
      },
      "outputs": [
        {
          "name": "stdout",
          "output_type": "stream",
          "text": [
            "This is not python class \n"
          ]
        }
      ],
      "source": [
        "num = 3\n",
        "\n",
        "if num == 2:\n",
        "  print('This is python class ')\n",
        "  print('This is good python class ')\n",
        "  print('This is best  python class ')\n",
        "else:\n",
        "  print('This is not python class ')\n",
        "\n",
        "\n",
        "\n",
        "\n",
        "\n",
        "\n",
        "\n"
      ],
      "id": "Xh3ixGSegvXj"
    },
    {
      "cell_type": "code",
      "execution_count": null,
      "metadata": {
        "colab": {
          "base_uri": "https://localhost:8080/"
        },
        "id": "t-p3DaGrgva4",
        "outputId": "08d99d95-09a3-4a00-a81d-36d7d78dd85e"
      },
      "outputs": [
        {
          "name": "stdout",
          "output_type": "stream",
          "text": [
            "21  is Not Even Number\n"
          ]
        }
      ],
      "source": [
        "num = 21\n",
        "\n",
        "if num % 2 == 0:\n",
        "  print(num,\" is Even Number\")\n",
        "else:\n",
        "  print(num,' is Not Even Number')  "
      ],
      "id": "t-p3DaGrgva4"
    },
    {
      "cell_type": "code",
      "execution_count": null,
      "metadata": {
        "colab": {
          "base_uri": "https://localhost:8080/"
        },
        "id": "opNkC8rIguU2",
        "outputId": "bc0a07ce-97fd-46a2-d3c9-97d752bb6cc7"
      },
      "outputs": [
        {
          "name": "stdout",
          "output_type": "stream",
          "text": [
            "Please Enter a number = -46\n",
            "Please Enter a valid Number\n"
          ]
        }
      ],
      "source": [
        "num1 = int(input(\"Please Enter a number = \")) \n",
        "\n",
        "if num1 >= 0 and num1 <= 10:\n",
        "  print(num1, \" is between 0 to 10\")\n",
        "elif num1 > 10 and num1 <=50:\n",
        "  print(num1,\" between 10 to 50\")\n",
        "elif num1 > 50:\n",
        "  print(num1,' is Large Number ')\n",
        "elif num1 < 0:\n",
        "  print(\"Please Enter a valid Number\")   \n",
        "\n"
      ],
      "id": "opNkC8rIguU2"
    },
    {
      "cell_type": "code",
      "execution_count": null,
      "metadata": {
        "id": "l1wdpHBKguYQ"
      },
      "outputs": [],
      "source": [
        "st1 = 'Harsh'\n",
        "\n",
        "val = st1.count('a') "
      ],
      "id": "l1wdpHBKguYQ"
    },
    {
      "cell_type": "code",
      "execution_count": null,
      "metadata": {
        "colab": {
          "base_uri": "https://localhost:8080/"
        },
        "id": "QsawGqsSguce",
        "outputId": "e173a2bf-db2c-4a50-ebae-56da9c8c7cab"
      },
      "outputs": [
        {
          "name": "stdout",
          "output_type": "stream",
          "text": [
            "Please Enter your Name = CHAMACHAHHAGHAA\n",
            "Which character you want to serach = A\n",
            "In Your Name A multiples time ,so this is not good\n",
            "If you want then then we sugest you a name - yes/no no\n",
            "Thanks to you, Enjoy with your name\n"
          ]
        }
      ],
      "source": [
        "st1 = input(\"Please Enter your Name = \")\n",
        "st2 = input(\"Which character you want to serach = \")\n",
        "str3 = st1.count(st2) \n",
        "\n",
        "if str3 == 1:\n",
        "  print(st2, \"come 1 times in your name\")\n",
        "elif str3 == 2: \n",
        "  print(st2, \"come 2 times in your name\")\n",
        "elif str3 == 3: \n",
        "  print(st2, \"come 3 times in your name\")  \n",
        "if str3 > 3:\n",
        "  print(\"In Your Name {} multiples time ,so this is not good\".format(st2))\n",
        "  st4 = input('If you want then then we sugest you a name - yes/no ')\n",
        "  if st4 == 'yes':\n",
        "    print(\"What abot Vishal,ipsita,Harsh,Umesh .... \") \n",
        "  else:\n",
        "    print(\"Thanks to you, Enjoy with your name\")  \n",
        "    \n"
      ],
      "id": "QsawGqsSguce"
    },
    {
      "cell_type": "code",
      "execution_count": null,
      "metadata": {
        "id": "eLdIQEwMfmeB"
      },
      "outputs": [],
      "source": [],
      "id": "eLdIQEwMfmeB"
    },
    {
      "cell_type": "code",
      "execution_count": null,
      "metadata": {
        "id": "r2iwZ93Fep6U"
      },
      "outputs": [],
      "source": [],
      "id": "r2iwZ93Fep6U"
    },
    {
      "cell_type": "code",
      "execution_count": null,
      "metadata": {
        "id": "AnowwltpflwV"
      },
      "outputs": [],
      "source": [],
      "id": "AnowwltpflwV"
    },
    {
      "cell_type": "code",
      "execution_count": null,
      "metadata": {
        "id": "wAZsFGqSflzH"
      },
      "outputs": [],
      "source": [],
      "id": "wAZsFGqSflzH"
    },
    {
      "cell_type": "code",
      "execution_count": null,
      "metadata": {
        "id": "B-U8iPRVep9N"
      },
      "outputs": [],
      "source": [],
      "id": "B-U8iPRVep9N"
    },
    {
      "cell_type": "code",
      "execution_count": null,
      "metadata": {
        "id": "YAc-ukCZeqBq"
      },
      "outputs": [],
      "source": [],
      "id": "YAc-ukCZeqBq"
    },
    {
      "cell_type": "code",
      "execution_count": null,
      "metadata": {
        "id": "Jc3bfZuFeqFC"
      },
      "outputs": [],
      "source": [],
      "id": "Jc3bfZuFeqFC"
    },
    {
      "cell_type": "code",
      "execution_count": null,
      "metadata": {
        "id": "KAqf48twejqw"
      },
      "outputs": [],
      "source": [],
      "id": "KAqf48twejqw"
    },
    {
      "cell_type": "code",
      "execution_count": null,
      "metadata": {
        "id": "yek8aBQjejtg"
      },
      "outputs": [],
      "source": [],
      "id": "yek8aBQjejtg"
    },
    {
      "cell_type": "code",
      "execution_count": null,
      "metadata": {
        "id": "gcclWN_bejwc"
      },
      "outputs": [],
      "source": [],
      "id": "gcclWN_bejwc"
    },
    {
      "cell_type": "code",
      "execution_count": null,
      "metadata": {
        "id": "Jj5nvOWVejzM"
      },
      "outputs": [],
      "source": [],
      "id": "Jj5nvOWVejzM"
    },
    {
      "cell_type": "code",
      "execution_count": null,
      "metadata": {
        "id": "hmIvE-9Uej2F"
      },
      "outputs": [],
      "source": [],
      "id": "hmIvE-9Uej2F"
    },
    {
      "cell_type": "code",
      "execution_count": null,
      "metadata": {
        "id": "frvik1khda6M"
      },
      "outputs": [],
      "source": [],
      "id": "frvik1khda6M"
    },
    {
      "cell_type": "code",
      "execution_count": null,
      "metadata": {
        "id": "pzwkZ55yda9y"
      },
      "outputs": [],
      "source": [],
      "id": "pzwkZ55yda9y"
    },
    {
      "cell_type": "code",
      "execution_count": null,
      "metadata": {
        "colab": {
          "base_uri": "https://localhost:8080/"
        },
        "id": "FSd-HVYYSWaN",
        "outputId": "b35c0ff5-5e36-4fc4-d342-3342fc7603c5"
      },
      "outputs": [
        {
          "name": "stdout",
          "output_type": "stream",
          "text": [
            "X is Greater than y \n"
          ]
        }
      ],
      "source": [
        "x = 10 \n",
        "y = 20 \n",
        "\n",
        "if x <= y or x ==y:\n",
        "  print('X is Greater than y ')"
      ],
      "id": "FSd-HVYYSWaN"
    },
    {
      "cell_type": "code",
      "execution_count": null,
      "metadata": {
        "colab": {
          "base_uri": "https://localhost:8080/"
        },
        "id": "DnTO4Dl4SWeJ",
        "outputId": "78a50c59-4fc2-4de2-9add-c1542abdbbb8"
      },
      "outputs": [
        {
          "name": "stdout",
          "output_type": "stream",
          "text": [
            "This is My book\n"
          ]
        }
      ],
      "source": [
        "num1 = 200\n",
        "num2 = 100\n",
        "\n",
        "if num1 > num2:\n",
        "  print('This is My book')\n",
        "else:\n",
        "  print('This is not my book')  "
      ],
      "id": "DnTO4Dl4SWeJ"
    },
    {
      "cell_type": "code",
      "execution_count": null,
      "metadata": {
        "colab": {
          "base_uri": "https://localhost:8080/"
        },
        "id": "YtSf07pCUssH",
        "outputId": "6f6da816-be2f-4117-a4a1-c74be2cf5da5"
      },
      "outputs": [
        {
          "name": "stdout",
          "output_type": "stream",
          "text": [
            "26 is even Number\n"
          ]
        }
      ],
      "source": [
        "num1 = 26 \n",
        "\n",
        "if num1 % 2 == 0:\n",
        "  print('{} is even Number'.format(num1))\n",
        "else: \n",
        "  print('{} is not even number'.format(num2))  "
      ],
      "id": "YtSf07pCUssH"
    },
    {
      "cell_type": "code",
      "execution_count": null,
      "metadata": {
        "colab": {
          "base_uri": "https://localhost:8080/"
        },
        "id": "PsiDx50wUsvG",
        "outputId": "8a734228-8fd6-44a1-ec8c-79a71cc2e02c"
      },
      "outputs": [
        {
          "name": "stdout",
          "output_type": "stream",
          "text": [
            "Enter a Number for checkin even/odd = 55\n"
          ]
        }
      ],
      "source": [
        "num1 = int(input('Enter a Number for checkin even/odd = '))\n"
      ],
      "id": "PsiDx50wUsvG"
    },
    {
      "cell_type": "code",
      "execution_count": null,
      "metadata": {
        "id": "CuReBVE_Wm99"
      },
      "outputs": [],
      "source": [],
      "id": "CuReBVE_Wm99"
    },
    {
      "cell_type": "code",
      "execution_count": null,
      "metadata": {
        "colab": {
          "base_uri": "https://localhost:8080/"
        },
        "id": "YuJQbazgUsy4",
        "outputId": "454a8eba-895b-4bc8-aec9-1f12b684f128"
      },
      "outputs": [
        {
          "name": "stdout",
          "output_type": "stream",
          "text": [
            "This is Numerical value = 55\n"
          ]
        }
      ],
      "source": [
        "print('This is Numerical value =',num1) \n"
      ],
      "id": "YuJQbazgUsy4"
    },
    {
      "cell_type": "code",
      "execution_count": null,
      "metadata": {
        "colab": {
          "base_uri": "https://localhost:8080/"
        },
        "id": "FSYyaNlJUs1Y",
        "outputId": "99777806-d90d-4777-eb0a-0e81333f1c06"
      },
      "outputs": [
        {
          "name": "stdout",
          "output_type": "stream",
          "text": [
            "Enter a Number for checking even/odd = 45\n",
            "45  is Larger Number\n"
          ]
        }
      ],
      "source": [
        "num1 = int(input('Enter a Number for checking even/odd = ')) \n",
        "\n",
        "if num1 < 0:\n",
        "  print(num1 ,\" is Negative Number \")\n",
        "\n",
        "elif num1 >= 0 and num1 <=10:\n",
        "  print(num1,' is between 0 to 10')\n",
        "\n",
        "else:\n",
        "  print(num1,' is Larger Number')\n"
      ],
      "id": "FSYyaNlJUs1Y"
    },
    {
      "cell_type": "code",
      "execution_count": null,
      "metadata": {
        "id": "QlmaXq7DUs4R"
      },
      "outputs": [],
      "source": [],
      "id": "QlmaXq7DUs4R"
    },
    {
      "cell_type": "code",
      "execution_count": null,
      "metadata": {
        "id": "D6osVFFiUtU6"
      },
      "outputs": [],
      "source": [],
      "id": "D6osVFFiUtU6"
    },
    {
      "cell_type": "code",
      "execution_count": null,
      "metadata": {
        "id": "lXg1DqGmUtYa"
      },
      "outputs": [],
      "source": [],
      "id": "lXg1DqGmUtYa"
    },
    {
      "cell_type": "code",
      "execution_count": null,
      "metadata": {
        "id": "b5_vEUevSWip"
      },
      "outputs": [],
      "source": [],
      "id": "b5_vEUevSWip"
    },
    {
      "cell_type": "code",
      "execution_count": null,
      "metadata": {
        "id": "d8PPVM4nSWnZ"
      },
      "outputs": [],
      "source": [],
      "id": "d8PPVM4nSWnZ"
    },
    {
      "cell_type": "code",
      "execution_count": null,
      "metadata": {
        "id": "Az48va7YSWrG"
      },
      "outputs": [],
      "source": [],
      "id": "Az48va7YSWrG"
    },
    {
      "cell_type": "code",
      "execution_count": null,
      "metadata": {
        "id": "C3A9mHhtSWvZ"
      },
      "outputs": [],
      "source": [],
      "id": "C3A9mHhtSWvZ"
    },
    {
      "cell_type": "code",
      "execution_count": null,
      "metadata": {
        "id": "HKzAt3CHSWyL"
      },
      "outputs": [],
      "source": [],
      "id": "HKzAt3CHSWyL"
    },
    {
      "cell_type": "code",
      "execution_count": null,
      "metadata": {
        "id": "VarVrnqvSW1s"
      },
      "outputs": [],
      "source": [],
      "id": "VarVrnqvSW1s"
    },
    {
      "cell_type": "code",
      "execution_count": null,
      "metadata": {
        "id": "ngcm1JeMSW50"
      },
      "outputs": [],
      "source": [],
      "id": "ngcm1JeMSW50"
    },
    {
      "cell_type": "code",
      "execution_count": null,
      "metadata": {
        "id": "PcomFaOdPEMQ"
      },
      "outputs": [],
      "source": [
        "num = 121\n",
        "\n",
        "# Q2. num Polydrom ? "
      ],
      "id": "PcomFaOdPEMQ"
    },
    {
      "cell_type": "code",
      "execution_count": null,
      "metadata": {
        "id": "KQm1XGukPEQ4"
      },
      "outputs": [],
      "source": [
        "num1 = str(num)  "
      ],
      "id": "KQm1XGukPEQ4"
    },
    {
      "cell_type": "code",
      "execution_count": null,
      "metadata": {
        "id": "N9MXWqy2PEWa"
      },
      "outputs": [],
      "source": [
        "num1 = num1[::-1]"
      ],
      "id": "N9MXWqy2PEWa"
    },
    {
      "cell_type": "code",
      "execution_count": null,
      "metadata": {
        "colab": {
          "base_uri": "https://localhost:8080/",
          "height": 35
        },
        "id": "-lsH6_P9Rb-t",
        "outputId": "8861de98-f635-471e-ba96-7bc7c13d263e"
      },
      "outputs": [
        {
          "data": {
            "application/vnd.google.colaboratory.intrinsic+json": {
              "type": "string"
            },
            "text/plain": [
              "'121'"
            ]
          },
          "execution_count": 19,
          "metadata": {},
          "output_type": "execute_result"
        }
      ],
      "source": [
        "num1"
      ],
      "id": "-lsH6_P9Rb-t"
    },
    {
      "cell_type": "code",
      "execution_count": null,
      "metadata": {
        "colab": {
          "base_uri": "https://localhost:8080/"
        },
        "id": "FI_h67ZjQG1o",
        "outputId": "8bc79af2-2c66-481c-c360-05ccd93df68b"
      },
      "outputs": [
        {
          "data": {
            "text/plain": [
              "True"
            ]
          },
          "execution_count": 20,
          "metadata": {},
          "output_type": "execute_result"
        }
      ],
      "source": [
        "int(num1) is num "
      ],
      "id": "FI_h67ZjQG1o"
    },
    {
      "cell_type": "code",
      "execution_count": null,
      "metadata": {
        "id": "jLX7JWwDQG6G"
      },
      "outputs": [],
      "source": [],
      "id": "jLX7JWwDQG6G"
    },
    {
      "cell_type": "code",
      "execution_count": null,
      "metadata": {
        "id": "soviet-alarm",
        "outputId": "ded57522-16a1-45f5-ffbc-ecec6869540a"
      },
      "outputs": [
        {
          "name": "stdout",
          "output_type": "stream",
          "text": [
            "your response is good\n"
          ]
        }
      ],
      "source": [
        "str='yes'\n",
        "if str == 'yes':\n",
        "    print('yes')\n",
        "    print('This is what you said')\n",
        "else:    \n",
        "    print('your response is good')\n",
        "#suite    \n",
        "#identation "
      ],
      "id": "soviet-alarm"
    },
    {
      "cell_type": "code",
      "execution_count": null,
      "metadata": {
        "id": "8f6b7a67"
      },
      "outputs": [],
      "source": [],
      "id": "8f6b7a67"
    },
    {
      "cell_type": "code",
      "execution_count": null,
      "metadata": {
        "id": "68e63e21",
        "outputId": "9d580da4-d042-41a5-9573-0a8212e35a1c"
      },
      "outputs": [
        {
          "data": {
            "text/plain": [
              "0"
            ]
          },
          "execution_count": 14,
          "metadata": {},
          "output_type": "execute_result"
        }
      ],
      "source": [
        "10%2 "
      ],
      "id": "68e63e21"
    },
    {
      "cell_type": "code",
      "execution_count": null,
      "metadata": {
        "id": "c5d07aff",
        "outputId": "3719a43e-fe2a-4700-95ae-d91f1afc68e2"
      },
      "outputs": [
        {
          "data": {
            "text/plain": [
              "5.0"
            ]
          },
          "execution_count": 15,
          "metadata": {},
          "output_type": "execute_result"
        }
      ],
      "source": [
        "10/2"
      ],
      "id": "c5d07aff"
    },
    {
      "cell_type": "code",
      "execution_count": null,
      "metadata": {
        "id": "50299d61",
        "outputId": "695dcff6-8d34-44c8-a82e-3f1bf72a4323"
      },
      "outputs": [
        {
          "data": {
            "text/plain": [
              "5"
            ]
          },
          "execution_count": 16,
          "metadata": {},
          "output_type": "execute_result"
        }
      ],
      "source": [
        "10//2 "
      ],
      "id": "50299d61"
    },
    {
      "cell_type": "code",
      "execution_count": null,
      "metadata": {
        "id": "threaded-diagnosis",
        "outputId": "7011d0bd-fc99-4166-c59b-a87591470aab"
      },
      "outputs": [
        {
          "name": "stdout",
          "output_type": "stream",
          "text": [
            "end\n"
          ]
        }
      ],
      "source": [
        "x=1 \n",
        "if x ==1:\n",
        "    print('end')"
      ],
      "id": "threaded-diagnosis"
    },
    {
      "cell_type": "code",
      "execution_count": null,
      "metadata": {
        "id": "exterior-amateur",
        "outputId": "7fa5a62f-b1d8-461a-c6da-4bb3f74f7182"
      },
      "outputs": [
        {
          "name": "stdout",
          "output_type": "stream",
          "text": [
            "10 is even number\n"
          ]
        }
      ],
      "source": [
        "#if__else statement\n",
        "x=10 \n",
        "if x % 2==0:\n",
        "    print(x, \"is even number\")\n",
        "else:\n",
        "    print(x, \"is not even number\")"
      ],
      "id": "exterior-amateur"
    },
    {
      "cell_type": "code",
      "execution_count": null,
      "metadata": {
        "id": "9bce4e96",
        "outputId": "6a3d6383-cf86-433c-aaf5-21e0792c33ed"
      },
      "outputs": [
        {
          "name": "stdout",
          "output_type": "stream",
          "text": [
            "Enter a number 22\n"
          ]
        }
      ],
      "source": [
        "x=int(input(\"Enter a number \")"
      ],
      "id": "9bce4e96"
    },
    {
      "cell_type": "code",
      "execution_count": null,
      "metadata": {
        "id": "a1aaf18f",
        "outputId": "c51e5080-476e-44aa-946a-5ac98516c61a"
      },
      "outputs": [
        {
          "data": {
            "text/plain": [
              "int"
            ]
          },
          "execution_count": 24,
          "metadata": {},
          "output_type": "execute_result"
        }
      ],
      "source": [
        "type(x)"
      ],
      "id": "a1aaf18f"
    },
    {
      "cell_type": "code",
      "execution_count": null,
      "metadata": {
        "id": "c73e2c89"
      },
      "outputs": [],
      "source": [],
      "id": "c73e2c89"
    },
    {
      "cell_type": "code",
      "execution_count": null,
      "metadata": {
        "id": "swiss-bonus",
        "outputId": "2bc1f6c9-a015-4499-9977-4f53fd18a07c"
      },
      "outputs": [
        {
          "name": "stdout",
          "output_type": "stream",
          "text": [
            "Enter a Number = -11\n",
            "Invalid Number, Plase renter the number\n"
          ]
        }
      ],
      "source": [
        "\n",
        "x =int(input(\"Enter a Number = \"))\n",
        "if x%2==0:\n",
        "    print(x, \"is even number\")\n",
        "elif x < 0:\n",
        "    print(\"Invalid Number, Plase renter the number\")\n",
        "else:\n",
        "    print(x, \"is not even number\")\n",
        "    "
      ],
      "id": "swiss-bonus"
    },
    {
      "cell_type": "code",
      "execution_count": null,
      "metadata": {
        "id": "wired-integrity",
        "outputId": "407165e4-a849-4c72-f513-7442c379b0a1"
      },
      "outputs": [
        {
          "name": "stdout",
          "output_type": "stream",
          "text": [
            "Enter a Number-22\n",
            "you typed -22 which is not between 1 to 10\n"
          ]
        }
      ],
      "source": [
        "x=int(input('Enter a Number'))\n",
        "\n",
        "if x >=1 and x <=10:\n",
        "    print(\"you typed\", x ,\"which is between 1 to 10\")\n",
        "else:\n",
        "    print(\"you typed\", x ,\"which is not between 1 to 10\")\n",
        "\n",
        "    "
      ],
      "id": "wired-integrity"
    },
    {
      "cell_type": "code",
      "execution_count": null,
      "metadata": {
        "id": "4063e693",
        "outputId": "100046dc-db36-489b-a8f6-80571f5b841c"
      },
      "outputs": [
        {
          "name": "stdout",
          "output_type": "stream",
          "text": [
            "Enter a Number := 11\n"
          ]
        }
      ],
      "source": [
        "num = int(input(\"Enter a Number := \"))\n",
        "\n",
        "\n"
      ],
      "id": "4063e693"
    },
    {
      "cell_type": "code",
      "execution_count": null,
      "metadata": {
        "id": "cf44f65e",
        "outputId": "10cfd31a-36a8-4d67-c37c-ad8f2957f043"
      },
      "outputs": [
        {
          "name": "stdout",
          "output_type": "stream",
          "text": [
            "Enter a Nuber for -ve or +ve = -90\n",
            "Negative Number\n"
          ]
        }
      ],
      "source": [
        "num = int(input(\"Enter a Nuber for -ve or +ve = \"))\n",
        "\n",
        "if num == 0:\n",
        "    print(\"This is Zero\")\n",
        "elif num >0:\n",
        "    print(\"This is Positive Number\")\n",
        "elif num < 0:\n",
        "    print(\"Negative Number\")\n",
        "    "
      ],
      "id": "cf44f65e"
    },
    {
      "cell_type": "code",
      "execution_count": null,
      "metadata": {
        "id": "ebf1fae4"
      },
      "outputs": [],
      "source": [],
      "id": "ebf1fae4"
    },
    {
      "cell_type": "code",
      "execution_count": null,
      "metadata": {
        "id": "9d6b8917",
        "outputId": "ae7d8754-7f16-4180-fa53-52a46b1304a2"
      },
      "outputs": [
        {
          "name": "stdout",
          "output_type": "stream",
          "text": [
            "enter the number44\n",
            "44 is posi\n"
          ]
        }
      ],
      "source": [
        "x =int(input(\"enter the number\"))\n",
        "if x >= 0:\n",
        "   print(x, \"is posi\")\n",
        "elif x < 0:\n",
        "   print(x, \"is  ne\")\n"
      ],
      "id": "9d6b8917"
    },
    {
      "cell_type": "code",
      "execution_count": null,
      "metadata": {
        "id": "eb06ab84"
      },
      "outputs": [],
      "source": [],
      "id": "eb06ab84"
    },
    {
      "cell_type": "code",
      "execution_count": null,
      "metadata": {
        "id": "latter-litigation",
        "outputId": "749068f5-96b4-4093-e76c-6bd730c98007"
      },
      "outputs": [
        {
          "name": "stdout",
          "output_type": "stream",
          "text": [
            "-5 is negative\n"
          ]
        }
      ],
      "source": [
        "#if__ilif__else statement \n",
        "num=-5 \n",
        "if num == 0:\n",
        "    print('num', \" is Zero \")\n",
        "elif num > 0:\n",
        "    print(num,\"is positive \")\n",
        "else:\n",
        "    print(num,\"is negative\")"
      ],
      "id": "latter-litigation"
    },
    {
      "cell_type": "code",
      "execution_count": null,
      "metadata": {
        "id": "executed-fabric",
        "outputId": "39c5cde5-4361-4700-faaa-3829dc979654"
      },
      "outputs": [
        {
          "name": "stdout",
          "output_type": "stream",
          "text": [
            "Enter a digit: 55\n",
            "Please enter digit between 0 and 9\n"
          ]
        }
      ],
      "source": [
        "x=int(input(\"Enter a digit: \"))\n",
        "if x ==0:\n",
        "    print('Zero')\n",
        "elif x==1: \n",
        "    print(\"One\")\n",
        "elif x==2: \n",
        "    print(\"Two\")\n",
        "elif x==3: \n",
        "    print(\"Three\")\n",
        "elif x==4: \n",
        "    print(\"Four\")\n",
        "elif x==5: \n",
        "    print(\"Five\")\n",
        "elif x==6: \n",
        "    print(\"Six\")\n",
        "elif x==7:\n",
        "    print(\"Seven\")\n",
        "elif x==8:\n",
        "    printnt(\"Eight\")\n",
        "else:\n",
        "    print('Please enter digit between 0 and 9')"
      ],
      "id": "executed-fabric"
    },
    {
      "cell_type": "code",
      "execution_count": null,
      "metadata": {
        "id": "db186d86"
      },
      "outputs": [],
      "source": [],
      "id": "db186d86"
    },
    {
      "cell_type": "code",
      "execution_count": null,
      "metadata": {
        "id": "diverse-treasury",
        "outputId": "5a934773-0159-4c45-f5fc-4f82a9516e16"
      },
      "outputs": [
        {
          "name": "stdout",
          "output_type": "stream",
          "text": [
            "1\n",
            "2\n",
            "3\n",
            "4\n",
            "5\n",
            "6\n",
            "7\n",
            "8\n",
            "9\n",
            "10\n",
            "End\n"
          ]
        }
      ],
      "source": [
        "# while is excuted only once from top to bottom\n",
        "x=1 \n",
        "while x<=10:\n",
        "    print(x)\n",
        "    x+=1 \n",
        "print(\"End\")     "
      ],
      "id": "diverse-treasury"
    },
    {
      "cell_type": "code",
      "execution_count": null,
      "metadata": {
        "colab": {
          "base_uri": "https://localhost:8080/"
        },
        "id": "Qi-AI8RScWcR",
        "outputId": "55be7768-b3e0-4627-eac2-a84e0f544f1d"
      },
      "outputs": [
        {
          "name": "stdout",
          "output_type": "stream",
          "text": [
            "1\n",
            "2\n",
            "3\n",
            "4\n",
            "5\n",
            "6\n",
            "7\n",
            "8\n",
            "9\n",
            "10\n"
          ]
        }
      ],
      "source": [
        "num = 1 \n",
        "\n",
        "while num <=10:\n",
        "  print(num) \n",
        "  num += 1\n",
        "  "
      ],
      "id": "Qi-AI8RScWcR"
    },
    {
      "cell_type": "code",
      "execution_count": null,
      "metadata": {
        "colab": {
          "base_uri": "https://localhost:8080/"
        },
        "id": "LkhD0NFsfid4",
        "outputId": "0d1bd621-a62f-4be4-cf68-6b76c153d99c"
      },
      "outputs": [
        {
          "name": "stdout",
          "output_type": "stream",
          "text": [
            "2\n",
            "4\n",
            "6\n",
            "8\n",
            "10\n",
            "12\n",
            "14\n",
            "16\n",
            "18\n",
            "20\n"
          ]
        }
      ],
      "source": [
        "n = 2 \n",
        "\n",
        "while n <=20:\n",
        "  print(n) \n",
        "  n+=2\n",
        "\n"
      ],
      "id": "LkhD0NFsfid4"
    },
    {
      "cell_type": "code",
      "execution_count": null,
      "metadata": {
        "colab": {
          "base_uri": "https://localhost:8080/"
        },
        "id": "j8lnZPVxfikz",
        "outputId": "af94e10e-5351-464b-d35c-69ecfe6f0556"
      },
      "outputs": [
        {
          "name": "stdout",
          "output_type": "stream",
          "text": [
            "Enter a number for checking prime or not =10\n",
            "10  is not prime number \n",
            "10  is prime number \n",
            "10  is prime number \n",
            "10  is not prime number \n",
            "10  is prime number \n",
            "10  is prime number \n",
            "10  is prime number \n",
            "10  is prime number \n"
          ]
        }
      ],
      "source": [
        "num = int(input(\"Enter a number for checking prime or not =\"))\n",
        "\n",
        "i=2\n",
        "while i < num:\n",
        "  if num % i == 0:\n",
        "    print(num, \" is not prime number \")    \n",
        "  else:\n",
        "    print(num, \" is prime number \")\n",
        "  i += 1  \n"
      ],
      "id": "j8lnZPVxfikz"
    },
    {
      "cell_type": "code",
      "execution_count": null,
      "metadata": {
        "colab": {
          "base_uri": "https://localhost:8080/"
        },
        "id": "qMfNCSCCfiny",
        "outputId": "7cef5209-f666-4937-ad61-d6512ac65218"
      },
      "outputs": [
        {
          "name": "stdout",
          "output_type": "stream",
          "text": [
            "13\n",
            "26\n",
            "39\n",
            "52\n",
            "65\n",
            "78\n",
            "91\n",
            "104\n",
            "117\n",
            "130\n"
          ]
        }
      ],
      "source": [
        "for i in range(1,11):\n",
        "  num = 13 * i\n",
        "  print(num) \n",
        "\n"
      ],
      "id": "qMfNCSCCfiny"
    },
    {
      "cell_type": "code",
      "execution_count": null,
      "metadata": {
        "id": "TXc7blajfisc"
      },
      "outputs": [],
      "source": [],
      "id": "TXc7blajfisc"
    },
    {
      "cell_type": "code",
      "execution_count": null,
      "metadata": {
        "id": "JfwgTFUiehQk"
      },
      "outputs": [],
      "source": [],
      "id": "JfwgTFUiehQk"
    },
    {
      "cell_type": "code",
      "execution_count": null,
      "metadata": {
        "colab": {
          "base_uri": "https://localhost:8080/"
        },
        "id": "VPhQST7bcWfM",
        "outputId": "0f7d3a04-d42f-408c-c6a0-04a894adf4f5"
      },
      "outputs": [
        {
          "name": "stdout",
          "output_type": "stream",
          "text": [
            "2\n",
            "4\n",
            "6\n",
            "8\n"
          ]
        }
      ],
      "source": [
        "# range(begin,end,gap)\n",
        "\n",
        "for i in range(2,10,2):\n",
        "  print(i) \n",
        "\n",
        "  "
      ],
      "id": "VPhQST7bcWfM"
    },
    {
      "cell_type": "code",
      "execution_count": null,
      "metadata": {
        "id": "n7SBxpsycWh9"
      },
      "outputs": [],
      "source": [],
      "id": "n7SBxpsycWh9"
    },
    {
      "cell_type": "code",
      "execution_count": null,
      "metadata": {
        "id": "m9wdCwOAcWkn"
      },
      "outputs": [],
      "source": [],
      "id": "m9wdCwOAcWkn"
    },
    {
      "cell_type": "code",
      "execution_count": null,
      "metadata": {
        "id": "zoW-fPWQcWnW"
      },
      "outputs": [],
      "source": [],
      "id": "zoW-fPWQcWnW"
    },
    {
      "cell_type": "code",
      "execution_count": null,
      "metadata": {
        "id": "6OIyANMvcWq-"
      },
      "outputs": [],
      "source": [],
      "id": "6OIyANMvcWq-"
    },
    {
      "cell_type": "code",
      "execution_count": null,
      "metadata": {
        "id": "pheZqQshcWtg"
      },
      "outputs": [],
      "source": [],
      "id": "pheZqQshcWtg"
    },
    {
      "cell_type": "code",
      "execution_count": null,
      "metadata": {
        "id": "DVo1BA98cWwr"
      },
      "outputs": [],
      "source": [],
      "id": "DVo1BA98cWwr"
    },
    {
      "cell_type": "code",
      "execution_count": null,
      "metadata": {
        "id": "a2bXSQMacW8N"
      },
      "outputs": [],
      "source": [],
      "id": "a2bXSQMacW8N"
    },
    {
      "cell_type": "code",
      "execution_count": null,
      "metadata": {
        "id": "heavy-bennett",
        "outputId": "3d65e095-f6a2-4962-930f-52de01b33b79"
      },
      "outputs": [
        {
          "name": "stdout",
          "output_type": "stream",
          "text": [
            "1\n",
            "End\n",
            "2\n",
            "End\n",
            "3\n",
            "End\n",
            "4\n",
            "End\n",
            "5\n",
            "End\n",
            "6\n",
            "End\n",
            "7\n",
            "End\n",
            "8\n",
            "End\n",
            "9\n",
            "End\n",
            "10\n",
            "End\n"
          ]
        }
      ],
      "source": [
        "x=1 \n",
        "while x<=10:\n",
        "    print(x)\n",
        "    x+=1 \n",
        "    print(\"End\")  "
      ],
      "id": "heavy-bennett"
    },
    {
      "cell_type": "code",
      "execution_count": null,
      "metadata": {
        "id": "Cs5Uh9lOcToj"
      },
      "outputs": [],
      "source": [
        "str1 = 'ramyan'\n",
        "str2= 'mohan'\n",
        "# ram\n",
        "# yanram"
      ],
      "id": "Cs5Uh9lOcToj"
    },
    {
      "cell_type": "code",
      "execution_count": null,
      "metadata": {
        "colab": {
          "base_uri": "https://localhost:8080/",
          "height": 36
        },
        "id": "-l-kRNWmcj7k",
        "outputId": "9922fc89-9b06-4af0-ca16-fa3d8357357d"
      },
      "outputs": [
        {
          "data": {
            "application/vnd.google.colaboratory.intrinsic+json": {
              "type": "string"
            },
            "text/plain": [
              "'ramyanmohan'"
            ]
          },
          "execution_count": 2,
          "metadata": {},
          "output_type": "execute_result"
        }
      ],
      "source": [
        "str1 + str2 "
      ],
      "id": "-l-kRNWmcj7k"
    },
    {
      "cell_type": "code",
      "execution_count": null,
      "metadata": {
        "colab": {
          "base_uri": "https://localhost:8080/"
        },
        "id": "t0VkcJNAcTuz",
        "outputId": "ae8af406-81e6-4989-fa50-2ebde4d5ed43"
      },
      "outputs": [
        {
          "name": "stdout",
          "output_type": "stream",
          "text": [
            "Enter your Name:- RAMAYAN\n",
            "AYANRAM\n"
          ]
        }
      ],
      "source": [
        "str1  = input(\"Enter your Name:- \") \n",
        "\n",
        "#s1 = str1[0:3 ] \n",
        "#s2 = str1[3:]\n",
        "\n",
        "#print(s2+s1)\n",
        "\n",
        "print(str1[3:] + str1[0:3 ])\n"
      ],
      "id": "t0VkcJNAcTuz"
    },
    {
      "cell_type": "code",
      "execution_count": null,
      "metadata": {
        "colab": {
          "base_uri": "https://localhost:8080/"
        },
        "id": "V0wzXlqlednM",
        "outputId": "ff3f1e0b-8db8-4135-82ae-500bd5168a70"
      },
      "outputs": [
        {
          "name": "stdout",
          "output_type": "stream",
          "text": [
            "R\n",
            "A\n",
            "M\n",
            "A\n",
            "Y\n",
            "A\n",
            "N\n"
          ]
        }
      ],
      "source": [
        "for i in str1:\n",
        "  print(i) "
      ],
      "id": "V0wzXlqlednM"
    },
    {
      "cell_type": "code",
      "execution_count": null,
      "metadata": {
        "colab": {
          "base_uri": "https://localhost:8080/"
        },
        "id": "0VGoI8VFhueO",
        "outputId": "418c4724-7d9f-449f-c408-c4df9c5b6f7b"
      },
      "outputs": [
        {
          "name": "stdout",
          "output_type": "stream",
          "text": [
            "NAYAMAR\n"
          ]
        }
      ],
      "source": [
        "str=\"RAMAYAN\"\n",
        "print(str[-1:-8:-1])\n"
      ],
      "id": "0VGoI8VFhueO"
    },
    {
      "cell_type": "code",
      "execution_count": null,
      "metadata": {
        "colab": {
          "base_uri": "https://localhost:8080/",
          "height": 36
        },
        "id": "fPHD-tAMedqD",
        "outputId": "71d83ad0-f6f5-4d77-8cab-989b7ca38b83"
      },
      "outputs": [
        {
          "data": {
            "application/vnd.google.colaboratory.intrinsic+json": {
              "type": "string"
            },
            "text/plain": [
              "'NAYAMAR'"
            ]
          },
          "execution_count": 29,
          "metadata": {},
          "output_type": "execute_result"
        }
      ],
      "source": [
        "str[::-1]"
      ],
      "id": "fPHD-tAMedqD"
    },
    {
      "cell_type": "code",
      "execution_count": null,
      "metadata": {
        "id": "0paFgOzdiFCz"
      },
      "outputs": [],
      "source": [],
      "id": "0paFgOzdiFCz"
    },
    {
      "cell_type": "code",
      "execution_count": null,
      "metadata": {
        "id": "qz7fJil3iFGG"
      },
      "outputs": [],
      "source": [],
      "id": "qz7fJil3iFGG"
    },
    {
      "cell_type": "code",
      "execution_count": null,
      "metadata": {
        "id": "PAE6GX3HcTyr"
      },
      "outputs": [],
      "source": [],
      "id": "PAE6GX3HcTyr"
    },
    {
      "cell_type": "code",
      "execution_count": null,
      "metadata": {
        "id": "suspected-finger",
        "outputId": "5fbae724-8224-47f3-de26-9184b16a49e4"
      },
      "outputs": [
        {
          "name": "stdout",
          "output_type": "stream",
          "text": [
            "100\n",
            "102\n",
            "104\n",
            "106\n",
            "108\n",
            "110\n",
            "112\n",
            "114\n",
            "116\n",
            "118\n",
            "120\n",
            "122\n",
            "124\n",
            "126\n",
            "128\n",
            "130\n",
            "132\n",
            "134\n",
            "136\n",
            "138\n",
            "140\n",
            "142\n",
            "144\n",
            "146\n",
            "148\n",
            "150\n",
            "152\n",
            "154\n",
            "156\n",
            "158\n",
            "160\n",
            "162\n",
            "164\n",
            "166\n",
            "168\n",
            "170\n",
            "172\n",
            "174\n",
            "176\n",
            "178\n",
            "180\n",
            "182\n",
            "184\n",
            "186\n",
            "188\n",
            "190\n",
            "192\n",
            "194\n",
            "196\n",
            "198\n",
            "200\n"
          ]
        }
      ],
      "source": [
        "x=100\n",
        "while  x>=100 and x<=200:\n",
        "    print(x)\n",
        "    \n",
        "    x+=2 "
      ],
      "id": "suspected-finger"
    },
    {
      "cell_type": "code",
      "execution_count": null,
      "metadata": {
        "id": "comparative-graphics",
        "outputId": "87afbe10-e40d-431b-9fd2-3b871a9221b3"
      },
      "outputs": [
        {
          "name": "stdout",
          "output_type": "stream",
          "text": [
            "Enter Minimum and Maximum range :12,46\n",
            "12\n",
            "14\n",
            "16\n",
            "18\n",
            "20\n",
            "22\n",
            "24\n",
            "26\n",
            "28\n",
            "30\n",
            "32\n",
            "34\n",
            "36\n",
            "38\n",
            "40\n",
            "42\n",
            "44\n",
            "46\n"
          ]
        }
      ],
      "source": [
        "m,n=[int(i) for i in input('Enter Minimum and Maximum range :').split(',')]\n",
        "x=m \n",
        "if x%2 !=0:\n",
        "    x+=1 \n",
        "while x>=m and x<=n:\n",
        "    print(x)\n",
        "    x+=2 \n",
        "    \n",
        "    "
      ],
      "id": "comparative-graphics"
    },
    {
      "cell_type": "code",
      "execution_count": null,
      "metadata": {
        "colab": {
          "base_uri": "https://localhost:8080/"
        },
        "id": "K0H_QuVSirR4",
        "outputId": "20c52ce4-b069-4ee6-bc7f-73fb15322155"
      },
      "outputs": [
        {
          "name": "stdout",
          "output_type": "stream",
          "text": [
            "R\n",
            "A\n",
            "M\n",
            "Y\n",
            "A\n",
            "N\n"
          ]
        }
      ],
      "source": [
        "str1 = 'RAMYAN'\n",
        "\n",
        "for i in str1:\n",
        "  print(i)"
      ],
      "id": "K0H_QuVSirR4"
    },
    {
      "cell_type": "code",
      "execution_count": null,
      "metadata": {
        "colab": {
          "base_uri": "https://localhost:8080/",
          "height": 165
        },
        "id": "UdDV540apPKB",
        "outputId": "29e0fba1-a533-4730-bf8a-835d9a017b94"
      },
      "outputs": [
        {
          "ename": "AttributeError",
          "evalue": "ignored",
          "output_type": "error",
          "traceback": [
            "\u001b[0;31m---------------------------------------------------------------------------\u001b[0m",
            "\u001b[0;31mAttributeError\u001b[0m                            Traceback (most recent call last)",
            "\u001b[0;32m<ipython-input-58-01aa952784d7>\u001b[0m in \u001b[0;36m<module>\u001b[0;34m\u001b[0m\n\u001b[0;32m----> 1\u001b[0;31m \u001b[0ms2\u001b[0m \u001b[0;34m=\u001b[0m \u001b[0mstr1\u001b[0m\u001b[0;34m.\u001b[0m\u001b[0mreversed\u001b[0m\u001b[0;34m(\u001b[0m\u001b[0;34m)\u001b[0m\u001b[0;34m\u001b[0m\u001b[0;34m\u001b[0m\u001b[0m\n\u001b[0m",
            "\u001b[0;31mAttributeError\u001b[0m: 'str' object has no attribute 'reversed'"
          ]
        }
      ],
      "source": [
        "s2 = str1."
      ],
      "id": "UdDV540apPKB"
    },
    {
      "cell_type": "code",
      "execution_count": null,
      "metadata": {
        "id": "d0qsyQwoirVV"
      },
      "outputs": [],
      "source": [
        "list1= [12,23,45,66,78,90]\n"
      ],
      "id": "d0qsyQwoirVV"
    },
    {
      "cell_type": "code",
      "execution_count": null,
      "metadata": {
        "colab": {
          "base_uri": "https://localhost:8080/"
        },
        "id": "m2jTEaPgl2Cz",
        "outputId": "246712d1-14ad-47bf-e72f-79673b4385dc"
      },
      "outputs": [
        {
          "data": {
            "text/plain": [
              "6"
            ]
          },
          "execution_count": 54,
          "metadata": {},
          "output_type": "execute_result"
        }
      ],
      "source": [
        "len(list1)\n",
        "\n",
        "\n",
        "while "
      ],
      "id": "m2jTEaPgl2Cz"
    },
    {
      "cell_type": "code",
      "execution_count": null,
      "metadata": {
        "colab": {
          "base_uri": "https://localhost:8080/"
        },
        "id": "V-88XCFJosJP",
        "outputId": "4b28ef03-0e68-4b78-e91f-3e0ca04dd31f"
      },
      "outputs": [
        {
          "name": "stdout",
          "output_type": "stream",
          "text": [
            "12\n",
            "23\n",
            "45\n",
            "66\n",
            "78\n",
            "90\n",
            "[12, 45, 78]\n"
          ]
        }
      ],
      "source": [
        "list=[12,23,45,66,78,90]\n",
        "for i in list:\n",
        "    print(i)\n",
        "list.remove(23)     \n",
        "list.remove(66) \n",
        "list.remove(90) \n",
        "\n",
        "print(list)\n"
      ],
      "id": "V-88XCFJosJP"
    },
    {
      "cell_type": "code",
      "execution_count": null,
      "metadata": {
        "colab": {
          "base_uri": "https://localhost:8080/"
        },
        "id": "64CkLeejlc5L",
        "outputId": "5d83e2e2-95ff-48e4-f04d-cf9b0d1a410b"
      },
      "outputs": [
        {
          "name": "stdout",
          "output_type": "stream",
          "text": [
            "12\n",
            "23\n",
            "45\n",
            "66\n",
            "78\n",
            "90\n"
          ]
        }
      ],
      "source": [
        "l2 = []\n",
        "\n",
        "for i in list1:\n",
        "  print(i)\n",
        "  if i%2 !=0:\n",
        "    l2.append(i) \n"
      ],
      "id": "64CkLeejlc5L"
    },
    {
      "cell_type": "code",
      "execution_count": null,
      "metadata": {
        "colab": {
          "base_uri": "https://localhost:8080/"
        },
        "id": "_vjKTp6_lc71",
        "outputId": "29a6eac4-6ba4-4db6-88ef-e456b3c460ce"
      },
      "outputs": [
        {
          "data": {
            "text/plain": [
              "[23, 45]"
            ]
          },
          "execution_count": 51,
          "metadata": {},
          "output_type": "execute_result"
        }
      ],
      "source": [
        "l2"
      ],
      "id": "_vjKTp6_lc71"
    },
    {
      "cell_type": "code",
      "execution_count": null,
      "metadata": {
        "colab": {
          "base_uri": "https://localhost:8080/"
        },
        "id": "bnucLRnzlc-r",
        "outputId": "0b260fb3-21d3-43a0-a6e2-fdc83bfc9c6e"
      },
      "outputs": [
        {
          "name": "stdout",
          "output_type": "stream",
          "text": [
            "2\t4\t6\t8\t10\t12\t14\t16\t18\t20\t\n",
            "4\t8\t12\t16\t20\t24\t28\t32\t36\t40\t\n",
            "6\t12\t18\t24\t30\t36\t42\t48\t54\t60\t\n",
            "8\t16\t24\t32\t40\t48\t56\t64\t72\t80\t\n",
            "10\t20\t30\t40\t50\t60\t70\t80\t90\t100\t\n",
            "12\t24\t36\t48\t60\t72\t84\t96\t108\t120\t\n",
            "14\t28\t42\t56\t70\t84\t98\t112\t126\t140\t\n",
            "16\t32\t48\t64\t80\t96\t112\t128\t144\t160\t\n",
            "18\t36\t54\t72\t90\t108\t126\t144\t162\t180\t\n",
            "20\t40\t60\t80\t100\t120\t140\t160\t180\t200\t\n"
          ]
        }
      ],
      "source": [
        "for x in range(2,21,2):\n",
        "  for y in range(1,11):\n",
        "    print(x*y,end=\"\\t\")\n",
        "  print(\"\")  \n",
        "  \n",
        "    "
      ],
      "id": "bnucLRnzlc-r"
    },
    {
      "cell_type": "code",
      "execution_count": null,
      "metadata": {
        "id": "MOgm9vt8pCfC"
      },
      "outputs": [],
      "source": [],
      "id": "MOgm9vt8pCfC"
    },
    {
      "cell_type": "code",
      "execution_count": null,
      "metadata": {
        "id": "UkhxSIDipCiS"
      },
      "outputs": [],
      "source": [],
      "id": "UkhxSIDipCiS"
    },
    {
      "cell_type": "code",
      "execution_count": null,
      "metadata": {
        "id": "aNWQ7ejDpClI"
      },
      "outputs": [],
      "source": [],
      "id": "aNWQ7ejDpClI"
    },
    {
      "cell_type": "code",
      "execution_count": null,
      "metadata": {
        "id": "2xuTaTQdpCng"
      },
      "outputs": [],
      "source": [],
      "id": "2xuTaTQdpCng"
    },
    {
      "cell_type": "code",
      "execution_count": null,
      "metadata": {
        "id": "DDo-WNUrpCrx"
      },
      "outputs": [],
      "source": [],
      "id": "DDo-WNUrpCrx"
    },
    {
      "cell_type": "code",
      "execution_count": null,
      "metadata": {
        "id": "6WYyWXA8pBwO"
      },
      "outputs": [],
      "source": [],
      "id": "6WYyWXA8pBwO"
    },
    {
      "cell_type": "code",
      "execution_count": null,
      "metadata": {
        "id": "c_ZAWyZUpBzO"
      },
      "outputs": [],
      "source": [],
      "id": "c_ZAWyZUpBzO"
    },
    {
      "cell_type": "code",
      "execution_count": null,
      "metadata": {
        "id": "kgySYWtMpB2U"
      },
      "outputs": [],
      "source": [],
      "id": "kgySYWtMpB2U"
    },
    {
      "cell_type": "code",
      "execution_count": null,
      "metadata": {
        "id": "W_UfrGtKldCq"
      },
      "outputs": [],
      "source": [],
      "id": "W_UfrGtKldCq"
    },
    {
      "cell_type": "code",
      "execution_count": null,
      "metadata": {
        "colab": {
          "base_uri": "https://localhost:8080/"
        },
        "id": "sceBvpcoirgA",
        "outputId": "0ab0ed8a-d5f9-44e4-da6f-28d160510ac9"
      },
      "outputs": [
        {
          "name": "stdout",
          "output_type": "stream",
          "text": [
            "12\n",
            "23\n",
            "45\n",
            "66\n",
            "78\n",
            "90\n"
          ]
        }
      ],
      "source": [
        "for i in list1:\n",
        "  print(i)"
      ],
      "id": "sceBvpcoirgA"
    },
    {
      "cell_type": "code",
      "execution_count": null,
      "metadata": {
        "id": "AxxKLnIeirjT"
      },
      "outputs": [],
      "source": [
        "list=[12,23,45,66,78,90]\n",
        "for i in list:\n",
        "    print(i)\n",
        "to_remove=[12,45,78]\n",
        "for i in to_remove:\n",
        "    while i in list:\n",
        "        list.remove(i)\n",
        "    print(list)                    # sir I did it using long method short mind me ni aaya\n"
      ],
      "id": "AxxKLnIeirjT"
    },
    {
      "cell_type": "code",
      "execution_count": null,
      "metadata": {
        "id": "UkoToGB9irlp"
      },
      "outputs": [],
      "source": [],
      "id": "UkoToGB9irlp"
    },
    {
      "cell_type": "code",
      "execution_count": null,
      "metadata": {
        "id": "cP9m5uCTirob"
      },
      "outputs": [],
      "source": [],
      "id": "cP9m5uCTirob"
    },
    {
      "cell_type": "code",
      "execution_count": null,
      "metadata": {
        "id": "0eNUJ71Rirsy"
      },
      "outputs": [],
      "source": [],
      "id": "0eNUJ71Rirsy"
    },
    {
      "cell_type": "code",
      "execution_count": null,
      "metadata": {
        "id": "YuSoBhsliryx"
      },
      "outputs": [],
      "source": [],
      "id": "YuSoBhsliryx"
    },
    {
      "cell_type": "code",
      "execution_count": null,
      "metadata": {
        "id": "meaning-cooling",
        "outputId": "9264e4e6-2b3f-4d47-b0fb-9690c2c2051a"
      },
      "outputs": [
        {
          "name": "stdout",
          "output_type": "stream",
          "text": [
            "H\n",
            "e\n",
            "l\n",
            "l\n",
            "o\n"
          ]
        }
      ],
      "source": [
        "# for loop is useful to iterate over the elements of a sequence.\n",
        "str='Hello'\n",
        "for ch in str:\n",
        "    print(ch) "
      ],
      "id": "meaning-cooling"
    },
    {
      "cell_type": "code",
      "execution_count": null,
      "metadata": {
        "id": "stuck-heater",
        "outputId": "e259e0d6-c44e-4b95-bc74-933c9eb59f08"
      },
      "outputs": [
        {
          "name": "stdout",
          "output_type": "stream",
          "text": [
            "10\n",
            "9\n",
            "8\n",
            "7\n",
            "6\n",
            "5\n",
            "4\n",
            "3\n",
            "2\n",
            "1\n"
          ]
        }
      ],
      "source": [
        "for i in range(10,0,-1):\n",
        "    print(i) "
      ],
      "id": "stuck-heater"
    },
    {
      "cell_type": "code",
      "execution_count": null,
      "metadata": {
        "id": "respected-suicide",
        "outputId": "f4d9fbba-59ef-43d4-bf00-562dffbea990"
      },
      "outputs": [
        {
          "name": "stdout",
          "output_type": "stream",
          "text": [
            "10\n",
            "20.5\n",
            "A\n",
            "Amenrica\n"
          ]
        }
      ],
      "source": [
        "list=[10,20.5,'A','Amenrica']\n",
        "\n",
        "for i in list:\n",
        "    print(i) "
      ],
      "id": "respected-suicide"
    },
    {
      "cell_type": "code",
      "execution_count": null,
      "metadata": {
        "id": "subsequent-activation",
        "outputId": "042d284a-c158-4d06-f22a-a8b64fc3a179"
      },
      "outputs": [
        {
          "name": "stdout",
          "output_type": "stream",
          "text": [
            "10\n",
            "20\n",
            "30\n",
            "40\n",
            "50\n",
            "sum=  150\n"
          ]
        }
      ],
      "source": [
        "l=[10,20,30,40,50]\n",
        "sum=0\n",
        "\n",
        "for i in l:\n",
        "    print(i)\n",
        "    sum+=i \n",
        "print('sum= ',sum)    \n",
        "    "
      ],
      "id": "subsequent-activation"
    },
    {
      "cell_type": "code",
      "execution_count": null,
      "metadata": {
        "id": "legitimate-zealand",
        "outputId": "fdd3dc38-1f19-41f1-e494-350f2c6000c0"
      },
      "outputs": [
        {
          "name": "stdout",
          "output_type": "stream",
          "text": [
            "10\n",
            "20\n",
            "30\n",
            "40\n",
            "50\n",
            "sum =  150\n"
          ]
        }
      ],
      "source": [
        "l=[10,20,30,40,50]\n",
        "sum=0 \n",
        "i=0 \n",
        "while i < len(l):\n",
        "    print(l[i])\n",
        "    sum+=l[i]\n",
        "    i+=1 \n",
        "print('sum = ',sum)     "
      ],
      "id": "legitimate-zealand"
    },
    {
      "cell_type": "code",
      "execution_count": null,
      "metadata": {
        "id": "lesbian-darkness",
        "outputId": "a47f238e-23ea-4edf-fa3d-c991fee8b464"
      },
      "outputs": [
        {
          "name": "stdout",
          "output_type": "stream",
          "text": [
            "i = 0 \t j= 0\n",
            "i = 0 \t j= 1\n",
            "i = 0 \t j= 2\n",
            "i = 0 \t j= 3\n",
            "i = 1 \t j= 0\n",
            "i = 1 \t j= 1\n",
            "i = 1 \t j= 2\n",
            "i = 1 \t j= 3\n",
            "i = 2 \t j= 0\n",
            "i = 2 \t j= 1\n",
            "i = 2 \t j= 2\n",
            "i = 2 \t j= 3\n"
          ]
        }
      ],
      "source": [
        "# Nested loops \n",
        "for i in range(3):\n",
        "    for j in range(4):\n",
        "        print('i =', i ,'\\t', 'j=',j )"
      ],
      "id": "lesbian-darkness"
    },
    {
      "cell_type": "code",
      "execution_count": null,
      "metadata": {
        "id": "wired-number",
        "outputId": "684ba9ba-e1f4-4ff5-811f-e676e9142481"
      },
      "outputs": [
        {
          "name": "stdout",
          "output_type": "stream",
          "text": [
            "*\n",
            "**\n",
            "***\n",
            "****\n",
            "*****\n",
            "******\n",
            "*******\n",
            "********\n",
            "*********\n",
            "**********\n"
          ]
        }
      ],
      "source": [
        "for i in range(1,11):\n",
        "    for j in range(1, i+1):\n",
        "        print('*',end='')\n",
        "    print()     "
      ],
      "id": "wired-number"
    },
    {
      "cell_type": "code",
      "execution_count": null,
      "metadata": {
        "id": "rotary-defeat",
        "outputId": "3a1735ff-79cc-4477-cd1a-9e8677a071c4"
      },
      "outputs": [
        {
          "name": "stdout",
          "output_type": "stream",
          "text": [
            "* \n",
            "* * \n",
            "* * * \n",
            "* * * * \n",
            "* * * * * \n",
            "* * * * * * \n",
            "* * * * * * * \n",
            "* * * * * * * * \n",
            "* * * * * * * * * \n",
            "* * * * * * * * * * \n"
          ]
        }
      ],
      "source": [
        "for i in range(1,11):\n",
        "    print('* '*i)"
      ],
      "id": "rotary-defeat"
    },
    {
      "cell_type": "code",
      "execution_count": null,
      "metadata": {
        "id": "completed-saturn",
        "outputId": "649388bf-feb8-4321-fc30-d708cf63068c"
      },
      "outputs": [
        {
          "name": "stdout",
          "output_type": "stream",
          "text": [
            "                                        * \n",
            "                                       * * \n",
            "                                      * * * \n",
            "                                     * * * * \n",
            "                                    * * * * * \n",
            "                                   * * * * * * \n",
            "                                  * * * * * * * \n",
            "                                 * * * * * * * * \n",
            "                                * * * * * * * * * \n",
            "                               * * * * * * * * * * \n"
          ]
        }
      ],
      "source": [
        "n=40\n",
        "for i in range(1,11):\n",
        "    print(' '*n,end='')\n",
        "    print('* '*(i))\n",
        "    n-=1 "
      ],
      "id": "completed-saturn"
    },
    {
      "cell_type": "code",
      "execution_count": null,
      "metadata": {
        "colab": {
          "base_uri": "https://localhost:8080/"
        },
        "id": "affecting-samuel",
        "outputId": "ed0c5565-c8f8-4a66-9f36-4a5ff09e6a23"
      },
      "outputs": [
        {
          "name": "stdout",
          "output_type": "stream",
          "text": [
            "       1       2       3       4       5       6       7       8       9      10\n",
            "       2       4       6       8      10      12      14      16      18      20\n",
            "       3       6       9      12      15      18      21      24      27      30\n",
            "       4       8      12      16      20      24      28      32      36      40\n",
            "       5      10      15      20      25      30      35      40      45      50\n",
            "       6      12      18      24      30      36      42      48      54      60\n",
            "       7      14      21      28      35      42      49      56      63      70\n",
            "       8      16      24      32      40      48      56      64      72      80\n",
            "       9      18      27      36      45      54      63      72      81      90\n",
            "      10      20      30      40      50      60      70      80      90     100\n"
          ]
        }
      ],
      "source": [
        "for x in range(1,11):\n",
        "    for y in range(1,11):\n",
        "        print('{:8}'.format(x*y),end='')\n",
        "    print()     "
      ],
      "id": "affecting-samuel"
    },
    {
      "cell_type": "code",
      "execution_count": null,
      "metadata": {
        "id": "damaged-disney",
        "outputId": "4976749c-12d8-4370-c7a8-2021fadec3cb"
      },
      "outputs": [
        {
          "name": "stdout",
          "output_type": "stream",
          "text": [
            "No\n"
          ]
        }
      ],
      "source": [
        "for i in range(0):\n",
        "    print(\"yes\")\n",
        "else:\n",
        "    print(\"No\")"
      ],
      "id": "damaged-disney"
    },
    {
      "cell_type": "code",
      "execution_count": null,
      "metadata": {
        "id": "statewide-bulgaria",
        "outputId": "752fa8a1-11ae-4692-9500-c67bd1ee17aa"
      },
      "outputs": [
        {
          "name": "stdout",
          "output_type": "stream",
          "text": [
            "yes\n",
            "yes\n",
            "yes\n",
            "yes\n",
            "yes\n",
            "No\n"
          ]
        }
      ],
      "source": [
        "for i in range(5):\n",
        "    print(\"yes\")\n",
        "else:\n",
        "    print(\"No\")"
      ],
      "id": "statewide-bulgaria"
    },
    {
      "cell_type": "code",
      "execution_count": null,
      "metadata": {
        "id": "animal-savage",
        "outputId": "205ba7e1-a1f5-4741-95fb-8e7589ee45f4"
      },
      "outputs": [
        {
          "name": "stdout",
          "output_type": "stream",
          "text": [
            "Enter element to search5\n",
            "Element is found in group1\n"
          ]
        }
      ],
      "source": [
        "group1=[1,2,3,4,5]\n",
        "search=int(input(\"Enter element to search\"))\n",
        "for i in group1:\n",
        "    if search == i:\n",
        "        print(\"Element is found in group1\")\n",
        "        break        \n",
        "else:\n",
        "    print(\"Element is not found in group1\")\n",
        "    "
      ],
      "id": "animal-savage"
    },
    {
      "cell_type": "code",
      "execution_count": null,
      "metadata": {
        "colab": {
          "base_uri": "https://localhost:8080/"
        },
        "id": "-oy3ES5BYqFL",
        "outputId": "5b8aaab6-258b-4d76-e80b-703635e071e0"
      },
      "outputs": [
        {
          "data": {
            "text/plain": [
              "True"
            ]
          },
          "execution_count": 7,
          "metadata": {},
          "output_type": "execute_result"
        }
      ],
      "source": [
        "str1 = 'Helloworld'\n",
        "\n",
        "str1.startswith('Hell')"
      ],
      "id": "-oy3ES5BYqFL"
    },
    {
      "cell_type": "code",
      "execution_count": null,
      "metadata": {
        "colab": {
          "base_uri": "https://localhost:8080/"
        },
        "id": "cYAGJ36jYqpn",
        "outputId": "aa0e66a1-63f3-4f7c-b66a-492bedca7a33"
      },
      "outputs": [
        {
          "data": {
            "text/plain": [
              "True"
            ]
          },
          "execution_count": 8,
          "metadata": {},
          "output_type": "execute_result"
        }
      ],
      "source": [
        "str1.endswith('world')"
      ],
      "id": "cYAGJ36jYqpn"
    },
    {
      "cell_type": "code",
      "execution_count": null,
      "metadata": {
        "id": "naval-triangle",
        "outputId": "b710d02d-d5a2-4ddb-8499-ce396645225d"
      },
      "outputs": [
        {
          "name": "stdout",
          "output_type": "stream",
          "text": [
            "x=  10\n",
            "x=  9\n",
            "x=  8\n",
            "x=  7\n",
            "x=  6\n",
            "out of loop\n"
          ]
        }
      ],
      "source": [
        "# Break statement can be used inside a for loop or while loop to come out of the loop \n",
        "x=10 \n",
        "while x>=1:\n",
        "    print('x= ',x)\n",
        "    x-=1 \n",
        "    if x==5:\n",
        "        break \n",
        "print(\"out of loop\")        "
      ],
      "id": "naval-triangle"
    },
    {
      "cell_type": "code",
      "execution_count": null,
      "metadata": {
        "colab": {
          "base_uri": "https://localhost:8080/"
        },
        "id": "Fhp499uhZvDp",
        "outputId": "8706c77f-b62c-4cb7-da50-cd676f4dfa72"
      },
      "outputs": [
        {
          "name": "stdout",
          "output_type": "stream",
          "text": [
            "1\n",
            "2\n",
            "3\n",
            "4\n",
            "out of loop \n"
          ]
        }
      ],
      "source": [
        "num= 1\n",
        "\n",
        "while num<=10:\n",
        "  print(num) \n",
        "  num+=1\n",
        "  if num == 5:\n",
        "    break;\n",
        "\n",
        "    \n",
        "print('out of loop ')  "
      ],
      "id": "Fhp499uhZvDp"
    },
    {
      "cell_type": "code",
      "execution_count": null,
      "metadata": {
        "colab": {
          "base_uri": "https://localhost:8080/"
        },
        "id": "g_4ZVtsZZwIg",
        "outputId": "4614a71c-5c3a-4064-dc05-244e43124c12"
      },
      "outputs": [
        {
          "name": "stdout",
          "output_type": "stream",
          "text": [
            "0\n",
            "1\n",
            "2\n",
            "3\n",
            "4\n",
            "5\n"
          ]
        }
      ],
      "source": [
        "for i in range(10):\n",
        "  print(i)\n",
        "  if i == 5:\n",
        "    break  "
      ],
      "id": "g_4ZVtsZZwIg"
    },
    {
      "cell_type": "code",
      "execution_count": null,
      "metadata": {
        "colab": {
          "base_uri": "https://localhost:8080/"
        },
        "id": "wvupFAiJZwLQ",
        "outputId": "f01d05cb-ec6b-4a45-f41e-471337f2f94d"
      },
      "outputs": [
        {
          "name": "stdout",
          "output_type": "stream",
          "text": [
            "51  is prime number\n"
          ]
        }
      ],
      "source": [
        "n=51 \n",
        "for i in range(2,n//2+1):\n",
        "  if n==2:\n",
        "    print(n,' is prime number') \n",
        "    break \n",
        "  elif n % i == 0:\n",
        "    print(n,' is not prime number')  \n",
        "    break \n",
        "  else:\n",
        "    print(n,' is prime number')\n",
        "    break\n",
        "\n",
        "\n"
      ],
      "id": "wvupFAiJZwLQ"
    },
    {
      "cell_type": "code",
      "execution_count": null,
      "metadata": {
        "id": "au3CwXchZwOi"
      },
      "outputs": [],
      "source": [],
      "id": "au3CwXchZwOi"
    },
    {
      "cell_type": "code",
      "execution_count": null,
      "metadata": {
        "id": "VYN88WDkZwSJ"
      },
      "outputs": [],
      "source": [
        "for i in range(1,11):\n",
        "  pass \n",
        "   \n"
      ],
      "id": "VYN88WDkZwSJ"
    },
    {
      "cell_type": "code",
      "execution_count": null,
      "metadata": {
        "id": "_0PS4-aVZwVp"
      },
      "outputs": [],
      "source": [],
      "id": "_0PS4-aVZwVp"
    },
    {
      "cell_type": "code",
      "execution_count": null,
      "metadata": {
        "id": "W13Uha1iZvHC"
      },
      "outputs": [],
      "source": [],
      "id": "W13Uha1iZvHC"
    },
    {
      "cell_type": "code",
      "execution_count": null,
      "metadata": {
        "id": "_J3Mfq1FZvUp"
      },
      "outputs": [],
      "source": [],
      "id": "_J3Mfq1FZvUp"
    },
    {
      "cell_type": "code",
      "execution_count": null,
      "metadata": {
        "id": "angry-auction",
        "outputId": "d643df24-67bb-4398-86f7-ee35e236d9cf"
      },
      "outputs": [
        {
          "name": "stdout",
          "output_type": "stream",
          "text": [
            "x=  1\n",
            "x=  2\n",
            "x=  3\n",
            "x=  4\n",
            "x=  5\n",
            "out of loop\n"
          ]
        }
      ],
      "source": [
        "# continue statement is used in a loop to go back to the begining of the loop\n",
        "x=0\n",
        "while x < 10:\n",
        "    x+=1 \n",
        "    if x > 5:\n",
        "        if x > 5:\n",
        "            continue \n",
        "    print('x= ',x)\n",
        "print(\"out of loop\")    "
      ],
      "id": "angry-auction"
    },
    {
      "cell_type": "code",
      "execution_count": null,
      "metadata": {
        "colab": {
          "base_uri": "https://localhost:8080/"
        },
        "id": "coordinate-significance",
        "outputId": "c3e9bd0d-ce87-4f29-b5f1-a84f6ab4d6b3"
      },
      "outputs": [
        {
          "name": "stdout",
          "output_type": "stream",
          "text": [
            "x=  1\n",
            "x=  2\n",
            "x=  3\n",
            "x=  4\n",
            "x=  5\n",
            "x=  6\n",
            "x=  7\n",
            "x=  8\n",
            "x=  9\n",
            "x=  10\n",
            "Out of Loop\n"
          ]
        }
      ],
      "source": [
        "# Pass statement does not do anything\n",
        "x=0\n",
        "while x < 10:\n",
        "    x+=1 \n",
        "    if x > 5:\n",
        "         pass \n",
        "    print('x= ',x)\n",
        "print('Out of Loop')    \n",
        "        "
      ],
      "id": "coordinate-significance"
    },
    {
      "cell_type": "code",
      "execution_count": null,
      "metadata": {
        "id": "TwPMbrLKd7xY"
      },
      "outputs": [],
      "source": [
        "num =1 \n",
        "\n",
        "while num"
      ],
      "id": "TwPMbrLKd7xY"
    },
    {
      "cell_type": "code",
      "execution_count": null,
      "metadata": {
        "id": "VwcCjT8Td74S"
      },
      "outputs": [],
      "source": [],
      "id": "VwcCjT8Td74S"
    },
    {
      "cell_type": "code",
      "execution_count": null,
      "metadata": {
        "id": "OtZtYaNid7_n"
      },
      "outputs": [],
      "source": [],
      "id": "OtZtYaNid7_n"
    },
    {
      "cell_type": "code",
      "execution_count": null,
      "metadata": {
        "id": "HjFdpSFld8C2"
      },
      "outputs": [],
      "source": [],
      "id": "HjFdpSFld8C2"
    },
    {
      "cell_type": "code",
      "execution_count": null,
      "metadata": {
        "id": "-5O6VaOVd8HG"
      },
      "outputs": [],
      "source": [],
      "id": "-5O6VaOVd8HG"
    },
    {
      "cell_type": "code",
      "execution_count": null,
      "metadata": {
        "id": "tUNXeMt7d8Lf"
      },
      "outputs": [],
      "source": [],
      "id": "tUNXeMt7d8Lf"
    },
    {
      "cell_type": "code",
      "execution_count": null,
      "metadata": {
        "id": "composed-appeal",
        "outputId": "b62e730d-f5e5-4064-f8ea-90b18f28095e"
      },
      "outputs": [
        {
          "name": "stdout",
          "output_type": "stream",
          "text": [
            "-4\n",
            "-5\n",
            "-6\n",
            "-7\n"
          ]
        }
      ],
      "source": [
        "num=[1,2,3,-4,-5,-6,-7,8,9]\n",
        "for i in num:\n",
        "    if(i>0):\n",
        "        pass \n",
        "    else:\n",
        "        print(i) "
      ],
      "id": "composed-appeal"
    },
    {
      "cell_type": "code",
      "execution_count": null,
      "metadata": {
        "id": "cubic-hobby",
        "outputId": "a967d2ba-b77e-4834-99d5-e8294c7bfdaf"
      },
      "outputs": [
        {
          "name": "stdout",
          "output_type": "stream",
          "text": [
            "Enter a number greater number than 0: 5\n",
            "U entered:  5\n"
          ]
        }
      ],
      "source": [
        "# Assert Staemnet is usefull to check if a particular is fullfilled or not \n",
        "# assert expression,message\n",
        "x=int(input('Enter a number greater number than 0: '))\n",
        "assert x > 0,\"wrong input entered\"\n",
        "print('U entered: ',x) "
      ],
      "id": "cubic-hobby"
    },
    {
      "cell_type": "code",
      "execution_count": null,
      "metadata": {
        "id": "fitting-colors",
        "outputId": "86cac70c-f97a-440e-ba99-f74c5b2afba0"
      },
      "outputs": [
        {
          "name": "stdout",
          "output_type": "stream",
          "text": [
            "Enter a number greater than 0: -7\n",
            "wrong input entered\n"
          ]
        }
      ],
      "source": [
        "x=int(input('Enter a number greater than 0: '))\n",
        "try:\n",
        "    assert(x>0)\n",
        "    print('U entered: ',x)\n",
        "except AssertionError:\n",
        "    print('wrong input entered')\n",
        "    \n",
        "    "
      ],
      "id": "fitting-colors"
    },
    {
      "cell_type": "code",
      "execution_count": null,
      "metadata": {
        "id": "occupied-parker"
      },
      "outputs": [],
      "source": [
        "def sum(a, b):\n",
        "    print(a+b) "
      ],
      "id": "occupied-parker"
    },
    {
      "cell_type": "code",
      "execution_count": null,
      "metadata": {
        "id": "atmospheric-disorder",
        "outputId": "bda68c6c-0508-4af1-eb2f-5b0ad239dc16"
      },
      "outputs": [
        {
          "name": "stdout",
          "output_type": "stream",
          "text": [
            "22\n"
          ]
        }
      ],
      "source": [
        "sum(12,10)\n"
      ],
      "id": "atmospheric-disorder"
    },
    {
      "cell_type": "code",
      "execution_count": null,
      "metadata": {
        "id": "binding-palestinian"
      },
      "outputs": [],
      "source": [
        "def sum(a,b):\n",
        "    return a+b \n"
      ],
      "id": "binding-palestinian"
    },
    {
      "cell_type": "code",
      "execution_count": null,
      "metadata": {
        "id": "lyric-guidance",
        "outputId": "79934d7a-a76b-48c5-99b2-cca7a2997dfb"
      },
      "outputs": [
        {
          "data": {
            "text/plain": [
              "25"
            ]
          },
          "execution_count": 59,
          "metadata": {},
          "output_type": "execute_result"
        }
      ],
      "source": [
        "sum(10,15)"
      ],
      "id": "lyric-guidance"
    },
    {
      "cell_type": "code",
      "execution_count": null,
      "metadata": {
        "id": "modified-webmaster",
        "outputId": "3792ac5e-d603-4071-ca0b-5ee3556f5711"
      },
      "outputs": [
        {
          "name": "stdout",
          "output_type": "stream",
          "text": [
            "Upto what the uer wants12\n",
            "2\n",
            "3\n",
            "4\n",
            "5\n",
            "6\n",
            "7\n",
            "8\n"
          ]
        }
      ],
      "source": [
        "max=int(input(\"Upto what the uer wants\"))\n",
        "\n",
        "for num in range(2,max+1):\n",
        "    if(num%i)==0:\n",
        "        break \n",
        "    else:\n",
        "        print(num) "
      ],
      "id": "modified-webmaster"
    },
    {
      "cell_type": "code",
      "execution_count": null,
      "metadata": {
        "id": "generous-grenada",
        "outputId": "d8053b74-f80e-4a6c-d9ca-90e3a196084a"
      },
      "outputs": [
        {
          "ename": "NameError",
          "evalue": "name 'c' is not defined",
          "output_type": "error",
          "traceback": [
            "\u001b[1;31m---------------------------------------------------------------------------\u001b[0m",
            "\u001b[1;31mNameError\u001b[0m                                 Traceback (most recent call last)",
            "\u001b[1;32m<ipython-input-61-23ac2705c303>\u001b[0m in \u001b[0;36m<module>\u001b[1;34m\u001b[0m\n\u001b[1;32m----> 1\u001b[1;33m \u001b[1;32mwhile\u001b[0m \u001b[0mc\u001b[0m \u001b[1;33m<\u001b[0m\u001b[0mn\u001b[0m\u001b[1;33m:\u001b[0m\u001b[1;33m\u001b[0m\u001b[1;33m\u001b[0m\u001b[0m\n\u001b[0m\u001b[0;32m      2\u001b[0m     \u001b[0mf\u001b[0m\u001b[1;33m=\u001b[0m\u001b[0mf1\u001b[0m\u001b[1;33m+\u001b[0m\u001b[0mf2\u001b[0m\u001b[1;33m\u001b[0m\u001b[1;33m\u001b[0m\u001b[0m\n\u001b[0;32m      3\u001b[0m     \u001b[0mf1\u001b[0m\u001b[1;33m=\u001b[0m\u001b[0mf2\u001b[0m\u001b[1;33m\u001b[0m\u001b[1;33m\u001b[0m\u001b[0m\n\u001b[0;32m      4\u001b[0m     \u001b[0mf2\u001b[0m\u001b[1;33m=\u001b[0m\u001b[0mf\u001b[0m\u001b[1;33m\u001b[0m\u001b[1;33m\u001b[0m\u001b[0m\n\u001b[0;32m      5\u001b[0m     \u001b[0mc\u001b[0m\u001b[1;33m+=\u001b[0m\u001b[1;36m1\u001b[0m\u001b[1;33m\u001b[0m\u001b[1;33m\u001b[0m\u001b[0m\n",
            "\u001b[1;31mNameError\u001b[0m: name 'c' is not defined"
          ]
        }
      ],
      "source": [
        "while c <n:\n",
        "    f=f1+f2 \n",
        "    f1=f2\n",
        "    f2=f \n",
        "    c+=1 "
      ],
      "id": "generous-grenada"
    },
    {
      "cell_type": "code",
      "execution_count": null,
      "metadata": {
        "id": "exact-birmingham"
      },
      "outputs": [],
      "source": [
        "Given a string, return a \"rotated left 2\" version where the first 2 chars are moved to the end.\n",
        " The string length will be at least 2.\n",
        "\n",
        "\n",
        "left2('Hello') → 'lloHe'\n",
        "left2('java') → 'vaja'\n",
        "left2('Hi') → 'Hi'"
      ],
      "id": "exact-birmingham"
    },
    {
      "cell_type": "code",
      "execution_count": null,
      "metadata": {
        "colab": {
          "base_uri": "https://localhost:8080/"
        },
        "id": "azrb-dceb4iZ",
        "outputId": "f169fe7c-606c-4599-c2db-8c689456d9ad"
      },
      "outputs": [
        {
          "name": "stdout",
          "output_type": "stream",
          "text": [
            "vaja\n"
          ]
        }
      ],
      "source": [
        "str1 = 'java'\n",
        "\n",
        "x = str1[0:2]\n",
        "y = str1[2:] \n",
        "\n",
        "str2=y+x\n",
        "print(str2) "
      ],
      "id": "azrb-dceb4iZ"
    },
    {
      "cell_type": "code",
      "execution_count": null,
      "metadata": {
        "colab": {
          "base_uri": "https://localhost:8080/",
          "height": 36
        },
        "id": "wr2n7i1CcI0i",
        "outputId": "14f66380-7577-479e-faf0-f1b54f4c8aee"
      },
      "outputs": [
        {
          "data": {
            "application/vnd.google.colaboratory.intrinsic+json": {
              "type": "string"
            },
            "text/plain": [
              "'lloHe'"
            ]
          },
          "execution_count": 10,
          "metadata": {},
          "output_type": "execute_result"
        }
      ],
      "source": [
        "y+x"
      ],
      "id": "wr2n7i1CcI0i"
    },
    {
      "cell_type": "code",
      "execution_count": null,
      "metadata": {
        "id": "BRirdVphcK4S"
      },
      "outputs": [],
      "source": [
        "l2 = [12,34,67,78,99]"
      ],
      "id": "BRirdVphcK4S"
    },
    {
      "cell_type": "code",
      "execution_count": null,
      "metadata": {
        "colab": {
          "base_uri": "https://localhost:8080/"
        },
        "id": "r8jK3-7oq7IS",
        "outputId": "8841d4f5-d208-4aea-c3af-f51a71a6160a"
      },
      "outputs": [
        {
          "name": "stdout",
          "output_type": "stream",
          "text": [
            "[12, 67, 99]\n"
          ]
        }
      ],
      "source": [
        "l3 = [] \n",
        "\n",
        "for i in range(len(l2)):\n",
        "  value = l2[i] \n",
        "  if i%2==0:\n",
        "    l3.append(value) \n",
        "\n",
        "print(l3) "
      ],
      "id": "r8jK3-7oq7IS"
    },
    {
      "cell_type": "code",
      "execution_count": null,
      "metadata": {
        "id": "q3zeZ-rGzwk5"
      },
      "outputs": [],
      "source": [],
      "id": "q3zeZ-rGzwk5"
    },
    {
      "cell_type": "code",
      "execution_count": null,
      "metadata": {
        "colab": {
          "base_uri": "https://localhost:8080/",
          "height": 235
        },
        "id": "c8jJ667azjrW",
        "outputId": "aeb54225-1634-45f9-a6ae-b9b9e7a08d6f"
      },
      "outputs": [
        {
          "ename": "TypeError",
          "evalue": "ignored",
          "output_type": "error",
          "traceback": [
            "\u001b[0;31m---------------------------------------------------------------------------\u001b[0m",
            "\u001b[0;31mTypeError\u001b[0m                                 Traceback (most recent call last)",
            "\u001b[0;32m<ipython-input-44-47a53920b182>\u001b[0m in \u001b[0;36m<module>\u001b[0;34m\u001b[0m\n\u001b[1;32m      3\u001b[0m   \u001b[0mvalue\u001b[0m \u001b[0;34m=\u001b[0m \u001b[0mstr1\u001b[0m\u001b[0;34m[\u001b[0m\u001b[0mi\u001b[0m\u001b[0;34m]\u001b[0m\u001b[0;34m\u001b[0m\u001b[0;34m\u001b[0m\u001b[0m\n\u001b[1;32m      4\u001b[0m   \u001b[0;32mif\u001b[0m \u001b[0mi\u001b[0m\u001b[0;34m%\u001b[0m\u001b[0;36m2\u001b[0m\u001b[0;34m==\u001b[0m\u001b[0;36m0\u001b[0m\u001b[0;34m:\u001b[0m\u001b[0;34m\u001b[0m\u001b[0;34m\u001b[0m\u001b[0m\n\u001b[0;32m----> 5\u001b[0;31m     \u001b[0mstr1\u001b[0m\u001b[0;34m[\u001b[0m\u001b[0mi\u001b[0m\u001b[0;34m]\u001b[0m\u001b[0;34m.\u001b[0m\u001b[0mreplace\u001b[0m\u001b[0;34m(\u001b[0m\u001b[0;34m'M'\u001b[0m\u001b[0;34m)\u001b[0m\u001b[0;34m\u001b[0m\u001b[0;34m\u001b[0m\u001b[0m\n\u001b[0m\u001b[1;32m      6\u001b[0m     \u001b[0mstr1\u001b[0m\u001b[0;34m.\u001b[0m\u001b[0mreplace\u001b[0m\u001b[0;34m(\u001b[0m\u001b[0;34m'M'\u001b[0m\u001b[0;34m,\u001b[0m\u001b[0;34m'R'\u001b[0m\u001b[0;34m)\u001b[0m\u001b[0;34m\u001b[0m\u001b[0;34m\u001b[0m\u001b[0m\n\u001b[1;32m      7\u001b[0m     \u001b[0mstr1\u001b[0m\u001b[0;34m.\u001b[0m\u001b[0mreplace\u001b[0m\u001b[0;34m(\u001b[0m\u001b[0;34m'A'\u001b[0m\u001b[0;34m,\u001b[0m\u001b[0;34m'G'\u001b[0m\u001b[0;34m)\u001b[0m\u001b[0;34m\u001b[0m\u001b[0;34m\u001b[0m\u001b[0m\n",
            "\u001b[0;31mTypeError\u001b[0m: replace() takes at least 2 arguments (1 given)"
          ]
        }
      ],
      "source": [
        "str1=\"RAMYAN\"\n",
        "for i in range(len(str1)):\n",
        "  value = str1[i] \n",
        "  if i%2==0:    \n",
        "    str1[i].replace(str1[i],'M') \n",
        "    str1.replace('M','R') \n",
        "    str1.replace('A','G')\n",
        "    print(str1[i]) \n",
        "\n"
      ],
      "id": "c8jJ667azjrW"
    },
    {
      "cell_type": "code",
      "execution_count": null,
      "metadata": {
        "colab": {
          "base_uri": "https://localhost:8080/"
        },
        "id": "3eCisiee_unW",
        "outputId": "ac06d17f-d619-4803-a087-ce82489fa851"
      },
      "outputs": [
        {
          "name": "stdout",
          "output_type": "stream",
          "text": [
            "Enter a number to check prime number = 20\n",
            "20  is a not prime number\n"
          ]
        }
      ],
      "source": [
        "# write a program to check prime or not \n",
        "\n",
        "num = int(input('Enter a number to check prime number = '))\n",
        "\n",
        "if num>1:\n",
        "\n",
        "  for i in range(2,num):\n",
        "    if num % i == 0:\n",
        "      print(num,' is a not prime number') \n",
        "      break \n",
        "  else:\n",
        "    print(num, 'is prime number')   \n",
        "    \n",
        "\n",
        "\n"
      ],
      "id": "3eCisiee_unW"
    },
    {
      "cell_type": "code",
      "execution_count": null,
      "metadata": {
        "colab": {
          "base_uri": "https://localhost:8080/"
        },
        "id": "4qQvyNZb_vTw",
        "outputId": "226ecd5e-9b4a-4aff-bb09-9574adb32028"
      },
      "outputs": [
        {
          "name": "stdout",
          "output_type": "stream",
          "text": [
            "[12, 34] [13, 51, 23, 47]\n"
          ]
        }
      ],
      "source": [
        "list2 = [12,13,34,51,23,47,80] \n",
        "even = []\n",
        "odd = []\n",
        "\n",
        "for i in list2:\n",
        "  if i %2 ==0:\n",
        "    even.append(i)\n",
        "  else:\n",
        "    odd.append(i)\n",
        "\n",
        "\n",
        "print(even,odd)"
      ],
      "id": "4qQvyNZb_vTw"
    },
    {
      "cell_type": "code",
      "execution_count": null,
      "metadata": {
        "colab": {
          "base_uri": "https://localhost:8080/"
        },
        "id": "CAZE9_BA_vXL",
        "outputId": "3de9e918-a2c0-42a0-8a8a-89a8ceac3f3e"
      },
      "outputs": [
        {
          "name": "stdout",
          "output_type": "stream",
          "text": [
            "0 12\n",
            "ram'\n",
            "1 13\n",
            "2 34\n",
            "shyam\n",
            "3 51\n",
            "4 23\n",
            "john\n",
            "5 47\n",
            "6 80\n",
            "mohan\n"
          ]
        },
        {
          "data": {
            "text/plain": [
              "[\"ram'\", 13, 'shyam', 51, 'john', 47, 'mohan']"
            ]
          },
          "execution_count": 22,
          "metadata": {},
          "output_type": "execute_result"
        }
      ],
      "source": [
        "list2 = [12,13,34,51,23,47,80] \n",
        "\n",
        "for i in range(len(list2)):\n",
        "  print(i,list2[i]) \n",
        "  if i % 2==0:\n",
        "    list2[i]= input()\n",
        "\n",
        "list2"
      ],
      "id": "CAZE9_BA_vXL"
    },
    {
      "cell_type": "code",
      "execution_count": null,
      "metadata": {
        "colab": {
          "base_uri": "https://localhost:8080/"
        },
        "id": "cWRMfdZ1_van",
        "outputId": "dc79c158-b82c-4f71-a821-a8382cd7876b"
      },
      "outputs": [
        {
          "name": "stdout",
          "output_type": "stream",
          "text": [
            "1 12\n",
            "2 13\n",
            "3 34\n",
            "4 51\n",
            "5 23\n",
            "6 47\n",
            "7 80\n"
          ]
        }
      ],
      "source": [
        "list2 = [12,13,34,51,23,47,80] \n",
        "\n",
        "for index,value in enumerate(list2,1):\n",
        "  print(index,value) \n"
      ],
      "id": "cWRMfdZ1_van"
    },
    {
      "cell_type": "code",
      "execution_count": null,
      "metadata": {
        "colab": {
          "base_uri": "https://localhost:8080/",
          "height": 36
        },
        "id": "308tF4weJSnR",
        "outputId": "d46dff8d-b5b7-4798-df82-0808829f6cd4"
      },
      "outputs": [
        {
          "data": {
            "application/vnd.google.colaboratory.intrinsic+json": {
              "type": "string"
            },
            "text/plain": [
              "'DAANANAD'"
            ]
          },
          "execution_count": 8,
          "metadata": {},
          "output_type": "execute_result"
        }
      ],
      "source": [
        "str1 = 'DHANANAD'\n",
        "str1.replace('H','A')"
      ],
      "id": "308tF4weJSnR"
    },
    {
      "cell_type": "code",
      "execution_count": null,
      "metadata": {
        "colab": {
          "base_uri": "https://localhost:8080/"
        },
        "id": "IINCVCgMJS2b",
        "outputId": "d332d319-3ad5-46e5-ce16-7e283f04dad1"
      },
      "outputs": [
        {
          "name": "stdout",
          "output_type": "stream",
          "text": [
            "1 H\n",
            "3 N\n",
            "5 N\n",
            "7 D\n",
            "DHANANAD\n"
          ]
        }
      ],
      "source": [
        "str1 = 'DHANANAD'\n",
        "for i,v in enumerate(str1):\n",
        "  if i % 2 != 0:\n",
        "    print(i,v)\n",
        "    str1.replace(v,'ram')\n",
        "\n",
        "print(str1)\n",
        "   "
      ],
      "id": "IINCVCgMJS2b"
    },
    {
      "cell_type": "code",
      "execution_count": null,
      "metadata": {
        "colab": {
          "base_uri": "https://localhost:8080/"
        },
        "id": "r3M_RcAgJS5w",
        "outputId": "2c3b2d34-428e-414a-ea8d-2bd556dc9ede"
      },
      "outputs": [
        {
          "name": "stdout",
          "output_type": "stream",
          "text": [
            "DHyNyNDy\n"
          ]
        }
      ],
      "source": [
        "str1='DHANANDA'\n",
        "for index,val in enumerate(str1):\n",
        "  if index % 2 != 0:\n",
        "    res=str1.replace(val,'y')\n",
        "print(res)\n"
      ],
      "id": "r3M_RcAgJS5w"
    },
    {
      "cell_type": "code",
      "execution_count": null,
      "metadata": {
        "id": "7G95Kib2JTDN"
      },
      "outputs": [],
      "source": [],
      "id": "7G95Kib2JTDN"
    },
    {
      "cell_type": "code",
      "execution_count": null,
      "metadata": {
        "id": "xVyADQZzFtWx"
      },
      "outputs": [],
      "source": [],
      "id": "xVyADQZzFtWx"
    },
    {
      "cell_type": "code",
      "execution_count": null,
      "metadata": {
        "id": "AeC0YPv_FtaI"
      },
      "outputs": [],
      "source": [],
      "id": "AeC0YPv_FtaI"
    },
    {
      "cell_type": "code",
      "execution_count": null,
      "metadata": {
        "colab": {
          "base_uri": "https://localhost:8080/",
          "height": 36
        },
        "id": "AjK-dI6u0Gxb",
        "outputId": "cb111930-c348-4799-c19f-66a42d41ae1a"
      },
      "outputs": [
        {
          "data": {
            "application/vnd.google.colaboratory.intrinsic+json": {
              "type": "string"
            },
            "text/plain": [
              "'RAMYAN'"
            ]
          },
          "execution_count": 39,
          "metadata": {},
          "output_type": "execute_result"
        }
      ],
      "source": [],
      "id": "AjK-dI6u0Gxb"
    },
    {
      "cell_type": "code",
      "execution_count": null,
      "metadata": {
        "colab": {
          "base_uri": "https://localhost:8080/"
        },
        "id": "0wWzmYqrq7LT",
        "outputId": "d8c81072-ad69-4c03-fb2d-de254a8abae6"
      },
      "outputs": [
        {
          "name": "stdout",
          "output_type": "stream",
          "text": [
            "R 0\n",
            "A 1\n",
            "M 2\n",
            "Y 3\n",
            "A 4\n",
            "N 5\n"
          ]
        }
      ],
      "source": [
        "str1=\"RAMYAN\"\n",
        "for index, i in enumerate(str1):\n",
        "  print(i, end=\" \")\n",
        "  print(index)\n",
        "\n",
        "#RMA\n",
        "#R - M\n",
        "#M- R\n",
        "#A - G\n",
        "# MARYGN"
      ],
      "id": "0wWzmYqrq7LT"
    },
    {
      "cell_type": "code",
      "execution_count": null,
      "metadata": {
        "id": "bM7mLhcxv9bE"
      },
      "outputs": [],
      "source": [],
      "id": "bM7mLhcxv9bE"
    },
    {
      "cell_type": "code",
      "execution_count": null,
      "metadata": {
        "id": "Su4mcsLhv9eh"
      },
      "outputs": [],
      "source": [],
      "id": "Su4mcsLhv9eh"
    },
    {
      "cell_type": "code",
      "execution_count": null,
      "metadata": {
        "id": "HLotsrUGv9nu"
      },
      "outputs": [],
      "source": [],
      "id": "HLotsrUGv9nu"
    },
    {
      "cell_type": "code",
      "execution_count": null,
      "metadata": {
        "colab": {
          "base_uri": "https://localhost:8080/"
        },
        "id": "GQkBYRrosmIK",
        "outputId": "4597b2d4-b574-4e5f-9e1e-ab9362ea76c2"
      },
      "outputs": [
        {
          "name": "stdout",
          "output_type": "stream",
          "text": [
            "R M A "
          ]
        }
      ],
      "source": [
        "str1=\"RAMYAN\"\n",
        "for index, i in enumerate(str1):\n",
        "  \n",
        "  if index%2 ==0:\n",
        "    print(i, end=\" \")\n"
      ],
      "id": "GQkBYRrosmIK"
    },
    {
      "cell_type": "code",
      "execution_count": null,
      "metadata": {
        "colab": {
          "base_uri": "https://localhost:8080/"
        },
        "id": "TCozFIDAssgF",
        "outputId": "24a71d32-bed9-48a1-c96f-a4a1654d9d5c"
      },
      "outputs": [
        {
          "name": "stdout",
          "output_type": "stream",
          "text": [
            "R M A ['R', 'M', 'A']\n"
          ]
        }
      ],
      "source": [
        "str1=\"RAMYAN\"\n",
        "l=[]\n",
        "for pos, i in enumerate(str1):\n",
        "  \n",
        "  if pos%2 ==0:\n",
        "    print(i, end=\" \")\n",
        "\n",
        "    l.append(i)\n",
        "print(l)\n"
      ],
      "id": "TCozFIDAssgF"
    },
    {
      "cell_type": "code",
      "execution_count": null,
      "metadata": {
        "id": "-h4qrsv_xgTt"
      },
      "outputs": [],
      "source": [
        "str1=\"RAMYAN\" "
      ],
      "id": "-h4qrsv_xgTt"
    },
    {
      "cell_type": "code",
      "execution_count": null,
      "metadata": {
        "colab": {
          "base_uri": "https://localhost:8080/",
          "height": 36
        },
        "id": "hJoqkXu3xjVf",
        "outputId": "1d7fa7bc-f067-4a49-b4c1-ce29c838491f"
      },
      "outputs": [
        {
          "data": {
            "application/vnd.google.colaboratory.intrinsic+json": {
              "type": "string"
            },
            "text/plain": [
              "'MAMYAN'"
            ]
          },
          "execution_count": 20,
          "metadata": {},
          "output_type": "execute_result"
        }
      ],
      "source": [
        "str1.replace('R','M')"
      ],
      "id": "hJoqkXu3xjVf"
    },
    {
      "cell_type": "code",
      "execution_count": null,
      "metadata": {
        "id": "E941BFYvxjcj"
      },
      "outputs": [],
      "source": [],
      "id": "E941BFYvxjcj"
    },
    {
      "cell_type": "code",
      "execution_count": null,
      "metadata": {
        "colab": {
          "base_uri": "https://localhost:8080/"
        },
        "id": "layH2sWBwCCi",
        "outputId": "0d6d083e-7ad0-4512-8e08-b5ccad604beb"
      },
      "outputs": [
        {
          "name": "stdout",
          "output_type": "stream",
          "text": [
            "0 R\n",
            "2 M\n",
            "4 A\n",
            "RAMYAN\n"
          ]
        }
      ],
      "source": [
        "from os import replace\n",
        "str1=\"RAMYAN\"\n",
        "for i, v in enumerate(str1):\n",
        "  if i%2 ==0:\n",
        "    print(i,v)\n",
        "    if i == 0:\n",
        "      str1.replace(v,'M')\n",
        "    elif v == 'M':\n",
        "      str1.replace(v,'R')  \n",
        "    elif v=='A':\n",
        "      str1.replace(v,'G') \n",
        "\n",
        "print(str1)\n",
        "\n",
        "#RMA\n",
        "#R - M\n",
        "#M- R\n",
        "#A - G\n",
        "# MARYGN    "
      ],
      "id": "layH2sWBwCCi"
    },
    {
      "cell_type": "code",
      "execution_count": null,
      "metadata": {
        "colab": {
          "base_uri": "https://localhost:8080/"
        },
        "id": "elkyNQEPwCFm",
        "outputId": "4f546703-d9f9-4329-dc0b-4e48d250fcd0"
      },
      "outputs": [
        {
          "data": {
            "text/plain": [
              "['R', 'M', 'A']"
            ]
          },
          "execution_count": 32,
          "metadata": {},
          "output_type": "execute_result"
        }
      ],
      "source": [
        "l2"
      ],
      "id": "elkyNQEPwCFm"
    },
    {
      "cell_type": "code",
      "execution_count": null,
      "metadata": {
        "id": "90q2144MwCIt"
      },
      "outputs": [],
      "source": [],
      "id": "90q2144MwCIt"
    },
    {
      "cell_type": "code",
      "execution_count": null,
      "metadata": {
        "colab": {
          "base_uri": "https://localhost:8080/"
        },
        "id": "QDgaAtEbssjX",
        "outputId": "8baf336d-629c-4a12-88f5-14391b7f3fe0"
      },
      "outputs": [
        {
          "name": "stdout",
          "output_type": "stream",
          "text": [
            "2 2\n",
            "3 5\n",
            "4 7.8\n",
            "5 ram\n",
            "6 john\n"
          ]
        }
      ],
      "source": [
        "l2 = [2,5,7.8,'ram','john']\n",
        "\n",
        "for i, v in enumerate(l2,start = 2):\n",
        "  print(i,v)"
      ],
      "id": "QDgaAtEbssjX"
    },
    {
      "cell_type": "code",
      "execution_count": null,
      "metadata": {
        "id": "9hl18_11ssmO"
      },
      "outputs": [],
      "source": [],
      "id": "9hl18_11ssmO"
    },
    {
      "cell_type": "code",
      "execution_count": null,
      "metadata": {
        "id": "zHTHq51ErJTj"
      },
      "outputs": [],
      "source": [
        "l2 = (12,34,66,78)"
      ],
      "id": "zHTHq51ErJTj"
    },
    {
      "cell_type": "code",
      "execution_count": null,
      "metadata": {
        "colab": {
          "base_uri": "https://localhost:8080/"
        },
        "id": "KlvmeWpPsrmm",
        "outputId": "b89caa39-688f-4f1e-f02c-f37d2aa6d91f"
      },
      "outputs": [
        {
          "name": "stdout",
          "output_type": "stream",
          "text": [
            "0\n",
            "1\n",
            "2\n",
            "3\n",
            "4\n",
            "5\n"
          ]
        }
      ],
      "source": [
        "# \n",
        "i = 0\n",
        "while True:\n",
        "  print(i)\n",
        "  i+=1 \n",
        "  if i > 5:\n",
        "    break\n",
        "\n"
      ],
      "id": "KlvmeWpPsrmm"
    },
    {
      "cell_type": "code",
      "execution_count": null,
      "metadata": {
        "id": "neRkLbyHsrpw"
      },
      "outputs": [],
      "source": [],
      "id": "neRkLbyHsrpw"
    },
    {
      "cell_type": "code",
      "execution_count": null,
      "metadata": {
        "id": "6wb7iO5zsruI"
      },
      "outputs": [],
      "source": [],
      "id": "6wb7iO5zsruI"
    },
    {
      "cell_type": "code",
      "execution_count": null,
      "metadata": {
        "id": "qrgC3Xdjsrxi"
      },
      "outputs": [],
      "source": [],
      "id": "qrgC3Xdjsrxi"
    },
    {
      "cell_type": "code",
      "execution_count": null,
      "metadata": {
        "id": "Ig4PcnIOsrz9"
      },
      "outputs": [],
      "source": [],
      "id": "Ig4PcnIOsrz9"
    },
    {
      "cell_type": "code",
      "execution_count": null,
      "metadata": {
        "colab": {
          "base_uri": "https://localhost:8080/"
        },
        "id": "xQ1R-B88q7N9",
        "outputId": "bf8bae19-2c55-4866-9bb3-dd504b497e52"
      },
      "outputs": [
        {
          "name": "stdout",
          "output_type": "stream",
          "text": [
            "0 12\n",
            "1 34\n",
            "2 66\n",
            "3 78\n"
          ]
        }
      ],
      "source": [
        "for i,v in enumerate(l2,start=0):\n",
        "  print(i,v) "
      ],
      "id": "xQ1R-B88q7N9"
    },
    {
      "cell_type": "code",
      "execution_count": null,
      "metadata": {
        "id": "xCe0SSX1rKJL"
      },
      "outputs": [],
      "source": [],
      "id": "xCe0SSX1rKJL"
    },
    {
      "cell_type": "code",
      "execution_count": null,
      "metadata": {
        "colab": {
          "base_uri": "https://localhost:8080/"
        },
        "id": "uj7lhx-Lsoad",
        "outputId": "cf7e9168-a4a2-492a-a76d-7b94a93f5a59"
      },
      "outputs": [
        {
          "name": "stdout",
          "output_type": "stream",
          "text": [
            "Enter a number =4\n",
            "24\n"
          ]
        }
      ],
      "source": [
        "n= int(input('Enter a number ='))\n",
        "\n",
        "m=1\n",
        "for i in range(1,n+1):\n",
        "  m *=i \n",
        "print(m)\n",
        "\n"
      ],
      "id": "uj7lhx-Lsoad"
    },
    {
      "cell_type": "code",
      "execution_count": null,
      "metadata": {
        "colab": {
          "base_uri": "https://localhost:8080/"
        },
        "id": "VL7YbNoztvnP",
        "outputId": "418f0ed5-5641-4df2-8ac9-1a0c10e3e53f"
      },
      "outputs": [
        {
          "name": "stdout",
          "output_type": "stream",
          "text": [
            "Holiday!!\n",
            "10000\n"
          ]
        }
      ],
      "source": [
        "weeklySalary = 0\n",
        "dayOfWeek = 1\n",
        "week = [\"Monday\", \"Tuesday\", \"Wednesday\", \"Thursday\", \"Friday\", \"Saturday\", \"Sunday\"]\n",
        "\n",
        "while(True):\n",
        "    if(week[dayOfWeek] == \"Sunday\"):\n",
        "        print(\"Holiday!!\")\n",
        "        break\n",
        "    weeklySalary += 2000\n",
        "    dayOfWeek += 1 \n",
        "print(str(weeklySalary))"
      ],
      "id": "VL7YbNoztvnP"
    },
    {
      "cell_type": "code",
      "execution_count": null,
      "metadata": {
        "id": "tBN9z4iyTmEE"
      },
      "outputs": [],
      "source": [],
      "id": "tBN9z4iyTmEE"
    },
    {
      "cell_type": "code",
      "source": [],
      "metadata": {
        "id": "UotEOxdl2voK"
      },
      "id": "UotEOxdl2voK",
      "execution_count": null,
      "outputs": []
    },
    {
      "cell_type": "code",
      "source": [],
      "metadata": {
        "id": "jnMzXvSI2vws"
      },
      "id": "jnMzXvSI2vws",
      "execution_count": null,
      "outputs": []
    },
    {
      "cell_type": "code",
      "source": [],
      "metadata": {
        "id": "RF9PbY_h2v20"
      },
      "id": "RF9PbY_h2v20",
      "execution_count": null,
      "outputs": []
    },
    {
      "cell_type": "code",
      "source": [],
      "metadata": {
        "id": "nVYV-ogE2v9K"
      },
      "id": "nVYV-ogE2v9K",
      "execution_count": null,
      "outputs": []
    },
    {
      "cell_type": "code",
      "source": [],
      "metadata": {
        "id": "upVFW1k52wD1"
      },
      "id": "upVFW1k52wD1",
      "execution_count": null,
      "outputs": []
    },
    {
      "cell_type": "code",
      "source": [
        "# List Comprehension & Dict comprehension \n",
        "\n"
      ],
      "metadata": {
        "id": "c4N3IvvF2wLd"
      },
      "id": "c4N3IvvF2wLd",
      "execution_count": null,
      "outputs": []
    },
    {
      "cell_type": "code",
      "source": [
        "\n",
        "l1 = []\n",
        "\n",
        "for i in range(1,11):\n",
        "  l1.append(i) \n",
        "\n",
        "l1  "
      ],
      "metadata": {
        "colab": {
          "base_uri": "https://localhost:8080/"
        },
        "id": "IqK0tEJaWoEa",
        "outputId": "86e8db90-af28-4989-ffbb-54ab488b413a"
      },
      "id": "IqK0tEJaWoEa",
      "execution_count": null,
      "outputs": [
        {
          "output_type": "execute_result",
          "data": {
            "text/plain": [
              "[1, 2, 3, 4, 5, 6, 7, 8, 9, 10]"
            ]
          },
          "metadata": {},
          "execution_count": 1
        }
      ]
    },
    {
      "cell_type": "code",
      "source": [
        "l2 =[i**2 for i in range(1,11)]"
      ],
      "metadata": {
        "id": "4eXP2NITWoR7"
      },
      "id": "4eXP2NITWoR7",
      "execution_count": null,
      "outputs": []
    },
    {
      "cell_type": "code",
      "source": [
        "l2"
      ],
      "metadata": {
        "colab": {
          "base_uri": "https://localhost:8080/"
        },
        "id": "q0h1VvGvWocM",
        "outputId": "328433a4-4702-46fd-a25b-61594978e7e1"
      },
      "id": "q0h1VvGvWocM",
      "execution_count": null,
      "outputs": [
        {
          "output_type": "execute_result",
          "data": {
            "text/plain": [
              "[1, 4, 9, 16, 25, 36, 49, 64, 81, 100]"
            ]
          },
          "metadata": {},
          "execution_count": 5
        }
      ]
    },
    {
      "cell_type": "code",
      "source": [
        "list1 =[22,33,66,78,12,88,34,12,99,199,23] \n",
        "\n",
        "list2 = [i for i in list1 if i %2 == 0]"
      ],
      "metadata": {
        "id": "839ctgYPW6V-"
      },
      "id": "839ctgYPW6V-",
      "execution_count": null,
      "outputs": []
    },
    {
      "cell_type": "code",
      "source": [
        "list2"
      ],
      "metadata": {
        "colab": {
          "base_uri": "https://localhost:8080/"
        },
        "id": "0ztATT7XWorw",
        "outputId": "f22a60e2-0b78-4d62-de12-8644719012fe"
      },
      "id": "0ztATT7XWorw",
      "execution_count": null,
      "outputs": [
        {
          "output_type": "execute_result",
          "data": {
            "text/plain": [
              "[22, 66, 78, 12, 88, 34, 12]"
            ]
          },
          "metadata": {},
          "execution_count": 10
        }
      ]
    },
    {
      "cell_type": "code",
      "source": [
        "list1 =(22,33,66,78,12,88,34,12,99,199,23)\n",
        "\n",
        "list2 = [i**2 for i in list1] "
      ],
      "metadata": {
        "id": "jLaxbNBs2wUu"
      },
      "id": "jLaxbNBs2wUu",
      "execution_count": null,
      "outputs": []
    },
    {
      "cell_type": "code",
      "source": [
        "list2"
      ],
      "metadata": {
        "id": "o_1epAJc2wbs",
        "colab": {
          "base_uri": "https://localhost:8080/"
        },
        "outputId": "d86a0234-380d-42ec-a8e7-829abab2525a"
      },
      "id": "o_1epAJc2wbs",
      "execution_count": null,
      "outputs": [
        {
          "output_type": "execute_result",
          "data": {
            "text/plain": [
              "[484, 1089, 4356, 6084, 144, 7744, 1156, 144, 9801, 39601, 529]"
            ]
          },
          "metadata": {},
          "execution_count": 14
        }
      ]
    },
    {
      "cell_type": "code",
      "execution_count": null,
      "metadata": {
        "id": "iCBuzysRTmf6"
      },
      "outputs": [],
      "source": [
        "# [(1,1),(2,4),(3,9)--------] \n",
        "\n",
        "df1 = [(i,i**2) for i in range(2,11,2)] "
      ],
      "id": "iCBuzysRTmf6"
    },
    {
      "cell_type": "code",
      "source": [
        "df1"
      ],
      "metadata": {
        "colab": {
          "base_uri": "https://localhost:8080/"
        },
        "id": "qB-7bv6tZAlE",
        "outputId": "a0162972-7b37-4d4a-f3fc-330bcc3dc6ed"
      },
      "id": "qB-7bv6tZAlE",
      "execution_count": null,
      "outputs": [
        {
          "output_type": "execute_result",
          "data": {
            "text/plain": [
              "[(2, 4), (4, 16), (6, 36), (8, 64), (10, 100)]"
            ]
          },
          "metadata": {},
          "execution_count": 19
        }
      ]
    },
    {
      "cell_type": "code",
      "source": [
        "list2"
      ],
      "metadata": {
        "colab": {
          "base_uri": "https://localhost:8080/"
        },
        "id": "KTqu0rE2ZCtq",
        "outputId": "8335a359-e995-4d79-d6cf-dd1695f23848"
      },
      "id": "KTqu0rE2ZCtq",
      "execution_count": null,
      "outputs": [
        {
          "output_type": "execute_result",
          "data": {
            "text/plain": [
              "[484, 1089, 4356, 6084, 144, 7744, 1156, 144, 9801, 39601, 529]"
            ]
          },
          "metadata": {},
          "execution_count": 20
        }
      ]
    },
    {
      "cell_type": "code",
      "source": [
        "from math import *"
      ],
      "metadata": {
        "id": "cFIUjw5PZi2W"
      },
      "id": "cFIUjw5PZi2W",
      "execution_count": null,
      "outputs": []
    },
    {
      "cell_type": "code",
      "source": [
        "df1 = 25"
      ],
      "metadata": {
        "id": "2ACposzLZwGM"
      },
      "id": "2ACposzLZwGM",
      "execution_count": null,
      "outputs": []
    },
    {
      "cell_type": "code",
      "source": [
        "sqrt(df1)"
      ],
      "metadata": {
        "colab": {
          "base_uri": "https://localhost:8080/"
        },
        "id": "1Wv8HB9qZxUS",
        "outputId": "a5ddce01-1f0d-4cbe-ff94-9be77ba55bae"
      },
      "id": "1Wv8HB9qZxUS",
      "execution_count": null,
      "outputs": [
        {
          "output_type": "execute_result",
          "data": {
            "text/plain": [
              "5.0"
            ]
          },
          "metadata": {},
          "execution_count": 23
        }
      ]
    },
    {
      "cell_type": "code",
      "source": [
        "df2 = [sqrt(i) for i in list2 if i % 2 == 0 ]"
      ],
      "metadata": {
        "id": "lm5COF1jZyw3"
      },
      "id": "lm5COF1jZyw3",
      "execution_count": null,
      "outputs": []
    },
    {
      "cell_type": "code",
      "source": [
        "df2"
      ],
      "metadata": {
        "colab": {
          "base_uri": "https://localhost:8080/"
        },
        "id": "yh5o4IFyadwb",
        "outputId": "15dbdef3-eb34-4041-ccb5-574e85e11f26"
      },
      "id": "yh5o4IFyadwb",
      "execution_count": null,
      "outputs": [
        {
          "output_type": "execute_result",
          "data": {
            "text/plain": [
              "[22.0, 66.0, 78.0, 12.0, 88.0, 34.0, 12.0]"
            ]
          },
          "metadata": {},
          "execution_count": 25
        }
      ]
    },
    {
      "cell_type": "code",
      "source": [
        "list2 = ['Alla','john','Mohan','Shyam','Ayush','CKU','PK'] "
      ],
      "metadata": {
        "id": "t2n_Erv3aeMZ"
      },
      "id": "t2n_Erv3aeMZ",
      "execution_count": null,
      "outputs": []
    },
    {
      "cell_type": "code",
      "source": [
        "df3 = ['Mr ' + i for i in list2 if len(i)>=4]"
      ],
      "metadata": {
        "id": "FrJPIltxatOY"
      },
      "id": "FrJPIltxatOY",
      "execution_count": null,
      "outputs": []
    },
    {
      "cell_type": "code",
      "source": [
        "df3"
      ],
      "metadata": {
        "colab": {
          "base_uri": "https://localhost:8080/"
        },
        "id": "GBnHTWYhbsNW",
        "outputId": "c2c2c1f0-7658-4415-b0f2-d4b479112ea3"
      },
      "id": "GBnHTWYhbsNW",
      "execution_count": null,
      "outputs": [
        {
          "output_type": "execute_result",
          "data": {
            "text/plain": [
              "['Mr Alla', 'Mr john', 'Mr Mohan', 'Mr Shyam', 'Mr Ayush']"
            ]
          },
          "metadata": {},
          "execution_count": 30
        }
      ]
    },
    {
      "cell_type": "code",
      "source": [
        "df3 = ['Mr ' + i for i in list2 if i.count('a')>0] "
      ],
      "metadata": {
        "id": "4rP-RNMTbs8N"
      },
      "id": "4rP-RNMTbs8N",
      "execution_count": null,
      "outputs": []
    },
    {
      "cell_type": "code",
      "source": [
        "df3"
      ],
      "metadata": {
        "colab": {
          "base_uri": "https://localhost:8080/"
        },
        "id": "nqTjCM_zb50J",
        "outputId": "18a6de56-03b6-4b38-b4e0-16cfad57be27"
      },
      "id": "nqTjCM_zb50J",
      "execution_count": null,
      "outputs": [
        {
          "output_type": "execute_result",
          "data": {
            "text/plain": [
              "['Mr Alla', 'Mr Mohan', 'Mr Shyam']"
            ]
          },
          "metadata": {},
          "execution_count": 32
        }
      ]
    },
    {
      "cell_type": "code",
      "source": [
        "# Dictionary comprehension \n",
        "# 1:1, 2:4,3:9,4:16"
      ],
      "metadata": {
        "id": "uIG019BHb6qQ"
      },
      "id": "uIG019BHb6qQ",
      "execution_count": null,
      "outputs": []
    },
    {
      "cell_type": "code",
      "source": [
        "dict1 = {i:i**2 for i in range(1,11)} "
      ],
      "metadata": {
        "id": "ADUoG5dCcNSJ"
      },
      "id": "ADUoG5dCcNSJ",
      "execution_count": null,
      "outputs": []
    },
    {
      "cell_type": "code",
      "source": [
        "dict1"
      ],
      "metadata": {
        "colab": {
          "base_uri": "https://localhost:8080/"
        },
        "id": "ooqSf1rRcNvn",
        "outputId": "5ea88399-17f7-44d0-cc7a-51f6969559c8"
      },
      "id": "ooqSf1rRcNvn",
      "execution_count": null,
      "outputs": [
        {
          "output_type": "execute_result",
          "data": {
            "text/plain": [
              "{1: 1, 2: 4, 3: 9, 4: 16, 5: 25, 6: 36, 7: 49, 8: 64, 9: 81, 10: 100}"
            ]
          },
          "metadata": {},
          "execution_count": 34
        }
      ]
    },
    {
      "cell_type": "code",
      "source": [
        "list2 = [33,12,16,25,49,12,66,34]  \n",
        "\n",
        "df3 = {i:i**2 for i in list2 if i%2 == 0}"
      ],
      "metadata": {
        "id": "4Sx8e71RccO-"
      },
      "id": "4Sx8e71RccO-",
      "execution_count": null,
      "outputs": []
    },
    {
      "cell_type": "code",
      "source": [
        "df3"
      ],
      "metadata": {
        "colab": {
          "base_uri": "https://localhost:8080/"
        },
        "id": "szGKPzP3d7EZ",
        "outputId": "67bc5754-0261-43d5-d2db-688af6ab40bf"
      },
      "id": "szGKPzP3d7EZ",
      "execution_count": null,
      "outputs": [
        {
          "output_type": "execute_result",
          "data": {
            "text/plain": [
              "{12: 144, 16: 256, 66: 4356, 34: 1156}"
            ]
          },
          "metadata": {},
          "execution_count": 37
        }
      ]
    },
    {
      "cell_type": "code",
      "source": [
        "emp_id = [1011,1012,1013,1014,1015] \n",
        "emp_name = ['john','Mohan','Smith','Alka','Chandra'] \n",
        "\n",
        "dict2 = {key:value  for (key,value) in zip(emp_id,emp_name)}"
      ],
      "metadata": {
        "id": "5IS01bzoeAAC"
      },
      "id": "5IS01bzoeAAC",
      "execution_count": null,
      "outputs": []
    },
    {
      "cell_type": "code",
      "source": [
        "dict2"
      ],
      "metadata": {
        "colab": {
          "base_uri": "https://localhost:8080/"
        },
        "id": "qvoQPvj5eqe6",
        "outputId": "77aa1d45-0be5-4cb8-f329-7b97f929b1c8"
      },
      "id": "qvoQPvj5eqe6",
      "execution_count": null,
      "outputs": [
        {
          "output_type": "execute_result",
          "data": {
            "text/plain": [
              "{1011: 'john', 1012: 'Mohan', 1013: 'Smith', 1014: 'Alka', 1015: 'Chandra'}"
            ]
          },
          "metadata": {},
          "execution_count": 45
        }
      ]
    },
    {
      "cell_type": "code",
      "source": [
        "list1 =[2,3,4,5,6,7,8,9] \n",
        "\n",
        "df4 = { i:(True if i %2 == 0 else False) for i in list1}  "
      ],
      "metadata": {
        "id": "KeGwXV-VfZam"
      },
      "id": "KeGwXV-VfZam",
      "execution_count": null,
      "outputs": []
    },
    {
      "cell_type": "code",
      "source": [
        "df4"
      ],
      "metadata": {
        "colab": {
          "base_uri": "https://localhost:8080/"
        },
        "id": "NaHReq-Gg9Vc",
        "outputId": "894d3de6-15b6-4200-8ea5-e03b8c4d4a6a"
      },
      "id": "NaHReq-Gg9Vc",
      "execution_count": null,
      "outputs": [
        {
          "output_type": "execute_result",
          "data": {
            "text/plain": [
              "{2: True, 3: False, 4: True, 5: False, 6: True, 7: False, 8: True, 9: False}"
            ]
          },
          "metadata": {},
          "execution_count": 57
        }
      ]
    },
    {
      "cell_type": "code",
      "source": [],
      "metadata": {
        "id": "AIRFP2uKg98K"
      },
      "id": "AIRFP2uKg98K",
      "execution_count": null,
      "outputs": []
    },
    {
      "cell_type": "code",
      "source": [],
      "metadata": {
        "id": "zxd66m5D0R6G"
      },
      "id": "zxd66m5D0R6G",
      "execution_count": null,
      "outputs": []
    },
    {
      "cell_type": "code",
      "source": [
        "list1 = [23,75,12,55,88,90] \n",
        "\n",
        "for n1,n2 in enumerate(list1,start  = 1):\n",
        "  print(n1,n2)"
      ],
      "metadata": {
        "colab": {
          "base_uri": "https://localhost:8080/"
        },
        "id": "gJeJp0sy0SGG",
        "outputId": "819aed57-01f7-4518-9e6a-db52c5c27169"
      },
      "id": "gJeJp0sy0SGG",
      "execution_count": 3,
      "outputs": [
        {
          "output_type": "stream",
          "name": "stdout",
          "text": [
            "1 23\n",
            "2 75\n",
            "3 12\n",
            "4 55\n",
            "5 88\n",
            "6 90\n"
          ]
        }
      ]
    },
    {
      "cell_type": "code",
      "source": [
        "# list comprehension \n",
        "\n",
        "l2 =[]\n",
        "\n",
        "for i in range(1,11):\n",
        "  l2.append(i**2)\n",
        "\n",
        "l2  "
      ],
      "metadata": {
        "colab": {
          "base_uri": "https://localhost:8080/"
        },
        "id": "dlvhK0cn0SlV",
        "outputId": "d8fc1d2c-30ed-45da-dc2c-5efb7a2f1a50"
      },
      "id": "dlvhK0cn0SlV",
      "execution_count": 8,
      "outputs": [
        {
          "output_type": "execute_result",
          "data": {
            "text/plain": [
              "[1, 4, 9, 16, 25, 36, 49, 64, 81, 100]"
            ]
          },
          "metadata": {},
          "execution_count": 8
        }
      ]
    },
    {
      "cell_type": "code",
      "source": [
        "l3 = [i**2 for i in range(1,11)]\n",
        "l3\n"
      ],
      "metadata": {
        "colab": {
          "base_uri": "https://localhost:8080/"
        },
        "id": "zNRFxjfz0TLd",
        "outputId": "16460bc7-b9f4-413b-847f-6abe8b44870f"
      },
      "id": "zNRFxjfz0TLd",
      "execution_count": 10,
      "outputs": [
        {
          "output_type": "execute_result",
          "data": {
            "text/plain": [
              "[1, 4, 9, 16, 25, 36, 49, 64, 81, 100]"
            ]
          },
          "metadata": {},
          "execution_count": 10
        }
      ]
    },
    {
      "cell_type": "code",
      "source": [
        "list2 = [16,36,81,64,256,121]\n",
        "\n",
        "l4=[i for i in list2 if i % 2 == 0]\n"
      ],
      "metadata": {
        "id": "yYZM8ijn1cpm"
      },
      "id": "yYZM8ijn1cpm",
      "execution_count": 17,
      "outputs": []
    },
    {
      "cell_type": "code",
      "source": [
        "list3 = [i**0.5 for i in list2]"
      ],
      "metadata": {
        "id": "sefJw7b72pL4"
      },
      "id": "sefJw7b72pL4",
      "execution_count": 18,
      "outputs": []
    },
    {
      "cell_type": "code",
      "source": [
        "list3 = [sqrt(i) for i in list2]"
      ],
      "metadata": {
        "id": "DJtTaXEs3Lhc"
      },
      "id": "DJtTaXEs3Lhc",
      "execution_count": 21,
      "outputs": []
    },
    {
      "cell_type": "code",
      "source": [
        "list3"
      ],
      "metadata": {
        "colab": {
          "base_uri": "https://localhost:8080/"
        },
        "id": "j7UsJ4Vc2pYE",
        "outputId": "3c49e212-795f-497c-b0cf-c25ec620f688"
      },
      "id": "j7UsJ4Vc2pYE",
      "execution_count": 22,
      "outputs": [
        {
          "output_type": "execute_result",
          "data": {
            "text/plain": [
              "[4.0, 6.0, 9.0, 8.0, 16.0, 11.0]"
            ]
          },
          "metadata": {},
          "execution_count": 22
        }
      ]
    },
    {
      "cell_type": "code",
      "source": [
        "from math import * \n",
        "sqrt(81)"
      ],
      "metadata": {
        "colab": {
          "base_uri": "https://localhost:8080/"
        },
        "id": "HptwbUo62prn",
        "outputId": "72071ae4-5692-4316-8725-9e77778781f0"
      },
      "id": "HptwbUo62prn",
      "execution_count": 20,
      "outputs": [
        {
          "output_type": "execute_result",
          "data": {
            "text/plain": [
              "9.0"
            ]
          },
          "metadata": {},
          "execution_count": 20
        }
      ]
    },
    {
      "cell_type": "code",
      "source": [
        "df1 =['Ram','Mohan','Shyam','Krishna','cku','pk','ck']"
      ],
      "metadata": {
        "id": "UodnyUr83DAZ"
      },
      "id": "UodnyUr83DAZ",
      "execution_count": 23,
      "outputs": []
    },
    {
      "cell_type": "code",
      "source": [
        "df1"
      ],
      "metadata": {
        "colab": {
          "base_uri": "https://localhost:8080/"
        },
        "id": "u3LcYUEx3V63",
        "outputId": "82bbc36f-6ba3-4a5a-c97d-29e53111d23e"
      },
      "id": "u3LcYUEx3V63",
      "execution_count": 24,
      "outputs": [
        {
          "output_type": "execute_result",
          "data": {
            "text/plain": [
              "['Ram', 'Mohan', 'Shyam', 'Krishna', 'cku', 'pk', 'ck']"
            ]
          },
          "metadata": {},
          "execution_count": 24
        }
      ]
    },
    {
      "cell_type": "code",
      "source": [
        "df2 = [i for i in df1 if len(i)>=4 ]  "
      ],
      "metadata": {
        "id": "0Wky_NMn3WIU"
      },
      "id": "0Wky_NMn3WIU",
      "execution_count": 25,
      "outputs": []
    },
    {
      "cell_type": "code",
      "source": [
        "df2"
      ],
      "metadata": {
        "colab": {
          "base_uri": "https://localhost:8080/"
        },
        "id": "ZF1guG204M4r",
        "outputId": "a428b4af-6390-44c0-a34d-f4088a6b55d7"
      },
      "id": "ZF1guG204M4r",
      "execution_count": 26,
      "outputs": [
        {
          "output_type": "execute_result",
          "data": {
            "text/plain": [
              "['Mohan', 'Shyam', 'Krishna']"
            ]
          },
          "metadata": {},
          "execution_count": 26
        }
      ]
    },
    {
      "cell_type": "code",
      "source": [
        "df2 = [i for i in df1 if i.count('a')>0]  "
      ],
      "metadata": {
        "id": "uisOSiDX4NIr"
      },
      "id": "uisOSiDX4NIr",
      "execution_count": 27,
      "outputs": []
    },
    {
      "cell_type": "code",
      "source": [
        "df2"
      ],
      "metadata": {
        "colab": {
          "base_uri": "https://localhost:8080/"
        },
        "id": "1_9vW9mU3WaD",
        "outputId": "1efd5ce5-9061-4ad6-9515-00281b1a1e5d"
      },
      "id": "1_9vW9mU3WaD",
      "execution_count": 28,
      "outputs": [
        {
          "output_type": "execute_result",
          "data": {
            "text/plain": [
              "['Ram', 'Mohan', 'Shyam', 'Krishna']"
            ]
          },
          "metadata": {},
          "execution_count": 28
        }
      ]
    },
    {
      "cell_type": "code",
      "source": [
        "# W.A.P to take multiple input at a time .\n",
        "df = [int(i) for i in input('Dear user  Enter two Number:- ').split(',')]"
      ],
      "metadata": {
        "colab": {
          "base_uri": "https://localhost:8080/"
        },
        "id": "Y5wFqwBa4uIJ",
        "outputId": "a1a696ef-456a-49e9-dcfb-177708a0d2b4"
      },
      "id": "Y5wFqwBa4uIJ",
      "execution_count": 31,
      "outputs": [
        {
          "name": "stdout",
          "output_type": "stream",
          "text": [
            "Dear user  Enter two Number:- 12,34,55,77\n"
          ]
        }
      ]
    },
    {
      "cell_type": "code",
      "source": [
        "df"
      ],
      "metadata": {
        "colab": {
          "base_uri": "https://localhost:8080/"
        },
        "id": "LeVRuqRg5QPF",
        "outputId": "5aac3d4b-8a32-4569-b0ce-e3cf30faf48c"
      },
      "id": "LeVRuqRg5QPF",
      "execution_count": 32,
      "outputs": [
        {
          "output_type": "execute_result",
          "data": {
            "text/plain": [
              "[12, 34, 55, 77]"
            ]
          },
          "metadata": {},
          "execution_count": 32
        }
      ]
    },
    {
      "cell_type": "code",
      "source": [
        "x,y = [int(i) for i in input('Enter two number: - ').split(\" \")]"
      ],
      "metadata": {
        "colab": {
          "base_uri": "https://localhost:8080/"
        },
        "id": "lryJk5yy5QeZ",
        "outputId": "828f3392-d0fa-4122-86ca-15105c88b74e"
      },
      "id": "lryJk5yy5QeZ",
      "execution_count": 37,
      "outputs": [
        {
          "name": "stdout",
          "output_type": "stream",
          "text": [
            "Enter two number: - 44 78\n"
          ]
        }
      ]
    },
    {
      "cell_type": "code",
      "source": [
        "x"
      ],
      "metadata": {
        "colab": {
          "base_uri": "https://localhost:8080/"
        },
        "id": "LuFwLnnl4ugV",
        "outputId": "8a8cbb2d-a0e2-4fcc-a429-32b245389b7d"
      },
      "id": "LuFwLnnl4ugV",
      "execution_count": 38,
      "outputs": [
        {
          "output_type": "execute_result",
          "data": {
            "text/plain": [
              "44"
            ]
          },
          "metadata": {},
          "execution_count": 38
        }
      ]
    },
    {
      "cell_type": "code",
      "source": [
        "y"
      ],
      "metadata": {
        "colab": {
          "base_uri": "https://localhost:8080/"
        },
        "id": "e6RGb1jn4u3k",
        "outputId": "b565e9dc-813b-43f6-9c92-e70c5ff7c8ac"
      },
      "id": "e6RGb1jn4u3k",
      "execution_count": 39,
      "outputs": [
        {
          "output_type": "execute_result",
          "data": {
            "text/plain": [
              "78"
            ]
          },
          "metadata": {},
          "execution_count": 39
        }
      ]
    },
    {
      "cell_type": "code",
      "source": [
        "# Dictionary Comprehension :--- \n",
        "\n",
        "l1 = [12,13,14] \n",
        "\n",
        "l2=['ram','mohan','sohan']\n",
        "\n",
        "df = zip(l1,l2)\n"
      ],
      "metadata": {
        "id": "NOzm9P7d2IpM"
      },
      "id": "NOzm9P7d2IpM",
      "execution_count": 41,
      "outputs": []
    },
    {
      "cell_type": "code",
      "source": [
        "df"
      ],
      "metadata": {
        "colab": {
          "base_uri": "https://localhost:8080/"
        },
        "id": "YXGCja4M8I0s",
        "outputId": "65872196-f847-441f-a8b9-cc64288cfbef"
      },
      "id": "YXGCja4M8I0s",
      "execution_count": 42,
      "outputs": [
        {
          "output_type": "execute_result",
          "data": {
            "text/plain": [
              "<zip at 0x7fb5ee90eb80>"
            ]
          },
          "metadata": {},
          "execution_count": 42
        }
      ]
    },
    {
      "cell_type": "code",
      "source": [
        "df ={i:i**2 for i in range(1,11)}"
      ],
      "metadata": {
        "id": "zG3kLcuO8L3P"
      },
      "id": "zG3kLcuO8L3P",
      "execution_count": 43,
      "outputs": []
    },
    {
      "cell_type": "code",
      "source": [
        "df"
      ],
      "metadata": {
        "colab": {
          "base_uri": "https://localhost:8080/"
        },
        "id": "C8TSbJZy8PgN",
        "outputId": "0dad6038-d02d-4548-b436-c5cf75c521c2"
      },
      "id": "C8TSbJZy8PgN",
      "execution_count": 44,
      "outputs": [
        {
          "output_type": "execute_result",
          "data": {
            "text/plain": [
              "{1: 1, 2: 4, 3: 9, 4: 16, 5: 25, 6: 36, 7: 49, 8: 64, 9: 81, 10: 100}"
            ]
          },
          "metadata": {},
          "execution_count": 44
        }
      ]
    },
    {
      "cell_type": "code",
      "source": [
        "emp_id = [1011,1012,1013,1014,1015]\n",
        "emp_name = ['john','mohan','Sohan','Shyam','Dipanshu'] "
      ],
      "metadata": {
        "id": "RMBFOQyq8Pww"
      },
      "id": "RMBFOQyq8Pww",
      "execution_count": 45,
      "outputs": []
    },
    {
      "cell_type": "code",
      "source": [
        "df4 = {k:v for k,v in zip(emp_id,emp_name)}"
      ],
      "metadata": {
        "id": "2LCiX53-9H5I"
      },
      "id": "2LCiX53-9H5I",
      "execution_count": 46,
      "outputs": []
    },
    {
      "cell_type": "code",
      "source": [
        "df4"
      ],
      "metadata": {
        "colab": {
          "base_uri": "https://localhost:8080/"
        },
        "id": "Y-W8Stky9a0W",
        "outputId": "638df382-4ce7-4024-9b2e-25720266201d"
      },
      "id": "Y-W8Stky9a0W",
      "execution_count": 47,
      "outputs": [
        {
          "output_type": "execute_result",
          "data": {
            "text/plain": [
              "{1011: 'john', 1012: 'mohan', 1013: 'Sohan', 1014: 'Shyam', 1015: 'Dipanshu'}"
            ]
          },
          "metadata": {},
          "execution_count": 47
        }
      ]
    },
    {
      "cell_type": "code",
      "source": [
        "df = {i:True for i in range(10,21) if i %2 == 0 }"
      ],
      "metadata": {
        "id": "0puNmcN99btP"
      },
      "id": "0puNmcN99btP",
      "execution_count": 48,
      "outputs": []
    },
    {
      "cell_type": "code",
      "source": [
        "df"
      ],
      "metadata": {
        "colab": {
          "base_uri": "https://localhost:8080/"
        },
        "id": "_Vuwp27b_fzc",
        "outputId": "ae557885-4bd0-4ad3-dc9f-8e5208da258b"
      },
      "id": "_Vuwp27b_fzc",
      "execution_count": 49,
      "outputs": [
        {
          "output_type": "execute_result",
          "data": {
            "text/plain": [
              "{10: True, 12: True, 14: True, 16: True, 18: True, 20: True}"
            ]
          },
          "metadata": {},
          "execution_count": 49
        }
      ]
    },
    {
      "cell_type": "code",
      "source": [
        "df = {i:(True if i % 2 == 0 else False) for i in range(10,21)} "
      ],
      "metadata": {
        "id": "OJa_w9M0_gfZ"
      },
      "id": "OJa_w9M0_gfZ",
      "execution_count": 50,
      "outputs": []
    },
    {
      "cell_type": "code",
      "source": [
        "df"
      ],
      "metadata": {
        "colab": {
          "base_uri": "https://localhost:8080/"
        },
        "id": "iru6CyA7_xP-",
        "outputId": "8f5dc9cc-422e-42cc-9fbe-170894d655c0"
      },
      "id": "iru6CyA7_xP-",
      "execution_count": 51,
      "outputs": [
        {
          "output_type": "execute_result",
          "data": {
            "text/plain": [
              "{10: True,\n",
              " 11: False,\n",
              " 12: True,\n",
              " 13: False,\n",
              " 14: True,\n",
              " 15: False,\n",
              " 16: True,\n",
              " 17: False,\n",
              " 18: True,\n",
              " 19: False,\n",
              " 20: True}"
            ]
          },
          "metadata": {},
          "execution_count": 51
        }
      ]
    },
    {
      "cell_type": "code",
      "source": [
        "fh = [['jj',89],['kk',88],['mm',98],['tt',88]]"
      ],
      "metadata": {
        "id": "9QsdHkhh_x5g"
      },
      "id": "9QsdHkhh_x5g",
      "execution_count": null,
      "outputs": []
    }
  ],
  "metadata": {
    "colab": {
      "provenance": []
    },
    "kernelspec": {
      "display_name": "Python 3 (ipykernel)",
      "language": "python",
      "name": "python3"
    },
    "language_info": {
      "codemirror_mode": {
        "name": "ipython",
        "version": 3
      },
      "file_extension": ".py",
      "mimetype": "text/x-python",
      "name": "python",
      "nbconvert_exporter": "python",
      "pygments_lexer": "ipython3",
      "version": "3.10.6"
    }
  },
  "nbformat": 4,
  "nbformat_minor": 5
}