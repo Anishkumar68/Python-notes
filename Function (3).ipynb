{
  "nbformat": 4,
  "nbformat_minor": 0,
  "metadata": {
    "colab": {
      "provenance": []
    },
    "kernelspec": {
      "name": "python3",
      "display_name": "Python 3"
    },
    "language_info": {
      "name": "python"
    }
  },
  "cells": [
    {
      "cell_type": "code",
      "execution_count": null,
      "metadata": {
        "id": "cGt3KCkU-mk-"
      },
      "outputs": [],
      "source": []
    },
    {
      "cell_type": "markdown",
      "source": [
        "Function is block of code , that is specially created for doing spefic task. \n",
        "\n",
        "\n",
        "  \n",
        "        def function_name(par1,par2.....):\n",
        "      \n",
        "              \"docstring\" \n",
        "              statement1\n",
        "              statement2\n",
        "              ....\n",
        "              ....\n",
        "\n",
        "\n",
        "\n",
        "\n"
      ],
      "metadata": {
        "id": "BZTMURZD_WZ4"
      }
    },
    {
      "cell_type": "code",
      "source": [
        "def add(x,y): # function defination \n",
        "  \"Addition \"\n",
        "  z = x+y \n",
        "  print(\"Addition = \",z)"
      ],
      "metadata": {
        "id": "pTSua5mi_22I"
      },
      "execution_count": null,
      "outputs": []
    },
    {
      "cell_type": "code",
      "source": [
        "add(12,10) "
      ],
      "metadata": {
        "colab": {
          "base_uri": "https://localhost:8080/"
        },
        "id": "WGic_7Hc_VvT",
        "outputId": "4fcb45b4-189c-415e-8937-60735e30d8e2"
      },
      "execution_count": null,
      "outputs": [
        {
          "output_type": "stream",
          "name": "stdout",
          "text": [
            "Addition =  22\n"
          ]
        }
      ]
    },
    {
      "cell_type": "code",
      "source": [
        "add(20,10)"
      ],
      "metadata": {
        "colab": {
          "base_uri": "https://localhost:8080/"
        },
        "id": "lThex3AbHH5K",
        "outputId": "05a34c71-215e-4b28-bebf-7c9d1a5b9e5b"
      },
      "execution_count": null,
      "outputs": [
        {
          "output_type": "stream",
          "name": "stdout",
          "text": [
            "Addition =  30\n"
          ]
        }
      ]
    },
    {
      "cell_type": "code",
      "source": [
        "def calc():\n",
        "  n1 = int(input(\"Enter 1st Number \"))\n",
        "  n2 = int(input(\"Enter 2nd Number \")) \n",
        "\n",
        "  print(\"Addition = \",n1+n2)\n",
        "  print(\"Subtraction = \",n1-n2)\n",
        "  print(\"Multiplication  =\",n1*n2)\n"
      ],
      "metadata": {
        "id": "44VZ47kIHKKu"
      },
      "execution_count": null,
      "outputs": []
    },
    {
      "cell_type": "code",
      "source": [
        "calc()"
      ],
      "metadata": {
        "colab": {
          "base_uri": "https://localhost:8080/"
        },
        "id": "RenChYquH6qw",
        "outputId": "71dc7930-811e-4ba3-c8ac-ddad377c6d04"
      },
      "execution_count": null,
      "outputs": [
        {
          "output_type": "stream",
          "name": "stdout",
          "text": [
            "Enter 1st Number 70\n",
            "Enter 2nd Number 20\n",
            "Addition =  90\n",
            "Subtraction =  50\n",
            "Multiplication  = 1400\n"
          ]
        }
      ]
    },
    {
      "cell_type": "code",
      "source": [
        "calc()"
      ],
      "metadata": {
        "colab": {
          "base_uri": "https://localhost:8080/"
        },
        "id": "bPfR6wohICeW",
        "outputId": "c00c35c1-5a1e-49b8-e176-9987b4f5579c"
      },
      "execution_count": null,
      "outputs": [
        {
          "output_type": "stream",
          "name": "stdout",
          "text": [
            "Enter 1st Number 30\n",
            "Enter 2nd Number 20\n",
            "Addition =  50\n",
            "Subtraction =  10\n",
            "Multiplication  = 600\n"
          ]
        }
      ]
    },
    {
      "cell_type": "code",
      "source": [
        "def even(num):\n",
        "  if num % 2==0:\n",
        "    print(num, \" is a Even Number \")\n",
        "  else:\n",
        "    print(num, ' is a odd Number ')  "
      ],
      "metadata": {
        "id": "KD__7msOINFs"
      },
      "execution_count": null,
      "outputs": []
    },
    {
      "cell_type": "code",
      "source": [
        "even(12)"
      ],
      "metadata": {
        "colab": {
          "base_uri": "https://localhost:8080/"
        },
        "id": "vbW3B5UKJyFb",
        "outputId": "85b58a3b-0732-46cc-c590-4420774451c5"
      },
      "execution_count": null,
      "outputs": [
        {
          "output_type": "stream",
          "name": "stdout",
          "text": [
            "12  is a Even Number \n"
          ]
        }
      ]
    },
    {
      "cell_type": "code",
      "source": [
        "even(13)"
      ],
      "metadata": {
        "colab": {
          "base_uri": "https://localhost:8080/"
        },
        "id": "YvJs9YHHJzYk",
        "outputId": "1db3c8a3-ecac-47cf-a5d4-e1e2cab210b9"
      },
      "execution_count": null,
      "outputs": [
        {
          "output_type": "stream",
          "name": "stdout",
          "text": [
            "13  is a odd Number \n"
          ]
        }
      ]
    },
    {
      "cell_type": "code",
      "source": [
        "even(19)"
      ],
      "metadata": {
        "colab": {
          "base_uri": "https://localhost:8080/"
        },
        "id": "XT2cC8VHJ0-9",
        "outputId": "8da33faa-ae85-47a3-b410-2bdebd6a7859"
      },
      "execution_count": null,
      "outputs": [
        {
          "output_type": "stream",
          "name": "stdout",
          "text": [
            "19  is a odd Number \n"
          ]
        }
      ]
    },
    {
      "cell_type": "code",
      "source": [
        "def calc(n1,n2): \n",
        "  \n",
        "  add=n1+n2\n",
        "  sub = n1-n2 \n",
        "  mult = n1*n2\n",
        "  print(\"Addition = \",add)\n",
        "  print(\"Subtraction = \",sub)\n",
        "  print(\"Multiplication  =\",mult)\n"
      ],
      "metadata": {
        "id": "ZWy2tIR8J39_"
      },
      "execution_count": null,
      "outputs": []
    },
    {
      "cell_type": "code",
      "source": [
        "calc(12,22)"
      ],
      "metadata": {
        "colab": {
          "base_uri": "https://localhost:8080/"
        },
        "id": "jKqn82UqKIza",
        "outputId": "5619038e-f6fd-40a9-be08-7509fb2f139e"
      },
      "execution_count": null,
      "outputs": [
        {
          "output_type": "stream",
          "name": "stdout",
          "text": [
            "Addition =  34\n",
            "Subtraction =  -10\n",
            "Multiplication  = 264\n"
          ]
        }
      ]
    },
    {
      "cell_type": "code",
      "source": [
        "df = calc(19,10)"
      ],
      "metadata": {
        "colab": {
          "base_uri": "https://localhost:8080/"
        },
        "id": "JoTBwtwTKKbJ",
        "outputId": "b6460151-ab26-4ff4-9bef-1a74479cf020"
      },
      "execution_count": null,
      "outputs": [
        {
          "output_type": "stream",
          "name": "stdout",
          "text": [
            "Addition =  29\n",
            "Subtraction =  9\n",
            "Multiplication  = 190\n"
          ]
        }
      ]
    },
    {
      "cell_type": "code",
      "source": [
        "df"
      ],
      "metadata": {
        "id": "IlSj667XKTvG"
      },
      "execution_count": null,
      "outputs": []
    },
    {
      "cell_type": "code",
      "source": [
        "type(df)"
      ],
      "metadata": {
        "colab": {
          "base_uri": "https://localhost:8080/"
        },
        "id": "GZYI9HxRKWVj",
        "outputId": "2b9d1df3-f65a-489d-a17c-e592865bafbd"
      },
      "execution_count": null,
      "outputs": [
        {
          "output_type": "execute_result",
          "data": {
            "text/plain": [
              "NoneType"
            ]
          },
          "metadata": {},
          "execution_count": 19
        }
      ]
    },
    {
      "cell_type": "code",
      "source": [
        "def calc(n1,n2): \n",
        "  \n",
        "  add=n1+n2\n",
        "  sub = n1-n2 \n",
        "  mult = n1*n2\n",
        "\n",
        "  return add,sub,mult"
      ],
      "metadata": {
        "id": "5ZZ1qjWSKYLz"
      },
      "execution_count": null,
      "outputs": []
    },
    {
      "cell_type": "code",
      "source": [
        "calc(12,10)"
      ],
      "metadata": {
        "colab": {
          "base_uri": "https://localhost:8080/"
        },
        "id": "E9lIEW2SKu9H",
        "outputId": "109ba78d-beb1-4e8b-ca3f-8475dc34b66d"
      },
      "execution_count": null,
      "outputs": [
        {
          "output_type": "execute_result",
          "data": {
            "text/plain": [
              "(22, 2, 120)"
            ]
          },
          "metadata": {},
          "execution_count": 27
        }
      ]
    },
    {
      "cell_type": "code",
      "source": [
        "sum, subt, mult = calc(12,10) "
      ],
      "metadata": {
        "id": "Y_jOUTaeKweT"
      },
      "execution_count": null,
      "outputs": []
    },
    {
      "cell_type": "code",
      "source": [
        "sum"
      ],
      "metadata": {
        "colab": {
          "base_uri": "https://localhost:8080/"
        },
        "id": "Xy9UhjoqKyuN",
        "outputId": "9b365344-ea62-4d70-849e-e28dadb476fa"
      },
      "execution_count": null,
      "outputs": [
        {
          "output_type": "execute_result",
          "data": {
            "text/plain": [
              "22"
            ]
          },
          "metadata": {},
          "execution_count": 30
        }
      ]
    },
    {
      "cell_type": "code",
      "source": [
        "subt"
      ],
      "metadata": {
        "colab": {
          "base_uri": "https://localhost:8080/"
        },
        "id": "uALqM6osLQKR",
        "outputId": "8e02a0a5-19de-44c7-ce1c-a079b2eff084"
      },
      "execution_count": null,
      "outputs": [
        {
          "output_type": "execute_result",
          "data": {
            "text/plain": [
              "2"
            ]
          },
          "metadata": {},
          "execution_count": 31
        }
      ]
    },
    {
      "cell_type": "code",
      "source": [
        "mult"
      ],
      "metadata": {
        "colab": {
          "base_uri": "https://localhost:8080/"
        },
        "id": "eapFYTgCLRno",
        "outputId": "21a24574-8652-4890-e5c2-025b24607b12"
      },
      "execution_count": null,
      "outputs": [
        {
          "output_type": "execute_result",
          "data": {
            "text/plain": [
              "120"
            ]
          },
          "metadata": {},
          "execution_count": 32
        }
      ]
    },
    {
      "cell_type": "code",
      "source": [
        "# function is called 1st class object \n",
        "# it is possible to assign a function in a variable \n",
        "# it is possible to define one function inside another function "
      ],
      "metadata": {
        "id": "5uzCudCALSYU"
      },
      "execution_count": null,
      "outputs": []
    },
    {
      "cell_type": "code",
      "source": [
        "# function :--------"
      ],
      "metadata": {
        "id": "fudRFnvxLd8b"
      },
      "execution_count": null,
      "outputs": []
    },
    {
      "cell_type": "code",
      "source": [
        "# Poisitional Arguments "
      ],
      "metadata": {
        "id": "anutz850TLSZ"
      },
      "execution_count": null,
      "outputs": []
    },
    {
      "cell_type": "code",
      "source": [
        "def clac(x,y):\n",
        "  print(\"Addition = \",x+y)\n",
        "  print(\"Subtraction =\",x-y)\n",
        "  print('Mulplication =',x*y)\n",
        "  print('Division =',x/y) \n",
        "\n",
        "  "
      ],
      "metadata": {
        "id": "1qkigMv2Ld_S"
      },
      "execution_count": 1,
      "outputs": []
    },
    {
      "cell_type": "code",
      "source": [
        "clac(20,10)"
      ],
      "metadata": {
        "colab": {
          "base_uri": "https://localhost:8080/"
        },
        "id": "6HaQAAyVUG-2",
        "outputId": "e091976c-04d4-41bf-f050-049ea8b37867"
      },
      "execution_count": 2,
      "outputs": [
        {
          "output_type": "stream",
          "name": "stdout",
          "text": [
            "Addition =  30\n",
            "Subtraction = 10\n",
            "Mulplication = 200\n",
            "Division = 2.0\n"
          ]
        }
      ]
    },
    {
      "cell_type": "code",
      "source": [
        "clac(20,30)"
      ],
      "metadata": {
        "colab": {
          "base_uri": "https://localhost:8080/"
        },
        "id": "auUaHaCGUKlF",
        "outputId": "22eb9a91-b60e-4569-be52-c6a1262a8a39"
      },
      "execution_count": 3,
      "outputs": [
        {
          "output_type": "stream",
          "name": "stdout",
          "text": [
            "Addition =  50\n",
            "Subtraction = -10\n",
            "Mulplication = 600\n",
            "Division = 0.6666666666666666\n"
          ]
        }
      ]
    },
    {
      "cell_type": "code",
      "source": [
        "# Poisitional Argumnets \n",
        "clac(x=80,y=20)"
      ],
      "metadata": {
        "colab": {
          "base_uri": "https://localhost:8080/"
        },
        "id": "aYuD73dvUR9v",
        "outputId": "dcc8aa92-a2e8-4e93-ffd6-4bc8f2c64be6"
      },
      "execution_count": 4,
      "outputs": [
        {
          "output_type": "stream",
          "name": "stdout",
          "text": [
            "Addition =  100\n",
            "Subtraction = 60\n",
            "Mulplication = 1600\n",
            "Division = 4.0\n"
          ]
        }
      ]
    },
    {
      "cell_type": "code",
      "source": [
        "# keyword Arguments \n",
        "clac(y=20,x=40)"
      ],
      "metadata": {
        "colab": {
          "base_uri": "https://localhost:8080/"
        },
        "id": "qs0q0Nl9UitS",
        "outputId": "9931cd98-2c5c-4cb6-9f3c-1eb70a122f62"
      },
      "execution_count": 6,
      "outputs": [
        {
          "output_type": "stream",
          "name": "stdout",
          "text": [
            "Addition =  60\n",
            "Subtraction = 20\n",
            "Mulplication = 800\n",
            "Division = 2.0\n"
          ]
        }
      ]
    },
    {
      "cell_type": "code",
      "source": [
        "# Deafault Arguments \n",
        "def sub(x=None,y=None,z=None):\n",
        "  if x != None and y != None and z != None:\n",
        "    return x+y+z\n",
        "\n",
        "  elif x !=None and y != None:\n",
        "    return x+y \n",
        "\n",
        "  else:\n",
        "    print(\"Dear User, Airthmetic Operation can't be Perform\")    "
      ],
      "metadata": {
        "id": "DcHNlhKVUk7y"
      },
      "execution_count": 13,
      "outputs": []
    },
    {
      "cell_type": "code",
      "source": [
        "sub(12,10,8)"
      ],
      "metadata": {
        "colab": {
          "base_uri": "https://localhost:8080/"
        },
        "id": "AvgpEKMfVOrv",
        "outputId": "5342c7c7-4fb6-4a24-f1dc-2e469f14f369"
      },
      "execution_count": 14,
      "outputs": [
        {
          "output_type": "execute_result",
          "data": {
            "text/plain": [
              "30"
            ]
          },
          "metadata": {},
          "execution_count": 14
        }
      ]
    },
    {
      "cell_type": "code",
      "source": [
        "sub(12,6)"
      ],
      "metadata": {
        "colab": {
          "base_uri": "https://localhost:8080/"
        },
        "id": "j2mjvgeRVPtL",
        "outputId": "904f9c6f-3923-41ac-a912-5caa8298592f"
      },
      "execution_count": 15,
      "outputs": [
        {
          "output_type": "execute_result",
          "data": {
            "text/plain": [
              "18"
            ]
          },
          "metadata": {},
          "execution_count": 15
        }
      ]
    },
    {
      "cell_type": "code",
      "source": [
        "sub(12) "
      ],
      "metadata": {
        "colab": {
          "base_uri": "https://localhost:8080/"
        },
        "id": "Ni61zAnQWKjJ",
        "outputId": "0fbfe498-a4af-4b2a-fbf1-61b1549b61b7"
      },
      "execution_count": 16,
      "outputs": [
        {
          "output_type": "stream",
          "name": "stdout",
          "text": [
            "Dear User, Airthmetic Operation can't be Perform\n"
          ]
        }
      ]
    },
    {
      "cell_type": "code",
      "source": [
        "# variable length Arguments "
      ],
      "metadata": {
        "id": "y4DKP0xkWNkh"
      },
      "execution_count": 18,
      "outputs": []
    },
    {
      "cell_type": "code",
      "source": [
        "def airth(*num):\n",
        "  for i in num:\n",
        "    if i % 2 == 0:\n",
        "      print(i,' is a Even Number ')\n",
        "    else:\n",
        "      print(i,' is odd Number ')  "
      ],
      "metadata": {
        "id": "TQGLMaaNWuME"
      },
      "execution_count": 19,
      "outputs": []
    },
    {
      "cell_type": "code",
      "source": [
        "airth(20,10,24,555,66,77,88)"
      ],
      "metadata": {
        "colab": {
          "base_uri": "https://localhost:8080/"
        },
        "id": "ZfBjXnIlXi7_",
        "outputId": "a992cf06-acba-44e1-ab1f-30364a3a234e"
      },
      "execution_count": 20,
      "outputs": [
        {
          "output_type": "stream",
          "name": "stdout",
          "text": [
            "20  is a Even Number \n",
            "10  is a Even Number \n",
            "24  is a Even Number \n",
            "555  is odd Number \n",
            "66  is a Even Number \n",
            "77  is odd Number \n",
            "88  is a Even Number \n"
          ]
        }
      ]
    },
    {
      "cell_type": "code",
      "source": [
        "def fact(*num):\n",
        "  for i in num:\n",
        "    fact=1\n",
        "    for j in range(1,i+1):\n",
        "      fact *=j \n",
        "    print(f\"factorial of {i} is {fact}\")  \n"
      ],
      "metadata": {
        "id": "s_Do8X5pXnV4"
      },
      "execution_count": 21,
      "outputs": []
    },
    {
      "cell_type": "code",
      "source": [
        "fact(2,3,4,5,6)"
      ],
      "metadata": {
        "colab": {
          "base_uri": "https://localhost:8080/"
        },
        "id": "WJSeXaudbJSf",
        "outputId": "c2ab795a-23a7-4ec4-bd18-944a1ec34363"
      },
      "execution_count": 22,
      "outputs": [
        {
          "output_type": "stream",
          "name": "stdout",
          "text": [
            "factorial of 2 is 2\n",
            "factorial of 3 is 6\n",
            "factorial of 4 is 24\n",
            "factorial of 5 is 120\n",
            "factorial of 6 is 720\n"
          ]
        }
      ]
    },
    {
      "cell_type": "code",
      "source": [
        "# keyword variable length Arguments "
      ],
      "metadata": {
        "id": "QMVZfOeabLMN"
      },
      "execution_count": 23,
      "outputs": []
    },
    {
      "cell_type": "code",
      "source": [
        "def dict1(**args):\n",
        "  index=1\n",
        "  add=0\n",
        "  for i,v in args.items():\n",
        "    print(f'{index} {i} {v}')\n",
        "    add += v \n",
        "    index+=1 \n",
        "  print('Total Ammount for Employee = ',add)  \n",
        "\n",
        "\n"
      ],
      "metadata": {
        "id": "7T50TJ2XcZ6q"
      },
      "execution_count": 28,
      "outputs": []
    },
    {
      "cell_type": "code",
      "source": [
        "dict1(Mohan = 25600 , John = 18000 , smith = 32000 , Himanshu = 35000) "
      ],
      "metadata": {
        "colab": {
          "base_uri": "https://localhost:8080/"
        },
        "id": "iAb59C3Oc0Sh",
        "outputId": "3441294f-f0b8-44aa-b185-34a8a548260c"
      },
      "execution_count": 29,
      "outputs": [
        {
          "output_type": "stream",
          "name": "stdout",
          "text": [
            "1 Mohan 25600\n",
            "2 John 18000\n",
            "3 smith 32000\n",
            "4 Himanshu 35000\n",
            "Total Ammount for Employee =  110600\n"
          ]
        }
      ]
    },
    {
      "cell_type": "code",
      "source": [],
      "metadata": {
        "id": "gI53UmvrdEI2"
      },
      "execution_count": null,
      "outputs": []
    }
  ]
}