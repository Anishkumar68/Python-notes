{
  "cells": [
    {
      "attachments": {},
      "cell_type": "markdown",
      "metadata": {
        "id": "E3cTXr3Yhgyq"
      },
      "source": [
        "**Naming Convention for a Variable**\n"
      ]
    },
    {
      "cell_type": "code",
      "execution_count": null,
      "metadata": {
        "colab": {
          "base_uri": "https://localhost:8080/"
        },
        "id": "qG760TMfhfZU",
        "outputId": "5077fbec-f1b1-49f8-c945-9c759ff35fb1"
      },
      "outputs": [
        {
          "data": {
            "text/plain": [
              "50"
            ]
          },
          "execution_count": 1,
          "metadata": {},
          "output_type": "execute_result"
        }
      ],
      "source": [
        "x = 20 \n",
        "y = 30\n",
        "z = x+y \n",
        "z"
      ]
    },
    {
      "cell_type": "code",
      "execution_count": null,
      "metadata": {
        "id": "NCWmTNGMhfhg"
      },
      "outputs": [],
      "source": [
        "# 1. do not need explicit decelaration of variable  \n",
        "# 2. variable name always start with alphabate or underscore \n",
        "# 3. variable name only contain alphanumeric."
      ]
    },
    {
      "cell_type": "code",
      "execution_count": null,
      "metadata": {
        "colab": {
          "base_uri": "https://localhost:8080/",
          "height": 130
        },
        "id": "kMGRwzOrmjHx",
        "outputId": "404b804e-b2c1-4fb3-db22-a4fea341d612"
      },
      "outputs": [
        {
          "ename": "SyntaxError",
          "evalue": "ignored",
          "output_type": "error",
          "traceback": [
            "\u001b[0;36m  File \u001b[0;32m\"<ipython-input-3-778b90009bd7>\"\u001b[0;36m, line \u001b[0;32m1\u001b[0m\n\u001b[0;31m    int x\u001b[0m\n\u001b[0m        ^\u001b[0m\n\u001b[0;31mSyntaxError\u001b[0m\u001b[0;31m:\u001b[0m invalid syntax\n"
          ]
        }
      ],
      "source": [
        "int x \n",
        "x=30 "
      ]
    },
    {
      "cell_type": "code",
      "execution_count": null,
      "metadata": {
        "id": "T6gHGLthmv2t"
      },
      "outputs": [],
      "source": [
        "x = 34"
      ]
    },
    {
      "cell_type": "code",
      "execution_count": null,
      "metadata": {
        "id": "Fp-7XN_bm1cH"
      },
      "outputs": [],
      "source": [
        "num = 45"
      ]
    },
    {
      "cell_type": "code",
      "execution_count": null,
      "metadata": {
        "colab": {
          "base_uri": "https://localhost:8080/"
        },
        "id": "YRGrO8sjnH6s",
        "outputId": "e10842e0-8381-4824-a0f6-38e1346d94f8"
      },
      "outputs": [
        {
          "data": {
            "text/plain": [
              "45"
            ]
          },
          "execution_count": 8,
          "metadata": {},
          "output_type": "execute_result"
        }
      ],
      "source": [
        "num"
      ]
    },
    {
      "cell_type": "code",
      "execution_count": null,
      "metadata": {
        "id": "snzWsQPHnIjX"
      },
      "outputs": [],
      "source": [
        "_df = 67"
      ]
    },
    {
      "cell_type": "code",
      "execution_count": null,
      "metadata": {
        "colab": {
          "base_uri": "https://localhost:8080/"
        },
        "id": "DUOtRub7nPMs",
        "outputId": "284249e5-52b4-4525-e7da-621f58641f87"
      },
      "outputs": [
        {
          "data": {
            "text/plain": [
              "67"
            ]
          },
          "execution_count": 10,
          "metadata": {},
          "output_type": "execute_result"
        }
      ],
      "source": [
        "_df"
      ]
    },
    {
      "cell_type": "code",
      "execution_count": null,
      "metadata": {
        "colab": {
          "base_uri": "https://localhost:8080/",
          "height": 130
        },
        "id": "qV-wXEipnP9j",
        "outputId": "3910f100-f794-4d9d-a4ab-09ef8609bf41"
      },
      "outputs": [
        {
          "ename": "SyntaxError",
          "evalue": "ignored",
          "output_type": "error",
          "traceback": [
            "\u001b[0;36m  File \u001b[0;32m\"<ipython-input-11-f52a82224a2f>\"\u001b[0;36m, line \u001b[0;32m1\u001b[0m\n\u001b[0;31m    2num = 45\u001b[0m\n\u001b[0m     ^\u001b[0m\n\u001b[0;31mSyntaxError\u001b[0m\u001b[0;31m:\u001b[0m invalid syntax\n"
          ]
        }
      ],
      "source": [
        "2num = 45"
      ]
    },
    {
      "cell_type": "code",
      "execution_count": null,
      "metadata": {
        "colab": {
          "base_uri": "https://localhost:8080/",
          "height": 130
        },
        "id": "sWorwViWnTo7",
        "outputId": "5a9e6519-40bb-4d93-810a-ef0ed3fdc50e"
      },
      "outputs": [
        {
          "ename": "SyntaxError",
          "evalue": "ignored",
          "output_type": "error",
          "traceback": [
            "\u001b[0;36m  File \u001b[0;32m\"<ipython-input-12-dea5e0ead3e4>\"\u001b[0;36m, line \u001b[0;32m1\u001b[0m\n\u001b[0;31m    @num = 45\u001b[0m\n\u001b[0m         ^\u001b[0m\n\u001b[0;31mSyntaxError\u001b[0m\u001b[0;31m:\u001b[0m invalid syntax\n"
          ]
        }
      ],
      "source": [
        "@num = 45"
      ]
    },
    {
      "cell_type": "code",
      "execution_count": null,
      "metadata": {
        "id": "a7F92FFSntFQ"
      },
      "outputs": [],
      "source": [
        "num2 = 60 "
      ]
    },
    {
      "cell_type": "code",
      "execution_count": null,
      "metadata": {
        "colab": {
          "base_uri": "https://localhost:8080/"
        },
        "id": "cm-2ksm3ntIW",
        "outputId": "9b948d1e-613c-4b94-a09b-8ea49eee3b32"
      },
      "outputs": [
        {
          "data": {
            "text/plain": [
              "60"
            ]
          },
          "execution_count": 15,
          "metadata": {},
          "output_type": "execute_result"
        }
      ],
      "source": [
        "num2"
      ]
    },
    {
      "cell_type": "code",
      "execution_count": null,
      "metadata": {
        "id": "OoZMOseGn0mU"
      },
      "outputs": [],
      "source": [
        "std_name = 'Ram'"
      ]
    },
    {
      "cell_type": "code",
      "execution_count": null,
      "metadata": {
        "colab": {
          "base_uri": "https://localhost:8080/",
          "height": 36
        },
        "id": "itqZBppNn0wF",
        "outputId": "07cefed5-5eec-4021-801b-cb37b0d0a801"
      },
      "outputs": [
        {
          "data": {
            "application/vnd.google.colaboratory.intrinsic+json": {
              "type": "string"
            },
            "text/plain": [
              "'Ram'"
            ]
          },
          "execution_count": 18,
          "metadata": {},
          "output_type": "execute_result"
        }
      ],
      "source": [
        "std_name"
      ]
    },
    {
      "cell_type": "code",
      "execution_count": null,
      "metadata": {
        "id": "1tSFryOGnYsu"
      },
      "outputs": [],
      "source": [
        "#num = 45"
      ]
    },
    {
      "cell_type": "code",
      "execution_count": null,
      "metadata": {
        "id": "WdvAjRaGncZN"
      },
      "outputs": [],
      "source": [
        "NUM = 60\n",
        "num = 45"
      ]
    },
    {
      "cell_type": "code",
      "execution_count": null,
      "metadata": {
        "colab": {
          "base_uri": "https://localhost:8080/"
        },
        "id": "MrIwsLlToKHx",
        "outputId": "ae431f97-bb93-48e8-c5dc-d21bae073c94"
      },
      "outputs": [
        {
          "data": {
            "text/plain": [
              "60"
            ]
          },
          "execution_count": 20,
          "metadata": {},
          "output_type": "execute_result"
        }
      ],
      "source": [
        "NUM"
      ]
    },
    {
      "cell_type": "code",
      "execution_count": null,
      "metadata": {
        "colab": {
          "base_uri": "https://localhost:8080/"
        },
        "id": "_lDYt76voKpy",
        "outputId": "599b9c7d-3262-420d-ca7c-d7dd2c45bbd1"
      },
      "outputs": [
        {
          "data": {
            "text/plain": [
              "45"
            ]
          },
          "execution_count": 21,
          "metadata": {},
          "output_type": "execute_result"
        }
      ],
      "source": [
        "num"
      ]
    },
    {
      "cell_type": "code",
      "execution_count": null,
      "metadata": {
        "id": "aR9cCTruoLLl"
      },
      "outputs": [],
      "source": [
        "df1=23\n",
        "df2=40 \n",
        "df1=56"
      ]
    },
    {
      "cell_type": "code",
      "execution_count": null,
      "metadata": {
        "colab": {
          "base_uri": "https://localhost:8080/"
        },
        "id": "ezu5np4XoZNi",
        "outputId": "f7c2e5ad-c4cf-4d87-8d38-1ba7d05e5f5a"
      },
      "outputs": [
        {
          "data": {
            "text/plain": [
              "56"
            ]
          },
          "execution_count": 23,
          "metadata": {},
          "output_type": "execute_result"
        }
      ],
      "source": [
        "df1"
      ]
    },
    {
      "cell_type": "code",
      "execution_count": null,
      "metadata": {
        "id": "sdIUBVvSobpA"
      },
      "outputs": [],
      "source": [
        "num= 2 "
      ]
    },
    {
      "cell_type": "code",
      "execution_count": null,
      "metadata": {
        "id": "gExjBXxLpmlF"
      },
      "outputs": [],
      "source": []
    },
    {
      "cell_type": "code",
      "execution_count": null,
      "metadata": {
        "colab": {
          "base_uri": "https://localhost:8080/"
        },
        "id": "KQX7YHukoxoF",
        "outputId": "ec7a03c9-71ed-464b-bfbb-0117c115d4d6"
      },
      "outputs": [
        {
          "data": {
            "text/plain": [
              "2"
            ]
          },
          "execution_count": 26,
          "metadata": {},
          "output_type": "execute_result"
        }
      ],
      "source": [
        "num"
      ]
    },
    {
      "cell_type": "code",
      "execution_count": null,
      "metadata": {
        "id": "PVXSQgYno0U3"
      },
      "outputs": [],
      "source": [
        "# _ "
      ]
    },
    {
      "cell_type": "code",
      "execution_count": null,
      "metadata": {
        "id": "n1K3Zmn8o2bO"
      },
      "outputs": [],
      "source": [
        "x=20\n",
        "y=45 \n",
        "# z=x+y "
      ]
    },
    {
      "cell_type": "code",
      "execution_count": null,
      "metadata": {
        "colab": {
          "base_uri": "https://localhost:8080/"
        },
        "id": "sBgt4WB7pnLh",
        "outputId": "00067da3-43e5-4201-ef23-990ac81d47c3"
      },
      "outputs": [
        {
          "data": {
            "text/plain": [
              "65"
            ]
          },
          "execution_count": 38,
          "metadata": {},
          "output_type": "execute_result"
        }
      ],
      "source": [
        "z"
      ]
    },
    {
      "cell_type": "code",
      "execution_count": null,
      "metadata": {
        "colab": {
          "base_uri": "https://localhost:8080/"
        },
        "id": "rfn1S5waprq-",
        "outputId": "543ad1ff-91f8-46a2-b8b0-802a01bec4dd"
      },
      "outputs": [
        {
          "data": {
            "text/plain": [
              "65"
            ]
          },
          "execution_count": 39,
          "metadata": {},
          "output_type": "execute_result"
        }
      ],
      "source": [
        "_ "
      ]
    },
    {
      "cell_type": "code",
      "execution_count": null,
      "metadata": {
        "id": "zOseNeeRpnT3"
      },
      "outputs": [],
      "source": []
    },
    {
      "cell_type": "code",
      "execution_count": null,
      "metadata": {
        "id": "M3kexHGbo-AW"
      },
      "outputs": [],
      "source": [
        "df1=_ + 30 "
      ]
    },
    {
      "cell_type": "code",
      "execution_count": null,
      "metadata": {
        "colab": {
          "base_uri": "https://localhost:8080/"
        },
        "id": "MslRG58bpNRt",
        "outputId": "35136d6f-41bf-43be-c712-cb804f93eb2a"
      },
      "outputs": [
        {
          "data": {
            "text/plain": [
              "62"
            ]
          },
          "execution_count": 36,
          "metadata": {},
          "output_type": "execute_result"
        }
      ],
      "source": [
        "_ "
      ]
    },
    {
      "cell_type": "code",
      "execution_count": null,
      "metadata": {
        "colab": {
          "base_uri": "https://localhost:8080/"
        },
        "id": "DQVUhP2KpIen",
        "outputId": "a8f996e5-d402-4e26-86ce-626afea9f88c"
      },
      "outputs": [
        {
          "data": {
            "text/plain": [
              "62"
            ]
          },
          "execution_count": 32,
          "metadata": {},
          "output_type": "execute_result"
        }
      ],
      "source": [
        "_ + 30 "
      ]
    },
    {
      "cell_type": "code",
      "execution_count": null,
      "metadata": {
        "colab": {
          "base_uri": "https://localhost:8080/"
        },
        "id": "LmLINsrApKoP",
        "outputId": "4a0774ca-97cf-4dd8-908b-93ad1f4e239a"
      },
      "outputs": [
        {
          "data": {
            "text/plain": [
              "62"
            ]
          },
          "execution_count": 33,
          "metadata": {},
          "output_type": "execute_result"
        }
      ],
      "source": [
        "_ "
      ]
    },
    {
      "cell_type": "code",
      "execution_count": null,
      "metadata": {
        "id": "rjuiAD5jpWrn"
      },
      "outputs": [],
      "source": [
        "num1=20\n",
        "num2=45.5\n",
        "num3=\"john\"\n",
        "num4= 2+3j"
      ]
    },
    {
      "cell_type": "code",
      "execution_count": null,
      "metadata": {
        "id": "r1ABzGtArizk"
      },
      "outputs": [],
      "source": [
        "# Data-type :- it represents which of type of value store in a variable. \n",
        "\n",
        "# following data-type in python \n",
        "# 1. None \n",
        "# 2. Numeric \n",
        "# 3. Sequence \n",
        "# 4. Map \n",
        "# 5. set \n"
      ]
    },
    {
      "cell_type": "code",
      "execution_count": null,
      "metadata": {
        "id": "cbZWZLgSsHA9"
      },
      "outputs": [],
      "source": [
        "#df1 = 435465kdnfkjhf"
      ]
    },
    {
      "cell_type": "code",
      "execution_count": null,
      "metadata": {
        "id": "m9thOWqHsHJM"
      },
      "outputs": [],
      "source": [
        "#num = 098 "
      ]
    },
    {
      "cell_type": "code",
      "execution_count": 2,
      "metadata": {
        "id": "BpGfdA1XDgCm"
      },
      "outputs": [],
      "source": [
        "# Data-type:- it represent that which type of value store in varaible. \n",
        "num1 = 34 \n",
        "num2 = 20.6 \n",
        "num3 = \"Ram\"\n",
        "num4 = 2+7j "
      ]
    },
    {
      "cell_type": "code",
      "execution_count": 3,
      "metadata": {
        "id": "qisZu_DLEI3i"
      },
      "outputs": [],
      "source": [
        "# following data-type in python \n",
        "# 1. None \n",
        "# 2. Numeric\n",
        "# 3. Sequence \n",
        "# 4. Map \n",
        "# 5. set \n"
      ]
    },
    {
      "cell_type": "code",
      "execution_count": 4,
      "metadata": {
        "id": "t6f7juwaEYdV"
      },
      "outputs": [],
      "source": [
        "# None :- that type of variable in which have no any value.\n"
      ]
    },
    {
      "cell_type": "code",
      "execution_count": 5,
      "metadata": {
        "id": "dJfi8K5QEhI0"
      },
      "outputs": [],
      "source": [
        "num = None "
      ]
    },
    {
      "cell_type": "code",
      "execution_count": 6,
      "metadata": {
        "id": "xZepcGmvE2kN"
      },
      "outputs": [],
      "source": [
        "num"
      ]
    },
    {
      "cell_type": "code",
      "execution_count": 8,
      "metadata": {
        "colab": {
          "base_uri": "https://localhost:8080/"
        },
        "id": "ANVVhrMxE3EB",
        "outputId": "29d40476-3cb4-41e8-f048-4b6b89a39e7d"
      },
      "outputs": [
        {
          "data": {
            "text/plain": [
              "NoneType"
            ]
          },
          "execution_count": 8,
          "metadata": {},
          "output_type": "execute_result"
        }
      ],
      "source": [
        "type(num)"
      ]
    },
    {
      "cell_type": "code",
      "execution_count": 9,
      "metadata": {
        "id": "A9ee2e-2FM9q"
      },
      "outputs": [],
      "source": [
        "# 2. Numeric Data-type: - in which have numeric value \n",
        "# 1. int(integer):- whole number \n",
        "# 2. float :- in which fractional part/decimal part \n",
        "# 3. complex :- in which have combination of real and imaginary number (a+ib)"
      ]
    },
    {
      "cell_type": "code",
      "execution_count": 10,
      "metadata": {
        "id": "EVgJHqnmF6Ka"
      },
      "outputs": [],
      "source": [
        "num = 34 "
      ]
    },
    {
      "cell_type": "code",
      "execution_count": 11,
      "metadata": {
        "colab": {
          "base_uri": "https://localhost:8080/"
        },
        "id": "poxUu_rzF6Nr",
        "outputId": "f61b9ae0-fb34-4576-cd99-f5040d8841e6"
      },
      "outputs": [
        {
          "data": {
            "text/plain": [
              "int"
            ]
          },
          "execution_count": 11,
          "metadata": {},
          "output_type": "execute_result"
        }
      ],
      "source": [
        "type(num)"
      ]
    },
    {
      "cell_type": "code",
      "execution_count": 12,
      "metadata": {
        "colab": {
          "base_uri": "https://localhost:8080/"
        },
        "id": "0gbdgXl5F2K3",
        "outputId": "1a5ec1bb-c2cb-4e4b-afaf-78f0ee270835"
      },
      "outputs": [
        {
          "data": {
            "text/plain": [
              "int"
            ]
          },
          "execution_count": 12,
          "metadata": {},
          "output_type": "execute_result"
        }
      ],
      "source": [
        "num = -34 \n",
        "type(num) "
      ]
    },
    {
      "cell_type": "code",
      "execution_count": 13,
      "metadata": {
        "id": "iaMmTxLjGB1y"
      },
      "outputs": [],
      "source": [
        "num1 = 23.4 \n"
      ]
    },
    {
      "cell_type": "code",
      "execution_count": 14,
      "metadata": {
        "colab": {
          "base_uri": "https://localhost:8080/"
        },
        "id": "iEbtURBDGEva",
        "outputId": "b133d7ed-3076-4519-80c6-a5cf60e5341b"
      },
      "outputs": [
        {
          "data": {
            "text/plain": [
              "float"
            ]
          },
          "execution_count": 14,
          "metadata": {},
          "output_type": "execute_result"
        }
      ],
      "source": [
        "type(num1)"
      ]
    },
    {
      "cell_type": "code",
      "execution_count": 15,
      "metadata": {
        "id": "l5uK7CIvGGDT"
      },
      "outputs": [],
      "source": [
        "num2 = -2.5"
      ]
    },
    {
      "cell_type": "code",
      "execution_count": 16,
      "metadata": {
        "colab": {
          "base_uri": "https://localhost:8080/"
        },
        "id": "l2NHRq4ZGKhS",
        "outputId": "471e4308-8962-446a-f2c8-5c135276eba4"
      },
      "outputs": [
        {
          "data": {
            "text/plain": [
              "float"
            ]
          },
          "execution_count": 16,
          "metadata": {},
          "output_type": "execute_result"
        }
      ],
      "source": [
        "type(num2)"
      ]
    },
    {
      "cell_type": "code",
      "execution_count": 18,
      "metadata": {
        "id": "vg46F8NQGLk6"
      },
      "outputs": [],
      "source": [
        "# complex \n",
        "# a+ib \n",
        "# a+bj \n",
        "num = 2+3j "
      ]
    },
    {
      "cell_type": "code",
      "execution_count": 19,
      "metadata": {
        "colab": {
          "base_uri": "https://localhost:8080/"
        },
        "id": "AVGZErl9GWtl",
        "outputId": "3b0cea99-0b0b-4a20-d998-00d163c0468f"
      },
      "outputs": [
        {
          "data": {
            "text/plain": [
              "complex"
            ]
          },
          "execution_count": 19,
          "metadata": {},
          "output_type": "execute_result"
        }
      ],
      "source": [
        "type(num)"
      ]
    },
    {
      "cell_type": "code",
      "execution_count": 20,
      "metadata": {
        "id": "gy_1KRJdGgdB"
      },
      "outputs": [],
      "source": [
        "df=complex(2,3)"
      ]
    },
    {
      "cell_type": "code",
      "execution_count": 21,
      "metadata": {
        "colab": {
          "base_uri": "https://localhost:8080/"
        },
        "id": "l-gU0SRkGmZq",
        "outputId": "2e71a34c-e1ae-4658-ad26-ad441760c343"
      },
      "outputs": [
        {
          "data": {
            "text/plain": [
              "(2+3j)"
            ]
          },
          "execution_count": 21,
          "metadata": {},
          "output_type": "execute_result"
        }
      ],
      "source": [
        "df"
      ]
    },
    {
      "cell_type": "code",
      "execution_count": 22,
      "metadata": {
        "id": "oGx6hvBjGmyB"
      },
      "outputs": [],
      "source": [
        "num1 = 4 + 2j \n",
        "num2 = complex(5,3)"
      ]
    },
    {
      "cell_type": "code",
      "execution_count": 23,
      "metadata": {
        "colab": {
          "base_uri": "https://localhost:8080/"
        },
        "id": "nGA79I_nHf00",
        "outputId": "b3be3d05-4f04-45f1-dc41-dff6480e3ba4"
      },
      "outputs": [
        {
          "data": {
            "text/plain": [
              "(4+2j)"
            ]
          },
          "execution_count": 23,
          "metadata": {},
          "output_type": "execute_result"
        }
      ],
      "source": [
        "num1"
      ]
    },
    {
      "cell_type": "code",
      "execution_count": 24,
      "metadata": {
        "colab": {
          "base_uri": "https://localhost:8080/"
        },
        "id": "ZADs2dayHgW1",
        "outputId": "9ac4aae4-b057-4172-f330-759a14dad2b4"
      },
      "outputs": [
        {
          "data": {
            "text/plain": [
              "(5+3j)"
            ]
          },
          "execution_count": 24,
          "metadata": {},
          "output_type": "execute_result"
        }
      ],
      "source": [
        "num2"
      ]
    },
    {
      "cell_type": "code",
      "execution_count": 25,
      "metadata": {
        "id": "9qUQbunIHhdi"
      },
      "outputs": [],
      "source": [
        "add = num1 + num2"
      ]
    },
    {
      "cell_type": "code",
      "execution_count": 26,
      "metadata": {
        "colab": {
          "base_uri": "https://localhost:8080/"
        },
        "id": "cSHxJclNHmHM",
        "outputId": "3435e65a-d43a-45b1-8aaf-31d4f8a4f2fe"
      },
      "outputs": [
        {
          "data": {
            "text/plain": [
              "(9+5j)"
            ]
          },
          "execution_count": 26,
          "metadata": {},
          "output_type": "execute_result"
        }
      ],
      "source": [
        "add"
      ]
    },
    {
      "cell_type": "code",
      "execution_count": 27,
      "metadata": {
        "colab": {
          "base_uri": "https://localhost:8080/"
        },
        "id": "WY13pCIUHmgj",
        "outputId": "07e5e695-d197-4d8a-dbbe-7a09e368690f"
      },
      "outputs": [
        {
          "data": {
            "text/plain": [
              "(5+0j)"
            ]
          },
          "execution_count": 27,
          "metadata": {},
          "output_type": "execute_result"
        }
      ],
      "source": [
        "num = complex(5)\n",
        "num"
      ]
    },
    {
      "cell_type": "code",
      "execution_count": 28,
      "metadata": {
        "id": "yXv5DQrGH2T5"
      },
      "outputs": [],
      "source": [
        "# complex:- \n",
        "\n",
        "x = 2+3j "
      ]
    },
    {
      "cell_type": "code",
      "execution_count": 29,
      "metadata": {
        "colab": {
          "base_uri": "https://localhost:8080/"
        },
        "id": "6glC-F-AILPz",
        "outputId": "85b4ccca-d340-49a4-9906-3192b8cc7360"
      },
      "outputs": [
        {
          "data": {
            "text/plain": [
              "complex"
            ]
          },
          "execution_count": 29,
          "metadata": {},
          "output_type": "execute_result"
        }
      ],
      "source": [
        "type(x)"
      ]
    },
    {
      "cell_type": "code",
      "execution_count": 33,
      "metadata": {
        "id": "ygBGs5LgIMfo"
      },
      "outputs": [],
      "source": [
        "y= complex(34,3) "
      ]
    },
    {
      "cell_type": "code",
      "execution_count": 34,
      "metadata": {
        "colab": {
          "base_uri": "https://localhost:8080/"
        },
        "id": "SrPxOfw7IQLh",
        "outputId": "c8dc4595-b9c0-4832-a076-ce2ccb1a640a"
      },
      "outputs": [
        {
          "data": {
            "text/plain": [
              "(34+3j)"
            ]
          },
          "execution_count": 34,
          "metadata": {},
          "output_type": "execute_result"
        }
      ],
      "source": [
        "y"
      ]
    },
    {
      "cell_type": "code",
      "execution_count": 35,
      "metadata": {
        "colab": {
          "base_uri": "https://localhost:8080/"
        },
        "id": "5Y6BpprGIQg0",
        "outputId": "e0630f35-549f-4a48-8337-f462c24f6c8f"
      },
      "outputs": [
        {
          "data": {
            "text/plain": [
              "complex"
            ]
          },
          "execution_count": 35,
          "metadata": {},
          "output_type": "execute_result"
        }
      ],
      "source": [
        "type(y)"
      ]
    },
    {
      "cell_type": "code",
      "execution_count": 36,
      "metadata": {
        "id": "cBskHjnxIRz1"
      },
      "outputs": [],
      "source": [
        "z=x + y"
      ]
    },
    {
      "cell_type": "code",
      "execution_count": 37,
      "metadata": {
        "colab": {
          "base_uri": "https://localhost:8080/"
        },
        "id": "cMifhm_6IWqM",
        "outputId": "b71fc5b0-288a-4df0-98bb-8e22b8f7a7d5"
      },
      "outputs": [
        {
          "data": {
            "text/plain": [
              "(36+6j)"
            ]
          },
          "execution_count": 37,
          "metadata": {},
          "output_type": "execute_result"
        }
      ],
      "source": [
        "z"
      ]
    },
    {
      "cell_type": "code",
      "execution_count": 38,
      "metadata": {
        "id": "ZRnvbqePIX4x"
      },
      "outputs": [],
      "source": [
        "# 6, 7 \n",
        "df = 6 + 7j"
      ]
    },
    {
      "cell_type": "code",
      "execution_count": 39,
      "metadata": {
        "colab": {
          "base_uri": "https://localhost:8080/"
        },
        "id": "0XVcplj9IjoE",
        "outputId": "a0766ae7-b97b-4d22-f093-b36350878724"
      },
      "outputs": [
        {
          "data": {
            "text/plain": [
              "(6+7j)"
            ]
          },
          "execution_count": 39,
          "metadata": {},
          "output_type": "execute_result"
        }
      ],
      "source": [
        "df"
      ]
    },
    {
      "cell_type": "code",
      "execution_count": 40,
      "metadata": {
        "colab": {
          "base_uri": "https://localhost:8080/"
        },
        "id": "D0JnwOiXIkGa",
        "outputId": "d18c7396-392b-48d2-9582-a00d26b78422"
      },
      "outputs": [
        {
          "data": {
            "text/plain": [
              "complex"
            ]
          },
          "execution_count": 40,
          "metadata": {},
          "output_type": "execute_result"
        }
      ],
      "source": [
        "type(df)"
      ]
    },
    {
      "cell_type": "code",
      "execution_count": 41,
      "metadata": {
        "colab": {
          "base_uri": "https://localhost:8080/"
        },
        "id": "rchHeZNkIlBq",
        "outputId": "4fd6ab9d-3e09-4a0b-f7ac-9900312ca98f"
      },
      "outputs": [
        {
          "data": {
            "text/plain": [
              "complex"
            ]
          },
          "execution_count": 41,
          "metadata": {},
          "output_type": "execute_result"
        }
      ],
      "source": [
        "vibhuti = 4+3j\n",
        "type(vibhuti)"
      ]
    },
    {
      "cell_type": "code",
      "execution_count": 42,
      "metadata": {
        "colab": {
          "base_uri": "https://localhost:8080/"
        },
        "id": "Z0_i0arHIrPJ",
        "outputId": "15adc012-c4ee-476a-ac91-bf431c62a188"
      },
      "outputs": [
        {
          "data": {
            "text/plain": [
              "(4+3j)"
            ]
          },
          "execution_count": 42,
          "metadata": {},
          "output_type": "execute_result"
        }
      ],
      "source": [
        "vibhuti"
      ]
    },
    {
      "cell_type": "code",
      "execution_count": 43,
      "metadata": {
        "id": "HUcAe-wZIsd8"
      },
      "outputs": [],
      "source": [
        "num = 34\n",
        "df = 34"
      ]
    },
    {
      "cell_type": "code",
      "execution_count": 44,
      "metadata": {
        "colab": {
          "base_uri": "https://localhost:8080/"
        },
        "id": "8l87VZr2I9Pr",
        "outputId": "c1a2df13-4360-4035-c0d8-59d74d17fdaf"
      },
      "outputs": [
        {
          "data": {
            "text/plain": [
              "140621099474256"
            ]
          },
          "execution_count": 44,
          "metadata": {},
          "output_type": "execute_result"
        }
      ],
      "source": [
        "id(num)"
      ]
    },
    {
      "cell_type": "code",
      "execution_count": 45,
      "metadata": {
        "colab": {
          "base_uri": "https://localhost:8080/"
        },
        "id": "d3fvymWcJNvD",
        "outputId": "57de94a3-c22a-4888-fd49-e8a6cbe09247"
      },
      "outputs": [
        {
          "data": {
            "text/plain": [
              "140621099474256"
            ]
          },
          "execution_count": 45,
          "metadata": {},
          "output_type": "execute_result"
        }
      ],
      "source": [
        "id(df)"
      ]
    },
    {
      "cell_type": "code",
      "execution_count": null,
      "metadata": {
        "id": "ZmfuvJGMJO7e"
      },
      "outputs": [],
      "source": [
        "# sequence Data-type\n",
        "# 1. string\n",
        "# 2. bytes \n",
        "# 3. bytearray \n",
        "# 4. list \n",
        "# 5. tuple\n",
        "# 6. range"
      ]
    }
  ],
  "metadata": {
    "colab": {
      "provenance": []
    },
    "kernelspec": {
      "display_name": "Python 3",
      "name": "python3"
    },
    "language_info": {
      "name": "python"
    }
  },
  "nbformat": 4,
  "nbformat_minor": 0
}
