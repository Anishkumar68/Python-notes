{
  "nbformat": 4,
  "nbformat_minor": 0,
  "metadata": {
    "colab": {
      "provenance": []
    },
    "kernelspec": {
      "name": "python3",
      "display_name": "Python 3"
    },
    "language_info": {
      "name": "python"
    }
  },
  "cells": [
    {
      "cell_type": "code",
      "execution_count": null,
      "metadata": {
        "id": "3IhSCs6t24sv"
      },
      "outputs": [],
      "source": [
        "# output-function - print()\n",
        "# input-function - input()"
      ]
    },
    {
      "cell_type": "code",
      "source": [
        "n1 = 20\n",
        "n2 = 10 \n",
        "\n",
        "add = n1 + n2  \n",
        "\n",
        "# Addition = add \n",
        "print(\"Addition = \",add) "
      ],
      "metadata": {
        "colab": {
          "base_uri": "https://localhost:8080/"
        },
        "id": "vnJs8g34bKbR",
        "outputId": "e211f68a-1f11-4f33-e5ec-0cf2611f8221"
      },
      "execution_count": null,
      "outputs": [
        {
          "output_type": "stream",
          "name": "stdout",
          "text": [
            "Addition =  30\n"
          ]
        }
      ]
    },
    {
      "cell_type": "code",
      "source": [
        "print(\"Addition = \",n1+n2) "
      ],
      "metadata": {
        "colab": {
          "base_uri": "https://localhost:8080/"
        },
        "id": "9uqjmgs2bKiz",
        "outputId": "3d3c5fcc-9335-4493-ab3f-0d5b222e7353"
      },
      "execution_count": null,
      "outputs": [
        {
          "output_type": "stream",
          "name": "stdout",
          "text": [
            "Addition =  30\n"
          ]
        }
      ]
    },
    {
      "cell_type": "code",
      "source": [
        "print(\"Addition of n1 and n2 is \",n1+n2)"
      ],
      "metadata": {
        "colab": {
          "base_uri": "https://localhost:8080/"
        },
        "id": "fvexgqFrbKo6",
        "outputId": "bc25a06b-f536-4bfb-988a-42c3f1cd8f46"
      },
      "execution_count": null,
      "outputs": [
        {
          "output_type": "stream",
          "name": "stdout",
          "text": [
            "Addition of n1 and n2 is  30\n"
          ]
        }
      ]
    },
    {
      "cell_type": "code",
      "source": [
        "print(\"Addition of \",n1,\" and \",n2,\" is \",n1+n2)"
      ],
      "metadata": {
        "colab": {
          "base_uri": "https://localhost:8080/"
        },
        "id": "yw9u0avvbKvL",
        "outputId": "71a21262-44c8-4c8c-d539-85cb39bbd246"
      },
      "execution_count": null,
      "outputs": [
        {
          "output_type": "stream",
          "name": "stdout",
          "text": [
            "Addition of  20  and  10  is  30\n"
          ]
        }
      ]
    },
    {
      "cell_type": "code",
      "source": [
        "n1 = 10\n",
        "n2 = 20 "
      ],
      "metadata": {
        "id": "aBu0riwG6krG"
      },
      "execution_count": null,
      "outputs": []
    },
    {
      "cell_type": "code",
      "source": [
        "print(\"Addition of {2} and {1} is {0}\".format(n2,n1,n1+n2))"
      ],
      "metadata": {
        "colab": {
          "base_uri": "https://localhost:8080/"
        },
        "id": "NU113VhfbK5J",
        "outputId": "d011e5cd-936a-4f08-d3e4-cedaf03fe5f8"
      },
      "execution_count": null,
      "outputs": [
        {
          "output_type": "stream",
          "name": "stdout",
          "text": [
            "Addition of 10 and 20 is 30\n"
          ]
        }
      ]
    },
    {
      "cell_type": "code",
      "source": [
        "print(\"Addition  of {} and {} is {}\".format(n1,n2,n1+n2))"
      ],
      "metadata": {
        "colab": {
          "base_uri": "https://localhost:8080/"
        },
        "id": "TzAe6tYtbK-h",
        "outputId": "b0e49bc2-6035-481e-9c89-a2e9896d8542"
      },
      "execution_count": null,
      "outputs": [
        {
          "output_type": "stream",
          "name": "stdout",
          "text": [
            "Addition  of 20 and 10 is 30\n"
          ]
        }
      ]
    },
    {
      "cell_type": "code",
      "source": [
        "print(f\"Addition of {n1} and {n2} is {n1+n2} \") "
      ],
      "metadata": {
        "colab": {
          "base_uri": "https://localhost:8080/"
        },
        "id": "z4ey3SRVbLDM",
        "outputId": "7ef26067-6881-4b1f-e8d8-5b9fea5b32f2"
      },
      "execution_count": null,
      "outputs": [
        {
          "output_type": "stream",
          "name": "stdout",
          "text": [
            "Addition of 20 and 10 is 30\n"
          ]
        }
      ]
    },
    {
      "cell_type": "code",
      "source": [
        "print(f\"Addition = {n1+n2} \\nSubtraction = {n1-n2} \\nMulplication = {n1*n2} \\nDivision = {n1/n2}\")"
      ],
      "metadata": {
        "colab": {
          "base_uri": "https://localhost:8080/"
        },
        "id": "CYpL1fzCbLIc",
        "outputId": "7b4d66df-66bb-468b-a61d-3ec64d6a6c0d"
      },
      "execution_count": null,
      "outputs": [
        {
          "output_type": "stream",
          "name": "stdout",
          "text": [
            "Addition = 30 \n",
            "Subtraction = 10 \n",
            "Mulplication = 200 \n",
            "Division = 2.0\n"
          ]
        }
      ]
    },
    {
      "cell_type": "code",
      "source": [
        "fn= 'john' \n",
        "ln = 'Prasad' \n",
        "\n",
        "#hii, Mr John Prasad "
      ],
      "metadata": {
        "id": "3nzhU_Hd6XAp"
      },
      "execution_count": null,
      "outputs": []
    },
    {
      "cell_type": "code",
      "source": [
        "print(f' Hii, {fn} {ln} ')"
      ],
      "metadata": {
        "colab": {
          "base_uri": "https://localhost:8080/"
        },
        "id": "kCqnw-ut6XKV",
        "outputId": "5b7fbf6d-5a93-4134-ca3a-babf0604fd2e"
      },
      "execution_count": null,
      "outputs": [
        {
          "output_type": "stream",
          "name": "stdout",
          "text": [
            " Hii, john Prasad \n"
          ]
        }
      ]
    },
    {
      "cell_type": "code",
      "source": [
        "# input() \n",
        "num = input(\"Dear User Enter your Name:- \") "
      ],
      "metadata": {
        "colab": {
          "base_uri": "https://localhost:8080/"
        },
        "id": "EC2J234D6XSW",
        "outputId": "c951b8de-300e-4153-e357-73375bccf742"
      },
      "execution_count": null,
      "outputs": [
        {
          "name": "stdout",
          "output_type": "stream",
          "text": [
            "Dear User Enter your Name:- 890\n"
          ]
        }
      ]
    },
    {
      "cell_type": "code",
      "source": [
        "num"
      ],
      "metadata": {
        "colab": {
          "base_uri": "https://localhost:8080/",
          "height": 35
        },
        "id": "Y3trhlQV6Xah",
        "outputId": "61e59307-dfb1-49ef-cdee-afc262a430a3"
      },
      "execution_count": null,
      "outputs": [
        {
          "output_type": "execute_result",
          "data": {
            "text/plain": [
              "'890'"
            ],
            "application/vnd.google.colaboratory.intrinsic+json": {
              "type": "string"
            }
          },
          "metadata": {},
          "execution_count": 16
        }
      ]
    },
    {
      "cell_type": "code",
      "source": [
        "type(num)"
      ],
      "metadata": {
        "colab": {
          "base_uri": "https://localhost:8080/"
        },
        "id": "ziU_ecaa6Xjd",
        "outputId": "6d70cc28-cdf6-4ef3-a76a-a6e0d02972c8"
      },
      "execution_count": null,
      "outputs": [
        {
          "output_type": "execute_result",
          "data": {
            "text/plain": [
              "str"
            ]
          },
          "metadata": {},
          "execution_count": 17
        }
      ]
    },
    {
      "cell_type": "code",
      "source": [
        "num = int(num)"
      ],
      "metadata": {
        "id": "v8jqbNuZ6XqF"
      },
      "execution_count": null,
      "outputs": []
    },
    {
      "cell_type": "code",
      "source": [
        "num"
      ],
      "metadata": {
        "colab": {
          "base_uri": "https://localhost:8080/"
        },
        "id": "g2cov7d-6Xtf",
        "outputId": "d9d2793b-e41d-47ec-93bf-aa2d2c3ecd12"
      },
      "execution_count": null,
      "outputs": [
        {
          "output_type": "execute_result",
          "data": {
            "text/plain": [
              "890"
            ]
          },
          "metadata": {},
          "execution_count": 19
        }
      ]
    },
    {
      "cell_type": "code",
      "source": [
        "type(num)"
      ],
      "metadata": {
        "colab": {
          "base_uri": "https://localhost:8080/"
        },
        "id": "zkh6fylf6X9r",
        "outputId": "fdcb516e-55d5-49d1-e3aa-d3b8b5f801f2"
      },
      "execution_count": null,
      "outputs": [
        {
          "output_type": "execute_result",
          "data": {
            "text/plain": [
              "int"
            ]
          },
          "metadata": {},
          "execution_count": 20
        }
      ]
    },
    {
      "cell_type": "code",
      "source": [
        "# input() "
      ],
      "metadata": {
        "id": "A5P2zIuCbLPD"
      },
      "execution_count": null,
      "outputs": []
    },
    {
      "cell_type": "code",
      "source": [
        "num = float(input(\"Enter your Age :- \"))"
      ],
      "metadata": {
        "colab": {
          "base_uri": "https://localhost:8080/"
        },
        "id": "3mMo0oS28J0W",
        "outputId": "7449c113-ed4b-4458-d0e2-805bff06dd6a"
      },
      "execution_count": null,
      "outputs": [
        {
          "name": "stdout",
          "output_type": "stream",
          "text": [
            "Enter your Age :- 45.3\n"
          ]
        }
      ]
    },
    {
      "cell_type": "code",
      "source": [
        "type(num)"
      ],
      "metadata": {
        "colab": {
          "base_uri": "https://localhost:8080/"
        },
        "id": "Ce5yU9958J-u",
        "outputId": "859e9400-40e6-46c0-f53c-bda281993a7f"
      },
      "execution_count": null,
      "outputs": [
        {
          "output_type": "execute_result",
          "data": {
            "text/plain": [
              "float"
            ]
          },
          "metadata": {},
          "execution_count": 25
        }
      ]
    },
    {
      "cell_type": "code",
      "source": [
        "num"
      ],
      "metadata": {
        "colab": {
          "base_uri": "https://localhost:8080/"
        },
        "id": "ABiuldmR8qAn",
        "outputId": "b3aa45d1-7205-49da-c063-3e1fb2edc542"
      },
      "execution_count": null,
      "outputs": [
        {
          "output_type": "execute_result",
          "data": {
            "text/plain": [
              "45.3"
            ]
          },
          "metadata": {},
          "execution_count": 26
        }
      ]
    },
    {
      "cell_type": "code",
      "source": [
        "nm = input(\"Dear User, Enter your Name Please :- \")\n",
        "num1 = int(input(f'Dear {nm}, please Enter 1st Number = '))\n",
        "num2 = int(input(f'Dear {nm}, please Enter 2nd Number = '))\n",
        "\n",
        "print(f\"Dear {nm},Please find Following Operation \\n1.Addition = {num1+num2} \\n2.Subtraction = {num1-num2} \\n3.Division ={num1/num2}\") "
      ],
      "metadata": {
        "colab": {
          "base_uri": "https://localhost:8080/"
        },
        "id": "QPNpM0H58x8K",
        "outputId": "1e6fba0c-fe87-43d6-a8ad-9144054c6860"
      },
      "execution_count": null,
      "outputs": [
        {
          "output_type": "stream",
          "name": "stdout",
          "text": [
            "Dear User, Enter your Name Please :- Mohan\n",
            "Dear Mohan, please Enter 1st Number = 45\n",
            "Dear Mohan, please Enter 2nd Number = 15\n",
            "Dear Mohan,Please find Following Operation \n",
            "1.Addition = 60 \n",
            "2.Subtraction = 30 \n",
            "3.Division =3.0\n"
          ]
        }
      ]
    },
    {
      "cell_type": "code",
      "source": [],
      "metadata": {
        "id": "XaHxglBs81V5"
      },
      "execution_count": null,
      "outputs": []
    },
    {
      "cell_type": "markdown",
      "source": [
        "**operator** \n",
        "\n",
        "Types of Operator \n",
        " \n",
        " 1.unary:- which uses single operand at a time. E.g:- (- , ~) \n",
        "\n",
        " 2.Binary :-  which uses two operands \n",
        "     (+,-,*,//,/)\n",
        "\n",
        " 3.Ternary :-   \n",
        " condition : statement1 ? statement2  \n"
      ],
      "metadata": {
        "id": "N6_jZ3kS_0wA"
      }
    },
    {
      "cell_type": "code",
      "source": [
        "x=10"
      ],
      "metadata": {
        "id": "e5Ky9ThT_bZq"
      },
      "execution_count": null,
      "outputs": []
    },
    {
      "cell_type": "code",
      "source": [
        "-x"
      ],
      "metadata": {
        "colab": {
          "base_uri": "https://localhost:8080/"
        },
        "id": "ygPJ4nO3_bfg",
        "outputId": "b19d11e6-2a2f-4bd1-8b48-66b73da71f5d"
      },
      "execution_count": null,
      "outputs": [
        {
          "output_type": "execute_result",
          "data": {
            "text/plain": [
              "-10"
            ]
          },
          "metadata": {},
          "execution_count": 34
        }
      ]
    },
    {
      "cell_type": "code",
      "source": [
        "~x"
      ],
      "metadata": {
        "colab": {
          "base_uri": "https://localhost:8080/"
        },
        "id": "y0vBIXIT_JER",
        "outputId": "9f872679-ff63-42bd-8ee0-0eeffeb189e4"
      },
      "execution_count": null,
      "outputs": [
        {
          "output_type": "execute_result",
          "data": {
            "text/plain": [
              "-11"
            ]
          },
          "metadata": {},
          "execution_count": 35
        }
      ]
    },
    {
      "cell_type": "code",
      "source": [],
      "metadata": {
        "id": "yV_7KIkj81k_"
      },
      "execution_count": null,
      "outputs": []
    },
    {
      "cell_type": "markdown",
      "source": [
        "**Behalf of Nature Operands divided in in following subpart** \n",
        "\n",
        "1. Airthmetic operator(+,-,*,/,//,%,**)\n",
        "\n",
        "2. Assignment operator(=,+=,-=,*=,/=,//=,%=,**=)\n",
        "\n",
        "3. Relational Opertor( ==, < ,<= ,>, >=, !=) \n",
        "\n",
        "4. Logical Operator (and, or, not)\n",
        "\n",
        "5. Boolean Operator( and , or, not) \n",
        "\n",
        "6. Bitwise Opertor(~ , & , | , << ,>>) \n",
        "\n",
        "7. Membership Operator (in , not in) \n",
        "\n",
        "8. identity Operator (is , is not)  \n",
        "\n",
        "9. Uniary Minus Operator ( - )"
      ],
      "metadata": {
        "id": "uFGFF-lOC90-"
      }
    },
    {
      "cell_type": "code",
      "source": [
        "# Airthmatic operator  \n",
        "# + , - ,*  ,/ \n",
        "# / - True Division operator \n",
        "n1=32 \n",
        "n2 =7 \n",
        "\n",
        "n1 / n2  "
      ],
      "metadata": {
        "id": "lrJxtyQc81qq",
        "colab": {
          "base_uri": "https://localhost:8080/"
        },
        "outputId": "e0360926-521a-4e50-b126-7590b7484f00"
      },
      "execution_count": 1,
      "outputs": [
        {
          "output_type": "execute_result",
          "data": {
            "text/plain": [
              "4.571428571428571"
            ]
          },
          "metadata": {},
          "execution_count": 1
        }
      ]
    },
    {
      "cell_type": "code",
      "source": [
        "n1 // n2 "
      ],
      "metadata": {
        "id": "gc1S_lAn81v3",
        "colab": {
          "base_uri": "https://localhost:8080/"
        },
        "outputId": "0bbbb38b-05a3-4b32-bb73-991f3f6a15eb"
      },
      "execution_count": 2,
      "outputs": [
        {
          "output_type": "execute_result",
          "data": {
            "text/plain": [
              "4"
            ]
          },
          "metadata": {},
          "execution_count": 2
        }
      ]
    },
    {
      "cell_type": "code",
      "source": [
        "n1 % n2 "
      ],
      "metadata": {
        "id": "cvl9tZr4818Z",
        "colab": {
          "base_uri": "https://localhost:8080/"
        },
        "outputId": "cac14900-6551-43e8-adef-50d668c0fbb1"
      },
      "execution_count": 3,
      "outputs": [
        {
          "output_type": "execute_result",
          "data": {
            "text/plain": [
              "4"
            ]
          },
          "metadata": {},
          "execution_count": 3
        }
      ]
    },
    {
      "cell_type": "code",
      "source": [
        "8 % 4 "
      ],
      "metadata": {
        "id": "6g36waZb8yGy",
        "colab": {
          "base_uri": "https://localhost:8080/"
        },
        "outputId": "3e52b5f5-b381-4333-dfed-ce8f9f998baa"
      },
      "execution_count": 4,
      "outputs": [
        {
          "output_type": "execute_result",
          "data": {
            "text/plain": [
              "0"
            ]
          },
          "metadata": {},
          "execution_count": 4
        }
      ]
    },
    {
      "cell_type": "code",
      "source": [
        "# ** \n",
        "4 ** 2"
      ],
      "metadata": {
        "id": "FgXjCXG-8yN3",
        "colab": {
          "base_uri": "https://localhost:8080/"
        },
        "outputId": "5d70c062-46de-4bdf-d7b2-f48c9e5d31dd"
      },
      "execution_count": 5,
      "outputs": [
        {
          "output_type": "execute_result",
          "data": {
            "text/plain": [
              "16"
            ]
          },
          "metadata": {},
          "execution_count": 5
        }
      ]
    },
    {
      "cell_type": "code",
      "source": [
        "2 ** 4"
      ],
      "metadata": {
        "colab": {
          "base_uri": "https://localhost:8080/"
        },
        "id": "_akYGGWM-y8a",
        "outputId": "186e53f0-2df5-44b6-fe64-a3b5ae907b5d"
      },
      "execution_count": 6,
      "outputs": [
        {
          "output_type": "execute_result",
          "data": {
            "text/plain": [
              "16"
            ]
          },
          "metadata": {},
          "execution_count": 6
        }
      ]
    },
    {
      "cell_type": "code",
      "source": [
        "4 ** 3"
      ],
      "metadata": {
        "colab": {
          "base_uri": "https://localhost:8080/"
        },
        "id": "qQKMMKsz-zCo",
        "outputId": "57c6d1cb-d1c6-47bf-ef09-206c764832c2"
      },
      "execution_count": 7,
      "outputs": [
        {
          "output_type": "execute_result",
          "data": {
            "text/plain": [
              "64"
            ]
          },
          "metadata": {},
          "execution_count": 7
        }
      ]
    },
    {
      "cell_type": "code",
      "source": [
        "# Assignment Operator :- \n",
        "num1 = 60"
      ],
      "metadata": {
        "id": "SVeEGUXP-zHk"
      },
      "execution_count": 8,
      "outputs": []
    },
    {
      "cell_type": "code",
      "source": [
        "num1"
      ],
      "metadata": {
        "colab": {
          "base_uri": "https://localhost:8080/"
        },
        "id": "R9U_2uzb-zKt",
        "outputId": "90db69d7-0f89-45e2-8978-67ea2e2227e6"
      },
      "execution_count": 9,
      "outputs": [
        {
          "output_type": "execute_result",
          "data": {
            "text/plain": [
              "60"
            ]
          },
          "metadata": {},
          "execution_count": 9
        }
      ]
    },
    {
      "cell_type": "code",
      "source": [
        "# num1 = num1 + 50 \n",
        "num1 += 50 "
      ],
      "metadata": {
        "id": "f4N2bpmN-zOB"
      },
      "execution_count": 10,
      "outputs": []
    },
    {
      "cell_type": "code",
      "source": [
        "num1"
      ],
      "metadata": {
        "colab": {
          "base_uri": "https://localhost:8080/"
        },
        "id": "dqkKXFre_Jf5",
        "outputId": "2e547d8f-9d58-44b9-e54d-449fd73e3bf8"
      },
      "execution_count": 11,
      "outputs": [
        {
          "output_type": "execute_result",
          "data": {
            "text/plain": [
              "110"
            ]
          },
          "metadata": {},
          "execution_count": 11
        }
      ]
    },
    {
      "cell_type": "code",
      "source": [
        "# -= \n",
        "#num1 = num1 - 60 \n",
        "num1 -= 60 "
      ],
      "metadata": {
        "id": "mlnxqau7_Ji3"
      },
      "execution_count": 12,
      "outputs": []
    },
    {
      "cell_type": "code",
      "source": [
        "num1"
      ],
      "metadata": {
        "colab": {
          "base_uri": "https://localhost:8080/"
        },
        "id": "L1xywnoM_Jlq",
        "outputId": "09cb4815-315c-4a2b-90ec-baf7d3cc8441"
      },
      "execution_count": 13,
      "outputs": [
        {
          "output_type": "execute_result",
          "data": {
            "text/plain": [
              "50"
            ]
          },
          "metadata": {},
          "execution_count": 13
        }
      ]
    },
    {
      "cell_type": "code",
      "source": [
        "# Relational Operator \n",
        "\n",
        "num1 = 20 \n",
        "\n",
        "num1 < 10 "
      ],
      "metadata": {
        "colab": {
          "base_uri": "https://localhost:8080/"
        },
        "id": "bhtnc3yH_JpC",
        "outputId": "5fc6515b-c47e-48ab-9c19-4c9fece123ef"
      },
      "execution_count": 14,
      "outputs": [
        {
          "output_type": "execute_result",
          "data": {
            "text/plain": [
              "False"
            ]
          },
          "metadata": {},
          "execution_count": 14
        }
      ]
    },
    {
      "cell_type": "code",
      "source": [
        "num1 > 10 "
      ],
      "metadata": {
        "colab": {
          "base_uri": "https://localhost:8080/"
        },
        "id": "p3QqxHIl_JsH",
        "outputId": "e092c0a1-0f3c-4426-97d5-54b69e9dbda9"
      },
      "execution_count": 15,
      "outputs": [
        {
          "output_type": "execute_result",
          "data": {
            "text/plain": [
              "True"
            ]
          },
          "metadata": {},
          "execution_count": 15
        }
      ]
    },
    {
      "cell_type": "code",
      "source": [
        "num2 = 20 \n",
        "\n",
        "num1 <= num2"
      ],
      "metadata": {
        "colab": {
          "base_uri": "https://localhost:8080/"
        },
        "id": "LJET_4VY_Jur",
        "outputId": "303701b8-b010-4804-e928-2c0b22dc45ba"
      },
      "execution_count": 16,
      "outputs": [
        {
          "output_type": "execute_result",
          "data": {
            "text/plain": [
              "True"
            ]
          },
          "metadata": {},
          "execution_count": 16
        }
      ]
    },
    {
      "cell_type": "code",
      "source": [
        "num3 = 70\n",
        "\n",
        "num3 >= num1"
      ],
      "metadata": {
        "colab": {
          "base_uri": "https://localhost:8080/"
        },
        "id": "tSYJvP1S_Jxa",
        "outputId": "6ab50812-508c-4df7-fce0-b18a1db251c5"
      },
      "execution_count": 17,
      "outputs": [
        {
          "output_type": "execute_result",
          "data": {
            "text/plain": [
              "True"
            ]
          },
          "metadata": {},
          "execution_count": 17
        }
      ]
    },
    {
      "cell_type": "code",
      "source": [
        "num1 == num2 "
      ],
      "metadata": {
        "colab": {
          "base_uri": "https://localhost:8080/"
        },
        "id": "il6QJsjT_Jz-",
        "outputId": "20fc0e58-c0d0-4f15-f9d0-383c614fe6b4"
      },
      "execution_count": 19,
      "outputs": [
        {
          "output_type": "execute_result",
          "data": {
            "text/plain": [
              "True"
            ]
          },
          "metadata": {},
          "execution_count": 19
        }
      ]
    },
    {
      "cell_type": "code",
      "source": [
        "# unary Minus opertor(-)\n",
        "num1"
      ],
      "metadata": {
        "id": "WBdAsWGK8yXN",
        "colab": {
          "base_uri": "https://localhost:8080/"
        },
        "outputId": "a6a25a12-8094-4b14-b8b7-461dd49ebac6"
      },
      "execution_count": 20,
      "outputs": [
        {
          "output_type": "execute_result",
          "data": {
            "text/plain": [
              "20"
            ]
          },
          "metadata": {},
          "execution_count": 20
        }
      ]
    },
    {
      "cell_type": "code",
      "source": [
        "-num1"
      ],
      "metadata": {
        "colab": {
          "base_uri": "https://localhost:8080/"
        },
        "id": "ANMek0qMA0wq",
        "outputId": "c1753fa2-6f60-47ba-ec89-2cfabbf92c64"
      },
      "execution_count": 21,
      "outputs": [
        {
          "output_type": "execute_result",
          "data": {
            "text/plain": [
              "-20"
            ]
          },
          "metadata": {},
          "execution_count": 21
        }
      ]
    },
    {
      "cell_type": "code",
      "source": [
        "# Logical operator(and, or , not)\n",
        "num1=20\n",
        "num2=45\n",
        "\n",
        "num1 < num2 and  num1 > num2"
      ],
      "metadata": {
        "colab": {
          "base_uri": "https://localhost:8080/"
        },
        "id": "yO7zXfidA0z6",
        "outputId": "8a63f6b4-66df-4eab-f503-7902e311120a"
      },
      "execution_count": 22,
      "outputs": [
        {
          "output_type": "execute_result",
          "data": {
            "text/plain": [
              "False"
            ]
          },
          "metadata": {},
          "execution_count": 22
        }
      ]
    },
    {
      "cell_type": "code",
      "source": [
        "num1 <= num2 and num2>=num1 "
      ],
      "metadata": {
        "colab": {
          "base_uri": "https://localhost:8080/"
        },
        "id": "xWJ51fuSA03C",
        "outputId": "32ec8bcb-a964-4c79-889d-c0c1434166a8"
      },
      "execution_count": 23,
      "outputs": [
        {
          "output_type": "execute_result",
          "data": {
            "text/plain": [
              "True"
            ]
          },
          "metadata": {},
          "execution_count": 23
        }
      ]
    },
    {
      "cell_type": "code",
      "source": [
        "# or \n",
        "num1< num2 or num1>=num2 "
      ],
      "metadata": {
        "colab": {
          "base_uri": "https://localhost:8080/"
        },
        "id": "Dzg9tqyeA08Y",
        "outputId": "3f5fcac0-9449-48aa-9626-e658f35da88b"
      },
      "execution_count": 24,
      "outputs": [
        {
          "output_type": "execute_result",
          "data": {
            "text/plain": [
              "True"
            ]
          },
          "metadata": {},
          "execution_count": 24
        }
      ]
    },
    {
      "cell_type": "code",
      "source": [
        "not(num1< num2 or num1>=num2 )"
      ],
      "metadata": {
        "colab": {
          "base_uri": "https://localhost:8080/"
        },
        "id": "7DxUOi7DA0_g",
        "outputId": "2a0beb52-9190-4a70-ad8a-d1c640836c08"
      },
      "execution_count": 25,
      "outputs": [
        {
          "output_type": "execute_result",
          "data": {
            "text/plain": [
              "False"
            ]
          },
          "metadata": {},
          "execution_count": 25
        }
      ]
    },
    {
      "cell_type": "code",
      "source": [
        "# and \n",
        "# or \n",
        "# not "
      ],
      "metadata": {
        "id": "LYsURUxMA1C3"
      },
      "execution_count": null,
      "outputs": []
    },
    {
      "cell_type": "code",
      "source": [
        "# Airthmetic\n",
        "\n",
        "# bracket \n",
        "# ** \n",
        "# * or / \n",
        "# +, -\n",
        "# = "
      ],
      "metadata": {
        "id": "7wEjyv5TA1Fh"
      },
      "execution_count": null,
      "outputs": []
    },
    {
      "cell_type": "code",
      "source": [
        "num1 = 20 + 4**2 / 5*6*(4**2) "
      ],
      "metadata": {
        "id": "EuhOSO_98KJI"
      },
      "execution_count": 27,
      "outputs": []
    },
    {
      "cell_type": "code",
      "source": [
        "num1"
      ],
      "metadata": {
        "colab": {
          "base_uri": "https://localhost:8080/"
        },
        "id": "Me-07nZhCe7F",
        "outputId": "f6a0c08e-ecab-4aff-c46e-9e781b85371c"
      },
      "execution_count": 28,
      "outputs": [
        {
          "output_type": "execute_result",
          "data": {
            "text/plain": [
              "327.20000000000005"
            ]
          },
          "metadata": {},
          "execution_count": 28
        }
      ]
    },
    {
      "cell_type": "code",
      "source": [
        "num1 = 20 \n",
        "num2 = 0 \n",
        "\n",
        "num1 and num2 "
      ],
      "metadata": {
        "colab": {
          "base_uri": "https://localhost:8080/"
        },
        "id": "8VNjB0OuCe-l",
        "outputId": "31c96246-2ddc-4bdf-d5f4-72d066fb7138"
      },
      "execution_count": 29,
      "outputs": [
        {
          "output_type": "execute_result",
          "data": {
            "text/plain": [
              "0"
            ]
          },
          "metadata": {},
          "execution_count": 29
        }
      ]
    },
    {
      "cell_type": "code",
      "source": [
        "# if x is true then it return y otherewise x \n",
        "x=20\n",
        "y=0 "
      ],
      "metadata": {
        "id": "BnbbQPSrDRKX"
      },
      "execution_count": 30,
      "outputs": []
    },
    {
      "cell_type": "code",
      "source": [
        "x and y "
      ],
      "metadata": {
        "colab": {
          "base_uri": "https://localhost:8080/"
        },
        "id": "QuMdJ6D0DRRl",
        "outputId": "8a3303b7-06d7-430e-a4a5-e6318bc0c485"
      },
      "execution_count": 31,
      "outputs": [
        {
          "output_type": "execute_result",
          "data": {
            "text/plain": [
              "0"
            ]
          },
          "metadata": {},
          "execution_count": 31
        }
      ]
    },
    {
      "cell_type": "code",
      "source": [
        "y and x "
      ],
      "metadata": {
        "colab": {
          "base_uri": "https://localhost:8080/"
        },
        "id": "ePxWBjxRDRWf",
        "outputId": "6bb724fc-176b-46a2-d7ec-d9be14ffde46"
      },
      "execution_count": 32,
      "outputs": [
        {
          "output_type": "execute_result",
          "data": {
            "text/plain": [
              "0"
            ]
          },
          "metadata": {},
          "execution_count": 32
        }
      ]
    },
    {
      "cell_type": "code",
      "source": [
        "n1 = 40\n",
        "n2 = 20 \n",
        "\n",
        "n1 and n2 "
      ],
      "metadata": {
        "colab": {
          "base_uri": "https://localhost:8080/"
        },
        "id": "EfIL3kK2DRaB",
        "outputId": "bf649742-9d5f-46fd-9aec-1ab198bb3418"
      },
      "execution_count": 33,
      "outputs": [
        {
          "output_type": "execute_result",
          "data": {
            "text/plain": [
              "20"
            ]
          },
          "metadata": {},
          "execution_count": 33
        }
      ]
    },
    {
      "cell_type": "code",
      "source": [
        "n2 and n1"
      ],
      "metadata": {
        "colab": {
          "base_uri": "https://localhost:8080/"
        },
        "id": "xUHiFELNDRd3",
        "outputId": "7a015eca-de45-48f4-90f2-fe87f08cb35f"
      },
      "execution_count": 34,
      "outputs": [
        {
          "output_type": "execute_result",
          "data": {
            "text/plain": [
              "40"
            ]
          },
          "metadata": {},
          "execution_count": 34
        }
      ]
    },
    {
      "cell_type": "code",
      "source": [
        "num1 =10\n",
        "num2 = 34 \n",
        "\n",
        "num1 and num2 "
      ],
      "metadata": {
        "colab": {
          "base_uri": "https://localhost:8080/"
        },
        "id": "TMfNyX4LDRhe",
        "outputId": "fa91dacc-8b6f-4cad-950c-e06f82573d05"
      },
      "execution_count": 37,
      "outputs": [
        {
          "output_type": "execute_result",
          "data": {
            "text/plain": [
              "34"
            ]
          },
          "metadata": {},
          "execution_count": 37
        }
      ]
    },
    {
      "cell_type": "code",
      "source": [
        "num2 and num1 "
      ],
      "metadata": {
        "colab": {
          "base_uri": "https://localhost:8080/"
        },
        "id": "01c711ejCfBt",
        "outputId": "322f7b42-34c8-47b4-fcf8-298549745a58"
      },
      "execution_count": 38,
      "outputs": [
        {
          "output_type": "execute_result",
          "data": {
            "text/plain": [
              "10"
            ]
          },
          "metadata": {},
          "execution_count": 38
        }
      ]
    },
    {
      "cell_type": "code",
      "source": [
        "# or operator :- if x is true it returns x otherewise y.\n",
        "x=''\n",
        "y=30 \n",
        "\n",
        "x or y "
      ],
      "metadata": {
        "id": "-V8E3twX8KNX",
        "colab": {
          "base_uri": "https://localhost:8080/"
        },
        "outputId": "daed90f4-444f-420e-f634-95087428e1ef"
      },
      "execution_count": 40,
      "outputs": [
        {
          "output_type": "execute_result",
          "data": {
            "text/plain": [
              "30"
            ]
          },
          "metadata": {},
          "execution_count": 40
        }
      ]
    },
    {
      "cell_type": "code",
      "source": [
        "# not operator \n",
        "num1 =''\n",
        "not num1 "
      ],
      "metadata": {
        "colab": {
          "base_uri": "https://localhost:8080/"
        },
        "id": "6mNAg3uCEjWJ",
        "outputId": "5b873360-d66a-4915-92c0-792c98c01207"
      },
      "execution_count": 41,
      "outputs": [
        {
          "output_type": "execute_result",
          "data": {
            "text/plain": [
              "True"
            ]
          },
          "metadata": {},
          "execution_count": 41
        }
      ]
    },
    {
      "cell_type": "code",
      "source": [
        "num2 =0 \n",
        "not num2 "
      ],
      "metadata": {
        "colab": {
          "base_uri": "https://localhost:8080/"
        },
        "id": "5F0tuHsTEjap",
        "outputId": "fff78666-89d3-44b1-ca22-5f89ebaf020d"
      },
      "execution_count": 42,
      "outputs": [
        {
          "output_type": "execute_result",
          "data": {
            "text/plain": [
              "True"
            ]
          },
          "metadata": {},
          "execution_count": 42
        }
      ]
    },
    {
      "cell_type": "code",
      "source": [
        "x=20 \n",
        "not x"
      ],
      "metadata": {
        "colab": {
          "base_uri": "https://localhost:8080/"
        },
        "id": "1GTZw2zrEjfQ",
        "outputId": "face0ead-ae27-4f4b-d3b3-d1140b5c32a9"
      },
      "execution_count": 43,
      "outputs": [
        {
          "output_type": "execute_result",
          "data": {
            "text/plain": [
              "False"
            ]
          },
          "metadata": {},
          "execution_count": 43
        }
      ]
    },
    {
      "cell_type": "code",
      "source": [
        "20 and 30 "
      ],
      "metadata": {
        "id": "Bva8i9oa8KXt",
        "colab": {
          "base_uri": "https://localhost:8080/"
        },
        "outputId": "bfc5b9f1-99ca-4c1e-e942-aefb91ae4687"
      },
      "execution_count": 44,
      "outputs": [
        {
          "output_type": "execute_result",
          "data": {
            "text/plain": [
              "30"
            ]
          },
          "metadata": {},
          "execution_count": 44
        }
      ]
    },
    {
      "cell_type": "code",
      "source": [
        "'' and 20"
      ],
      "metadata": {
        "colab": {
          "base_uri": "https://localhost:8080/",
          "height": 36
        },
        "id": "tX62YFTxFe8G",
        "outputId": "4c08925d-fdce-4193-aa13-c95a249953bd"
      },
      "execution_count": 45,
      "outputs": [
        {
          "output_type": "execute_result",
          "data": {
            "text/plain": [
              "''"
            ],
            "application/vnd.google.colaboratory.intrinsic+json": {
              "type": "string"
            }
          },
          "metadata": {},
          "execution_count": 45
        }
      ]
    },
    {
      "cell_type": "code",
      "source": [
        "# and operator "
      ],
      "metadata": {
        "id": "-PPznzQIFfBv"
      },
      "execution_count": null,
      "outputs": []
    },
    {
      "cell_type": "code",
      "source": [],
      "metadata": {
        "id": "KA1jzVPzFxfO"
      },
      "execution_count": null,
      "outputs": []
    },
    {
      "cell_type": "code",
      "source": [],
      "metadata": {
        "id": "A0P51KlyFxkX"
      },
      "execution_count": null,
      "outputs": []
    },
    {
      "cell_type": "code",
      "source": [],
      "metadata": {
        "id": "FJ8aLtjsFxo5"
      },
      "execution_count": null,
      "outputs": []
    },
    {
      "cell_type": "code",
      "source": [],
      "metadata": {
        "id": "lQiA2ZknFxtS"
      },
      "execution_count": null,
      "outputs": []
    },
    {
      "cell_type": "code",
      "source": [],
      "metadata": {
        "id": "HJxrs_T2FxyO"
      },
      "execution_count": null,
      "outputs": []
    },
    {
      "cell_type": "code",
      "source": [],
      "metadata": {
        "id": "9jmXD_CPFx2-"
      },
      "execution_count": null,
      "outputs": []
    },
    {
      "cell_type": "code",
      "source": [],
      "metadata": {
        "id": "nd94bPisFx7M"
      },
      "execution_count": null,
      "outputs": []
    },
    {
      "cell_type": "code",
      "source": [],
      "metadata": {
        "id": "rb7MXpt0FyAL"
      },
      "execution_count": null,
      "outputs": []
    },
    {
      "cell_type": "code",
      "source": [],
      "metadata": {
        "id": "lk0uDWZxFyFM"
      },
      "execution_count": null,
      "outputs": []
    },
    {
      "cell_type": "code",
      "source": [],
      "metadata": {
        "id": "s7KqnumHFyJ7"
      },
      "execution_count": null,
      "outputs": []
    },
    {
      "cell_type": "code",
      "source": [],
      "metadata": {
        "id": "9rX0OMN3FyQh"
      },
      "execution_count": null,
      "outputs": []
    },
    {
      "cell_type": "code",
      "source": [],
      "metadata": {
        "id": "6PodW0qfFyVn"
      },
      "execution_count": null,
      "outputs": []
    },
    {
      "cell_type": "code",
      "source": [],
      "metadata": {
        "id": "Z2zgF3qpFyad"
      },
      "execution_count": null,
      "outputs": []
    },
    {
      "cell_type": "code",
      "source": [],
      "metadata": {
        "id": "bqWJ1C2S8Kf8"
      },
      "execution_count": null,
      "outputs": []
    },
    {
      "cell_type": "code",
      "source": [
        "df = input('Dear User, Please Enter your Name - ') "
      ],
      "metadata": {
        "colab": {
          "base_uri": "https://localhost:8080/"
        },
        "id": "PA77VphbfKpX",
        "outputId": "38d25083-26fb-49a2-8001-6e3903d00d5d"
      },
      "execution_count": null,
      "outputs": [
        {
          "name": "stdout",
          "output_type": "stream",
          "text": [
            "Dear User, Please Enter your Name - Aman\n"
          ]
        }
      ]
    },
    {
      "cell_type": "code",
      "source": [
        "df"
      ],
      "metadata": {
        "colab": {
          "base_uri": "https://localhost:8080/",
          "height": 36
        },
        "id": "mTiYbCLJfKvD",
        "outputId": "94341831-2306-455d-ada7-f4a5f9b93dc9"
      },
      "execution_count": null,
      "outputs": [
        {
          "output_type": "execute_result",
          "data": {
            "text/plain": [
              "'Aman'"
            ],
            "application/vnd.google.colaboratory.intrinsic+json": {
              "type": "string"
            }
          },
          "metadata": {},
          "execution_count": 24
        }
      ]
    },
    {
      "cell_type": "code",
      "source": [
        "num = float(input(\"Please Enter a Number = \"))"
      ],
      "metadata": {
        "colab": {
          "base_uri": "https://localhost:8080/"
        },
        "id": "YrGLYrI6fK7q",
        "outputId": "6e030f36-0dc1-449a-9a48-f3882eb1ea9b"
      },
      "execution_count": null,
      "outputs": [
        {
          "name": "stdout",
          "output_type": "stream",
          "text": [
            "Please Enter a Number = 20.5\n"
          ]
        }
      ]
    },
    {
      "cell_type": "code",
      "source": [
        "num"
      ],
      "metadata": {
        "colab": {
          "base_uri": "https://localhost:8080/"
        },
        "id": "WptFEudGbLTn",
        "outputId": "6014a246-4826-4284-f198-d817c502de61"
      },
      "execution_count": null,
      "outputs": [
        {
          "output_type": "execute_result",
          "data": {
            "text/plain": [
              "20.5"
            ]
          },
          "metadata": {},
          "execution_count": 35
        }
      ]
    },
    {
      "cell_type": "code",
      "source": [
        "type(num)"
      ],
      "metadata": {
        "colab": {
          "base_uri": "https://localhost:8080/"
        },
        "id": "hZyLh1pSbLYC",
        "outputId": "8a55d8b7-af6c-4376-9968-e29887935ba2"
      },
      "execution_count": null,
      "outputs": [
        {
          "output_type": "execute_result",
          "data": {
            "text/plain": [
              "float"
            ]
          },
          "metadata": {},
          "execution_count": 36
        }
      ]
    },
    {
      "cell_type": "code",
      "source": [
        "n1 = int(input(\"Enter 1st Number = \"))\n",
        "n2 = int(input(\"Enter 2nd Number = \"))\n",
        "\n",
        "print(\"Addition =\",n1+n2)"
      ],
      "metadata": {
        "colab": {
          "base_uri": "https://localhost:8080/"
        },
        "id": "Jy4qvQMYgbRP",
        "outputId": "7fb1af0d-13ff-4433-fffe-e927a6081cc7"
      },
      "execution_count": null,
      "outputs": [
        {
          "output_type": "stream",
          "name": "stdout",
          "text": [
            "Enter 1st Number = 20\n",
            "Enter 2nd Number = 10\n",
            "Addition = 30\n"
          ]
        }
      ]
    },
    {
      "cell_type": "code",
      "source": [
        "nm = input(\"Dear User Enter your Name = \")\n",
        "\n",
        "df1= int(input(f\"Dear {nm}, Please Enter 1st Number \"))\n",
        "df2= int(input(f\"Dear {nm}, Please Enter 2nd Number \")) \n",
        "\n",
        "print(f' Dear {nm}, Please find following operation \\n1. Addition = {df1+df2} \\n2. Subtraction = {df1-df2}') "
      ],
      "metadata": {
        "colab": {
          "base_uri": "https://localhost:8080/"
        },
        "id": "Kg90looegbZH",
        "outputId": "feeb8a28-0d48-4634-b666-baca7a479e5c"
      },
      "execution_count": null,
      "outputs": [
        {
          "output_type": "stream",
          "name": "stdout",
          "text": [
            "Dear User Enter your Name = Purshotam\n",
            "Dear Purshotam, Please Enter 1st Number 45\n",
            "Dear Purshotam, Please Enter 2nd Number 20\n",
            " Dear Purshotam, Please find following operation \n",
            "1. Addition = 65 \n",
            "2. Subtraction = 25\n"
          ]
        }
      ]
    },
    {
      "cell_type": "code",
      "source": [
        "fn = input('Please Enter your first Name = ')\n",
        "ln = input('Please Enter your Last Name = ')\n",
        "\n",
        "print(f'Hii , Mr/Miss {fn} {ln}')"
      ],
      "metadata": {
        "colab": {
          "base_uri": "https://localhost:8080/"
        },
        "id": "77OhAeHigbfq",
        "outputId": "32cd028e-d27e-428e-c589-d287ecb9b65e"
      },
      "execution_count": null,
      "outputs": [
        {
          "output_type": "stream",
          "name": "stdout",
          "text": [
            "Please Enter your first Name = Reena\n",
            "Please Enter your Last Name = Chandra\n",
            "Hii , Mr/Miss Reena Chandra\n"
          ]
        }
      ]
    },
    {
      "cell_type": "code",
      "source": [],
      "metadata": {
        "id": "ZB3sq4dRgbm1"
      },
      "execution_count": null,
      "outputs": []
    },
    {
      "cell_type": "code",
      "source": [],
      "metadata": {
        "id": "Ye0HZbvagbtR"
      },
      "execution_count": null,
      "outputs": []
    },
    {
      "cell_type": "code",
      "source": [],
      "metadata": {
        "id": "DYj7GyL2gbxW"
      },
      "execution_count": null,
      "outputs": []
    },
    {
      "cell_type": "code",
      "source": [],
      "metadata": {
        "id": "D_Ib3HJ2gb59"
      },
      "execution_count": null,
      "outputs": []
    },
    {
      "cell_type": "code",
      "source": [],
      "metadata": {
        "id": "EGJwXODufwEg"
      },
      "execution_count": null,
      "outputs": []
    },
    {
      "cell_type": "code",
      "source": [
        "x=20\n",
        "y=45\n",
        "\n",
        "# Addition = 65 \n",
        "\n",
        "z =x+y "
      ],
      "metadata": {
        "id": "-FI_a6fs3IQj"
      },
      "execution_count": null,
      "outputs": []
    },
    {
      "cell_type": "code",
      "source": [
        "print('Addition = ',z)"
      ],
      "metadata": {
        "colab": {
          "base_uri": "https://localhost:8080/"
        },
        "id": "bH-xkOI-3rA6",
        "outputId": "aec0f61f-a0d0-41ea-dff6-b983645afe8c"
      },
      "execution_count": null,
      "outputs": [
        {
          "output_type": "stream",
          "name": "stdout",
          "text": [
            "Addition =  65\n"
          ]
        }
      ]
    },
    {
      "cell_type": "code",
      "source": [
        "# Addition of x and y = add \n"
      ],
      "metadata": {
        "id": "LuEb_utw30NF"
      },
      "execution_count": null,
      "outputs": []
    },
    {
      "cell_type": "code",
      "source": [
        "print(\"Addition of x and y is = \",z)"
      ],
      "metadata": {
        "colab": {
          "base_uri": "https://localhost:8080/"
        },
        "id": "kTz-Il3W38iB",
        "outputId": "c1e782ee-11ab-4876-c8ee-e982c206ca85"
      },
      "execution_count": null,
      "outputs": [
        {
          "output_type": "stream",
          "name": "stdout",
          "text": [
            "Addition of x and y is =  65\n"
          ]
        }
      ]
    },
    {
      "cell_type": "code",
      "source": [
        "print(\"Addition of x and y is = \",x+y)"
      ],
      "metadata": {
        "colab": {
          "base_uri": "https://localhost:8080/"
        },
        "id": "IqJ6h5gf4FMv",
        "outputId": "8ebdf900-382d-401b-ba67-1816eb0d4264"
      },
      "execution_count": null,
      "outputs": [
        {
          "output_type": "stream",
          "name": "stdout",
          "text": [
            "Addition of x and y is =  65\n"
          ]
        }
      ]
    },
    {
      "cell_type": "code",
      "source": [
        "print(\"Multiplication of x and y is = \",x*y)"
      ],
      "metadata": {
        "colab": {
          "base_uri": "https://localhost:8080/"
        },
        "id": "2BWMLS3D4I7f",
        "outputId": "ab85d2e8-d8ed-44f4-a055-8581026b92c3"
      },
      "execution_count": null,
      "outputs": [
        {
          "output_type": "stream",
          "name": "stdout",
          "text": [
            "Multiplication of x and y is =  900\n"
          ]
        }
      ]
    },
    {
      "cell_type": "code",
      "source": [
        "# addition of 20 and 40 is 60 "
      ],
      "metadata": {
        "id": "EqTPM7Al4R52"
      },
      "execution_count": null,
      "outputs": []
    },
    {
      "cell_type": "code",
      "source": [
        "print(\"Addition of \",x,\"and\",y,\" is \",x+y)"
      ],
      "metadata": {
        "colab": {
          "base_uri": "https://localhost:8080/"
        },
        "id": "RGV4czAl4qWM",
        "outputId": "a1bd4149-671a-4db0-c959-8e9934ad8616"
      },
      "execution_count": null,
      "outputs": [
        {
          "output_type": "stream",
          "name": "stdout",
          "text": [
            "Addition of  20 and 45  is  65\n"
          ]
        }
      ]
    },
    {
      "cell_type": "code",
      "source": [
        "print('Addtion of {0} and {1} is {2}'.format(y,x,x+y ))"
      ],
      "metadata": {
        "colab": {
          "base_uri": "https://localhost:8080/"
        },
        "id": "3er1p2Ta4xLp",
        "outputId": "2aabe89a-34a5-4eb7-b95d-1a0d4568e983"
      },
      "execution_count": null,
      "outputs": [
        {
          "output_type": "stream",
          "name": "stdout",
          "text": [
            "Addtion of 45 and 20 is 65\n"
          ]
        }
      ]
    },
    {
      "cell_type": "code",
      "source": [
        "print('Addtion of {} and {} is {}'.format(x,y,x+y ))"
      ],
      "metadata": {
        "colab": {
          "base_uri": "https://localhost:8080/"
        },
        "id": "XSU96xhv5NC1",
        "outputId": "8e66a93d-2c25-445f-b606-ba8264a5df05"
      },
      "execution_count": null,
      "outputs": [
        {
          "output_type": "stream",
          "name": "stdout",
          "text": [
            "Addtion of 20 and 45 is 65\n"
          ]
        }
      ]
    },
    {
      "cell_type": "code",
      "source": [
        "print(f\"Addition of {x} and {y} is {x+y}\")"
      ],
      "metadata": {
        "colab": {
          "base_uri": "https://localhost:8080/"
        },
        "id": "hfB-Axjz5dmS",
        "outputId": "e33f4dcb-829d-4c81-bcb0-d1777ae19328"
      },
      "execution_count": null,
      "outputs": [
        {
          "output_type": "stream",
          "name": "stdout",
          "text": [
            "Addition of 20 and 45 is 65\n"
          ]
        }
      ]
    },
    {
      "cell_type": "code",
      "source": [
        "x"
      ],
      "metadata": {
        "colab": {
          "base_uri": "https://localhost:8080/"
        },
        "id": "FfskReO65_E-",
        "outputId": "5768dd6a-1dd0-41a7-db69-31105b508006"
      },
      "execution_count": null,
      "outputs": [
        {
          "output_type": "execute_result",
          "data": {
            "text/plain": [
              "20"
            ]
          },
          "metadata": {},
          "execution_count": 15
        }
      ]
    },
    {
      "cell_type": "code",
      "source": [
        "y"
      ],
      "metadata": {
        "colab": {
          "base_uri": "https://localhost:8080/"
        },
        "id": "V1F2LCqZ7Ds5",
        "outputId": "4e1fcb97-088c-46ec-e193-96dea51687e3"
      },
      "execution_count": null,
      "outputs": [
        {
          "output_type": "execute_result",
          "data": {
            "text/plain": [
              "45"
            ]
          },
          "metadata": {},
          "execution_count": 16
        }
      ]
    },
    {
      "cell_type": "code",
      "source": [
        "print(f\"Addition = {x+y} \\nSubtraction = {x-y} \\nMultplication = {x*y} \\nDivision = {x/y}\")"
      ],
      "metadata": {
        "colab": {
          "base_uri": "https://localhost:8080/"
        },
        "id": "xdjos2597EAu",
        "outputId": "baf48de2-e635-4e72-a58a-47047cbdbf9e"
      },
      "execution_count": null,
      "outputs": [
        {
          "output_type": "stream",
          "name": "stdout",
          "text": [
            "Addition = 65 \n",
            "Subtraction = -25 \n",
            "Multplication = 900 \n",
            "Division = 0.4444444444444444\n"
          ]
        }
      ]
    },
    {
      "cell_type": "code",
      "source": [
        "# input function = input() \n",
        "num = int(input(\"Enter the Number :- \"))"
      ],
      "metadata": {
        "colab": {
          "base_uri": "https://localhost:8080/"
        },
        "id": "U2ZZR_il7ZqN",
        "outputId": "5f0189e3-5406-4d53-f340-ca79eea31799"
      },
      "execution_count": null,
      "outputs": [
        {
          "name": "stdout",
          "output_type": "stream",
          "text": [
            "Enter the Number :- 56\n"
          ]
        }
      ]
    },
    {
      "cell_type": "code",
      "source": [
        "type(num)"
      ],
      "metadata": {
        "colab": {
          "base_uri": "https://localhost:8080/"
        },
        "id": "Te54BJYk70HS",
        "outputId": "25a79e5c-ee00-4fce-d40d-1a97a8edf7c4"
      },
      "execution_count": null,
      "outputs": [
        {
          "output_type": "execute_result",
          "data": {
            "text/plain": [
              "int"
            ]
          },
          "metadata": {},
          "execution_count": 36
        }
      ]
    },
    {
      "cell_type": "code",
      "source": [
        "num = int(input(\"Enter the 1st  Number :- \"))\n",
        "num1 = int(input(\"Enter the 2nd  Number :- \")) \n",
        "\n",
        "print(\"Addtion =\",num+num1)"
      ],
      "metadata": {
        "colab": {
          "base_uri": "https://localhost:8080/"
        },
        "id": "o2OsjVNu78zm",
        "outputId": "cb864d4d-6fa7-4101-9f25-e268ca520cd6"
      },
      "execution_count": null,
      "outputs": [
        {
          "output_type": "stream",
          "name": "stdout",
          "text": [
            "Enter the 1st  Number :- 12\n",
            "Enter the 2nd  Number :- 20\n",
            "Addtion = 32\n"
          ]
        }
      ]
    },
    {
      "cell_type": "code",
      "source": [
        "fn = input(\"Enter your first Name:- \")\n",
        "ln = input(\"Enter your last Name:- \")\n",
        "# Mohit solanki \n",
        "print(\"Full Name = \",fn+\" \"+ln)"
      ],
      "metadata": {
        "colab": {
          "base_uri": "https://localhost:8080/"
        },
        "id": "y5W3reCp8gzI",
        "outputId": "94acf89f-3a46-498f-f4ea-e830583eacd7"
      },
      "execution_count": null,
      "outputs": [
        {
          "output_type": "stream",
          "name": "stdout",
          "text": [
            "Enter your first Name:- mohit \n",
            "Enter your last Name:- solanki\n",
            "Full Name =  mohit  solanki\n"
          ]
        }
      ]
    },
    {
      "cell_type": "code",
      "source": [
        "fn.capitalize"
      ],
      "metadata": {
        "id": "CUYuCRlwB3S1"
      },
      "execution_count": null,
      "outputs": []
    },
    {
      "cell_type": "code",
      "source": [
        "# MOHIT SOLANKI\n",
        "# MohitSolanki "
      ],
      "metadata": {
        "id": "A6ifMh5GAuiN"
      },
      "execution_count": null,
      "outputs": []
    },
    {
      "cell_type": "code",
      "source": [
        "fn = input(\"Enter your first Name:- \").capitalize()\n",
        "ln = input(\"Enter your last Name:- \").capitalize() \n",
        "\n",
        "print(\"Name = \",fn+ln)\n"
      ],
      "metadata": {
        "colab": {
          "base_uri": "https://localhost:8080/"
        },
        "id": "bd16vGn3BGDe",
        "outputId": "39980f5d-12dc-48d7-9d6d-27610b12cb90"
      },
      "execution_count": null,
      "outputs": [
        {
          "output_type": "stream",
          "name": "stdout",
          "text": [
            "Enter your first Name:- solanki\n",
            "Enter your last Name:- Mohit\n",
            "Name =  SolankiMohit\n"
          ]
        }
      ]
    },
    {
      "cell_type": "code",
      "source": [
        "nam1 = input(\"Enter Your Name\") \n",
        "age = int(input(f\"Dear {nam1}, how are you old  -\"))\n",
        "# Dear name, how old are you ? "
      ],
      "metadata": {
        "colab": {
          "base_uri": "https://localhost:8080/"
        },
        "id": "7k6meyymBGIn",
        "outputId": "68086fc7-cfa8-4d4f-d626-415304999c63"
      },
      "execution_count": null,
      "outputs": [
        {
          "name": "stdout",
          "output_type": "stream",
          "text": [
            "Enter Your Namechirag\n",
            "Dear chirag, how are you old  -22\n"
          ]
        }
      ]
    },
    {
      "cell_type": "code",
      "source": [
        "age = list(input(f\"Dear {nam1}, how are you old  -\"))"
      ],
      "metadata": {
        "colab": {
          "base_uri": "https://localhost:8080/"
        },
        "id": "cu5yM1qWDSeT",
        "outputId": "4fe9a8e2-272c-4429-e2a7-9a8068706982"
      },
      "execution_count": null,
      "outputs": [
        {
          "name": "stdout",
          "output_type": "stream",
          "text": [
            "Dear chirag, how are you old  -345678\n"
          ]
        }
      ]
    },
    {
      "cell_type": "code",
      "source": [
        "age"
      ],
      "metadata": {
        "colab": {
          "base_uri": "https://localhost:8080/"
        },
        "id": "S4Srx6jQEvd5",
        "outputId": "31245edf-f369-4d4a-b074-2f4cfb820c8f"
      },
      "execution_count": null,
      "outputs": [
        {
          "output_type": "execute_result",
          "data": {
            "text/plain": [
              "['3', '4', '5', '6', '7', '8']"
            ]
          },
          "metadata": {},
          "execution_count": 55
        }
      ]
    },
    {
      "cell_type": "code",
      "source": [
        "st = \"once there was a lion\""
      ],
      "metadata": {
        "id": "czuzB0PAE7o3"
      },
      "execution_count": null,
      "outputs": []
    },
    {
      "cell_type": "code",
      "source": [
        "st = st.split(\" \")"
      ],
      "metadata": {
        "id": "55ikmah5FwsE"
      },
      "execution_count": null,
      "outputs": []
    },
    {
      "cell_type": "code",
      "source": [
        "st"
      ],
      "metadata": {
        "colab": {
          "base_uri": "https://localhost:8080/"
        },
        "id": "KL07CVeKFznb",
        "outputId": "630e4145-39a4-4053-9ed1-7695ffc9646b"
      },
      "execution_count": null,
      "outputs": [
        {
          "output_type": "execute_result",
          "data": {
            "text/plain": [
              "['once', 'there', 'was', 'a', 'lion']"
            ]
          },
          "metadata": {},
          "execution_count": 58
        }
      ]
    },
    {
      "cell_type": "code",
      "source": [
        "st = st[::-1]"
      ],
      "metadata": {
        "id": "NQHCZ-l8F0IZ"
      },
      "execution_count": null,
      "outputs": []
    },
    {
      "cell_type": "code",
      "source": [
        "st"
      ],
      "metadata": {
        "colab": {
          "base_uri": "https://localhost:8080/"
        },
        "id": "k99_-4HRF4mK",
        "outputId": "79e7d739-964f-4966-f9d7-c4f7052c45ca"
      },
      "execution_count": null,
      "outputs": [
        {
          "output_type": "execute_result",
          "data": {
            "text/plain": [
              "['lion', 'a', 'was', 'there', 'once']"
            ]
          },
          "metadata": {},
          "execution_count": 61
        }
      ]
    },
    {
      "cell_type": "code",
      "source": [
        "\" \".join(st)"
      ],
      "metadata": {
        "colab": {
          "base_uri": "https://localhost:8080/",
          "height": 35
        },
        "id": "yoFer4DrF6ep",
        "outputId": "9c814d87-8c7f-4d20-c28b-9f2c94219d86"
      },
      "execution_count": null,
      "outputs": [
        {
          "output_type": "execute_result",
          "data": {
            "text/plain": [
              "'lion a was there once'"
            ],
            "application/vnd.google.colaboratory.intrinsic+json": {
              "type": "string"
            }
          },
          "metadata": {},
          "execution_count": 62
        }
      ]
    },
    {
      "cell_type": "code",
      "source": [],
      "metadata": {
        "id": "LwgwE_YJGAeW"
      },
      "execution_count": null,
      "outputs": []
    },
    {
      "cell_type": "code",
      "source": [
        "# and :- \n",
        "# x and y \n",
        "# if x is true then it return y otherewise x "
      ],
      "metadata": {
        "id": "O7pw5rfEGRGJ"
      },
      "execution_count": null,
      "outputs": []
    },
    {
      "cell_type": "code",
      "source": [
        "x=10 \n",
        "y=0 "
      ],
      "metadata": {
        "id": "mWeB8PW8GRRK"
      },
      "execution_count": 46,
      "outputs": []
    },
    {
      "cell_type": "code",
      "source": [
        "x and y "
      ],
      "metadata": {
        "colab": {
          "base_uri": "https://localhost:8080/"
        },
        "id": "j_hHnygFGRZj",
        "outputId": "eb2c8d92-fa6d-47b4-d22c-ae145ee4f41d"
      },
      "execution_count": 47,
      "outputs": [
        {
          "output_type": "execute_result",
          "data": {
            "text/plain": [
              "0"
            ]
          },
          "metadata": {},
          "execution_count": 47
        }
      ]
    },
    {
      "cell_type": "code",
      "source": [
        "y and x "
      ],
      "metadata": {
        "colab": {
          "base_uri": "https://localhost:8080/"
        },
        "id": "k84sPa6NGRiw",
        "outputId": "690a9c4f-fc12-459a-f59b-4cabe551c877"
      },
      "execution_count": 48,
      "outputs": [
        {
          "output_type": "execute_result",
          "data": {
            "text/plain": [
              "0"
            ]
          },
          "metadata": {},
          "execution_count": 48
        }
      ]
    },
    {
      "cell_type": "code",
      "source": [
        "n1=46\n",
        "n2=67\n",
        "\n",
        "n1 and n2 \n"
      ],
      "metadata": {
        "colab": {
          "base_uri": "https://localhost:8080/"
        },
        "id": "eeK2Xl_JGRrf",
        "outputId": "475e1ad0-45f9-4ec8-a608-88a09323814e"
      },
      "execution_count": 49,
      "outputs": [
        {
          "output_type": "execute_result",
          "data": {
            "text/plain": [
              "67"
            ]
          },
          "metadata": {},
          "execution_count": 49
        }
      ]
    },
    {
      "cell_type": "code",
      "source": [
        "n2 and n1 "
      ],
      "metadata": {
        "colab": {
          "base_uri": "https://localhost:8080/"
        },
        "id": "EQT15M8BGR0D",
        "outputId": "c51c55f3-064f-45c4-d2b2-09feda50c558"
      },
      "execution_count": 50,
      "outputs": [
        {
          "output_type": "execute_result",
          "data": {
            "text/plain": [
              "46"
            ]
          },
          "metadata": {},
          "execution_count": 50
        }
      ]
    },
    {
      "cell_type": "code",
      "source": [
        "n1 =90\n",
        "n2 =70\n",
        "\n",
        "n1 and n2 "
      ],
      "metadata": {
        "colab": {
          "base_uri": "https://localhost:8080/"
        },
        "id": "aOwlRHiOGR_U",
        "outputId": "95e63f84-c5d7-4941-93e0-467f48be7a99"
      },
      "execution_count": 51,
      "outputs": [
        {
          "output_type": "execute_result",
          "data": {
            "text/plain": [
              "70"
            ]
          },
          "metadata": {},
          "execution_count": 51
        }
      ]
    },
    {
      "cell_type": "code",
      "source": [
        "n2 and n1"
      ],
      "metadata": {
        "colab": {
          "base_uri": "https://localhost:8080/"
        },
        "id": "raXAOZddHTMt",
        "outputId": "8115880d-17a7-4858-ebca-adb30eb90ac2"
      },
      "execution_count": 52,
      "outputs": [
        {
          "output_type": "execute_result",
          "data": {
            "text/plain": [
              "90"
            ]
          },
          "metadata": {},
          "execution_count": 52
        }
      ]
    },
    {
      "cell_type": "code",
      "source": [
        "# or Operator :- if x is true it return x otherwise y "
      ],
      "metadata": {
        "id": "mx1XxbuSHc-u"
      },
      "execution_count": 53,
      "outputs": []
    },
    {
      "cell_type": "code",
      "source": [
        "x=20\n",
        "y=10\n",
        "\n",
        "x or y "
      ],
      "metadata": {
        "colab": {
          "base_uri": "https://localhost:8080/"
        },
        "id": "j6jfLPQpH_d9",
        "outputId": "886df40b-20cd-4e94-cf8b-a10927cc2971"
      },
      "execution_count": 54,
      "outputs": [
        {
          "output_type": "execute_result",
          "data": {
            "text/plain": [
              "20"
            ]
          },
          "metadata": {},
          "execution_count": 54
        }
      ]
    },
    {
      "cell_type": "code",
      "source": [
        "n1= ''\n",
        "n2 = 34\n",
        "\n",
        "n1 or n2 "
      ],
      "metadata": {
        "colab": {
          "base_uri": "https://localhost:8080/"
        },
        "id": "QMMfNiejIE1f",
        "outputId": "a0a64d3a-96b9-454c-86db-bb4dd8836094"
      },
      "execution_count": 55,
      "outputs": [
        {
          "output_type": "execute_result",
          "data": {
            "text/plain": [
              "34"
            ]
          },
          "metadata": {},
          "execution_count": 55
        }
      ]
    },
    {
      "cell_type": "code",
      "source": [
        "not n1 "
      ],
      "metadata": {
        "colab": {
          "base_uri": "https://localhost:8080/"
        },
        "id": "3g_b5B_2IJ__",
        "outputId": "f63c1d71-9d63-4818-842e-0a329f8aee98"
      },
      "execution_count": 56,
      "outputs": [
        {
          "output_type": "execute_result",
          "data": {
            "text/plain": [
              "True"
            ]
          },
          "metadata": {},
          "execution_count": 56
        }
      ]
    },
    {
      "cell_type": "code",
      "source": [
        "not n2"
      ],
      "metadata": {
        "colab": {
          "base_uri": "https://localhost:8080/"
        },
        "id": "YWkaRPq7IW2V",
        "outputId": "31366b21-686b-4cf5-c262-67e209c34766"
      },
      "execution_count": 57,
      "outputs": [
        {
          "output_type": "execute_result",
          "data": {
            "text/plain": [
              "False"
            ]
          },
          "metadata": {},
          "execution_count": 57
        }
      ]
    },
    {
      "cell_type": "code",
      "source": [],
      "metadata": {
        "id": "exwkwrX7IbHh"
      },
      "execution_count": null,
      "outputs": []
    }
  ]
}