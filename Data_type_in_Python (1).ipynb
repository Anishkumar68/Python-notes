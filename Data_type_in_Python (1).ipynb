{
  "cells": [
    {
      "cell_type": "code",
      "execution_count": 35,
      "metadata": {
        "id": "0R87QytLRk0j"
      },
      "outputs": [],
      "source": [
        "num1 = 45\n",
        "num2 = 56.5 \n",
        "num3 = \"John\""
      ]
    },
    {
      "cell_type": "code",
      "execution_count": 36,
      "metadata": {
        "id": "No-uKjgpSPeg"
      },
      "outputs": [],
      "source": [
        "# Data-type:- it represents which type of value store in variable. i.e called data-type\n",
        "# in python\n",
        "\n",
        "# 1. None \n",
        "# 2. Numeric\n",
        "# 3. Sequence \n",
        "# 4. Map \n",
        "# 5. set"
      ]
    },
    {
      "cell_type": "code",
      "execution_count": 37,
      "metadata": {
        "id": "VZe5lv2YS7BF"
      },
      "outputs": [],
      "source": [
        "# None - that type of vraible in which have no any value. \n",
        "num = None "
      ]
    },
    {
      "cell_type": "code",
      "execution_count": 38,
      "metadata": {
        "id": "ZIGdoZYPS-l_"
      },
      "outputs": [],
      "source": [
        "num"
      ]
    },
    {
      "cell_type": "code",
      "execution_count": 39,
      "metadata": {
        "colab": {
          "base_uri": "https://localhost:8080/"
        },
        "id": "x6fty-mTT74D",
        "outputId": "4c39c8da-5174-432f-96a2-2186ffddf4a0"
      },
      "outputs": [
        {
          "data": {
            "text/plain": [
              "NoneType"
            ]
          },
          "execution_count": 39,
          "metadata": {},
          "output_type": "execute_result"
        }
      ],
      "source": [
        "type(num)"
      ]
    },
    {
      "cell_type": "code",
      "execution_count": null,
      "metadata": {
        "id": "Ny_I0IRYT8CT"
      },
      "outputs": [],
      "source": []
    },
    {
      "cell_type": "code",
      "execution_count": 40,
      "metadata": {
        "id": "--BJ8_tOThFm"
      },
      "outputs": [],
      "source": [
        "# There are mainly two type of function\n",
        "# In-built function:- \n",
        "# User-defined Function :- "
      ]
    },
    {
      "cell_type": "code",
      "execution_count": 41,
      "metadata": {
        "id": "0pT8nywgT7Xf"
      },
      "outputs": [],
      "source": [
        "# 2. Numeric :- that type of variable in which have only numerical value. \n",
        "\n",
        "# int(integer):- entire whole number \n",
        "# float :- in which have fractional part\n",
        "# complex :- combination of real and imaginary number (a+ib)"
      ]
    },
    {
      "cell_type": "code",
      "execution_count": 42,
      "metadata": {
        "id": "_khdU8RBU336"
      },
      "outputs": [],
      "source": [
        "num = -45"
      ]
    },
    {
      "cell_type": "code",
      "execution_count": 43,
      "metadata": {
        "colab": {
          "base_uri": "https://localhost:8080/"
        },
        "id": "Hbr-KJA9U365",
        "outputId": "915abdcb-8836-4735-9cf9-a4256abbd295"
      },
      "outputs": [
        {
          "data": {
            "text/plain": [
              "int"
            ]
          },
          "execution_count": 43,
          "metadata": {},
          "output_type": "execute_result"
        }
      ],
      "source": [
        "type(num)"
      ]
    },
    {
      "cell_type": "code",
      "execution_count": 44,
      "metadata": {
        "id": "flDXBg0pU64M"
      },
      "outputs": [],
      "source": [
        "num1 = -67.7"
      ]
    },
    {
      "cell_type": "code",
      "execution_count": 45,
      "metadata": {
        "colab": {
          "base_uri": "https://localhost:8080/"
        },
        "id": "JFi0XMmOU8lc",
        "outputId": "94f4b93b-9f88-467a-a1e8-7697eec512bf"
      },
      "outputs": [
        {
          "data": {
            "text/plain": [
              "float"
            ]
          },
          "execution_count": 45,
          "metadata": {},
          "output_type": "execute_result"
        }
      ],
      "source": [
        "type(num1)"
      ]
    },
    {
      "cell_type": "code",
      "execution_count": 46,
      "metadata": {
        "id": "BKfPB9Y-U9zZ"
      },
      "outputs": [],
      "source": [
        "# complex = a+bj\n",
        "comp1 = 3 + 2j "
      ]
    },
    {
      "cell_type": "code",
      "execution_count": 47,
      "metadata": {
        "colab": {
          "base_uri": "https://localhost:8080/"
        },
        "id": "DgKqeYx7VNMY",
        "outputId": "59431302-cf2a-4dcc-cdfc-afd9d44431a0"
      },
      "outputs": [
        {
          "data": {
            "text/plain": [
              "complex"
            ]
          },
          "execution_count": 47,
          "metadata": {},
          "output_type": "execute_result"
        }
      ],
      "source": [
        "type(comp1)"
      ]
    },
    {
      "cell_type": "code",
      "execution_count": 48,
      "metadata": {
        "id": "N_NBefwkVPH_"
      },
      "outputs": [],
      "source": [
        "comp2 = complex(4,2) "
      ]
    },
    {
      "cell_type": "code",
      "execution_count": 49,
      "metadata": {
        "colab": {
          "base_uri": "https://localhost:8080/"
        },
        "id": "oNOjlhr6VVdI",
        "outputId": "fad9452b-1103-4e72-ba09-191998678be4"
      },
      "outputs": [
        {
          "data": {
            "text/plain": [
              "(4+2j)"
            ]
          },
          "execution_count": 49,
          "metadata": {},
          "output_type": "execute_result"
        }
      ],
      "source": [
        "comp2"
      ]
    },
    {
      "cell_type": "code",
      "execution_count": 50,
      "metadata": {
        "colab": {
          "base_uri": "https://localhost:8080/"
        },
        "id": "zQ7D4izJVWoh",
        "outputId": "a5843231-c394-4a96-bc61-45ce65193614"
      },
      "outputs": [
        {
          "data": {
            "text/plain": [
              "complex"
            ]
          },
          "execution_count": 50,
          "metadata": {},
          "output_type": "execute_result"
        }
      ],
      "source": [
        "type(comp2)"
      ]
    },
    {
      "cell_type": "code",
      "execution_count": 51,
      "metadata": {
        "id": "P8D5xw3CVbSk"
      },
      "outputs": [],
      "source": [
        "comp3 = complex(7)"
      ]
    },
    {
      "cell_type": "code",
      "execution_count": 52,
      "metadata": {
        "colab": {
          "base_uri": "https://localhost:8080/"
        },
        "id": "LHKhYEJ8VpoR",
        "outputId": "3602efdf-67aa-4680-80b3-544f4bf27210"
      },
      "outputs": [
        {
          "data": {
            "text/plain": [
              "(7+0j)"
            ]
          },
          "execution_count": 52,
          "metadata": {},
          "output_type": "execute_result"
        }
      ],
      "source": [
        "comp3"
      ]
    },
    {
      "cell_type": "code",
      "execution_count": 53,
      "metadata": {
        "colab": {
          "base_uri": "https://localhost:8080/"
        },
        "id": "SE71kBexVqU8",
        "outputId": "0eaa6865-ba86-4d18-dfe1-af93b0035390"
      },
      "outputs": [
        {
          "data": {
            "text/plain": [
              "(15+11j)"
            ]
          },
          "execution_count": 53,
          "metadata": {},
          "output_type": "execute_result"
        }
      ],
      "source": [
        "df1 = complex(6,4)\n",
        "df2 = 9+7j\n",
        "add = df1+df2 \n",
        "add"
      ]
    },
    {
      "cell_type": "code",
      "execution_count": 54,
      "metadata": {
        "id": "gqRVCz4HWvG6"
      },
      "outputs": [],
      "source": [
        "df3 = complex(6,4.5)"
      ]
    },
    {
      "cell_type": "code",
      "execution_count": 55,
      "metadata": {
        "colab": {
          "base_uri": "https://localhost:8080/"
        },
        "id": "2jFwAIeQW5Fc",
        "outputId": "42512b6f-29e2-4bc8-e008-9de0f804e9f9"
      },
      "outputs": [
        {
          "data": {
            "text/plain": [
              "(6+4.5j)"
            ]
          },
          "execution_count": 55,
          "metadata": {},
          "output_type": "execute_result"
        }
      ],
      "source": [
        "df3"
      ]
    },
    {
      "cell_type": "code",
      "execution_count": 56,
      "metadata": {
        "id": "EiHi-z2aW5pf"
      },
      "outputs": [],
      "source": [
        "# 3. Sequence :- in which you can store multiple in sequence. \n",
        "# 1. string \n",
        "# 2. bytes\n",
        "# 3. bytearray \n",
        "# 4. list \n",
        "# 5. tuple\n",
        "# 6. range "
      ]
    },
    {
      "cell_type": "code",
      "execution_count": 57,
      "metadata": {
        "id": "hf0RluWGXyfM"
      },
      "outputs": [],
      "source": [
        "# 1. string  :- it is the combination of character or single.\n",
        "# \"\"/'' \n",
        "\n",
        "# properties of string is as bellow \n",
        "# 1. it's allow indexing \n",
        "# 2. it's allow slicing \n",
        "# 3. String is immutable "
      ]
    },
    {
      "cell_type": "code",
      "execution_count": 58,
      "metadata": {
        "id": "FxHV4eLEX7G8"
      },
      "outputs": [],
      "source": [
        "df = 'Dayanand'"
      ]
    },
    {
      "cell_type": "code",
      "execution_count": 59,
      "metadata": {
        "colab": {
          "base_uri": "https://localhost:8080/",
          "height": 36
        },
        "id": "XqL18I4BX7Qy",
        "outputId": "67dc5ca2-23f9-4921-82da-5b597a3c7a1b"
      },
      "outputs": [
        {
          "data": {
            "text/plain": [
              "'Dayanand'"
            ]
          },
          "execution_count": 59,
          "metadata": {},
          "output_type": "execute_result"
        }
      ],
      "source": [
        "df"
      ]
    },
    {
      "cell_type": "code",
      "execution_count": 60,
      "metadata": {
        "colab": {
          "base_uri": "https://localhost:8080/"
        },
        "id": "DoFUzrpEX-tn",
        "outputId": "972ce11b-e7b6-4d54-db16-3086f00e333e"
      },
      "outputs": [
        {
          "data": {
            "text/plain": [
              "str"
            ]
          },
          "execution_count": 60,
          "metadata": {},
          "output_type": "execute_result"
        }
      ],
      "source": [
        "type(df)"
      ]
    },
    {
      "cell_type": "code",
      "execution_count": 61,
      "metadata": {
        "colab": {
          "base_uri": "https://localhost:8080/",
          "height": 36
        },
        "id": "l_oPL1KwYAOz",
        "outputId": "b94ee875-9b80-4427-b38a-e85f8f893869"
      },
      "outputs": [
        {
          "data": {
            "text/plain": [
              "'n'"
            ]
          },
          "execution_count": 61,
          "metadata": {},
          "output_type": "execute_result"
        }
      ],
      "source": [
        "df[4]"
      ]
    },
    {
      "cell_type": "code",
      "execution_count": 62,
      "metadata": {
        "colab": {
          "base_uri": "https://localhost:8080/",
          "height": 36
        },
        "id": "laNZHZ5CYzEy",
        "outputId": "dec640e2-09ad-46b0-bb42-4c82e8161985"
      },
      "outputs": [
        {
          "data": {
            "text/plain": [
              "'n'"
            ]
          },
          "execution_count": 62,
          "metadata": {},
          "output_type": "execute_result"
        }
      ],
      "source": [
        "df[-4]"
      ]
    },
    {
      "cell_type": "code",
      "execution_count": 63,
      "metadata": {
        "colab": {
          "base_uri": "https://localhost:8080/",
          "height": 36
        },
        "id": "BQDKKSg5Y02P",
        "outputId": "3246b768-1444-446d-917d-b4244be272e1"
      },
      "outputs": [
        {
          "data": {
            "text/plain": [
              "'d'"
            ]
          },
          "execution_count": 63,
          "metadata": {},
          "output_type": "execute_result"
        }
      ],
      "source": [
        "df[-1]"
      ]
    },
    {
      "cell_type": "code",
      "execution_count": 64,
      "metadata": {
        "id": "5rEtX7kcY3-V"
      },
      "outputs": [],
      "source": [
        "df2=\"johnsmith\""
      ]
    },
    {
      "cell_type": "code",
      "execution_count": 65,
      "metadata": {
        "id": "pPNM3DU6ZZqN"
      },
      "outputs": [],
      "source": [
        "# df2[intial_indexno:end_indexno:interval]\n",
        "# df2[start:stop:step]"
      ]
    },
    {
      "cell_type": "code",
      "execution_count": 66,
      "metadata": {
        "colab": {
          "base_uri": "https://localhost:8080/",
          "height": 36
        },
        "id": "4pdssa7jZcrY",
        "outputId": "027aa292-f601-43ec-9447-c5986086336a"
      },
      "outputs": [
        {
          "data": {
            "text/plain": [
              "'john'"
            ]
          },
          "execution_count": 66,
          "metadata": {},
          "output_type": "execute_result"
        }
      ],
      "source": [
        "df2[0:4]"
      ]
    },
    {
      "cell_type": "code",
      "execution_count": 67,
      "metadata": {
        "colab": {
          "base_uri": "https://localhost:8080/",
          "height": 36
        },
        "id": "FxYLsMvTaz5L",
        "outputId": "fa5900f6-0a60-4a4b-ccb7-91ed97550738"
      },
      "outputs": [
        {
          "data": {
            "text/plain": [
              "'john'"
            ]
          },
          "execution_count": 67,
          "metadata": {},
          "output_type": "execute_result"
        }
      ],
      "source": [
        "df2[:4]"
      ]
    },
    {
      "cell_type": "code",
      "execution_count": null,
      "metadata": {
        "id": "hvalsJZNa0Gz"
      },
      "outputs": [],
      "source": []
    },
    {
      "cell_type": "code",
      "execution_count": 68,
      "metadata": {
        "colab": {
          "base_uri": "https://localhost:8080/",
          "height": 36
        },
        "id": "DizI7CESZZtf",
        "outputId": "4513ab6e-5ba2-41d4-9e20-74dd8d665e84"
      },
      "outputs": [
        {
          "data": {
            "text/plain": [
              "'smith'"
            ]
          },
          "execution_count": 68,
          "metadata": {},
          "output_type": "execute_result"
        }
      ],
      "source": [
        "df2[4:9]"
      ]
    },
    {
      "cell_type": "code",
      "execution_count": 69,
      "metadata": {
        "colab": {
          "base_uri": "https://localhost:8080/",
          "height": 36
        },
        "id": "9kM218kTau6q",
        "outputId": "bfac6cfc-8b2b-45ac-c525-8133f6333c99"
      },
      "outputs": [
        {
          "data": {
            "text/plain": [
              "'smith'"
            ]
          },
          "execution_count": 69,
          "metadata": {},
          "output_type": "execute_result"
        }
      ],
      "source": [
        "df2[4:]"
      ]
    },
    {
      "cell_type": "code",
      "execution_count": null,
      "metadata": {
        "id": "adA67LTEau9_"
      },
      "outputs": [],
      "source": []
    },
    {
      "cell_type": "code",
      "execution_count": 70,
      "metadata": {
        "colab": {
          "base_uri": "https://localhost:8080/",
          "height": 36
        },
        "id": "3YTJQG4wY_Bi",
        "outputId": "dfeb3192-0b8a-4184-a80f-33113b5a0ff4"
      },
      "outputs": [
        {
          "data": {
            "text/plain": [
              "'h'"
            ]
          },
          "execution_count": 70,
          "metadata": {},
          "output_type": "execute_result"
        }
      ],
      "source": [
        "df2[2]"
      ]
    },
    {
      "cell_type": "code",
      "execution_count": 71,
      "metadata": {
        "colab": {
          "base_uri": "https://localhost:8080/",
          "height": 36
        },
        "id": "jrOL4SruZDfl",
        "outputId": "9c5b5203-5d29-4720-9a47-23a98f689051"
      },
      "outputs": [
        {
          "data": {
            "text/plain": [
              "'t'"
            ]
          },
          "execution_count": 71,
          "metadata": {},
          "output_type": "execute_result"
        }
      ],
      "source": [
        "df2[-2]"
      ]
    },
    {
      "cell_type": "code",
      "execution_count": 72,
      "metadata": {
        "colab": {
          "base_uri": "https://localhost:8080/",
          "height": 36
        },
        "id": "L0V2lRP3ZTQX",
        "outputId": "d3e09a5a-3734-4da8-e0ac-9ae89973c9f8"
      },
      "outputs": [
        {
          "data": {
            "text/plain": [
              "'johnsmith'"
            ]
          },
          "execution_count": 72,
          "metadata": {},
          "output_type": "execute_result"
        }
      ],
      "source": [
        "df2"
      ]
    },
    {
      "cell_type": "code",
      "execution_count": 73,
      "metadata": {
        "colab": {
          "base_uri": "https://localhost:8080/",
          "height": 36
        },
        "id": "fBlP1J7QbA5f",
        "outputId": "2a15a4ab-ee44-4e33-952c-e267ad17d227"
      },
      "outputs": [
        {
          "data": {
            "text/plain": [
              "'jhsih'"
            ]
          },
          "execution_count": 73,
          "metadata": {},
          "output_type": "execute_result"
        }
      ],
      "source": [
        "df2[::2] "
      ]
    },
    {
      "cell_type": "code",
      "execution_count": 74,
      "metadata": {
        "colab": {
          "base_uri": "https://localhost:8080/",
          "height": 36
        },
        "id": "bav2pMXzbIlQ",
        "outputId": "c04dae50-8d3f-4948-e2a5-45690c8ad539"
      },
      "outputs": [
        {
          "data": {
            "text/plain": [
              "'jhs'"
            ]
          },
          "execution_count": 74,
          "metadata": {},
          "output_type": "execute_result"
        }
      ],
      "source": [
        "df2[:5:2] "
      ]
    },
    {
      "cell_type": "code",
      "execution_count": 75,
      "metadata": {
        "colab": {
          "base_uri": "https://localhost:8080/",
          "height": 36
        },
        "id": "MdJz8JiXbLMh",
        "outputId": "82101a27-2c25-4ee6-b006-fa28e3629158"
      },
      "outputs": [
        {
          "data": {
            "text/plain": [
              "'johnsmith'"
            ]
          },
          "execution_count": 75,
          "metadata": {},
          "output_type": "execute_result"
        }
      ],
      "source": [
        "df2"
      ]
    },
    {
      "cell_type": "code",
      "execution_count": 76,
      "metadata": {
        "colab": {
          "base_uri": "https://localhost:8080/",
          "height": 36
        },
        "id": "YiwLu2VqbUVD",
        "outputId": "c78a517f-f368-4282-ec62-3b7e4eca0535"
      },
      "outputs": [
        {
          "data": {
            "text/plain": [
              "'htimsnho'"
            ]
          },
          "execution_count": 76,
          "metadata": {},
          "output_type": "execute_result"
        }
      ],
      "source": [
        "df2[-1:-9:-1]"
      ]
    },
    {
      "cell_type": "code",
      "execution_count": 77,
      "metadata": {
        "colab": {
          "base_uri": "https://localhost:8080/",
          "height": 36
        },
        "id": "jnEHucNqbdb6",
        "outputId": "3649ffe3-58fa-43c4-fcd6-97d96d995eab"
      },
      "outputs": [
        {
          "data": {
            "text/plain": [
              "'htimsnhoj'"
            ]
          },
          "execution_count": 77,
          "metadata": {},
          "output_type": "execute_result"
        }
      ],
      "source": [
        "df2[::-1]"
      ]
    },
    {
      "cell_type": "code",
      "execution_count": 78,
      "metadata": {
        "colab": {
          "base_uri": "https://localhost:8080/",
          "height": 36
        },
        "id": "4N17bi9_b3WW",
        "outputId": "cff4dea4-09b2-4ae3-f85a-9ab91c337794"
      },
      "outputs": [
        {
          "data": {
            "text/plain": [
              "'johnsmith'"
            ]
          },
          "execution_count": 78,
          "metadata": {},
          "output_type": "execute_result"
        }
      ],
      "source": [
        "df2"
      ]
    },
    {
      "cell_type": "code",
      "execution_count": 79,
      "metadata": {
        "colab": {
          "base_uri": "https://localhost:8080/",
          "height": 36
        },
        "id": "batyoMZHb8UQ",
        "outputId": "12dda4c8-247a-4f4e-b753-c617bd1a8a00"
      },
      "outputs": [
        {
          "data": {
            "text/plain": [
              "'htims'"
            ]
          },
          "execution_count": 79,
          "metadata": {},
          "output_type": "execute_result"
        }
      ],
      "source": [
        "df2[-1:-6:-1]"
      ]
    },
    {
      "cell_type": "code",
      "execution_count": 80,
      "metadata": {
        "colab": {
          "base_uri": "https://localhost:8080/",
          "height": 36
        },
        "id": "9Djo0Bw_cEYS",
        "outputId": "335eb28b-f363-400f-e3a0-f9ffd555d37d"
      },
      "outputs": [
        {
          "data": {
            "text/plain": [
              "'johnsmith'"
            ]
          },
          "execution_count": 80,
          "metadata": {},
          "output_type": "execute_result"
        }
      ],
      "source": [
        "df2"
      ]
    },
    {
      "cell_type": "code",
      "execution_count": 81,
      "metadata": {
        "colab": {
          "base_uri": "https://localhost:8080/",
          "height": 165
        },
        "id": "CEtOa0tYc9EY",
        "outputId": "fedca664-442c-4243-fd1e-724797a88d77"
      },
      "outputs": [
        {
          "ename": "TypeError",
          "evalue": "'str' object does not support item assignment",
          "output_type": "error",
          "traceback": [
            "\u001b[1;31m---------------------------------------------------------------------------\u001b[0m",
            "\u001b[1;31mTypeError\u001b[0m                                 Traceback (most recent call last)",
            "Cell \u001b[1;32mIn[81], line 1\u001b[0m\n\u001b[1;32m----> 1\u001b[0m df2[\u001b[39m1\u001b[39;49m] \u001b[39m=\u001b[39m\u001b[39m\"\u001b[39m\u001b[39mR\u001b[39m\u001b[39m\"\u001b[39m\n",
            "\u001b[1;31mTypeError\u001b[0m: 'str' object does not support item assignment"
          ]
        }
      ],
      "source": [
        "df2[1] =\"R\""
      ]
    },
    {
      "cell_type": "code",
      "execution_count": null,
      "metadata": {
        "colab": {
          "base_uri": "https://localhost:8080/",
          "height": 36
        },
        "id": "8hRzQ4Fyc_vd",
        "outputId": "56ac5e7e-01de-4ee8-a9b7-2b1920e8d121"
      },
      "outputs": [
        {
          "data": {
            "application/vnd.google.colaboratory.intrinsic+json": {
              "type": "string"
            },
            "text/plain": [
              "'johnsmith'"
            ]
          },
          "execution_count": 74,
          "metadata": {},
          "output_type": "execute_result"
        }
      ],
      "source": [
        "# Operation on string \n",
        "\n",
        "df1=\"john\"\n",
        "df2=\"smith\"\n",
        "df1+df2"
      ]
    },
    {
      "cell_type": "code",
      "execution_count": null,
      "metadata": {
        "colab": {
          "base_uri": "https://localhost:8080/",
          "height": 36
        },
        "id": "gLXger_pdl2N",
        "outputId": "724e9324-6b90-4d58-ad1b-4703fb09ba45"
      },
      "outputs": [
        {
          "data": {
            "application/vnd.google.colaboratory.intrinsic+json": {
              "type": "string"
            },
            "text/plain": [
              "'john'"
            ]
          },
          "execution_count": 75,
          "metadata": {},
          "output_type": "execute_result"
        }
      ],
      "source": [
        "df1"
      ]
    },
    {
      "cell_type": "code",
      "execution_count": null,
      "metadata": {
        "colab": {
          "base_uri": "https://localhost:8080/",
          "height": 36
        },
        "id": "-crggfeFducB",
        "outputId": "6021b942-3a7a-4e61-d096-8ff9c14504d9"
      },
      "outputs": [
        {
          "data": {
            "application/vnd.google.colaboratory.intrinsic+json": {
              "type": "string"
            },
            "text/plain": [
              "'johnjohnjohnjohn'"
            ]
          },
          "execution_count": 76,
          "metadata": {},
          "output_type": "execute_result"
        }
      ],
      "source": [
        "4 * df1 "
      ]
    },
    {
      "cell_type": "code",
      "execution_count": null,
      "metadata": {
        "id": "M9y3e9mTdwRV"
      },
      "outputs": [],
      "source": [
        "str1 = \"RAMAYAN\" "
      ]
    },
    {
      "cell_type": "code",
      "execution_count": null,
      "metadata": {
        "colab": {
          "base_uri": "https://localhost:8080/",
          "height": 36
        },
        "id": "PEdR7xsed632",
        "outputId": "d206e612-7516-4469-932b-2fb64af8cb96"
      },
      "outputs": [
        {
          "data": {
            "application/vnd.google.colaboratory.intrinsic+json": {
              "type": "string"
            },
            "text/plain": [
              "'RAMAYAN'"
            ]
          },
          "execution_count": 78,
          "metadata": {},
          "output_type": "execute_result"
        }
      ],
      "source": [
        "str1"
      ]
    },
    {
      "cell_type": "code",
      "execution_count": null,
      "metadata": {
        "id": "zFyUQQKud7V5"
      },
      "outputs": [],
      "source": [
        "# replace() \n",
        "\n",
        "str1 = str1.replace('R','N') "
      ]
    },
    {
      "cell_type": "code",
      "execution_count": null,
      "metadata": {
        "colab": {
          "base_uri": "https://localhost:8080/",
          "height": 36
        },
        "id": "LlN4HL9LeMot",
        "outputId": "ba5f7baf-2745-46a1-90bc-d2c3d0f51f7b"
      },
      "outputs": [
        {
          "data": {
            "application/vnd.google.colaboratory.intrinsic+json": {
              "type": "string"
            },
            "text/plain": [
              "'NAMAYAN'"
            ]
          },
          "execution_count": 81,
          "metadata": {},
          "output_type": "execute_result"
        }
      ],
      "source": [
        "str1"
      ]
    },
    {
      "cell_type": "code",
      "execution_count": null,
      "metadata": {
        "id": "M7xl3TFWePHa"
      },
      "outputs": [],
      "source": [
        "str1 = str1.replace('M','N')"
      ]
    },
    {
      "cell_type": "code",
      "execution_count": null,
      "metadata": {
        "colab": {
          "base_uri": "https://localhost:8080/",
          "height": 36
        },
        "id": "EL2jq_c2eVRO",
        "outputId": "3256ae89-2875-4168-ffe7-1e58bd1df7b3"
      },
      "outputs": [
        {
          "data": {
            "application/vnd.google.colaboratory.intrinsic+json": {
              "type": "string"
            },
            "text/plain": [
              "'NANAYAN'"
            ]
          },
          "execution_count": 84,
          "metadata": {},
          "output_type": "execute_result"
        }
      ],
      "source": [
        "str1"
      ]
    },
    {
      "cell_type": "code",
      "execution_count": null,
      "metadata": {
        "id": "LIv0etEYeYTz"
      },
      "outputs": [],
      "source": [
        "str1 = str1.replace('A','B')"
      ]
    },
    {
      "cell_type": "code",
      "execution_count": null,
      "metadata": {
        "colab": {
          "base_uri": "https://localhost:8080/",
          "height": 36
        },
        "id": "YD0QgaIDecdv",
        "outputId": "1cb0d0f4-db3f-4aa7-bbb1-e0bcca86bb78"
      },
      "outputs": [
        {
          "data": {
            "application/vnd.google.colaboratory.intrinsic+json": {
              "type": "string"
            },
            "text/plain": [
              "'NBNBYBN'"
            ]
          },
          "execution_count": 86,
          "metadata": {},
          "output_type": "execute_result"
        }
      ],
      "source": [
        "str1"
      ]
    },
    {
      "cell_type": "code",
      "execution_count": null,
      "metadata": {
        "id": "JWWDqCzLedJL"
      },
      "outputs": [],
      "source": [
        "str2 = \"Good India\""
      ]
    },
    {
      "cell_type": "code",
      "execution_count": null,
      "metadata": {
        "id": "ZL1w2M0Aeiev"
      },
      "outputs": [],
      "source": [
        "str2 = str2.replace(\"Good\",\"Healthy\")"
      ]
    },
    {
      "cell_type": "code",
      "execution_count": null,
      "metadata": {
        "colab": {
          "base_uri": "https://localhost:8080/",
          "height": 36
        },
        "id": "YKhd0B_9eqL5",
        "outputId": "7616adf8-bbb4-4862-eb48-97b698f67029"
      },
      "outputs": [
        {
          "data": {
            "application/vnd.google.colaboratory.intrinsic+json": {
              "type": "string"
            },
            "text/plain": [
              "'Healthy India'"
            ]
          },
          "execution_count": 89,
          "metadata": {},
          "output_type": "execute_result"
        }
      ],
      "source": [
        "str2"
      ]
    },
    {
      "cell_type": "code",
      "execution_count": null,
      "metadata": {
        "id": "zeme7KRJeqyo"
      },
      "outputs": [],
      "source": [
        "str2 = str2.replace(\"Healthy\",\"Great\")"
      ]
    },
    {
      "cell_type": "code",
      "execution_count": null,
      "metadata": {
        "colab": {
          "base_uri": "https://localhost:8080/",
          "height": 36
        },
        "id": "68CcrTCse67_",
        "outputId": "b96bc843-eec0-4389-e23a-1b23b8c0b518"
      },
      "outputs": [
        {
          "data": {
            "application/vnd.google.colaboratory.intrinsic+json": {
              "type": "string"
            },
            "text/plain": [
              "'Great India'"
            ]
          },
          "execution_count": 91,
          "metadata": {},
          "output_type": "execute_result"
        }
      ],
      "source": [
        "str2"
      ]
    },
    {
      "cell_type": "code",
      "execution_count": null,
      "metadata": {
        "id": "WvAQdQ88e7c7"
      },
      "outputs": [],
      "source": []
    },
    {
      "cell_type": "code",
      "execution_count": null,
      "metadata": {
        "id": "FTx0zatQ7v4A"
      },
      "outputs": [],
      "source": []
    },
    {
      "cell_type": "code",
      "execution_count": null,
      "metadata": {
        "id": "oebi4qRC7v7m"
      },
      "outputs": [],
      "source": [
        "str1 = \"TAMRACHAND\" "
      ]
    },
    {
      "cell_type": "code",
      "execution_count": null,
      "metadata": {
        "id": "CfrsogaL7v_i"
      },
      "outputs": [],
      "source": [
        "str1"
      ]
    },
    {
      "cell_type": "code",
      "execution_count": null,
      "metadata": {
        "colab": {
          "base_uri": "https://localhost:8080/",
          "height": 36
        },
        "id": "2CExxb-a8FkD",
        "outputId": "e3973ba9-8ce1-4c0c-e269-d0cb5ceaaec6"
      },
      "outputs": [
        {
          "data": {
            "application/vnd.google.colaboratory.intrinsic+json": {
              "type": "string"
            },
            "text/plain": [
              "'T'"
            ]
          },
          "execution_count": 2,
          "metadata": {},
          "output_type": "execute_result"
        }
      ],
      "source": [
        "str1[0]"
      ]
    },
    {
      "cell_type": "code",
      "execution_count": null,
      "metadata": {
        "colab": {
          "base_uri": "https://localhost:8080/",
          "height": 165
        },
        "id": "0O0wbSkp8e9b",
        "outputId": "efff4eb8-64c7-4b82-fabd-ee778c4dd2d7"
      },
      "outputs": [
        {
          "ename": "TypeError",
          "evalue": "ignored",
          "output_type": "error",
          "traceback": [
            "\u001b[0;31m---------------------------------------------------------------------------\u001b[0m",
            "\u001b[0;31mTypeError\u001b[0m                                 Traceback (most recent call last)",
            "\u001b[0;32m<ipython-input-3-a7ea9de03365>\u001b[0m in \u001b[0;36m<cell line: 1>\u001b[0;34m()\u001b[0m\n\u001b[0;32m----> 1\u001b[0;31m \u001b[0mstr1\u001b[0m\u001b[0;34m[\u001b[0m\u001b[0;36m0\u001b[0m\u001b[0;34m]\u001b[0m \u001b[0;34m=\u001b[0m\u001b[0;34m\"M\"\u001b[0m\u001b[0;34m\u001b[0m\u001b[0;34m\u001b[0m\u001b[0m\n\u001b[0m",
            "\u001b[0;31mTypeError\u001b[0m: 'str' object does not support item assignment"
          ]
        }
      ],
      "source": [
        "str1[0] =\"M\""
      ]
    },
    {
      "cell_type": "code",
      "execution_count": null,
      "metadata": {
        "id": "fojJW_Dj8msS"
      },
      "outputs": [],
      "source": [
        "# 3. String is immutable "
      ]
    },
    {
      "cell_type": "code",
      "execution_count": null,
      "metadata": {
        "colab": {
          "base_uri": "https://localhost:8080/",
          "height": 36
        },
        "id": "_3I5fsrj84B_",
        "outputId": "094f22d6-784b-4999-a38e-cd78e30711bc"
      },
      "outputs": [
        {
          "data": {
            "application/vnd.google.colaboratory.intrinsic+json": {
              "type": "string"
            },
            "text/plain": [
              "'TamaraChand'"
            ]
          },
          "execution_count": 5,
          "metadata": {},
          "output_type": "execute_result"
        }
      ],
      "source": [
        "# operation on string \n",
        "df1 = \"Tamara\"\n",
        "df2= \"Chand\" \n",
        "\n",
        "df1+df2 "
      ]
    },
    {
      "cell_type": "code",
      "execution_count": null,
      "metadata": {
        "colab": {
          "base_uri": "https://localhost:8080/",
          "height": 36
        },
        "id": "nRVJqUlO9DAK",
        "outputId": "c9d57155-778d-4bf2-e02a-cb883726fd3b"
      },
      "outputs": [
        {
          "data": {
            "application/vnd.google.colaboratory.intrinsic+json": {
              "type": "string"
            },
            "text/plain": [
              "'Tamara Chand'"
            ]
          },
          "execution_count": 6,
          "metadata": {},
          "output_type": "execute_result"
        }
      ],
      "source": [
        "df1+\" \"+ df2 "
      ]
    },
    {
      "cell_type": "code",
      "execution_count": null,
      "metadata": {
        "colab": {
          "base_uri": "https://localhost:8080/",
          "height": 36
        },
        "id": "tQJQgSiK9Jj1",
        "outputId": "6276ffc0-24d6-4bad-bf11-f3fd9e8b80f9"
      },
      "outputs": [
        {
          "data": {
            "application/vnd.google.colaboratory.intrinsic+json": {
              "type": "string"
            },
            "text/plain": [
              "'TamaraTamaraTamaraTamara'"
            ]
          },
          "execution_count": 7,
          "metadata": {},
          "output_type": "execute_result"
        }
      ],
      "source": [
        "4 * df1 "
      ]
    },
    {
      "cell_type": "code",
      "execution_count": null,
      "metadata": {
        "colab": {
          "base_uri": "https://localhost:8080/",
          "height": 36
        },
        "id": "RZTs9JYT9NtM",
        "outputId": "786ec416-d0a5-4554-c163-8cad0ad07c2d"
      },
      "outputs": [
        {
          "data": {
            "application/vnd.google.colaboratory.intrinsic+json": {
              "type": "string"
            },
            "text/plain": [
              "'TAMRACHAND'"
            ]
          },
          "execution_count": 8,
          "metadata": {},
          "output_type": "execute_result"
        }
      ],
      "source": [
        "str1"
      ]
    },
    {
      "cell_type": "code",
      "execution_count": null,
      "metadata": {
        "id": "05S5A7JN9Zve"
      },
      "outputs": [],
      "source": [
        "str2 =\"RAMAYAN\" "
      ]
    },
    {
      "cell_type": "code",
      "execution_count": null,
      "metadata": {
        "id": "r41oTtSP9cnP"
      },
      "outputs": [],
      "source": [
        "# replace() \n",
        "str2 = str2.replace('R','N')"
      ]
    },
    {
      "cell_type": "code",
      "execution_count": null,
      "metadata": {
        "colab": {
          "base_uri": "https://localhost:8080/",
          "height": 36
        },
        "id": "Vzylv1cu9ngJ",
        "outputId": "a1428491-57f1-45a8-f7fb-a1f7d67e2b16"
      },
      "outputs": [
        {
          "data": {
            "application/vnd.google.colaboratory.intrinsic+json": {
              "type": "string"
            },
            "text/plain": [
              "'NAMAYAN'"
            ]
          },
          "execution_count": 13,
          "metadata": {},
          "output_type": "execute_result"
        }
      ],
      "source": [
        "str2"
      ]
    },
    {
      "cell_type": "code",
      "execution_count": null,
      "metadata": {
        "id": "a-8nshNV9pg2"
      },
      "outputs": [],
      "source": [
        "str2 = str2.replace(\"M\",\"R\")"
      ]
    },
    {
      "cell_type": "code",
      "execution_count": null,
      "metadata": {
        "colab": {
          "base_uri": "https://localhost:8080/",
          "height": 36
        },
        "id": "23O4q3DX9zJ4",
        "outputId": "e65d78b9-96dd-4679-afd5-84d06ec4e0f6"
      },
      "outputs": [
        {
          "data": {
            "application/vnd.google.colaboratory.intrinsic+json": {
              "type": "string"
            },
            "text/plain": [
              "'NARAYAN'"
            ]
          },
          "execution_count": 15,
          "metadata": {},
          "output_type": "execute_result"
        }
      ],
      "source": [
        "str2"
      ]
    },
    {
      "cell_type": "code",
      "execution_count": null,
      "metadata": {
        "id": "OxfjS1ED9z6B"
      },
      "outputs": [],
      "source": [
        "str2 = str2.replace(\"A\",\"Z\")"
      ]
    },
    {
      "cell_type": "code",
      "execution_count": null,
      "metadata": {
        "colab": {
          "base_uri": "https://localhost:8080/",
          "height": 36
        },
        "id": "zoyxzL0P97Wk",
        "outputId": "06401cd9-7352-4eb0-8aad-42064a092468"
      },
      "outputs": [
        {
          "data": {
            "application/vnd.google.colaboratory.intrinsic+json": {
              "type": "string"
            },
            "text/plain": [
              "'NZRZYZN'"
            ]
          },
          "execution_count": 17,
          "metadata": {},
          "output_type": "execute_result"
        }
      ],
      "source": [
        "str2"
      ]
    },
    {
      "cell_type": "code",
      "execution_count": null,
      "metadata": {
        "id": "LN4qr3j498uL"
      },
      "outputs": [],
      "source": [
        "str3 = \"Good India\" \n",
        "str3 = str3.replace(\"Good\",\"Healthy\")"
      ]
    },
    {
      "cell_type": "code",
      "execution_count": null,
      "metadata": {
        "colab": {
          "base_uri": "https://localhost:8080/",
          "height": 36
        },
        "id": "T6y2aQVR-Y1L",
        "outputId": "6247c6d7-3595-48ac-ce28-c5f177b56e03"
      },
      "outputs": [
        {
          "data": {
            "application/vnd.google.colaboratory.intrinsic+json": {
              "type": "string"
            },
            "text/plain": [
              "'Healthy India'"
            ]
          },
          "execution_count": 19,
          "metadata": {},
          "output_type": "execute_result"
        }
      ],
      "source": [
        "str3"
      ]
    },
    {
      "cell_type": "code",
      "execution_count": null,
      "metadata": {
        "colab": {
          "base_uri": "https://localhost:8080/",
          "height": 36
        },
        "id": "D7CBQJ26-Z9N",
        "outputId": "f0d312ca-6ddb-4433-848b-607d2b281135"
      },
      "outputs": [
        {
          "data": {
            "application/vnd.google.colaboratory.intrinsic+json": {
              "type": "string"
            },
            "text/plain": [
              "'Healthy India'"
            ]
          },
          "execution_count": 20,
          "metadata": {},
          "output_type": "execute_result"
        }
      ],
      "source": [
        "str3"
      ]
    },
    {
      "cell_type": "code",
      "execution_count": null,
      "metadata": {
        "id": "jJY6LPFX-usO"
      },
      "outputs": [],
      "source": [
        "str3= str3.replace(\" \",\"\")"
      ]
    },
    {
      "cell_type": "code",
      "execution_count": null,
      "metadata": {
        "colab": {
          "base_uri": "https://localhost:8080/",
          "height": 36
        },
        "id": "pyHBfzsr-2Wf",
        "outputId": "b82b7e4b-3d0b-4a38-ba94-e4cd52d542f8"
      },
      "outputs": [
        {
          "data": {
            "application/vnd.google.colaboratory.intrinsic+json": {
              "type": "string"
            },
            "text/plain": [
              "'HealthyIndia'"
            ]
          },
          "execution_count": 23,
          "metadata": {},
          "output_type": "execute_result"
        }
      ],
      "source": [
        "str3"
      ]
    },
    {
      "cell_type": "code",
      "execution_count": null,
      "metadata": {
        "colab": {
          "base_uri": "https://localhost:8080/",
          "height": 36
        },
        "id": "b8M35HFH-78D",
        "outputId": "558ef279-0620-4817-b826-734fed82d5b7"
      },
      "outputs": [
        {
          "data": {
            "application/vnd.google.colaboratory.intrinsic+json": {
              "type": "string"
            },
            "text/plain": [
              "'HealthyIndia'"
            ]
          },
          "execution_count": 24,
          "metadata": {},
          "output_type": "execute_result"
        }
      ],
      "source": [
        "# index()\n",
        "str3"
      ]
    },
    {
      "cell_type": "code",
      "execution_count": null,
      "metadata": {
        "colab": {
          "base_uri": "https://localhost:8080/"
        },
        "id": "XEJy0LM5_Hbg",
        "outputId": "784d45ec-d726-4035-80d6-e0848ef2a973"
      },
      "outputs": [
        {
          "data": {
            "text/plain": [
              "6"
            ]
          },
          "execution_count": 25,
          "metadata": {},
          "output_type": "execute_result"
        }
      ],
      "source": [
        "str3.index('y')"
      ]
    },
    {
      "cell_type": "code",
      "execution_count": null,
      "metadata": {
        "colab": {
          "base_uri": "https://localhost:8080/"
        },
        "id": "QDCdFtFu_Ljl",
        "outputId": "8ea29b5b-eec1-47ec-8391-e24560117cb1"
      },
      "outputs": [
        {
          "data": {
            "text/plain": [
              "0"
            ]
          },
          "execution_count": 26,
          "metadata": {},
          "output_type": "execute_result"
        }
      ],
      "source": [
        "str3.find(\"H\")"
      ]
    },
    {
      "cell_type": "code",
      "execution_count": null,
      "metadata": {
        "colab": {
          "base_uri": "https://localhost:8080/"
        },
        "id": "t-gxZ2Mc_UAg",
        "outputId": "59913b10-e83b-4635-bf21-64ed81bbe396"
      },
      "outputs": [
        {
          "data": {
            "text/plain": [
              "2"
            ]
          },
          "execution_count": 27,
          "metadata": {},
          "output_type": "execute_result"
        }
      ],
      "source": [
        "str3.find(\"a\")"
      ]
    },
    {
      "cell_type": "code",
      "execution_count": null,
      "metadata": {
        "colab": {
          "base_uri": "https://localhost:8080/",
          "height": 36
        },
        "id": "xtNq2lBD_YNV",
        "outputId": "f56a3354-1e41-42c5-e663-0383377cc882"
      },
      "outputs": [
        {
          "data": {
            "application/vnd.google.colaboratory.intrinsic+json": {
              "type": "string"
            },
            "text/plain": [
              "'HealthyIndia'"
            ]
          },
          "execution_count": 28,
          "metadata": {},
          "output_type": "execute_result"
        }
      ],
      "source": [
        "# count()\n",
        "str3"
      ]
    },
    {
      "cell_type": "code",
      "execution_count": null,
      "metadata": {
        "colab": {
          "base_uri": "https://localhost:8080/"
        },
        "id": "IZLl6Cbi_fj2",
        "outputId": "f0181705-f29a-497f-c443-2aae918f9b22"
      },
      "outputs": [
        {
          "data": {
            "text/plain": [
              "0"
            ]
          },
          "execution_count": 30,
          "metadata": {},
          "output_type": "execute_result"
        }
      ],
      "source": [
        "str3.count('A')"
      ]
    },
    {
      "cell_type": "code",
      "execution_count": null,
      "metadata": {
        "colab": {
          "base_uri": "https://localhost:8080/",
          "height": 36
        },
        "id": "ycLFhEF__iAR",
        "outputId": "20698520-6cc5-471d-d9cf-52fc819f7cde"
      },
      "outputs": [
        {
          "data": {
            "application/vnd.google.colaboratory.intrinsic+json": {
              "type": "string"
            },
            "text/plain": [
              "'HealthyIndia'"
            ]
          },
          "execution_count": 31,
          "metadata": {},
          "output_type": "execute_result"
        }
      ],
      "source": [
        "#min()\n",
        "str3"
      ]
    },
    {
      "cell_type": "code",
      "execution_count": null,
      "metadata": {
        "colab": {
          "base_uri": "https://localhost:8080/",
          "height": 36
        },
        "id": "hDl1qg0m_yC9",
        "outputId": "912d33c3-a986-49f0-9fbb-96716f3d5549"
      },
      "outputs": [
        {
          "data": {
            "application/vnd.google.colaboratory.intrinsic+json": {
              "type": "string"
            },
            "text/plain": [
              "'H'"
            ]
          },
          "execution_count": 32,
          "metadata": {},
          "output_type": "execute_result"
        }
      ],
      "source": [
        "min(str3)"
      ]
    },
    {
      "cell_type": "code",
      "execution_count": null,
      "metadata": {
        "id": "GxNDL67y_z2U"
      },
      "outputs": [],
      "source": [
        "df4 =\"dayanand\""
      ]
    },
    {
      "cell_type": "code",
      "execution_count": null,
      "metadata": {
        "colab": {
          "base_uri": "https://localhost:8080/",
          "height": 36
        },
        "id": "eLLjXrEL_5gV",
        "outputId": "d8a7e91e-0c0c-4f4c-ed18-4cf08e7915f4"
      },
      "outputs": [
        {
          "data": {
            "application/vnd.google.colaboratory.intrinsic+json": {
              "type": "string"
            },
            "text/plain": [
              "'a'"
            ]
          },
          "execution_count": 34,
          "metadata": {},
          "output_type": "execute_result"
        }
      ],
      "source": [
        "min(df4)"
      ]
    },
    {
      "cell_type": "code",
      "execution_count": null,
      "metadata": {
        "colab": {
          "base_uri": "https://localhost:8080/",
          "height": 36
        },
        "id": "R_v6HtwN_6uc",
        "outputId": "0d0a3a10-d954-4564-db80-1b64a831f216"
      },
      "outputs": [
        {
          "data": {
            "application/vnd.google.colaboratory.intrinsic+json": {
              "type": "string"
            },
            "text/plain": [
              "'y'"
            ]
          },
          "execution_count": 35,
          "metadata": {},
          "output_type": "execute_result"
        }
      ],
      "source": [
        "max(df4)"
      ]
    },
    {
      "cell_type": "code",
      "execution_count": null,
      "metadata": {
        "colab": {
          "base_uri": "https://localhost:8080/"
        },
        "id": "nFjBkJwd_9tw",
        "outputId": "518dc2f2-d430-4ee9-99d3-b943eeb67b25"
      },
      "outputs": [
        {
          "data": {
            "text/plain": [
              "6"
            ]
          },
          "execution_count": 37,
          "metadata": {},
          "output_type": "execute_result"
        }
      ],
      "source": [
        "# split \n",
        "str3.index('y')"
      ]
    },
    {
      "cell_type": "code",
      "execution_count": null,
      "metadata": {
        "id": "ql0hBJDzAC2l"
      },
      "outputs": [],
      "source": [
        "str3 = str3[:7]+\" \" + str3[7:]"
      ]
    },
    {
      "cell_type": "code",
      "execution_count": null,
      "metadata": {
        "colab": {
          "base_uri": "https://localhost:8080/",
          "height": 36
        },
        "id": "g76iAx5QAS17",
        "outputId": "659750c1-2443-471d-f38e-cf526d01bff6"
      },
      "outputs": [
        {
          "data": {
            "application/vnd.google.colaboratory.intrinsic+json": {
              "type": "string"
            },
            "text/plain": [
              "'Healthy India'"
            ]
          },
          "execution_count": 39,
          "metadata": {},
          "output_type": "execute_result"
        }
      ],
      "source": [
        "str3"
      ]
    },
    {
      "cell_type": "code",
      "execution_count": null,
      "metadata": {
        "colab": {
          "base_uri": "https://localhost:8080/"
        },
        "id": "atZSouImATe5",
        "outputId": "e5e0837f-5cce-44ec-ff67-852b8748f3cf"
      },
      "outputs": [
        {
          "data": {
            "text/plain": [
              "['Healthy', 'India']"
            ]
          },
          "execution_count": 40,
          "metadata": {},
          "output_type": "execute_result"
        }
      ],
      "source": [
        "str3.split(\" \")"
      ]
    },
    {
      "cell_type": "code",
      "execution_count": null,
      "metadata": {
        "id": "yhd44aQ9AfAY"
      },
      "outputs": [],
      "source": [
        "df = 'd-a-y-a-n-a-nd'"
      ]
    },
    {
      "cell_type": "code",
      "execution_count": null,
      "metadata": {
        "id": "Y-MfqBNFAmwm"
      },
      "outputs": [],
      "source": [
        "df= df.split(\"-\")"
      ]
    },
    {
      "cell_type": "code",
      "execution_count": null,
      "metadata": {
        "colab": {
          "base_uri": "https://localhost:8080/"
        },
        "id": "TEv2lkuLA7xn",
        "outputId": "53ba257d-36f6-40da-e3c0-9a2a90aa3764"
      },
      "outputs": [
        {
          "data": {
            "text/plain": [
              "['d', 'a', 'y', 'a', 'n', 'a', 'nd']"
            ]
          },
          "execution_count": 51,
          "metadata": {},
          "output_type": "execute_result"
        }
      ],
      "source": [
        "df"
      ]
    },
    {
      "cell_type": "code",
      "execution_count": null,
      "metadata": {
        "id": "NXjS2cHcAose"
      },
      "outputs": [],
      "source": [
        "#join()"
      ]
    },
    {
      "cell_type": "code",
      "execution_count": null,
      "metadata": {
        "colab": {
          "base_uri": "https://localhost:8080/",
          "height": 36
        },
        "id": "1H0PQ1VbAxcw",
        "outputId": "95276b1b-90e1-4fd4-f628-5a1ea4ba7a71"
      },
      "outputs": [
        {
          "data": {
            "application/vnd.google.colaboratory.intrinsic+json": {
              "type": "string"
            },
            "text/plain": [
              "'dayanand'"
            ]
          },
          "execution_count": 53,
          "metadata": {},
          "output_type": "execute_result"
        }
      ],
      "source": [
        "\"\".join(df)"
      ]
    },
    {
      "cell_type": "code",
      "execution_count": null,
      "metadata": {
        "colab": {
          "base_uri": "https://localhost:8080/",
          "height": 36
        },
        "id": "EtLVkC_iAxpQ",
        "outputId": "ea7791f8-2554-4855-bd83-4a624b796c29"
      },
      "outputs": [
        {
          "data": {
            "application/vnd.google.colaboratory.intrinsic+json": {
              "type": "string"
            },
            "text/plain": [
              "'gnik a saw ereht ecno'"
            ]
          },
          "execution_count": 57,
          "metadata": {},
          "output_type": "execute_result"
        }
      ],
      "source": [
        "str4= \"once there was a king\"\n",
        "# king a was there once  \n",
        "str4[::-1]"
      ]
    },
    {
      "cell_type": "code",
      "execution_count": null,
      "metadata": {
        "id": "2Vtk0XXgBK_r"
      },
      "outputs": [],
      "source": []
    },
    {
      "cell_type": "code",
      "execution_count": null,
      "metadata": {
        "id": "4IkrPP4xBe6a"
      },
      "outputs": [],
      "source": [
        "# 2. bytes:- it is also sequence data-type in which you can only store  integers with range 0 to 256.\n",
        "# bytes()\n",
        "\n",
        "# 1. it's allow indexing \n",
        "# 2. it's allow slicing \n",
        "# 3. bytes is mutable "
      ]
    },
    {
      "cell_type": "code",
      "execution_count": null,
      "metadata": {
        "id": "7F91bR2vBfEs"
      },
      "outputs": [],
      "source": [
        "df1 = bytes(67) "
      ]
    },
    {
      "cell_type": "code",
      "execution_count": null,
      "metadata": {
        "colab": {
          "base_uri": "https://localhost:8080/"
        },
        "id": "1JgwM9_fCQfO",
        "outputId": "ac96e200-dbdb-4258-951c-f1acc87b072a"
      },
      "outputs": [
        {
          "data": {
            "text/plain": [
              "b'\\x00\\x00\\x00\\x00\\x00\\x00\\x00\\x00\\x00\\x00\\x00\\x00\\x00\\x00\\x00\\x00\\x00\\x00\\x00\\x00\\x00\\x00\\x00\\x00\\x00\\x00\\x00\\x00\\x00\\x00\\x00\\x00\\x00\\x00\\x00\\x00\\x00\\x00\\x00\\x00\\x00\\x00\\x00\\x00\\x00\\x00\\x00\\x00\\x00\\x00\\x00\\x00\\x00\\x00\\x00\\x00\\x00\\x00\\x00\\x00\\x00\\x00\\x00\\x00\\x00\\x00\\x00'"
            ]
          },
          "execution_count": 60,
          "metadata": {},
          "output_type": "execute_result"
        }
      ],
      "source": [
        "df1"
      ]
    },
    {
      "cell_type": "code",
      "execution_count": null,
      "metadata": {
        "id": "EO8eia3WCQ-B"
      },
      "outputs": [],
      "source": [
        "df2= bytes([12,45,67,89,9,26])"
      ]
    },
    {
      "cell_type": "code",
      "execution_count": null,
      "metadata": {
        "colab": {
          "base_uri": "https://localhost:8080/"
        },
        "id": "-NnazbwVCgLT",
        "outputId": "9061ec08-74c0-47d7-954d-2e5a75079707"
      },
      "outputs": [
        {
          "data": {
            "text/plain": [
              "b'\\x0c-CY\\t\\x1a'"
            ]
          },
          "execution_count": 65,
          "metadata": {},
          "output_type": "execute_result"
        }
      ],
      "source": [
        "df2"
      ]
    },
    {
      "cell_type": "code",
      "execution_count": null,
      "metadata": {
        "colab": {
          "base_uri": "https://localhost:8080/"
        },
        "id": "h1-TU5kSCrkt",
        "outputId": "b51b0788-ac69-47b0-e419-3866a8515f2a"
      },
      "outputs": [
        {
          "data": {
            "text/plain": [
              "12"
            ]
          },
          "execution_count": 66,
          "metadata": {},
          "output_type": "execute_result"
        }
      ],
      "source": [
        "df2[0]"
      ]
    },
    {
      "cell_type": "code",
      "execution_count": null,
      "metadata": {
        "colab": {
          "base_uri": "https://localhost:8080/"
        },
        "id": "uaHcwdwvDErM",
        "outputId": "90a48546-3f11-4d12-942d-0cd3e75db867"
      },
      "outputs": [
        {
          "data": {
            "text/plain": [
              "b'\\x0c-CY'"
            ]
          },
          "execution_count": 67,
          "metadata": {},
          "output_type": "execute_result"
        }
      ],
      "source": [
        "df2[:4] "
      ]
    },
    {
      "cell_type": "code",
      "execution_count": null,
      "metadata": {
        "colab": {
          "base_uri": "https://localhost:8080/"
        },
        "id": "UkoTXfqEDtMq",
        "outputId": "b5813296-d1d4-445c-8d0f-4bc0035ee965"
      },
      "outputs": [
        {
          "data": {
            "text/plain": [
              "12"
            ]
          },
          "execution_count": 68,
          "metadata": {},
          "output_type": "execute_result"
        }
      ],
      "source": [
        "df2[0]"
      ]
    },
    {
      "cell_type": "code",
      "execution_count": null,
      "metadata": {
        "id": "0U5-YUGQD9ft"
      },
      "outputs": [],
      "source": [
        "# bytearray :- it is similar to bytes.\n",
        "# bytearray is mutable"
      ]
    },
    {
      "cell_type": "code",
      "execution_count": null,
      "metadata": {
        "id": "mVYYqqp_Es1V"
      },
      "outputs": [],
      "source": [
        "df1 = bytearray([12,5,66,88])"
      ]
    },
    {
      "cell_type": "code",
      "execution_count": null,
      "metadata": {
        "colab": {
          "base_uri": "https://localhost:8080/"
        },
        "id": "ziXIec7sEs5m",
        "outputId": "34e1c41a-04b5-4e10-c7cf-a70ef36315db"
      },
      "outputs": [
        {
          "data": {
            "text/plain": [
              "12"
            ]
          },
          "execution_count": 73,
          "metadata": {},
          "output_type": "execute_result"
        }
      ],
      "source": [
        "df1[0]"
      ]
    },
    {
      "cell_type": "code",
      "execution_count": null,
      "metadata": {
        "id": "yHf-K2FjEtCt"
      },
      "outputs": [],
      "source": [
        "df1[0] =99"
      ]
    },
    {
      "cell_type": "code",
      "execution_count": null,
      "metadata": {
        "colab": {
          "base_uri": "https://localhost:8080/"
        },
        "id": "bPUyQBtVFEsQ",
        "outputId": "9e86540a-d86c-4242-dcc4-42a67ed160e8"
      },
      "outputs": [
        {
          "data": {
            "text/plain": [
              "99"
            ]
          },
          "execution_count": 75,
          "metadata": {},
          "output_type": "execute_result"
        }
      ],
      "source": [
        "df1[0] "
      ]
    },
    {
      "cell_type": "code",
      "execution_count": null,
      "metadata": {
        "colab": {
          "base_uri": "https://localhost:8080/"
        },
        "id": "x-_wmQLhFGRE",
        "outputId": "22128754-2609-4c3f-d1d9-9597dd89179b"
      },
      "outputs": [
        {
          "data": {
            "text/plain": [
              "bytearray(b'c\\x05BX')"
            ]
          },
          "execution_count": 76,
          "metadata": {},
          "output_type": "execute_result"
        }
      ],
      "source": [
        "df1"
      ]
    },
    {
      "cell_type": "code",
      "execution_count": null,
      "metadata": {
        "colab": {
          "base_uri": "https://localhost:8080/"
        },
        "id": "F_Y8BPVzFKNB",
        "outputId": "6dfe75f4-016e-43cb-d689-ba8a62be8bc9"
      },
      "outputs": [
        {
          "data": {
            "text/plain": [
              "bytearray"
            ]
          },
          "execution_count": 77,
          "metadata": {},
          "output_type": "execute_result"
        }
      ],
      "source": [
        "type(df1)"
      ]
    },
    {
      "cell_type": "code",
      "execution_count": null,
      "metadata": {
        "id": "sGurX94_FP68"
      },
      "outputs": [],
      "source": []
    },
    {
      "cell_type": "code",
      "execution_count": null,
      "metadata": {
        "id": "RUhn46ZJFWX5"
      },
      "outputs": [],
      "source": [
        "# typecasting :- \n",
        "\n",
        "x=24 "
      ]
    },
    {
      "cell_type": "code",
      "execution_count": null,
      "metadata": {
        "colab": {
          "base_uri": "https://localhost:8080/"
        },
        "id": "P4Z0Q-fuFWew",
        "outputId": "89f73810-4906-449a-9994-c64823dcebad"
      },
      "outputs": [
        {
          "data": {
            "text/plain": [
              "int"
            ]
          },
          "execution_count": 79,
          "metadata": {},
          "output_type": "execute_result"
        }
      ],
      "source": [
        "type(x)"
      ]
    },
    {
      "cell_type": "code",
      "execution_count": null,
      "metadata": {
        "id": "WpFzIGOkFmsR"
      },
      "outputs": [],
      "source": [
        "x=float(x) "
      ]
    },
    {
      "cell_type": "code",
      "execution_count": null,
      "metadata": {
        "colab": {
          "base_uri": "https://localhost:8080/"
        },
        "id": "J11kUbT5FrGu",
        "outputId": "b7313693-e98c-4501-9ed2-9e2a9612522e"
      },
      "outputs": [
        {
          "data": {
            "text/plain": [
              "24.0"
            ]
          },
          "execution_count": 81,
          "metadata": {},
          "output_type": "execute_result"
        }
      ],
      "source": [
        "x"
      ]
    },
    {
      "cell_type": "code",
      "execution_count": null,
      "metadata": {
        "colab": {
          "base_uri": "https://localhost:8080/"
        },
        "id": "LYIuFmbcFr89",
        "outputId": "0a8acaba-10ee-45f8-bc04-37d4989dd952"
      },
      "outputs": [
        {
          "data": {
            "text/plain": [
              "float"
            ]
          },
          "execution_count": 82,
          "metadata": {},
          "output_type": "execute_result"
        }
      ],
      "source": [
        "type(x)"
      ]
    },
    {
      "cell_type": "code",
      "execution_count": null,
      "metadata": {
        "id": "zju-d7yPFu1M"
      },
      "outputs": [],
      "source": [
        "df1=34.6"
      ]
    },
    {
      "cell_type": "code",
      "execution_count": null,
      "metadata": {
        "colab": {
          "base_uri": "https://localhost:8080/"
        },
        "id": "6_-Z98UDFyDk",
        "outputId": "56331b9d-7a5c-460a-c28f-304d360b9f59"
      },
      "outputs": [
        {
          "data": {
            "text/plain": [
              "float"
            ]
          },
          "execution_count": 84,
          "metadata": {},
          "output_type": "execute_result"
        }
      ],
      "source": [
        "type(df1)"
      ]
    },
    {
      "cell_type": "code",
      "execution_count": null,
      "metadata": {
        "id": "MlBNVT4FFzJ9"
      },
      "outputs": [],
      "source": [
        "df1 = int(df1)"
      ]
    },
    {
      "cell_type": "code",
      "execution_count": null,
      "metadata": {
        "colab": {
          "base_uri": "https://localhost:8080/"
        },
        "id": "0Sx-Cs9TF09E",
        "outputId": "d96fe7fd-cfbc-4e06-a368-2b88a57cb281"
      },
      "outputs": [
        {
          "data": {
            "text/plain": [
              "34"
            ]
          },
          "execution_count": 86,
          "metadata": {},
          "output_type": "execute_result"
        }
      ],
      "source": [
        "df1"
      ]
    },
    {
      "cell_type": "code",
      "execution_count": null,
      "metadata": {
        "colab": {
          "base_uri": "https://localhost:8080/"
        },
        "id": "S_ptCTVVF1T6",
        "outputId": "45be7eb3-7f07-46e6-a924-611fd1d813cc"
      },
      "outputs": [
        {
          "data": {
            "text/plain": [
              "int"
            ]
          },
          "execution_count": 87,
          "metadata": {},
          "output_type": "execute_result"
        }
      ],
      "source": [
        "type(df1)"
      ]
    },
    {
      "cell_type": "code",
      "execution_count": null,
      "metadata": {
        "id": "QV_QtpEhF89x"
      },
      "outputs": [],
      "source": [
        "df1=56"
      ]
    },
    {
      "cell_type": "code",
      "execution_count": null,
      "metadata": {
        "id": "AJQOAXp4F_d9"
      },
      "outputs": [],
      "source": [
        "df1 = complex(df1)"
      ]
    },
    {
      "cell_type": "code",
      "execution_count": null,
      "metadata": {
        "colab": {
          "base_uri": "https://localhost:8080/"
        },
        "id": "VjFpYzg5GBtw",
        "outputId": "729d7b3f-532b-4d51-d4b8-969824ec0c2a"
      },
      "outputs": [
        {
          "data": {
            "text/plain": [
              "(56+0j)"
            ]
          },
          "execution_count": 90,
          "metadata": {},
          "output_type": "execute_result"
        }
      ],
      "source": [
        "df1"
      ]
    },
    {
      "cell_type": "code",
      "execution_count": null,
      "metadata": {
        "colab": {
          "base_uri": "https://localhost:8080/"
        },
        "id": "24lRQuzVGCMK",
        "outputId": "1673f32a-e306-48aa-d293-8564659f74a0"
      },
      "outputs": [
        {
          "data": {
            "text/plain": [
              "complex"
            ]
          },
          "execution_count": 91,
          "metadata": {},
          "output_type": "execute_result"
        }
      ],
      "source": [
        "type(df1)"
      ]
    },
    {
      "cell_type": "code",
      "execution_count": null,
      "metadata": {
        "id": "Z71DYjtsGD1m"
      },
      "outputs": [],
      "source": [
        "df1=34+2j"
      ]
    },
    {
      "cell_type": "code",
      "execution_count": null,
      "metadata": {
        "colab": {
          "base_uri": "https://localhost:8080/"
        },
        "id": "UZsnnelHGGph",
        "outputId": "16ccddfe-ac82-4028-af4d-bf8dbf4f67af"
      },
      "outputs": [
        {
          "data": {
            "text/plain": [
              "complex"
            ]
          },
          "execution_count": 93,
          "metadata": {},
          "output_type": "execute_result"
        }
      ],
      "source": [
        "type(df1)"
      ]
    },
    {
      "cell_type": "code",
      "execution_count": null,
      "metadata": {
        "colab": {
          "base_uri": "https://localhost:8080/",
          "height": 165
        },
        "id": "4TBE2B47GH6O",
        "outputId": "a6609a65-4d9e-4d33-a12c-7d99334b9d93"
      },
      "outputs": [
        {
          "ename": "TypeError",
          "evalue": "ignored",
          "output_type": "error",
          "traceback": [
            "\u001b[0;31m---------------------------------------------------------------------------\u001b[0m",
            "\u001b[0;31mTypeError\u001b[0m                                 Traceback (most recent call last)",
            "\u001b[0;32m<ipython-input-94-18af01e7dafc>\u001b[0m in \u001b[0;36m<cell line: 1>\u001b[0;34m()\u001b[0m\n\u001b[0;32m----> 1\u001b[0;31m \u001b[0mdf2\u001b[0m \u001b[0;34m=\u001b[0m \u001b[0mint\u001b[0m\u001b[0;34m(\u001b[0m\u001b[0mdf1\u001b[0m\u001b[0;34m)\u001b[0m\u001b[0;34m\u001b[0m\u001b[0;34m\u001b[0m\u001b[0m\n\u001b[0m",
            "\u001b[0;31mTypeError\u001b[0m: can't convert complex to int"
          ]
        }
      ],
      "source": [
        "df2 = int(df1) "
      ]
    },
    {
      "cell_type": "code",
      "execution_count": null,
      "metadata": {
        "id": "GqOb-KneGUWJ"
      },
      "outputs": [],
      "source": [
        "df1=\"ram\""
      ]
    },
    {
      "cell_type": "code",
      "execution_count": null,
      "metadata": {
        "colab": {
          "base_uri": "https://localhost:8080/",
          "height": 165
        },
        "id": "mma1x6_6Gdrs",
        "outputId": "44712cb8-723c-47d6-837b-5eff6250d972"
      },
      "outputs": [
        {
          "ename": "ValueError",
          "evalue": "ignored",
          "output_type": "error",
          "traceback": [
            "\u001b[0;31m---------------------------------------------------------------------------\u001b[0m",
            "\u001b[0;31mValueError\u001b[0m                                Traceback (most recent call last)",
            "\u001b[0;32m<ipython-input-96-61b25d7b41e5>\u001b[0m in \u001b[0;36m<cell line: 1>\u001b[0;34m()\u001b[0m\n\u001b[0;32m----> 1\u001b[0;31m \u001b[0mdf1\u001b[0m \u001b[0;34m=\u001b[0m \u001b[0mint\u001b[0m\u001b[0;34m(\u001b[0m\u001b[0mdf1\u001b[0m\u001b[0;34m)\u001b[0m\u001b[0;34m\u001b[0m\u001b[0;34m\u001b[0m\u001b[0m\n\u001b[0m",
            "\u001b[0;31mValueError\u001b[0m: invalid literal for int() with base 10: 'ram'"
          ]
        }
      ],
      "source": [
        "df1 = int(df1)"
      ]
    },
    {
      "cell_type": "code",
      "execution_count": null,
      "metadata": {
        "id": "rtryDhC4Gf6M"
      },
      "outputs": [],
      "source": [
        "df2=\"234\""
      ]
    },
    {
      "cell_type": "code",
      "execution_count": null,
      "metadata": {
        "colab": {
          "base_uri": "https://localhost:8080/"
        },
        "id": "pZAfsvRoGhzc",
        "outputId": "ebb32783-31f1-41ee-9d2f-906c196a99e0"
      },
      "outputs": [
        {
          "data": {
            "text/plain": [
              "str"
            ]
          },
          "execution_count": 98,
          "metadata": {},
          "output_type": "execute_result"
        }
      ],
      "source": [
        "type(df2)"
      ]
    },
    {
      "cell_type": "code",
      "execution_count": null,
      "metadata": {
        "id": "rgE4GfUlGjM_"
      },
      "outputs": [],
      "source": [
        "df2 = int(df2)"
      ]
    },
    {
      "cell_type": "code",
      "execution_count": null,
      "metadata": {
        "colab": {
          "base_uri": "https://localhost:8080/"
        },
        "id": "2dEtko6QGk1T",
        "outputId": "64b1deb8-ed4e-4bc2-b067-54b8ffae6448"
      },
      "outputs": [
        {
          "data": {
            "text/plain": [
              "234"
            ]
          },
          "execution_count": 100,
          "metadata": {},
          "output_type": "execute_result"
        }
      ],
      "source": [
        "df2"
      ]
    },
    {
      "cell_type": "code",
      "execution_count": null,
      "metadata": {
        "id": "nBAY1uZpGl5o"
      },
      "outputs": [],
      "source": [
        "df1= bytes([23,55,66])"
      ]
    },
    {
      "cell_type": "code",
      "execution_count": null,
      "metadata": {
        "colab": {
          "base_uri": "https://localhost:8080/"
        },
        "id": "qStLY6fYG0gD",
        "outputId": "bd04ac54-72b4-4c47-ba71-ef757ad9e473"
      },
      "outputs": [
        {
          "data": {
            "text/plain": [
              "bytes"
            ]
          },
          "execution_count": 104,
          "metadata": {},
          "output_type": "execute_result"
        }
      ],
      "source": [
        "type(df1)"
      ]
    },
    {
      "cell_type": "code",
      "execution_count": null,
      "metadata": {
        "colab": {
          "base_uri": "https://localhost:8080/",
          "height": 165
        },
        "id": "gUVBT9_uGs9a",
        "outputId": "5420ae6d-6941-4033-8ad9-7997d131e4e9"
      },
      "outputs": [
        {
          "ename": "TypeError",
          "evalue": "ignored",
          "output_type": "error",
          "traceback": [
            "\u001b[0;31m---------------------------------------------------------------------------\u001b[0m",
            "\u001b[0;31mTypeError\u001b[0m                                 Traceback (most recent call last)",
            "\u001b[0;32m<ipython-input-103-724e8e932828>\u001b[0m in \u001b[0;36m<cell line: 1>\u001b[0;34m()\u001b[0m\n\u001b[0;32m----> 1\u001b[0;31m \u001b[0mdf1\u001b[0m\u001b[0;34m[\u001b[0m\u001b[0;36m0\u001b[0m\u001b[0;34m]\u001b[0m\u001b[0;34m=\u001b[0m\u001b[0;36m45\u001b[0m\u001b[0;34m\u001b[0m\u001b[0;34m\u001b[0m\u001b[0m\n\u001b[0m",
            "\u001b[0;31mTypeError\u001b[0m: 'bytes' object does not support item assignment"
          ]
        }
      ],
      "source": [
        "df1[0]=45"
      ]
    },
    {
      "cell_type": "code",
      "execution_count": null,
      "metadata": {
        "id": "O4zLS7S2Gt3I"
      },
      "outputs": [],
      "source": [
        "df1= bytearray(df1)"
      ]
    },
    {
      "cell_type": "code",
      "execution_count": null,
      "metadata": {
        "colab": {
          "base_uri": "https://localhost:8080/"
        },
        "id": "__zEu3NCG7Hk",
        "outputId": "67b7d3e4-126d-40a5-f5c3-116232fbcdad"
      },
      "outputs": [
        {
          "data": {
            "text/plain": [
              "bytearray(b'\\x177B')"
            ]
          },
          "execution_count": 106,
          "metadata": {},
          "output_type": "execute_result"
        }
      ],
      "source": [
        "df1"
      ]
    },
    {
      "cell_type": "code",
      "execution_count": null,
      "metadata": {
        "colab": {
          "base_uri": "https://localhost:8080/"
        },
        "id": "h_Zwa4nWG7hA",
        "outputId": "dc54447a-20d3-4bcc-cc4d-ed32df02d278"
      },
      "outputs": [
        {
          "data": {
            "text/plain": [
              "bytearray"
            ]
          },
          "execution_count": 107,
          "metadata": {},
          "output_type": "execute_result"
        }
      ],
      "source": [
        "type(df1)"
      ]
    },
    {
      "cell_type": "code",
      "execution_count": null,
      "metadata": {
        "colab": {
          "base_uri": "https://localhost:8080/"
        },
        "id": "ADL7VsSeG8cv",
        "outputId": "4e7d8aef-8da0-4673-c945-0fbade40cbbf"
      },
      "outputs": [
        {
          "data": {
            "text/plain": [
              "23"
            ]
          },
          "execution_count": 108,
          "metadata": {},
          "output_type": "execute_result"
        }
      ],
      "source": [
        "df1[0]"
      ]
    },
    {
      "cell_type": "code",
      "execution_count": null,
      "metadata": {
        "id": "JQwO4vuwG920"
      },
      "outputs": [],
      "source": [
        "df1[0] = 66"
      ]
    },
    {
      "cell_type": "code",
      "execution_count": null,
      "metadata": {
        "colab": {
          "base_uri": "https://localhost:8080/"
        },
        "id": "WV1xBLKgG_mU",
        "outputId": "b0ca3dea-1ab6-49d5-e8e4-512ee25421fa"
      },
      "outputs": [
        {
          "data": {
            "text/plain": [
              "66"
            ]
          },
          "execution_count": 110,
          "metadata": {},
          "output_type": "execute_result"
        }
      ],
      "source": [
        "df1[0]"
      ]
    },
    {
      "cell_type": "code",
      "execution_count": null,
      "metadata": {
        "id": "Pmg_OetXHA5t"
      },
      "outputs": [],
      "source": [
        "df1=bytes(df1)"
      ]
    },
    {
      "cell_type": "code",
      "execution_count": null,
      "metadata": {
        "colab": {
          "base_uri": "https://localhost:8080/"
        },
        "id": "9uAaGdmgHD4m",
        "outputId": "e1d8d103-6a0a-42ce-8b08-ed04b9017533"
      },
      "outputs": [
        {
          "data": {
            "text/plain": [
              "b'B7B'"
            ]
          },
          "execution_count": 112,
          "metadata": {},
          "output_type": "execute_result"
        }
      ],
      "source": [
        "df1"
      ]
    },
    {
      "cell_type": "code",
      "execution_count": null,
      "metadata": {
        "colab": {
          "base_uri": "https://localhost:8080/"
        },
        "id": "rrUs_hyoHEOm",
        "outputId": "f4c9daa6-1fb6-4a24-d5a7-8985c7ad438c"
      },
      "outputs": [
        {
          "data": {
            "text/plain": [
              "bytes"
            ]
          },
          "execution_count": 113,
          "metadata": {},
          "output_type": "execute_result"
        }
      ],
      "source": [
        "type(df1)"
      ]
    },
    {
      "cell_type": "code",
      "execution_count": null,
      "metadata": {
        "id": "iHaArfBWHGQ0"
      },
      "outputs": [],
      "source": [
        "# string:- "
      ]
    },
    {
      "cell_type": "code",
      "execution_count": null,
      "metadata": {
        "id": "zspnzboBFKW2"
      },
      "outputs": [],
      "source": [
        "str1 = \"Johnsmith \" "
      ]
    },
    {
      "cell_type": "code",
      "execution_count": null,
      "metadata": {
        "colab": {
          "base_uri": "https://localhost:8080/"
        },
        "id": "lMihGmo0FNeU",
        "outputId": "13b09b0f-c8c4-4d02-ecb8-07a14e28d99d"
      },
      "outputs": [
        {
          "data": {
            "text/plain": [
              "2"
            ]
          },
          "execution_count": 3,
          "metadata": {},
          "output_type": "execute_result"
        }
      ],
      "source": [
        "str1.index('h') "
      ]
    },
    {
      "cell_type": "code",
      "execution_count": null,
      "metadata": {
        "colab": {
          "base_uri": "https://localhost:8080/"
        },
        "id": "M7BYy4MzFqFz",
        "outputId": "d27c58c5-e2bc-4a35-f68e-3b60ea6303d0"
      },
      "outputs": [
        {
          "data": {
            "text/plain": [
              "2"
            ]
          },
          "execution_count": 4,
          "metadata": {},
          "output_type": "execute_result"
        }
      ],
      "source": [
        "# count() \n",
        "str1.count('h')"
      ]
    },
    {
      "cell_type": "code",
      "execution_count": null,
      "metadata": {
        "colab": {
          "base_uri": "https://localhost:8080/"
        },
        "id": "1Q_Wo00pGArt",
        "outputId": "00888109-8047-4aa2-a4ec-30239621ee08"
      },
      "outputs": [
        {
          "data": {
            "text/plain": [
              "9"
            ]
          },
          "execution_count": 9,
          "metadata": {},
          "output_type": "execute_result"
        }
      ],
      "source": [
        "# len() \n",
        "len(str1) "
      ]
    },
    {
      "cell_type": "code",
      "execution_count": null,
      "metadata": {
        "colab": {
          "base_uri": "https://localhost:8080/",
          "height": 36
        },
        "id": "Ph-6lXELGRUC",
        "outputId": "082a32b9-6141-449f-8e60-2f7bb5f401eb"
      },
      "outputs": [
        {
          "data": {
            "application/vnd.google.colaboratory.intrinsic+json": {
              "type": "string"
            },
            "text/plain": [
              "'t'"
            ]
          },
          "execution_count": 13,
          "metadata": {},
          "output_type": "execute_result"
        }
      ],
      "source": [
        "max(str1) "
      ]
    },
    {
      "cell_type": "code",
      "execution_count": null,
      "metadata": {
        "colab": {
          "base_uri": "https://localhost:8080/",
          "height": 36
        },
        "id": "GeGv0gt6GwTO",
        "outputId": "4c0e5810-efea-4cb8-a264-3739df791518"
      },
      "outputs": [
        {
          "data": {
            "application/vnd.google.colaboratory.intrinsic+json": {
              "type": "string"
            },
            "text/plain": [
              "' '"
            ]
          },
          "execution_count": 14,
          "metadata": {},
          "output_type": "execute_result"
        }
      ],
      "source": [
        "min(str1)"
      ]
    },
    {
      "cell_type": "code",
      "execution_count": null,
      "metadata": {
        "id": "RdCPWTMjGzjB"
      },
      "outputs": [],
      "source": [
        "df = '''there was a instructor of python in Ducat \n",
        "  he teaches well \n",
        "  but unfortunetly \n",
        "  this is our python class'''\n"
      ]
    },
    {
      "cell_type": "code",
      "execution_count": null,
      "metadata": {
        "colab": {
          "base_uri": "https://localhost:8080/"
        },
        "id": "MfHTaHsvIMc2",
        "outputId": "5bda0df7-fd38-4d95-aba2-13dcdd49f2e8"
      },
      "outputs": [
        {
          "data": {
            "text/plain": [
              "['there',\n",
              " 'was',\n",
              " 'a',\n",
              " 'instructor',\n",
              " 'of',\n",
              " 'python',\n",
              " 'in',\n",
              " 'Ducat',\n",
              " '\\n',\n",
              " '',\n",
              " 'he',\n",
              " 'teaches',\n",
              " 'well',\n",
              " '\\n',\n",
              " '',\n",
              " 'but',\n",
              " 'unfortunetly',\n",
              " '\\n',\n",
              " '',\n",
              " 'this',\n",
              " 'is',\n",
              " 'our',\n",
              " 'python',\n",
              " 'class',\n",
              " '']"
            ]
          },
          "execution_count": 19,
          "metadata": {},
          "output_type": "execute_result"
        }
      ],
      "source": [
        "df.split(\" \")"
      ]
    },
    {
      "cell_type": "code",
      "execution_count": null,
      "metadata": {
        "id": "yNE8Mx8MIMge"
      },
      "outputs": [],
      "source": []
    },
    {
      "cell_type": "code",
      "execution_count": null,
      "metadata": {
        "id": "fGh5ZPI7IMp9"
      },
      "outputs": [],
      "source": []
    },
    {
      "cell_type": "code",
      "execution_count": null,
      "metadata": {
        "colab": {
          "base_uri": "https://localhost:8080/",
          "height": 53
        },
        "id": "0uws0zCrG67f",
        "outputId": "53f2ad42-7c5e-4ab7-e630-962485cdfefe"
      },
      "outputs": [
        {
          "data": {
            "application/vnd.google.colaboratory.intrinsic+json": {
              "type": "string"
            },
            "text/plain": [
              "'there was a instructor of python in Ducat \\n  he teaches well \\n  but unfortunetly \\n  this is our python class '"
            ]
          },
          "execution_count": 16,
          "metadata": {},
          "output_type": "execute_result"
        }
      ],
      "source": [
        "df"
      ]
    },
    {
      "cell_type": "code",
      "execution_count": null,
      "metadata": {
        "colab": {
          "base_uri": "https://localhost:8080/"
        },
        "id": "-Nm5P7p_G7Gz",
        "outputId": "622b8df0-99be-4647-c012-e30b7fcfd3f7"
      },
      "outputs": [
        {
          "data": {
            "text/plain": [
              "109"
            ]
          },
          "execution_count": 17,
          "metadata": {},
          "output_type": "execute_result"
        }
      ],
      "source": [
        "len(df)"
      ]
    },
    {
      "cell_type": "code",
      "execution_count": null,
      "metadata": {
        "colab": {
          "base_uri": "https://localhost:8080/",
          "height": 53
        },
        "id": "z2TJIq0FG7NK",
        "outputId": "a6b5c5a4-885e-490d-ad2f-3c225ae373ce"
      },
      "outputs": [
        {
          "data": {
            "application/vnd.google.colaboratory.intrinsic+json": {
              "type": "string"
            },
            "text/plain": [
              "'there was a instructor of python in Ducat \\n  he teaches well \\n  but unfortunetly \\n  this is our python class'"
            ]
          },
          "execution_count": 18,
          "metadata": {},
          "output_type": "execute_result"
        }
      ],
      "source": [
        "'''there was a instructor of python in Ducat \n",
        "  he teaches well \n",
        "  but unfortunetly \n",
        "  this is our python class''' "
      ]
    },
    {
      "cell_type": "code",
      "execution_count": null,
      "metadata": {
        "id": "B7atP6KWIDQ-"
      },
      "outputs": [],
      "source": [
        "# bytes \n",
        "df1 = bytes([12,44,55,66,77,99]) "
      ]
    },
    {
      "cell_type": "code",
      "execution_count": null,
      "metadata": {
        "colab": {
          "base_uri": "https://localhost:8080/"
        },
        "id": "xD68miK7IzPg",
        "outputId": "579d08a2-55ec-4d7a-b77d-40d5d6e5eb3f"
      },
      "outputs": [
        {
          "data": {
            "text/plain": [
              "b'\\x0c,7BMc'"
            ]
          },
          "execution_count": 21,
          "metadata": {},
          "output_type": "execute_result"
        }
      ],
      "source": [
        "df1"
      ]
    },
    {
      "cell_type": "code",
      "execution_count": null,
      "metadata": {
        "colab": {
          "base_uri": "https://localhost:8080/"
        },
        "id": "o51lRn_VI0JB",
        "outputId": "10f9125d-f5c9-4fc5-a8eb-463e929c9ada"
      },
      "outputs": [
        {
          "data": {
            "text/plain": [
              "bytes"
            ]
          },
          "execution_count": 22,
          "metadata": {},
          "output_type": "execute_result"
        }
      ],
      "source": [
        "type(df1)"
      ]
    },
    {
      "cell_type": "code",
      "execution_count": null,
      "metadata": {
        "id": "7kY_wxKVI1I1"
      },
      "outputs": [],
      "source": [
        "b1 = 0b1011"
      ]
    },
    {
      "cell_type": "code",
      "execution_count": null,
      "metadata": {
        "colab": {
          "base_uri": "https://localhost:8080/"
        },
        "id": "CNbmLbT1JeAQ",
        "outputId": "65dc8588-5744-4879-ceda-1f70a9648377"
      },
      "outputs": [
        {
          "data": {
            "text/plain": [
              "11"
            ]
          },
          "execution_count": 24,
          "metadata": {},
          "output_type": "execute_result"
        }
      ],
      "source": [
        "b1"
      ]
    },
    {
      "cell_type": "code",
      "execution_count": null,
      "metadata": {
        "id": "qb1CptFTJea3"
      },
      "outputs": [],
      "source": [
        "num = 0o65"
      ]
    },
    {
      "cell_type": "code",
      "execution_count": null,
      "metadata": {
        "colab": {
          "base_uri": "https://localhost:8080/"
        },
        "id": "Ers44HqMJoYy",
        "outputId": "1ba2d6a4-9e98-46b5-f049-6c308aaf3765"
      },
      "outputs": [
        {
          "data": {
            "text/plain": [
              "53"
            ]
          },
          "execution_count": 26,
          "metadata": {},
          "output_type": "execute_result"
        }
      ],
      "source": [
        "num"
      ]
    },
    {
      "cell_type": "code",
      "execution_count": null,
      "metadata": {
        "id": "xBMvqjIbJqCq"
      },
      "outputs": [],
      "source": [
        "num1 = 0x12a"
      ]
    },
    {
      "cell_type": "code",
      "execution_count": null,
      "metadata": {
        "colab": {
          "base_uri": "https://localhost:8080/"
        },
        "id": "5q2O7rLLJxjz",
        "outputId": "33378c2e-bc95-45c5-e432-516e176ce10f"
      },
      "outputs": [
        {
          "data": {
            "text/plain": [
              "298"
            ]
          },
          "execution_count": 28,
          "metadata": {},
          "output_type": "execute_result"
        }
      ],
      "source": [
        "num1"
      ]
    },
    {
      "cell_type": "code",
      "execution_count": null,
      "metadata": {
        "id": "iGvGk7RNJzEN"
      },
      "outputs": [],
      "source": [
        "d=34"
      ]
    },
    {
      "cell_type": "code",
      "execution_count": null,
      "metadata": {
        "colab": {
          "base_uri": "https://localhost:8080/"
        },
        "id": "RxoDBXgpJ5Z-",
        "outputId": "dc9f2770-3090-4358-e485-f103ceb00590"
      },
      "outputs": [
        {
          "data": {
            "text/plain": [
              "34"
            ]
          },
          "execution_count": 31,
          "metadata": {},
          "output_type": "execute_result"
        }
      ],
      "source": [
        "d"
      ]
    },
    {
      "cell_type": "code",
      "execution_count": null,
      "metadata": {
        "id": "zQGswqlLJ5wu"
      },
      "outputs": [],
      "source": [
        "# list:- it is a sequence data-type in which you can store any type of value in sequnce.\n",
        "# it is smilar to array, in which  you can store any type of value in sequnce.\n",
        "\n",
        "# [] \n",
        "\n",
        "# Properties of list are as below \n",
        "# it's allow indexing \n",
        "# it's allow slicing \n",
        "# list is mutable  "
      ]
    },
    {
      "cell_type": "code",
      "execution_count": null,
      "metadata": {
        "id": "wkG9zYcOKKGp"
      },
      "outputs": [],
      "source": [
        "df1 = [] "
      ]
    },
    {
      "cell_type": "code",
      "execution_count": null,
      "metadata": {
        "colab": {
          "base_uri": "https://localhost:8080/"
        },
        "id": "6QTbDUuLKKLQ",
        "outputId": "2c21c8cf-0865-4407-faf8-6843bd2e64ca"
      },
      "outputs": [
        {
          "data": {
            "text/plain": [
              "list"
            ]
          },
          "execution_count": 34,
          "metadata": {},
          "output_type": "execute_result"
        }
      ],
      "source": [
        "type(df1)"
      ]
    },
    {
      "cell_type": "code",
      "execution_count": null,
      "metadata": {
        "id": "nkHQq2X5KKSZ"
      },
      "outputs": [],
      "source": [
        "df2 = [12,24.5,2+3j,\"Dayananad\"] "
      ]
    },
    {
      "cell_type": "code",
      "execution_count": null,
      "metadata": {
        "colab": {
          "base_uri": "https://localhost:8080/"
        },
        "id": "d_BRRp_NKKYy",
        "outputId": "5202f131-4f24-41c3-8647-3be3bf32c4c3"
      },
      "outputs": [
        {
          "data": {
            "text/plain": [
              "[12, 24.5, (2+3j), 'Dayananad']"
            ]
          },
          "execution_count": 36,
          "metadata": {},
          "output_type": "execute_result"
        }
      ],
      "source": [
        "df2"
      ]
    },
    {
      "cell_type": "code",
      "execution_count": null,
      "metadata": {
        "colab": {
          "base_uri": "https://localhost:8080/"
        },
        "id": "3CHGrEi1LEvR",
        "outputId": "a7cae0fe-e71a-4ea1-bb97-c764fc8fa410"
      },
      "outputs": [
        {
          "data": {
            "text/plain": [
              "24.5"
            ]
          },
          "execution_count": 37,
          "metadata": {},
          "output_type": "execute_result"
        }
      ],
      "source": [
        "df2[1]"
      ]
    },
    {
      "cell_type": "code",
      "execution_count": null,
      "metadata": {
        "colab": {
          "base_uri": "https://localhost:8080/",
          "height": 36
        },
        "id": "xIQuIBP1LL3I",
        "outputId": "4db0ea56-a66a-48bb-e638-fa2b38bb88dd"
      },
      "outputs": [
        {
          "data": {
            "application/vnd.google.colaboratory.intrinsic+json": {
              "type": "string"
            },
            "text/plain": [
              "'Dayananad'"
            ]
          },
          "execution_count": 38,
          "metadata": {},
          "output_type": "execute_result"
        }
      ],
      "source": [
        "df2[-1]"
      ]
    },
    {
      "cell_type": "code",
      "execution_count": null,
      "metadata": {
        "colab": {
          "base_uri": "https://localhost:8080/"
        },
        "id": "TS7mgsraLQk5",
        "outputId": "d1bf4b97-0dc4-4bf8-be96-12a85f09f88d"
      },
      "outputs": [
        {
          "data": {
            "text/plain": [
              "[12, 24.5, (2+3j)]"
            ]
          },
          "execution_count": 39,
          "metadata": {},
          "output_type": "execute_result"
        }
      ],
      "source": [
        "# slicing \n",
        "df2[:3]"
      ]
    },
    {
      "cell_type": "code",
      "execution_count": null,
      "metadata": {
        "colab": {
          "base_uri": "https://localhost:8080/"
        },
        "id": "ht85mKfBLhnE",
        "outputId": "2946ed3f-dd75-4ed0-8f96-4df1f7e8b6f7"
      },
      "outputs": [
        {
          "data": {
            "text/plain": [
              "['Dayananad', (2+3j), 24.5, 12]"
            ]
          },
          "execution_count": 40,
          "metadata": {},
          "output_type": "execute_result"
        }
      ],
      "source": [
        "df2[-1:-5:-1]"
      ]
    },
    {
      "cell_type": "code",
      "execution_count": null,
      "metadata": {
        "colab": {
          "base_uri": "https://localhost:8080/"
        },
        "id": "R9wdRY3vLl3y",
        "outputId": "946e350f-bd69-4aec-bd32-2b289baf9130"
      },
      "outputs": [
        {
          "data": {
            "text/plain": [
              "['Dayananad', (2+3j), 24.5, 12]"
            ]
          },
          "execution_count": 42,
          "metadata": {},
          "output_type": "execute_result"
        }
      ],
      "source": [
        "df2[-1:-5:-1]"
      ]
    },
    {
      "cell_type": "code",
      "execution_count": null,
      "metadata": {
        "id": "g2B__SaDLrZw"
      },
      "outputs": [],
      "source": [
        "str1 ='Dayananad'"
      ]
    },
    {
      "cell_type": "code",
      "execution_count": null,
      "metadata": {
        "colab": {
          "base_uri": "https://localhost:8080/",
          "height": 36
        },
        "id": "sMeMde1jL2w2",
        "outputId": "cfd06aaf-394d-4d2e-f24c-28407caaa171"
      },
      "outputs": [
        {
          "data": {
            "application/vnd.google.colaboratory.intrinsic+json": {
              "type": "string"
            },
            "text/plain": [
              "'dananayaD'"
            ]
          },
          "execution_count": 44,
          "metadata": {},
          "output_type": "execute_result"
        }
      ],
      "source": [
        "str1[::-1]"
      ]
    },
    {
      "cell_type": "code",
      "execution_count": null,
      "metadata": {
        "colab": {
          "base_uri": "https://localhost:8080/"
        },
        "id": "_3cQfHtQL32W",
        "outputId": "aa0abf37-7d62-4eb3-9cad-ee0a6c4466e6"
      },
      "outputs": [
        {
          "data": {
            "text/plain": [
              "[12, 24.5, (2+3j), 'Dayananad']"
            ]
          },
          "execution_count": 45,
          "metadata": {},
          "output_type": "execute_result"
        }
      ],
      "source": [
        "df2"
      ]
    },
    {
      "cell_type": "code",
      "execution_count": null,
      "metadata": {
        "id": "vad6t5K7MFuX"
      },
      "outputs": [],
      "source": [
        "df2[0] = 56"
      ]
    },
    {
      "cell_type": "code",
      "execution_count": null,
      "metadata": {
        "colab": {
          "base_uri": "https://localhost:8080/"
        },
        "id": "GE91BA4lMF08",
        "outputId": "8a1a48e3-2075-4049-c215-9f151f1e943b"
      },
      "outputs": [
        {
          "data": {
            "text/plain": [
              "[56, 24.5, (2+3j), 'Dayananad']"
            ]
          },
          "execution_count": 47,
          "metadata": {},
          "output_type": "execute_result"
        }
      ],
      "source": [
        "df2"
      ]
    },
    {
      "cell_type": "code",
      "execution_count": null,
      "metadata": {
        "id": "73NBED-SMKUW"
      },
      "outputs": [],
      "source": [
        "# operation list "
      ]
    },
    {
      "cell_type": "code",
      "execution_count": null,
      "metadata": {
        "id": "7jLx-rPyMfvw"
      },
      "outputs": [],
      "source": [
        "# append() \n",
        "df2.append(999) "
      ]
    },
    {
      "cell_type": "code",
      "execution_count": null,
      "metadata": {
        "colab": {
          "base_uri": "https://localhost:8080/"
        },
        "id": "VKEwx-yMMuxu",
        "outputId": "464f6fe3-c571-42ba-95d0-bdc4048978e2"
      },
      "outputs": [
        {
          "data": {
            "text/plain": [
              "[56, 24.5, (2+3j), 'Dayananad', 999]"
            ]
          },
          "execution_count": 51,
          "metadata": {},
          "output_type": "execute_result"
        }
      ],
      "source": [
        "df2"
      ]
    },
    {
      "cell_type": "code",
      "execution_count": null,
      "metadata": {
        "id": "Nk-28TbuMvMj"
      },
      "outputs": [],
      "source": [
        "df2.append([12,33,55,66,77])"
      ]
    },
    {
      "cell_type": "code",
      "execution_count": null,
      "metadata": {
        "colab": {
          "base_uri": "https://localhost:8080/"
        },
        "id": "nCSF3CFBM-kY",
        "outputId": "8cbfa57b-1b59-4d18-d77c-c8c335c9049e"
      },
      "outputs": [
        {
          "data": {
            "text/plain": [
              "[56, 24.5, (2+3j), 'Dayananad', 999, [12, 33, 55, 66, 77]]"
            ]
          },
          "execution_count": 53,
          "metadata": {},
          "output_type": "execute_result"
        }
      ],
      "source": [
        "df2"
      ]
    },
    {
      "cell_type": "code",
      "execution_count": null,
      "metadata": {
        "id": "WP02HUzxNTHV"
      },
      "outputs": [],
      "source": []
    },
    {
      "cell_type": "code",
      "execution_count": null,
      "metadata": {
        "colab": {
          "base_uri": "https://localhost:8080/"
        },
        "id": "8pCwLgxGM-_9",
        "outputId": "f63c8785-213d-49ed-895b-b91558b85d07"
      },
      "outputs": [
        {
          "data": {
            "text/plain": [
              "[12, 33, 55, 66, 77]"
            ]
          },
          "execution_count": 55,
          "metadata": {},
          "output_type": "execute_result"
        }
      ],
      "source": [
        "df2[-1] "
      ]
    },
    {
      "cell_type": "code",
      "execution_count": null,
      "metadata": {
        "colab": {
          "base_uri": "https://localhost:8080/"
        },
        "id": "Yv-NG0nxNI6a",
        "outputId": "7ff65b7c-f067-4a80-9d89-001828c81f6f"
      },
      "outputs": [
        {
          "data": {
            "text/plain": [
              "55"
            ]
          },
          "execution_count": 56,
          "metadata": {},
          "output_type": "execute_result"
        }
      ],
      "source": [
        "df2[-1][2]"
      ]
    },
    {
      "cell_type": "code",
      "execution_count": null,
      "metadata": {
        "colab": {
          "base_uri": "https://localhost:8080/"
        },
        "id": "hjG5BY2RNWF3",
        "outputId": "211a84aa-9b0d-4b19-ed60-7f820adfd3e9"
      },
      "outputs": [
        {
          "data": {
            "text/plain": [
              "77"
            ]
          },
          "execution_count": 57,
          "metadata": {},
          "output_type": "execute_result"
        }
      ],
      "source": [
        "df2[-1][-1] "
      ]
    },
    {
      "cell_type": "code",
      "execution_count": null,
      "metadata": {
        "colab": {
          "base_uri": "https://localhost:8080/"
        },
        "id": "Z6uip4dWNdP4",
        "outputId": "14546bd5-9561-4c0b-ca04-061e956b1e51"
      },
      "outputs": [
        {
          "data": {
            "text/plain": [
              "[56, 24.5, (2+3j), 'Dayananad', 999, [12, 33, 55, 66, 77]]"
            ]
          },
          "execution_count": 58,
          "metadata": {},
          "output_type": "execute_result"
        }
      ],
      "source": [
        "df2"
      ]
    },
    {
      "cell_type": "code",
      "execution_count": null,
      "metadata": {
        "colab": {
          "base_uri": "https://localhost:8080/"
        },
        "id": "LmKNAplRNgSu",
        "outputId": "2be14366-52b9-4b29-e306-a926d1841ba7"
      },
      "outputs": [
        {
          "data": {
            "text/plain": [
              "[12, 33, 55]"
            ]
          },
          "execution_count": 59,
          "metadata": {},
          "output_type": "execute_result"
        }
      ],
      "source": [
        "df2[-1][:3] "
      ]
    },
    {
      "cell_type": "code",
      "execution_count": null,
      "metadata": {
        "id": "YGOwpmQ5NoO2"
      },
      "outputs": [],
      "source": [
        "df2[-1].append(788)"
      ]
    },
    {
      "cell_type": "code",
      "execution_count": null,
      "metadata": {
        "colab": {
          "base_uri": "https://localhost:8080/"
        },
        "id": "kxDX4-4TNv4R",
        "outputId": "121ffb14-5d5c-4191-dce6-cb3cce21c092"
      },
      "outputs": [
        {
          "data": {
            "text/plain": [
              "[56, 24.5, (2+3j), 'Dayananad', 999, [12, 33, 55, 66, 77, 788]]"
            ]
          },
          "execution_count": 61,
          "metadata": {},
          "output_type": "execute_result"
        }
      ],
      "source": [
        "df2"
      ]
    },
    {
      "cell_type": "code",
      "execution_count": null,
      "metadata": {
        "id": "837liM_qNwQi"
      },
      "outputs": [],
      "source": [
        "df2.append(\"Rohan\")"
      ]
    },
    {
      "cell_type": "code",
      "execution_count": null,
      "metadata": {
        "colab": {
          "base_uri": "https://localhost:8080/"
        },
        "id": "mFDq4oWoN8L7",
        "outputId": "361475b1-c512-4cc3-e9b1-4fc420c1e40b"
      },
      "outputs": [
        {
          "data": {
            "text/plain": [
              "[56, 24.5, (2+3j), 'Dayananad', 999, [12, 33, 55, 66, 77, 788], 'Rohan']"
            ]
          },
          "execution_count": 63,
          "metadata": {},
          "output_type": "execute_result"
        }
      ],
      "source": [
        "df2"
      ]
    },
    {
      "cell_type": "code",
      "execution_count": null,
      "metadata": {
        "id": "2Nqm9EpXN8zC"
      },
      "outputs": [],
      "source": [
        "# pop "
      ]
    },
    {
      "cell_type": "code",
      "execution_count": null,
      "metadata": {
        "colab": {
          "base_uri": "https://localhost:8080/",
          "height": 36
        },
        "id": "UcFs4DwSN_Es",
        "outputId": "e0907a03-b728-4d9c-ccbe-763a8865eb2b"
      },
      "outputs": [
        {
          "data": {
            "application/vnd.google.colaboratory.intrinsic+json": {
              "type": "string"
            },
            "text/plain": [
              "'Rohan'"
            ]
          },
          "execution_count": 65,
          "metadata": {},
          "output_type": "execute_result"
        }
      ],
      "source": [
        "df2.pop() "
      ]
    },
    {
      "cell_type": "code",
      "execution_count": null,
      "metadata": {
        "colab": {
          "base_uri": "https://localhost:8080/"
        },
        "id": "gtURuq_gOCLQ",
        "outputId": "be5f9bae-dc3a-4158-fdf6-fc962ec09188"
      },
      "outputs": [
        {
          "data": {
            "text/plain": [
              "[56, 24.5, (2+3j), 'Dayananad', 999, [12, 33, 55, 66, 77, 788]]"
            ]
          },
          "execution_count": 66,
          "metadata": {},
          "output_type": "execute_result"
        }
      ],
      "source": [
        "df2"
      ]
    },
    {
      "cell_type": "code",
      "execution_count": null,
      "metadata": {
        "colab": {
          "base_uri": "https://localhost:8080/"
        },
        "id": "zyJuijAPODoa",
        "outputId": "f14db96a-8867-443b-bd11-4ecca65a3d65"
      },
      "outputs": [
        {
          "data": {
            "text/plain": [
              "788"
            ]
          },
          "execution_count": 67,
          "metadata": {},
          "output_type": "execute_result"
        }
      ],
      "source": [
        "df2[-1].pop()"
      ]
    },
    {
      "cell_type": "code",
      "execution_count": null,
      "metadata": {
        "colab": {
          "base_uri": "https://localhost:8080/"
        },
        "id": "LaDNH2vVOJ1t",
        "outputId": "eb1efedc-c762-4b6a-c692-1aa2926e045f"
      },
      "outputs": [
        {
          "data": {
            "text/plain": [
              "[56, 24.5, (2+3j), 'Dayananad', 999, [12, 33, 55, 66, 77]]"
            ]
          },
          "execution_count": 68,
          "metadata": {},
          "output_type": "execute_result"
        }
      ],
      "source": [
        "df2"
      ]
    },
    {
      "cell_type": "code",
      "execution_count": null,
      "metadata": {
        "colab": {
          "base_uri": "https://localhost:8080/"
        },
        "id": "pMl_cY3cOK5u",
        "outputId": "0cf4c4af-78df-4a6e-a540-3aad6f7cc1a2"
      },
      "outputs": [
        {
          "data": {
            "text/plain": [
              "[12, 33, 55, 66, 77]"
            ]
          },
          "execution_count": 69,
          "metadata": {},
          "output_type": "execute_result"
        }
      ],
      "source": [
        "df2.pop()"
      ]
    },
    {
      "cell_type": "code",
      "execution_count": null,
      "metadata": {
        "colab": {
          "base_uri": "https://localhost:8080/"
        },
        "id": "qOaJMk6nOUGU",
        "outputId": "9ba779d3-e48d-465a-8654-4aa54420ac5b"
      },
      "outputs": [
        {
          "data": {
            "text/plain": [
              "[56, 24.5, (2+3j), 'Dayananad', 999]"
            ]
          },
          "execution_count": 70,
          "metadata": {},
          "output_type": "execute_result"
        }
      ],
      "source": [
        "df2"
      ]
    },
    {
      "cell_type": "code",
      "execution_count": null,
      "metadata": {
        "id": "0XqlSjztOZQn"
      },
      "outputs": [],
      "source": [
        "# insert() \n",
        "\n",
        "df2.insert(2,7888)"
      ]
    },
    {
      "cell_type": "code",
      "execution_count": null,
      "metadata": {
        "colab": {
          "base_uri": "https://localhost:8080/"
        },
        "id": "YU_kGNv4Omtx",
        "outputId": "256f2323-531c-4db3-9908-415f095dfb22"
      },
      "outputs": [
        {
          "data": {
            "text/plain": [
              "[56, 24.5, 7888, (2+3j), 'Dayananad', 999]"
            ]
          },
          "execution_count": 72,
          "metadata": {},
          "output_type": "execute_result"
        }
      ],
      "source": [
        "df2"
      ]
    },
    {
      "cell_type": "code",
      "execution_count": null,
      "metadata": {
        "id": "mOzUqM9eOnKt"
      },
      "outputs": [],
      "source": [
        "['mohan','sohan','shyam'] "
      ]
    },
    {
      "cell_type": "code",
      "execution_count": null,
      "metadata": {
        "id": "6NJYUjsWO2i6"
      },
      "outputs": [],
      "source": [
        "df2.insert(1,['mohan','sohan','shyam'] )"
      ]
    },
    {
      "cell_type": "code",
      "execution_count": null,
      "metadata": {
        "colab": {
          "base_uri": "https://localhost:8080/"
        },
        "id": "J5th4WulO8lc",
        "outputId": "27e1283c-e96c-4fe5-dec0-ff36d70c05bd"
      },
      "outputs": [
        {
          "data": {
            "text/plain": [
              "[56, ['mohan', 'sohan', 'shyam'], 24.5, 7888, (2+3j), 'Dayananad', 999]"
            ]
          },
          "execution_count": 75,
          "metadata": {},
          "output_type": "execute_result"
        }
      ],
      "source": [
        "df2"
      ]
    },
    {
      "cell_type": "code",
      "execution_count": null,
      "metadata": {
        "id": "sgvxlrEuO9CE"
      },
      "outputs": [],
      "source": [
        "df2[1].insert(0,'Krishna')"
      ]
    },
    {
      "cell_type": "code",
      "execution_count": null,
      "metadata": {
        "colab": {
          "base_uri": "https://localhost:8080/"
        },
        "id": "WZImRzQ1PHMq",
        "outputId": "8d1aea16-ff0c-4c88-f99d-e85e38b8b928"
      },
      "outputs": [
        {
          "data": {
            "text/plain": [
              "[56,\n",
              " ['Krishna', 'mohan', 'sohan', 'shyam'],\n",
              " 24.5,\n",
              " 7888,\n",
              " (2+3j),\n",
              " 'Dayananad',\n",
              " 999]"
            ]
          },
          "execution_count": 77,
          "metadata": {},
          "output_type": "execute_result"
        }
      ],
      "source": [
        "df2"
      ]
    },
    {
      "cell_type": "code",
      "execution_count": null,
      "metadata": {
        "colab": {
          "base_uri": "https://localhost:8080/",
          "height": 36
        },
        "id": "K9xh9hpSPHov",
        "outputId": "b01750f8-8890-4d68-d19a-605f9127070e"
      },
      "outputs": [
        {
          "data": {
            "application/vnd.google.colaboratory.intrinsic+json": {
              "type": "string"
            },
            "text/plain": [
              "'Dayananad'"
            ]
          },
          "execution_count": 78,
          "metadata": {},
          "output_type": "execute_result"
        }
      ],
      "source": [
        "df2.pop(-2) "
      ]
    },
    {
      "cell_type": "code",
      "execution_count": null,
      "metadata": {
        "colab": {
          "base_uri": "https://localhost:8080/"
        },
        "id": "zGybHZKYPaNP",
        "outputId": "61f2801f-6b1d-4927-9c2c-27ee73617597"
      },
      "outputs": [
        {
          "data": {
            "text/plain": [
              "[56, ['Krishna', 'mohan', 'sohan', 'shyam'], 24.5, 7888, (2+3j), 999]"
            ]
          },
          "execution_count": 79,
          "metadata": {},
          "output_type": "execute_result"
        }
      ],
      "source": [
        "df2"
      ]
    },
    {
      "cell_type": "code",
      "execution_count": null,
      "metadata": {
        "id": "fexVLrnEPa7t"
      },
      "outputs": [],
      "source": [
        "df2.remove(7888)"
      ]
    },
    {
      "cell_type": "code",
      "execution_count": null,
      "metadata": {
        "colab": {
          "base_uri": "https://localhost:8080/"
        },
        "id": "xYe_sMTGPlIA",
        "outputId": "b893be65-2a23-4c5a-fbdc-d99eae3afb25"
      },
      "outputs": [
        {
          "data": {
            "text/plain": [
              "[56, ['Krishna', 'mohan', 'sohan', 'shyam'], 24.5, (2+3j), 999]"
            ]
          },
          "execution_count": 81,
          "metadata": {},
          "output_type": "execute_result"
        }
      ],
      "source": [
        "df2"
      ]
    },
    {
      "cell_type": "code",
      "execution_count": null,
      "metadata": {
        "colab": {
          "base_uri": "https://localhost:8080/"
        },
        "id": "YyxoozdoPmaj",
        "outputId": "86cc186a-d251-441f-f725-254328263978"
      },
      "outputs": [
        {
          "data": {
            "text/plain": [
              "1"
            ]
          },
          "execution_count": 82,
          "metadata": {},
          "output_type": "execute_result"
        }
      ],
      "source": [
        "# index()\n",
        "df2[1].index('mohan')"
      ]
    },
    {
      "cell_type": "code",
      "execution_count": null,
      "metadata": {
        "id": "1aOYmTp6QG40"
      },
      "outputs": [
        {
          "data": {
            "text/plain": [
              "list"
            ]
          },
          "execution_count": 1,
          "metadata": {},
          "output_type": "execute_result"
        }
      ],
      "source": [
        "df2 =[22,33,11,33,22]\n",
        "type(df2)"
      ]
    },
    {
      "cell_type": "code",
      "execution_count": null,
      "metadata": {
        "colab": {
          "base_uri": "https://localhost:8080/"
        },
        "id": "AKOKbno1QYqt",
        "outputId": "98e7149c-5e83-4a6f-8bb4-a278e00bed39"
      },
      "outputs": [
        {
          "data": {
            "text/plain": [
              "2"
            ]
          },
          "execution_count": 2,
          "metadata": {},
          "output_type": "execute_result"
        }
      ],
      "source": [
        "df2.count(22)"
      ]
    },
    {
      "cell_type": "code",
      "execution_count": null,
      "metadata": {
        "colab": {
          "base_uri": "https://localhost:8080/"
        },
        "id": "TTqIde7OQaC5",
        "outputId": "270d971a-8b11-4290-c20a-556d838070b9"
      },
      "outputs": [
        {
          "data": {
            "text/plain": [
              "5"
            ]
          },
          "execution_count": 3,
          "metadata": {},
          "output_type": "execute_result"
        }
      ],
      "source": [
        "len(df2)"
      ]
    },
    {
      "cell_type": "code",
      "execution_count": null,
      "metadata": {
        "colab": {
          "base_uri": "https://localhost:8080/"
        },
        "id": "p_9JIYRRQcXV",
        "outputId": "30762ea8-fd9a-402e-b20a-fdcaecd82409"
      },
      "outputs": [
        {
          "data": {
            "text/plain": [
              "33"
            ]
          },
          "execution_count": 4,
          "metadata": {},
          "output_type": "execute_result"
        }
      ],
      "source": [
        "max(df2)"
      ]
    },
    {
      "cell_type": "code",
      "execution_count": null,
      "metadata": {
        "colab": {
          "base_uri": "https://localhost:8080/"
        },
        "id": "F7YJ2MZyQfgl",
        "outputId": "7dee84f3-b27f-4fb9-e378-358616d474c7"
      },
      "outputs": [
        {
          "data": {
            "text/plain": [
              "11"
            ]
          },
          "execution_count": 5,
          "metadata": {},
          "output_type": "execute_result"
        }
      ],
      "source": [
        "min(df2)"
      ]
    },
    {
      "cell_type": "code",
      "execution_count": null,
      "metadata": {
        "colab": {
          "base_uri": "https://localhost:8080/"
        },
        "id": "VTYxjFGqQi6g",
        "outputId": "529d2220-2b92-4d28-e7fb-fbcffa50b209"
      },
      "outputs": [
        {
          "data": {
            "text/plain": [
              "121"
            ]
          },
          "execution_count": 6,
          "metadata": {},
          "output_type": "execute_result"
        }
      ],
      "source": [
        "sum(df2)"
      ]
    },
    {
      "cell_type": "code",
      "execution_count": null,
      "metadata": {
        "id": "Nvtz8TawQlY2"
      },
      "outputs": [],
      "source": [
        "# extend()"
      ]
    },
    {
      "cell_type": "code",
      "execution_count": null,
      "metadata": {
        "id": "oibqVgo-Qowy"
      },
      "outputs": [],
      "source": [
        "l1 =[10,20,30]\n",
        "l2 =[30,40,50,60] "
      ]
    },
    {
      "cell_type": "code",
      "execution_count": null,
      "metadata": {
        "colab": {
          "base_uri": "https://localhost:8080/"
        },
        "id": "um2pyf7rQzQL",
        "outputId": "66443301-2a36-483b-eeab-c3b6b841007a"
      },
      "outputs": [
        {
          "data": {
            "text/plain": [
              "[10, 20, 30]"
            ]
          },
          "execution_count": 9,
          "metadata": {},
          "output_type": "execute_result"
        }
      ],
      "source": [
        "l1"
      ]
    },
    {
      "cell_type": "code",
      "execution_count": null,
      "metadata": {
        "colab": {
          "base_uri": "https://localhost:8080/"
        },
        "id": "6PfaNsr0Q0Tq",
        "outputId": "6198fac9-66ee-4f74-8105-c696e4618dd8"
      },
      "outputs": [
        {
          "data": {
            "text/plain": [
              "[30, 40, 50, 60]"
            ]
          },
          "execution_count": 10,
          "metadata": {},
          "output_type": "execute_result"
        }
      ],
      "source": [
        "l2"
      ]
    },
    {
      "cell_type": "code",
      "execution_count": null,
      "metadata": {
        "id": "0cBhNcpDQtT4"
      },
      "outputs": [],
      "source": [
        "l1.extend(l2) "
      ]
    },
    {
      "cell_type": "code",
      "execution_count": null,
      "metadata": {
        "colab": {
          "base_uri": "https://localhost:8080/"
        },
        "id": "_QWQpKf5Q2jm",
        "outputId": "52f890ce-e330-4705-c8ef-2b89cd81b7c3"
      },
      "outputs": [
        {
          "data": {
            "text/plain": [
              "[10, 20, 30, 30, 40, 50, 60]"
            ]
          },
          "execution_count": 12,
          "metadata": {},
          "output_type": "execute_result"
        }
      ],
      "source": [
        "l1"
      ]
    },
    {
      "cell_type": "code",
      "execution_count": null,
      "metadata": {
        "colab": {
          "base_uri": "https://localhost:8080/"
        },
        "id": "5WYmEbgfQ3mY",
        "outputId": "a634286c-16e8-4fce-ee2d-a400515ebab2"
      },
      "outputs": [
        {
          "data": {
            "text/plain": [
              "[30, 40, 50, 60]"
            ]
          },
          "execution_count": 13,
          "metadata": {},
          "output_type": "execute_result"
        }
      ],
      "source": [
        "# copy() \n",
        "\n",
        "l2"
      ]
    },
    {
      "cell_type": "code",
      "execution_count": null,
      "metadata": {
        "id": "Yu99J9JgRGhH"
      },
      "outputs": [],
      "source": [
        "l2 = l1.copy()"
      ]
    },
    {
      "cell_type": "code",
      "execution_count": null,
      "metadata": {
        "colab": {
          "base_uri": "https://localhost:8080/"
        },
        "id": "NFs0JUZRRK9q",
        "outputId": "9462f965-e929-4cad-ddef-173fc98626bf"
      },
      "outputs": [
        {
          "data": {
            "text/plain": [
              "[10, 20, 30, 30, 40, 50, 60]"
            ]
          },
          "execution_count": 15,
          "metadata": {},
          "output_type": "execute_result"
        }
      ],
      "source": [
        "l2"
      ]
    },
    {
      "cell_type": "code",
      "execution_count": null,
      "metadata": {
        "id": "WPfTkGtFRLWD"
      },
      "outputs": [],
      "source": [
        "df1 =[11,22,33,44] \n",
        "df2 =df1[:] \n",
        "df3 = df1 "
      ]
    },
    {
      "cell_type": "code",
      "execution_count": null,
      "metadata": {
        "colab": {
          "base_uri": "https://localhost:8080/"
        },
        "id": "u4QGq1QSSJhO",
        "outputId": "c50b08a8-1df0-49a2-c183-76759db35eca"
      },
      "outputs": [
        {
          "data": {
            "text/plain": [
              "1355914417024"
            ]
          },
          "execution_count": 17,
          "metadata": {},
          "output_type": "execute_result"
        }
      ],
      "source": [
        "id(df1)"
      ]
    },
    {
      "cell_type": "code",
      "execution_count": null,
      "metadata": {
        "colab": {
          "base_uri": "https://localhost:8080/"
        },
        "id": "QQ-5aeytSJrF",
        "outputId": "1e3b046f-9420-4e74-e32c-29734a6803c5"
      },
      "outputs": [
        {
          "data": {
            "text/plain": [
              "1355914653120"
            ]
          },
          "execution_count": 18,
          "metadata": {},
          "output_type": "execute_result"
        }
      ],
      "source": [
        "id(df2)"
      ]
    },
    {
      "cell_type": "code",
      "execution_count": null,
      "metadata": {
        "colab": {
          "base_uri": "https://localhost:8080/"
        },
        "id": "LcH_zNRWSJ6o",
        "outputId": "0f3a4be3-a180-4d12-f920-7f5c1efe86b0"
      },
      "outputs": [
        {
          "data": {
            "text/plain": [
              "1355914417024"
            ]
          },
          "execution_count": 19,
          "metadata": {},
          "output_type": "execute_result"
        }
      ],
      "source": [
        "id(df3)"
      ]
    },
    {
      "cell_type": "code",
      "execution_count": null,
      "metadata": {
        "id": "SvADJwzmTAPi"
      },
      "outputs": [],
      "source": []
    },
    {
      "cell_type": "code",
      "execution_count": null,
      "metadata": {
        "id": "6XovbgP1SblQ"
      },
      "outputs": [],
      "source": []
    },
    {
      "cell_type": "code",
      "execution_count": null,
      "metadata": {
        "id": "Rc4n_CZaSKIu"
      },
      "outputs": [],
      "source": []
    },
    {
      "cell_type": "code",
      "execution_count": null,
      "metadata": {
        "id": "SyHbGrqcR78p"
      },
      "outputs": [],
      "source": [
        "x=34\n",
        "y=x"
      ]
    },
    {
      "cell_type": "code",
      "execution_count": null,
      "metadata": {
        "colab": {
          "base_uri": "https://localhost:8080/"
        },
        "id": "4_LYr01UR8Mg",
        "outputId": "53d05981-975f-482f-8335-ba12b9403931"
      },
      "outputs": [
        {
          "data": {
            "text/plain": [
              "34"
            ]
          },
          "execution_count": 21,
          "metadata": {},
          "output_type": "execute_result"
        }
      ],
      "source": [
        "x"
      ]
    },
    {
      "cell_type": "code",
      "execution_count": null,
      "metadata": {
        "colab": {
          "base_uri": "https://localhost:8080/"
        },
        "id": "yR-J3UguSCBt",
        "outputId": "50b0d40a-d92b-4c84-9892-bf3c1ffc3ac0"
      },
      "outputs": [
        {
          "data": {
            "text/plain": [
              "34"
            ]
          },
          "execution_count": 22,
          "metadata": {},
          "output_type": "execute_result"
        }
      ],
      "source": [
        "y"
      ]
    },
    {
      "cell_type": "code",
      "execution_count": null,
      "metadata": {
        "id": "Cyv_YsG8SCRO"
      },
      "outputs": [],
      "source": [
        "x=43"
      ]
    },
    {
      "cell_type": "code",
      "execution_count": null,
      "metadata": {
        "id": "Hm_oqqnySEbD"
      },
      "outputs": [],
      "source": []
    },
    {
      "cell_type": "code",
      "execution_count": null,
      "metadata": {
        "colab": {
          "base_uri": "https://localhost:8080/"
        },
        "id": "gN44GRR9RR7a",
        "outputId": "d4a8fab6-e451-4f6e-806c-a0bc9d38dc45"
      },
      "outputs": [
        {
          "data": {
            "text/plain": [
              "[11, 22, 33, 44]"
            ]
          },
          "execution_count": 24,
          "metadata": {},
          "output_type": "execute_result"
        }
      ],
      "source": [
        "df1"
      ]
    },
    {
      "cell_type": "code",
      "execution_count": null,
      "metadata": {
        "colab": {
          "base_uri": "https://localhost:8080/"
        },
        "id": "O_puZnXxRSEn",
        "outputId": "c31e6b31-aa5f-4f59-9bbd-f8df43eaa782"
      },
      "outputs": [
        {
          "data": {
            "text/plain": [
              "[11, 22, 33, 44]"
            ]
          },
          "execution_count": 25,
          "metadata": {},
          "output_type": "execute_result"
        }
      ],
      "source": [
        "df2"
      ]
    },
    {
      "cell_type": "code",
      "execution_count": null,
      "metadata": {
        "colab": {
          "base_uri": "https://localhost:8080/"
        },
        "id": "ZZUs3qOiRSSP",
        "outputId": "706b5629-f3e6-4a27-9cba-6d37c69b70d3"
      },
      "outputs": [
        {
          "data": {
            "text/plain": [
              "[11, 22, 33, 44]"
            ]
          },
          "execution_count": 26,
          "metadata": {},
          "output_type": "execute_result"
        }
      ],
      "source": [
        "df3"
      ]
    },
    {
      "cell_type": "code",
      "execution_count": null,
      "metadata": {
        "id": "H9Ge4pwPRd4a"
      },
      "outputs": [],
      "source": [
        "df1.append(89)"
      ]
    },
    {
      "cell_type": "code",
      "execution_count": null,
      "metadata": {
        "colab": {
          "base_uri": "https://localhost:8080/"
        },
        "id": "PqjBHO1vRhqJ",
        "outputId": "16d7983f-0c68-4fab-e078-0e48e78c4b6e"
      },
      "outputs": [
        {
          "data": {
            "text/plain": [
              "[11, 22, 33, 44, 89]"
            ]
          },
          "execution_count": 28,
          "metadata": {},
          "output_type": "execute_result"
        }
      ],
      "source": [
        "df1"
      ]
    },
    {
      "cell_type": "code",
      "execution_count": null,
      "metadata": {
        "colab": {
          "base_uri": "https://localhost:8080/"
        },
        "id": "peUM8WY5RiFM",
        "outputId": "bb66efbe-18c3-4fb1-ef14-c1bc3f3cef01"
      },
      "outputs": [
        {
          "data": {
            "text/plain": [
              "[11, 22, 33, 44]"
            ]
          },
          "execution_count": 29,
          "metadata": {},
          "output_type": "execute_result"
        }
      ],
      "source": [
        "df2"
      ]
    },
    {
      "cell_type": "code",
      "execution_count": null,
      "metadata": {
        "colab": {
          "base_uri": "https://localhost:8080/"
        },
        "id": "mDy8vYBgRnWB",
        "outputId": "366b8b90-2cce-48af-e5f6-642296ec269b"
      },
      "outputs": [
        {
          "data": {
            "text/plain": [
              "[11, 22, 33, 44, 89]"
            ]
          },
          "execution_count": 30,
          "metadata": {},
          "output_type": "execute_result"
        }
      ],
      "source": [
        "df3"
      ]
    },
    {
      "cell_type": "code",
      "execution_count": null,
      "metadata": {
        "id": "ZIqB_QV-RoBp"
      },
      "outputs": [],
      "source": [
        "df3.append(788)"
      ]
    },
    {
      "cell_type": "code",
      "execution_count": null,
      "metadata": {
        "colab": {
          "base_uri": "https://localhost:8080/"
        },
        "id": "N1tLfyUbR1Hv",
        "outputId": "44db37d0-cc92-45e6-b571-33db94246427"
      },
      "outputs": [
        {
          "data": {
            "text/plain": [
              "[11, 22, 33, 44, 89, 788]"
            ]
          },
          "execution_count": 32,
          "metadata": {},
          "output_type": "execute_result"
        }
      ],
      "source": [
        "df3"
      ]
    },
    {
      "cell_type": "code",
      "execution_count": null,
      "metadata": {
        "colab": {
          "base_uri": "https://localhost:8080/"
        },
        "id": "Wc_0e55CRxlC",
        "outputId": "2106bcb3-6c79-4e7e-a598-c5377d2e585d"
      },
      "outputs": [
        {
          "data": {
            "text/plain": [
              "[11, 22, 33, 44, 89, 788]"
            ]
          },
          "execution_count": 33,
          "metadata": {},
          "output_type": "execute_result"
        }
      ],
      "source": [
        "df1"
      ]
    },
    {
      "cell_type": "code",
      "execution_count": null,
      "metadata": {
        "colab": {
          "base_uri": "https://localhost:8080/"
        },
        "id": "26FOoQrURyPD",
        "outputId": "61493c4d-4973-4861-bba6-bfa883c2d6f0"
      },
      "outputs": [
        {
          "data": {
            "text/plain": [
              "[11, 22, 33, 44]"
            ]
          },
          "execution_count": 34,
          "metadata": {},
          "output_type": "execute_result"
        }
      ],
      "source": [
        "df2"
      ]
    },
    {
      "cell_type": "code",
      "execution_count": null,
      "metadata": {
        "id": "lutm0UDxRyv_"
      },
      "outputs": [],
      "source": []
    }
  ],
  "metadata": {
    "colab": {
      "provenance": []
    },
    "kernelspec": {
      "display_name": "Python 3",
      "name": "python3"
    },
    "language_info": {
      "codemirror_mode": {
        "name": "ipython",
        "version": 3
      },
      "file_extension": ".py",
      "mimetype": "text/x-python",
      "name": "python",
      "nbconvert_exporter": "python",
      "pygments_lexer": "ipython3",
      "version": "3.10.9"
    }
  },
  "nbformat": 4,
  "nbformat_minor": 0
}
